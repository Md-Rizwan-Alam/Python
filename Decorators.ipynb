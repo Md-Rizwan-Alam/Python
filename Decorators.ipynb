{
 "cells": [
  {
   "cell_type": "code",
   "execution_count": 1,
   "id": "224429d5-7444-4e08-9641-543084d71ee0",
   "metadata": {},
   "outputs": [],
   "source": [
    "def test() :\n",
    "    print(\"this is my fun to test\")"
   ]
  },
  {
   "cell_type": "code",
   "execution_count": 2,
   "id": "e44de477-b7d3-4e70-b5b8-6ae7653eacda",
   "metadata": {},
   "outputs": [
    {
     "name": "stdout",
     "output_type": "stream",
     "text": [
      "this is my fun to test\n"
     ]
    }
   ],
   "source": [
    "test()"
   ]
  },
  {
   "cell_type": "code",
   "execution_count": 3,
   "id": "d1fdef47-b7cb-4736-b408-022c92bf36e3",
   "metadata": {},
   "outputs": [],
   "source": [
    "def test() :\n",
    "    print(\"this is the start of my fun\")\n",
    "    print(\"this is my fun to test\")\n",
    "    print(\"this is the end of my fun\")"
   ]
  },
  {
   "cell_type": "code",
   "execution_count": 4,
   "id": "86d8ee37-909e-4bd8-a186-4ceb004a9f01",
   "metadata": {},
   "outputs": [
    {
     "name": "stdout",
     "output_type": "stream",
     "text": [
      "this is the start of my fun\n",
      "this is my fun to test\n",
      "this is the end of my fun\n"
     ]
    }
   ],
   "source": [
    "test()"
   ]
  },
  {
   "cell_type": "code",
   "execution_count": 5,
   "id": "ad18f546-b303-40e0-a9ef-2706e1e80ddb",
   "metadata": {},
   "outputs": [],
   "source": [
    "def test() :\n",
    "    print(\"this is the start of my fun\")\n",
    "    print(\"this is my fun to test\")\n",
    "    print(4+5)\n",
    "    print(\"this is the end of my fun\")"
   ]
  },
  {
   "cell_type": "code",
   "execution_count": 6,
   "id": "15193822-be8f-4926-a619-7a94b52991ff",
   "metadata": {},
   "outputs": [
    {
     "name": "stdout",
     "output_type": "stream",
     "text": [
      "this is the start of my fun\n",
      "this is my fun to test\n",
      "9\n",
      "this is the end of my fun\n"
     ]
    }
   ],
   "source": [
    "test()"
   ]
  },
  {
   "cell_type": "code",
   "execution_count": 7,
   "id": "ceac17c9-ce9a-4022-a2bc-2883118eb307",
   "metadata": {},
   "outputs": [],
   "source": [
    "def deco(func) :\n",
    "    def inner_dec() :\n",
    "            print(\"this is the start of my fun\")\n",
    "            func()\n",
    "            print(\"this is the end of my fun\")\n",
    "    return inner_dec\n"
   ]
  },
  {
   "cell_type": "code",
   "execution_count": 11,
   "id": "06e450df-db48-4dcb-943b-f9373f241e28",
   "metadata": {},
   "outputs": [],
   "source": [
    "def test1() :\n",
    "    print(6+7)"
   ]
  },
  {
   "cell_type": "code",
   "execution_count": 12,
   "id": "faf08665-392e-475b-bec4-7ca02b062b09",
   "metadata": {},
   "outputs": [
    {
     "name": "stdout",
     "output_type": "stream",
     "text": [
      "13\n"
     ]
    }
   ],
   "source": [
    "test1()"
   ]
  },
  {
   "cell_type": "code",
   "execution_count": 13,
   "id": "a858d37c-cd54-4b39-b74f-f9e9a019f123",
   "metadata": {},
   "outputs": [],
   "source": [
    "@deco\n",
    "def test1() :\n",
    "    print(6+7)"
   ]
  },
  {
   "cell_type": "code",
   "execution_count": 14,
   "id": "3c87ad03-a79a-4f79-a5ca-1b540550fffd",
   "metadata": {},
   "outputs": [
    {
     "name": "stdout",
     "output_type": "stream",
     "text": [
      "this is the start of my fun\n",
      "13\n",
      "this is the end of my fun\n"
     ]
    }
   ],
   "source": [
    "test1()"
   ]
  },
  {
   "cell_type": "code",
   "execution_count": 24,
   "id": "49a8c962-22dc-4dcb-85f3-79f7d6704bc9",
   "metadata": {},
   "outputs": [],
   "source": [
    "import time\n",
    "\n",
    "\n",
    "def timer_test(func) :\n",
    "    def timer_test_inner () :\n",
    "        start = time.time()\n",
    "        func()\n",
    "        end = time.time()\n",
    "        print(end - start)\n",
    "    return timer_test_inner"
   ]
  },
  {
   "cell_type": "code",
   "execution_count": 25,
   "id": "228e957d-332b-4b27-a009-789f849b4629",
   "metadata": {},
   "outputs": [],
   "source": [
    "def test2() :\n",
    "    print(45+78)"
   ]
  },
  {
   "cell_type": "code",
   "execution_count": 26,
   "id": "95b5ec34-7472-4ee6-b2e4-56afee1b1739",
   "metadata": {},
   "outputs": [
    {
     "name": "stdout",
     "output_type": "stream",
     "text": [
      "123\n"
     ]
    }
   ],
   "source": [
    "test2()"
   ]
  },
  {
   "cell_type": "code",
   "execution_count": 27,
   "id": "35ac0975-aa7b-43d1-ab8d-a56726f4c854",
   "metadata": {},
   "outputs": [],
   "source": [
    "@timer_test\n",
    "def test2() :\n",
    "    print(45+78)"
   ]
  },
  {
   "cell_type": "code",
   "execution_count": 28,
   "id": "43f2266d-82cc-46d6-ab99-985983dc70ec",
   "metadata": {},
   "outputs": [
    {
     "name": "stdout",
     "output_type": "stream",
     "text": [
      "123\n",
      "4.6253204345703125e-05\n"
     ]
    }
   ],
   "source": [
    "test2()"
   ]
  },
  {
   "cell_type": "code",
   "execution_count": 31,
   "id": "bde35fa0-c3e9-45b3-b138-f240ff475b77",
   "metadata": {},
   "outputs": [],
   "source": [
    "def test() :\n",
    "    for i in range(100000000) :\n",
    "        pass"
   ]
  },
  {
   "cell_type": "code",
   "execution_count": 38,
   "id": "479036c4-c326-4c62-96c6-499638a4bed8",
   "metadata": {},
   "outputs": [
    {
     "name": "stdout",
     "output_type": "stream",
     "text": [
      "2.4601354598999023\n"
     ]
    }
   ],
   "source": [
    "test()"
   ]
  },
  {
   "cell_type": "code",
   "execution_count": 39,
   "id": "fee11100-da1d-4c81-9bc4-2cfee68fc1b3",
   "metadata": {},
   "outputs": [],
   "source": [
    "@timer_test\n",
    "def test() :\n",
    "    for i in range(100000000) :\n",
    "        pass"
   ]
  },
  {
   "cell_type": "code",
   "execution_count": 40,
   "id": "4b2a32bb-56d1-4165-8201-e057e1f4566d",
   "metadata": {},
   "outputs": [
    {
     "name": "stdout",
     "output_type": "stream",
     "text": [
      "2.89906907081604\n"
     ]
    }
   ],
   "source": [
    "test()"
   ]
  }
 ],
 "metadata": {
  "kernelspec": {
   "display_name": "Python 3 (ipykernel)",
   "language": "python",
   "name": "python3"
  },
  "language_info": {
   "codemirror_mode": {
    "name": "ipython",
    "version": 3
   },
   "file_extension": ".py",
   "mimetype": "text/x-python",
   "name": "python",
   "nbconvert_exporter": "python",
   "pygments_lexer": "ipython3",
   "version": "3.10.8"
  }
 },
 "nbformat": 4,
 "nbformat_minor": 5
}
