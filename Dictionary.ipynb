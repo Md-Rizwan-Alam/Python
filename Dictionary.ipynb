{
 "cells": [
  {
   "cell_type": "code",
   "execution_count": 3,
   "id": "7dd9d21e-fa2a-454a-861c-e5cecd6c2a0e",
   "metadata": {},
   "outputs": [],
   "source": [
    "#Distionay Dapta type called dict as well"
   ]
  },
  {
   "cell_type": "code",
   "execution_count": 1,
   "id": "51c9d46d-4233-4b50-998d-98eb49c128d7",
   "metadata": {},
   "outputs": [],
   "source": [
    "a={}"
   ]
  },
  {
   "cell_type": "code",
   "execution_count": 2,
   "id": "c480c540-413e-44c8-854d-c04517f17416",
   "metadata": {},
   "outputs": [
    {
     "data": {
      "text/plain": [
       "dict"
      ]
     },
     "execution_count": 2,
     "metadata": {},
     "output_type": "execute_result"
    }
   ],
   "source": [
    "type(a)"
   ]
  },
  {
   "cell_type": "code",
   "execution_count": 4,
   "id": "65b8e50e-4aef-41ad-9779-73e6c75e866e",
   "metadata": {},
   "outputs": [],
   "source": [
    "a1={'key' : \"rizwan\"}"
   ]
  },
  {
   "cell_type": "code",
   "execution_count": 5,
   "id": "ca506671-38e3-4a55-b1dc-83f0be8429f5",
   "metadata": {},
   "outputs": [
    {
     "data": {
      "text/plain": [
       "{'key': 'rizwan'}"
      ]
     },
     "execution_count": 5,
     "metadata": {},
     "output_type": "execute_result"
    }
   ],
   "source": [
    "a1"
   ]
  },
  {
   "cell_type": "code",
   "execution_count": 6,
   "id": "87f460e3-6e54-49ee-a4a9-a404ca87a2f2",
   "metadata": {},
   "outputs": [],
   "source": [
    "a2={'name':'rizwan' , 'email':'rizwan@gmail.com' , 'number' : '987654321'}"
   ]
  },
  {
   "cell_type": "code",
   "execution_count": 7,
   "id": "c7bb6876-f68d-4904-9440-ffd803dc253c",
   "metadata": {},
   "outputs": [
    {
     "data": {
      "text/plain": [
       "{'name': 'rizwan', 'email': 'rizwan@gmail.com', 'number': '987654321'}"
      ]
     },
     "execution_count": 7,
     "metadata": {},
     "output_type": "execute_result"
    }
   ],
   "source": [
    "a2"
   ]
  },
  {
   "cell_type": "code",
   "execution_count": 8,
   "id": "c8ba78b0-ffbf-4cac-84ba-e6dba0b7db2e",
   "metadata": {},
   "outputs": [],
   "source": [
    "a3={123:'rizwan'}"
   ]
  },
  {
   "cell_type": "code",
   "execution_count": 9,
   "id": "8417c62e-de44-49a4-b863-91d1cac952e7",
   "metadata": {},
   "outputs": [
    {
     "data": {
      "text/plain": [
       "{123: 'rizwan'}"
      ]
     },
     "execution_count": 9,
     "metadata": {},
     "output_type": "execute_result"
    }
   ],
   "source": [
    "a3"
   ]
  },
  {
   "cell_type": "code",
   "execution_count": 10,
   "id": "f9fe7bad-b993-48ab-b21c-5593d800c4bd",
   "metadata": {},
   "outputs": [
    {
     "ename": "SyntaxError",
     "evalue": "invalid syntax (2730886686.py, line 1)",
     "output_type": "error",
     "traceback": [
      "\u001b[0;36m  Cell \u001b[0;32mIn[10], line 1\u001b[0;36m\u001b[0m\n\u001b[0;31m    a4={123:'riz' , @go : 'out'}\u001b[0m\n\u001b[0m                    ^\u001b[0m\n\u001b[0;31mSyntaxError\u001b[0m\u001b[0;31m:\u001b[0m invalid syntax\n"
     ]
    }
   ],
   "source": [
    "a4={123:'riz' , @go : 'out'}"
   ]
  },
  {
   "cell_type": "code",
   "execution_count": 11,
   "id": "d1874884-2433-422c-bc4e-fc5ed938c41c",
   "metadata": {},
   "outputs": [],
   "source": [
    "a5={123:'riz' , '@go' : 'out'}"
   ]
  },
  {
   "cell_type": "code",
   "execution_count": 12,
   "id": "5e206c13-e2e3-419a-b48a-092ef5b95e2d",
   "metadata": {},
   "outputs": [
    {
     "data": {
      "text/plain": [
       "{123: 'riz', '@go': 'out'}"
      ]
     },
     "execution_count": 12,
     "metadata": {},
     "output_type": "execute_result"
    }
   ],
   "source": [
    "a5"
   ]
  },
  {
   "cell_type": "code",
   "execution_count": 13,
   "id": "0d81ca6e-c31b-4ba9-be83-21d87220fa12",
   "metadata": {},
   "outputs": [],
   "source": [
    "a6={123:'riz' , '_wan':'out' , True:12345}"
   ]
  },
  {
   "cell_type": "code",
   "execution_count": 14,
   "id": "a7bf9b38-80c6-4b46-9d5f-2d0966dd6a8e",
   "metadata": {},
   "outputs": [
    {
     "data": {
      "text/plain": [
       "{123: 'riz', '_wan': 'out', True: 12345}"
      ]
     },
     "execution_count": 14,
     "metadata": {},
     "output_type": "execute_result"
    }
   ],
   "source": [
    "a6"
   ]
  },
  {
   "cell_type": "code",
   "execution_count": 16,
   "id": "59cd2a07-b58d-44f2-b7f0-e6d7b48a77b4",
   "metadata": {},
   "outputs": [
    {
     "data": {
      "text/plain": [
       "dict"
      ]
     },
     "execution_count": 16,
     "metadata": {},
     "output_type": "execute_result"
    }
   ],
   "source": [
    "type(a6)"
   ]
  },
  {
   "cell_type": "code",
   "execution_count": 17,
   "id": "e4a12faa-f11f-4fde-88c7-5d9026d8449c",
   "metadata": {},
   "outputs": [
    {
     "data": {
      "text/plain": [
       "'riz'"
      ]
     },
     "execution_count": 17,
     "metadata": {},
     "output_type": "execute_result"
    }
   ],
   "source": [
    "a6[123]"
   ]
  },
  {
   "cell_type": "code",
   "execution_count": 18,
   "id": "60ed2d52-49b2-4ebc-9d83-26958f5de026",
   "metadata": {},
   "outputs": [],
   "source": [
    "#you can get the value from the dict with keys"
   ]
  },
  {
   "cell_type": "code",
   "execution_count": 19,
   "id": "6cb1d7a4-a1d4-4dee-937b-ecda9af4a07b",
   "metadata": {},
   "outputs": [
    {
     "data": {
      "text/plain": [
       "12345"
      ]
     },
     "execution_count": 19,
     "metadata": {},
     "output_type": "execute_result"
    }
   ],
   "source": [
    "a6[True]"
   ]
  },
  {
   "cell_type": "code",
   "execution_count": 20,
   "id": "7dd3d549-5a4f-4b09-b661-9885d322dd17",
   "metadata": {},
   "outputs": [
    {
     "data": {
      "text/plain": [
       "12345"
      ]
     },
     "execution_count": 20,
     "metadata": {},
     "output_type": "execute_result"
    }
   ],
   "source": [
    "a6[1]"
   ]
  },
  {
   "cell_type": "code",
   "execution_count": 21,
   "id": "3c012f67-fcb7-49a8-9aec-d4fe20c95d25",
   "metadata": {},
   "outputs": [],
   "source": [
    "#we get same number cause True is = 1"
   ]
  },
  {
   "cell_type": "code",
   "execution_count": 22,
   "id": "7c8b24a7-5883-43df-8739-dbda2a8039bf",
   "metadata": {},
   "outputs": [],
   "source": [
    "b={'name':'riz' , 'mail_id':'riz@gmail.com', 'name':'rizwan'}"
   ]
  },
  {
   "cell_type": "code",
   "execution_count": 25,
   "id": "c01b2a64-efb5-436b-8d0c-c7b5b9e34c41",
   "metadata": {},
   "outputs": [
    {
     "data": {
      "text/plain": [
       "'rizwan'"
      ]
     },
     "execution_count": 25,
     "metadata": {},
     "output_type": "execute_result"
    }
   ],
   "source": [
    "b['name']"
   ]
  },
  {
   "cell_type": "code",
   "execution_count": 26,
   "id": "0cdccc04-252c-40dc-bee5-3422d89d2145",
   "metadata": {},
   "outputs": [],
   "source": [
    "#if we have same keys with different value and when you find the data with keys from dist, they provide you the last value from dist"
   ]
  },
  {
   "cell_type": "code",
   "execution_count": 27,
   "id": "bd9fff5b-ced3-49c8-a39d-441448b0078a",
   "metadata": {},
   "outputs": [],
   "source": [
    "b1={'company':'kaliber' , 'course':['web dev','python class','data science']}"
   ]
  },
  {
   "cell_type": "code",
   "execution_count": 28,
   "id": "7c550eae-e7ab-4f28-a5c3-34d067e5e7c7",
   "metadata": {},
   "outputs": [
    {
     "data": {
      "text/plain": [
       "{'company': 'kaliber', 'course': ['web dev', 'python class', 'data science']}"
      ]
     },
     "execution_count": 28,
     "metadata": {},
     "output_type": "execute_result"
    }
   ],
   "source": [
    "b1"
   ]
  },
  {
   "cell_type": "code",
   "execution_count": 29,
   "id": "0f3583bf-c48d-4e78-b15a-a65932beade1",
   "metadata": {},
   "outputs": [
    {
     "data": {
      "text/plain": [
       "['web dev', 'python class', 'data science']"
      ]
     },
     "execution_count": 29,
     "metadata": {},
     "output_type": "execute_result"
    }
   ],
   "source": [
    "b1['course']"
   ]
  },
  {
   "cell_type": "code",
   "execution_count": 30,
   "id": "e06ce81c-b42d-4de0-b413-e438ba5f0e1a",
   "metadata": {},
   "outputs": [
    {
     "data": {
      "text/plain": [
       "'data science'"
      ]
     },
     "execution_count": 30,
     "metadata": {},
     "output_type": "execute_result"
    }
   ],
   "source": [
    "b1['course'][2]"
   ]
  },
  {
   "cell_type": "code",
   "execution_count": 31,
   "id": "d553022c-a453-4c88-9f63-3483b16d2cfe",
   "metadata": {},
   "outputs": [],
   "source": [
    "#you can add list as well inside the dist"
   ]
  },
  {
   "cell_type": "code",
   "execution_count": 32,
   "id": "acb2c050-d3d4-4b03-b7c7-3e097a650b83",
   "metadata": {},
   "outputs": [],
   "source": [
    "#with the help of list indexing you can get the data from the list wich is inside the dist"
   ]
  },
  {
   "cell_type": "code",
   "execution_count": 33,
   "id": "5dbf7279-7a94-4a1e-94e4-0d2f009a000b",
   "metadata": {},
   "outputs": [
    {
     "data": {
      "text/plain": [
       "['web dev', 'python class', 'data science']"
      ]
     },
     "execution_count": 33,
     "metadata": {},
     "output_type": "execute_result"
    }
   ],
   "source": [
    "b1['course']"
   ]
  },
  {
   "cell_type": "code",
   "execution_count": 35,
   "id": "0ba33873-da1a-4b1b-af16-fbbc100cba78",
   "metadata": {},
   "outputs": [
    {
     "data": {
      "text/plain": [
       "'web dev'"
      ]
     },
     "execution_count": 35,
     "metadata": {},
     "output_type": "execute_result"
    }
   ],
   "source": [
    "b1['course'][0]"
   ]
  },
  {
   "cell_type": "code",
   "execution_count": 36,
   "id": "4a8f1fdb-635f-4d4c-b294-5efcf765168b",
   "metadata": {},
   "outputs": [],
   "source": [
    "b2={'number':[1,2,3,4,5] , 'assignment':(1,2,3,4,5,6) , 'lauch date':{25,12,14,16}}"
   ]
  },
  {
   "cell_type": "code",
   "execution_count": 37,
   "id": "350f84cf-bb2f-4b14-8710-1745f2e497b7",
   "metadata": {},
   "outputs": [],
   "source": [
    "#as a value you can you add list, tuple, set inside the disc. you can add dist inside the dist as well"
   ]
  },
  {
   "cell_type": "code",
   "execution_count": 38,
   "id": "546d5eb5-52e1-4574-9089-c3aa1cd557ef",
   "metadata": {},
   "outputs": [
    {
     "data": {
      "text/plain": [
       "{'number': [1, 2, 3, 4, 5],\n",
       " 'assignment': (1, 2, 3, 4, 5, 6),\n",
       " 'lauch date': {12, 14, 16, 25}}"
      ]
     },
     "execution_count": 38,
     "metadata": {},
     "output_type": "execute_result"
    }
   ],
   "source": [
    "b2"
   ]
  },
  {
   "cell_type": "code",
   "execution_count": 39,
   "id": "a2066255-dbe6-48c9-a35b-4b1569ae1417",
   "metadata": {},
   "outputs": [
    {
     "data": {
      "text/plain": [
       "dict"
      ]
     },
     "execution_count": 39,
     "metadata": {},
     "output_type": "execute_result"
    }
   ],
   "source": [
    "type(b2)"
   ]
  },
  {
   "cell_type": "code",
   "execution_count": 40,
   "id": "c79a9d5d-d1af-4f59-8a83-6e73b14a211a",
   "metadata": {},
   "outputs": [],
   "source": [
    "b3=b2={'number':[1,2,3,4,5] , 'assignment':(1,2,3,4,5,6) , 'lauch date':{25,12,14,16}, 'class timming':{'web dev':7 , 'java':'8', 'python':9}}"
   ]
  },
  {
   "cell_type": "code",
   "execution_count": 41,
   "id": "f34afc2e-9e8a-48d3-98b7-e880de8bed1c",
   "metadata": {},
   "outputs": [
    {
     "data": {
      "text/plain": [
       "{'number': [1, 2, 3, 4, 5],\n",
       " 'assignment': (1, 2, 3, 4, 5, 6),\n",
       " 'lauch date': {12, 14, 16, 25},\n",
       " 'class timming': {'web dev': 7, 'java': '8', 'python': 9}}"
      ]
     },
     "execution_count": 41,
     "metadata": {},
     "output_type": "execute_result"
    }
   ],
   "source": [
    "b3"
   ]
  },
  {
   "cell_type": "code",
   "execution_count": 42,
   "id": "c3bc6fa5-0865-4535-a36a-4333b66f68f7",
   "metadata": {},
   "outputs": [],
   "source": [
    "#as a value you can put anything inside dict"
   ]
  },
  {
   "cell_type": "code",
   "execution_count": 44,
   "id": "82478965-3697-43cc-a72e-49f300fbd516",
   "metadata": {},
   "outputs": [
    {
     "data": {
      "text/plain": [
       "{'web dev': 7, 'java': '8', 'python': 9}"
      ]
     },
     "execution_count": 44,
     "metadata": {},
     "output_type": "execute_result"
    }
   ],
   "source": [
    "b3['class timming']"
   ]
  },
  {
   "cell_type": "code",
   "execution_count": 45,
   "id": "3300b2b6-10f9-4a5b-9782-a94f45192fc7",
   "metadata": {},
   "outputs": [
    {
     "data": {
      "text/plain": [
       "9"
      ]
     },
     "execution_count": 45,
     "metadata": {},
     "output_type": "execute_result"
    }
   ],
   "source": [
    "b3['class timming']['python']"
   ]
  },
  {
   "cell_type": "code",
   "execution_count": 46,
   "id": "ea9bfbd2-126c-4fa5-a00c-3a48703a15b6",
   "metadata": {},
   "outputs": [],
   "source": [
    "#with this you can get the data"
   ]
  },
  {
   "cell_type": "code",
   "execution_count": 57,
   "id": "d78c46ca-1fab-49f0-ad39-0ed24785b41b",
   "metadata": {},
   "outputs": [],
   "source": [
    "#add value inside dist"
   ]
  },
  {
   "cell_type": "code",
   "execution_count": 47,
   "id": "6001b922-03d3-43ae-a543-44c42b16a496",
   "metadata": {},
   "outputs": [
    {
     "data": {
      "text/plain": [
       "{'number': [1, 2, 3, 4, 5],\n",
       " 'assignment': (1, 2, 3, 4, 5, 6),\n",
       " 'lauch date': {12, 14, 16, 25},\n",
       " 'class timming': {'web dev': 7, 'java': '8', 'python': 9}}"
      ]
     },
     "execution_count": 47,
     "metadata": {},
     "output_type": "execute_result"
    }
   ],
   "source": [
    "b3"
   ]
  },
  {
   "cell_type": "code",
   "execution_count": 48,
   "id": "ef7cb866-841f-4e7d-9884-9d52590e0848",
   "metadata": {},
   "outputs": [],
   "source": [
    "b3['mentor']=['sudh','krish','auragh','hayder']"
   ]
  },
  {
   "cell_type": "code",
   "execution_count": 49,
   "id": "8412d21b-cced-4bc6-b79d-d5a329af2924",
   "metadata": {},
   "outputs": [
    {
     "data": {
      "text/plain": [
       "{'number': [1, 2, 3, 4, 5],\n",
       " 'assignment': (1, 2, 3, 4, 5, 6),\n",
       " 'lauch date': {12, 14, 16, 25},\n",
       " 'class timming': {'web dev': 7, 'java': '8', 'python': 9},\n",
       " 'mentor': ['sudh', 'krish', 'auragh', 'hayder']}"
      ]
     },
     "execution_count": 49,
     "metadata": {},
     "output_type": "execute_result"
    }
   ],
   "source": [
    "b3"
   ]
  },
  {
   "cell_type": "code",
   "execution_count": 50,
   "id": "c01aa5a2-1816-485d-b6e4-a70722aa4659",
   "metadata": {},
   "outputs": [],
   "source": [
    "#with you can add new keys in dict, if keys are valailbale before this function just replace the value"
   ]
  },
  {
   "cell_type": "code",
   "execution_count": 51,
   "id": "a179cd2d-321b-43a8-941d-dcb1cb3fd477",
   "metadata": {},
   "outputs": [],
   "source": [
    "#example"
   ]
  },
  {
   "cell_type": "code",
   "execution_count": 52,
   "id": "a4a76839-83a4-4367-b1a7-b432c89960af",
   "metadata": {},
   "outputs": [
    {
     "data": {
      "text/plain": [
       "[1, 2, 3, 4, 5]"
      ]
     },
     "execution_count": 52,
     "metadata": {},
     "output_type": "execute_result"
    }
   ],
   "source": [
    "b3['number']"
   ]
  },
  {
   "cell_type": "code",
   "execution_count": 53,
   "id": "e0a0fdb9-2313-40a6-a52a-366d02911700",
   "metadata": {},
   "outputs": [],
   "source": [
    "b3['number']=[10,20,30,40,50]"
   ]
  },
  {
   "cell_type": "code",
   "execution_count": 54,
   "id": "bbd65e69-caee-4e0c-8667-6d18c3c44511",
   "metadata": {},
   "outputs": [
    {
     "data": {
      "text/plain": [
       "{'number': [10, 20, 30, 40, 50],\n",
       " 'assignment': (1, 2, 3, 4, 5, 6),\n",
       " 'lauch date': {12, 14, 16, 25},\n",
       " 'class timming': {'web dev': 7, 'java': '8', 'python': 9},\n",
       " 'mentor': ['sudh', 'krish', 'auragh', 'hayder']}"
      ]
     },
     "execution_count": 54,
     "metadata": {},
     "output_type": "execute_result"
    }
   ],
   "source": [
    "b3"
   ]
  },
  {
   "cell_type": "code",
   "execution_count": 55,
   "id": "311ce86a-c1e9-4fea-8bf2-8e295ebd4884",
   "metadata": {},
   "outputs": [
    {
     "data": {
      "text/plain": [
       "[10, 20, 30, 40, 50]"
      ]
     },
     "execution_count": 55,
     "metadata": {},
     "output_type": "execute_result"
    }
   ],
   "source": [
    "b3['number']"
   ]
  },
  {
   "cell_type": "code",
   "execution_count": 56,
   "id": "4bbe20c2-ca99-4d61-8f6b-b21b0b7faa01",
   "metadata": {},
   "outputs": [],
   "source": [
    "#delete value from dist"
   ]
  },
  {
   "cell_type": "code",
   "execution_count": 60,
   "id": "3b7b7761-92f4-49f6-a3e0-f1068c3c5dec",
   "metadata": {},
   "outputs": [
    {
     "data": {
      "text/plain": [
       "{'assignment': (1, 2, 3, 4, 5, 6),\n",
       " 'lauch date': {12, 14, 16, 25},\n",
       " 'class timming': {'web dev': 7, 'java': '8', 'python': 9},\n",
       " 'mentor': ['sudh', 'krish', 'auragh', 'hayder']}"
      ]
     },
     "execution_count": 60,
     "metadata": {},
     "output_type": "execute_result"
    }
   ],
   "source": [
    "b3"
   ]
  },
  {
   "cell_type": "code",
   "execution_count": 61,
   "id": "c5364dda-234d-472f-8399-4a2118fabfc6",
   "metadata": {},
   "outputs": [],
   "source": [
    "del b3['assignment']"
   ]
  },
  {
   "cell_type": "code",
   "execution_count": 62,
   "id": "2130deed-ce68-4d34-b521-805234be2e35",
   "metadata": {},
   "outputs": [
    {
     "data": {
      "text/plain": [
       "{'lauch date': {12, 14, 16, 25},\n",
       " 'class timming': {'web dev': 7, 'java': '8', 'python': 9},\n",
       " 'mentor': ['sudh', 'krish', 'auragh', 'hayder']}"
      ]
     },
     "execution_count": 62,
     "metadata": {},
     "output_type": "execute_result"
    }
   ],
   "source": [
    "b3"
   ]
  },
  {
   "cell_type": "code",
   "execution_count": 65,
   "id": "e5ff95d0-3751-4852-8078-d82f67646bd3",
   "metadata": {},
   "outputs": [],
   "source": [
    "#get list of keys in dict"
   ]
  },
  {
   "cell_type": "code",
   "execution_count": 66,
   "id": "5ea7b19f-246b-4742-9d38-9531cfeeb600",
   "metadata": {},
   "outputs": [
    {
     "data": {
      "text/plain": [
       "['lauch date', 'class timming', 'mentor']"
      ]
     },
     "execution_count": 66,
     "metadata": {},
     "output_type": "execute_result"
    }
   ],
   "source": [
    "list(b3.keys())"
   ]
  },
  {
   "cell_type": "code",
   "execution_count": 67,
   "id": "ecbd658f-755f-4533-afa3-07eb9e2a36cf",
   "metadata": {},
   "outputs": [
    {
     "data": {
      "text/plain": [
       "dict_keys(['lauch date', 'class timming', 'mentor'])"
      ]
     },
     "execution_count": 67,
     "metadata": {},
     "output_type": "execute_result"
    }
   ],
   "source": [
    "b3.keys()"
   ]
  },
  {
   "cell_type": "code",
   "execution_count": 69,
   "id": "9b16e78c-83b5-4807-acea-0e655bf3ce78",
   "metadata": {},
   "outputs": [
    {
     "data": {
      "text/plain": [
       "dict_values([{16, 25, 12, 14}, {'web dev': 7, 'java': '8', 'python': 9}, ['sudh', 'krish', 'auragh', 'hayder']])"
      ]
     },
     "execution_count": 69,
     "metadata": {},
     "output_type": "execute_result"
    }
   ],
   "source": [
    "b3.values()"
   ]
  },
  {
   "cell_type": "code",
   "execution_count": 70,
   "id": "0e43c612-c1c2-4526-bf2e-0c84a7d8d477",
   "metadata": {},
   "outputs": [
    {
     "data": {
      "text/plain": [
       "[{12, 14, 16, 25},\n",
       " {'web dev': 7, 'java': '8', 'python': 9},\n",
       " ['sudh', 'krish', 'auragh', 'hayder']]"
      ]
     },
     "execution_count": 70,
     "metadata": {},
     "output_type": "execute_result"
    }
   ],
   "source": [
    "list(b3.values())"
   ]
  },
  {
   "cell_type": "code",
   "execution_count": 71,
   "id": "ff574571-1782-4257-9b6d-b6c2ca39be40",
   "metadata": {},
   "outputs": [
    {
     "data": {
      "text/plain": [
       "dict_items([('lauch date', {16, 25, 12, 14}), ('class timming', {'web dev': 7, 'java': '8', 'python': 9}), ('mentor', ['sudh', 'krish', 'auragh', 'hayder'])])"
      ]
     },
     "execution_count": 71,
     "metadata": {},
     "output_type": "execute_result"
    }
   ],
   "source": [
    "b3.items()"
   ]
  },
  {
   "cell_type": "code",
   "execution_count": 73,
   "id": "e4cfe960-14f3-435a-996a-699ab666febd",
   "metadata": {},
   "outputs": [
    {
     "data": {
      "text/plain": [
       "[('lauch date', {12, 14, 16, 25}),\n",
       " ('class timming', {'web dev': 7, 'java': '8', 'python': 9}),\n",
       " ('mentor', ['sudh', 'krish', 'auragh', 'hayder'])]"
      ]
     },
     "execution_count": 73,
     "metadata": {},
     "output_type": "execute_result"
    }
   ],
   "source": [
    "list(b3.items())"
   ]
  },
  {
   "cell_type": "code",
   "execution_count": 74,
   "id": "4c5df1ab-b96e-4ee8-ad7f-89e6d8b5537d",
   "metadata": {},
   "outputs": [
    {
     "data": {
      "text/plain": [
       "list"
      ]
     },
     "execution_count": 74,
     "metadata": {},
     "output_type": "execute_result"
    }
   ],
   "source": [
    "type(list(b3.items()))"
   ]
  },
  {
   "cell_type": "code",
   "execution_count": 75,
   "id": "ba623fd6-58b2-44ed-8b86-1c0f504fb5fb",
   "metadata": {},
   "outputs": [
    {
     "data": {
      "text/plain": [
       "dict"
      ]
     },
     "execution_count": 75,
     "metadata": {},
     "output_type": "execute_result"
    }
   ],
   "source": [
    "type(b3)"
   ]
  },
  {
   "cell_type": "code",
   "execution_count": 77,
   "id": "1db95af9-0e0c-4734-8725-4fd8e951ade2",
   "metadata": {},
   "outputs": [],
   "source": [
    "#with help of pop you can remove data"
   ]
  },
  {
   "cell_type": "code",
   "execution_count": 80,
   "id": "4cec195c-82f1-4c10-8589-f6ca51812f3a",
   "metadata": {},
   "outputs": [
    {
     "data": {
      "text/plain": [
       "{12, 14, 16, 25}"
      ]
     },
     "execution_count": 80,
     "metadata": {},
     "output_type": "execute_result"
    }
   ],
   "source": [
    "b3.pop('lauch date')"
   ]
  },
  {
   "cell_type": "code",
   "execution_count": 81,
   "id": "3cd294c9-984e-482d-b682-09ea837f0087",
   "metadata": {},
   "outputs": [
    {
     "data": {
      "text/plain": [
       "{'class timming': {'web dev': 7, 'java': '8', 'python': 9},\n",
       " 'mentor': ['sudh', 'krish', 'auragh', 'hayder']}"
      ]
     },
     "execution_count": 81,
     "metadata": {},
     "output_type": "execute_result"
    }
   ],
   "source": [
    "b3"
   ]
  },
  {
   "cell_type": "code",
   "execution_count": 82,
   "id": "e6030b5e-f584-450c-8b3f-1ff307cfcb78",
   "metadata": {},
   "outputs": [],
   "source": [
    "#vulue of luch date is removed with help of pop, it worls as remove function"
   ]
  },
  {
   "cell_type": "code",
   "execution_count": 85,
   "id": "291566a1-763f-4610-a1f7-433164337b27",
   "metadata": {},
   "outputs": [
    {
     "ename": "TypeError",
     "evalue": "pop expected at least 1 argument, got 0",
     "output_type": "error",
     "traceback": [
      "\u001b[0;31m---------------------------------------------------------------------------\u001b[0m",
      "\u001b[0;31mTypeError\u001b[0m                                 Traceback (most recent call last)",
      "Cell \u001b[0;32mIn[85], line 1\u001b[0m\n\u001b[0;32m----> 1\u001b[0m \u001b[43mb3\u001b[49m\u001b[38;5;241;43m.\u001b[39;49m\u001b[43mpop\u001b[49m\u001b[43m(\u001b[49m\u001b[43m)\u001b[49m\n",
      "\u001b[0;31mTypeError\u001b[0m: pop expected at least 1 argument, got 0"
     ]
    }
   ],
   "source": [
    "b3.pop()"
   ]
  },
  {
   "cell_type": "code",
   "execution_count": 87,
   "id": "c89ab531-78be-42d7-bcdb-5cdc0c37e076",
   "metadata": {},
   "outputs": [],
   "source": [
    "#Dision making concept"
   ]
  },
  {
   "cell_type": "code",
   "execution_count": 97,
   "id": "38407a4c-87c7-4223-8c6b-d7a63d696eb0",
   "metadata": {},
   "outputs": [
    {
     "name": "stdout",
     "output_type": "stream",
     "text": [
      "you will be part of b batch\n"
     ]
    }
   ],
   "source": [
    "marks = 69\n",
    "if marks >= 80 :\n",
    "    print('you will be part of A batch')\n",
    "elif marks >= 60 and marks < 80 :\n",
    "    print('you will be part of b batch')\n",
    "elif marks >= 40 and marks < 60 :\n",
    "    print('you will be the part of c batch')\n",
    "else:\n",
    "    print('you will be the part of d batch')"
   ]
  },
  {
   "cell_type": "code",
   "execution_count": 106,
   "id": "45166f7e-2429-4768-9924-774dfdb68e97",
   "metadata": {},
   "outputs": [
    {
     "name": "stdin",
     "output_type": "stream",
     "text": [
      "enter your marks 75\n"
     ]
    },
    {
     "name": "stdout",
     "output_type": "stream",
     "text": [
      "you will be part of b batch\n"
     ]
    }
   ],
   "source": [
    "marks = int(input('enter your marks'))\n",
    "if marks >= 80 :\n",
    "    print('you will be part of A batch')\n",
    "elif marks >= 60 and marks < 80 :\n",
    "    print('you will be part of b batch')\n",
    "elif marks >= 40 and marks < 60 :\n",
    "    print('you will be the part of c batch')\n",
    "else:\n",
    "    print('you will be the part of d batch')"
   ]
  },
  {
   "cell_type": "code",
   "execution_count": 100,
   "id": "3b6d7879-5148-4904-b5c3-a9112e465197",
   "metadata": {},
   "outputs": [
    {
     "name": "stdin",
     "output_type": "stream",
     "text": [
      "enter your marks 45\n"
     ]
    }
   ],
   "source": [
    "marks = input('enter your marks')"
   ]
  },
  {
   "cell_type": "code",
   "execution_count": 101,
   "id": "674e5bc8-5aa6-4765-a267-091f62570a97",
   "metadata": {},
   "outputs": [
    {
     "data": {
      "text/plain": [
       "'45'"
      ]
     },
     "execution_count": 101,
     "metadata": {},
     "output_type": "execute_result"
    }
   ],
   "source": [
    "marks"
   ]
  },
  {
   "cell_type": "code",
   "execution_count": 102,
   "id": "f63d4f4e-efe6-4e12-83cb-959f9bd7122a",
   "metadata": {},
   "outputs": [
    {
     "data": {
      "text/plain": [
       "str"
      ]
     },
     "execution_count": 102,
     "metadata": {},
     "output_type": "execute_result"
    }
   ],
   "source": [
    "type(marks)"
   ]
  },
  {
   "cell_type": "code",
   "execution_count": 103,
   "id": "f326990a-0e44-47a1-8c5a-233234504876",
   "metadata": {},
   "outputs": [
    {
     "name": "stdin",
     "output_type": "stream",
     "text": [
      "enter your marks 45\n"
     ]
    }
   ],
   "source": [
    "marks = int(input('enter your marks'))"
   ]
  },
  {
   "cell_type": "code",
   "execution_count": 104,
   "id": "9f4d5f51-63a2-46b7-a5e1-ae507c8ddafe",
   "metadata": {},
   "outputs": [
    {
     "data": {
      "text/plain": [
       "int"
      ]
     },
     "execution_count": 104,
     "metadata": {},
     "output_type": "execute_result"
    }
   ],
   "source": [
    "type(marks)"
   ]
  },
  {
   "cell_type": "code",
   "execution_count": 107,
   "id": "14940cab-43c1-4a31-b23b-c721007a0b06",
   "metadata": {},
   "outputs": [
    {
     "data": {
      "text/plain": [
       "int"
      ]
     },
     "execution_count": 107,
     "metadata": {},
     "output_type": "execute_result"
    }
   ],
   "source": [
    "type(marks)"
   ]
  },
  {
   "cell_type": "code",
   "execution_count": 108,
   "id": "60ac0cf5-4411-4721-b6d3-ddc76ed6c1d0",
   "metadata": {},
   "outputs": [
    {
     "data": {
      "text/plain": [
       "75"
      ]
     },
     "execution_count": 108,
     "metadata": {},
     "output_type": "execute_result"
    }
   ],
   "source": [
    "marks"
   ]
  },
  {
   "cell_type": "code",
   "execution_count": 113,
   "id": "ade3c43e-dcc4-43b2-8c7c-ff52c8f2e878",
   "metadata": {},
   "outputs": [
    {
     "name": "stdin",
     "output_type": "stream",
     "text": [
      "enter you proce 750\n"
     ]
    },
    {
     "name": "stdout",
     "output_type": "stream",
     "text": [
      "I will purchase\n"
     ]
    }
   ],
   "source": [
    "price = int(input('enter you proce'))\n",
    "if price > 1000:\n",
    "    print('I will not purchase')\n",
    "else:\n",
    "    print('I will purchase')"
   ]
  },
  {
   "cell_type": "code",
   "execution_count": 114,
   "id": "7309c075-d902-4117-a671-a8b6dd42050c",
   "metadata": {},
   "outputs": [
    {
     "name": "stdin",
     "output_type": "stream",
     "text": [
      "enter you proce 750\n"
     ]
    }
   ],
   "source": [
    "price = int(input('enter you proce'))\n",
    "if price > 1000:\n",
    "    print('I will not purchase')"
   ]
  },
  {
   "cell_type": "code",
   "execution_count": 115,
   "id": "f53dc090-59f3-40e9-9746-957640c089fd",
   "metadata": {},
   "outputs": [
    {
     "name": "stdin",
     "output_type": "stream",
     "text": [
      "enter you proce 7000\n"
     ]
    },
    {
     "name": "stdout",
     "output_type": "stream",
     "text": [
      "I will not purchase\n",
      "price is too much\n"
     ]
    }
   ],
   "source": [
    "price = int(input('enter you proce'))\n",
    "if price > 1000:\n",
    "    print('I will not purchase')\n",
    "else:\n",
    "    print('I will purchase')\n",
    "if price >5000:\n",
    "    print('price is too much')"
   ]
  },
  {
   "cell_type": "code",
   "execution_count": 116,
   "id": "11d3a15a-e418-4bc4-aa8d-0bbdc006b756",
   "metadata": {},
   "outputs": [
    {
     "name": "stdin",
     "output_type": "stream",
     "text": [
      "enter you proce 4000\n"
     ]
    },
    {
     "name": "stdout",
     "output_type": "stream",
     "text": [
      "I will not purchase\n"
     ]
    }
   ],
   "source": [
    "price = int(input('enter you proce'))\n",
    "if price > 1000:\n",
    "    print('I will not purchase')\n",
    "else:\n",
    "    print('I will purchase')\n",
    "if price >5000:\n",
    "    print('price is too much')"
   ]
  },
  {
   "cell_type": "code",
   "execution_count": 120,
   "id": "3feb6ad7-acae-4fea-9d40-3e921ea8410a",
   "metadata": {},
   "outputs": [
    {
     "name": "stdin",
     "output_type": "stream",
     "text": [
      "enter you proce 1500\n"
     ]
    },
    {
     "name": "stdout",
     "output_type": "stream",
     "text": [
      "I will not purchase\n",
      "it is okay\n"
     ]
    }
   ],
   "source": [
    "price = int(input('enter you proce'))\n",
    "if price > 1000:\n",
    "    print('I will not purchase')\n",
    "else:\n",
    "    print('I will purchase')\n",
    "if price >5000:\n",
    "    print('price is too much')\n",
    "elif price<2000 :\n",
    "    print('it is okay')"
   ]
  },
  {
   "cell_type": "code",
   "execution_count": 121,
   "id": "43509a6e-5c7c-4dec-a52d-8f5a9a9949f0",
   "metadata": {},
   "outputs": [
    {
     "name": "stdin",
     "output_type": "stream",
     "text": [
      "enter you proce 1500\n"
     ]
    },
    {
     "name": "stdout",
     "output_type": "stream",
     "text": [
      "I will not purchase\n",
      "it is okay\n"
     ]
    }
   ],
   "source": [
    "price = int(input('enter you proce'))\n",
    "if price > 1000:\n",
    "    print('I will not purchase')\n",
    "else:\n",
    "    print('I will purchase')\n",
    "if price >5000:\n",
    "    print('price is too much')\n",
    "elif price<2000 :\n",
    "    print('it is okay')\n",
    "elif proce <1000:\n",
    "    print('I will purchase')"
   ]
  },
  {
   "cell_type": "code",
   "execution_count": 151,
   "id": "8a0c0842-5b06-4f8b-807f-eb19bc0e5c12",
   "metadata": {},
   "outputs": [],
   "source": [
    "d = [1,2,3,4,5,6,7,8,9]"
   ]
  },
  {
   "cell_type": "code",
   "execution_count": 126,
   "id": "9b4f4486-6676-46de-a14c-304e86df385d",
   "metadata": {},
   "outputs": [
    {
     "data": {
      "text/plain": [
       "[1, 2, 3, 4, 5, 6, 7, 8, 9]"
      ]
     },
     "execution_count": 126,
     "metadata": {},
     "output_type": "execute_result"
    }
   ],
   "source": [
    "d[::]"
   ]
  },
  {
   "cell_type": "code",
   "execution_count": 129,
   "id": "af35cf0d-911a-4877-8988-e593f087dafd",
   "metadata": {},
   "outputs": [
    {
     "data": {
      "text/plain": [
       "[1, 2, 3, 4, 5, 6, 7, 8, 9]"
      ]
     },
     "execution_count": 129,
     "metadata": {},
     "output_type": "execute_result"
    }
   ],
   "source": [
    "d[0:9]"
   ]
  },
  {
   "cell_type": "code",
   "execution_count": 131,
   "id": "eaaa5b88-7c8e-4eae-84dd-6f773e122bdb",
   "metadata": {},
   "outputs": [
    {
     "data": {
      "text/plain": [
       "1"
      ]
     },
     "execution_count": 131,
     "metadata": {},
     "output_type": "execute_result"
    }
   ],
   "source": [
    "d[0]"
   ]
  },
  {
   "cell_type": "code",
   "execution_count": 132,
   "id": "9a1a957d-cc33-4f5c-ab08-97822cb279b1",
   "metadata": {},
   "outputs": [
    {
     "data": {
      "text/plain": [
       "2"
      ]
     },
     "execution_count": 132,
     "metadata": {},
     "output_type": "execute_result"
    }
   ],
   "source": [
    "d[0] + 1"
   ]
  },
  {
   "cell_type": "code",
   "execution_count": 134,
   "id": "1f223339-9bba-4a9a-980c-5e793840f057",
   "metadata": {},
   "outputs": [
    {
     "data": {
      "text/plain": [
       "2"
      ]
     },
     "execution_count": 134,
     "metadata": {},
     "output_type": "execute_result"
    }
   ],
   "source": [
    "d[0] + 1"
   ]
  },
  {
   "cell_type": "code",
   "execution_count": 140,
   "id": "c35237cf-d84e-4957-8fac-4d3d915f2733",
   "metadata": {},
   "outputs": [],
   "source": [
    "d=[1]"
   ]
  },
  {
   "cell_type": "code",
   "execution_count": 144,
   "id": "f56abade-6e39-404e-8f4a-b08e4a393dc7",
   "metadata": {},
   "outputs": [
    {
     "data": {
      "text/plain": [
       "[1, 2, 3, 4, 5, 6, 7, 8, 9]"
      ]
     },
     "execution_count": 144,
     "metadata": {},
     "output_type": "execute_result"
    }
   ],
   "source": [
    "d"
   ]
  },
  {
   "cell_type": "code",
   "execution_count": 152,
   "id": "8531cb4b-abed-4b57-aa60-4dc64afad423",
   "metadata": {},
   "outputs": [
    {
     "data": {
      "text/plain": [
       "2"
      ]
     },
     "execution_count": 152,
     "metadata": {},
     "output_type": "execute_result"
    }
   ],
   "source": [
    "d[0]+1"
   ]
  },
  {
   "cell_type": "code",
   "execution_count": 153,
   "id": "6f540bad-bad8-43b5-9ff8-4f8ea80e0a1c",
   "metadata": {},
   "outputs": [],
   "source": [
    "d2 =[]"
   ]
  },
  {
   "cell_type": "code",
   "execution_count": 154,
   "id": "34c083a3-0383-4360-a2d6-781f62291922",
   "metadata": {},
   "outputs": [],
   "source": [
    "d2.append(d[0]+1)"
   ]
  },
  {
   "cell_type": "code",
   "execution_count": 155,
   "id": "46875290-60e9-4f16-823e-739de694e16c",
   "metadata": {},
   "outputs": [
    {
     "data": {
      "text/plain": [
       "[2]"
      ]
     },
     "execution_count": 155,
     "metadata": {},
     "output_type": "execute_result"
    }
   ],
   "source": [
    "d2"
   ]
  },
  {
   "cell_type": "code",
   "execution_count": 159,
   "id": "a4951873-2545-4638-ab29-d2f4c806206e",
   "metadata": {},
   "outputs": [],
   "source": [
    "#for loop and while loop"
   ]
  },
  {
   "cell_type": "code",
   "execution_count": 5,
   "id": "1500f329-1189-442d-8e8e-0b1b1d6685a4",
   "metadata": {},
   "outputs": [],
   "source": [
    "d = [1,2,3,4,5,6,7,8,9]"
   ]
  },
  {
   "cell_type": "code",
   "execution_count": null,
   "id": "88e81e65-c98e-4e6b-b9f1-1341d2298081",
   "metadata": {},
   "outputs": [],
   "source": []
  },
  {
   "cell_type": "code",
   "execution_count": 7,
   "id": "134f3c3f-ba92-4245-974e-be9469deca1e",
   "metadata": {},
   "outputs": [
    {
     "name": "stdout",
     "output_type": "stream",
     "text": [
      "1\n",
      "2\n",
      "3\n",
      "4\n",
      "5\n",
      "6\n",
      "7\n",
      "8\n",
      "9\n"
     ]
    }
   ],
   "source": [
    "for i in d:\n",
    "    print(i)"
   ]
  },
  {
   "cell_type": "code",
   "execution_count": 8,
   "id": "d1637040-59c6-4467-adfa-e346e4f1c4b6",
   "metadata": {},
   "outputs": [
    {
     "name": "stdout",
     "output_type": "stream",
     "text": [
      "2\n",
      "3\n",
      "4\n",
      "5\n",
      "6\n",
      "7\n",
      "8\n",
      "9\n",
      "10\n"
     ]
    }
   ],
   "source": [
    "for i in d:\n",
    "    print(i+1)"
   ]
  },
  {
   "cell_type": "code",
   "execution_count": null,
   "id": "cef4b3dc-c183-459b-9bce-93567e0aab5e",
   "metadata": {},
   "outputs": [
    {
     "name": "stdout",
     "output_type": "stream",
     "text": [
      "1\n",
      "2\n",
      "3\n",
      "4\n",
      "5\n",
      "6\n",
      "7\n",
      "8\n",
      "9\n"
     ]
    }
   ],
   "source": [
    "for i in d:\n",
    "    print(i)"
   ]
  },
  {
   "cell_type": "code",
   "execution_count": null,
   "id": "dd6c0a98-2ec2-4d79-bf95-5a09f431609d",
   "metadata": {},
   "outputs": [
    {
     "name": "stdout",
     "output_type": "stream",
     "text": [
      "2\n",
      "3\n",
      "4\n",
      "5\n",
      "6\n",
      "7\n",
      "8\n",
      "9\n",
      "10\n"
     ]
    }
   ],
   "source": [
    "d2 =[]\n",
    "for i in d:\n",
    "    print(i+1)"
   ]
  },
  {
   "cell_type": "code",
   "execution_count": null,
   "id": "cbe095de-e91a-4d33-910f-464a6004d96a",
   "metadata": {},
   "outputs": [],
   "source": [
    "d3 =[10,20,30,40,50,60]"
   ]
  },
  {
   "cell_type": "code",
   "execution_count": 24,
   "id": "0266f303-f8f9-4cb9-aae7-0a6eb65324e0",
   "metadata": {},
   "outputs": [
    {
     "data": {
      "text/plain": [
       "[]"
      ]
     },
     "execution_count": 24,
     "metadata": {},
     "output_type": "execute_result"
    }
   ],
   "source": [
    "d2 =[]\n",
    "for i in d3:\n",
    "    print(i+1)\n",
    "    d3.append(i)\n",
    "d2"
   ]
  },
  {
   "cell_type": "code",
   "execution_count": 2,
   "id": "7e5008a1-5af3-4c86-aedc-c906f4beae6a",
   "metadata": {},
   "outputs": [],
   "source": [
    "e = [1,2,3,4,5,6,7,8,9]"
   ]
  },
  {
   "cell_type": "code",
   "execution_count": 3,
   "id": "c4a754b2-b7a0-4daf-a0c3-4fa2307921ad",
   "metadata": {},
   "outputs": [
    {
     "data": {
      "text/plain": [
       "[1, 2, 3, 4, 5, 6, 7, 8, 9]"
      ]
     },
     "execution_count": 3,
     "metadata": {},
     "output_type": "execute_result"
    }
   ],
   "source": [
    "e"
   ]
  },
  {
   "cell_type": "code",
   "execution_count": 4,
   "id": "cda7f26e-46da-47ba-b08d-bde48c6715ce",
   "metadata": {},
   "outputs": [
    {
     "name": "stdout",
     "output_type": "stream",
     "text": [
      "1\n",
      "2\n",
      "3\n",
      "4\n",
      "5\n",
      "6\n",
      "7\n",
      "8\n",
      "9\n"
     ]
    }
   ],
   "source": [
    "for i in e:\n",
    "    print(i)"
   ]
  },
  {
   "cell_type": "code",
   "execution_count": 6,
   "id": "ede6ecf5-aef0-4a0b-8401-ef10fad0f3ea",
   "metadata": {},
   "outputs": [
    {
     "name": "stdout",
     "output_type": "stream",
     "text": [
      "2\n",
      "3\n",
      "4\n",
      "5\n",
      "6\n",
      "7\n",
      "8\n",
      "9\n",
      "10\n"
     ]
    }
   ],
   "source": [
    "for i in e:\n",
    "    print(i+1)"
   ]
  },
  {
   "cell_type": "code",
   "execution_count": 2,
   "id": "10ea9a5d-a476-4e82-b425-68375bc1beb4",
   "metadata": {},
   "outputs": [],
   "source": [
    "a=[1,2,3,4,5,6,7]"
   ]
  },
  {
   "cell_type": "code",
   "execution_count": 3,
   "id": "4676cebe-f195-4339-9da8-0475e891a3a6",
   "metadata": {},
   "outputs": [
    {
     "name": "stdout",
     "output_type": "stream",
     "text": [
      "1\n",
      "2\n",
      "3\n",
      "4\n",
      "5\n",
      "6\n",
      "7\n"
     ]
    }
   ],
   "source": [
    "for i in a:\n",
    "    print(i)"
   ]
  },
  {
   "cell_type": "code",
   "execution_count": null,
   "id": "e92b110f-5478-451d-8eba-8383d597cc4e",
   "metadata": {},
   "outputs": [],
   "source": [
    "for i in a:\n",
    "    print(i+1)"
   ]
  },
  {
   "cell_type": "code",
   "execution_count": null,
   "id": "b8f24b4a-a3c0-4a82-890d-bf3223ebdf06",
   "metadata": {},
   "outputs": [],
   "source": [
    "l=[1,2,3,4,5,6,7,8]"
   ]
  },
  {
   "cell_type": "code",
   "execution_count": 2,
   "id": "c80d33ba-079e-47cf-81f9-f9900a62c5d1",
   "metadata": {},
   "outputs": [
    {
     "data": {
      "text/plain": [
       "2"
      ]
     },
     "execution_count": 2,
     "metadata": {},
     "output_type": "execute_result"
    }
   ],
   "source": [
    "l[0]+1"
   ]
  },
  {
   "cell_type": "code",
   "execution_count": 3,
   "id": "a92f143c-6a2b-4346-a17e-80f4dbe7470a",
   "metadata": {},
   "outputs": [],
   "source": [
    "l1=[]"
   ]
  },
  {
   "cell_type": "code",
   "execution_count": 4,
   "id": "6a4cf03f-25ec-4f6f-9ff0-ba8c76e53989",
   "metadata": {},
   "outputs": [],
   "source": [
    "l1.append(l[0]+1)"
   ]
  },
  {
   "cell_type": "code",
   "execution_count": 5,
   "id": "f91d2ac1-6072-4480-9a99-324c21844a58",
   "metadata": {},
   "outputs": [
    {
     "data": {
      "text/plain": [
       "[2]"
      ]
     },
     "execution_count": 5,
     "metadata": {},
     "output_type": "execute_result"
    }
   ],
   "source": [
    "l1"
   ]
  },
  {
   "cell_type": "code",
   "execution_count": 6,
   "id": "11b5c9f3-6fe5-42f7-a91a-248841b09084",
   "metadata": {},
   "outputs": [],
   "source": [
    "l=[1,2,3,4,5,6,7,8]"
   ]
  },
  {
   "cell_type": "code",
   "execution_count": 9,
   "id": "8f9388fc-8509-4258-a1ea-1025654341e6",
   "metadata": {},
   "outputs": [
    {
     "name": "stdout",
     "output_type": "stream",
     "text": [
      "2\n",
      "3\n",
      "4\n",
      "5\n",
      "6\n",
      "7\n",
      "8\n",
      "9\n"
     ]
    },
    {
     "data": {
      "text/plain": [
       "[2, 3, 4, 5, 6, 7, 8, 9]"
      ]
     },
     "execution_count": 9,
     "metadata": {},
     "output_type": "execute_result"
    }
   ],
   "source": [
    "l1=[]\n",
    "for i in l:\n",
    "    print(i+1)\n",
    "    l1.append(i+1)\n",
    "l1"
   ]
  },
  {
   "cell_type": "code",
   "execution_count": 10,
   "id": "60742f5d-9c9d-4530-ad35-075395a43275",
   "metadata": {},
   "outputs": [],
   "source": [
    "#with the help of append you can add number in int which is in list and get the result in list"
   ]
  },
  {
   "cell_type": "code",
   "execution_count": null,
   "id": "eb484059-54d5-4ee7-9f87-2b27c76bc9fe",
   "metadata": {},
   "outputs": [],
   "source": []
  },
  {
   "cell_type": "code",
   "execution_count": null,
   "id": "1f43e250-f10b-4c36-8f90-4946caf1ed8d",
   "metadata": {},
   "outputs": [],
   "source": [
    "#make upper to lower case"
   ]
  },
  {
   "cell_type": "code",
   "execution_count": 11,
   "id": "1db07ae6-c821-4630-83af-492c5c746946",
   "metadata": {},
   "outputs": [],
   "source": [
    "l=['rizwan', 'india','pwskill','course''khan']"
   ]
  },
  {
   "cell_type": "code",
   "execution_count": 12,
   "id": "83b6cdda-8c07-4cbe-bc80-b6d95e3861fb",
   "metadata": {},
   "outputs": [
    {
     "name": "stdout",
     "output_type": "stream",
     "text": [
      "rizwan\n",
      "india\n",
      "pwskill\n",
      "coursekhan\n"
     ]
    }
   ],
   "source": [
    "for i in l:\n",
    "    print(i)"
   ]
  },
  {
   "cell_type": "code",
   "execution_count": 13,
   "id": "6fc21f6d-dede-477b-9a91-b100a99c934e",
   "metadata": {},
   "outputs": [
    {
     "name": "stdout",
     "output_type": "stream",
     "text": [
      "rizwan\n",
      "india\n",
      "pwskill\n",
      "coursekhan\n"
     ]
    }
   ],
   "source": [
    "l1=[]\n",
    "for i in l:\n",
    "    print(i)\n",
    "    l1.append(i.upper())"
   ]
  },
  {
   "cell_type": "code",
   "execution_count": 14,
   "id": "c8bff9e3-8c39-405d-8dc7-c00dd6d4d094",
   "metadata": {},
   "outputs": [
    {
     "data": {
      "text/plain": [
       "['RIZWAN', 'INDIA', 'PWSKILL', 'COURSEKHAN']"
      ]
     },
     "execution_count": 14,
     "metadata": {},
     "output_type": "execute_result"
    }
   ],
   "source": [
    "l1"
   ]
  },
  {
   "cell_type": "code",
   "execution_count": 15,
   "id": "4007a8b8-7d52-45e9-a9e9-cc7fc88b4899",
   "metadata": {},
   "outputs": [],
   "source": [
    "l=[1,2,3,4,4,'rizwa', 'khan', 245, 2.34, 'abc']"
   ]
  },
  {
   "cell_type": "code",
   "execution_count": 17,
   "id": "4f1d0094-f108-4f24-90f2-6e193d216b07",
   "metadata": {},
   "outputs": [],
   "source": [
    "#create 2 seprate list, in one list should be int and one str"
   ]
  },
  {
   "cell_type": "code",
   "execution_count": 18,
   "id": "3c1b66a7-521f-4108-95be-4797fc89cf5a",
   "metadata": {},
   "outputs": [],
   "source": [
    "l1_int=[]\n",
    "l2_str=[]\n",
    "for i in l:\n",
    "    if type(i) == int or type(i) == float:\n",
    "        l1_int.append(i)\n",
    "    else:\n",
    "        l2_str.append(i)\n"
   ]
  },
  {
   "cell_type": "code",
   "execution_count": 19,
   "id": "d5cb7319-bb54-4875-ad72-7d57594ac787",
   "metadata": {},
   "outputs": [
    {
     "data": {
      "text/plain": [
       "[1, 2, 3, 4, 4, 245, 2.34]"
      ]
     },
     "execution_count": 19,
     "metadata": {},
     "output_type": "execute_result"
    }
   ],
   "source": [
    "l1_int"
   ]
  },
  {
   "cell_type": "code",
   "execution_count": 20,
   "id": "042ccbb6-eacd-41a3-8974-9f8c994a518f",
   "metadata": {},
   "outputs": [
    {
     "data": {
      "text/plain": [
       "['rizwa', 'khan', 'abc']"
      ]
     },
     "execution_count": 20,
     "metadata": {},
     "output_type": "execute_result"
    }
   ],
   "source": [
    "l2_str"
   ]
  }
 ],
 "metadata": {
  "kernelspec": {
   "display_name": "Python 3 (ipykernel)",
   "language": "python",
   "name": "python3"
  },
  "language_info": {
   "codemirror_mode": {
    "name": "ipython",
    "version": 3
   },
   "file_extension": ".py",
   "mimetype": "text/x-python",
   "name": "python",
   "nbconvert_exporter": "python",
   "pygments_lexer": "ipython3",
   "version": "3.10.8"
  }
 },
 "nbformat": 4,
 "nbformat_minor": 5
}
