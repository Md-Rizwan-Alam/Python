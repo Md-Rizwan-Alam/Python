{
 "cells": [
  {
   "cell_type": "markdown",
   "id": "bc8961dc-f507-4f6a-a2dd-a3998b28c7b3",
   "metadata": {},
   "source": [
    "Constructor:"
   ]
  },
  {
   "cell_type": "code",
   "execution_count": 1,
   "id": "f89573c2-2528-4367-9442-a7f2a69f181e",
   "metadata": {},
   "outputs": [],
   "source": [
    "#1. What is a constructor in Python? Explain its purpose and usage."
   ]
  },
  {
   "cell_type": "markdown",
   "id": "c5168079-b300-4af3-9ed3-2901cbda3912",
   "metadata": {},
   "source": [
    "In Python, a constructor is a special method that is automatically called when an object of a class is created."
   ]
  },
  {
   "cell_type": "markdown",
   "id": "317910d4-34e2-4595-b719-4627f03ac2ee",
   "metadata": {},
   "source": [
    "Purpose:\n",
    "\n",
    "Initialization: Constructors initialize the attributes of an object, setting their initial values.\n",
    "State Management: They help set up the initial state of the object, ensuring it's ready for use.\n",
    "Customization: Constructors can take arguments, allowing you to customize object initialization based on specific values provided at the time of creation.\n",
    "Automatic Execution: Constructors are automatically invoked when an object is created, so you don't need to call them explicitly.\n",
    "Usage:\n",
    "To define a constructor in a Python class, you create a method named __init__. This method can accept parameters (besides the self parameter, which refers to the object being created) to initialize the object's"
   ]
  },
  {
   "cell_type": "code",
   "execution_count": 3,
   "id": "7a2cc79d-5582-4e0f-9644-366819201196",
   "metadata": {},
   "outputs": [
    {
     "name": "stdout",
     "output_type": "stream",
     "text": [
      "My car is a 2016 Hyundai EON\n"
     ]
    }
   ],
   "source": [
    "class Car:\n",
    "    def __init__(self, make, model, year):\n",
    "        # Initialize object attributes\n",
    "        self.make = make\n",
    "        self.model = model\n",
    "        self.year = year\n",
    "\n",
    "# Creating an instance of the Car class with the constructor\n",
    "my_car = Car(\"Hyundai\", \"EON\", 2016)\n",
    "\n",
    "# Accessing object attributes\n",
    "print(f\"My car is a {my_car.year} {my_car.make} {my_car.model}\")\n"
   ]
  },
  {
   "cell_type": "code",
   "execution_count": null,
   "id": "595ce663-5c19-4e8b-a4e4-4ead75094512",
   "metadata": {},
   "outputs": [],
   "source": []
  },
  {
   "cell_type": "code",
   "execution_count": 4,
   "id": "e430fec4-19f5-4dd4-a6cd-0336465cccbb",
   "metadata": {},
   "outputs": [],
   "source": [
    "#2. Differentiate between a parameterless constructor and a parameterized constructor in Python."
   ]
  },
  {
   "cell_type": "markdown",
   "id": "5d2e5647-dfd4-46c7-b193-091915201705",
   "metadata": {},
   "source": [
    "Parameterless Constructor: A parameterless constructor is a constructor that takes no additional parameters, except for the self parameter, which refers to the object being created."
   ]
  },
  {
   "cell_type": "code",
   "execution_count": 5,
   "id": "9ae6b5ad-fa92-42f6-9d8f-baf9192b3127",
   "metadata": {},
   "outputs": [],
   "source": [
    "class ParameterlessExample:\n",
    "    def __init__(self):\n",
    "        self.default_value = 42\n"
   ]
  },
  {
   "cell_type": "markdown",
   "id": "8f2f877f-5cb4-46a5-8114-87f7bb9c1a31",
   "metadata": {},
   "source": [
    "Parameterized Constructor: A parameterized constructor, also known as an argument-accepting constructor, is a constructor that accepts additional parameters, besides the self parameter"
   ]
  },
  {
   "cell_type": "code",
   "execution_count": 6,
   "id": "fedf884a-f2cb-4cb6-b3bd-9a306156f863",
   "metadata": {},
   "outputs": [],
   "source": [
    "class ParameterizedExample:\n",
    "    def __init__(self, value):\n",
    "        self.custom_value = value\n"
   ]
  },
  {
   "cell_type": "code",
   "execution_count": null,
   "id": "653a2a72-71a5-40eb-ac3c-703612c9ee98",
   "metadata": {},
   "outputs": [],
   "source": []
  },
  {
   "cell_type": "code",
   "execution_count": 7,
   "id": "00173f21-dd90-481e-ba10-5e96053a7ede",
   "metadata": {},
   "outputs": [],
   "source": [
    "#How do you define a constructor in a Python class? Provide an example."
   ]
  },
  {
   "cell_type": "code",
   "execution_count": 9,
   "id": "07f27464-6e0e-4edd-9adc-ed6c0d1034dc",
   "metadata": {},
   "outputs": [
    {
     "name": "stdout",
     "output_type": "stream",
     "text": [
      "Name: Rizwan, Age: 31\n"
     ]
    }
   ],
   "source": [
    "class Person:\n",
    "    def __init__(self, name, age):\n",
    "        # Initialize object attributes\n",
    "        self.name = name\n",
    "        self.age = age\n",
    "\n",
    "# Creating an instance of the Person class with the constructor\n",
    "person1 = Person(\"Rizwan\", 31)\n",
    "\n",
    "# Accessing object attributes\n",
    "print(f\"Name: {person1.name}, Age: {person1.age}\")\n"
   ]
  },
  {
   "cell_type": "code",
   "execution_count": null,
   "id": "00cc6a76-b67d-4607-a698-2e0371d4ecd3",
   "metadata": {},
   "outputs": [],
   "source": []
  },
  {
   "cell_type": "code",
   "execution_count": 10,
   "id": "da47d769-3b51-42be-adc9-0c61a06c3d29",
   "metadata": {},
   "outputs": [],
   "source": [
    "#4. Explain the `__init__` method in Python and its role in constructors."
   ]
  },
  {
   "cell_type": "markdown",
   "id": "31a449fa-0fe8-4d77-b18d-f993d0bb8f88",
   "metadata": {},
   "source": [
    "The __init__ method is the primary constructor in Python. It defines how object instances of a class are created and initialized.\n",
    "By customizing the __init__ method, you can control how objects are set up, ensuring they start with the desired initial state."
   ]
  },
  {
   "cell_type": "code",
   "execution_count": 11,
   "id": "df718e13-c68d-42f8-90b8-2f0a49ef30eb",
   "metadata": {},
   "outputs": [
    {
     "name": "stdout",
     "output_type": "stream",
     "text": [
      "Name: Rizwan, Age: 31\n"
     ]
    }
   ],
   "source": [
    "class Person:\n",
    "    def __init__(self, name, age):\n",
    "        # Initialize object attributes\n",
    "        self.name = name\n",
    "        self.age = age\n",
    "\n",
    "# Creating an instance of the Person class with the constructor\n",
    "person1 = Person(\"Rizwan\", 31)\n",
    "\n",
    "# Accessing object attributes\n",
    "print(f\"Name: {person1.name}, Age: {person1.age}\")\n"
   ]
  },
  {
   "cell_type": "code",
   "execution_count": null,
   "id": "f5b7689c-7438-4849-a829-4e16a30a9f0e",
   "metadata": {},
   "outputs": [],
   "source": []
  },
  {
   "cell_type": "code",
   "execution_count": 12,
   "id": "1d7c4be3-e89c-4485-9092-91b0ebbfa526",
   "metadata": {},
   "outputs": [],
   "source": [
    "#5. In a class named `Person`, create a constructor that initializes the `name` and `age` attributes. Provide an example of creating an object of this class."
   ]
  },
  {
   "cell_type": "code",
   "execution_count": 13,
   "id": "65daf8e1-8b7e-4999-ab21-eae33def426b",
   "metadata": {},
   "outputs": [
    {
     "name": "stdout",
     "output_type": "stream",
     "text": [
      "Name: Rizwan, Age: 31\n"
     ]
    }
   ],
   "source": [
    "class Person:\n",
    "    def __init__(self, name, age):\n",
    "        # Initialize object attributes\n",
    "        self.name = name\n",
    "        self.age = age\n",
    "\n",
    "# Creating an instance of the Person class with the constructor\n",
    "person1 = Person(\"Rizwan\", 31)\n",
    "\n",
    "# Accessing object attributes\n",
    "print(f\"Name: {person1.name}, Age: {person1.age}\")\n"
   ]
  },
  {
   "cell_type": "code",
   "execution_count": null,
   "id": "322b0371-9c13-43d8-9bad-52f84e5bf3bf",
   "metadata": {},
   "outputs": [],
   "source": []
  },
  {
   "cell_type": "code",
   "execution_count": 14,
   "id": "7947c4a0-8f1d-4b6d-9985-f8c1a281c285",
   "metadata": {},
   "outputs": [],
   "source": [
    "#6. How can you call a constructor explicitly in Python? Give an example."
   ]
  },
  {
   "cell_type": "markdown",
   "id": "d7aca2be-703f-428b-a99b-4abf5ae9f235",
   "metadata": {},
   "source": [
    "In Python, constructors are typically called automatically when you create an instance of a class. You don't need to call them explicitly; Python handles this for you. However, if you want to call a constructor explicitly for some reason, you can do so using the class name. "
   ]
  },
  {
   "cell_type": "code",
   "execution_count": 15,
   "id": "74723e8c-eade-40ca-8e73-35f4dabc02d8",
   "metadata": {},
   "outputs": [
    {
     "name": "stdout",
     "output_type": "stream",
     "text": [
      "Name: Khan, Age: 31\n"
     ]
    }
   ],
   "source": [
    "class Person:\n",
    "    def __init__(self, name, age):\n",
    "        self.name = name\n",
    "        self.age = age\n",
    "\n",
    "# Explicitly calling the constructor\n",
    "person2 = Person.__new__(Person)\n",
    "Person.__init__(person2, \"Khan\", 31)\n",
    "\n",
    "# Accessing object attributes\n",
    "print(f\"Name: {person2.name}, Age: {person2.age}\")\n"
   ]
  },
  {
   "cell_type": "code",
   "execution_count": null,
   "id": "4ad6ad3b-b33a-41a1-aed2-ac0367b0b8c4",
   "metadata": {},
   "outputs": [],
   "source": []
  },
  {
   "cell_type": "code",
   "execution_count": 16,
   "id": "f42f85a8-9d6a-47fa-abf0-f23e01f1fc7b",
   "metadata": {},
   "outputs": [],
   "source": [
    "#7. What is the significance of the `self` parameter in Python constructors? Explain with an example."
   ]
  },
  {
   "cell_type": "markdown",
   "id": "c0db6bfa-9126-4c49-926f-b08e2c88f176",
   "metadata": {},
   "source": [
    "The self parameter in Python constructors (and in methods of a class) is a reference to the instance of the class that is being created or operated upon. It is a convention in Python to name this parameter self, although you can technically use any name you like. The self parameter allows you to access and manipulate the attributes and methods of the object within the class.\n",
    "\n"
   ]
  },
  {
   "cell_type": "code",
   "execution_count": 17,
   "id": "f5f81798-6b41-4b53-ae31-6f20faf557bd",
   "metadata": {},
   "outputs": [
    {
     "name": "stdout",
     "output_type": "stream",
     "text": [
      "Name: Rizwan, Age: 31\n",
      "My name is Rizwan and I am 31 years old.\n"
     ]
    }
   ],
   "source": [
    "class Person:\n",
    "    def __init__(self, name, age):\n",
    "        # Initialize object attributes\n",
    "        self.name = name\n",
    "        self.age = age\n",
    "\n",
    "    def introduce(self):\n",
    "        print(f\"My name is {self.name} and I am {self.age} years old.\")\n",
    "\n",
    "# Creating an instance of the Person class\n",
    "person1 = Person(\"Rizwan\", 31)\n",
    "\n",
    "# Accessing object attributes and calling a method using 'self'\n",
    "print(f\"Name: {person1.name}, Age: {person1.age}\")\n",
    "person1.introduce()\n"
   ]
  },
  {
   "cell_type": "code",
   "execution_count": null,
   "id": "5dd6cb71-76e2-44b8-903f-0787c62b5695",
   "metadata": {},
   "outputs": [],
   "source": []
  },
  {
   "cell_type": "code",
   "execution_count": 18,
   "id": "bef47b73-1d41-4eff-91fb-048db1d828ff",
   "metadata": {},
   "outputs": [],
   "source": [
    "#8. Discuss the concept of default constructors in Python. When are they used?"
   ]
  },
  {
   "cell_type": "markdown",
   "id": "57800f0a-8613-465a-b39a-6b63607e6588",
   "metadata": {},
   "source": [
    "In Python, there is no concept of default constructors in the same way there is in some other programming languages, like C++. In Python, if you don't define a constructor (__init__) for a class, a default constructor is provided by Python itself. This default constructor does nothing and has an empty body, essentially serving as a no-op.\n",
    "\n"
   ]
  },
  {
   "cell_type": "code",
   "execution_count": 19,
   "id": "bbdfae06-f402-4a38-8d00-dff937913718",
   "metadata": {},
   "outputs": [],
   "source": [
    "class SimpleClass:\n",
    "    pass\n",
    "\n",
    "# Creating an instance of SimpleClass\n",
    "obj = SimpleClass()\n",
    "\n",
    "# Since we didn't define a constructor, Python provides a default constructor.\n",
    "# It doesn't perform any specific initialization.\n"
   ]
  },
  {
   "cell_type": "code",
   "execution_count": null,
   "id": "3ed82ce0-acef-4782-bf97-ae0691784076",
   "metadata": {},
   "outputs": [],
   "source": []
  },
  {
   "cell_type": "code",
   "execution_count": 20,
   "id": "309aff4c-cfd4-4d2b-8afa-d36c06f53b23",
   "metadata": {},
   "outputs": [],
   "source": [
    "#9. Create a Python class called `Rectangle` with a constructor that initializes the `width` and `height` attributes. Provide a method to calculate the area of the rectangle."
   ]
  },
  {
   "cell_type": "code",
   "execution_count": 21,
   "id": "1ea9d503-754f-41d6-a111-2a708c3677f8",
   "metadata": {},
   "outputs": [
    {
     "name": "stdout",
     "output_type": "stream",
     "text": [
      "The area of the rectangle is 40 square units.\n"
     ]
    }
   ],
   "source": [
    "class Rectangle:\n",
    "    def __init__(self, width, height):\n",
    "        # Initialize object attributes\n",
    "        self.width = width\n",
    "        self.height = height\n",
    "\n",
    "    def calculate_area(self):\n",
    "        # Calculate and return the area of the rectangle\n",
    "        return self.width * self.height\n",
    "\n",
    "# Creating an instance of the Rectangle class\n",
    "rectangle1 = Rectangle(5, 8)\n",
    "\n",
    "# Calculating and printing the area of the rectangle\n",
    "area = rectangle1.calculate_area()\n",
    "print(f\"The area of the rectangle is {area} square units.\")\n"
   ]
  },
  {
   "cell_type": "code",
   "execution_count": null,
   "id": "741829a0-6447-453f-9065-53ac2fbe16f1",
   "metadata": {},
   "outputs": [],
   "source": []
  },
  {
   "cell_type": "code",
   "execution_count": 22,
   "id": "af42f5b6-fe27-4f66-9c5f-464c947ca12d",
   "metadata": {},
   "outputs": [],
   "source": [
    "#10. How can you have multiple constructors in a Python class? Explain with an example."
   ]
  },
  {
   "cell_type": "markdown",
   "id": "53b30642-f59c-42d9-869f-ae89e2a39114",
   "metadata": {},
   "source": [
    "In Python, you can't have multiple constructors with different parameter lists in the same way you can in some other programming languages like Java or C++. However, you can achieve similar functionality by using default values for constructor parameters and providing multiple ways to initialize an object based on those defaults.\n",
    "\n"
   ]
  },
  {
   "cell_type": "code",
   "execution_count": 26,
   "id": "297891f9-3bba-44d2-a97d-cea25e423364",
   "metadata": {},
   "outputs": [
    {
     "name": "stdout",
     "output_type": "stream",
     "text": [
      "Person 1: Name - Rizwan, Age - 31\n",
      "Person 2: Name - Taskeen, Age - 31\n",
      "Person 3: Name - Ayzal, Age - 2 month\n"
     ]
    }
   ],
   "source": [
    "class Person:\n",
    "    def __init__(self, name=\"Rizwan\", age=31):\n",
    "        self.name = name\n",
    "        self.age = age\n",
    "\n",
    "# Creating instances of the Person class using different constructors\n",
    "person1 = Person()             # Uses default values\n",
    "person2 = Person(\"Taskeen\")      # Custom name, default age\n",
    "person3 = Person(\"Ayzal\", \"2 month\")    # Custom name and age\n",
    "\n",
    "# Accessing object attributes\n",
    "print(f\"Person 1: Name - {person1.name}, Age - {person1.age}\")\n",
    "print(f\"Person 2: Name - {person2.name}, Age - {person2.age}\")\n",
    "print(f\"Person 3: Name - {person3.name}, Age - {person3.age}\")\n"
   ]
  },
  {
   "cell_type": "code",
   "execution_count": null,
   "id": "d52c306a-8a96-43d7-b50a-a118fe58e81b",
   "metadata": {},
   "outputs": [],
   "source": []
  },
  {
   "cell_type": "code",
   "execution_count": 27,
   "id": "4bc7f594-4830-4616-ae87-e05fcee0c1e0",
   "metadata": {},
   "outputs": [],
   "source": [
    "#11. What is method overloading, and how is it related to constructors in Python?"
   ]
  },
  {
   "cell_type": "markdown",
   "id": "e0f7320f-d339-48c0-a22a-716554514e82",
   "metadata": {},
   "source": [
    "Method overloading is a feature in some programming languages that allows a class to have multiple methods with the same name but different parameter lists. The method that gets called is determined by the number or types of arguments passed to it. However, Python does not support method overloading in the traditional sense, as it allows only one method with a particular name within a class. In Python, the last-defined method with a specific name in a class will override any earlier-defined method with the same name."
   ]
  },
  {
   "cell_type": "code",
   "execution_count": 29,
   "id": "f60b7c4c-2754-4a9f-bd19-f2f10e9c952c",
   "metadata": {},
   "outputs": [],
   "source": [
    "class Person:\n",
    "    def __init__(self, name=\"Rizwan\", age=30):\n",
    "        self.name = name\n",
    "        self.age = age\n",
    "\n",
    "# Creating instances of the Person class\n",
    "person1 = Person()             # Uses default values\n",
    "person2 = Person(\"Rizwan\")      # Custom name, default age\n",
    "person3 = Person(\"Taskeen\", 25)    # Custom name and age\n"
   ]
  },
  {
   "cell_type": "code",
   "execution_count": null,
   "id": "996c4d00-8876-47a8-a7f2-dd51a7d7c4e4",
   "metadata": {},
   "outputs": [],
   "source": []
  },
  {
   "cell_type": "code",
   "execution_count": 30,
   "id": "51a23f8f-d0a2-4618-a54b-9dc56849f4af",
   "metadata": {},
   "outputs": [],
   "source": [
    "#12. Explain the use of the `super()` function in Python constructors. Provide an example."
   ]
  },
  {
   "cell_type": "markdown",
   "id": "74307acc-7e25-4da6-859b-d836ecd49af0",
   "metadata": {},
   "source": [
    "In Python, the super() function is used in constructors to call the constructor of a parent class (also known as the superclass or base class). "
   ]
  },
  {
   "cell_type": "code",
   "execution_count": 38,
   "id": "a7eeec87-f8df-40a0-be0f-fc3d6ae81b71",
   "metadata": {},
   "outputs": [
    {
     "ename": "AttributeError",
     "evalue": "'super' object has no attribute '_Child__init'",
     "output_type": "error",
     "traceback": [
      "\u001b[0;31m---------------------------------------------------------------------------\u001b[0m",
      "\u001b[0;31mAttributeError\u001b[0m                            Traceback (most recent call last)",
      "Cell \u001b[0;32mIn[38], line 12\u001b[0m\n\u001b[1;32m      9\u001b[0m         \u001b[38;5;28mself\u001b[39m\u001b[38;5;241m.\u001b[39mage \u001b[38;5;241m=\u001b[39m age  \u001b[38;5;66;03m# Initialize the 'age' attribute specific to the child class\u001b[39;00m\n\u001b[1;32m     11\u001b[0m \u001b[38;5;66;03m# Creating an instance of the Child class\u001b[39;00m\n\u001b[0;32m---> 12\u001b[0m child \u001b[38;5;241m=\u001b[39m \u001b[43mChild\u001b[49m\u001b[43m(\u001b[49m\u001b[38;5;124;43m\"\u001b[39;49m\u001b[38;5;124;43mAlice\u001b[39;49m\u001b[38;5;124;43m\"\u001b[39;49m\u001b[43m,\u001b[49m\u001b[43m \u001b[49m\u001b[38;5;241;43m25\u001b[39;49m\u001b[43m)\u001b[49m\n\u001b[1;32m     14\u001b[0m \u001b[38;5;66;03m# Accessing object attributes\u001b[39;00m\n\u001b[1;32m     15\u001b[0m \u001b[38;5;28mprint\u001b[39m(\u001b[38;5;124mf\u001b[39m\u001b[38;5;124m\"\u001b[39m\u001b[38;5;124mName: \u001b[39m\u001b[38;5;132;01m{\u001b[39;00mchild\u001b[38;5;241m.\u001b[39mname\u001b[38;5;132;01m}\u001b[39;00m\u001b[38;5;124m, Age: \u001b[39m\u001b[38;5;132;01m{\u001b[39;00mchild\u001b[38;5;241m.\u001b[39mage\u001b[38;5;132;01m}\u001b[39;00m\u001b[38;5;124m\"\u001b[39m)\n",
      "Cell \u001b[0;32mIn[38], line 8\u001b[0m, in \u001b[0;36mChild.__init__\u001b[0;34m(self, name, age)\u001b[0m\n\u001b[1;32m      6\u001b[0m \u001b[38;5;28;01mdef\u001b[39;00m \u001b[38;5;21m__init__\u001b[39m(\u001b[38;5;28mself\u001b[39m, name, age):\n\u001b[1;32m      7\u001b[0m     \u001b[38;5;66;03m# Call the constructor of the parent class\u001b[39;00m\n\u001b[0;32m----> 8\u001b[0m     \u001b[38;5;28;43msuper\u001b[39;49m\u001b[43m(\u001b[49m\u001b[43m)\u001b[49m\u001b[38;5;241;43m.\u001b[39;49m\u001b[43m__init\u001b[49m(name)  \u001b[38;5;66;03m# Initialize the 'name' attribute using the parent class constructor\u001b[39;00m\n\u001b[1;32m      9\u001b[0m     \u001b[38;5;28mself\u001b[39m\u001b[38;5;241m.\u001b[39mage \u001b[38;5;241m=\u001b[39m age\n",
      "\u001b[0;31mAttributeError\u001b[0m: 'super' object has no attribute '_Child__init'"
     ]
    }
   ],
   "source": [
    "class Parent:\n",
    "    def __init__(self, name):\n",
    "        self.name = name\n",
    "\n",
    "class Child(Parent):\n",
    "    def __init__(self, name, age):\n",
    "        # Call the constructor of the parent class\n",
    "        super().__init(name)  # Initialize the 'name' attribute using the parent class constructor\n",
    "        self.age = age  # Initialize the 'age' attribute specific to the child class\n",
    "\n",
    "# Creating an instance of the Child class\n",
    "child = Child(\"Alice\", 25)\n",
    "\n",
    "# Accessing object attributes\n",
    "print(f\"Name: {child.name}, Age: {child.age}\")\n"
   ]
  },
  {
   "cell_type": "code",
   "execution_count": null,
   "id": "c53bacef-bfae-42c5-9dc1-7401bb504105",
   "metadata": {},
   "outputs": [],
   "source": []
  },
  {
   "cell_type": "code",
   "execution_count": 39,
   "id": "c18e773a-37c1-4a83-808f-76583ac36116",
   "metadata": {},
   "outputs": [],
   "source": [
    "#13. Create a class called `Book` with a constructor that initializes the `title`, `author`, and `published_year` attributes. Provide a method to display book details."
   ]
  },
  {
   "cell_type": "code",
   "execution_count": 41,
   "id": "144916ed-dcb7-4d9c-9d9f-9777ea12790b",
   "metadata": {},
   "outputs": [
    {
     "name": "stdout",
     "output_type": "stream",
     "text": [
      "Title: DATA SCIENCE MASTERY\n",
      "Author: PW SKILLS\n",
      "Published Year: 2023\n"
     ]
    }
   ],
   "source": [
    "class Book:\n",
    "    def __init__(self, title, author, published_year):\n",
    "        # Initialize object attributes\n",
    "        self.title = title\n",
    "        self.author = author\n",
    "        self.published_year = published_year\n",
    "\n",
    "    def display_details(self):\n",
    "        # Display book details\n",
    "        print(f\"Title: {self.title}\")\n",
    "        print(f\"Author: {self.author}\")\n",
    "        print(f\"Published Year: {self.published_year}\")\n",
    "\n",
    "# Creating an instance of the Book class\n",
    "book1 = Book(\"DATA SCIENCE MASTERY\", \"PW SKILLS\", 2023)\n",
    "\n",
    "# Displaying book details\n",
    "book1.display_details()\n"
   ]
  },
  {
   "cell_type": "code",
   "execution_count": null,
   "id": "6bab4df0-bb86-4235-b90a-9aab3658bf80",
   "metadata": {},
   "outputs": [],
   "source": []
  },
  {
   "cell_type": "code",
   "execution_count": 42,
   "id": "dbfdced8-0d9c-40ca-82d9-a463936b3878",
   "metadata": {},
   "outputs": [],
   "source": [
    "#14. Discuss the differences between constructors and regular methods in Python classes."
   ]
  },
  {
   "cell_type": "markdown",
   "id": "6467be42-0889-4972-9237-5fde88a88e09",
   "metadata": {},
   "source": [
    "Constructors and regular methods in Python classes serve different purposes and have distinct characteristics. Here are the key differences between constructors and regular methods in Python classes:\n",
    "\n",
    "Initialization:\n",
    "\n",
    "Constructors: Constructors, specifically the __init__ method, are used to initialize the attributes of an object when it is created. They run automatically upon object creation.\n",
    "Regular Methods: Regular methods are used to define the behavior or operations that objects of the class can perform, but they don't necessarily involve object initialization.\n",
    "Special Name:\n",
    "\n",
    "Constructors: Constructors have a special name, __init__, which is predefined in Python. They are automatically called during object creation and are used to set the initial state of an object.\n",
    "Regular Methods: Regular methods have user-defined names and serve various functions or behaviors specific to the class.\n",
    "Parameters:\n",
    "\n",
    "Constructors: Constructors accept at least one parameter, self, which refers to the instance of the class being created. They can also accept additional parameters for attribute initialization.\n",
    "Regular Methods: Regular methods may or may not accept parameters, depending on their purpose. They can take any number of parameters, including none.\n",
    "Invocation:\n",
    "\n",
    "Constructors: Constructors are automatically invoked when an object is created. You don't need to call them explicitly; Python handles their execution.\n",
    "Regular Methods: Regular methods must be called explicitly using the object (or class, in the case of class methods) as the target.\n",
    "Return Values:\n",
    "\n",
    "Constructors: Constructors don't typically return values explicitly, and if they do, it's usually not common practice.\n",
    "Regular Methods: Regular methods often perform some operation and can return values, altering the state of the object or producing a result.\n",
    "Multiple Definitions:\n",
    "\n",
    "Constructors: A class can have only one constructor, which is defined by the __init__ method. If you define multiple __init__ methods, the last one defined will be used.\n",
    "Regular Methods: A class can have multiple regular methods with different names and functionalities.\n",
    "Common Use Cases:\n",
    "\n",
    "Constructors: Used for initializing object attributes, setting the initial state, and performing any setup required for object creation.\n",
    "Regular Methods: Used for defining the behaviors and operations that objects of the class can perform, such as calculations, data retrieval, and other actions."
   ]
  },
  {
   "cell_type": "code",
   "execution_count": null,
   "id": "504096e0-385c-44ae-88c4-31dc7d8815f4",
   "metadata": {},
   "outputs": [],
   "source": []
  },
  {
   "cell_type": "code",
   "execution_count": 43,
   "id": "39bb8b06-a0fd-4d19-acdf-738ab616d36a",
   "metadata": {},
   "outputs": [],
   "source": [
    "#15. Explain the role of the `self` parameter in instance variable initialization within a constructor."
   ]
  },
  {
   "cell_type": "markdown",
   "id": "55e9c586-282a-4810-a18c-ff4690ca7d63",
   "metadata": {},
   "source": [
    "The self parameter in Python plays a fundamental role in instance variable initialization within a constructor. The self parameter refers to the instance of the class that is being created or operated upon. It allows you to access and manipulate instance variables, which are attributes specific to each object of the class. Here's how the self parameter functions within a constructor"
   ]
  },
  {
   "cell_type": "code",
   "execution_count": 45,
   "id": "650d9e2c-3892-46e9-9b3d-5c552713b749",
   "metadata": {},
   "outputs": [
    {
     "name": "stdout",
     "output_type": "stream",
     "text": [
      "Person 1: Name - Rizwan, Age - 30\n",
      "Person 2: Name - Taskeen, Age - 25\n"
     ]
    }
   ],
   "source": [
    "class Person:\n",
    "    def __init__(self, name, age):\n",
    "        # Initialize object attributes using 'self'\n",
    "        self.name = name  # 'name' is an instance variable\n",
    "        self.age = age    # 'age' is an instance variable\n",
    "\n",
    "# Creating instances of the Person class\n",
    "person1 = Person(\"Rizwan\", 30)\n",
    "person2 = Person(\"Taskeen\", 25)\n",
    "\n",
    "# Accessing object attributes using 'self'\n",
    "print(f\"Person 1: Name - {person1.name}, Age - {person1.age}\")\n",
    "print(f\"Person 2: Name - {person2.name}, Age - {person2.age}\")\n"
   ]
  },
  {
   "cell_type": "code",
   "execution_count": null,
   "id": "9f98b767-385a-474d-922d-0ff710c38ea4",
   "metadata": {},
   "outputs": [],
   "source": []
  },
  {
   "cell_type": "code",
   "execution_count": 46,
   "id": "245f823f-0413-4ba6-8c63-7c08d041b281",
   "metadata": {},
   "outputs": [],
   "source": [
    "#16. How do you prevent a class from having multiple instances by using constructors in Python? Provide an example."
   ]
  },
  {
   "cell_type": "code",
   "execution_count": 47,
   "id": "a6123353-cefa-4993-88da-6bb5ebfd9470",
   "metadata": {},
   "outputs": [
    {
     "name": "stdout",
     "output_type": "stream",
     "text": [
      "Instance 1 Value: Second Instance\n",
      "Instance 2 Value: Second Instance\n",
      "Are both instances the same object? True\n"
     ]
    }
   ],
   "source": [
    "class Singleton:\n",
    "    _instance = None  # Class variable to store the single instance\n",
    "\n",
    "    def __new__(cls):\n",
    "        if cls._instance is None:\n",
    "            cls._instance = super(Singleton, cls).__new__(cls)\n",
    "            cls._instance.init_singleton()\n",
    "        return cls._instance\n",
    "\n",
    "    def init_singleton(self):\n",
    "        self.value = None\n",
    "\n",
    "# Creating instances of the Singleton class\n",
    "instance1 = Singleton()\n",
    "instance1.value = \"First Instance\"\n",
    "\n",
    "instance2 = Singleton()\n",
    "instance2.value = \"Second Instance\"\n",
    "\n",
    "# Checking if both instances are the same\n",
    "print(f\"Instance 1 Value: {instance1.value}\")\n",
    "print(f\"Instance 2 Value: {instance2.value}\")\n",
    "\n",
    "# Checking if both instances are the same object\n",
    "print(f\"Are both instances the same object? {instance1 is instance2}\")\n"
   ]
  },
  {
   "cell_type": "code",
   "execution_count": null,
   "id": "3b090c2a-a356-4b35-8d3f-38e452953fe9",
   "metadata": {},
   "outputs": [],
   "source": []
  },
  {
   "cell_type": "code",
   "execution_count": 48,
   "id": "1b67b851-588f-485c-bc79-350be31a5511",
   "metadata": {},
   "outputs": [],
   "source": [
    "#17. Create a Python class called `Student` with a constructor that takes a list of subjects as a parameter and initializes the `subjects` attribute."
   ]
  },
  {
   "cell_type": "code",
   "execution_count": 50,
   "id": "e67fd362-c95d-4b96-9142-85aa5f340b41",
   "metadata": {},
   "outputs": [
    {
     "name": "stdout",
     "output_type": "stream",
     "text": [
      "Student's Subjects: ['DSA', 'Python', 'Power BI', 'SQL']\n"
     ]
    }
   ],
   "source": [
    "class Student:\n",
    "    def __init__(self, subjects):\n",
    "        # Initialize the 'subjects' attribute\n",
    "        self.subjects = subjects\n",
    "\n",
    "# Creating an instance of the Student class with a list of subjects\n",
    "student1 = Student([\"DSA\", \"Python\", \"Power BI\", \"SQL\"])\n",
    "\n",
    "# Accessing the 'subjects' attribute\n",
    "print(f\"Student's Subjects: {student1.subjects}\")\n"
   ]
  },
  {
   "cell_type": "code",
   "execution_count": null,
   "id": "bf17f1cd-b809-49ea-a1ce-046dff9fd7ea",
   "metadata": {},
   "outputs": [],
   "source": []
  },
  {
   "cell_type": "code",
   "execution_count": 51,
   "id": "e45b4f98-5852-4528-a73c-32c8b43abbe8",
   "metadata": {},
   "outputs": [],
   "source": [
    "#18. What is the purpose of the `__del__` method in Python classes, and how does it relate to constructors?"
   ]
  },
  {
   "cell_type": "markdown",
   "id": "c969b83e-291d-404a-a0a2-95236875f97e",
   "metadata": {},
   "source": [
    "The __del__ method in Python is a special method used to define the finalization or cleanup behavior for objects of a class just before they are destroyed or deallocated. It is the counterpart to the __init__ method, which is used for object initialization. "
   ]
  },
  {
   "cell_type": "code",
   "execution_count": 52,
   "id": "dd9b4f29-6070-4eca-b4ff-b414c0f2c0ad",
   "metadata": {},
   "outputs": [],
   "source": [
    "class FileHandler:\n",
    "    def __init__(self, filename):\n",
    "        self.filename = filename\n",
    "        self.file = open(filename, 'w')\n",
    "\n",
    "    def write_data(self, data):\n",
    "        self.file.write(data)\n",
    "\n",
    "    def __del__(self):\n",
    "        self.file.close()\n",
    "        print(f\"File '{self.filename}' closed\")\n",
    "\n",
    "# Creating an instance of FileHandler\n",
    "file_handler = FileHandler(\"example.txt\")\n",
    "\n",
    "# Writing data to the file\n",
    "file_handler.write_data(\"Hello, World!\")\n",
    "\n",
    "# The __del__ method will be automatically called when the object goes out of scope\n"
   ]
  },
  {
   "cell_type": "code",
   "execution_count": null,
   "id": "33a70b08-e0ac-4f00-a656-96593d3804e3",
   "metadata": {},
   "outputs": [],
   "source": []
  },
  {
   "cell_type": "code",
   "execution_count": 53,
   "id": "dea67e1e-6b92-4f58-9e13-28c9436a4ae7",
   "metadata": {},
   "outputs": [],
   "source": [
    "#19. Explain the use of constructor chaining in Python. Provide a practical example."
   ]
  },
  {
   "cell_type": "markdown",
   "id": "c5607b48-aa9a-4c83-8d82-ad6f0e7f2dcd",
   "metadata": {},
   "source": [
    "Constructor chaining in Python refers to the concept of one constructor (usually in a subclass) calling another constructor (typically in a parent or superclass) to perform common initialization tasks. "
   ]
  },
  {
   "cell_type": "code",
   "execution_count": 54,
   "id": "91ee3ad3-cc58-4659-97c8-7daa0d731876",
   "metadata": {},
   "outputs": [
    {
     "name": "stdout",
     "output_type": "stream",
     "text": [
      "Species: Dog\n",
      "Name: Buddy\n"
     ]
    }
   ],
   "source": [
    "class Animal:\n",
    "    def __init__(self, species):\n",
    "        self.species = species\n",
    "\n",
    "class Pet(Animal):\n",
    "    def __init__(self, species, name):\n",
    "        super().__init__(species)  # Call the constructor of the parent class\n",
    "        self.name = name\n",
    "\n",
    "# Creating an instance of the Pet class\n",
    "pet = Pet(\"Dog\", \"Buddy\")\n",
    "\n",
    "# Accessing object attributes\n",
    "print(f\"Species: {pet.species}\")\n",
    "print(f\"Name: {pet.name}\")\n"
   ]
  },
  {
   "cell_type": "code",
   "execution_count": null,
   "id": "f3e70f01-101a-4986-9b91-b1ccf8242340",
   "metadata": {},
   "outputs": [],
   "source": []
  },
  {
   "cell_type": "code",
   "execution_count": 55,
   "id": "4fec57ae-af4a-4440-a8a9-3df81d606b4c",
   "metadata": {},
   "outputs": [],
   "source": [
    "#20. Create a Python class called `Car` with a default constructor that initializes the `make` and `model` attributes. Provide a method to display car information."
   ]
  },
  {
   "cell_type": "code",
   "execution_count": 57,
   "id": "78f78a74-3b64-41b2-adf7-2158dce4e62f",
   "metadata": {},
   "outputs": [
    {
     "name": "stdout",
     "output_type": "stream",
     "text": [
      "Make: Hyundai\n",
      "Model: EON\n"
     ]
    }
   ],
   "source": [
    "class Car:\n",
    "    def __init__(self):\n",
    "        # Initialize object attributes with default values\n",
    "        self.make = \"Unknown\"\n",
    "        self.model = \"Unknown\"\n",
    "\n",
    "    def display_info(self):\n",
    "        # Display car information\n",
    "        print(f\"Make: {self.make}\")\n",
    "        print(f\"Model: {self.model}\")\n",
    "\n",
    "# Creating an instance of the Car class with default values\n",
    "car1 = Car()\n",
    "\n",
    "# Accessing the 'make' and 'model' attributes\n",
    "car1.make = \"Hyundai\"\n",
    "car1.model = \"EON\"\n",
    "\n",
    "# Displaying car information\n",
    "car1.display_info()\n"
   ]
  },
  {
   "cell_type": "code",
   "execution_count": null,
   "id": "b84b4197-0717-47c9-9ede-aadf19021a06",
   "metadata": {},
   "outputs": [],
   "source": []
  },
  {
   "cell_type": "markdown",
   "id": "52e57fba-ae9d-4768-b8c7-74937e5cf6ac",
   "metadata": {},
   "source": [
    "Inheritance:"
   ]
  },
  {
   "cell_type": "markdown",
   "id": "fa11ffa5-f3cb-4482-8434-6dec696c64ad",
   "metadata": {},
   "source": []
  },
  {
   "cell_type": "code",
   "execution_count": 58,
   "id": "e43a8f80-7067-44fa-b366-0d85f490a912",
   "metadata": {},
   "outputs": [],
   "source": [
    "#1. What is inheritance in Python? Explain its significance in object-oriented programming."
   ]
  },
  {
   "cell_type": "markdown",
   "id": "2b6829b2-382e-4452-8677-fe5d74177048",
   "metadata": {},
   "source": [
    "Inheritance in Python is a fundamental concept of object-oriented programming (OOP) that allows a new class to inherit the properties and behaviors (attributes and methods) of an existing class, known as the base class or parent class. "
   ]
  },
  {
   "cell_type": "code",
   "execution_count": 59,
   "id": "7544e55e-f8e4-4c16-85ac-8f5fdfffa734",
   "metadata": {},
   "outputs": [
    {
     "name": "stdout",
     "output_type": "stream",
     "text": [
      "A Canine says: Woof!\n",
      "A Feline says: Meow!\n"
     ]
    }
   ],
   "source": [
    "class Animal:\n",
    "    def __init__(self, species):\n",
    "        self.species = species\n",
    "\n",
    "    def speak(self):\n",
    "        pass\n",
    "\n",
    "class Dog(Animal):\n",
    "    def speak(self):\n",
    "        return \"Woof!\"\n",
    "\n",
    "class Cat(Animal):\n",
    "    def speak(self):\n",
    "        return \"Meow!\"\n",
    "\n",
    "# Creating instances of derived classes\n",
    "dog = Dog(\"Canine\")\n",
    "cat = Cat(\"Feline\")\n",
    "\n",
    "# Accessing and using inherited attributes and methods\n",
    "print(f\"A {dog.species} says: {dog.speak()}\")\n",
    "print(f\"A {cat.species} says: {cat.speak()}\")\n"
   ]
  },
  {
   "cell_type": "code",
   "execution_count": null,
   "id": "53461c13-f395-480b-81b6-8dc66567eb20",
   "metadata": {},
   "outputs": [],
   "source": []
  },
  {
   "cell_type": "code",
   "execution_count": 60,
   "id": "16ba0ee9-a770-4937-8764-87f8e0dc4548",
   "metadata": {},
   "outputs": [],
   "source": [
    "#2. Differentiate between single inheritance and multiple inheritance in Python. Provide examples for each."
   ]
  },
  {
   "cell_type": "markdown",
   "id": "efbd2195-6f07-4b1d-9c15-fc3326366a6b",
   "metadata": {},
   "source": [
    "Single Inheritance: Single inheritance in Python is a type of inheritance where a class can inherit attributes and methods from only one base class (parent class). It creates a linear hierarchy of classes.\n",
    "\n"
   ]
  },
  {
   "cell_type": "code",
   "execution_count": 61,
   "id": "54dc21f0-cdd6-4a4b-8e23-2cdaf9a78c7c",
   "metadata": {},
   "outputs": [
    {
     "name": "stdout",
     "output_type": "stream",
     "text": [
      "Animal speaks.\n",
      "Dog barks.\n"
     ]
    }
   ],
   "source": [
    "class Animal:\n",
    "    def speak(self):\n",
    "        return \"Animal speaks.\"\n",
    "\n",
    "class Dog(Animal):\n",
    "    def bark(self):\n",
    "        return \"Dog barks.\"\n",
    "\n",
    "# Creating an instance of the Dog class\n",
    "dog = Dog()\n",
    "\n",
    "# Accessing methods from both base and derived classes\n",
    "print(dog.speak())  # Inherited from Animal\n",
    "print(dog.bark())   # Defined in Dog\n"
   ]
  },
  {
   "cell_type": "markdown",
   "id": "bb4d6302-c471-4b94-accc-7c273f6c01e1",
   "metadata": {},
   "source": [
    "Multiple Inheritance: Multiple inheritance in Python is a type of inheritance where a class can inherit attributes and methods from more than one base class. It allows a class to inherit from multiple parent classes, creating a more complex hierarchy."
   ]
  },
  {
   "cell_type": "code",
   "execution_count": 62,
   "id": "ee9bb2da-3505-4ac9-a16d-62443abdabed",
   "metadata": {},
   "outputs": [
    {
     "name": "stdout",
     "output_type": "stream",
     "text": [
      "Animal speaks.\n",
      "Bird chirps.\n",
      "Parrot talks.\n"
     ]
    }
   ],
   "source": [
    "class Animal:\n",
    "    def speak(self):\n",
    "        return \"Animal speaks.\"\n",
    "\n",
    "class Bird:\n",
    "    def chirp(self):\n",
    "        return \"Bird chirps.\"\n",
    "\n",
    "class Parrot(Animal, Bird):\n",
    "    def talk(self):\n",
    "        return \"Parrot talks.\"\n",
    "\n",
    "# Creating an instance of the Parrot class\n",
    "parrot = Parrot()\n",
    "\n",
    "# Accessing methods from both base classes and the derived class\n",
    "print(parrot.speak())  # Inherited from Animal\n",
    "print(parrot.chirp())  # Inherited from Bird\n",
    "print(parrot.talk())   # Defined in Parrot\n"
   ]
  },
  {
   "cell_type": "code",
   "execution_count": null,
   "id": "d7090e4a-292f-4449-a570-858d1560b4f2",
   "metadata": {},
   "outputs": [],
   "source": []
  },
  {
   "cell_type": "code",
   "execution_count": 63,
   "id": "b8c64e93-7dcf-443b-a4f3-50a5ba3514b4",
   "metadata": {},
   "outputs": [],
   "source": [
    "#3. Create a Python class called `Vehicle` with attributes `color` and `speed`. Then, create a child class called `Car` that inherits from `Vehicle` and adds a `brand` attribute. Provide an example of creating a `Car` object."
   ]
  },
  {
   "cell_type": "code",
   "execution_count": 65,
   "id": "efb51fef-4e75-4409-86de-70f3351d361b",
   "metadata": {},
   "outputs": [
    {
     "name": "stdout",
     "output_type": "stream",
     "text": [
      "Color: White\n",
      "Speed: 100 km/h\n",
      "Brand: Hyundai\n"
     ]
    }
   ],
   "source": [
    "class Vehicle:\n",
    "    def __init__(self, color, speed):\n",
    "        self.color = color\n",
    "        self.speed = speed\n",
    "\n",
    "class Car(Vehicle):\n",
    "    def __init__(self, color, speed, brand):\n",
    "        super().__init__(color, speed)  # Call the constructor of the parent class\n",
    "        self.brand = brand\n",
    "\n",
    "# Creating a Car object\n",
    "my_car = Car(\"White\", 100, \"Hyundai\")\n",
    "\n",
    "# Accessing object attributes\n",
    "print(f\"Color: {my_car.color}\")\n",
    "print(f\"Speed: {my_car.speed} km/h\")\n",
    "print(f\"Brand: {my_car.brand}\")\n"
   ]
  },
  {
   "cell_type": "code",
   "execution_count": null,
   "id": "f3f91a44-dc0a-4e11-abe5-602ec6f2edc7",
   "metadata": {},
   "outputs": [],
   "source": []
  },
  {
   "cell_type": "code",
   "execution_count": 66,
   "id": "6a0b2432-5170-44ba-9d65-be29671d8744",
   "metadata": {},
   "outputs": [],
   "source": [
    "#4. Explain the concept of method overriding in inheritance. Provide a practical example."
   ]
  },
  {
   "cell_type": "markdown",
   "id": "2932ee64-2461-4756-985e-d6dc7ac9a3e8",
   "metadata": {},
   "source": [
    "Method overriding is a concept in inheritance where a subclass provides its own implementation of a method that is already defined in its parent class. When a method in a child class has the same name and signature (parameters) as a method in the parent class, the method in the child class overrides the behavior of the parent class's method. This allows the child class to customize and extend the functionality of the inherited method while maintaining the same method name and interface."
   ]
  },
  {
   "cell_type": "code",
   "execution_count": 67,
   "id": "6b06653a-a512-4645-affd-c12c5a9a54cd",
   "metadata": {},
   "outputs": [
    {
     "name": "stdout",
     "output_type": "stream",
     "text": [
      "Animal speaks.\n",
      "Dog barks.\n"
     ]
    }
   ],
   "source": [
    "class Animal:\n",
    "    def speak(self):\n",
    "        return \"Animal speaks.\"\n",
    "\n",
    "class Dog(Animal):\n",
    "    def speak(self):\n",
    "        return \"Dog barks.\"\n",
    "\n",
    "# Creating instances of the parent and child classes\n",
    "animal = Animal()\n",
    "dog = Dog()\n",
    "\n",
    "# Accessing the speak method through both instances\n",
    "print(animal.speak())  # Calls the speak method of the Animal class\n",
    "print(dog.speak())     # Calls the overridden speak method of the Dog class\n"
   ]
  },
  {
   "cell_type": "code",
   "execution_count": null,
   "id": "67e6a2c4-61d7-4e75-a384-fe999b8e1072",
   "metadata": {},
   "outputs": [],
   "source": []
  },
  {
   "cell_type": "code",
   "execution_count": 68,
   "id": "2260a9d6-8d31-48f3-8132-1ddfab7cf356",
   "metadata": {},
   "outputs": [],
   "source": [
    "#5. How can you access the methods and attributes of a parent class from a child class in Python? Give an example."
   ]
  },
  {
   "cell_type": "code",
   "execution_count": 69,
   "id": "3acded11-0c37-4c8e-af1a-c143d1856f98",
   "metadata": {},
   "outputs": [
    {
     "name": "stdout",
     "output_type": "stream",
     "text": [
      "I'm an attribute from the child class.\n",
      "This is a method from the child class.\n",
      "I'm an attribute from the parent class.\n",
      "This is a method from the parent class.\n"
     ]
    },
    {
     "ename": "AttributeError",
     "evalue": "'super' object has no attribute 'parent_attr'",
     "output_type": "error",
     "traceback": [
      "\u001b[0;31m---------------------------------------------------------------------------\u001b[0m",
      "\u001b[0;31mAttributeError\u001b[0m                            Traceback (most recent call last)",
      "Cell \u001b[0;32mIn[69], line 35\u001b[0m\n\u001b[1;32m     32\u001b[0m \u001b[38;5;28mprint\u001b[39m(child\u001b[38;5;241m.\u001b[39mparent_method())\n\u001b[1;32m     34\u001b[0m \u001b[38;5;66;03m# Accessing the parent class's attribute and method from the child class\u001b[39;00m\n\u001b[0;32m---> 35\u001b[0m combined_result \u001b[38;5;241m=\u001b[39m \u001b[43mchild\u001b[49m\u001b[38;5;241;43m.\u001b[39;49m\u001b[43mcombined_method\u001b[49m\u001b[43m(\u001b[49m\u001b[43m)\u001b[49m\n\u001b[1;32m     36\u001b[0m \u001b[38;5;28mprint\u001b[39m(combined_result)\n",
      "Cell \u001b[0;32mIn[69], line 18\u001b[0m, in \u001b[0;36mChild.combined_method\u001b[0;34m(self)\u001b[0m\n\u001b[1;32m     16\u001b[0m \u001b[38;5;28;01mdef\u001b[39;00m \u001b[38;5;21mcombined_method\u001b[39m(\u001b[38;5;28mself\u001b[39m):\n\u001b[1;32m     17\u001b[0m     \u001b[38;5;66;03m# Access the parent class's attribute and method\u001b[39;00m\n\u001b[0;32m---> 18\u001b[0m     parent_attr_result \u001b[38;5;241m=\u001b[39m \u001b[38;5;28;43msuper\u001b[39;49m\u001b[43m(\u001b[49m\u001b[43m)\u001b[49m\u001b[38;5;241;43m.\u001b[39;49m\u001b[43mparent_attr\u001b[49m\n\u001b[1;32m     19\u001b[0m     parent_method_result \u001b[38;5;241m=\u001b[39m \u001b[38;5;28msuper\u001b[39m()\u001b[38;5;241m.\u001b[39mparent_method()\n\u001b[1;32m     21\u001b[0m     \u001b[38;5;28;01mreturn\u001b[39;00m \u001b[38;5;124mf\u001b[39m\u001b[38;5;124m\"\u001b[39m\u001b[38;5;132;01m{\u001b[39;00mparent_attr_result\u001b[38;5;132;01m}\u001b[39;00m\u001b[38;5;130;01m\\n\u001b[39;00m\u001b[38;5;132;01m{\u001b[39;00mparent_method_result\u001b[38;5;132;01m}\u001b[39;00m\u001b[38;5;124m\"\u001b[39m\n",
      "\u001b[0;31mAttributeError\u001b[0m: 'super' object has no attribute 'parent_attr'"
     ]
    }
   ],
   "source": [
    "class Parent:\n",
    "    def __init__(self):\n",
    "        self.parent_attr = \"I'm an attribute from the parent class.\"\n",
    "\n",
    "    def parent_method(self):\n",
    "        return \"This is a method from the parent class.\"\n",
    "\n",
    "class Child(Parent):\n",
    "    def __init__(self):\n",
    "        super().__init__()  # Call the constructor of the parent class\n",
    "        self.child_attr = \"I'm an attribute from the child class.\"\n",
    "\n",
    "    def child_method(self):\n",
    "        return \"This is a method from the child class.\"\n",
    "\n",
    "    def combined_method(self):\n",
    "        # Access the parent class's attribute and method\n",
    "        parent_attr_result = super().parent_attr\n",
    "        parent_method_result = super().parent_method()\n",
    "        \n",
    "        return f\"{parent_attr_result}\\n{parent_method_result}\"\n",
    "\n",
    "# Creating an instance of the Child class\n",
    "child = Child()\n",
    "\n",
    "# Accessing attributes and methods from the Child class\n",
    "print(child.child_attr)\n",
    "print(child.child_method())\n",
    "\n",
    "# Accessing attributes and methods from the Parent class using super()\n",
    "print(child.parent_attr)\n",
    "print(child.parent_method())\n",
    "\n",
    "# Accessing the parent class's attribute and method from the child class\n",
    "combined_result = child.combined_method()\n",
    "print(combined_result)\n"
   ]
  },
  {
   "cell_type": "code",
   "execution_count": null,
   "id": "1d1f7d62-5c66-47bf-8d4b-884b769476ef",
   "metadata": {},
   "outputs": [],
   "source": []
  },
  {
   "cell_type": "code",
   "execution_count": 70,
   "id": "aea7ef83-aed1-4af4-b89b-f6d9f433e727",
   "metadata": {},
   "outputs": [],
   "source": [
    "#6. Discuss the use of the `super()` function in Python inheritance. When and why is it used? Provide an example."
   ]
  },
  {
   "cell_type": "markdown",
   "id": "46078b4b-b00a-4acf-be44-1eb03b322b7c",
   "metadata": {},
   "source": [
    "The super() function in Python is used in the context of inheritance to call methods and access attributes from the parent class (superclass or base class) within a child class (subclass). It is commonly used to perform the following tasks:\n",
    "\n",
    "Call Parent Class Constructors: You can use super() to call the constructor of the parent class from the constructor of the child class. This is useful for initializing attributes and performing setup tasks defined in the parent class before customizing them in the child class.\n",
    "\n",
    "Access Parent Class Methods and Attributes: You can use super() to access methods and attributes of the parent class. This allows you to reuse or extend the behavior of the parent class's methods and work with attributes defined in the parent class.\n",
    "\n",
    "Method Overriding: When a method in the child class overrides a method in the parent class, you can still use super() to call the overridden method from the parent class within the child class. This allows you to customize the behavior of the method while retaining some or all of the parent class's logic."
   ]
  },
  {
   "cell_type": "code",
   "execution_count": 72,
   "id": "ad613b05-db1f-41e7-a5cf-de665afd73af",
   "metadata": {},
   "outputs": [
    {
     "name": "stdout",
     "output_type": "stream",
     "text": [
      "Hello, Taskeen! My hobby is Doing bak bak all the time.\n"
     ]
    }
   ],
   "source": [
    "class Parent:\n",
    "    def __init__(self, name):\n",
    "        self.name = name\n",
    "\n",
    "    def greet(self):\n",
    "        return f\"Hello, {self.name}!\"\n",
    "\n",
    "class Child(Parent):\n",
    "    def __init__(self, name, hobby):\n",
    "        super().__init__(name)  # Call the parent class constructor\n",
    "        self.hobby = hobby\n",
    "\n",
    "    def greet(self):\n",
    "        # Call the parent class's greet method and add a custom message\n",
    "        parent_greeting = super().greet()\n",
    "        return f\"{parent_greeting} My hobby is {self.hobby}.\"\n",
    "\n",
    "# Creating an instance of the Child class\n",
    "child = Child(\"Taskeen\", \"Doing bak bak all the time\")\n",
    "\n",
    "# Accessing the child class's method\n",
    "child_greeting = child.greet()\n",
    "print(child_greeting)\n"
   ]
  },
  {
   "cell_type": "code",
   "execution_count": null,
   "id": "5947cf5c-bd21-4e25-bae1-d6e623d60b92",
   "metadata": {},
   "outputs": [],
   "source": []
  },
  {
   "cell_type": "code",
   "execution_count": 73,
   "id": "3ba482a1-5b90-4bbc-841e-b12a9611d0c6",
   "metadata": {},
   "outputs": [],
   "source": [
    "#7. Create a Python class called `Animal` with a method `speak()`. Then, create child classes `Dog` and `Cat`"
   ]
  },
  {
   "cell_type": "code",
   "execution_count": 74,
   "id": "ef88ef95-95f1-48df-b237-199c04a80f12",
   "metadata": {},
   "outputs": [
    {
     "name": "stdout",
     "output_type": "stream",
     "text": [
      "Dog says: Woof!\n",
      "Cat says: Meow!\n"
     ]
    }
   ],
   "source": [
    "class Animal:\n",
    "    def speak(self):\n",
    "        pass\n",
    "\n",
    "class Dog(Animal):\n",
    "    def speak(self):\n",
    "        return \"Woof!\"\n",
    "\n",
    "class Cat(Animal):\n",
    "    def speak(self):\n",
    "        return \"Meow!\"\n",
    "\n",
    "# Creating instances of the child classes\n",
    "dog = Dog()\n",
    "cat = Cat()\n",
    "\n",
    "# Using the 'speak' method of the child classes\n",
    "print(\"Dog says:\", dog.speak())\n",
    "print(\"Cat says:\", cat.speak())\n"
   ]
  },
  {
   "cell_type": "code",
   "execution_count": null,
   "id": "b847e5b0-7949-48d5-b9fe-11d1446d8157",
   "metadata": {},
   "outputs": [],
   "source": []
  },
  {
   "cell_type": "code",
   "execution_count": 75,
   "id": "de354608-22fb-4412-a480-3e33fe05605d",
   "metadata": {},
   "outputs": [],
   "source": [
    "#8. Explain the role of the `isinstance()` function in Python and how it relates to inheritance."
   ]
  },
  {
   "cell_type": "markdown",
   "id": "f26b4ac4-0159-47dd-b196-f20d936a65c0",
   "metadata": {},
   "source": [
    "The isinstance() function in Python is used to check if an object belongs to a specific class or a class derived from that class. It plays a crucial role in determining the class hierarchy and relationships between objects, especially in the context of inheritance.\n",
    "\n"
   ]
  },
  {
   "cell_type": "code",
   "execution_count": 76,
   "id": "2d9d0fbe-6a19-451f-af2b-9b0ad7033baf",
   "metadata": {},
   "outputs": [
    {
     "name": "stdout",
     "output_type": "stream",
     "text": [
      "Is 'animal' an Animal?  True\n",
      "Is 'dog' a Dog?  True\n",
      "Is 'dog' an Animal?  True\n",
      "Is 'cat' a Cat?  True\n",
      "Is 'cat' an Animal?  True\n"
     ]
    }
   ],
   "source": [
    "class Animal:\n",
    "    def speak(self):\n",
    "        pass\n",
    "\n",
    "class Dog(Animal):\n",
    "    def speak(self):\n",
    "        return \"Woof!\"\n",
    "\n",
    "class Cat(Animal):\n",
    "    def speak(self):\n",
    "        return \"Meow!\"\n",
    "\n",
    "# Create instances of the classes\n",
    "animal = Animal()\n",
    "dog = Dog()\n",
    "cat = Cat()\n",
    "\n",
    "# Check if objects belong to specific classes or their parent classes\n",
    "print(\"Is 'animal' an Animal? \", isinstance(animal, Animal))\n",
    "print(\"Is 'dog' a Dog? \", isinstance(dog, Dog))\n",
    "print(\"Is 'dog' an Animal? \", isinstance(dog, Animal))\n",
    "print(\"Is 'cat' a Cat? \", isinstance(cat, Cat))\n",
    "print(\"Is 'cat' an Animal? \", isinstance(cat, Animal))\n"
   ]
  },
  {
   "cell_type": "code",
   "execution_count": null,
   "id": "b0bc1bd6-1e8a-41a6-8237-1a5bf7f6b153",
   "metadata": {},
   "outputs": [],
   "source": []
  },
  {
   "cell_type": "code",
   "execution_count": 77,
   "id": "47bd5018-255d-4c9f-b526-e939ee7f034c",
   "metadata": {},
   "outputs": [],
   "source": [
    "#9. What is the purpose of the `issubclass()` function in Python? Provide an example."
   ]
  },
  {
   "cell_type": "markdown",
   "id": "6094ff0b-0869-436d-a21c-201fdf43fc92",
   "metadata": {},
   "source": [
    "\n",
    "The issubclass() function in Python is used to check if a given class is a subclass of another class. It is specifically designed to determine the inheritance relationship between classes. The function returns True if the first class is a subclass of the second class or if the two classes are the same. Otherwise, it returns `False."
   ]
  },
  {
   "cell_type": "code",
   "execution_count": 78,
   "id": "73239af2-73c6-449a-826f-1fae0ffd523b",
   "metadata": {},
   "outputs": [
    {
     "name": "stdout",
     "output_type": "stream",
     "text": [
      "Is 'Dog' a subclass of 'Animal'?  True\n",
      "Is 'Cat' a subclass of 'Animal'?  True\n",
      "Is 'Cat' a subclass of 'Dog'?  False\n"
     ]
    }
   ],
   "source": [
    "class Animal:\n",
    "    pass\n",
    "\n",
    "class Dog(Animal):\n",
    "    pass\n",
    "\n",
    "class Cat(Animal):\n",
    "    pass\n",
    "\n",
    "# Check if classes are subclasses of each other\n",
    "print(\"Is 'Dog' a subclass of 'Animal'? \", issubclass(Dog, Animal))  # True\n",
    "print(\"Is 'Cat' a subclass of 'Animal'? \", issubclass(Cat, Animal))  # True\n",
    "print(\"Is 'Cat' a subclass of 'Dog'? \", issubclass(Cat, Dog))        # False\n"
   ]
  },
  {
   "cell_type": "code",
   "execution_count": null,
   "id": "dbf32f89-ed7d-4581-9ba7-34ec97a8fd8d",
   "metadata": {},
   "outputs": [],
   "source": []
  },
  {
   "cell_type": "code",
   "execution_count": 79,
   "id": "48311463-c9d2-4ff2-a492-a81befb98ccc",
   "metadata": {},
   "outputs": [],
   "source": [
    "#10. Discuss the concept of constructor inheritance in Python. How are constructors inherited in child classes?"
   ]
  },
  {
   "cell_type": "markdown",
   "id": "68500395-b6d3-4ef8-8caa-1d6de044db63",
   "metadata": {},
   "source": [
    "In Python, constructor inheritance is a concept where child classes automatically inherit the constructors (also known as initialization methods) of their parent classes. This means that when a child class is created, it can make use of the constructor of its parent class to initialize attributes and perform any setup tasks defined in the parent class.\n",
    "\n",
    "Key points about constructor inheritance in Python:\n",
    "\n",
    "Automatic Inheritance: Child classes inherit the constructor of the parent class without any additional effort. When you create an instance of a child class, it implicitly calls the constructor of the parent class.\n",
    "\n",
    "super() for Constructor Chaining: To ensure that the parent class's constructor is called when creating an instance of the child class, you can use the super() function within the child class's constructor. This allows you to include the parent class's initialization logic and add any child class-specific logic as needed.\n",
    "\n",
    "Constructor Overriding: Just like other methods, constructors can be overridden in child classes. If the child class defines its own constructor, it will be used instead of the parent class's constructor."
   ]
  },
  {
   "cell_type": "code",
   "execution_count": 81,
   "id": "d2d4a024-e844-42bc-ab94-0c6bd1adf049",
   "metadata": {},
   "outputs": [
    {
     "name": "stdout",
     "output_type": "stream",
     "text": [
      "Parent class constructor called for Taskeen\n",
      "Child class constructor called for Taskeen, aged 25\n"
     ]
    }
   ],
   "source": [
    "class Parent:\n",
    "    def __init__(self, name):\n",
    "        self.name = name\n",
    "        print(f\"Parent class constructor called for {self.name}\")\n",
    "\n",
    "class Child(Parent):\n",
    "    def __init__(self, name, age):\n",
    "        super().__init__(name)  # Call the parent class constructor\n",
    "        self.age = age\n",
    "        print(f\"Child class constructor called for {self.name}, aged {self.age}\")\n",
    "\n",
    "# Creating an instance of the Child class\n",
    "child = Child(\"Taskeen\", 25)\n"
   ]
  },
  {
   "cell_type": "code",
   "execution_count": null,
   "id": "bf4dcb84-9d9e-4b23-97b0-3007519c83fd",
   "metadata": {},
   "outputs": [],
   "source": []
  },
  {
   "cell_type": "code",
   "execution_count": 82,
   "id": "3b19348c-9211-42c5-97ca-c64da636c6f2",
   "metadata": {},
   "outputs": [],
   "source": [
    "#11. Create a Python class called `Shape` with a method `area()` that calculates the area of a shape. Then, create child classes `Circle` and `Rectangle` that inherit from `Shape` and implement the `area()` method accordingly. Provide an example."
   ]
  },
  {
   "cell_type": "code",
   "execution_count": 83,
   "id": "1cb76e0d-a595-4ced-bc33-26f20946af12",
   "metadata": {},
   "outputs": [
    {
     "name": "stdout",
     "output_type": "stream",
     "text": [
      "Area of the Circle with radius 5: 78.54 square units\n",
      "Area of the Rectangle with width 4 and height 6: 24 square units\n"
     ]
    }
   ],
   "source": [
    "import math\n",
    "\n",
    "class Shape:\n",
    "    def area(self):\n",
    "        pass\n",
    "\n",
    "class Circle(Shape):\n",
    "    def __init__(self, radius):\n",
    "        self.radius = radius\n",
    "\n",
    "    def area(self):\n",
    "        return math.pi * self.radius**2\n",
    "\n",
    "class Rectangle(Shape):\n",
    "    def __init__(self, width, height):\n",
    "        self.width = width\n",
    "        self.height = height\n",
    "\n",
    "    def area(self):\n",
    "        return self.width * self.height\n",
    "\n",
    "# Creating instances of the child classes\n",
    "circle = Circle(5)\n",
    "rectangle = Rectangle(4, 6)\n",
    "\n",
    "# Calculating and displaying the areas\n",
    "print(f\"Area of the Circle with radius {circle.radius}: {circle.area():.2f} square units\")\n",
    "print(f\"Area of the Rectangle with width {rectangle.width} and height {rectangle.height}: {rectangle.area()} square units\")\n",
    "    "
   ]
  },
  {
   "cell_type": "code",
   "execution_count": null,
   "id": "a95db73c-f5be-41e9-a605-67ea1039e1c2",
   "metadata": {},
   "outputs": [],
   "source": []
  },
  {
   "cell_type": "code",
   "execution_count": 84,
   "id": "8743fb8f-dada-4f53-92c3-d93c929fcd46",
   "metadata": {},
   "outputs": [],
   "source": [
    "#12. Explain the use of abstract base classes (ABCs) in Python and how they relate to inheritance. Provide an example using the `abc` module."
   ]
  },
  {
   "cell_type": "markdown",
   "id": "b064c624-f4eb-468b-a47c-839b1b748377",
   "metadata": {},
   "source": [
    "Abstract Base Classes (ABCs) in Python are a way to define abstract classes that specify a set of methods that must be implemented by any concrete (sub)class. ABCs are a form of contract between a base class and its subclasses, ensuring that certain methods are available and have consistent interfaces. They promote code reliability and enforce a structure that aids in creating maintainable, predictable class hierarchies."
   ]
  },
  {
   "cell_type": "code",
   "execution_count": 85,
   "id": "7558f287-72bf-45ea-83a9-07b4983e9ea9",
   "metadata": {},
   "outputs": [
    {
     "name": "stdout",
     "output_type": "stream",
     "text": [
      "Error: Can't instantiate abstract class Shape with abstract method area\n"
     ]
    },
    {
     "ename": "TypeError",
     "evalue": "Rectangle() takes no arguments",
     "output_type": "error",
     "traceback": [
      "\u001b[0;31m---------------------------------------------------------------------------\u001b[0m",
      "\u001b[0;31mTypeError\u001b[0m                                 Traceback (most recent call last)",
      "Cell \u001b[0;32mIn[85], line 33\u001b[0m\n\u001b[1;32m     31\u001b[0m \u001b[38;5;66;03m# Creating instances of the concrete classes\u001b[39;00m\n\u001b[1;32m     32\u001b[0m circle \u001b[38;5;241m=\u001b[39m Circle(\u001b[38;5;241m5\u001b[39m)\n\u001b[0;32m---> 33\u001b[0m rectangle \u001b[38;5;241m=\u001b[39m \u001b[43mRectangle\u001b[49m\u001b[43m(\u001b[49m\u001b[38;5;241;43m4\u001b[39;49m\u001b[43m,\u001b[49m\u001b[43m \u001b[49m\u001b[38;5;241;43m6\u001b[39;49m\u001b[43m)\u001b[49m\n\u001b[1;32m     35\u001b[0m \u001b[38;5;66;03m# Calculating and displaying the areas\u001b[39;00m\n\u001b[1;32m     36\u001b[0m \u001b[38;5;28mprint\u001b[39m(\u001b[38;5;124mf\u001b[39m\u001b[38;5;124m\"\u001b[39m\u001b[38;5;124mArea of the Circle with radius \u001b[39m\u001b[38;5;132;01m{\u001b[39;00mcircle\u001b[38;5;241m.\u001b[39mradius\u001b[38;5;132;01m}\u001b[39;00m\u001b[38;5;124m: \u001b[39m\u001b[38;5;132;01m{\u001b[39;00mcircle\u001b[38;5;241m.\u001b[39marea()\u001b[38;5;132;01m:\u001b[39;00m\u001b[38;5;124m.2f\u001b[39m\u001b[38;5;132;01m}\u001b[39;00m\u001b[38;5;124m square units\u001b[39m\u001b[38;5;124m\"\u001b[39m)\n",
      "\u001b[0;31mTypeError\u001b[0m: Rectangle() takes no arguments"
     ]
    }
   ],
   "source": [
    "from abc import ABC, abstractmethod\n",
    "\n",
    "# Define an abstract base class\n",
    "class Shape(ABC):\n",
    "    @abstractmethod\n",
    "    def area(self):\n",
    "        pass\n",
    "\n",
    "# Concrete classes that inherit from the abstract base class\n",
    "class Circle(Shape):\n",
    "    def __init__(self, radius):\n",
    "        self.radius = radius\n",
    "\n",
    "    def area(self):\n",
    "        return 3.141592653589793 * self.radius**2\n",
    "\n",
    "class Rectangle(Shape):\n",
    "    def __init(self, width, height):\n",
    "        self.width = width\n",
    "        self.height = height\n",
    "\n",
    "    def area(self):\n",
    "        return self.width * self.height\n",
    "\n",
    "# Attempt to create an instance of the abstract base class (will raise a TypeError)\n",
    "try:\n",
    "    shape = Shape()\n",
    "except TypeError as e:\n",
    "    print(f\"Error: {e}\")\n",
    "\n",
    "# Creating instances of the concrete classes\n",
    "circle = Circle(5)\n",
    "rectangle = Rectangle(4, 6)\n",
    "\n",
    "# Calculating and displaying the areas\n",
    "print(f\"Area of the Circle with radius {circle.radius}: {circle.area():.2f} square units\")\n",
    "print(f\"Area of the Rectangle with width {rectangle.width} and height {rectangle.height}: {rectangle.area()} square units\")\n"
   ]
  },
  {
   "cell_type": "code",
   "execution_count": null,
   "id": "8a5a2758-6194-4445-9aeb-f77e39bc700f",
   "metadata": {},
   "outputs": [],
   "source": []
  },
  {
   "cell_type": "code",
   "execution_count": 86,
   "id": "da3373a9-4e4f-414a-84e0-472273de3304",
   "metadata": {},
   "outputs": [],
   "source": [
    "##13. How can you prevent a child class from modifying certain attributes or methods inherited from a parent class in Python?"
   ]
  },
  {
   "cell_type": "markdown",
   "id": "f239236f-0491-451f-88ae-50cffb65fc22",
   "metadata": {},
   "source": [
    "\n",
    "In Python, you can prevent a child class from modifying certain attributes or methods inherited from a parent class by using various techniques and access control mechanisms. Here are some common approaches:\n",
    "\n",
    "Private Attributes and Methods: Prefix attributes and methods in the parent class with a double underscore (e.g., __attribute) to make them \"private.\" This effectively makes them harder to modify directly from the child class."
   ]
  },
  {
   "cell_type": "code",
   "execution_count": 87,
   "id": "8f6db8df-92c3-4352-8860-243a6c6ba6f3",
   "metadata": {},
   "outputs": [],
   "source": [
    "class Parent:\n",
    "    def __init__(self):\n",
    "        self.__private_attribute = 42\n",
    "\n",
    "    def __private_method(self):\n",
    "        return \"This is a private method.\"\n",
    "\n",
    "class Child(Parent):\n",
    "    def access_private(self):\n",
    "        return self.__private_attribute  # Access is still possible, but it's discouraged\n"
   ]
  },
  {
   "cell_type": "code",
   "execution_count": null,
   "id": "5e37b85f-7501-4d03-8eea-08aefd3b085c",
   "metadata": {},
   "outputs": [],
   "source": []
  },
  {
   "cell_type": "markdown",
   "id": "5878504e-443c-4531-8d9f-aa61caf41961",
   "metadata": {},
   "source": [
    "Use Property Decorators: Define properties in the parent class using the @property decorator and setter methods to control access and modification. This allows you to enforce specific behavior when accessing or modifying attributes."
   ]
  },
  {
   "cell_type": "code",
   "execution_count": 88,
   "id": "da5bbf43-7728-4172-bb92-b0b264d88348",
   "metadata": {},
   "outputs": [],
   "source": [
    "class Parent:\n",
    "    def __init__(self):\n",
    "        self._protected_attribute = 42\n",
    "\n",
    "    @property\n",
    "    def protected_attribute(self):\n",
    "        return self._protected_attribute\n",
    "\n",
    "    @protected_attribute.setter\n",
    "    def protected_attribute(self, value):\n",
    "        if value > 0:\n",
    "            self._protected_attribute = value\n",
    "\n",
    "class Child(Parent):\n",
    "    def modify_protected(self, value):\n",
    "        self.protected_attribute = value  # This uses the setter, allowing control over modification\n"
   ]
  },
  {
   "cell_type": "code",
   "execution_count": null,
   "id": "13324e90-a804-46e3-b323-70a497ca631f",
   "metadata": {},
   "outputs": [],
   "source": []
  },
  {
   "cell_type": "markdown",
   "id": "06e8f0eb-b02d-425f-bef3-1913d07ca3a5",
   "metadata": {},
   "source": [
    "Name Mangling: Prefix attribute names in the parent class with a single underscore (e.g., _attribute). This is a convention that signals to the child class that the attribute should be treated as non-public, but it can still be accessed."
   ]
  },
  {
   "cell_type": "code",
   "execution_count": 89,
   "id": "6f082997-882e-4843-b191-9b8e96a49ee1",
   "metadata": {},
   "outputs": [],
   "source": [
    "class Parent:\n",
    "    def __init__(self):\n",
    "        self._protected_attribute = 42\n",
    "\n",
    "class Child(Parent):\n",
    "    def modify_protected(self, value):\n",
    "        self._protected_attribute = value  # Access is still possible, but it's discouraged\n"
   ]
  },
  {
   "cell_type": "code",
   "execution_count": null,
   "id": "7656a863-f730-428a-bb21-095f4058def9",
   "metadata": {},
   "outputs": [],
   "source": []
  },
  {
   "cell_type": "markdown",
   "id": "2e4c6bb1-8369-4d1d-806c-23204b4bcb62",
   "metadata": {},
   "source": [
    "Use Abstract Base Classes (ABCs): Define abstract methods in the parent class, which child classes are required to implement. This way, you can control what methods need to be provided by child classes while keeping their implementations independent."
   ]
  },
  {
   "cell_type": "code",
   "execution_count": 90,
   "id": "3814f04c-2a03-46f0-abec-4dd31dbcb9e1",
   "metadata": {},
   "outputs": [],
   "source": [
    "from abc import ABC, abstractmethod\n",
    "\n",
    "class Parent(ABC):\n",
    "    @abstractmethod\n",
    "    def cannot_modify_me(self):\n",
    "        pass\n",
    "\n",
    "class Child(Parent):\n",
    "    def cannot_modify_me(self):\n",
    "        return \"This is a required implementation.\"\n"
   ]
  },
  {
   "cell_type": "code",
   "execution_count": null,
   "id": "f53b3c09-d39f-4814-8ae2-affbc26d5b97",
   "metadata": {},
   "outputs": [],
   "source": []
  },
  {
   "cell_type": "code",
   "execution_count": 91,
   "id": "67ad611e-059c-4cc5-b824-0ade3d66435e",
   "metadata": {},
   "outputs": [],
   "source": [
    "#14. Create a Python class called `Employee` with attributes `name` and `salary`. Then, create a child class `Manager` that inherits from `Employee` and adds an attribute `department`. Provide an example."
   ]
  },
  {
   "cell_type": "code",
   "execution_count": 93,
   "id": "e9698f64-f726-49d9-ab12-bb3110cf65b7",
   "metadata": {},
   "outputs": [
    {
     "name": "stdout",
     "output_type": "stream",
     "text": [
      "Employee: Rizwan, Salary: $50000\n",
      "Manager: Taskeen, Salary: $75000, Department: Human Resources\n"
     ]
    }
   ],
   "source": [
    "class Employee:\n",
    "    def __init__(self, name, salary):\n",
    "        self.name = name\n",
    "        self.salary = salary\n",
    "\n",
    "class Manager(Employee):\n",
    "    def __init__(self, name, salary, department):\n",
    "        super().__init__(name, salary)  # Call the constructor of the parent class\n",
    "        self.department = department\n",
    "\n",
    "# Creating instances of the Employee and Manager classes\n",
    "employee = Employee(\"Rizwan\", 50000)\n",
    "manager = Manager(\"Taskeen\", 75000, \"Human Resources\")\n",
    "\n",
    "# Accessing object attributes\n",
    "print(f\"Employee: {employee.name}, Salary: ${employee.salary}\")\n",
    "print(f\"Manager: {manager.name}, Salary: ${manager.salary}, Department: {manager.department}\")\n"
   ]
  },
  {
   "cell_type": "code",
   "execution_count": null,
   "id": "7b98e5e8-5dc6-4f6a-af01-a5e68669f972",
   "metadata": {},
   "outputs": [],
   "source": []
  },
  {
   "cell_type": "code",
   "execution_count": 94,
   "id": "6ac7848a-e0d7-4645-a198-ee7c4c3437b3",
   "metadata": {},
   "outputs": [],
   "source": [
    "#15. Discuss the concept of method overloading in Python inheritance. How does it differ from method overriding?"
   ]
  },
  {
   "cell_type": "markdown",
   "id": "98606fb3-bfc0-4fe4-b24c-114a67ac053e",
   "metadata": {},
   "source": [
    "Method Overloading:\n",
    "\n",
    "Method Names Are the Same: Method overloading is about defining multiple methods with the same name in a class.\n",
    "Different Parameters: Overloaded methods have different parameter lists (number and types of parameters).\n",
    "Determined at Compile Time: The method to be executed is determined at compile time based on the provided arguments.\n",
    "No Automatic Inheritance: Method overloading is not directly related to inheritance. It's a way to provide multiple methods with different argument variations within a single class.\n"
   ]
  },
  {
   "cell_type": "code",
   "execution_count": 95,
   "id": "f1f3188e-55c4-449b-8c7e-93cd0cdc37bc",
   "metadata": {},
   "outputs": [
    {
     "ename": "TypeError",
     "evalue": "Calculator.add() missing 1 required positional argument: 'z'",
     "output_type": "error",
     "traceback": [
      "\u001b[0;31m---------------------------------------------------------------------------\u001b[0m",
      "\u001b[0;31mTypeError\u001b[0m                                 Traceback (most recent call last)",
      "Cell \u001b[0;32mIn[95], line 9\u001b[0m\n\u001b[1;32m      6\u001b[0m         \u001b[38;5;28;01mreturn\u001b[39;00m x \u001b[38;5;241m+\u001b[39m y \u001b[38;5;241m+\u001b[39m z\n\u001b[1;32m      8\u001b[0m calc \u001b[38;5;241m=\u001b[39m Calculator()\n\u001b[0;32m----> 9\u001b[0m result1 \u001b[38;5;241m=\u001b[39m \u001b[43mcalc\u001b[49m\u001b[38;5;241;43m.\u001b[39;49m\u001b[43madd\u001b[49m\u001b[43m(\u001b[49m\u001b[38;5;241;43m1\u001b[39;49m\u001b[43m,\u001b[49m\u001b[43m \u001b[49m\u001b[38;5;241;43m2\u001b[39;49m\u001b[43m)\u001b[49m         \u001b[38;5;66;03m# Calls the two-argument method\u001b[39;00m\n\u001b[1;32m     10\u001b[0m result2 \u001b[38;5;241m=\u001b[39m calc\u001b[38;5;241m.\u001b[39madd(\u001b[38;5;241m1\u001b[39m, \u001b[38;5;241m2\u001b[39m, \u001b[38;5;241m3\u001b[39m)      \u001b[38;5;66;03m# Calls the three-argument method\u001b[39;00m\n",
      "\u001b[0;31mTypeError\u001b[0m: Calculator.add() missing 1 required positional argument: 'z'"
     ]
    }
   ],
   "source": [
    "class Calculator:\n",
    "    def add(self, x, y):\n",
    "        return x + y\n",
    "\n",
    "    def add(self, x, y, z):\n",
    "        return x + y + z\n",
    "\n",
    "calc = Calculator()\n",
    "result1 = calc.add(1, 2)         # Calls the two-argument method\n",
    "result2 = calc.add(1, 2, 3)      # Calls the three-argument method\n"
   ]
  },
  {
   "cell_type": "code",
   "execution_count": null,
   "id": "bb7d5ae1-2972-46ec-9955-198f1892d6d8",
   "metadata": {},
   "outputs": [],
   "source": []
  },
  {
   "cell_type": "markdown",
   "id": "b7089772-683c-4795-b790-c2f84bdb6b37",
   "metadata": {},
   "source": [
    "Method Overriding:\n",
    "\n",
    "Method Names Are the Same: Method overriding is about providing a new implementation for a method with the same name and parameters in a child class.\n",
    "Same Parameters: Overridden methods have the same parameter list as the method in the parent class.\n",
    "Determined at Runtime: The method to be executed is determined at runtime, based on the actual object's class.\n",
    "Inheritance-Related: Method overriding is closely related to inheritance, as it allows child classes to provide their own behavior while retaining the method's name and parameters from the parent class."
   ]
  },
  {
   "cell_type": "code",
   "execution_count": 96,
   "id": "353b70bb-b407-4dd9-a5d3-a9fafc8dc8fd",
   "metadata": {},
   "outputs": [],
   "source": [
    "class Animal:\n",
    "    def speak(self):\n",
    "        return \"Animal speaks.\"\n",
    "\n",
    "class Dog(Animal):\n",
    "    def speak(self):\n",
    "        return \"Dog barks.\"\n",
    "\n",
    "dog = Dog()\n",
    "result = dog.speak()  # Calls the overridden speak method in the Dog class\n"
   ]
  },
  {
   "cell_type": "code",
   "execution_count": null,
   "id": "dc1bf791-9398-4f5a-a798-609b1f36bf6e",
   "metadata": {},
   "outputs": [],
   "source": []
  },
  {
   "cell_type": "code",
   "execution_count": 97,
   "id": "f01123b8-b9f5-42ad-8575-92c3b2d99c40",
   "metadata": {},
   "outputs": [],
   "source": [
    "#16. Explain the purpose of the `__init__()` method in Python inheritance and how it is utilized in child classes."
   ]
  },
  {
   "cell_type": "markdown",
   "id": "542f1d0e-c634-4afb-825f-cc9ae7633c90",
   "metadata": {},
   "source": [
    "The __init__() method in Python is a special method, also known as the constructor, that is used to initialize an object when it is created from a class. In the context of inheritance, the __init__() method in a parent class is often utilized to perform common initialization tasks that should be shared by all child classes. This ensures that the child classes are properly initialized and can add their own specific attributes and behavior as needed."
   ]
  },
  {
   "cell_type": "code",
   "execution_count": 98,
   "id": "156faf53-bce2-4582-94c3-545e027d1ec3",
   "metadata": {},
   "outputs": [
    {
     "name": "stdout",
     "output_type": "stream",
     "text": [
      "Make: Toyota, Model: Camry, Year: 2022, Color: Blue\n"
     ]
    }
   ],
   "source": [
    "class Vehicle:\n",
    "    def __init__(self, make, model, year):\n",
    "        self.make = make\n",
    "        self.model = model\n",
    "        self.year = year\n",
    "\n",
    "class Car(Vehicle):\n",
    "    def __init__(self, make, model, year, color):\n",
    "        super().__init__(make, model, year)  # Call the parent class's constructor\n",
    "        self.color = color\n",
    "\n",
    "# Creating instances of the child class\n",
    "my_car = Car(\"Toyota\", \"Camry\", 2022, \"Blue\")\n",
    "\n",
    "# Accessing object attributes\n",
    "print(f\"Make: {my_car.make}, Model: {my_car.model}, Year: {my_car.year}, Color: {my_car.color}\")\n"
   ]
  },
  {
   "cell_type": "code",
   "execution_count": null,
   "id": "e954e5bd-92b1-4cb6-85f1-3fc23eb23530",
   "metadata": {},
   "outputs": [],
   "source": []
  },
  {
   "cell_type": "code",
   "execution_count": 99,
   "id": "a1414132-bff2-4986-8904-e01df490add6",
   "metadata": {},
   "outputs": [],
   "source": [
    "#17. Create a Python class called `Bird` with a method `fly()`. Then, create child classes `Eagle` and `Sparrow` that inherit from `Bird` and implement the `fly()` method differently. Provide an example of using these classes."
   ]
  },
  {
   "cell_type": "code",
   "execution_count": 100,
   "id": "67fd1add-94c6-4094-84eb-ec6f1b178957",
   "metadata": {},
   "outputs": [
    {
     "name": "stdout",
     "output_type": "stream",
     "text": [
      "Eagle: The eagle soars high in the sky.\n",
      "Sparrow: The sparrow flits and hops around.\n"
     ]
    }
   ],
   "source": [
    "class Bird:\n",
    "    def fly(self):\n",
    "        return \"This bird can fly.\"\n",
    "\n",
    "class Eagle(Bird):\n",
    "    def fly(self):\n",
    "        return \"The eagle soars high in the sky.\"\n",
    "\n",
    "class Sparrow(Bird):\n",
    "    def fly(self):\n",
    "        return \"The sparrow flits and hops around.\"\n",
    "\n",
    "# Creating instances of the child classes\n",
    "eagle = Eagle()\n",
    "sparrow = Sparrow()\n",
    "\n",
    "# Using the 'fly' method of the child classes\n",
    "print(\"Eagle:\", eagle.fly())\n",
    "print(\"Sparrow:\", sparrow.fly())\n"
   ]
  },
  {
   "cell_type": "code",
   "execution_count": null,
   "id": "e8566437-27d0-4730-87bb-1e7f348dc763",
   "metadata": {},
   "outputs": [],
   "source": []
  },
  {
   "cell_type": "code",
   "execution_count": 101,
   "id": "52cc2aa3-8c96-46a2-9aac-e6021a6e67ae",
   "metadata": {},
   "outputs": [],
   "source": [
    "#18. What is the \"diamond problem\" in multiple inheritance, and how does Python address it?"
   ]
  },
  {
   "cell_type": "markdown",
   "id": "e7ca2f32-6a86-49c0-9df2-b598b6c6117f",
   "metadata": {},
   "source": [
    "The \"diamond problem\" is a challenge that arises in the context of multiple inheritance, a feature where a class can inherit attributes and methods from more than one parent class. This problem occurs when a particular class inherits from two or more classes, and those parent classes have a common ancestor. If a method or attribute is defined in the common ancestor, it can create ambiguity and conflicts in the child class."
   ]
  },
  {
   "cell_type": "code",
   "execution_count": 102,
   "id": "5be3e34f-959b-4cf1-a6d8-b71dedb949db",
   "metadata": {},
   "outputs": [
    {
     "ename": "IndentationError",
     "evalue": "unexpected indent (3706217479.py, line 2)",
     "output_type": "error",
     "traceback": [
      "\u001b[0;36m  Cell \u001b[0;32mIn[102], line 2\u001b[0;36m\u001b[0m\n\u001b[0;31m    (B, C)\u001b[0m\n\u001b[0m    ^\u001b[0m\n\u001b[0;31mIndentationError\u001b[0m\u001b[0;31m:\u001b[0m unexpected indent\n"
     ]
    }
   ],
   "source": [
    "     A\n",
    "    / \\\n",
    "   B   C\n",
    "    \\ /\n",
    "     D\n"
   ]
  },
  {
   "cell_type": "code",
   "execution_count": 104,
   "id": "d5a4d15d-a228-493b-9915-73e0c2bc9b32",
   "metadata": {},
   "outputs": [
    {
     "name": "stdout",
     "output_type": "stream",
     "text": [
      "B's foo\n"
     ]
    }
   ],
   "source": [
    "class A:\n",
    "    def foo(self):\n",
    "        print(\"A's foo\")\n",
    "\n",
    "class B(A):\n",
    "    def foo(self):\n",
    "        print(\"B's foo\")\n",
    "\n",
    "class C(A):\n",
    "    def foo(self):\n",
    "        print(\"C's foo\")\n",
    "\n",
    "class D(B, C):\n",
    "    pass\n",
    "\n",
    "d = D()\n",
    "d.foo()\n"
   ]
  },
  {
   "cell_type": "code",
   "execution_count": null,
   "id": "31624b9b-cba2-4358-98ef-e6cf8f1c1f58",
   "metadata": {},
   "outputs": [],
   "source": []
  },
  {
   "cell_type": "code",
   "execution_count": 103,
   "id": "6c24fcb7-c9f4-47e7-88de-14775729fcfd",
   "metadata": {},
   "outputs": [],
   "source": [
    "#19. Discuss the concept of \"is-a\" and \"has-a\" relationships in inheritance, and provide examples of each."
   ]
  },
  {
   "cell_type": "markdown",
   "id": "0b3b169b-3552-474f-923f-546c77e3b4e4",
   "metadata": {},
   "source": [
    "\"Is-a\" Relationship (Inheritance):\n",
    "\n",
    "The \"is-a\" relationship represents inheritance or subclassing. It is used when a class is a specialized version of another class, and it inherits the attributes and behaviors (methods) of the parent class.\n",
    "In the \"is-a\" relationship, a child class (subclass) is a type of the parent class (superclass), and it shares the characteristics of the parent class.\n",
    "\"Is-a\" relationships are used to model specialization and generalization hierarchies, where a child class refines or extends the behavior of the parent class."
   ]
  },
  {
   "cell_type": "code",
   "execution_count": 105,
   "id": "516b2502-4ede-4fbe-b79e-d3a7f35d9077",
   "metadata": {},
   "outputs": [],
   "source": [
    "class Animal:\n",
    "    def speak(self):\n",
    "        pass\n",
    "\n",
    "class Dog(Animal):\n",
    "    def speak(self):\n",
    "        return \"Woof!\"\n",
    "\n",
    "class Cat(Animal):\n",
    "    def speak(self):\n",
    "        return \"Meow!\"\n",
    "\n",
    "# Dog and Cat are specialized types of Animals.\n"
   ]
  },
  {
   "cell_type": "code",
   "execution_count": null,
   "id": "3ce04469-33cf-40e5-b17f-3adddf16e55b",
   "metadata": {},
   "outputs": [],
   "source": []
  },
  {
   "cell_type": "markdown",
   "id": "f7a77dcb-c165-4f93-97a8-430d8f27796a",
   "metadata": {},
   "source": [
    "\"Has-a\" Relationship (Composition):\n",
    "\n",
    "The \"has-a\" relationship represents composition, where a class contains an instance of another class as one of its attributes.\n",
    "In the \"has-a\" relationship, a class has another class as a part or component, and it uses the functionality of the other class through an attribute.\n",
    "\"Has-a\" relationships are used to model relationships between objects where one object is composed of or contains another object."
   ]
  },
  {
   "cell_type": "code",
   "execution_count": 106,
   "id": "324f9f8f-b602-43fb-936f-24fef276b20c",
   "metadata": {},
   "outputs": [
    {
     "data": {
      "text/plain": [
       "'Engine started.'"
      ]
     },
     "execution_count": 106,
     "metadata": {},
     "output_type": "execute_result"
    }
   ],
   "source": [
    "class Engine:\n",
    "    def start(self):\n",
    "        return \"Engine started.\"\n",
    "\n",
    "class Car:\n",
    "    def __init__(self):\n",
    "        self.engine = Engine()  # Car has an Engine.\n",
    "\n",
    "my_car = Car()\n",
    "my_car.engine.start()  # The Car class \"has-a\" relationship with the Engine class.\n"
   ]
  },
  {
   "cell_type": "code",
   "execution_count": null,
   "id": "c4d555c1-37e4-4853-9c95-363e9a89efd3",
   "metadata": {},
   "outputs": [],
   "source": []
  },
  {
   "cell_type": "code",
   "execution_count": 107,
   "id": "0999551d-9f90-4d24-8108-cb0d30606690",
   "metadata": {},
   "outputs": [],
   "source": [
    "#20. Create a Python class hierarchy for a university system. Start with a base class `Person` and create child classes `Student` and `Professor`, each with their own attributes and methods. Provide an example of using these classes in a university context."
   ]
  },
  {
   "cell_type": "code",
   "execution_count": 108,
   "id": "a3797f5f-055f-4268-bde6-5af8ff1dbc56",
   "metadata": {},
   "outputs": [
    {
     "name": "stdout",
     "output_type": "stream",
     "text": [
      "My name is Alice Smith and I am 20 years old.\n",
      "I am a student in Computer Science and I am studying hard.\n",
      "My name is Dr. John Doe and I am 45 years old.\n",
      "I am a professor in the Engineering department.\n"
     ]
    }
   ],
   "source": [
    "class Person:\n",
    "    def __init__(self, name, age):\n",
    "        self.name = name\n",
    "        self.age = age\n",
    "\n",
    "    def introduce(self):\n",
    "        return f\"My name is {self.name} and I am {self.age} years old.\"\n",
    "\n",
    "class Student(Person):\n",
    "    def __init__(self, name, age, student_id, major):\n",
    "        super().__init__(name, age)\n",
    "        self.student_id = student_id\n",
    "        self.major = major\n",
    "\n",
    "    def study(self):\n",
    "        return f\"I am a student in {self.major} and I am studying hard.\"\n",
    "\n",
    "class Professor(Person):\n",
    "    def __init__(self, name, age, employee_id, department):\n",
    "        super().__init__(name, age)\n",
    "        self.employee_id = employee_id\n",
    "        self.department = department\n",
    "\n",
    "    def teach(self):\n",
    "        return f\"I am a professor in the {self.department} department.\"\n",
    "\n",
    "# Creating instances of the classes\n",
    "student1 = Student(\"Alice Smith\", 20, \"S12345\", \"Computer Science\")\n",
    "professor1 = Professor(\"Dr. John Doe\", 45, \"P9876\", \"Engineering\")\n",
    "\n",
    "# Using the methods of the classes\n",
    "print(student1.introduce())  # Student introduces themselves\n",
    "print(student1.study())      # Student talks about studying\n",
    "print(professor1.introduce())  # Professor introduces themselves\n",
    "print(professor1.teach())     # Professor talks about teaching\n"
   ]
  },
  {
   "cell_type": "code",
   "execution_count": null,
   "id": "d5ae2e56-51d4-4816-ad16-418b4daa76a8",
   "metadata": {},
   "outputs": [],
   "source": []
  },
  {
   "cell_type": "code",
   "execution_count": null,
   "id": "dda29481-d396-4d6b-8842-a19389631339",
   "metadata": {},
   "outputs": [],
   "source": []
  },
  {
   "cell_type": "markdown",
   "id": "ede70090-3395-4f05-8bfb-e15e60c05dfb",
   "metadata": {},
   "source": [
    "Encapsulation:"
   ]
  },
  {
   "cell_type": "code",
   "execution_count": null,
   "id": "8e69ced8-38f4-4b39-9979-063f523df36e",
   "metadata": {},
   "outputs": [],
   "source": []
  },
  {
   "cell_type": "code",
   "execution_count": 109,
   "id": "6fb88e9c-09b6-4701-91d5-dd09c0c9baf7",
   "metadata": {},
   "outputs": [],
   "source": [
    "#1. Explain the concept of encapsulation in Python. What is its role in object-oriented programming?"
   ]
  },
  {
   "cell_type": "markdown",
   "id": "6d0a61e0-35a3-4a3b-8c0b-51fc87ef92a5",
   "metadata": {},
   "source": [
    "Encapsulation is one of the fundamental principles of object-oriented programming (OOP) and refers to the bundling of data (attributes or properties) and the methods (functions or behaviors) that operate on that data into a single unit called a class. It serves as a mechanism for restricting access to some of an object's components, ensuring that the internal state of an object is hidden from external access and manipulation. Encapsulation helps achieve data hiding, information security, and a clear separation of concerns in OOP. Here are the key concepts related to encapsulation in Python:"
   ]
  },
  {
   "cell_type": "code",
   "execution_count": 113,
   "id": "f2e5753f-ee00-40f7-8d52-7f560e3c12fa",
   "metadata": {},
   "outputs": [
    {
     "ename": "AttributeError",
     "evalue": "'BankAccount' object has no attribute '__account_number'",
     "output_type": "error",
     "traceback": [
      "\u001b[0;31m---------------------------------------------------------------------------\u001b[0m",
      "\u001b[0;31mAttributeError\u001b[0m                            Traceback (most recent call last)",
      "Cell \u001b[0;32mIn[113], line 20\u001b[0m\n\u001b[1;32m     17\u001b[0m \u001b[38;5;66;03m# Using the BankAccount class\u001b[39;00m\n\u001b[1;32m     18\u001b[0m account \u001b[38;5;241m=\u001b[39m BankAccount (\u001b[38;5;124m\"\u001b[39m\u001b[38;5;124m123456\u001b[39m\u001b[38;5;124m\"\u001b[39m, \u001b[38;5;241m1000\u001b[39m)\n\u001b[0;32m---> 20\u001b[0m \u001b[38;5;28mprint\u001b[39m(\u001b[38;5;124mf\u001b[39m\u001b[38;5;124m\"\u001b[39m\u001b[38;5;124mAccount Number: \u001b[39m\u001b[38;5;132;01m{\u001b[39;00m\u001b[43maccount\u001b[49m\u001b[38;5;241;43m.\u001b[39;49m\u001b[43m__account_number\u001b[49m\u001b[38;5;132;01m}\u001b[39;00m\u001b[38;5;124m\"\u001b[39m)  \u001b[38;5;66;03m# This will result in an error because the attribute is private\u001b[39;00m\n\u001b[1;32m     21\u001b[0m \u001b[38;5;28mprint\u001b[39m(\u001b[38;5;124mf\u001b[39m\u001b[38;5;124m\"\u001b[39m\u001b[38;5;124mBalance: \u001b[39m\u001b[38;5;132;01m{\u001b[39;00maccount\u001b[38;5;241m.\u001b[39mget_balance()\u001b[38;5;132;01m}\u001b[39;00m\u001b[38;5;124m\"\u001b[39m)  \u001b[38;5;66;03m# Accessing the balance using a getter method\u001b[39;00m\n\u001b[1;32m     22\u001b[0m account\u001b[38;5;241m.\u001b[39mwithdraw(\u001b[38;5;241m500\u001b[39m)\n",
      "\u001b[0;31mAttributeError\u001b[0m: 'BankAccount' object has no attribute '__account_number'"
     ]
    }
   ],
   "source": [
    "class BankAccount:\n",
    "    def __init__(self, account_number, balance):\n",
    "        self.__account_number = account_number  # Private attribute\n",
    "        self.__balance = balance  # Private attribute\n",
    "\n",
    "    def get_balance(self):  # Getter method\n",
    "        return self.__balance\n",
    "\n",
    "    def deposit(self, amount):\n",
    "        if amount > 0:\n",
    "            self.__balance += amount\n",
    "\n",
    "    def withdraw(self, amount):\n",
    "        if amount > 0 and amount <= self.__balance:\n",
    "            self.__balance -= amount\n",
    "\n",
    "# Using the BankAccount class\n",
    "account = BankAccount (\"123456\", 1000)\n",
    "\n",
    "print(f\"Account Number: {account.__account_number}\")  # This will result in an error because the attribute is private\n",
    "print(f\"Balance: {account.get_balance()}\")  # Accessing the balance using a getter method\n",
    "account.withdraw(500)\n",
    "print(f\"New Balance: {account.get_balance()}\")\n"
   ]
  },
  {
   "cell_type": "code",
   "execution_count": null,
   "id": "f9722f3d-c339-461b-8852-786fc4398006",
   "metadata": {},
   "outputs": [],
   "source": []
  },
  {
   "cell_type": "code",
   "execution_count": 114,
   "id": "cf8515d8-a1c8-4b59-9b25-4ca333cf6129",
   "metadata": {},
   "outputs": [],
   "source": [
    "#2. Describe the key principles of encapsulation, including access control and data hiding."
   ]
  },
  {
   "cell_type": "markdown",
   "id": "4671b7cc-4c29-404d-a8da-a3e263bd3f7f",
   "metadata": {},
   "source": [
    "The key principles of encapsulation in object-oriented programming, including access control and data hiding, are essential for creating well-structured and maintainable code. Here's an explanation of these principles:\n",
    "\n",
    "Access Control:\n",
    "\n",
    "Access control defines how class members (attributes and methods) can be accessed and modified from outside the class. It helps restrict unauthorized access to certain parts of a class, ensuring that the class's internal state is manipulated only as intended. There are three common levels of access control:\n",
    "\n",
    "Public: Public members are accessible from anywhere, both inside and outside the class. They form the public interface of the class and are meant to be used by external code without restrictions.\n",
    "\n",
    "Private: Private members are not accessible from outside the class. In languages like Python, you can indicate that a member is private by prefixing its name with a double underscore (e.g., __attribute). This effectively hides the member from external access.\n",
    "\n",
    "Protected: Protected members are not strictly private but are indicated as non-public by convention. In Python, you can prefix the member's name with a single underscore (e.g., _attribute). While they are technically accessible, they are considered internal to the class and should not be accessed directly from outside.\n",
    "\n",
    "Data Hiding:\n",
    "\n",
    "Data hiding is a key aspect of encapsulation. It involves concealing the internal implementation details of a class from external code. This ensures that the internal state of an object is not directly exposed or manipulated by external code. Data hiding promotes information security, allowing you to define what data is accessible, how it can be accessed, and whether it can be modified. Key concepts related to data hiding include:\n",
    "\n",
    "Private Attributes: Data hiding is typically achieved by making attributes private, meaning they are not directly accessible from outside the class. In Python, this is done by prefixing attribute names with a double underscore (e.g., __attribute).\n",
    "\n",
    "Getter and Setter Methods: To provide controlled access to private attributes, getter methods (accessors) and setter methods (mutators) are used. Getter methods allow external code to retrieve the value of an attribute, and setter methods enable external code to modify the attribute, often with validation and constraints.\n",
    "\n",
    "Information Security: Data hiding ensures that the internal state of an object remains hidden from external access, promoting information security and preventing unintended manipulation. It enforces the principle of \"need to know,\" meaning external code should only interact with the public interface of a class."
   ]
  },
  {
   "cell_type": "code",
   "execution_count": null,
   "id": "76407242-309b-48f3-902b-0e53551662f0",
   "metadata": {},
   "outputs": [],
   "source": []
  },
  {
   "cell_type": "code",
   "execution_count": 115,
   "id": "235356fc-42d7-433f-be74-6a4d771adca4",
   "metadata": {},
   "outputs": [],
   "source": [
    "#3. How can you achieve encapsulation in Python classes? Provide an example."
   ]
  },
  {
   "cell_type": "markdown",
   "id": "1c9ff5a6-64b9-485a-840d-7b5757794f38",
   "metadata": {},
   "source": [
    "Use Access Modifiers: While Python does not have traditional access modifiers like some other languages, it provides naming conventions to indicate the level of visibility and access control.\n",
    "\n",
    "Public: Members with no prefix are considered public and can be accessed from anywhere.\n",
    "Private: Prefix member names with a double underscore (e.g., __attribute) to indicate that they are intended to be private. This doesn't make them entirely private, but it suggests that they should not be accessed directly from outside the class.\n",
    "Use Getter and Setter Methods: To provide controlled access to private attributes, create getter and setter methods. Getter methods retrieve the value of an attribute, and setter methods modify the attribute while enforcing validation and constraints."
   ]
  },
  {
   "cell_type": "code",
   "execution_count": 118,
   "id": "6c109c27-82fa-4212-b0d7-6f84393b41b3",
   "metadata": {},
   "outputs": [
    {
     "name": "stdout",
     "output_type": "stream",
     "text": [
      "Initial Name: Rizwan\n",
      "Updated Name: Taskeen\n",
      "Initial Age: 30\n",
      "Updated Age: 25\n"
     ]
    }
   ],
   "source": [
    "class Person:\n",
    "    def __init__(self, name, age):\n",
    "        self.__name = name  # Private attribute\n",
    "        self.__age = age    # Private attribute\n",
    "\n",
    "    def get_name(self):  # Getter method for name\n",
    "        return self.__name\n",
    "\n",
    "    def set_name(self, name):  # Setter method for name\n",
    "        if isinstance(name, str):\n",
    "            self.__name = name\n",
    "        else:\n",
    "            print(\"Name must be a string.\")\n",
    "\n",
    "    def get_age(self):  # Getter method for age\n",
    "        return self.__age\n",
    "\n",
    "    def set_age(self, age):  # Setter method for age\n",
    "        if isinstance(age, int) and age >= 0:\n",
    "            self.__age = age\n",
    "        else:\n",
    "            print(\"Age must be a non-negative integer.\")\n",
    "\n",
    "# Creating an instance of the class\n",
    "person = Person(\"Rizwan\", 30)\n",
    "\n",
    "# Using getter and setter methods\n",
    "print(\"Initial Name:\", person.get_name())\n",
    "person.set_name(\"Taskeen\")\n",
    "print(\"Updated Name:\", person.get_name())\n",
    "\n",
    "print(\"Initial Age:\", person.get_age())\n",
    "person.set_age(25)\n",
    "print(\"Updated Age:\", person.get_age())\n"
   ]
  },
  {
   "cell_type": "code",
   "execution_count": null,
   "id": "0cb9242e-74ce-4557-bd93-06a9b6b29e25",
   "metadata": {},
   "outputs": [],
   "source": []
  },
  {
   "cell_type": "code",
   "execution_count": 119,
   "id": "9b492999-37c9-415a-9279-2de01cbc4a5e",
   "metadata": {},
   "outputs": [],
   "source": [
    "#4. Discuss the difference between public, private, and protected access modifiers in Python."
   ]
  },
  {
   "cell_type": "markdown",
   "id": "2eb6e73e-e8bf-41b6-af73-6b53673e355c",
   "metadata": {},
   "source": [
    "Public Members:\n",
    "\n",
    "Naming Convention: Members with no prefix (e.g., attribute or method()) are considered public.\n",
    "Access: Public members can be accessed from anywhere, both within and outside the class."
   ]
  },
  {
   "cell_type": "code",
   "execution_count": 120,
   "id": "647c7f43-3237-41e4-8c6a-00a523ffb935",
   "metadata": {},
   "outputs": [],
   "source": [
    "class MyClass:\n",
    "    def public_method(self):\n",
    "        pass\n",
    "\n",
    "    public_attribute = 42\n"
   ]
  },
  {
   "cell_type": "code",
   "execution_count": null,
   "id": "03868b96-9af6-4bac-ac75-43cb9f6e145b",
   "metadata": {},
   "outputs": [],
   "source": []
  },
  {
   "cell_type": "markdown",
   "id": "614e3dbd-c420-45e4-87af-85c12fbe6a3d",
   "metadata": {},
   "source": [
    "Private Members:\n",
    "\n",
    "Naming Convention: Members with a double underscore prefix (e.g., __attribute or __method()) are considered private by convention.\n",
    "Access: While Python does not make members strictly private, the double underscore prefix indicates that they are not intended to be accessed directly from outside the class. However, Python name mangling is applied, which means the name of the private member is modified to include the class name (e.g., _ClassName__attribute) to make it less likely to clash with other attributes in subclasses."
   ]
  },
  {
   "cell_type": "code",
   "execution_count": 121,
   "id": "f88e948b-4b5d-434e-996f-5c093096cece",
   "metadata": {},
   "outputs": [],
   "source": [
    "class MyClass:\n",
    "    def __init__(self):\n",
    "        self.__private_attribute = 42\n",
    "\n",
    "    def __private_method(self):\n",
    "        pass\n"
   ]
  },
  {
   "cell_type": "code",
   "execution_count": null,
   "id": "7c876d82-fd30-4dcf-b08f-65ec4787dadc",
   "metadata": {},
   "outputs": [],
   "source": []
  },
  {
   "cell_type": "markdown",
   "id": "01fa109a-0df6-485f-bd00-c12f964e531d",
   "metadata": {},
   "source": [
    "Protected Members:\n",
    "\n",
    "Naming Convention: Members with a single underscore prefix (e.g., _attribute or _method()) are considered protected by convention.\n",
    "Access: Python does not enforce protected access, but the single underscore indicates that these members are intended to be treated as non-public, and external code should not access them directly. It's a signal to other developers to use these members with care and avoid direct access."
   ]
  },
  {
   "cell_type": "code",
   "execution_count": 122,
   "id": "947fe543-3300-467a-b8fb-7a9fbb0e0fe3",
   "metadata": {},
   "outputs": [],
   "source": [
    "class MyClass:\n",
    "    def __init__(self):\n",
    "        self._protected_attribute = 42\n",
    "\n",
    "    def _protected_method(self):\n",
    "        pass\n"
   ]
  },
  {
   "cell_type": "code",
   "execution_count": null,
   "id": "2d22d4f3-225f-42f2-8ce6-304be12ac01e",
   "metadata": {},
   "outputs": [],
   "source": []
  },
  {
   "cell_type": "code",
   "execution_count": 123,
   "id": "3b46fd88-7972-4d9c-b62f-976ad6dcb2ac",
   "metadata": {},
   "outputs": [],
   "source": [
    "#5. Create a Python class called `Person` with a private attribute `__name`. Provide methods to get and set the name attribute."
   ]
  },
  {
   "cell_type": "code",
   "execution_count": 126,
   "id": "72df1dff-af19-4835-b591-ad67bf90027c",
   "metadata": {},
   "outputs": [
    {
     "name": "stdout",
     "output_type": "stream",
     "text": [
      "Name: Rizwan\n",
      "Updated Name: Rizwan Khan\n",
      "Name must be a string.\n"
     ]
    }
   ],
   "source": [
    "class Person:\n",
    "    def __init__(self, name):\n",
    "        self.__name = name  # Private attribute\n",
    "\n",
    "    def get_name(self):\n",
    "        return self.__name  # Getter method for name\n",
    "\n",
    "    def set_name(self, name):\n",
    "        if isinstance(name, str):\n",
    "            self.__name = name  # Setter method for name\n",
    "        else:\n",
    "            print(\"Name must be a string.\")\n",
    "\n",
    "# Creating an instance of the class\n",
    "person = Person(\"Rizwan\")\n",
    "\n",
    "# Using getter method to retrieve the name attribute\n",
    "print(\"Name:\", person.get_name())\n",
    "\n",
    "# Using setter method to update the name attribute\n",
    "person.set_name(\"Rizwan Khan\")\n",
    "print(\"Updated Name:\", person.get_name())\n",
    "\n",
    "# Attempting to set the name attribute to a non-string value\n",
    "person.set_name(123)\n"
   ]
  },
  {
   "cell_type": "code",
   "execution_count": null,
   "id": "1d0103a0-adca-4218-a741-870ca784ac36",
   "metadata": {},
   "outputs": [],
   "source": []
  },
  {
   "cell_type": "code",
   "execution_count": 127,
   "id": "0799f2fb-caeb-4aba-a217-675b79b4e720",
   "metadata": {},
   "outputs": [],
   "source": [
    "#6. Explain the purpose of getter and setter methods in encapsulation. Provide examples."
   ]
  },
  {
   "cell_type": "markdown",
   "id": "86672da7-1dc4-41b6-900a-5e0737c3eae3",
   "metadata": {},
   "source": [
    "Getter and setter methods play a crucial role in encapsulation by providing controlled access to an object's attributes (data members). They allow you to read (get) and modify (set) the values of attributes while enforcing validation and constraints. The primary purposes of getter and setter methods in encapsulation are:"
   ]
  },
  {
   "cell_type": "code",
   "execution_count": 128,
   "id": "bc38b7b8-eff9-49d8-8515-7f0bda99035a",
   "metadata": {},
   "outputs": [
    {
     "name": "stdout",
     "output_type": "stream",
     "text": [
      "Radius: 5\n"
     ]
    }
   ],
   "source": [
    "#Getter Method:\n",
    "\n",
    "class Circle:\n",
    "    def __init__(self, radius):\n",
    "        self.__radius = radius\n",
    "\n",
    "    def get_radius(self):\n",
    "        return self.__radius\n",
    "\n",
    "# Create an instance of the class\n",
    "circle = Circle(5)\n",
    "\n",
    "# Use the getter method to access the attribute\n",
    "print(\"Radius:\", circle.get_radius())  # Get the radius\n"
   ]
  },
  {
   "cell_type": "code",
   "execution_count": 129,
   "id": "614d9831-1aa3-4cde-967c-43233f92c28f",
   "metadata": {},
   "outputs": [
    {
     "name": "stdout",
     "output_type": "stream",
     "text": [
      "Balance cannot be negative.\n"
     ]
    }
   ],
   "source": [
    "#Setter Method:\n",
    "\n",
    "\n",
    "\n",
    "class BankAccount:\n",
    "    def __init__(self, balance):\n",
    "        self.__balance = balance\n",
    "\n",
    "    def set_balance(self, new_balance):\n",
    "        if new_balance >= 0:\n",
    "            self.__balance = new_balance\n",
    "        else:\n",
    "            print(\"Balance cannot be negative.\")\n",
    "\n",
    "# Create an instance of the class\n",
    "account = BankAccount(1000)\n",
    "\n",
    "# Use the setter method to modify the attribute\n",
    "account.set_balance(1500)  # Set a new balance\n",
    "account.set_balance(-500)   # Attempt to set a negative balance\n"
   ]
  },
  {
   "cell_type": "code",
   "execution_count": null,
   "id": "f11cb5ab-f1dd-4c02-9f3c-5e4797f7c8f1",
   "metadata": {},
   "outputs": [],
   "source": []
  },
  {
   "cell_type": "code",
   "execution_count": 130,
   "id": "b2e6b061-8229-4f59-ba75-7aa07934734d",
   "metadata": {},
   "outputs": [],
   "source": [
    "#7. What is name mangling in Python, and how does it affect encapsulation?"
   ]
  },
  {
   "cell_type": "markdown",
   "id": "91d13ca9-f06d-44e1-9664-71a53b579933",
   "metadata": {},
   "source": [
    "Name mangling is a mechanism in Python that alters the names of attributes or methods of a class to make them less likely to clash with names in subclasses. It is primarily used to implement private and protected members and helps to partially enforce encapsulation by making it more difficult for external code to access private attributes and methods."
   ]
  },
  {
   "cell_type": "code",
   "execution_count": 131,
   "id": "2b583cf7-544c-401d-9e61-b4f11be53d58",
   "metadata": {},
   "outputs": [
    {
     "ename": "AttributeError",
     "evalue": "'MySubclass' object has no attribute '_MySubclass__private_attribute'",
     "output_type": "error",
     "traceback": [
      "\u001b[0;31m---------------------------------------------------------------------------\u001b[0m",
      "\u001b[0;31mAttributeError\u001b[0m                            Traceback (most recent call last)",
      "Cell \u001b[0;32mIn[131], line 23\u001b[0m\n\u001b[1;32m     20\u001b[0m obj2 \u001b[38;5;241m=\u001b[39m MySubclass()\n\u001b[1;32m     22\u001b[0m \u001b[38;5;66;03m# Attempt to access private members from an instance of the subclass\u001b[39;00m\n\u001b[0;32m---> 23\u001b[0m \u001b[43mobj2\u001b[49m\u001b[38;5;241;43m.\u001b[39;49m\u001b[43maccess_private\u001b[49m\u001b[43m(\u001b[49m\u001b[43m)\u001b[49m\n",
      "Cell \u001b[0;32mIn[131], line 11\u001b[0m, in \u001b[0;36mMySubclass.access_private\u001b[0;34m(self)\u001b[0m\n\u001b[1;32m      9\u001b[0m \u001b[38;5;28;01mdef\u001b[39;00m \u001b[38;5;21maccess_private\u001b[39m(\u001b[38;5;28mself\u001b[39m):\n\u001b[1;32m     10\u001b[0m     \u001b[38;5;66;03m# Attempt to access the private attribute and method\u001b[39;00m\n\u001b[0;32m---> 11\u001b[0m     \u001b[38;5;28mprint\u001b[39m(\u001b[38;5;28;43mself\u001b[39;49m\u001b[38;5;241;43m.\u001b[39;49m\u001b[43m__private_attribute\u001b[49m)  \u001b[38;5;66;03m# This does not work\u001b[39;00m\n\u001b[1;32m     12\u001b[0m     \u001b[38;5;28mself\u001b[39m\u001b[38;5;241m.\u001b[39m__private_method()           \u001b[38;5;66;03m# This does not work\u001b[39;00m\n\u001b[1;32m     14\u001b[0m     \u001b[38;5;66;03m# Attempt to access the mangled attribute and method\u001b[39;00m\n",
      "\u001b[0;31mAttributeError\u001b[0m: 'MySubclass' object has no attribute '_MySubclass__private_attribute'"
     ]
    }
   ],
   "source": [
    "class MyClass:\n",
    "    def __init__(self):\n",
    "        self.__private_attribute = 42\n",
    "\n",
    "    def __private_method(self):\n",
    "        pass\n",
    "\n",
    "class MySubclass(MyClass):\n",
    "    def access_private(self):\n",
    "        # Attempt to access the private attribute and method\n",
    "        print(self.__private_attribute)  # This does not work\n",
    "        self.__private_method()           # This does not work\n",
    "\n",
    "        # Attempt to access the mangled attribute and method\n",
    "        print(self._MyClass__private_attribute)  # This works\n",
    "        self._MyClass__private_method()           # This works\n",
    "\n",
    "# Create instances of the classes\n",
    "obj1 = MyClass()\n",
    "obj2 = MySubclass()\n",
    "\n",
    "# Attempt to access private members from an instance of the subclass\n",
    "obj2.access_private()\n"
   ]
  },
  {
   "cell_type": "code",
   "execution_count": null,
   "id": "2682090f-69fb-46f4-a2af-3b7dffb3ed78",
   "metadata": {},
   "outputs": [],
   "source": []
  },
  {
   "cell_type": "code",
   "execution_count": 132,
   "id": "a1dc0fe7-b591-4e3c-af1d-74295ccf9c72",
   "metadata": {},
   "outputs": [],
   "source": [
    "#8. Create a Python class called `BankAccount` with private attributes for the account balance (`__balance`) and account number (`__account_number`). Provide methods for depositing and withdrawing money."
   ]
  },
  {
   "cell_type": "code",
   "execution_count": 133,
   "id": "bf6d6d68-fff3-4880-91b0-df9489cb6a8a",
   "metadata": {},
   "outputs": [
    {
     "name": "stdout",
     "output_type": "stream",
     "text": [
      "Deposited $500.0. New balance: $1500.00\n",
      "Withdrew $200.0. New balance: $1300.00\n",
      "Account Number: 12345678\n",
      "Account Balance: $1300.00\n"
     ]
    }
   ],
   "source": [
    "class BankAccount:\n",
    "    def __init__(self, account_number, initial_balance=0.0):\n",
    "        self.__account_number = account_number  # Private attribute for account number\n",
    "        self.__balance = initial_balance         # Private attribute for account balance\n",
    "\n",
    "    def deposit(self, amount):\n",
    "        if amount > 0:\n",
    "            self.__balance += amount\n",
    "            print(f\"Deposited ${amount}. New balance: ${self.__balance:.2f}\")\n",
    "        else:\n",
    "            print(\"Invalid deposit amount. Amount must be greater than 0.\")\n",
    "\n",
    "    def withdraw(self, amount):\n",
    "        if amount > 0 and amount <= self.__balance:\n",
    "            self.__balance -= amount\n",
    "            print(f\"Withdrew ${amount}. New balance: ${self.__balance:.2f}\")\n",
    "        else:\n",
    "            print(\"Invalid withdrawal amount or insufficient balance.\")\n",
    "\n",
    "    def get_balance(self):\n",
    "        return self.__balance  # Getter method for balance\n",
    "\n",
    "    def get_account_number(self):\n",
    "        return self.__account_number  # Getter method for account number\n",
    "\n",
    "# Create an instance of the class\n",
    "account = BankAccount(\"12345678\", 1000.0)\n",
    "\n",
    "# Deposit and withdraw money\n",
    "account.deposit(500.0)\n",
    "account.withdraw(200.0)\n",
    "\n",
    "# Get the account balance and account number\n",
    "print(f\"Account Number: {account.get_account_number()}\")\n",
    "print(f\"Account Balance: ${account.get_balance():.2f}\")\n"
   ]
  },
  {
   "cell_type": "code",
   "execution_count": null,
   "id": "8b825120-5f8b-4698-af06-f3f5d58af16b",
   "metadata": {},
   "outputs": [],
   "source": []
  },
  {
   "cell_type": "code",
   "execution_count": 134,
   "id": "520e510d-47aa-408e-a04d-6cde4c840941",
   "metadata": {},
   "outputs": [],
   "source": [
    "#9. Discuss the advantages of encapsulation in terms of code maintainability and security."
   ]
  },
  {
   "cell_type": "markdown",
   "id": "6ce9065a-b0ad-4ebb-b173-3ca03526b710",
   "metadata": {},
   "source": [
    "Encapsulation offers several advantages in terms of code maintainability and security in object-oriented programming. Here are some of the key benefits:\n",
    "\n",
    "1. Data Hiding and Information Security:\n",
    "\n",
    "Code Security: Encapsulation hides the internal details and state of an object from external code. Private members are not directly accessible from outside the class, reducing the risk of unauthorized or unintended manipulation of data.\n",
    "\n",
    "Information Security: Encapsulation helps protect sensitive or critical information from unauthorized access and modification. This is particularly important for securing confidential data in applications.\n",
    "\n",
    "2. Improved Code Maintainability:\n",
    "\n",
    "Reduced Complexity: By encapsulating data and behavior within a class, encapsulation simplifies the interface exposed to external code. This simplification reduces the complexity of interacting with the class.\n",
    "\n",
    "Isolation of Changes: Internal implementation details can change without affecting external code. This isolation of changes allows for easier updates, bug fixes, and enhancements to the class without impacting other parts of the program.\n",
    "\n",
    "Modularity: Encapsulation promotes the modularity of code by encapsulating related data and methods in one place. This makes it easier to manage and maintain code by breaking it into smaller, self-contained units.\n",
    "\n",
    "3. Controlled Access with Validation:\n",
    "\n",
    "Validation and Constraints: Getter and setter methods in encapsulation provide a controlled means to access and modify attributes. This enables the enforcement of validation and constraints on data, preventing invalid or inconsistent states.\n",
    "\n",
    "Consistent Behavior: With encapsulation, you can ensure that all interactions with an attribute go through consistent, validated methods. This consistency promotes predictable behavior and reduces the likelihood of errors.\n",
    "\n",
    "4. Code Reusability and Collaboration:\n",
    "\n",
    "Component Reusability: Encapsulated classes can be reused in different parts of a program or in other programs. This enhances code reusability and minimizes the need to duplicate code.\n",
    "\n",
    "Collaboration: Encapsulation allows developers to collaborate more effectively. The public interface of a class serves as a contract for how the class should be used, making it easier for multiple developers to work on different parts of a project.\n",
    "\n",
    "5. Encapsulation Enhances Abstraction:\n",
    "\n",
    "Abstraction: Encapsulation is a form of abstraction, where the internal details of a class are hidden from external code. This allows developers to work with high-level concepts and interfaces without needing to understand the intricate implementation details.\n",
    "\n",
    "Simpler Client Code: Encapsulation results in simpler and more focused client code, as external code interacts with a well-defined and understandable public interface."
   ]
  },
  {
   "cell_type": "code",
   "execution_count": null,
   "id": "d7fa2ca7-3e9a-4555-a906-6c27114af1a1",
   "metadata": {},
   "outputs": [],
   "source": []
  },
  {
   "cell_type": "code",
   "execution_count": 135,
   "id": "41dd5679-649e-4094-aa13-6bfac1b7f4a6",
   "metadata": {},
   "outputs": [],
   "source": [
    "#10. How can you access private attributes in Python? Provide an example demonstrating the use of name mangling."
   ]
  },
  {
   "cell_type": "code",
   "execution_count": 136,
   "id": "c64cc26a-ddde-47ce-a4d0-ddf8faa1725c",
   "metadata": {},
   "outputs": [
    {
     "name": "stdout",
     "output_type": "stream",
     "text": [
      "Accessing private attribute from the superclass instance:\n"
     ]
    },
    {
     "ename": "AttributeError",
     "evalue": "'MyClass' object has no attribute '__private_attribute'",
     "output_type": "error",
     "traceback": [
      "\u001b[0;31m---------------------------------------------------------------------------\u001b[0m",
      "\u001b[0;31mAttributeError\u001b[0m                            Traceback (most recent call last)",
      "Cell \u001b[0;32mIn[136], line 16\u001b[0m\n\u001b[1;32m     14\u001b[0m \u001b[38;5;66;03m# Attempt to access the private attribute from an instance of the subclass\u001b[39;00m\n\u001b[1;32m     15\u001b[0m \u001b[38;5;28mprint\u001b[39m(\u001b[38;5;124m\"\u001b[39m\u001b[38;5;124mAccessing private attribute from the superclass instance:\u001b[39m\u001b[38;5;124m\"\u001b[39m)\n\u001b[0;32m---> 16\u001b[0m \u001b[38;5;28mprint\u001b[39m(\u001b[43mobj1\u001b[49m\u001b[38;5;241;43m.\u001b[39;49m\u001b[43m__private_attribute\u001b[49m)  \u001b[38;5;66;03m# This will raise an AttributeError\u001b[39;00m\n\u001b[1;32m     18\u001b[0m \u001b[38;5;28mprint\u001b[39m(\u001b[38;5;124m\"\u001b[39m\u001b[38;5;130;01m\\n\u001b[39;00m\u001b[38;5;124mAccessing private attribute from the subclass instance:\u001b[39m\u001b[38;5;124m\"\u001b[39m)\n\u001b[1;32m     19\u001b[0m obj2\u001b[38;5;241m.\u001b[39maccess_private()  \u001b[38;5;66;03m# This works using name mangling\u001b[39;00m\n",
      "\u001b[0;31mAttributeError\u001b[0m: 'MyClass' object has no attribute '__private_attribute'"
     ]
    }
   ],
   "source": [
    "class MyClass:\n",
    "    def __init__(self):\n",
    "        self.__private_attribute = 42\n",
    "\n",
    "class MySubclass(MyClass):\n",
    "    def access_private(self):\n",
    "        # Attempt to access the private attribute using name mangling\n",
    "        print(self._MyClass__private_attribute)\n",
    "\n",
    "# Create instances of the classes\n",
    "obj1 = MyClass()\n",
    "obj2 = MySubclass()\n",
    "\n",
    "# Attempt to access the private attribute from an instance of the subclass\n",
    "print(\"Accessing private attribute from the superclass instance:\")\n",
    "print(obj1.__private_attribute)  # This will raise an AttributeError\n",
    "\n",
    "print(\"\\nAccessing private attribute from the subclass instance:\")\n",
    "obj2.access_private()  # This works using name mangling\n"
   ]
  },
  {
   "cell_type": "code",
   "execution_count": null,
   "id": "0ac78b02-6174-4b14-9763-79e0987cb884",
   "metadata": {},
   "outputs": [],
   "source": []
  },
  {
   "cell_type": "code",
   "execution_count": 137,
   "id": "a3c17ee7-7426-40e7-a090-ae500c922539",
   "metadata": {},
   "outputs": [],
   "source": [
    "#11. Create a Python class hierarchy for a school system, including classes for students, teachers, and courses, and implement encapsulation principles to protect sensitive information."
   ]
  },
  {
   "cell_type": "code",
   "execution_count": 139,
   "id": "9977f020-244a-4a6c-8d12-b9fa71614854",
   "metadata": {},
   "outputs": [
    {
     "name": "stdout",
     "output_type": "stream",
     "text": [
      "Student Name: Rizwam\n",
      "Teacher Name: Sudhanshu\n",
      "Course Name: DSA\n"
     ]
    }
   ],
   "source": [
    "class Person:\n",
    "    def __init__(self, name, age, id_number):\n",
    "        self.__name = name\n",
    "        self.__age = age\n",
    "        self.__id_number = id_number\n",
    "\n",
    "    def get_name(self):\n",
    "        return self.__name\n",
    "\n",
    "    def get_age(self):\n",
    "        return self.__age\n",
    "\n",
    "    def get_id_number(self):\n",
    "        return self.__id_number\n",
    "\n",
    "class Student(Person):\n",
    "    def __init__(self, name, age, id_number, student_id):\n",
    "        super().__init__(name, age, id_number)\n",
    "        self.__student_id = student_id\n",
    "\n",
    "    def get_student_id(self):\n",
    "        return self.__student_id\n",
    "\n",
    "class Teacher(Person):\n",
    "    def __init__(self, name, age, id_number, employee_id):\n",
    "        super().__init__(name, age, id_number)\n",
    "        self.__employee_id = employee_id\n",
    "\n",
    "    def get_employee_id(self):\n",
    "        return self.__employee_id\n",
    "\n",
    "class Course:\n",
    "    def __init__(self, course_name, course_code, teacher, students):\n",
    "        self.__course_name = course_name\n",
    "        self.__course_code = course_code\n",
    "        self.__teacher = teacher\n",
    "        self.__students = students\n",
    "\n",
    "    def get_course_name(self):\n",
    "        return self.__course_name\n",
    "\n",
    "    def get_course_code(self):\n",
    "        return self.__course_code\n",
    "\n",
    "    def get_teacher(self):\n",
    "        return self.__teacher\n",
    "\n",
    "    def get_students(self):\n",
    "        return self.__students\n",
    "\n",
    "# Creating instances of the classes\n",
    "student1 = Student(\"Rizwam\", 18, \"S12345\", \"ST001\")\n",
    "teacher1 = Teacher(\"Sudhanshu\", 35, \"T78901\", \"TCH001\")\n",
    "course1 = Course(\"DSA\", \"Python\", teacher1, [student1])\n",
    "\n",
    "# Accessing information through getter methods\n",
    "print(f\"Student Name: {student1.get_name()}\")\n",
    "print(f\"Teacher Name: {teacher1.get_name()}\")\n",
    "print(f\"Course Name: {course1.get_course_name()}\")\n"
   ]
  },
  {
   "cell_type": "code",
   "execution_count": null,
   "id": "d12bfdf6-faf2-4067-8b3c-d013df7e02ea",
   "metadata": {},
   "outputs": [],
   "source": []
  },
  {
   "cell_type": "code",
   "execution_count": 140,
   "id": "7d6be791-9130-4a2a-b3f9-b6e7b2d43fac",
   "metadata": {},
   "outputs": [],
   "source": [
    "#12. Explain the concept of property decorators in Python and how they relate to encapsulation."
   ]
  },
  {
   "cell_type": "code",
   "execution_count": 141,
   "id": "b20fd9a3-b782-4c0e-aff6-215ae180eb9a",
   "metadata": {},
   "outputs": [
    {
     "name": "stdout",
     "output_type": "stream",
     "text": [
      "Name: Alice, Age: 30\n",
      "Updated Name: Bob, Updated Age: 25\n",
      "Name must be a string.\n",
      "Age must be a non-negative integer.\n",
      "Age attribute deleted.\n"
     ]
    }
   ],
   "source": [
    "class Person:\n",
    "    def __init__(self, name, age):\n",
    "        self.__name = name  # Private attribute\n",
    "        self.__age = age    # Private attribute\n",
    "\n",
    "    @property\n",
    "    def name(self):\n",
    "        return self.__name  # Getter method for name\n",
    "\n",
    "    @name.setter\n",
    "    def name(self, new_name):\n",
    "        if isinstance(new_name, str):\n",
    "            self.__name = new_name\n",
    "        else:\n",
    "            print(\"Name must be a string.\")\n",
    "\n",
    "    @property\n",
    "    def age(self):\n",
    "        return self.__age  # Getter method for age\n",
    "\n",
    "    @age.setter\n",
    "    def age(self, new_age):\n",
    "        if isinstance(new_age, int) and new_age >= 0:\n",
    "            self.__age = new_age\n",
    "        else:\n",
    "            print(\"Age must be a non-negative integer.\")\n",
    "\n",
    "    @age.deleter\n",
    "    def age(self):\n",
    "        print(\"Age attribute deleted.\")\n",
    "        del self.__age\n",
    "\n",
    "# Creating an instance of the class\n",
    "person = Person(\"Alice\", 30)\n",
    "\n",
    "# Using property decorators to get and set attributes\n",
    "print(f\"Name: {person.name}, Age: {person.age}\")\n",
    "person.name = \"Bob\"\n",
    "person.age = 25\n",
    "print(f\"Updated Name: {person.name}, Updated Age: {person.age}\")\n",
    "\n",
    "# Attempting to set attributes to invalid values\n",
    "person.name = 123\n",
    "person.age = -5\n",
    "\n",
    "# Deleting the age attribute\n",
    "del person.age\n"
   ]
  },
  {
   "cell_type": "code",
   "execution_count": null,
   "id": "81184d79-8385-412f-9cb5-b2f503568770",
   "metadata": {},
   "outputs": [],
   "source": []
  },
  {
   "cell_type": "code",
   "execution_count": 142,
   "id": "27e7a958-978a-4fda-b76d-1fff196f0af7",
   "metadata": {},
   "outputs": [],
   "source": [
    "#13. What is data hiding, and why is it important in encapsulation? Provide examples."
   ]
  },
  {
   "cell_type": "markdown",
   "id": "019cb36b-a910-4848-b919-675881050f19",
   "metadata": {},
   "source": [
    "Data hiding, in the context of encapsulation, is the practice of restricting the visibility and direct access to the internal details or state of an object. It is an essential concept that emphasizes that the implementation details of an object should be hidden from external code. Data hiding helps ensure that data is accessed and modified through controlled interfaces (such as methods or properties) rather than directly."
   ]
  },
  {
   "cell_type": "code",
   "execution_count": 143,
   "id": "a27694c8-667c-4899-b959-08e73916b481",
   "metadata": {},
   "outputs": [
    {
     "name": "stdout",
     "output_type": "stream",
     "text": [
      "Account Balance: 1000.0\n"
     ]
    },
    {
     "ename": "AttributeError",
     "evalue": "'BankAccount' object has no attribute '__balance'",
     "output_type": "error",
     "traceback": [
      "\u001b[0;31m---------------------------------------------------------------------------\u001b[0m",
      "\u001b[0;31mAttributeError\u001b[0m                            Traceback (most recent call last)",
      "Cell \u001b[0;32mIn[143], line 27\u001b[0m\n\u001b[1;32m     24\u001b[0m \u001b[38;5;28mprint\u001b[39m(\u001b[38;5;124m\"\u001b[39m\u001b[38;5;124mAccount Balance:\u001b[39m\u001b[38;5;124m\"\u001b[39m, account\u001b[38;5;241m.\u001b[39mget_balance())\n\u001b[1;32m     26\u001b[0m \u001b[38;5;66;03m# Attempting to access the balance directly (data hiding prevents this)\u001b[39;00m\n\u001b[0;32m---> 27\u001b[0m \u001b[38;5;28mprint\u001b[39m(\u001b[38;5;124m\"\u001b[39m\u001b[38;5;124mDirect Balance Access:\u001b[39m\u001b[38;5;124m\"\u001b[39m, \u001b[43maccount\u001b[49m\u001b[38;5;241;43m.\u001b[39;49m\u001b[43m__balance\u001b[49m)\n",
      "\u001b[0;31mAttributeError\u001b[0m: 'BankAccount' object has no attribute '__balance'"
     ]
    }
   ],
   "source": [
    "class BankAccount:\n",
    "    def __init__(self, initial_balance):\n",
    "        self.__balance = initial_balance  # Balance is hidden\n",
    "\n",
    "    def deposit(self, amount):\n",
    "        if amount > 0:\n",
    "            self.__balance += amount  # Deposit method controls access\n",
    "        else:\n",
    "            print(\"Invalid deposit amount.\")\n",
    "\n",
    "    def withdraw(self, amount):\n",
    "        if amount > 0 and amount <= self.__balance:\n",
    "            self.__balance -= amount  # Withdraw method controls access\n",
    "        else:\n",
    "            print(\"Invalid withdrawal amount or insufficient balance.\")\n",
    "\n",
    "    def get_balance(self):\n",
    "        return self.__balance  # Getter method for balance\n",
    "\n",
    "# Creating an instance of the class\n",
    "account = BankAccount(1000.0)\n",
    "\n",
    "# Accessing the balance through a getter method\n",
    "print(\"Account Balance:\", account.get_balance())\n",
    "\n",
    "# Attempting to access the balance directly (data hiding prevents this)\n",
    "print(\"Direct Balance Access:\", account.__balance)\n"
   ]
  },
  {
   "cell_type": "code",
   "execution_count": null,
   "id": "5b9252cd-70ae-47c4-9c3b-60f98e421e17",
   "metadata": {},
   "outputs": [],
   "source": []
  },
  {
   "cell_type": "code",
   "execution_count": 144,
   "id": "f81248ca-3eae-4f35-b65a-d34df8779b05",
   "metadata": {},
   "outputs": [],
   "source": [
    "#14. Create a Python class called `Employee` with private attributes for salary (`__salary`) and employee ID (`__employee_id`). Provide a method to calculate yearly bonuses."
   ]
  },
  {
   "cell_type": "code",
   "execution_count": 145,
   "id": "2dc63a6c-b776-4666-ad73-cadda9572c29",
   "metadata": {},
   "outputs": [
    {
     "name": "stdout",
     "output_type": "stream",
     "text": [
      "Employee ID: EMP001\n",
      "Salary: $60,000.00\n",
      "Yearly Bonus (10%): $6,000.00\n"
     ]
    }
   ],
   "source": [
    "class Employee:\n",
    "    def __init__(self, employee_id, salary):\n",
    "        self.__employee_id = employee_id  # Private attribute for employee ID\n",
    "        self.__salary = salary  # Private attribute for salary\n",
    "\n",
    "    def calculate_yearly_bonus(self, bonus_percentage):\n",
    "        if bonus_percentage >= 0 and bonus_percentage <= 100:\n",
    "            bonus_amount = (bonus_percentage / 100) * self.__salary\n",
    "            return bonus_amount\n",
    "        else:\n",
    "            return \"Invalid bonus percentage.\"\n",
    "\n",
    "    def get_employee_id(self):\n",
    "        return self.__employee_id  # Getter method for employee ID\n",
    "\n",
    "    def get_salary(self):\n",
    "        return self.__salary  # Getter method for salary\n",
    "\n",
    "# Creating an instance of the class\n",
    "employee = Employee(\"EMP001\", 60000.0)\n",
    "\n",
    "# Calculate and display the yearly bonus\n",
    "bonus_percentage = 10  # 10% bonus\n",
    "yearly_bonus = employee.calculate_yearly_bonus(bonus_percentage)\n",
    "print(f\"Employee ID: {employee.get_employee_id()}\")\n",
    "print(f\"Salary: ${employee.get_salary():,.2f}\")\n",
    "print(f\"Yearly Bonus ({bonus_percentage}%): ${yearly_bonus:,.2f}\")\n"
   ]
  },
  {
   "cell_type": "code",
   "execution_count": null,
   "id": "f298a51b-dce3-412a-889e-2d5a488a506b",
   "metadata": {},
   "outputs": [],
   "source": []
  },
  {
   "cell_type": "code",
   "execution_count": 146,
   "id": "e820841b-b462-4ef0-9db9-907125a45697",
   "metadata": {},
   "outputs": [],
   "source": [
    "#15. Discuss the use of accessors and mutators in encapsulation. How do they help maintain control over attribute access?"
   ]
  },
  {
   "cell_type": "markdown",
   "id": "c21e9ea9-d83a-45f4-92ee-2c86b77ae31b",
   "metadata": {},
   "source": [
    "Accessors and mutators, also known as getters and setters, are methods used in encapsulation to control access to an object's attributes. They play a crucial role in maintaining control over attribute access by providing controlled, validated, and sometimes modified ways to get and set the values of attributes. Here's how accessors and mutators help with attribute access control:\n",
    "\n",
    "Accessors (Getters):\n",
    "\n",
    "Role: Accessors are methods that allow you to retrieve the value of an attribute without directly accessing the attribute itself. They act as read-only methods.\n",
    "\n",
    "Control: Accessors enable you to control how the attribute's value is retrieved. You can implement validation, formatting, or calculations as needed. This control ensures that the value returned is in the desired format and complies with any constraints.\n",
    "\n",
    "Example: You can use an accessor to retrieve a person's age, and within the accessor, you can enforce that the age is always a non-negative integer.\n",
    "\n",
    "Mutators (Setters):\n",
    "\n",
    "Role: Mutators are methods that allow you to modify the value of an attribute without directly accessing the attribute itself. They act as write-only methods.\n",
    "\n",
    "Control: Mutators enable you to control how the attribute's value is modified. You can implement validation to ensure that the new value adheres to specific rules or constraints.\n",
    "\n",
    "Example: You can use a mutator to set a person's age, and within the mutator, you can validate that the new age is a non-negative integer before making the assignment.\n",
    "\n",
    "The use of accessors and mutators helps with attribute access control in the following ways:\n",
    "\n",
    "Validation: Accessors and mutators allow you to validate data before it is accessed or modified. This ensures that the data is in a valid and expected state.\n",
    "\n",
    "Encapsulation: Accessors and mutators encapsulate the internal representation of data, making it easier to change the implementation without affecting external code. This is a key aspect of encapsulation.\n",
    "\n",
    "Abstraction: Accessors and mutators provide a high-level interface to the attributes, abstracting away the implementation details. This allows external code to interact with the object without needing to know the intricacies of how attributes are managed.\n",
    "\n",
    "Consistency: Accessors and mutators ensure that data access and modification follow consistent rules and behaviors, enhancing predictability and reducing the chance of errors.\n",
    "\n",
    "Security: By controlling access to attributes through methods, you can implement security measures to protect sensitive or critical data from unauthorized access or modification.\n",
    "\n"
   ]
  },
  {
   "cell_type": "code",
   "execution_count": null,
   "id": "fe100d44-dcb4-4750-8d22-350fae1b664c",
   "metadata": {},
   "outputs": [],
   "source": []
  },
  {
   "cell_type": "code",
   "execution_count": 147,
   "id": "26da1cee-16a2-4ff2-b426-3453ee308ce3",
   "metadata": {},
   "outputs": [],
   "source": [
    "#16. What are the potential drawbacks or disadvantages of using encapsulation in Python?"
   ]
  },
  {
   "cell_type": "markdown",
   "id": "9531e21c-5024-44fa-8f89-24de0f0ad755",
   "metadata": {},
   "source": [
    "While encapsulation is a fundamental and valuable concept in object-oriented programming, it's important to be aware of potential drawbacks or disadvantages when using encapsulation in Python:\n",
    "\n",
    "Complexity: Encapsulation can introduce complexity to the code. By creating getter and setter methods for every attribute, the codebase can become larger and harder to maintain. This can be a disadvantage in small projects where simplicity is preferred.\n",
    "\n",
    "Performance Overhead: Accessing data through getter and setter methods can introduce a performance overhead compared to direct attribute access. In performance-critical applications, this overhead may be a concern.\n",
    "\n",
    "Reduced Readability: Excessive use of getter and setter methods may reduce code readability. Code becomes cluttered with method calls, making it harder to understand.\n",
    "\n",
    "Potential Overhead: Using properties and methods for attribute access introduces the potential for human error, such as forgetting to validate data in a setter method or failing to use the correct property when accessing data.\n",
    "\n",
    "Overuse of Private Attributes: Excessive use of private attributes (those with double underscores) can make the code less extensible. If a subclass needs to access or modify private attributes, it can be challenging.\n",
    "\n",
    "Limited Access Control: Encapsulation primarily controls access to attributes. However, it may not prevent access to underlying data structures or methods in some cases. Python's name mangling (e.g., _ClassName__attribute) can still allow access.\n",
    "\n",
    "Additional Code Maintenance: Over time, as classes and their attributes change, maintaining and updating getter and setter methods can become cumbersome. Code modifications may require changes in multiple locations.\n",
    "\n",
    "Not a Substitute for Design: Encapsulation is an important aspect of good design, but it is not a substitute for sound overall software design. It does not guarantee a well-architected system by itself.\n",
    "\n",
    "Can Lead to Verbosity: In Python, encapsulation using getters and setters can lead to verbose code compared to other programming languages that support direct property syntax."
   ]
  },
  {
   "cell_type": "code",
   "execution_count": null,
   "id": "3b86e3b8-7761-44d6-b87d-6fa747ed8d60",
   "metadata": {},
   "outputs": [],
   "source": []
  },
  {
   "cell_type": "code",
   "execution_count": 148,
   "id": "c0b4a0e6-a0a0-443b-9402-6d7f5d1c017c",
   "metadata": {},
   "outputs": [],
   "source": [
    "#17. Create a Python class for a library system that encapsulates book information, including titles, authors, and availability status."
   ]
  },
  {
   "cell_type": "code",
   "execution_count": 149,
   "id": "3f9c78ec-b64c-47b1-847e-72058fc4ab4e",
   "metadata": {},
   "outputs": [
    {
     "name": "stdout",
     "output_type": "stream",
     "text": [
      "Book: To Kill a Mockingbird by Harper Lee\n",
      "Available: True\n",
      "To Kill a Mockingbird by Harper Lee has been borrowed.\n",
      "Available: False\n",
      "To Kill a Mockingbird by Harper Lee has been returned.\n",
      "Available: True\n"
     ]
    }
   ],
   "source": [
    "class Book:\n",
    "    def __init__(self, title, author, available=True):\n",
    "        self.__title = title  # Private attribute for book title\n",
    "        self.__author = author  # Private attribute for book author\n",
    "        self.__available = available  # Private attribute for availability status\n",
    "\n",
    "    def get_title(self):\n",
    "        return self.__title  # Getter method for book title\n",
    "\n",
    "    def get_author(self):\n",
    "        return self.__author  # Getter method for book author\n",
    "\n",
    "    def is_available(self):\n",
    "        return self.__available  # Getter method for availability status\n",
    "\n",
    "    def borrow(self):\n",
    "        if self.__available:\n",
    "            self.__available = False\n",
    "            return f\"{self.__title} by {self.__author} has been borrowed.\"\n",
    "        else:\n",
    "            return f\"{self.__title} by {self.__author} is currently not available.\"\n",
    "\n",
    "    def return_book(self):\n",
    "        if not self.__available:\n",
    "            self.__available = True\n",
    "            return f\"{self.__title} by {self.__author} has been returned.\"\n",
    "        else:\n",
    "            return f\"{self.__title} by {self.__author} is already available.\"\n",
    "\n",
    "# Creating instances of the class\n",
    "book1 = Book(\"To Kill a Mockingbird\", \"Harper Lee\")\n",
    "book2 = Book(\"1984\", \"George Orwell\")\n",
    "\n",
    "# Display book information and availability status\n",
    "print(f\"Book: {book1.get_title()} by {book1.get_author()}\")\n",
    "print(f\"Available: {book1.is_available()}\")\n",
    "print(book1.borrow())\n",
    "print(f\"Available: {book1.is_available()}\")\n",
    "print(book1.return_book())\n",
    "print(f\"Available: {book1.is_available()}\")\n"
   ]
  },
  {
   "cell_type": "code",
   "execution_count": null,
   "id": "8a74e0f0-4e53-43f9-8ffb-afd2cfa1f10a",
   "metadata": {},
   "outputs": [],
   "source": []
  },
  {
   "cell_type": "code",
   "execution_count": 150,
   "id": "b23f480b-4302-4be6-b07e-37252f63da4e",
   "metadata": {},
   "outputs": [],
   "source": [
    "#18. Explain how encapsulation enhances code reusability and modularity in Python programs."
   ]
  },
  {
   "cell_type": "markdown",
   "id": "30f238a4-018d-4c17-b60a-612a09b559c5",
   "metadata": {},
   "source": [
    "Encapsulation enhances code reusability and modularity in Python programs by promoting a clean separation of concerns and reducing the dependencies between different parts of the code. Here's how encapsulation contributes to these aspects:\n",
    "\n",
    "Code Reusability:\n",
    "\n",
    "Reusability of Classes: Encapsulated classes are self-contained and can be reused in different parts of a program or even in different programs without significant modification. This reusability reduces the need to rewrite or duplicate code.\n",
    "\n",
    "Library and Module Reusability: Encapsulated classes can be organized into libraries and modules that provide specific functionality. These libraries and modules can be reused across various projects, leading to more efficient development.\n",
    "\n",
    "Modularity:\n",
    "\n",
    "Isolation of Components: Encapsulation allows you to isolate the internal workings of a class or module from the rest of the code. This isolation creates clear boundaries between components, making it easier to manage and understand the program's structure.\n",
    "\n",
    "Independent Development: Encapsulated classes or modules can be developed independently. Teams or individuals can work on different parts of a project without affecting each other's work. This promotes parallel development and collaboration.\n",
    "\n",
    "Pluggable Modules: Encapsulated modules can be swapped in and out of a program to add or change functionality. This modularity allows for flexible program design and maintenance.\n",
    "\n",
    "Reduced Side Effects:\n",
    "\n",
    "Minimized Impact of Changes: Encapsulation reduces the impact of changes made to one part of the code on other parts. This is because encapsulated components expose a stable and well-defined interface, shielding the implementation details.\n",
    "\n",
    "Bug Isolation: When a bug or issue arises, encapsulation helps to isolate the problem to a specific class or module. This simplifies debugging and troubleshooting.\n",
    "\n",
    "Improved Maintainability:\n",
    "\n",
    "Easier Debugging: Encapsulation makes it easier to pinpoint issues, as you can focus on individual components with well-defined interfaces. This simplifies the debugging process.\n",
    "\n",
    "Enhanced Testing: Encapsulated classes are easier to test in isolation. You can create unit tests that focus on a specific class without needing to test the entire program.\n",
    "\n",
    "Code Readability:\n",
    "\n",
    "Clear Interfaces: Encapsulation encourages the creation of clear and well-documented interfaces for classes and modules. This clarity improves code readability and makes it easier for other developers to understand and use the code.\n",
    "Enhanced Security:\n",
    "\n",
    "Controlled Access: Encapsulation allows you to control access to sensitive data or operations. This is essential for maintaining the security of your program, as you can prevent unauthorized access to critical components."
   ]
  },
  {
   "cell_type": "code",
   "execution_count": null,
   "id": "546af97a-2d1b-4d4e-a2be-8aea6a94d5c5",
   "metadata": {},
   "outputs": [],
   "source": []
  },
  {
   "cell_type": "code",
   "execution_count": 151,
   "id": "df6d5f18-54dd-42b5-a026-ebaec0825e33",
   "metadata": {},
   "outputs": [],
   "source": [
    "#19. Describe the concept of information hiding in encapsulation. Why is it essential in software development?"
   ]
  },
  {
   "cell_type": "markdown",
   "id": "b4bc11c6-f3a7-4d86-bcfc-29f94826ca6a",
   "metadata": {},
   "source": [
    "Information hiding, a core concept in encapsulation, refers to the practice of concealing the internal details of an object or module while exposing a well-defined external interface. It involves keeping the implementation and data hidden from external code and providing controlled access through methods or properties. Information hiding is essential in software development for several reasons:\n",
    "\n",
    "Abstraction: Information hiding abstracts away the complex internal workings of an object or module, providing a simplified and high-level interface to users. Users interact with the object through well-defined methods or properties, without needing to understand the intricacies of its implementation.\n",
    "\n",
    "Reduced Complexity: By hiding the internal details, information hiding reduces the complexity of code that external users need to comprehend. This simplification makes code more manageable, especially when dealing with large and complex software systems.\n",
    "\n",
    "Maintenance and Refactoring: Information hiding makes it easier to maintain and refactor code. Since external code relies on a stable interface, you can modify the internal implementation without affecting the behavior of the code that uses the object. This promotes code evolution and adaptability.\n",
    "\n",
    "Security: Information hiding helps protect sensitive data and operations. By restricting access to certain attributes or methods, you can prevent unauthorized manipulation or viewing of critical data. This enhances the security of software systems.\n",
    "\n",
    "Collaboration: In collaborative software development, information hiding allows teams to work on separate components with minimal dependencies. Each team can focus on its specific area of responsibility without being concerned about the implementation details of other components.\n",
    "\n",
    "Encapsulation of State: Information hiding encapsulates the state of an object, meaning that the internal data is kept separate from the rest of the program. This encapsulation is crucial for ensuring data integrity and preventing unintended modifications.\n",
    "\n",
    "Enhanced Testing: Information hiding supports effective unit testing. When the internal details are hidden, you can write tests that focus on the externally visible behavior of the object. This simplifies testing and helps catch issues early in development.\n",
    "\n",
    "Code Readability: Well-defined interfaces resulting from information hiding improve code readability. Developers can easily understand how to interact with an object or module, even if they are not familiar with its internal workings.\n",
    "\n",
    "Error Reduction: Information hiding minimizes the likelihood of accidental errors or unintended side effects. By exposing a controlled interface, you limit the ways in which external code can interact with an object, reducing the risk of misuse.\n",
    "\n",
    "Reusability: Encapsulated components with clear, documented interfaces are more reusable. They can be integrated into different projects or used by other developers without extensive modifications."
   ]
  },
  {
   "cell_type": "code",
   "execution_count": null,
   "id": "653af148-d629-499c-b0a0-e5867cb88968",
   "metadata": {},
   "outputs": [],
   "source": []
  },
  {
   "cell_type": "code",
   "execution_count": 152,
   "id": "3e0408a4-c1b1-4636-8bf1-15e7d676864c",
   "metadata": {},
   "outputs": [],
   "source": [
    "#20. Create a Python class called `Customer` with private attributes for customer details like name, address, and contact information. Implement encapsulation to ensure data integrity and security."
   ]
  },
  {
   "cell_type": "code",
   "execution_count": 153,
   "id": "f588a084-7236-44c9-bdf1-12b8c41d97cc",
   "metadata": {},
   "outputs": [
    {
     "name": "stdout",
     "output_type": "stream",
     "text": [
      "Customer Name: Alice Smith\n",
      "Customer Address: 123 Main St, City, Country\n",
      "Customer Contact Information: alice@example.com, (123) 456-7890\n",
      "\n",
      "Updated Customer Information:\n",
      "Customer Address: 456 New Ave, Town, Country\n",
      "Customer Contact Information: new.email@example.com, (789) 123-4567\n"
     ]
    }
   ],
   "source": [
    "class Customer:\n",
    "    def __init__(self, name, address, contact_info):\n",
    "        self.__name = name  # Private attribute for customer name\n",
    "        self.__address = address  # Private attribute for customer address\n",
    "        self.__contact_info = contact_info  # Private attribute for customer contact information\n",
    "\n",
    "    def get_name(self):\n",
    "        return self.__name  # Getter method for customer name\n",
    "\n",
    "    def get_address(self):\n",
    "        return self.__address  # Getter method for customer address\n",
    "\n",
    "    def get_contact_info(self):\n",
    "        return self.__contact_info  # Getter method for customer contact information\n",
    "\n",
    "    def update_address(self, new_address):\n",
    "        if isinstance(new_address, str):\n",
    "            self.__address = new_address  # Setter method for updating address\n",
    "        else:\n",
    "            print(\"Invalid address format. Address must be a string.\")\n",
    "\n",
    "    def update_contact_info(self, new_contact_info):\n",
    "        if isinstance(new_contact_info, str):\n",
    "            self.__contact_info = new_contact_info  # Setter method for updating contact information\n",
    "        else:\n",
    "            print(\"Invalid contact information format. Contact information must be a string.\")\n",
    "\n",
    "# Creating an instance of the class\n",
    "customer = Customer(\"Alice Smith\", \"123 Main St, City, Country\", \"alice@example.com, (123) 456-7890\")\n",
    "\n",
    "# Display customer information\n",
    "print(\"Customer Name:\", customer.get_name())\n",
    "print(\"Customer Address:\", customer.get_address())\n",
    "print(\"Customer Contact Information:\", customer.get_contact_info())\n",
    "\n",
    "# Updating customer information\n",
    "customer.update_address(\"456 New Ave, Town, Country\")\n",
    "customer.update_contact_info(\"new.email@example.com, (789) 123-4567\")\n",
    "\n",
    "# Display updated customer information\n",
    "print(\"\\nUpdated Customer Information:\")\n",
    "print(\"Customer Address:\", customer.get_address())\n",
    "print(\"Customer Contact Information:\", customer.get_contact_info())\n"
   ]
  },
  {
   "cell_type": "code",
   "execution_count": null,
   "id": "59acffdc-f3c0-49cc-8b93-2743f82446d3",
   "metadata": {},
   "outputs": [],
   "source": []
  },
  {
   "cell_type": "code",
   "execution_count": null,
   "id": "4234d62a-3975-4c59-ae27-a6ad934c0353",
   "metadata": {},
   "outputs": [],
   "source": []
  },
  {
   "cell_type": "markdown",
   "id": "f0a3e96f-b329-4dd4-af44-143fc77e0edb",
   "metadata": {},
   "source": [
    "Polymorphism:"
   ]
  },
  {
   "cell_type": "code",
   "execution_count": null,
   "id": "9fa8b5b8-4193-417e-99d2-0e5236496d31",
   "metadata": {},
   "outputs": [],
   "source": []
  },
  {
   "cell_type": "code",
   "execution_count": 154,
   "id": "b384aa3c-0f66-4443-badb-df5e5b9e28e2",
   "metadata": {},
   "outputs": [],
   "source": [
    "#1. What is polymorphism in Python? Explain how it is related to object-oriented programming."
   ]
  },
  {
   "cell_type": "markdown",
   "id": "45993e49-64b5-4154-bc15-2f52d8f54734",
   "metadata": {},
   "source": [
    "Polymorphism is a fundamental concept in object-oriented programming (OOP) that allows objects of different classes to be treated as objects of a common base class. It enables a single interface to represent various data types or objects, abstracting the specific implementation details. Polymorphism is closely related to OOP through the principles of inheritance and method overriding.\n",
    "\n",
    "There are two main types of polymorphism in Python:\n",
    "\n",
    "Compile-Time Polymorphism (Static Binding):\n",
    "\n",
    "Also known as method overloading.\n",
    "It allows different functions or methods to be invoked with the same name based on the number or type of parameters.\n",
    "Python doesn't support traditional compile-time polymorphism. In Python, if a method is defined multiple times with the same name, the last definition overrides the previous ones.\n",
    "Run-Time Polymorphism (Dynamic Binding):\n",
    "\n",
    "Also known as method overriding.\n",
    "It allows a subclass to provide a specific implementation of a method that is already defined in its superclass.\n",
    "When a method is called on an object, the specific implementation associated with the object's actual class is executed, even if it's a subclass of the class where the method is originally defined.\n",
    "Polymorphism is related to OOP in the following ways:\n",
    "\n",
    "Inheritance: Polymorphism relies on the concept of inheritance, where classes can be organized in a hierarchy. Subclasses inherit attributes and methods from their parent classes. This inheritance allows objects of different classes, including subclasses, to be treated as objects of a common base class.\n",
    "\n",
    "Method Overriding: Method overriding is a key mechanism for achieving run-time polymorphism. Subclasses can provide their own implementation of a method that's defined in a superclass. This enables different objects, including objects of different subclasses, to respond to method calls in a way that's appropriate for their specific class.\n",
    "\n",
    "Abstraction: Polymorphism allows you to work with objects at a higher level of abstraction. You can focus on what objects do rather than what they are. This simplifies code, enhances reusability, and promotes code modularity.\n",
    "\n",
    "Dynamic Binding: Polymorphism relies on dynamic binding or late binding. When a method is called on an object, the specific implementation to execute is determined at runtime based on the actual class of the object. This dynamic behavior is a core aspect of OOP.\n",
    "\n",
    "Code Flexibility: Polymorphism enhances code flexibility by allowing you to write more generic code that can work with a variety of objects. This flexibility makes code more adaptable to changes and extensions."
   ]
  },
  {
   "cell_type": "code",
   "execution_count": null,
   "id": "fbe2a8f5-0ebb-49ef-a705-250ecd7f386f",
   "metadata": {},
   "outputs": [],
   "source": []
  },
  {
   "cell_type": "code",
   "execution_count": 155,
   "id": "fcf8142d-a78b-46ec-90f8-a23851477f11",
   "metadata": {},
   "outputs": [],
   "source": [
    "#2. Describe the difference between compile-time polymorphism and runtime polymorphism in Python."
   ]
  },
  {
   "cell_type": "markdown",
   "id": "74237d6e-a614-408b-bdf1-fe9193b3006c",
   "metadata": {},
   "source": [
    "Compile-Time Polymorphism (Static Binding):\n",
    "\n",
    "Also known as method overloading.\n",
    "In compile-time polymorphism, the decision about which method to call is made by the compiler based on the method name, the number, and types of arguments.\n",
    "It allows you to define multiple methods with the same name in the same class, differentiating them based on the method's parameter list.\n",
    "Python doesn't natively support traditional compile-time polymorphism because it doesn't distinguish methods based on their parameter lists. If you define multiple methods with the same name in a class, only the last definition will be considered, effectively overwriting the previous ones."
   ]
  },
  {
   "cell_type": "code",
   "execution_count": 156,
   "id": "4e0b6594-f32f-427b-bc5d-0f25f7d0b237",
   "metadata": {},
   "outputs": [],
   "source": [
    "class MyClass:\n",
    "    def my_method(self, arg1):\n",
    "        print(\"Method with one argument\")\n",
    "    \n",
    "    def my_method(self, arg1, arg2):\n",
    "        print(\"Method with two arguments\")\n"
   ]
  },
  {
   "cell_type": "code",
   "execution_count": null,
   "id": "2dc1b07e-7eea-4bd4-bae2-2310b2c6279e",
   "metadata": {},
   "outputs": [],
   "source": []
  },
  {
   "cell_type": "markdown",
   "id": "449ce5a5-1a01-4ae2-b430-97846f33bf51",
   "metadata": {},
   "source": [
    "Runtime Polymorphism (Dynamic Binding):\n",
    "\n",
    "Also known as method overriding.\n",
    "In runtime polymorphism, the decision about which method to call is made at runtime based on the actual class of the object.\n",
    "It allows a subclass to provide a specific implementation of a method that's already defined in its superclass. When the method is called on an object, the implementation associated with the object's actual class is executed, even if it's a subclass of the class where the method is originally defined.\n",
    "Runtime polymorphism is a key feature of Python and is achieved through inheritance and method overriding."
   ]
  },
  {
   "cell_type": "code",
   "execution_count": 157,
   "id": "6a225bce-a0b0-408e-8c6b-227a22507eca",
   "metadata": {},
   "outputs": [
    {
     "name": "stdout",
     "output_type": "stream",
     "text": [
      "This is the child class\n"
     ]
    }
   ],
   "source": [
    "class Parent:\n",
    "    def show(self):\n",
    "        print(\"This is the parent class\")\n",
    "\n",
    "class Child(Parent):\n",
    "    def show(self):\n",
    "        print(\"This is the child class\")\n",
    "\n",
    "obj = Child()\n",
    "obj.show()  # Calls the 'show' method of the Child class\n"
   ]
  },
  {
   "cell_type": "code",
   "execution_count": null,
   "id": "bd100a4b-f46f-4ffd-a98e-205c927f2abe",
   "metadata": {},
   "outputs": [],
   "source": []
  },
  {
   "cell_type": "code",
   "execution_count": 158,
   "id": "d0a6869f-e1d0-4e43-8942-b05697daa317",
   "metadata": {},
   "outputs": [],
   "source": [
    "#3. Create a Python class hierarchy for shapes (e.g., circle, square, triangle) and demonstrate polymorphism through a common method, such as `calculate_area()`."
   ]
  },
  {
   "cell_type": "code",
   "execution_count": 159,
   "id": "6cdc8c54-a41b-48e2-8e93-82fddce8eff0",
   "metadata": {},
   "outputs": [
    {
     "name": "stdout",
     "output_type": "stream",
     "text": [
      "Area of Circle: 78.54\n",
      "Area of Square: 16.00\n",
      "Area of Triangle: 9.00\n"
     ]
    }
   ],
   "source": [
    "import math\n",
    "\n",
    "class Shape:\n",
    "    def calculate_area(self):\n",
    "        pass\n",
    "\n",
    "class Circle(Shape):\n",
    "    def __init__(self, radius):\n",
    "        self.radius = radius\n",
    "\n",
    "    def calculate_area(self):\n",
    "        return math.pi * self.radius**2\n",
    "\n",
    "class Square(Shape):\n",
    "    def __init__(self, side_length):\n",
    "        self.side_length = side_length\n",
    "\n",
    "    def calculate_area(self):\n",
    "        return self.side_length**2\n",
    "\n",
    "class Triangle(Shape):\n",
    "    def __init__(self, base, height):\n",
    "        self.base = base\n",
    "        self.height = height\n",
    "\n",
    "    def calculate_area(self):\n",
    "        return 0.5 * self.base * self.height\n",
    "\n",
    "# Create instances of different shapes\n",
    "circle = Circle(5)\n",
    "square = Square(4)\n",
    "triangle = Triangle(3, 6)\n",
    "\n",
    "# Calculate and display the areas of the shapes using polymorphism\n",
    "shapes = [circle, square, triangle]\n",
    "\n",
    "for shape in shapes:\n",
    "    print(f\"Area of {shape.__class__.__name__}: {shape.calculate_area():.2f}\")\n"
   ]
  },
  {
   "cell_type": "code",
   "execution_count": null,
   "id": "a55b7b46-037f-406e-9f8f-15fa0e4b3f73",
   "metadata": {},
   "outputs": [],
   "source": []
  },
  {
   "cell_type": "code",
   "execution_count": 160,
   "id": "6d8c672c-b5b9-4999-918b-4dcab76543b4",
   "metadata": {},
   "outputs": [],
   "source": [
    "#4. Explain the concept of method overriding in polymorphism. Provide an example."
   ]
  },
  {
   "cell_type": "code",
   "execution_count": 161,
   "id": "3c73aa0e-cfc5-4437-86ac-0b3c6a66a4e6",
   "metadata": {},
   "outputs": [
    {
     "name": "stdout",
     "output_type": "stream",
     "text": [
      "Woof! Woof!\n",
      "Meow!\n"
     ]
    }
   ],
   "source": [
    "class Animal:\n",
    "    def speak(self):\n",
    "        print(\"This is the sound an animal makes.\")\n",
    "\n",
    "class Dog(Animal):\n",
    "    def speak(self):\n",
    "        print(\"Woof! Woof!\")\n",
    "\n",
    "class Cat(Animal):\n",
    "    def speak(self):\n",
    "        print(\"Meow!\")\n",
    "\n",
    "# Create instances of the subclasses\n",
    "dog = Dog()\n",
    "cat = Cat()\n",
    "\n",
    "# Call the overridden method on instances\n",
    "dog.speak()  # Calls the 'speak' method of the Dog class\n",
    "cat.speak()  # Calls the 'speak' method of the Cat class\n"
   ]
  },
  {
   "cell_type": "code",
   "execution_count": null,
   "id": "ec57992f-9b85-4d6c-99a4-257c473475f1",
   "metadata": {},
   "outputs": [],
   "source": []
  },
  {
   "cell_type": "code",
   "execution_count": 162,
   "id": "abe2ca37-7133-4bce-be9a-b2797e249bbf",
   "metadata": {},
   "outputs": [],
   "source": [
    "#5. How is polymorphism different from method overloading in Python? Provide examples for both."
   ]
  },
  {
   "cell_type": "markdown",
   "id": "c3435860-c675-444e-a8c1-271628467198",
   "metadata": {},
   "source": [
    "Polymorphism:\n",
    "\n",
    "Polymorphism refers to the ability of objects of different classes to be treated as objects of a common base class.\n",
    "It allows different classes to provide their own implementations of methods with the same name.\n",
    "The specific method to be called is determined at runtime based on the actual class of the object.\n",
    "It is typically associated with method overriding and is used to achieve runtime polymorphism.\n",
    "Polymorphism enables you to call a method on objects of different classes, and the appropriate implementation is executed based on the object's class."
   ]
  },
  {
   "cell_type": "code",
   "execution_count": 163,
   "id": "3b3c8757-eec9-4a24-9cde-b17022481d8d",
   "metadata": {},
   "outputs": [
    {
     "name": "stdout",
     "output_type": "stream",
     "text": [
      "Woof! Woof!\n",
      "Meow!\n"
     ]
    }
   ],
   "source": [
    "class Animal:\n",
    "    def speak(self):\n",
    "        print(\"This is the sound an animal makes.\")\n",
    "\n",
    "class Dog(Animal):\n",
    "    def speak(self):\n",
    "        print(\"Woof! Woof!\")\n",
    "\n",
    "class Cat(Animal):\n",
    "    def speak(self):\n",
    "        print(\"Meow!\")\n",
    "\n",
    "# Polymorphism in action\n",
    "dog = Dog()\n",
    "cat = Cat()\n",
    "\n",
    "animals = [dog, cat]\n",
    "\n",
    "for animal in animals:\n",
    "    animal.speak()  # Calls the overridden 'speak' method of the specific class\n"
   ]
  },
  {
   "cell_type": "code",
   "execution_count": null,
   "id": "00e19b22-12d7-45a2-b618-78349c2b935e",
   "metadata": {},
   "outputs": [],
   "source": []
  },
  {
   "cell_type": "markdown",
   "id": "5a72cb1f-16de-4d16-ab66-653bb734a797",
   "metadata": {},
   "source": [
    "Method Overloading:\n",
    "\n",
    "Method overloading refers to defining multiple methods with the same name in the same class but with different parameters.\n",
    "Python does not support traditional method overloading based on the number or types of parameters, unlike some other programming languages like Java or C++.\n",
    "In Python, if multiple methods with the same name are defined in a class, only the last defined method is considered. Python uses the method name to determine which implementation to use."
   ]
  },
  {
   "cell_type": "code",
   "execution_count": 164,
   "id": "a87dccef-b886-45ce-a93b-0e6a5fe96dc6",
   "metadata": {},
   "outputs": [],
   "source": [
    "class MathOperations:\n",
    "    def calculate(self, x):\n",
    "        return x\n",
    "\n",
    "    def calculate(self, x, y):\n",
    "        return x + y\n",
    "\n",
    "# This code will raise an error, and only the last 'calculate' method is considered.\n"
   ]
  },
  {
   "cell_type": "code",
   "execution_count": null,
   "id": "2f259829-4a3f-4b88-b143-8a58bd0f3b37",
   "metadata": {},
   "outputs": [],
   "source": []
  },
  {
   "cell_type": "code",
   "execution_count": 165,
   "id": "18d382a0-b511-436f-9954-6603b4b64d0f",
   "metadata": {},
   "outputs": [],
   "source": [
    "#6. Create a Python class called `Animal` with a method `speak()`. Then, create child classes like `Dog`, `Cat`, and `Bird`, each with their own `speak()` method. Demonstrate polymorphism by calling the `speak()` method on objects of different subclasses."
   ]
  },
  {
   "cell_type": "code",
   "execution_count": 166,
   "id": "ec5983c4-5284-4e82-a06e-59e6bbef15d9",
   "metadata": {},
   "outputs": [
    {
     "name": "stdout",
     "output_type": "stream",
     "text": [
      "Woof! Woof!\n",
      "Meow!\n",
      "Chirp chirp!\n"
     ]
    }
   ],
   "source": [
    "class Animal:\n",
    "    def speak(self):\n",
    "        print(\"This is the sound an animal makes.\")\n",
    "\n",
    "class Dog(Animal):\n",
    "    def speak(self):\n",
    "        print(\"Woof! Woof!\")\n",
    "\n",
    "class Cat(Animal):\n",
    "    def speak(self):\n",
    "        print(\"Meow!\")\n",
    "\n",
    "class Bird(Animal):\n",
    "    def speak(self):\n",
    "        print(\"Chirp chirp!\")\n",
    "\n",
    "# Create instances of the subclasses\n",
    "dog = Dog()\n",
    "cat = Cat()\n",
    "bird = Bird()\n",
    "\n",
    "# Call the 'speak' method on instances\n",
    "dog.speak()  # Calls the 'speak' method of the Dog class\n",
    "cat.speak()  # Calls the 'speak' method of the Cat class\n",
    "bird.speak()  # Calls the 'speak' method of the Bird class\n"
   ]
  },
  {
   "cell_type": "code",
   "execution_count": null,
   "id": "31d700b4-a53d-4b59-86c8-67f2e978484d",
   "metadata": {},
   "outputs": [],
   "source": []
  },
  {
   "cell_type": "code",
   "execution_count": 167,
   "id": "50a2765e-6744-497d-8ec4-34bbeb69a509",
   "metadata": {},
   "outputs": [],
   "source": [
    "#7. Discuss the use of abstract methods and classes in achieving polymorphism in Python. Provide an example using the `abc` module."
   ]
  },
  {
   "cell_type": "markdown",
   "id": "1be1cc40-3146-4ad2-a29b-0f910263518f",
   "metadata": {},
   "source": [
    "Abstract methods and classes play a crucial role in achieving polymorphism in Python. Abstract methods are methods declared in an abstract base class (ABC) but do not contain any implementation. Subclasses of the ABC are required to provide concrete implementations for these abstract methods. This ensures that objects of different subclasses can respond to method calls consistently, promoting polymorphism."
   ]
  },
  {
   "cell_type": "code",
   "execution_count": 168,
   "id": "4dd26867-ffe9-4ea7-b4c7-a6dbfb8f9868",
   "metadata": {},
   "outputs": [
    {
     "name": "stdout",
     "output_type": "stream",
     "text": [
      "Woof! Woof!\n",
      "Meow!\n"
     ]
    }
   ],
   "source": [
    "from abc import ABC, abstractmethod\n",
    "\n",
    "class Animal(ABC):\n",
    "    @abstractmethod\n",
    "    def speak(self):\n",
    "        pass\n",
    "\n",
    "class Dog(Animal):\n",
    "    def speak(self):\n",
    "        return \"Woof! Woof!\"\n",
    "\n",
    "class Cat(Animal):\n",
    "    def speak(self):\n",
    "        return \"Meow!\"\n",
    "\n",
    "# Attempt to create an instance of the abstract base class (Animal)\n",
    "# This will raise a TypeError, as abstract classes cannot be instantiated.\n",
    "# animal = Animal()\n",
    "\n",
    "# Create instances of the subclasses\n",
    "dog = Dog()\n",
    "cat = Cat()\n",
    "\n",
    "# Call the 'speak' method on instances\n",
    "print(dog.speak())  # Calls the 'speak' method of the Dog class\n",
    "print(cat.speak())  # Calls the 'speak' method of the Cat class\n"
   ]
  },
  {
   "cell_type": "code",
   "execution_count": null,
   "id": "e7f11416-a703-4fb6-83bf-b9e29232ff4b",
   "metadata": {},
   "outputs": [],
   "source": []
  },
  {
   "cell_type": "code",
   "execution_count": 169,
   "id": "e7b1fa3a-35f3-4691-93d7-029014c1a87c",
   "metadata": {},
   "outputs": [],
   "source": [
    "#8. Create a Python class hierarchy for a vehicle system (e.g., car, bicycle, boat) and implement a polymorphic `start()` method that prints a message specific to each vehicle type."
   ]
  },
  {
   "cell_type": "code",
   "execution_count": 170,
   "id": "8d5a2b4a-edf3-4a41-8ec7-5c57df3fcedd",
   "metadata": {},
   "outputs": [
    {
     "name": "stdout",
     "output_type": "stream",
     "text": [
      "Starting the car's engine.\n",
      "Pedaling to start the bicycle.\n",
      "Raising the sails to start the boat.\n"
     ]
    }
   ],
   "source": [
    "class Vehicle:\n",
    "    def start(self):\n",
    "        pass\n",
    "\n",
    "class Car(Vehicle):\n",
    "    def start(self):\n",
    "        print(\"Starting the car's engine.\")\n",
    "\n",
    "class Bicycle(Vehicle):\n",
    "    def start(self):\n",
    "        print(\"Pedaling to start the bicycle.\")\n",
    "\n",
    "class Boat(Vehicle):\n",
    "    def start(self):\n",
    "        print(\"Raising the sails to start the boat.\")\n",
    "\n",
    "# Create instances of the subclasses\n",
    "car = Car()\n",
    "bicycle = Bicycle()\n",
    "boat = Boat()\n",
    "\n",
    "# Call the 'start' method on instances\n",
    "car.start()  # Calls the 'start' method of the Car class\n",
    "bicycle.start()  # Calls the 'start' method of the Bicycle class\n",
    "boat.start()  # Calls the 'start' method of the Boat class\n"
   ]
  },
  {
   "cell_type": "code",
   "execution_count": null,
   "id": "51493bc7-58aa-48b3-9846-7c05cdf9105a",
   "metadata": {},
   "outputs": [],
   "source": []
  },
  {
   "cell_type": "code",
   "execution_count": 171,
   "id": "70881608-ba24-42e0-8589-9cdbfec7defd",
   "metadata": {},
   "outputs": [],
   "source": [
    "#9. Explain the significance of the `isinstance()` and `issubclass()` functions in Python polymorphism."
   ]
  },
  {
   "cell_type": "markdown",
   "id": "482476ce-b44a-4478-b6c4-75731cebb630",
   "metadata": {},
   "source": [
    "isinstance() Function:\n",
    "\n",
    "isinstance() is used to check whether an object belongs to a particular class or type.\n",
    "It's helpful for verifying the type of objects before performing operations on them, especially in situations where objects of different classes are involved."
   ]
  },
  {
   "cell_type": "code",
   "execution_count": 172,
   "id": "f51dbe5b-ec21-4a22-b626-c7b27c956e09",
   "metadata": {},
   "outputs": [
    {
     "name": "stdout",
     "output_type": "stream",
     "text": [
      "True\n",
      "True\n",
      "False\n"
     ]
    }
   ],
   "source": [
    "class Animal:\n",
    "    pass\n",
    "\n",
    "class Dog(Animal):\n",
    "    pass\n",
    "\n",
    "my_dog = Dog()\n",
    "my_animal = Animal()\n",
    "\n",
    "# Check if objects belong to specific classes\n",
    "print(isinstance(my_dog, Dog))  # True\n",
    "print(isinstance(my_dog, Animal))  # True (a Dog is an Animal)\n",
    "print(isinstance(my_animal, Dog))  # False (an Animal is not a Dog)\n"
   ]
  },
  {
   "cell_type": "code",
   "execution_count": null,
   "id": "102669f8-4464-49c9-9263-46e2f5fe14e1",
   "metadata": {},
   "outputs": [],
   "source": []
  },
  {
   "cell_type": "markdown",
   "id": "1f2bbf8d-59de-4f7d-a9d2-5f2a36b7b299",
   "metadata": {},
   "source": [
    "issubclass() Function:\n",
    "\n",
    "issubclass() is used to check whether a class is a subclass of another class.\n",
    "It's useful for verifying class hierarchies and relationships, which can be critical when dealing with inheritance and polymorphism."
   ]
  },
  {
   "cell_type": "code",
   "execution_count": 173,
   "id": "18ac400c-8890-43db-8ee2-51271c5d6454",
   "metadata": {},
   "outputs": [
    {
     "name": "stdout",
     "output_type": "stream",
     "text": [
      "True\n",
      "False\n"
     ]
    }
   ],
   "source": [
    "class Animal:\n",
    "    pass\n",
    "\n",
    "class Dog(Animal):\n",
    "    pass\n",
    "\n",
    "# Check if classes are related through inheritance\n",
    "print(issubclass(Dog, Animal))  # True (Dog is a subclass of Animal)\n",
    "print(issubclass(Animal, Dog))  # False (Animal is not a subclass of Dog)\n"
   ]
  },
  {
   "cell_type": "code",
   "execution_count": null,
   "id": "5997985d-7f50-44f0-a784-ca225df8ffd3",
   "metadata": {},
   "outputs": [],
   "source": []
  },
  {
   "cell_type": "code",
   "execution_count": 174,
   "id": "b94bf09c-7a70-4866-962a-d8374248c7c4",
   "metadata": {},
   "outputs": [],
   "source": [
    "#10. What is the role of the `@abstractmethod` decorator in achieving polymorphism in Python? Provide an example."
   ]
  },
  {
   "cell_type": "markdown",
   "id": "e5148ea7-720a-4175-b9c9-9f4834746eab",
   "metadata": {},
   "source": [
    "The @abstractmethod decorator, when used in conjunction with the abc module (Abstract Base Classes), plays a pivotal role in achieving polymorphism in Python. It's used to declare abstract methods in abstract base classes (ABCs). Abstract methods are methods that are declared in the base class but do not contain an implementation. Subclasses of the ABC are required to provide concrete implementations for these abstract methods, ensuring a consistent interface for polymorphism."
   ]
  },
  {
   "cell_type": "code",
   "execution_count": 175,
   "id": "9c201432-99e6-4a68-b46f-9bd59dbb2930",
   "metadata": {},
   "outputs": [
    {
     "name": "stdout",
     "output_type": "stream",
     "text": [
      "Area of Circle: 78.50\n",
      "Area of Square: 16.00\n"
     ]
    }
   ],
   "source": [
    "from abc import ABC, abstractmethod\n",
    "\n",
    "class Shape(ABC):\n",
    "    @abstractmethod\n",
    "    def area(self):\n",
    "        pass\n",
    "\n",
    "class Circle(Shape):\n",
    "    def __init__(self, radius):\n",
    "        self.radius = radius\n",
    "\n",
    "    def area(self):\n",
    "        return 3.14 * self.radius * self.radius\n",
    "\n",
    "class Square(Shape):\n",
    "    def __init__(self, side_length):\n",
    "        self.side_length = side_length\n",
    "\n",
    "    def area(self):\n",
    "        return self.side_length * self.side_length\n",
    "\n",
    "# Create instances of the subclasses\n",
    "circle = Circle(5)\n",
    "square = Square(4)\n",
    "\n",
    "# Calculate and display the areas of the shapes using polymorphism\n",
    "shapes = [circle, square]\n",
    "\n",
    "for shape in shapes:\n",
    "    print(f\"Area of {shape.__class__.__name__}: {shape.area():.2f}\")\n"
   ]
  },
  {
   "cell_type": "code",
   "execution_count": null,
   "id": "79c9b270-bbe2-4b07-ab4c-39e36852e7cc",
   "metadata": {},
   "outputs": [],
   "source": []
  },
  {
   "cell_type": "code",
   "execution_count": 176,
   "id": "cce1cff9-4270-43e8-bbd9-c9885e2bf099",
   "metadata": {},
   "outputs": [],
   "source": [
    "#11. Create a Python class called `Shape` with a polymorphic method `area()` that calculates the area of different shapes (e.g., circle, rectangle, triangle)."
   ]
  },
  {
   "cell_type": "code",
   "execution_count": 177,
   "id": "bdc2de28-9915-46c4-a7a3-55c697a9f216",
   "metadata": {},
   "outputs": [
    {
     "ename": "TypeError",
     "evalue": "Rectangle() takes no arguments",
     "output_type": "error",
     "traceback": [
      "\u001b[0;31m---------------------------------------------------------------------------\u001b[0m",
      "\u001b[0;31mTypeError\u001b[0m                                 Traceback (most recent call last)",
      "Cell \u001b[0;32mIn[177], line 32\u001b[0m\n\u001b[1;32m     30\u001b[0m \u001b[38;5;66;03m# Create instances of different shapes\u001b[39;00m\n\u001b[1;32m     31\u001b[0m circle \u001b[38;5;241m=\u001b[39m Circle(\u001b[38;5;241m5\u001b[39m)\n\u001b[0;32m---> 32\u001b[0m rectangle \u001b[38;5;241m=\u001b[39m \u001b[43mRectangle\u001b[49m\u001b[43m(\u001b[49m\u001b[38;5;241;43m4\u001b[39;49m\u001b[43m,\u001b[49m\u001b[43m \u001b[49m\u001b[38;5;241;43m6\u001b[39;49m\u001b[43m)\u001b[49m\n\u001b[1;32m     33\u001b[0m triangle \u001b[38;5;241m=\u001b[39m Triangle(\u001b[38;5;241m3\u001b[39m, \u001b[38;5;241m6\u001b[39m)\n\u001b[1;32m     35\u001b[0m \u001b[38;5;66;03m# Calculate and display the areas of the shapes using polymorphism\u001b[39;00m\n",
      "\u001b[0;31mTypeError\u001b[0m: Rectangle() takes no arguments"
     ]
    }
   ],
   "source": [
    "import math\n",
    "\n",
    "class Shape:\n",
    "    def area(self):\n",
    "        pass\n",
    "\n",
    "class Circle(Shape):\n",
    "    def __init__(self, radius):\n",
    "        self.radius = radius\n",
    "\n",
    "    def area(self):\n",
    "        return math.pi * self.radius**2\n",
    "\n",
    "class Rectangle(Shape):\n",
    "    def __init(self, width, height):\n",
    "        self.width = width\n",
    "        self.height = height\n",
    "\n",
    "    def area(self):\n",
    "        return self.width * self.height\n",
    "\n",
    "class Triangle(Shape):\n",
    "    def __init__(self, base, height):\n",
    "        self.base = base\n",
    "        self.height = height\n",
    "\n",
    "    def area(self):\n",
    "        return 0.5 * self.base * self.height\n",
    "\n",
    "# Create instances of different shapes\n",
    "circle = Circle(5)\n",
    "rectangle = Rectangle(4, 6)\n",
    "triangle = Triangle(3, 6)\n",
    "\n",
    "# Calculate and display the areas of the shapes using polymorphism\n",
    "shapes = [circle, rectangle, triangle]\n",
    "\n",
    "for shape in shapes:\n",
    "    print(f\"Area of {shape.__class__.__name__}: {shape.area():.2f}\")\n"
   ]
  },
  {
   "cell_type": "code",
   "execution_count": null,
   "id": "ce467a53-b04d-48ac-be4a-e25afe0a3c1e",
   "metadata": {},
   "outputs": [],
   "source": []
  },
  {
   "cell_type": "code",
   "execution_count": 178,
   "id": "2ddde81e-f601-457c-bf56-ce4787a59401",
   "metadata": {},
   "outputs": [],
   "source": [
    "#12. Discuss the benefits of polymorphism in terms of code reusability and flexibility in Python programs."
   ]
  },
  {
   "cell_type": "markdown",
   "id": "ad7486e0-c814-400e-a2e6-07490dd32716",
   "metadata": {},
   "source": [
    "Polymorphism offers several significant benefits in Python programming, primarily in terms of code reusability and flexibility. Here's how it contributes to these aspects:\n",
    "\n",
    "Code Reusability:\n",
    "\n",
    "Simplified Code: Polymorphism simplifies code by allowing the use of a common interface (e.g., method name) for objects of different classes. This reduces the need for duplicate code for similar operations across different classes.\n",
    "Reusability of Abstraction: Polymorphism promotes the creation of abstract base classes with common methods, which can be inherited by multiple subclasses. This abstraction allows you to reuse common behaviors across a variety of objects.\n",
    "Flexibility:\n",
    "\n",
    "Adaptability: Polymorphism makes code more adaptable to changes and extensions. When new subclasses are added, they can adhere to the existing interface, ensuring that they can seamlessly integrate into the existing codebase.\n",
    "Plugin Architecture: Polymorphism is often used to create plugin architectures. You can define a set of interfaces that plugins must implement, allowing for the dynamic loading and execution of new functionality without modifying the core code.\n",
    "Open-Closed Principle: Polymorphism adheres to the \"Open-Closed Principle\" from software design, which suggests that software entities (classes, modules, functions) should be open for extension but closed for modification. This means that you can add new functionality without changing existing code.\n",
    "Maintainability:\n",
    "\n",
    "Easier Maintenance: Polymorphism helps in maintaining and evolving codebases. When a new feature or class is introduced, it doesn't require significant changes to existing code, making it easier to manage and update.\n",
    "Code Clarity: Polymorphic code tends to be more modular and easier to understand because it adheres to a consistent interface and promotes the separation of concerns.\n",
    "Reduced Conditional Statements:\n",
    "\n",
    "Polymorphism reduces the need for complex conditional statements that would be necessary if you had to explicitly check the class of an object before deciding how to operate on it. This leads to cleaner and more efficient code.\n",
    "Testing and Debugging:\n",
    "\n",
    "Polymorphism simplifies testing and debugging. You can create test cases that apply the same operations to objects of different classes, making it easier to ensure that the code behaves as expected.\n",
    "Scalability:\n",
    "\n",
    "Polymorphism is well-suited for scalable software. As your codebase grows and more classes are introduced, the polymorphic approach ensures that new objects can interact seamlessly with the existing code."
   ]
  },
  {
   "cell_type": "code",
   "execution_count": null,
   "id": "3916e1c0-7461-45a9-ac27-6356227ba5ea",
   "metadata": {},
   "outputs": [],
   "source": []
  },
  {
   "cell_type": "code",
   "execution_count": 179,
   "id": "db389a8f-ec56-451b-a7af-b2facdaa2ced",
   "metadata": {},
   "outputs": [],
   "source": [
    "#13. Explain the use of the `super()` function in Python polymorphism. How does it help call methods of parent classes?"
   ]
  },
  {
   "cell_type": "markdown",
   "id": "e912b414-9e25-4658-93a1-7c9e191d6615",
   "metadata": {},
   "source": [
    "The super() function in Python plays a crucial role in achieving polymorphism by allowing you to call methods of parent (or superclass) classes from within a subclass. It helps in method overriding and ensuring that both the subclass and superclass methods are executed as needed.\n",
    "\n",
    "Here's how super() works and why it is useful in the context of polymorphism:\n",
    "\n",
    "Accessing Parent Class Methods:\n",
    "\n",
    "In a subclass, you may want to override a method from the parent class while still utilizing some or all of the functionality of the parent class method.\n",
    "super() is used to access and call the method from the parent class within the overridden method of the subclass.\n",
    "Maintaining Polymorphism:\n",
    "\n",
    "Polymorphism is about objects of different classes responding to the same method name consistently. When you override a method in a subclass, you want it to maintain the same interface as the method in the parent class. This is essential for polymorphism to work effectively.\n",
    "super() ensures that the parent class method is executed alongside the overridden subclass method, preserving the interface and allowing for consistent behavior across different objects.\n",
    "Chaining Calls:\n",
    "\n",
    "In some cases, a subclass may want to perform some additional operations before or after calling the parent class method. super() facilitates the chaining of calls, enabling you to invoke the parent class method and then add your specific logic before or after it."
   ]
  },
  {
   "cell_type": "code",
   "execution_count": 180,
   "id": "36fce0a4-bb55-4fc6-a2f0-9021f818e83b",
   "metadata": {},
   "outputs": [
    {
     "name": "stdout",
     "output_type": "stream",
     "text": [
      "This is the sound an animal makes. Woof! Woof!\n",
      "This is the sound an animal makes. Meow!\n"
     ]
    }
   ],
   "source": [
    "class Animal:\n",
    "    def speak(self):\n",
    "        return \"This is the sound an animal makes.\"\n",
    "\n",
    "class Dog(Animal):\n",
    "    def speak(self):\n",
    "        # Call the parent class method and add specific behavior\n",
    "        parent_sound = super().speak()\n",
    "        return f\"{parent_sound} Woof! Woof!\"\n",
    "\n",
    "class Cat(Animal):\n",
    "    def speak(self):\n",
    "        # Call the parent class method and add specific behavior\n",
    "        parent_sound = super().speak()\n",
    "        return f\"{parent_sound} Meow!\"\n",
    "\n",
    "# Create instances of the subclasses\n",
    "dog = Dog()\n",
    "cat = Cat()\n",
    "\n",
    "# Call the 'speak' method on instances\n",
    "print(dog.speak())  # Calls the 'speak' method of the Dog class with super()\n",
    "print(cat.speak())  # Calls the 'speak' method of the Cat class with super()\n"
   ]
  },
  {
   "cell_type": "code",
   "execution_count": null,
   "id": "9e1dca3d-2b86-4542-b958-bc46b118328b",
   "metadata": {},
   "outputs": [],
   "source": []
  },
  {
   "cell_type": "code",
   "execution_count": 181,
   "id": "d2d57cd0-12b8-4a01-b9a9-a05b65c01156",
   "metadata": {},
   "outputs": [],
   "source": [
    "#14. Create a Python class hierarchy for a banking system with various account types (e.g., savings, checking,"
   ]
  },
  {
   "cell_type": "code",
   "execution_count": 182,
   "id": "389c1da9-4d7b-4d77-97f4-0abbb531111d",
   "metadata": {},
   "outputs": [
    {
     "name": "stdout",
     "output_type": "stream",
     "text": [
      "Transaction declined: Overdraft limit exceeded.\n",
      "Savings Account Information:\n",
      "Account Number: 101\n",
      "Account Holder: John Doe\n",
      "Balance: 1530.0\n",
      "\n",
      "Checking Account Information:\n",
      "Account Number: 201\n",
      "Account Holder: Jane Smith\n",
      "Balance: 1300.0\n"
     ]
    }
   ],
   "source": [
    "class BankAccount:\n",
    "    def __init__(self, account_number, account_holder, balance):\n",
    "        self.account_number = account_number\n",
    "        self.account_holder = account_holder\n",
    "        self.balance = balance\n",
    "\n",
    "    def deposit(self, amount):\n",
    "        self.balance += amount\n",
    "\n",
    "    def withdraw(self, amount):\n",
    "        if amount <= self.balance:\n",
    "            self.balance -= amount\n",
    "        else:\n",
    "            print(\"Insufficient funds.\")\n",
    "\n",
    "    def get_balance(self):\n",
    "        return self.balance\n",
    "\n",
    "    def __str__(self):\n",
    "        return f\"Account Number: {self.account_number}\\nAccount Holder: {self.account_holder}\\nBalance: {self.balance}\"\n",
    "\n",
    "class SavingsAccount(BankAccount):\n",
    "    def __init__(self, account_number, account_holder, balance, interest_rate):\n",
    "        super().__init__(account_number, account_holder, balance)\n",
    "        self.interest_rate = interest_rate\n",
    "\n",
    "    def apply_interest(self):\n",
    "        self.balance += self.balance * self.interest_rate / 100\n",
    "\n",
    "class CheckingAccount(BankAccount):\n",
    "    def __init__(self, account_number, account_holder, balance, overdraft_limit):\n",
    "        super().__init__(account_number, account_holder, balance)\n",
    "        self.overdraft_limit = overdraft_limit\n",
    "\n",
    "    def withdraw(self, amount):\n",
    "        if amount <= self.balance + self.overdraft_limit:\n",
    "            self.balance -= amount\n",
    "        else:\n",
    "            print(\"Transaction declined: Overdraft limit exceeded.\")\n",
    "\n",
    "# Create instances of various account types\n",
    "savings_account = SavingsAccount(101, \"John Doe\", 1000.0, 2.0)\n",
    "checking_account = CheckingAccount(201, \"Jane Smith\", 1500.0, 500.0)\n",
    "\n",
    "# Deposit and withdraw from accounts\n",
    "savings_account.deposit(500.0)\n",
    "savings_account.apply_interest()\n",
    "checking_account.withdraw(200.0)\n",
    "checking_account.withdraw(2000.0)  # This should be declined due to overdraft limit\n",
    "\n",
    "# Display account information\n",
    "print(\"Savings Account Information:\")\n",
    "print(savings_account)\n",
    "print(\"\\nChecking Account Information:\")\n",
    "print(checking_account)\n"
   ]
  },
  {
   "cell_type": "code",
   "execution_count": null,
   "id": "98acbfdc-fca1-446a-95e0-945376696dd4",
   "metadata": {},
   "outputs": [],
   "source": []
  },
  {
   "cell_type": "code",
   "execution_count": 183,
   "id": "4ee7a873-1bbd-49aa-a350-1b1c6a44b71a",
   "metadata": {},
   "outputs": [],
   "source": [
    "#15. Describe the concept of operator overloading in Python and how it relates to polymorphism. Provide examples using operators like `+` and `*`."
   ]
  },
  {
   "cell_type": "markdown",
   "id": "8d6b5c34-3bec-4121-acbf-35812a17ca27",
   "metadata": {},
   "source": [
    "Operator overloading in Python allows you to define how operators such as +, *, -, etc., behave for objects of user-defined classes. It's closely related to polymorphism, as it enables objects of different classes to respond to the same operator in a way that makes sense for their specific class, promoting a consistent and intuitive interface.\n",
    "\n",
    "Here's how operator overloading relates to polymorphism and some examples using the + and * operators:\n",
    "\n",
    "Operator Overloading and Polymorphism:\n",
    "\n",
    "Consistent Interface: Operator overloading allows you to define how operators work for objects of user-defined classes. This enables you to maintain a consistent interface for different objects, even when they belong to different classes.\n",
    "\n",
    "Polymorphic Behavior: By overloading operators, you ensure that objects of different classes can respond to these operators in a way that's specific to their class. This polymorphic behavior means that the same operator can have different meanings depending on the object's class."
   ]
  },
  {
   "cell_type": "code",
   "execution_count": 184,
   "id": "2d18bcdf-59b5-4b2a-804c-9369235c749b",
   "metadata": {},
   "outputs": [
    {
     "name": "stdout",
     "output_type": "stream",
     "text": [
      "Vector Addition:\n",
      "(4, 6)\n",
      "\n",
      "Scalar Multiplication:\n",
      "(3, 6)\n"
     ]
    }
   ],
   "source": [
    "class Vector:\n",
    "    def __init__(self, x, y):\n",
    "        self.x = x\n",
    "        self.y = y\n",
    "\n",
    "    def __add__(self, other):\n",
    "        # Overload the + operator for vector addition\n",
    "        return Vector(self.x + other.x, self.y + other.y)\n",
    "\n",
    "    def __mul__(self, scalar):\n",
    "        # Overload the * operator for scalar multiplication\n",
    "        return Vector(self.x * scalar, self.y * scalar)\n",
    "\n",
    "    def __str__(self):\n",
    "        return f\"({self.x}, {self.y})\"\n",
    "\n",
    "# Create instances of the Vector class\n",
    "v1 = Vector(1, 2)\n",
    "v2 = Vector(3, 4)\n",
    "\n",
    "# Overloaded addition operator\n",
    "result_add = v1 + v2\n",
    "print(\"Vector Addition:\")\n",
    "print(result_add)  # (4, 6)\n",
    "\n",
    "# Overloaded multiplication operator\n",
    "result_mul = v1 * 3\n",
    "print(\"\\nScalar Multiplication:\")\n",
    "print(result_mul)  # (3, 6)\n"
   ]
  },
  {
   "cell_type": "code",
   "execution_count": null,
   "id": "6cdd64e7-d456-4eb2-85b4-65c3ee2ec89c",
   "metadata": {},
   "outputs": [],
   "source": []
  },
  {
   "cell_type": "code",
   "execution_count": 185,
   "id": "3f928b8f-1f94-494b-b973-51713567c0d4",
   "metadata": {},
   "outputs": [],
   "source": [
    "#16. What is dynamic polymorphism, and how is it achieved in Python?"
   ]
  },
  {
   "cell_type": "markdown",
   "id": "85fc8f1b-a27f-4df5-b9c8-04d674dac73b",
   "metadata": {},
   "source": [
    "Dynamic polymorphism, also known as runtime polymorphism, is a fundamental concept in object-oriented programming. It allows different objects to respond to the same method or operation in a way that's specific to their individual classes. Dynamic polymorphism is achieved at runtime, and it's a key feature of languages like Python.\n",
    "\n",
    "In Python, dynamic polymorphism is achieved through method overriding and object-oriented principles such as inheritance and interfaces. Here's how it works:\n",
    "\n",
    "Inheritance: Dynamic polymorphism relies on the concept of inheritance. When a subclass inherits from a parent class, it can override (redefine) methods that are inherited from the parent. The overridden methods in the subclass have the same name and signature as the methods in the parent class.\n",
    "\n",
    "Method Overriding: In dynamic polymorphism, objects of the subclass can replace or override the implementation of a method defined in the parent class. This means that the subclass's method is called when the method is invoked on an object of the subclass, even if the parent class reference is used.\n",
    "\n",
    "Runtime Resolution: The decision on which method to call is made at runtime, based on the actual class of the object, not the reference type. This is called \"late binding\" or \"runtime binding.\" It allows different objects to behave differently based on their specific class, promoting flexibility and adaptability."
   ]
  },
  {
   "cell_type": "code",
   "execution_count": 186,
   "id": "8b8f851e-3f4c-4db3-b9a6-b17f0a415c07",
   "metadata": {},
   "outputs": [
    {
     "name": "stdout",
     "output_type": "stream",
     "text": [
      "Woof! Woof!\n",
      "Meow!\n"
     ]
    }
   ],
   "source": [
    "class Animal:\n",
    "    def speak(self):\n",
    "        pass\n",
    "\n",
    "class Dog(Animal):\n",
    "    def speak(self):\n",
    "        return \"Woof! Woof!\"\n",
    "\n",
    "class Cat(Animal):\n",
    "    def speak(self):\n",
    "        return \"Meow!\"\n",
    "\n",
    "# Create instances of the subclasses\n",
    "dog = Dog()\n",
    "cat = Cat()\n",
    "\n",
    "# Dynamic polymorphism in action\n",
    "animals = [dog, cat]\n",
    "\n",
    "for animal in animals:\n",
    "    print(animal.speak())\n"
   ]
  },
  {
   "cell_type": "code",
   "execution_count": null,
   "id": "16a269e9-3a4b-4128-8deb-f513e0ce25e2",
   "metadata": {},
   "outputs": [],
   "source": []
  },
  {
   "cell_type": "code",
   "execution_count": 187,
   "id": "32382c6d-3dd4-4ccc-b49c-c40773b4c634",
   "metadata": {},
   "outputs": [],
   "source": [
    "#17. Create a Python class hierarchy for employees in a company (e.g., manager, developer, designer) and implement polymorphism through a common `calculate_salary()` method."
   ]
  },
  {
   "cell_type": "code",
   "execution_count": 188,
   "id": "d72953af-4d80-4272-9b24-b7e844e4159d",
   "metadata": {},
   "outputs": [
    {
     "name": "stdout",
     "output_type": "stream",
     "text": [
      "John Manager's Salary: $60,000.00\n",
      "Alice Developer's Salary: $6,400.00\n",
      "Bob Designer's Salary: $6,000.00\n"
     ]
    }
   ],
   "source": [
    "class Employee:\n",
    "    def __init__(self, name, employee_id):\n",
    "        self.name = name\n",
    "        self.employee_id = employee_id\n",
    "\n",
    "    def calculate_salary(self):\n",
    "        pass\n",
    "\n",
    "class Manager(Employee):\n",
    "    def __init__(self, name, employee_id, base_salary, bonus):\n",
    "        super().__init__(name, employee_id)\n",
    "        self.base_salary = base_salary\n",
    "        self.bonus = bonus\n",
    "\n",
    "    def calculate_salary(self):\n",
    "        return self.base_salary + self.bonus\n",
    "\n",
    "class Developer(Employee):\n",
    "    def __init__(self, name, employee_id, hourly_rate, hours_worked):\n",
    "        super().__init__(name, employee_id)\n",
    "        self.hourly_rate = hourly_rate\n",
    "        self.hours_worked = hours_worked\n",
    "\n",
    "    def calculate_salary(self):\n",
    "        return self.hourly_rate * self.hours_worked\n",
    "\n",
    "class Designer(Employee):\n",
    "    def __init__(self, name, employee_id, monthly_salary):\n",
    "        super().__init__(name, employee_id)\n",
    "        self.monthly_salary = monthly_salary\n",
    "\n",
    "    def calculate_salary(self):\n",
    "        return self.monthly_salary\n",
    "\n",
    "# Create instances of different employee types\n",
    "manager = Manager(\"John Manager\", 101, 50000, 10000)\n",
    "developer = Developer(\"Alice Developer\", 201, 40, 160)\n",
    "designer = Designer(\"Bob Designer\", 301, 6000)\n",
    "\n",
    "# Calculate and display salaries using polymorphism\n",
    "employees = [manager, developer, designer]\n",
    "\n",
    "for employee in employees:\n",
    "    print(f\"{employee.name}'s Salary: ${employee.calculate_salary():,.2f}\")\n"
   ]
  },
  {
   "cell_type": "code",
   "execution_count": null,
   "id": "3d63028d-3788-40d3-bd15-2b4138e89313",
   "metadata": {},
   "outputs": [],
   "source": []
  },
  {
   "cell_type": "code",
   "execution_count": 189,
   "id": "fb4d58c2-26a5-4bde-9295-d2765b85e3ef",
   "metadata": {},
   "outputs": [],
   "source": [
    "#18. Discuss the concept of function pointers and how they can be used to achieve polymorphism in Python."
   ]
  },
  {
   "cell_type": "markdown",
   "id": "857bc3d9-421e-4f00-b106-51f7242c3ad0",
   "metadata": {},
   "source": [
    "Method References: In Python, functions are first-class objects, which means they can be passed as arguments to other functions, assigned to variables, and stored in data structures. This includes methods of objects, which can be referenced using method references.\n",
    "\n",
    "Polymorphism Through References: To achieve polymorphism in Python, you can use references to methods, often in the form of function arguments. By passing a reference to a method (a function) to another function or class, you can achieve polymorphism. This is often seen in scenarios involving callbacks and event handling."
   ]
  },
  {
   "cell_type": "code",
   "execution_count": 190,
   "id": "2c2d8367-7909-4171-9c43-264a2bd93bfc",
   "metadata": {},
   "outputs": [
    {
     "name": "stdout",
     "output_type": "stream",
     "text": [
      "Addition: 15\n",
      "Subtraction: 5\n",
      "Multiplication: 50\n",
      "Division: 2.0\n"
     ]
    }
   ],
   "source": [
    "class Calculator:\n",
    "    def add(self, a, b):\n",
    "        return a + b\n",
    "\n",
    "    def subtract(self, a, b):\n",
    "        return a - b\n",
    "\n",
    "    def multiply(self, a, b):\n",
    "        return a * b\n",
    "\n",
    "    def divide(self, a, b):\n",
    "        if b == 0:\n",
    "            return \"Cannot divide by zero.\"\n",
    "        return a / b\n",
    "\n",
    "def calculate(operation, a, b):\n",
    "    return operation(a, b)\n",
    "\n",
    "# Create instances of the Calculator class\n",
    "calculator = Calculator()\n",
    "\n",
    "# Define function references\n",
    "addition = calculator.add\n",
    "subtraction = calculator.subtract\n",
    "multiplication = calculator.multiply\n",
    "division = calculator.divide\n",
    "\n",
    "# Use polymorphism through references\n",
    "result_add = calculate(addition, 10, 5)\n",
    "result_subtract = calculate(subtraction, 10, 5)\n",
    "result_multiply = calculate(multiplication, 10, 5)\n",
    "result_divide = calculate(division, 10, 5)\n",
    "\n",
    "# Display results\n",
    "print(\"Addition:\", result_add)\n",
    "print(\"Subtraction:\", result_subtract)\n",
    "print(\"Multiplication:\", result_multiply)\n",
    "print(\"Division:\", result_divide)\n"
   ]
  },
  {
   "cell_type": "code",
   "execution_count": null,
   "id": "ddc43511-c2e4-4e99-923e-b26aeb7fe3f7",
   "metadata": {},
   "outputs": [],
   "source": []
  },
  {
   "cell_type": "code",
   "execution_count": 191,
   "id": "a5cf8d6a-6f08-44bc-81af-41d1c0a5ea1a",
   "metadata": {},
   "outputs": [],
   "source": [
    "#19. Explain the role of interfaces and abstract classes in polymorphism, drawing comparisons between them."
   ]
  },
  {
   "cell_type": "markdown",
   "id": "0933ff74-e32c-4984-9a9a-8c9be9ba3310",
   "metadata": {},
   "source": [
    "In object-oriented programming, interfaces and abstract classes play important roles in achieving polymorphism by defining a common set of methods that subclasses are required to implement. Both interfaces and abstract classes help create a consistent and predictable structure for polymorphism, but they have some key differences:\n",
    "\n",
    "Abstract Classes:\n",
    "\n",
    "Definition: An abstract class is a class that cannot be instantiated and may contain both concrete (implemented) methods and abstract (unimplemented) methods.\n",
    "\n",
    "Inheritance: Subclasses of an abstract class must inherit the abstract methods and provide concrete implementations for those methods. This enforces a contract that ensures that certain methods are implemented by subclasses.\n",
    "\n",
    "Flexibility: Abstract classes can also contain concrete methods, which can provide default implementations. Subclasses can choose to override these methods, but they are not required to do so.\n",
    "\n",
    "Interfaces:\n",
    "\n",
    "Definition: An interface is a contract that defines a set of methods that must be implemented by any class that claims to implement that interface. In Python, interfaces are not explicit, but rather a concept followed by convention.\n",
    "\n",
    "Implementation: A class can implement multiple interfaces, which means it must provide concrete implementations for all methods defined in those interfaces. This allows for a high level of flexibility and multiple inheritance.\n",
    "\n",
    "No Attributes: Interfaces typically do not contain attributes or instance variables. They focus solely on method contracts.\n",
    "\n",
    "Here's a comparison:\n",
    "\n",
    "Common Objective: Both abstract classes and interfaces serve the common objective of achieving polymorphism by defining a contract for methods that must be implemented by subclasses. This ensures that different classes have consistent method names and interfaces for interoperability.\n",
    "\n",
    "Concrete Methods: Abstract classes can include concrete methods, which provide default implementations for subclasses. Interfaces, on the other hand, only define method signatures and do not include method implementations.\n",
    "\n",
    "Multiple Inheritance: In Python, interfaces are not formal constructs, but they can be achieved through multiple inheritance. A class can inherit from multiple classes, effectively implementing multiple interfaces. Abstract classes can also be part of the inheritance hierarchy.\n",
    "\n",
    "Enforceability: Abstract classes enforce method implementations in subclasses by designating them as abstract methods. In contrast, interfaces rely on the discipline of the programmer to implement the required methods.\n",
    "\n",
    "In Python, while there is no strict concept of interfaces, you can use abstract classes with the abc module to create abstract methods and achieve a level of interface-like behavior. Additionally, Python allows flexibility by not enforcing strict interfaces, relying on the programmer's discipline and duck typing."
   ]
  },
  {
   "cell_type": "code",
   "execution_count": null,
   "id": "db8d67b5-a747-4c0b-9380-ee213668bf77",
   "metadata": {},
   "outputs": [],
   "source": []
  },
  {
   "cell_type": "code",
   "execution_count": 192,
   "id": "36d653e0-ab8d-451a-a67f-56e607ea7ed8",
   "metadata": {},
   "outputs": [],
   "source": [
    "#20. Create a Python class for a zoo simulation, demonstrating polymorphism with different"
   ]
  },
  {
   "cell_type": "code",
   "execution_count": 193,
   "id": "2cc29846-a679-45a6-a6fa-30acd2bf18ed",
   "metadata": {},
   "outputs": [
    {
     "name": "stdout",
     "output_type": "stream",
     "text": [
      "Simba says: Roar!\n",
      "Dumbo says: Trumpet!\n",
      "Pablo says: Hoot!\n"
     ]
    }
   ],
   "source": [
    "class Animal:\n",
    "    def __init__(self, name):\n",
    "        self.name = name\n",
    "\n",
    "    def speak(self):\n",
    "        pass\n",
    "\n",
    "class Lion(Animal):\n",
    "    def speak(self):\n",
    "        return \"Roar!\"\n",
    "\n",
    "class Elephant(Animal):\n",
    "    def speak(self):\n",
    "        return \"Trumpet!\"\n",
    "\n",
    "class Penguin(Animal):\n",
    "    def speak(self):\n",
    "        return \"Hoot!\"\n",
    "\n",
    "class Zoo:\n",
    "    def __init__(self):\n",
    "        self.animals = []\n",
    "\n",
    "    def add_animal(self, animal):\n",
    "        if isinstance(animal, Animal):\n",
    "            self.animals.append(animal)\n",
    "        else:\n",
    "            print(\"Invalid animal. Must be an instance of the Animal class.\")\n",
    "\n",
    "    def simulate_zoo(self):\n",
    "        for animal in self.animals:\n",
    "            print(f\"{animal.name} says: {animal.speak()}\")\n",
    "\n",
    "# Create instances of different animals\n",
    "simba = Lion(\"Simba\")\n",
    "dumbo = Elephant(\"Dumbo\")\n",
    "pablo = Penguin(\"Pablo\")\n",
    "\n",
    "# Create a Zoo\n",
    "zoo = Zoo()\n",
    "\n",
    "# Add animals to the zoo\n",
    "zoo.add_animal(simba)\n",
    "zoo.add_animal(dumbo)\n",
    "zoo.add_animal(pablo)\n",
    "\n",
    "# Simulate the zoo and showcase polymorphism\n",
    "zoo.simulate_zoo()\n"
   ]
  },
  {
   "cell_type": "code",
   "execution_count": null,
   "id": "447e77ed-c73a-465b-b94a-37f2009ae8cb",
   "metadata": {},
   "outputs": [],
   "source": []
  },
  {
   "cell_type": "code",
   "execution_count": null,
   "id": "73abc080-7b0f-4c9c-ab40-a28077172706",
   "metadata": {},
   "outputs": [],
   "source": []
  },
  {
   "cell_type": "markdown",
   "id": "8b4f7ab4-2efa-4cf2-b9ff-639f3935a5fd",
   "metadata": {},
   "source": [
    "Abstraction:"
   ]
  },
  {
   "cell_type": "code",
   "execution_count": 194,
   "id": "415b564f-4709-41a5-b768-7c1c50ce0d2e",
   "metadata": {},
   "outputs": [],
   "source": [
    "#1. What is abstraction in Python, and how does it relate to object-oriented programming?"
   ]
  },
  {
   "cell_type": "markdown",
   "id": "c9f1d034-58fd-4d95-a619-4adfc9727f1b",
   "metadata": {},
   "source": [
    "Abstraction in Python is a fundamental concept in object-oriented programming (OOP) that allows you to simplify complex systems by hiding unnecessary details while exposing only the essential features of objects or systems. It is closely related to OOP and serves as a powerful tool for managing complexity, improving code organization, and enhancing maintainability.\n",
    "\n",
    "Key aspects of abstraction in Python and its relationship to OOP include:\n",
    "\n",
    "Hiding Complex Implementation: Abstraction allows you to hide the intricate details of how a particular object or system works, focusing instead on what it does and what it provides to the outside world. This makes it easier to manage large and complex codebases by encapsulating internal complexity.\n",
    "\n",
    "Creating Abstract Classes and Interfaces: In Python, abstraction is often implemented using abstract classes and interfaces. Abstract classes are classes that cannot be instantiated and may contain one or more abstract methods that serve as placeholders for methods that must be implemented by concrete subclasses. Interfaces define a contract specifying the methods that must be implemented by any class claiming to implement the interface.\n",
    "\n",
    "Providing a Consistent Interface: Abstraction enforces a consistent and well-defined interface for objects. This helps ensure that objects of different classes share common methods and can be used interchangeably, promoting a common API for interacting with various objects.\n",
    "\n",
    "Promoting Code Reusability: Abstraction encourages the development of reusable code components and design patterns. By defining abstract classes and interfaces, you can create a blueprint for classes that follow a certain structure, making it easier to create new classes with similar behavior.\n",
    "\n",
    "Enhancing Maintainability: Abstraction simplifies code maintenance. When the internal details of objects are hidden, you can change the underlying implementation without affecting the code that uses those objects, as long as the public interface remains consistent.\n",
    "\n",
    "Enabling Polymorphism: Abstraction is closely related to polymorphism, a key concept in OOP. Abstraction allows you to create a hierarchy of classes with common base classes and interfaces, enabling dynamic polymorphism by allowing different classes to respond to the same method calls.\n",
    "\n",
    "In Python, the abc (Abstract Base Classes) module is often used to implement abstraction through the definition of abstract classes and methods. This module provides a way to create abstract classes and enforce method implementations in subclasses.\n",
    "\n",
    "Abstraction is a powerful tool in Python and OOP that facilitates code organization, simplifies complex systems, and promotes flexibility and maintainability. It encourages a focus on high-level concepts and the relationships between objects, making it easier to design, implement, and extend software systems.\n",
    "\n",
    "\n",
    "\n",
    "\n"
   ]
  },
  {
   "cell_type": "code",
   "execution_count": null,
   "id": "eb659de0-e08b-435a-81a7-5e106deb62f5",
   "metadata": {},
   "outputs": [],
   "source": []
  },
  {
   "cell_type": "code",
   "execution_count": 195,
   "id": "3c556474-cd9f-4efd-9f94-a309db6424b2",
   "metadata": {},
   "outputs": [],
   "source": [
    "#2. Describe the benefits of abstraction in terms of code organization and complexity reduction."
   ]
  },
  {
   "cell_type": "markdown",
   "id": "c02791c7-186e-4ebd-abc0-cfb6387dc134",
   "metadata": {},
   "source": [
    "Abstraction offers several significant benefits in terms of code organization and complexity reduction in software development:\n",
    "\n",
    "Simplified Understanding: Abstraction allows you to focus on the high-level structure and behavior of objects or systems without getting bogged down by intricate details. This simplifies the comprehension of complex systems, making it easier to understand and work with them.\n",
    "\n",
    "Modularity: Abstraction promotes modularity by breaking down a system into smaller, self-contained components. Each component can be designed, implemented, and tested independently, making it easier to manage and maintain the codebase.\n",
    "\n",
    "Encapsulation: Abstraction often goes hand-in-hand with encapsulation, which means that the internal details of objects are hidden from the outside. This encapsulation reduces complexity by exposing only a well-defined interface, shielding the user from complex internal workings.\n",
    "\n",
    "Reusability: Abstraction encourages the development of reusable code components. By defining abstract classes, interfaces, and design patterns, you can create a blueprint for objects with similar behavior, reducing redundancy and promoting code reuse.\n",
    "\n",
    "Flexibility: Abstraction allows for flexibility in system design. You can define abstract classes and interfaces that serve as guidelines for implementing concrete classes. This flexibility accommodates changes and extensions in the future, making the codebase more adaptable.\n",
    "\n",
    "Maintainability: Abstraction enhances code maintainability. When the internal complexity of objects is hidden and only the public interface is exposed, changes to the internal implementation can be made without affecting the code that relies on those objects. This reduces the risk of introducing bugs and simplifies the process of fixing or improving code.\n",
    "\n",
    "Consistency: Abstraction enforces a consistent and well-defined interface for objects. This ensures that objects of different classes share common methods, providing a uniform API for interacting with various objects. This consistency simplifies coding and promotes interoperability.\n",
    "\n",
    "Complexity Reduction: Abstraction abstracts away (hides) unnecessary complexity, allowing developers to focus on the essential aspects of an object or system. This simplification makes code more manageable and less error-prone.\n",
    "\n",
    "Communication: Abstraction aids in communication within development teams. It provides a common language and clear structure for discussing and designing systems. Developers can work with abstract concepts, making it easier to share ideas and collaborate.\n",
    "\n",
    "Scalability: Abstraction facilitates scalability by breaking down a system into manageable, abstract components. As the system grows, it can be extended by adding new concrete implementations of abstract classes or interfaces.\n",
    "\n"
   ]
  },
  {
   "cell_type": "code",
   "execution_count": null,
   "id": "145b88f3-cd50-4617-8dd1-2fa6ee0d265c",
   "metadata": {},
   "outputs": [],
   "source": []
  },
  {
   "cell_type": "code",
   "execution_count": 196,
   "id": "0671be02-0660-4f7a-9c25-ceaa224d8031",
   "metadata": {},
   "outputs": [],
   "source": [
    "#3. Create a Python class called `Shape` with an abstract method `calculate_area()`. Then, create child classes (e.g., `Circle`, `Rectangle`) that implement the `calculate_area()` method. Provide an example of using these classes."
   ]
  },
  {
   "cell_type": "code",
   "execution_count": 197,
   "id": "15b84849-0a13-4b62-9141-6faabb953f6c",
   "metadata": {},
   "outputs": [
    {
     "name": "stdout",
     "output_type": "stream",
     "text": [
      "Area of the Circle: 78.53975 square units\n",
      "Area of the Rectangle: 24 square units\n"
     ]
    }
   ],
   "source": [
    "from abc import ABC, abstractmethod  # Import the ABC (Abstract Base Class) module\n",
    "\n",
    "class Shape(ABC):  # Define an abstract base class\n",
    "    @abstractmethod\n",
    "    def calculate_area(self):  # Abstract method to be implemented by child classes\n",
    "        pass\n",
    "\n",
    "class Circle(Shape):\n",
    "    def __init__(self, radius):\n",
    "        self.radius = radius\n",
    "\n",
    "    def calculate_area(self):\n",
    "        return 3.14159 * self.radius ** 2  # Calculate the area of a circle\n",
    "\n",
    "class Rectangle(Shape):\n",
    "    def __init__(self, length, width):\n",
    "        self.length = length\n",
    "        self.width = width\n",
    "\n",
    "    def calculate_area(self):\n",
    "        return self.length * self.width  # Calculate the area of a rectangle\n",
    "\n",
    "# Create instances of child classes\n",
    "circle = Circle(5)\n",
    "rectangle = Rectangle(4, 6)\n",
    "\n",
    "# Calculate and display areas using polymorphism\n",
    "shapes = [circle, rectangle]\n",
    "\n",
    "for shape in shapes:\n",
    "    print(f\"Area of the {shape.__class__.__name__}: {shape.calculate_area()} square units\")\n"
   ]
  },
  {
   "cell_type": "code",
   "execution_count": null,
   "id": "ed1aabf0-6bc8-4627-9387-24e1f17d7468",
   "metadata": {},
   "outputs": [],
   "source": []
  },
  {
   "cell_type": "code",
   "execution_count": 198,
   "id": "5009fe69-462b-43bf-b772-23316d2035eb",
   "metadata": {},
   "outputs": [],
   "source": [
    "#4. Explain the concept of abstract classes in Python and how they are defined using the `abc` module. Provide an example."
   ]
  },
  {
   "cell_type": "code",
   "execution_count": 199,
   "id": "097c5952-304a-4fae-b3c3-9296bc97b15a",
   "metadata": {},
   "outputs": [
    {
     "name": "stdout",
     "output_type": "stream",
     "text": [
      "Concrete method implementation\n"
     ]
    }
   ],
   "source": [
    "from abc import ABC, abstractmethod\n",
    "\n",
    "class AbstractClass(ABC):  # Inherit from ABC to create an abstract class\n",
    "    @abstractmethod\n",
    "    def abstract_method(self):  # Define an abstract method\n",
    "        pass\n",
    "\n",
    "class ConcreteClass(AbstractClass):  # Create a concrete subclass of the abstract class\n",
    "    def abstract_method(self):  # Provide a concrete implementation for the abstract method\n",
    "        print(\"Concrete method implementation\")\n",
    "\n",
    "# Attempting to create an instance of the abstract class will raise a TypeError\n",
    "# abstract_obj = AbstractClass()  # This will raise a TypeError\n",
    "\n",
    "# Create an instance of the concrete class and call the method\n",
    "concrete_obj = ConcreteClass()\n",
    "concrete_obj.abstract_method()\n"
   ]
  },
  {
   "cell_type": "code",
   "execution_count": null,
   "id": "96283d00-0da4-420d-b812-7a4140521123",
   "metadata": {},
   "outputs": [],
   "source": []
  },
  {
   "cell_type": "code",
   "execution_count": 200,
   "id": "a1aae688-3718-461d-ac24-dff89ce8b787",
   "metadata": {},
   "outputs": [],
   "source": [
    "#5. How do abstract classes differ from regular classes in Python? Discuss their use cases."
   ]
  },
  {
   "cell_type": "markdown",
   "id": "6bcf60b9-b799-47d9-9a23-393a6718f4ae",
   "metadata": {},
   "source": [
    "Abstract Classes:\n",
    "\n",
    "Cannot Be Instantiated: Abstract classes cannot be instantiated directly. Attempting to create an instance of an abstract class will raise a TypeError. They serve as blueprints for other classes and are meant to be subclassed.\n",
    "\n",
    "Contain Abstract Methods: Abstract classes often contain one or more abstract methods, which are methods without implementations (i.e., methods marked with the @abstractmethod decorator). Subclasses must provide concrete implementations for these abstract methods.\n",
    "\n",
    "Designed for Inheritance: The primary purpose of abstract classes is to be inherited by concrete subclasses. They define a common structure and set of abstract methods that must be implemented by any subclass.\n",
    "\n",
    "Promote Polymorphism: Abstract classes help enforce polymorphism by ensuring that subclasses provide consistent method implementations. This allows for the use of polymorphism to work with objects of different concrete subclasses interchangeably.\n",
    "\n",
    "Regular Classes:\n",
    "\n",
    "Can Be Instantiated: Regular classes can be instantiated, and objects of these classes can be created directly. They are intended for use as standalone objects.\n",
    "\n",
    "May Contain Concrete Methods: Regular classes typically contain concrete methods with actual implementations. These methods provide the behavior of the class and can be used directly when an instance of the class is created.\n",
    "\n",
    "Independent Entities: Regular classes are often used as independent entities, representing real-world objects or concepts. They can be instantiated and used as objects with their own attributes and behaviors.\n",
    "\n",
    "Use Cases:\n",
    "\n",
    "Abstract Classes: Abstract classes are used when you want to create a common structure or interface for a group of related classes. They are particularly useful in the following scenarios:\n",
    "\n",
    "When you want to define a set of methods that must be implemented by multiple subclasses to ensure consistency and enforce a contract.\n",
    "When you want to promote polymorphism and enable objects of different concrete subclasses to be used interchangeably.\n",
    "Regular Classes: Regular classes are used for creating standalone objects with specific behaviors. They are suitable in various scenarios, including:\n",
    "\n",
    "When you want to represent real-world entities (e.g., creating a Person class to represent individuals).\n",
    "When you want to encapsulate data and behavior within a single object (e.g., creating a Car class with attributes and methods for car-related actions).\n",
    "When you don't need to enforce a common structure or method contract for subclasses.\n"
   ]
  },
  {
   "cell_type": "code",
   "execution_count": null,
   "id": "824d8777-bb78-4e88-bdd7-909e6fb94a40",
   "metadata": {},
   "outputs": [],
   "source": []
  },
  {
   "cell_type": "code",
   "execution_count": 201,
   "id": "37910706-05ca-40d7-8848-bade549b5ca9",
   "metadata": {},
   "outputs": [],
   "source": [
    "#6. Create a Python class for a bank account and demonstrate abstraction by hiding the account balance and providing methods to deposit and withdraw funds."
   ]
  },
  {
   "cell_type": "code",
   "execution_count": 202,
   "id": "2784b461-d9ef-4fd5-9284-93ea58179e40",
   "metadata": {},
   "outputs": [
    {
     "name": "stdout",
     "output_type": "stream",
     "text": [
      "Alice's Savings Account Balance: $500\n",
      "Bob's Checking Account Balance: $700\n"
     ]
    }
   ],
   "source": [
    "from abc import ABC, abstractmethod\n",
    "\n",
    "class BankAccount(ABC):\n",
    "    def __init__(self, account_number, account_holder):\n",
    "        self.account_number = account_number\n",
    "        self.account_holder = account_holder\n",
    "        self._balance = 0  # Protected attribute (conventionally indicated with a single underscore)\n",
    "\n",
    "    @abstractmethod\n",
    "    def deposit(self, amount):\n",
    "        pass\n",
    "\n",
    "    @abstractmethod\n",
    "    def withdraw(self, amount):\n",
    "        pass\n",
    "\n",
    "    def get_balance(self):\n",
    "        return self._balance\n",
    "\n",
    "class SavingsAccount(BankAccount):\n",
    "    def deposit(self, amount):\n",
    "        if amount > 0:\n",
    "            self._balance += amount\n",
    "\n",
    "    def withdraw(self, amount):\n",
    "        if amount > 0 and amount <= self._balance:\n",
    "            self._balance -= amount\n",
    "\n",
    "class CheckingAccount(BankAccount):\n",
    "    def deposit(self, amount):\n",
    "        if amount > 0:\n",
    "            self._balance += amount\n",
    "\n",
    "    def withdraw(self, amount):\n",
    "        if amount > 0 and amount <= self._balance:\n",
    "            self._balance -= amount\n",
    "\n",
    "# Create instances of bank accounts\n",
    "savings_account = SavingsAccount(\"SA123456\", \"Alice\")\n",
    "checking_account = CheckingAccount(\"CA789012\", \"Bob\")\n",
    "\n",
    "# Deposit and withdraw funds\n",
    "savings_account.deposit(1000)\n",
    "checking_account.deposit(1500)\n",
    "\n",
    "savings_account.withdraw(500)\n",
    "checking_account.withdraw(800)\n",
    "\n",
    "# Get account balances\n",
    "print(f\"{savings_account.account_holder}'s Savings Account Balance: ${savings_account.get_balance()}\")\n",
    "print(f\"{checking_account.account_holder}'s Checking Account Balance: ${checking_account.get_balance()}\")\n"
   ]
  },
  {
   "cell_type": "code",
   "execution_count": null,
   "id": "5f387a3d-c42a-4028-b6a1-bea73964f5c4",
   "metadata": {},
   "outputs": [],
   "source": []
  },
  {
   "cell_type": "code",
   "execution_count": 203,
   "id": "6f1d47cc-e403-403d-8b36-080f7a6bb665",
   "metadata": {},
   "outputs": [],
   "source": [
    "#7. Discuss the concept of interface classes in Python and their role in achieving abstraction."
   ]
  },
  {
   "cell_type": "markdown",
   "id": "4d655dcc-9522-415a-81ff-427c603d9d74",
   "metadata": {},
   "source": [
    "Abstract Base Classes (ABCs): Python provides the ABC class within the abc module. An abstract base class is a class that cannot be instantiated and is used to define a common interface by specifying one or more abstract methods (methods without implementations).\n",
    "\n",
    "Abstract Methods: Abstract methods are defined within abstract base classes using the @abstractmethod decorator. These methods serve as placeholders, and any concrete class inheriting from the abstract base class must provide concrete implementations for these methods.\n",
    "\n",
    "Concrete Implementations: Concrete classes implement the methods required by the abstract base class. This ensures that the concrete classes adhere to the contract defined by the interface (abstract base class)."
   ]
  },
  {
   "cell_type": "code",
   "execution_count": 204,
   "id": "2a5517b1-2e8e-4906-8e25-e2cd17aea426",
   "metadata": {},
   "outputs": [
    {
     "name": "stdout",
     "output_type": "stream",
     "text": [
      "Concrete class does something\n"
     ]
    }
   ],
   "source": [
    "from abc import ABC, abstractmethod\n",
    "\n",
    "class MyInterface(ABC):\n",
    "    @abstractmethod\n",
    "    def do_something(self):\n",
    "        pass\n",
    "\n",
    "class MyConcreteClass(MyInterface):\n",
    "    def do_something(self):\n",
    "        return \"Concrete class does something\"\n",
    "\n",
    "# Instantiate the concrete class\n",
    "my_instance = MyConcreteClass()\n",
    "\n",
    "# Call the method defined in the interface\n",
    "result = my_instance.do_something()\n",
    "\n",
    "print(result)  # Output: \"Concrete class does something\"\n"
   ]
  },
  {
   "cell_type": "code",
   "execution_count": null,
   "id": "b460025a-c2e9-4dca-b8c1-d0355b3ba0df",
   "metadata": {},
   "outputs": [],
   "source": []
  },
  {
   "cell_type": "code",
   "execution_count": 205,
   "id": "c8adb97b-05a3-45ab-a51a-7c9177505044",
   "metadata": {},
   "outputs": [],
   "source": [
    "#8. Create a Python class hierarchy for animals and implement abstraction by defining common methods (e.g., `eat()`, `sleep()`) in an abstract base class."
   ]
  },
  {
   "cell_type": "code",
   "execution_count": 206,
   "id": "435aa5c7-fad0-4f02-995a-16f505e38fc0",
   "metadata": {},
   "outputs": [
    {
     "name": "stdout",
     "output_type": "stream",
     "text": [
      "Buddy the Dog barks\n",
      "Buddy the Dog eats dog food\n",
      "Buddy the Dog sleeps in a dog bed\n",
      "Whiskers the Cat meows\n",
      "Whiskers the Cat eats cat food\n",
      "Whiskers the Cat sleeps on a cozy mat\n"
     ]
    }
   ],
   "source": [
    "from abc import ABC, abstractmethod\n",
    "\n",
    "class Animal(ABC):  # Abstract base class for animals\n",
    "    def __init__(self, name, species):\n",
    "        self.name = name\n",
    "        self.species = species\n",
    "\n",
    "    @abstractmethod\n",
    "    def speak(self):\n",
    "        pass\n",
    "\n",
    "    @abstractmethod\n",
    "    def eat(self):\n",
    "        pass\n",
    "\n",
    "    @abstractmethod\n",
    "    def sleep(self):\n",
    "        pass\n",
    "\n",
    "class Dog(Animal):\n",
    "    def speak(self):\n",
    "        return f\"{self.name} the {self.species} barks\"\n",
    "\n",
    "    def eat(self):\n",
    "        return f\"{self.name} the {self.species} eats dog food\"\n",
    "\n",
    "    def sleep(self):\n",
    "        return f\"{self.name} the {self.species} sleeps in a dog bed\"\n",
    "\n",
    "class Cat(Animal):\n",
    "    def speak(self):\n",
    "        return f\"{self.name} the {self.species} meows\"\n",
    "\n",
    "    def eat(self):\n",
    "        return f\"{self.name} the {self.species} eats cat food\"\n",
    "\n",
    "    def sleep(self):\n",
    "        return f\"{self.name} the {self.species} sleeps on a cozy mat\"\n",
    "\n",
    "# Create instances of animal subclasses\n",
    "dog = Dog(\"Buddy\", \"Dog\")\n",
    "cat = Cat(\"Whiskers\", \"Cat\")\n",
    "\n",
    "# Call common methods for animals\n",
    "print(dog.speak())\n",
    "print(dog.eat())\n",
    "print(dog.sleep())\n",
    "\n",
    "print(cat.speak())\n",
    "print(cat.eat())\n",
    "print(cat.sleep())\n"
   ]
  },
  {
   "cell_type": "code",
   "execution_count": null,
   "id": "c41e9d3e-bbdc-46ae-ab29-872d91f20094",
   "metadata": {},
   "outputs": [],
   "source": []
  },
  {
   "cell_type": "code",
   "execution_count": 207,
   "id": "a936acb1-77e3-4aec-891c-1ad0cdb925f3",
   "metadata": {},
   "outputs": [],
   "source": [
    "#9. Explain the significance of encapsulation in achieving abstraction. Provide examples."
   ]
  },
  {
   "cell_type": "markdown",
   "id": "85d804f8-2ec8-43e5-8901-6d83cd89c44f",
   "metadata": {},
   "source": [
    "Hiding Implementation Details: Encapsulation allows you to hide the internal implementation details of a class from the outside world. This is done by marking attributes as private or protected and providing public methods to access or modify those attributes. By doing so, you encapsulate the internal state of the object, allowing you to change the implementation without affecting the code that uses the object."
   ]
  },
  {
   "cell_type": "code",
   "execution_count": 208,
   "id": "bff8daaf-7f03-490d-8fb4-da89bdcb68c0",
   "metadata": {},
   "outputs": [],
   "source": [
    "class BankAccount:\n",
    "    def __init__(self):\n",
    "        self._balance = 0  # Encapsulated as a protected attribute\n",
    "\n",
    "    def deposit(self, amount):\n",
    "        self._balance += amount\n",
    "\n",
    "    def get_balance(self):\n",
    "        return self._balance\n"
   ]
  },
  {
   "cell_type": "code",
   "execution_count": null,
   "id": "b7024179-5e8c-454e-97f7-b2b74282c17b",
   "metadata": {},
   "outputs": [],
   "source": []
  },
  {
   "cell_type": "markdown",
   "id": "d110a3d1-a4ef-45ea-80e9-c834271ee7db",
   "metadata": {},
   "source": [
    "Abstraction of Complex Behavior: Encapsulation allows you to abstract complex behavior or processes into simple, user-friendly methods. Users of a class don't need to know the intricate details of how an operation is carried out; they only need to interact with well-defined, high-level methods."
   ]
  },
  {
   "cell_type": "code",
   "execution_count": 209,
   "id": "ff395d45-ff4b-4606-8207-76d2c325bf81",
   "metadata": {},
   "outputs": [],
   "source": [
    "class File:\n",
    "    def __init__(self, filename):\n",
    "        self.filename = filename\n",
    "\n",
    "    def read(self):\n",
    "        # Encapsulated logic for reading from a file\n",
    "        pass\n",
    "\n",
    "    def write(self, data):\n",
    "        # Encapsulated logic for writing to a file\n",
    "        pass\n"
   ]
  },
  {
   "cell_type": "code",
   "execution_count": null,
   "id": "3ff7a09b-de38-445a-8c71-99a1bf62cf36",
   "metadata": {},
   "outputs": [],
   "source": []
  },
  {
   "cell_type": "markdown",
   "id": "7f454781-88b1-4917-b44c-807002220735",
   "metadata": {},
   "source": [
    "Control Over Data: Encapsulation allows you to maintain control over the data by enforcing validation and ensuring that the data is in a valid state. This helps prevent the accidental modification of data in unintended ways."
   ]
  },
  {
   "cell_type": "code",
   "execution_count": 210,
   "id": "83635c28-c753-4afc-8645-a4a9746ba700",
   "metadata": {},
   "outputs": [],
   "source": [
    "class TemperatureSensor:\n",
    "    def __init__(self):\n",
    "        self._temperature = 0  # Encapsulated as a protected attribute\n",
    "\n",
    "    def set_temperature(self, value):\n",
    "        if value < -50 or value > 150:\n",
    "            raise ValueError(\"Invalid temperature value\")\n",
    "        self._temperature = value\n"
   ]
  },
  {
   "cell_type": "code",
   "execution_count": null,
   "id": "83a154f8-87a3-495d-8ece-46861ccd39d4",
   "metadata": {},
   "outputs": [],
   "source": []
  },
  {
   "cell_type": "markdown",
   "id": "2db2d846-95d1-4fa3-bbdd-31bcb3955452",
   "metadata": {},
   "source": [
    "Promotes Modular Design: Encapsulation promotes modular design by allowing you to create reusable classes that can be used as building blocks for larger systems. These classes provide well-defined interfaces, enabling other parts of the program to interact with them without needing to understand their internal workings."
   ]
  },
  {
   "cell_type": "code",
   "execution_count": 211,
   "id": "49a78117-068c-424a-9c0b-03c6c1a880c0",
   "metadata": {},
   "outputs": [],
   "source": [
    "class Employee:\n",
    "    def __init__(self, name, salary):\n",
    "        self.name = name\n",
    "        self.salary = salary\n",
    "\n",
    "class Department:\n",
    "    def __init__(self, name):\n",
    "        self.name = name\n",
    "        self.employees = []\n",
    "\n",
    "    def add_employee(self, employee):\n",
    "        self.employees.append(employee)\n"
   ]
  },
  {
   "cell_type": "code",
   "execution_count": null,
   "id": "c7ccbcdd-367c-4665-9a97-e9f37cb9ab20",
   "metadata": {},
   "outputs": [],
   "source": []
  },
  {
   "cell_type": "code",
   "execution_count": 212,
   "id": "64a47b53-fdbc-4a1c-9323-8fddbc546fd2",
   "metadata": {},
   "outputs": [],
   "source": [
    "#10. What is the purpose of abstract methods, and how do they enforce abstraction in Python classes?"
   ]
  },
  {
   "cell_type": "markdown",
   "id": "b73a6392-b3b6-4be0-a200-a70cae3949a8",
   "metadata": {},
   "source": [
    "Abstract methods in Python serve the purpose of enforcing abstraction in classes. They require that concrete subclasses provide implementations for these methods, ensuring that classes adhere to a common interface or contract. Abstract methods are defined using the @abstractmethod decorator and are declared within abstract base classes. Here's how abstract methods enforce abstraction in Python classes:\n",
    "\n",
    "Defining a Common Interface: Abstract methods define a common interface or set of methods that concrete subclasses must implement. This interface defines a contract that specifies what methods a subclass must provide, promoting a consistent structure and behavior.\n",
    "\n",
    "Forcing Concrete Implementations: Abstract methods have no implementation in the abstract base class. Instead, they serve as placeholders, indicating that the method must be implemented in concrete subclasses. This enforces the requirement that subclasses provide their own implementations.\n",
    "\n",
    "Preventing Direct Instantiation: Abstract base classes cannot be instantiated themselves. They serve as a blueprint for related classes and are meant to be subclassed. Attempting to create an instance of an abstract base class will result in a TypeError. This prevents direct instantiation and enforces the use of concrete subclasses.\n",
    "\n",
    "Polymorphism and Interchangeability: By defining a common interface through abstract methods, you enable polymorphism. Objects of different concrete subclasses can be used interchangeably when they adhere to the same interface. This allows for code that works with the abstract base class to also work with any of its concrete subclasses.\n",
    "\n"
   ]
  },
  {
   "cell_type": "code",
   "execution_count": 213,
   "id": "01b83fbc-75d3-47d3-bae6-540f896eca76",
   "metadata": {},
   "outputs": [
    {
     "name": "stdout",
     "output_type": "stream",
     "text": [
      "Circle Area: 78.5\n",
      "Rectangle Area: 24\n"
     ]
    }
   ],
   "source": [
    "from abc import ABC, abstractmethod\n",
    "\n",
    "class Shape(ABC):\n",
    "    @abstractmethod\n",
    "    def area(self):\n",
    "        pass\n",
    "\n",
    "class Circle(Shape):\n",
    "    def __init__(self, radius):\n",
    "        self.radius = radius\n",
    "\n",
    "    def area(self):\n",
    "        return 3.14 * self.radius * self.radius\n",
    "\n",
    "class Rectangle(Shape):\n",
    "    def __init__(self, width, height):\n",
    "        self.width = width\n",
    "        self.height = height\n",
    "\n",
    "    def area(self):\n",
    "        return self.width * self.height\n",
    "\n",
    "# Creating instances of concrete subclasses\n",
    "circle = Circle(5)\n",
    "rectangle = Rectangle(4, 6)\n",
    "\n",
    "# Using the common interface to calculate areas\n",
    "print(f\"Circle Area: {circle.area()}\")\n",
    "print(f\"Rectangle Area: {rectangle.area()}\")\n"
   ]
  },
  {
   "cell_type": "code",
   "execution_count": null,
   "id": "89f673b1-88d2-4f3f-a550-5fce509e2554",
   "metadata": {},
   "outputs": [],
   "source": []
  },
  {
   "cell_type": "code",
   "execution_count": 214,
   "id": "37bd9049-2cfb-46dc-addf-4cb78d63136b",
   "metadata": {},
   "outputs": [],
   "source": [
    "#11. Create a Python class for a vehicle system and demonstrate abstraction by defining common methods (e.g., `start()`, `stop()`) in an abstract base class."
   ]
  },
  {
   "cell_type": "code",
   "execution_count": 215,
   "id": "04eea447-5200-4ada-8ad4-40012bf69a2d",
   "metadata": {},
   "outputs": [
    {
     "name": "stdout",
     "output_type": "stream",
     "text": [
      "Toyota Camry starts the engine\n",
      "Toyota Camry stops the engine\n",
      "Schwinn Cruiser starts pedaling\n",
      "Schwinn Cruiser stops pedaling\n",
      "Boston Whaler Outrage starts the engine and sets sail\n",
      "Boston Whaler Outrage stops the engine and anchors\n"
     ]
    }
   ],
   "source": [
    "from abc import ABC, abstractmethod\n",
    "\n",
    "class Vehicle(ABC):\n",
    "    def __init__(self, brand, model):\n",
    "        self.brand = brand\n",
    "        self.model = model\n",
    "\n",
    "    @abstractmethod\n",
    "    def start(self):\n",
    "        pass\n",
    "\n",
    "    @abstractmethod\n",
    "    def stop(self):\n",
    "        pass\n",
    "\n",
    "class Car(Vehicle):\n",
    "    def start(self):\n",
    "        return f\"{self.brand} {self.model} starts the engine\"\n",
    "\n",
    "    def stop(self):\n",
    "        return f\"{self.brand} {self.model} stops the engine\"\n",
    "\n",
    "class Bicycle(Vehicle):\n",
    "    def start(self):\n",
    "        return f\"{self.brand} {self.model} starts pedaling\"\n",
    "\n",
    "    def stop(self):\n",
    "        return f\"{self.brand} {self.model} stops pedaling\"\n",
    "\n",
    "class Boat(Vehicle):\n",
    "    def start(self):\n",
    "        return f\"{self.brand} {self.model} starts the engine and sets sail\"\n",
    "\n",
    "    def stop(self):\n",
    "        return f\"{self.brand} {self.model} stops the engine and anchors\"\n",
    "\n",
    "# Create instances of vehicle subclasses\n",
    "car = Car(\"Toyota\", \"Camry\")\n",
    "bicycle = Bicycle(\"Schwinn\", \"Cruiser\")\n",
    "boat = Boat(\"Boston Whaler\", \"Outrage\")\n",
    "\n",
    "# Call common methods for vehicles\n",
    "print(car.start())\n",
    "print(car.stop())\n",
    "\n",
    "print(bicycle.start())\n",
    "print(bicycle.stop())\n",
    "\n",
    "print(boat.start())\n",
    "print(boat.stop())\n"
   ]
  },
  {
   "cell_type": "code",
   "execution_count": null,
   "id": "a79d0dd5-43b1-49c5-9770-0cc113990950",
   "metadata": {},
   "outputs": [],
   "source": []
  },
  {
   "cell_type": "code",
   "execution_count": 216,
   "id": "0255a9f1-51aa-43a8-aabe-c917a40b9ecd",
   "metadata": {},
   "outputs": [],
   "source": [
    "#12. Describe the use of abstract properties in Python and how they can be employed in abstract classes."
   ]
  },
  {
   "cell_type": "markdown",
   "id": "ec55b78a-8b70-4451-b020-c7e075a140dd",
   "metadata": {},
   "source": [
    "Abstract properties in Python are used to enforce the presence of specific attributes in classes that inherit from an abstract base class. Just like abstract methods, abstract properties are declared in abstract base classes, and concrete subclasses must provide concrete implementations for these properties. Abstract properties are defined using the @property decorator for getters and @<property>.setter for setters.\n",
    "\n",
    "Here's how abstract properties can be used in abstract classes:\n",
    "\n",
    "Declaring Abstract Properties: Abstract properties are declared within an abstract base class using the @property decorator for getters and @<property>.setter for setters. These properties are not provided with an implementation but serve as placeholders for the property's name and the methods to get and set its value.\n",
    "\n",
    "Forcing Concrete Implementations: Concrete subclasses must provide concrete implementations for these abstract properties. They must define methods for both getting and setting the property's value.\n",
    "\n",
    "Polymorphism and Consistency: Abstract properties ensure that all concrete subclasses adhere to a common attribute structure. This promotes consistency and polymorphism, allowing code to work with different concrete subclasses without worrying about the specific implementation details.\n",
    "\n"
   ]
  },
  {
   "cell_type": "code",
   "execution_count": 217,
   "id": "dbf2d110-3158-4e01-a276-92984294dfb8",
   "metadata": {},
   "outputs": [
    {
     "name": "stdout",
     "output_type": "stream",
     "text": [
      "Circle Area: 78.5\n",
      "Rectangle Area: 24\n"
     ]
    }
   ],
   "source": [
    "from abc import ABC, abstractmethod, abstractproperty\n",
    "\n",
    "class Shape(ABC):\n",
    "    @abstractproperty\n",
    "    def area(self):\n",
    "        pass\n",
    "\n",
    "class Circle(Shape):\n",
    "    def __init__(self, radius):\n",
    "        self.radius = radius\n",
    "\n",
    "    @property\n",
    "    def area(self):\n",
    "        return 3.14 * self.radius * self.radius\n",
    "\n",
    "class Rectangle(Shape):\n",
    "    def __init__(self, width, height):\n",
    "        self.width = width\n",
    "        self.height = height\n",
    "\n",
    "    @property\n",
    "    def area(self):\n",
    "        return self.width * self.height\n",
    "\n",
    "# Creating instances of concrete subclasses\n",
    "circle = Circle(5)\n",
    "rectangle = Rectangle(4, 6)\n",
    "\n",
    "# Accessing the common abstract property\n",
    "print(f\"Circle Area: {circle.area}\")\n",
    "print(f\"Rectangle Area: {rectangle.area}\")\n"
   ]
  },
  {
   "cell_type": "code",
   "execution_count": null,
   "id": "356d5cc6-bba2-42a9-9227-9270e2bc63e7",
   "metadata": {},
   "outputs": [],
   "source": []
  },
  {
   "cell_type": "code",
   "execution_count": 218,
   "id": "30f9c2c9-9d19-49b8-b601-14eadec2e110",
   "metadata": {},
   "outputs": [],
   "source": [
    "#13. Create a Python class hierarchy for employees in a company (e.g., manager, developer, designer) and implement abstraction by defining a common `get_salary()` method."
   ]
  },
  {
   "cell_type": "code",
   "execution_count": 219,
   "id": "09b2998f-ed0f-4950-9291-9e0008d2260c",
   "metadata": {},
   "outputs": [
    {
     "name": "stdout",
     "output_type": "stream",
     "text": [
      "Alice's Salary: $70000\n",
      "Bob's Salary: $8000\n",
      "Charlie's Salary: $5000\n"
     ]
    }
   ],
   "source": [
    "from abc import ABC, abstractmethod\n",
    "\n",
    "class Employee(ABC):\n",
    "    def __init__(self, name, employee_id):\n",
    "        self.name = name\n",
    "        self.employee_id = employee_id\n",
    "\n",
    "    @abstractmethod\n",
    "    def get_salary(self):\n",
    "        pass\n",
    "\n",
    "class Manager(Employee):\n",
    "    def __init__(self, name, employee_id, base_salary, bonus):\n",
    "        super().__init__(name, employee_id)\n",
    "        self.base_salary = base_salary\n",
    "        self.bonus = bonus\n",
    "\n",
    "    def get_salary(self):\n",
    "        return self.base_salary + self.bonus\n",
    "\n",
    "class Developer(Employee):\n",
    "    def __init__(self, name, employee_id, hourly_rate, hours_worked):\n",
    "        super().__init__(name, employee_id)\n",
    "        self.hourly_rate = hourly_rate\n",
    "        self.hours_worked = hours_worked\n",
    "\n",
    "    def get_salary(self):\n",
    "        return self.hourly_rate * self.hours_worked\n",
    "\n",
    "class Designer(Employee):\n",
    "    def __init__(self, name, employee_id, monthly_salary):\n",
    "        super().__init__(name, employee_id)\n",
    "        self.monthly_salary = monthly_salary\n",
    "\n",
    "    def get_salary(self):\n",
    "        return self.monthly_salary\n",
    "\n",
    "# Creating instances of employee subclasses\n",
    "manager = Manager(\"Alice\", 101, 60000, 10000)\n",
    "developer = Developer(\"Bob\", 102, 50, 160)\n",
    "designer = Designer(\"Charlie\", 103, 5000)\n",
    "\n",
    "# Accessing the common method to get salaries\n",
    "print(f\"{manager.name}'s Salary: ${manager.get_salary()}\")\n",
    "print(f\"{developer.name}'s Salary: ${developer.get_salary()}\")\n",
    "print(f\"{designer.name}'s Salary: ${designer.get_salary()}\")\n"
   ]
  },
  {
   "cell_type": "code",
   "execution_count": null,
   "id": "031f7342-8b99-41ff-9e8c-b9b5c3354f96",
   "metadata": {},
   "outputs": [],
   "source": []
  },
  {
   "cell_type": "code",
   "execution_count": 220,
   "id": "fdea5140-0913-4bd3-a500-a44ab5b26559",
   "metadata": {},
   "outputs": [],
   "source": [
    "#14. Discuss the differences between abstract classes and concrete classes in Python, including their instantiation."
   ]
  },
  {
   "cell_type": "markdown",
   "id": "b1806c5e-7265-4894-9077-e2c879222b1d",
   "metadata": {},
   "source": [
    "Abstract Classes:\n",
    "\n",
    "Role: Abstract classes are meant to be used as a blueprint for other classes. They define a common interface, which may include abstract methods and properties, that concrete subclasses must implement.\n",
    "Instantiation: Abstract classes cannot be instantiated directly. Attempting to create an instance of an abstract class will result in a TypeError. They exist to provide a structure for other classes to inherit from."
   ]
  },
  {
   "cell_type": "code",
   "execution_count": 221,
   "id": "43a6e407-50cc-4bcc-a8b6-a59b6c4b1677",
   "metadata": {},
   "outputs": [
    {
     "ename": "TypeError",
     "evalue": "Can't instantiate abstract class MyAbstractClass with abstract method my_method",
     "output_type": "error",
     "traceback": [
      "\u001b[0;31m---------------------------------------------------------------------------\u001b[0m",
      "\u001b[0;31mTypeError\u001b[0m                                 Traceback (most recent call last)",
      "Cell \u001b[0;32mIn[221], line 9\u001b[0m\n\u001b[1;32m      6\u001b[0m         \u001b[38;5;28;01mpass\u001b[39;00m\n\u001b[1;32m      8\u001b[0m \u001b[38;5;66;03m# This will raise a TypeError\u001b[39;00m\n\u001b[0;32m----> 9\u001b[0m my_instance \u001b[38;5;241m=\u001b[39m \u001b[43mMyAbstractClass\u001b[49m\u001b[43m(\u001b[49m\u001b[43m)\u001b[49m\n",
      "\u001b[0;31mTypeError\u001b[0m: Can't instantiate abstract class MyAbstractClass with abstract method my_method"
     ]
    }
   ],
   "source": [
    "from abc import ABC, abstractmethod\n",
    "\n",
    "class MyAbstractClass(ABC):\n",
    "    @abstractmethod\n",
    "    def my_method(self):\n",
    "        pass\n",
    "\n",
    "# This will raise a TypeError\n",
    "my_instance = MyAbstractClass()\n"
   ]
  },
  {
   "cell_type": "code",
   "execution_count": null,
   "id": "c594bffa-4aa7-42e5-a9eb-27e9733f8e8b",
   "metadata": {},
   "outputs": [],
   "source": []
  },
  {
   "cell_type": "markdown",
   "id": "df565bdb-a705-4b3e-a3b9-bfd8a7ceac38",
   "metadata": {},
   "source": [
    "Concrete Classes:\n",
    "\n",
    "Role: Concrete classes are regular classes that provide complete implementations for methods and attributes. They can be instantiated directly and used to create objects.\n",
    "Instantiation: Concrete classes can be instantiated, and objects can be created from them. They provide full implementations for all methods and properties."
   ]
  },
  {
   "cell_type": "code",
   "execution_count": 222,
   "id": "d4ca68be-f404-4d27-867b-ce57e8e360c0",
   "metadata": {},
   "outputs": [],
   "source": [
    "class MyConcreteClass:\n",
    "    def my_method(self):\n",
    "        return \"This is a concrete method\"\n",
    "\n",
    "# Creating an instance of a concrete class\n",
    "my_instance = MyConcreteClass()\n",
    "result = my_instance.my_method()\n"
   ]
  },
  {
   "cell_type": "markdown",
   "id": "231a7c4c-2bb6-47e5-98f1-33bc7feb43e8",
   "metadata": {},
   "source": [
    "Inheritance:\n",
    "\n",
    "Abstract Classes: Abstract classes are often used as parent classes to define a common structure that multiple concrete subclasses should adhere to. Concrete subclasses inherit from abstract classes to provide their own implementations.\n",
    "\n",
    "Concrete Classes: Concrete classes can inherit from other classes, both abstract and concrete. They can extend or override methods and attributes as needed.\n",
    "\n",
    "Usage:\n",
    "\n",
    "Abstract Classes: Abstract classes are used to enforce a common structure or interface among related classes. They provide guidelines for how concrete subclasses should be designed.\n",
    "\n",
    "Concrete Classes: Concrete classes are used to create objects and provide complete functionality. They represent real-world entities or specific behaviors."
   ]
  },
  {
   "cell_type": "code",
   "execution_count": null,
   "id": "28c9d173-4e17-413c-8b79-d7df68c15b6a",
   "metadata": {},
   "outputs": [],
   "source": []
  },
  {
   "cell_type": "code",
   "execution_count": 223,
   "id": "c4f3c3a4-f374-4bf7-b75c-2bbb219b9ce4",
   "metadata": {},
   "outputs": [],
   "source": [
    "#15. Explain the concept of abstract data types (ADTs) and their role in achieving abstraction in Python."
   ]
  },
  {
   "cell_type": "markdown",
   "id": "264ba3e6-db57-447c-9fd7-0088b4abe778",
   "metadata": {},
   "source": [
    "Abstract Data Types (ADTs) are a concept in computer science and programming that provide a high-level description of data and operations on that data. They abstract away the underlying implementation details and focus on defining the data's behavior and the set of operations that can be performed on it. ADTs are essential for achieving abstraction in Python and other programming languages.\n",
    "\n",
    "Here's how ADTs contribute to achieving abstraction in Python:\n",
    "\n",
    "Data Abstraction: ADTs define a high-level, abstract view of data, which hides the specific details of how the data is stored and manipulated. This level of abstraction allows programmers to work with data without needing to know the underlying implementation. In Python, data abstraction is achieved through the use of classes.\n",
    "\n",
    "Encapsulation: ADTs encapsulate data and operations into a single unit, typically represented by a class in Python. This encapsulation hides the internal data and operations from the outside world, ensuring that data remains well-organized and safe from unintended manipulation.\n",
    "\n",
    "Abstraction of Operations: ADTs define a set of operations (methods) that can be performed on the data. These operations are part of the ADT's interface and are made available to users of the ADT. Users can interact with the data using these operations without needing to understand how they are implemented.\n",
    "\n",
    "Reusability: ADTs promote code reusability. Once an ADT is defined, it can be used across different parts of an application or in different applications altogether. This allows developers to write code more efficiently and maintain a high level of consistency.\n",
    "\n",
    "Polymorphism: ADTs provide a way to achieve polymorphism, which allows objects of different ADT types to be used interchangeably when they adhere to the same interface. This makes code more flexible and adaptable to a variety of data types.\n",
    "\n",
    "Modularity: ADTs encourage the modular design of software. By representing data and operations in discrete, self-contained units (classes), code can be organized into manageable modules that are easier to understand, maintain, and extend.\n",
    "\n",
    "Separation of Concerns: ADTs help separate the concerns of data and behavior. This separation promotes a clear distinction between what the data represents and how it can be manipulated, leading to cleaner and more maintainable code.\n",
    "\n",
    "In Python, ADTs are typically implemented using classes. For example, a Python class can represent an abstract data type like a stack, queue, or linked list, and the methods of the class define the operations that can be performed on the data. Users of the class interact with the data through these methods, without needing to know the internal details of how the data is managed.\n",
    "\n",
    "Overall, ADTs are a fundamental concept in achieving abstraction, modularity, and maintainability in Python and other programming languages. They enable developers to work with high-level data structures and operations, hiding implementation details and promoting code reusability and maintainability.\n",
    "\n",
    "\n",
    "\n",
    "\n"
   ]
  },
  {
   "cell_type": "code",
   "execution_count": null,
   "id": "927b99f4-d0f6-4f36-b1a8-85cfb301b2e9",
   "metadata": {},
   "outputs": [],
   "source": []
  },
  {
   "cell_type": "code",
   "execution_count": 224,
   "id": "2ba1e8b1-f4dd-43ff-8232-6c24d77a55f0",
   "metadata": {},
   "outputs": [],
   "source": [
    "#16. Create a Python class for a computer system, demonstrating abstraction by defining common methods (e.g., `power_on()`, `shutdown()`) in an abstract base class."
   ]
  },
  {
   "cell_type": "code",
   "execution_count": 225,
   "id": "2619f43b-75c5-459a-a087-cb27399af076",
   "metadata": {},
   "outputs": [
    {
     "name": "stdout",
     "output_type": "stream",
     "text": [
      "Dell OptiPlex desktop is powered on\n",
      "Dell OptiPlex desktop is shut down\n",
      "HP Pavilion laptop is powered on\n",
      "HP Pavilion laptop is shut down\n"
     ]
    }
   ],
   "source": [
    "from abc import ABC, abstractmethod\n",
    "\n",
    "class ComputerSystem(ABC):\n",
    "    def __init__(self, brand, model):\n",
    "        self.brand = brand\n",
    "        self.model = model\n",
    "        self.powered_on = False\n",
    "\n",
    "    @abstractmethod\n",
    "    def power_on(self):\n",
    "        pass\n",
    "\n",
    "    @abstractmethod\n",
    "    def shutdown(self):\n",
    "        pass\n",
    "\n",
    "class Desktop(ComputerSystem):\n",
    "    def power_on(self):\n",
    "        self.powered_on = True\n",
    "        return f\"{self.brand} {self.model} desktop is powered on\"\n",
    "\n",
    "    def shutdown(self):\n",
    "        self.powered_on = False\n",
    "        return f\"{self.brand} {self.model} desktop is shut down\"\n",
    "\n",
    "class Laptop(ComputerSystem):\n",
    "    def power_on(self):\n",
    "        self.powered_on = True\n",
    "        return f\"{self.brand} {self.model} laptop is powered on\"\n",
    "\n",
    "    def shutdown(self):\n",
    "        self.powered_on = False\n",
    "        return f\"{self.brand} {self.model} laptop is shut down\"\n",
    "\n",
    "# Creating instances of computer systems\n",
    "desktop = Desktop(\"Dell\", \"OptiPlex\")\n",
    "laptop = Laptop(\"HP\", \"Pavilion\")\n",
    "\n",
    "# Using common methods to power on and shut down\n",
    "print(desktop.power_on())\n",
    "print(desktop.shutdown())\n",
    "\n",
    "print(laptop.power_on())\n",
    "print(laptop.shutdown())\n"
   ]
  },
  {
   "cell_type": "code",
   "execution_count": null,
   "id": "a38aed92-7abf-44a1-b844-5450a4452e29",
   "metadata": {},
   "outputs": [],
   "source": []
  },
  {
   "cell_type": "code",
   "execution_count": 226,
   "id": "b02320ad-0f4f-4104-a5c5-34b1af3cd430",
   "metadata": {},
   "outputs": [],
   "source": [
    "#17. Discuss the benefits of using abstraction in large-scale software development projects."
   ]
  },
  {
   "cell_type": "markdown",
   "id": "42811120-276a-4018-9288-572d1ae21e83",
   "metadata": {},
   "source": [
    "Abstraction is a fundamental concept in software development, and it offers several benefits, particularly in large-scale software development projects:\n",
    "\n",
    "Complexity Management: Abstraction allows developers to hide the internal complexity of components, modules, or systems. Large-scale projects often involve numerous interconnected parts. By abstracting away unnecessary details, developers can focus on higher-level logic and system architecture, making the codebase more manageable.\n",
    "\n",
    "Modularity: Abstraction promotes modularity, breaking down a large system into smaller, self-contained components. Each component can be developed, tested, and maintained independently. This modular design enhances code reusability, making it easier to adapt and extend the software over time.\n",
    "\n",
    "Code Reusability: Abstraction encourages the creation of reusable components or libraries. When well-abstracted, components can be used in various parts of the software project or in different projects altogether. This reduces redundancy, saves development time, and ensures consistency.\n",
    "\n",
    "Simplicity: Abstraction simplifies the interaction with complex systems by exposing only the essential features and functions. Developers and users of the system don't need to understand the inner workings of every component. This simplicity improves usability and reduces the learning curve for new team members.\n",
    "\n",
    "Maintenance and Debugging: In large-scale projects, maintaining and debugging code can be challenging. Abstraction helps by isolating problems within specific components. This isolation makes it easier to identify and address issues without affecting the entire system. Additionally, it facilitates unit testing and debugging at a more granular level.\n",
    "\n",
    "Scalability: Abstraction supports scalability. As project requirements evolve and the system needs to accommodate more features or data, abstraction allows for the addition of new components or the extension of existing ones without requiring a complete overhaul of the entire system.\n",
    "\n",
    "Collaboration: In large development teams, abstraction establishes a common language and structure for code. Team members can work on different parts of the project simultaneously, following the same high-level design principles and interfaces. This enables smoother collaboration and reduces the likelihood of conflicts.\n",
    "\n",
    "Security: Abstraction can enhance security by limiting access to sensitive information or system internals. It allows security measures to be concentrated at abstraction boundaries, protecting the core functionality from unauthorized access.\n",
    "\n",
    "Future-Proofing: Abstraction helps future-proof software by enabling easy adaptation to changing requirements and technology. When new features, APIs, or technologies emerge, abstracted components can be updated or replaced without major disruptions to the entire system.\n",
    "\n",
    "Documentation: Well-abstracted code serves as effective documentation. It offers a high-level view of the system's architecture and relationships, making it easier for developers to understand and work with the codebase. This aids in knowledge transfer and onboarding of new team members.\n",
    "\n",
    "In large-scale software development projects, abstraction is crucial for managing complexity, ensuring maintainability, and facilitating collaboration among development teams. By providing a structured, high-level view of the system, abstraction makes it possible to break down a large project into manageable components, ultimately leading to a more efficient and successful development process.\n"
   ]
  },
  {
   "cell_type": "code",
   "execution_count": null,
   "id": "446482e5-7cab-4780-9211-bf0645a00dea",
   "metadata": {},
   "outputs": [],
   "source": []
  },
  {
   "cell_type": "code",
   "execution_count": 227,
   "id": "d664cc7a-9899-4ddd-94f4-1da7c5babae0",
   "metadata": {},
   "outputs": [],
   "source": [
    "#18. Explain how abstraction enhances code reusability and modularity in Python programs."
   ]
  },
  {
   "cell_type": "markdown",
   "id": "727bc582-eb30-4815-9479-1642b0eccb3e",
   "metadata": {},
   "source": [
    "Abstraction plays a significant role in enhancing code reusability and modularity in Python programs. Let's explore how abstraction achieves these goals:\n",
    "\n",
    "Modularity:\n",
    "\n",
    "Component Isolation: Abstraction encourages the division of code into modular components or classes, each responsible for a specific part of the program's functionality. These modules encapsulate related operations, data, and behavior, making it easier to reason about and work with individual components.\n",
    "\n",
    "Loose Coupling: Abstraction fosters loose coupling between modules. Each module exposes a well-defined interface (abstract methods or functions) that other modules can interact with. This reduces interdependencies between modules, allowing changes in one module to have minimal impact on others.\n",
    "\n",
    "Independent Development: Modular code is easier to develop and maintain. Developers can work on individual modules without affecting the rest of the system. This supports parallel development and simplifies testing, as each module can be tested independently.\n",
    "\n",
    "Code Reusability: Modular code is highly reusable. Well-abstracted modules can be used in different parts of the program or even in other projects. This reusability saves development time and ensures consistency when similar functionality is needed in different contexts.\n",
    "\n",
    "Code Reusability:\n",
    "\n",
    "Library Creation: Abstraction enables the creation of reusable libraries or frameworks. These libraries can encapsulate common functionality, such as data manipulation, file handling, or network communication, in a way that can be easily incorporated into various projects.\n",
    "\n",
    "Inheritance and Interfaces: In object-oriented programming, abstraction allows for the definition of abstract classes or interfaces that specify a common set of methods. Concrete classes can then inherit from these abstract classes or implement the interfaces, ensuring that they adhere to a standard contract. This promotes code reusability and polymorphism.\n",
    "\n",
    "Function Libraries: In Python, functions are excellent candidates for abstraction and reusability. By defining well-abstracted functions, developers can create utility libraries that can be imported and used in multiple scripts or applications.\n",
    "\n",
    "Maintainability:\n",
    "\n",
    "Code Understandability: Abstraction makes code more understandable. By encapsulating details and exposing only relevant information, it provides a high-level view of a module's purpose and usage. This clarity simplifies maintenance and debugging.\n",
    "\n",
    "Change Isolation: When changes or updates are required, abstracted modules or classes can be modified independently. This isolation limits the scope of changes and minimizes the risk of unintended side effects in other parts of the program.\n",
    "\n",
    "Testing and Debugging: Modular, abstracted code is easier to test and debug. Individual components can be tested in isolation, and issues can be identified and resolved more efficiently within the specific module where they occur.\n",
    "\n",
    "Scalability:\n",
    "\n",
    "Extensibility: Abstraction facilitates the addition of new features or functionality without extensive modifications to existing code. New modules or classes can be added and integrated into the program with minimal disruption.\n",
    "\n",
    "Integration of Third-Party Code: Modular and abstracted code can easily integrate with third-party libraries and APIs, allowing developers to leverage external solutions without tightly coupling them to the core of the program.\n",
    "\n",
    "In Python, the use of abstraction, whether through classes, functions, or abstract base classes, encourages developers to structure code in a way that promotes modularity, code reusability, and maintainability. This not only simplifies the development process but also supports the long-term evolution and scalability of Python programs."
   ]
  },
  {
   "cell_type": "code",
   "execution_count": null,
   "id": "59736382-f038-4d0d-83eb-696f511d73f5",
   "metadata": {},
   "outputs": [],
   "source": []
  },
  {
   "cell_type": "code",
   "execution_count": 228,
   "id": "faa3dc7a-6a70-4345-8e24-dd64a4b45d01",
   "metadata": {},
   "outputs": [],
   "source": [
    "#19. Create a Python class for a library system, implementing abstraction by defining common methods (e.g., `add_book()`, `borrow_book()`) in an abstract base class."
   ]
  },
  {
   "cell_type": "code",
   "execution_count": 229,
   "id": "749ade1c-b5dd-49e4-8cfb-750403a7d931",
   "metadata": {},
   "outputs": [
    {
     "name": "stdout",
     "output_type": "stream",
     "text": [
      "Added 'To Kill a Mockingbird' by Harper Lee to Public Library\n",
      "Added 'Introduction to Computer Science' by John Smith to University Library\n",
      "'To Kill a Mockingbird' borrowed by Alice from Public Library\n",
      "'Introduction to Computer Science' (2 copies) borrowed by Bob from University Library\n",
      "'To Kill a Mockingbird' returned to Public Library\n",
      "'Introduction to Computer Science' (1 copies) returned to University Library\n"
     ]
    }
   ],
   "source": [
    "from abc import ABC, abstractmethod\n",
    "\n",
    "class LibrarySystem(ABC):\n",
    "    def __init__(self, name):\n",
    "        self.name = name\n",
    "        self.books = {}\n",
    "\n",
    "    @abstractmethod\n",
    "    def add_book(self, book_title, author):\n",
    "        pass\n",
    "\n",
    "    @abstractmethod\n",
    "    def borrow_book(self, book_title, user):\n",
    "        pass\n",
    "\n",
    "    @abstractmethod\n",
    "    def return_book(self, book_title):\n",
    "        pass\n",
    "\n",
    "class PublicLibrary(LibrarySystem):\n",
    "    def add_book(self, book_title, author):\n",
    "        if book_title in self.books:\n",
    "            self.books[book_title][\"copies\"] += 1\n",
    "        else:\n",
    "            self.books[book_title] = {\"author\": author, \"copies\": 1}\n",
    "        return f\"Added '{book_title}' by {author} to {self.name}\"\n",
    "\n",
    "    def borrow_book(self, book_title, user):\n",
    "        if book_title in self.books and self.books[book_title][\"copies\"] > 0:\n",
    "            self.books[book_title][\"copies\"] -= 1\n",
    "            return f\"'{book_title}' borrowed by {user} from {self.name}\"\n",
    "        else:\n",
    "            return f\"'{book_title}' is not available in {self.name}.\"\n",
    "\n",
    "    def return_book(self, book_title):\n",
    "        if book_title in self.books:\n",
    "            self.books[book_title][\"copies\"] += 1\n",
    "            return f\"'{book_title}' returned to {self.name}\"\n",
    "\n",
    "class UniversityLibrary(LibrarySystem):\n",
    "    def add_book(self, book_title, author, copies):\n",
    "        if book_title in self.books:\n",
    "            self.books[book_title][\"copies\"] += copies\n",
    "        else:\n",
    "            self.books[book_title] = {\"author\": author, \"copies\": copies}\n",
    "        return f\"Added '{book_title}' by {author} to {self.name}\"\n",
    "\n",
    "    def borrow_book(self, book_title, user, copies=1):\n",
    "        if book_title in self.books and self.books[book_title][\"copies\"] >= copies:\n",
    "            self.books[book_title][\"copies\"] -= copies\n",
    "            return f\"'{book_title}' ({copies} copies) borrowed by {user} from {self.name}\"\n",
    "        else:\n",
    "            return f\"'{book_title}' is not available in sufficient quantity in {self.name}.\"\n",
    "\n",
    "    def return_book(self, book_title, copies=1):\n",
    "        if book_title in self.books and copies > 0:\n",
    "            self.books[book_title][\"copies\"] += copies\n",
    "            return f\"'{book_title}' ({copies} copies) returned to {self.name}\"\n",
    "\n",
    "# Creating instances of library systems\n",
    "public_library = PublicLibrary(\"Public Library\")\n",
    "university_library = UniversityLibrary(\"University Library\")\n",
    "\n",
    "# Using common methods to interact with the library systems\n",
    "print(public_library.add_book(\"To Kill a Mockingbird\", \"Harper Lee\"))\n",
    "print(university_library.add_book(\"Introduction to Computer Science\", \"John Smith\", copies=5))\n",
    "\n",
    "print(public_library.borrow_book(\"To Kill a Mockingbird\", \"Alice\"))\n",
    "print(university_library.borrow_book(\"Introduction to Computer Science\", \"Bob\", copies=2))\n",
    "\n",
    "print(public_library.return_book(\"To Kill a Mockingbird\"))\n",
    "print(university_library.return_book(\"Introduction to Computer Science\", copies=1))\n"
   ]
  },
  {
   "cell_type": "code",
   "execution_count": null,
   "id": "a3137482-bec7-4d39-95a0-83719fa574b9",
   "metadata": {},
   "outputs": [],
   "source": []
  },
  {
   "cell_type": "code",
   "execution_count": 230,
   "id": "94c23d6a-9fc2-46da-9154-602e4a275019",
   "metadata": {},
   "outputs": [],
   "source": [
    "#20. Describe the concept of method abstraction in Python and how it relates to polymorphism."
   ]
  },
  {
   "cell_type": "markdown",
   "id": "27f1fccd-e11a-441f-9a70-5b785c19f042",
   "metadata": {},
   "source": [
    "Method abstraction in Python refers to the process of defining methods in a way that focuses on what the method does (its purpose or behavior) rather than the specific implementation details. It is closely related to the concept of polymorphism, which allows objects of different classes to be treated as objects of a common base class. Method abstraction promotes code flexibility, reusability, and polymorphism by separating the method's interface (what it does) from its internal implementation.\n",
    "\n",
    "Here's how method abstraction in Python relates to polymorphism:\n",
    "\n",
    "Polymorphism and Abstraction:\n",
    "\n",
    "Polymorphism is the ability of different classes to be treated as instances of a common base class. In Python, this is achieved through method abstraction.\n",
    "Abstract methods define the common interface that concrete classes must adhere to. They specify what methods should do without providing the implementation.\n",
    "Concrete classes that inherit from the abstract base class must implement these abstract methods. This ensures that they provide their own unique behavior while conforming to the common method names and signatures defined in the abstract base class.\n",
    "Method Signatures:\n",
    "\n",
    "In method abstraction, the method signature (name, parameters, and return type) is specified in the abstract base class without providing the implementation details.\n",
    "Concrete subclasses are free to implement these methods in their own way, as long as they maintain the same method signature.\n",
    "This allows different subclasses to provide their unique behaviors for the same method name, facilitating polymorphic behavior.\n",
    "Polymorphic Behavior:\n",
    "\n",
    "By adhering to a common method signature defined in an abstract base class, concrete classes enable polymorphism. Objects of different subclasses can be treated uniformly, allowing the same method to be called on objects of varying types.\n",
    "The behavior of the method is determined by the specific subclass's implementation, ensuring that the appropriate code is executed for each object.\n",
    "Code Flexibility and Reusability:\n",
    "\n",
    "Method abstraction enhances code flexibility by providing a consistent interface for various objects.\n",
    "It promotes code reusability since abstract methods can be used in different subclasses, ensuring that common operations are carried out in a consistent manner.\n",
    "Run-Time Binding:\n",
    "\n",
    "Polymorphism in Python involves run-time binding, where the specific method to be executed is determined at runtime based on the object's actual type.\n",
    "This allows for dynamic dispatch of methods, meaning the correct method is invoked for the specific subclass of the object, contributing to the flexibility and polymorphism.\n",
    "\n"
   ]
  },
  {
   "cell_type": "code",
   "execution_count": null,
   "id": "99269477-1c95-4614-82ae-f6ffaa6c5ec6",
   "metadata": {},
   "outputs": [],
   "source": []
  },
  {
   "cell_type": "code",
   "execution_count": null,
   "id": "51a31834-1dc9-4748-a773-0e8bed7aaaed",
   "metadata": {},
   "outputs": [],
   "source": []
  },
  {
   "cell_type": "code",
   "execution_count": null,
   "id": "edd63ac8-777f-4c96-93b4-958403424670",
   "metadata": {},
   "outputs": [],
   "source": []
  },
  {
   "cell_type": "markdown",
   "id": "0593c9fe-e41d-4cd9-aff7-a693c699ab2c",
   "metadata": {},
   "source": [
    "Composition:"
   ]
  },
  {
   "cell_type": "code",
   "execution_count": null,
   "id": "7382a8e1-51de-40d0-97fc-efd667e9a920",
   "metadata": {},
   "outputs": [],
   "source": []
  },
  {
   "cell_type": "code",
   "execution_count": 231,
   "id": "e1088fc9-1b26-48b6-88ac-b3b5386127ab",
   "metadata": {},
   "outputs": [],
   "source": [
    "#1. Explain the concept of composition in Python and how it is used to build complex objects from simpler ones."
   ]
  },
  {
   "cell_type": "markdown",
   "id": "febe0d8e-1c58-4b65-9b26-70a170a0d37e",
   "metadata": {},
   "source": [
    "Composition is a fundamental concept in Python and object-oriented programming in general. It involves constructing complex objects by combining or composing simpler objects as their components. This concept promotes code reusability, modularity, and the creation of more maintainable and flexible code. Composition is achieved by including instances of other classes within a class, forming a \"has-a\" relationship, as opposed to inheritance, which establishes an \"is-a\" relationship.\n",
    "\n",
    "Here's how composition works in Python:\n",
    "\n",
    "Defining Classes:\n",
    "\n",
    "In composition, you start by defining multiple classes, each responsible for a specific aspect or component of an object. These classes can be thought of as building blocks or components.\n",
    "Including Components:\n",
    "\n",
    "In the main class, which represents the complex object, you include instances of the simpler classes as attributes. These instances represent the components that make up the complex object.\n",
    "Delegation:\n",
    "\n",
    "When you want to perform an action or access a feature of the complex object, you delegate the task to its components. This involves calling methods or accessing attributes of the component instances.\n",
    "Flexibility:\n",
    "\n",
    "Composition allows you to mix and match components to build different complex objects. You can change the composition of objects at runtime, creating new combinations without modifying the existing classes.\n",
    "Modularity and Reusability:\n",
    "\n",
    "Components are designed to be modular and reusable. They can be used in multiple complex objects or projects, reducing code duplication and making it easier to manage and maintain the codebase.\n",
    "Encapsulation:\n",
    "\n",
    "Composition promotes encapsulation, as each component class can encapsulate its own functionality, data, and behavior. This encapsulation helps keep the code organized and prevents unintended interactions between components."
   ]
  },
  {
   "cell_type": "code",
   "execution_count": 232,
   "id": "2859615c-0fbd-4637-a3e3-78224dd87d1c",
   "metadata": {},
   "outputs": [
    {
     "name": "stdout",
     "output_type": "stream",
     "text": [
      "Engine started\n",
      "Wheels are rotating\n",
      "Car is moving\n"
     ]
    }
   ],
   "source": [
    "class Engine:\n",
    "    def start(self):\n",
    "        print(\"Engine started\")\n",
    "\n",
    "class Wheels:\n",
    "    def rotate(self):\n",
    "        print(\"Wheels are rotating\")\n",
    "\n",
    "class Car:\n",
    "    def __init__(self):\n",
    "        # Composition: Including instances of Engine and Wheels\n",
    "        self.engine = Engine()\n",
    "        self.wheels = Wheels()\n",
    "\n",
    "    def drive(self):\n",
    "        self.engine.start()\n",
    "        self.wheels.rotate()\n",
    "        print(\"Car is moving\")\n",
    "\n",
    "# Creating a Car object through composition\n",
    "my_car = Car()\n",
    "\n",
    "# Using the Car object\n",
    "my_car.drive()\n"
   ]
  },
  {
   "cell_type": "code",
   "execution_count": null,
   "id": "c35f1a6f-fee0-42d1-b1f0-7507e7ae8403",
   "metadata": {},
   "outputs": [],
   "source": []
  },
  {
   "cell_type": "code",
   "execution_count": 233,
   "id": "10c2cd0a-2c45-4a2f-ad77-fd7cc010c9e4",
   "metadata": {},
   "outputs": [],
   "source": [
    "#2. Describe the difference between composition and inheritance in object-oriented programming."
   ]
  },
  {
   "cell_type": "markdown",
   "id": "6edc4400-5e5f-4a11-9511-b83cbfde54e2",
   "metadata": {},
   "source": [
    "Composition and inheritance are two fundamental concepts in object-oriented programming, and they are used to achieve code reuse and build complex relationships between classes. However, they have different approaches and serve different purposes. Here are the key differences between composition and inheritance:\n",
    "\n",
    "Relationship Type:\n",
    "\n",
    "Composition: Composition establishes a \"has-a\" relationship between classes. It means that a class contains instances of other classes as its components or attributes. The composed class is made up of smaller, more specialized classes.\n",
    "\n",
    "Inheritance: Inheritance establishes an \"is-a\" relationship between classes. It means that a class is derived from or extends another class, inheriting its attributes and methods. The inheriting class is a specialization or subtype of the base class.\n",
    "\n",
    "Code Reuse:\n",
    "\n",
    "Composition: Composition promotes code reuse by allowing you to reuse existing classes (components) in various contexts. You can combine and recombine components to build different complex objects.\n",
    "\n",
    "Inheritance: Inheritance also promotes code reuse, but it does so by inheriting the attributes and methods of a base class. Subclasses inherit the behavior of the base class and can add or override methods as needed.\n",
    "\n",
    "Flexibility:\n",
    "\n",
    "Composition: Composition offers greater flexibility because you can change the composition of an object at runtime. You can mix and match components to create different complex objects without altering existing classes.\n",
    "\n",
    "Inheritance: Inheritance provides a form of static flexibility. It defines the structure of a class hierarchy at compile-time. Changes to the inheritance structure may require modifying the class hierarchy, which can be less flexible than composition.\n",
    "\n",
    "Encapsulation:\n",
    "\n",
    "Composition: Composition inherently encourages encapsulation because each component class can encapsulate its own functionality and data. The composed class acts as a wrapper, preventing direct access to the component's internals.\n",
    "\n",
    "Inheritance: Inheritance can expose the internals of the base class to the subclass. Subclasses have access to the protected and public attributes and methods of the base class, potentially leading to less encapsulation.\n",
    "\n",
    "Complexity:\n",
    "\n",
    "Composition: Composition can result in more complex code, as you need to manage interactions between the composed components within the composed class.\n",
    "\n",
    "Inheritance: Inheritance can simplify code by inheriting and reusing the behavior of the base class. However, it can also lead to a deep and complex class hierarchy if not used judiciously.\n",
    "\n",
    "Use Cases:\n",
    "\n",
    "Composition: Use composition when you want to create complex objects by combining existing components. It's suitable for scenarios where objects have multiple parts or components that are not naturally hierarchical.\n",
    "\n",
    "Inheritance: Use inheritance when you want to define an \"is-a\" relationship and create a specialization of an existing class. It's appropriate when you have a clear hierarchical relationship and when a subclass is genuinely a subtype of the base class.\n",
    "\n"
   ]
  },
  {
   "cell_type": "code",
   "execution_count": null,
   "id": "05353d36-b6d5-47ec-99e1-0d2c9489906b",
   "metadata": {},
   "outputs": [],
   "source": []
  },
  {
   "cell_type": "code",
   "execution_count": 234,
   "id": "c5ab064f-a4b8-4153-a29c-d5c00c7feee1",
   "metadata": {},
   "outputs": [],
   "source": [
    "#3. Create a Python class called `Author` with attributes for name and birthdate. Then, create a `Book` class that contains an instance of `Author` as a composition. Provide an example of creating a `Book` object."
   ]
  },
  {
   "cell_type": "code",
   "execution_count": 235,
   "id": "45ece1f4-bfc2-4664-a410-49b3f90c15d9",
   "metadata": {},
   "outputs": [
    {
     "name": "stdout",
     "output_type": "stream",
     "text": [
      "Title: Harry Potter and the Sorcerer's Stone\n",
      "Author: J.K. Rowling\n",
      "Birthdate of Author: July 31, 1965\n",
      "Published Year: 1997\n"
     ]
    }
   ],
   "source": [
    "class Author:\n",
    "    def __init__(self, name, birthdate):\n",
    "        self.name = name\n",
    "        self.birthdate = birthdate\n",
    "\n",
    "class Book:\n",
    "    def __init__(self, title, author, published_year):\n",
    "        self.title = title\n",
    "        self.author = author  # Composition: Including an instance of Author\n",
    "        self.published_year = published_year\n",
    "\n",
    "    def display_info(self):\n",
    "        print(f\"Title: {self.title}\")\n",
    "        print(f\"Author: {self.author.name}\")\n",
    "        print(f\"Birthdate of Author: {self.author.birthdate}\")\n",
    "        print(f\"Published Year: {self.published_year}\")\n",
    "\n",
    "# Create an Author instance\n",
    "author1 = Author(\"J.K. Rowling\", \"July 31, 1965\")\n",
    "\n",
    "# Create a Book instance, composed of an Author\n",
    "book1 = Book(\"Harry Potter and the Sorcerer's Stone\", author1, 1997)\n",
    "\n",
    "# Display book information\n",
    "book1.display_info()\n"
   ]
  },
  {
   "cell_type": "code",
   "execution_count": null,
   "id": "db1e1f4e-4976-4b52-aeb0-e2d759b21b96",
   "metadata": {},
   "outputs": [],
   "source": []
  },
  {
   "cell_type": "code",
   "execution_count": 236,
   "id": "031a7d68-11b1-44fd-9574-b259ad38e698",
   "metadata": {},
   "outputs": [],
   "source": [
    "#4. Discuss the benefits of using composition over inheritance in Python, especially in terms of code flexibility and reusability."
   ]
  },
  {
   "cell_type": "markdown",
   "id": "4d62714a-7717-4125-a04c-511cce311bc8",
   "metadata": {},
   "source": [
    "Using composition over inheritance in Python offers several benefits, particularly in terms of code flexibility and reusability. Here are some of the advantages of choosing composition:\n",
    "\n",
    "Flexibility:\n",
    "\n",
    "Composition allows for greater flexibility in designing and building complex objects. You can mix and match components to create different configurations of objects at runtime.\n",
    "Changes to the composition of an object can be made without modifying existing classes, making it easier to adapt to changing requirements.\n",
    "Modularity:\n",
    "\n",
    "Composition promotes modularity by breaking down complex objects into smaller, self-contained components. Each component can be developed and tested independently, leading to cleaner and more maintainable code.\n",
    "Code Reusability:\n",
    "\n",
    "Composition encourages code reuse by allowing you to reuse existing classes (components) in various contexts. Components are designed to be modular and reusable, reducing code duplication and promoting best practices.\n",
    "Reduced Coupling:\n",
    "\n",
    "Composition typically results in reduced coupling between classes. Classes that use composition don't need to know the internal details of the components they include, which enhances encapsulation and reduces dependencies.\n",
    "Dynamic Combinations:\n",
    "\n",
    "Composition supports dynamic combinations of components. You can create objects with different combinations of components to meet specific requirements without modifying the component classes.\n",
    "Enhanced Testing:\n",
    "\n",
    "Smaller, self-contained components are easier to test and debug. Testing individual components is simpler than testing complex, deeply hierarchical class structures that can result from excessive use of inheritance.\n",
    "Improved Maintainability:\n",
    "\n",
    "As codebases grow, maintaining a class hierarchy with multiple levels of inheritance can become challenging. Composition helps in maintaining a flatter and more manageable class structure.\n",
    "Adaptation to Changing Requirements:\n",
    "\n",
    "In real-world software development, requirements change over time. Composition provides greater adaptability to evolving requirements, allowing you to make changes without affecting the entire class hierarchy.\n",
    "Prevention of Tight Coupling:\n",
    "\n",
    "Inheritance can lead to tight coupling, making it challenging to make changes to a base class without affecting derived classes. Composition avoids this problem, as changes in a component class typically don't impact the classes that use it.\n",
    "Avoiding the Diamond Problem:\n",
    "\n",
    "Composition can help avoid the complexities and potential issues associated with the diamond problem in multiple inheritance scenarios.\n"
   ]
  },
  {
   "cell_type": "code",
   "execution_count": null,
   "id": "e0bba387-a2e9-4943-933e-dfea9b619113",
   "metadata": {},
   "outputs": [],
   "source": []
  },
  {
   "cell_type": "code",
   "execution_count": 237,
   "id": "0fd3387d-d8d6-415b-a876-e1bd4e4edd5b",
   "metadata": {},
   "outputs": [],
   "source": [
    "#5. How can you implement composition in Python classes? Provide examples of using composition to create complex objects."
   ]
  },
  {
   "cell_type": "code",
   "execution_count": 238,
   "id": "a679d0e0-85ce-421c-8166-2e476c106456",
   "metadata": {},
   "outputs": [
    {
     "name": "stdout",
     "output_type": "stream",
     "text": [
      "Name: John Doe\n",
      "Address:\n",
      "  Street: 123 Main St\n",
      "  City: Anytown\n",
      "  State: CA\n",
      "  ZIP Code: 12345\n"
     ]
    }
   ],
   "source": [
    "#Example 1: Using Composition to Create a Complex Address Book Entry\n",
    "\n",
    "class Address:\n",
    "    def __init__(self, street, city, state, zip_code):\n",
    "        self.street = street\n",
    "        self.city = city\n",
    "        self.state = state\n",
    "        self.zip_code = zip_code\n",
    "\n",
    "class Person:\n",
    "    def __init__(self, first_name, last_name, address):\n",
    "        self.first_name = first_name\n",
    "        self.last_name = last_name\n",
    "        self.address = address  # Composition: Includes an Address object\n",
    "\n",
    "    def display_info(self):\n",
    "        print(f\"Name: {self.first_name} {self.last_name}\")\n",
    "        print(\"Address:\")\n",
    "        print(f\"  Street: {self.address.street}\")\n",
    "        print(f\"  City: {self.address.city}\")\n",
    "        print(f\"  State: {self.address.state}\")\n",
    "        print(f\"  ZIP Code: {self.address.zip_code}\")\n",
    "\n",
    "# Create an Address object\n",
    "home_address = Address(\"123 Main St\", \"Anytown\", \"CA\", \"12345\")\n",
    "\n",
    "# Create a Person object using composition\n",
    "person1 = Person(\"John\", \"Doe\", home_address)\n",
    "\n",
    "# Display person's information\n",
    "person1.display_info()\n"
   ]
  },
  {
   "cell_type": "code",
   "execution_count": 239,
   "id": "d4428be1-1c80-4749-ad74-65d5e2bfdfcd",
   "metadata": {},
   "outputs": [
    {
     "name": "stdout",
     "output_type": "stream",
     "text": [
      "CPU: Intel, Cores: 4\n",
      "RAM: 8 GB, Speed: 2400 MHz\n"
     ]
    }
   ],
   "source": [
    "#Example 2: Using Composition to Create a Complex Computer System\n",
    "\n",
    "class CPU:\n",
    "    def __init__(self, brand, cores):\n",
    "        self.brand = brand\n",
    "        self.cores = cores\n",
    "\n",
    "class RAM:\n",
    "    def __init__(self, capacity, speed):\n",
    "        self.capacity = capacity\n",
    "        self.speed = speed\n",
    "\n",
    "class Computer:\n",
    "    def __init__(self, cpu, ram):\n",
    "        self.cpu = cpu  # Composition: Includes a CPU object\n",
    "        self.ram = ram  # Composition: Includes a RAM object\n",
    "\n",
    "    def display_info(self):\n",
    "        print(f\"CPU: {self.cpu.brand}, Cores: {self.cpu.cores}\")\n",
    "        print(f\"RAM: {self.ram.capacity} GB, Speed: {self.ram.speed} MHz\")\n",
    "\n",
    "# Create CPU and RAM objects\n",
    "my_cpu = CPU(\"Intel\", 4)\n",
    "my_ram = RAM(8, 2400)\n",
    "\n",
    "# Create a Computer object using composition\n",
    "my_computer = Computer(my_cpu, my_ram)\n",
    "\n",
    "# Display computer information\n",
    "my_computer.display_info()\n"
   ]
  },
  {
   "cell_type": "code",
   "execution_count": null,
   "id": "56fbe200-e8b2-4cd1-883b-d995e039a1b9",
   "metadata": {},
   "outputs": [],
   "source": []
  },
  {
   "cell_type": "code",
   "execution_count": 240,
   "id": "8683c4a4-2ba5-4f83-b15c-1d192d31bfab",
   "metadata": {},
   "outputs": [],
   "source": [
    "#6. Create a Python class hierarchy for a music player system, using composition to represent playlists and songs."
   ]
  },
  {
   "cell_type": "code",
   "execution_count": 241,
   "id": "94a127e0-81fe-42a5-80a6-049f6e0746a8",
   "metadata": {},
   "outputs": [
    {
     "name": "stdout",
     "output_type": "stream",
     "text": [
      "Playing playlist: My Playlist\n",
      "Playing: Song 1 by Artist A\n",
      "\n",
      "Playing: Song 2 by Artist B\n",
      "\n",
      "Playing: Song 3 by Artist C\n",
      "\n"
     ]
    }
   ],
   "source": [
    "class Song:\n",
    "    def __init__(self, title, artist, duration):\n",
    "        self.title = title\n",
    "        self.artist = artist\n",
    "        self.duration = duration\n",
    "\n",
    "    def play(self):\n",
    "        print(f\"Playing: {self.title} by {self.artist}\")\n",
    "\n",
    "class Playlist:\n",
    "    def __init__(self, name):\n",
    "        self.name = name\n",
    "        self.songs = []  # Composition: Includes a list of Song objects\n",
    "\n",
    "    def add_song(self, song):\n",
    "        self.songs.append(song)\n",
    "\n",
    "    def play_playlist(self):\n",
    "        print(f\"Playing playlist: {self.name}\")\n",
    "        for song in self.songs:\n",
    "            song.play()\n",
    "            print()\n",
    "\n",
    "# Create Song objects\n",
    "song1 = Song(\"Song 1\", \"Artist A\", \"3:30\")\n",
    "song2 = Song(\"Song 2\", \"Artist B\", \"4:15\")\n",
    "song3 = Song(\"Song 3\", \"Artist C\", \"2:50\")\n",
    "\n",
    "# Create a Playlist object composed of Song objects\n",
    "my_playlist = Playlist(\"My Playlist\")\n",
    "my_playlist.add_song(song1)\n",
    "my_playlist.add_song(song2)\n",
    "my_playlist.add_song(song3)\n",
    "\n",
    "# Play the playlist\n",
    "my_playlist.play_playlist()\n"
   ]
  },
  {
   "cell_type": "code",
   "execution_count": null,
   "id": "d36c16d4-fff1-4438-9967-0d64454ec99d",
   "metadata": {},
   "outputs": [],
   "source": []
  },
  {
   "cell_type": "code",
   "execution_count": 242,
   "id": "a2ea1a29-2701-4c9f-99f0-9e8f5bb68653",
   "metadata": {},
   "outputs": [],
   "source": [
    "#7. Explain the concept of \"has-a\" relationships in composition and how it helps design software systems."
   ]
  },
  {
   "cell_type": "markdown",
   "id": "145482e1-3ceb-4338-ab13-f9a3a70f636a",
   "metadata": {},
   "source": [
    "The concept of \"has-a\" relationships in composition is a fundamental principle in object-oriented programming that allows you to model complex software systems by representing how one class is composed of or contains another class as one of its attributes. This relationship helps in designing and structuring software systems in a modular and flexible way.\n",
    "\n",
    "In a \"has-a\" relationship:\n",
    "\n",
    "One class (the containing class) has another class (the contained class) as an attribute.\n",
    "The containing class has access to the functionality and data of the contained class through this attribute.\n",
    "The contained class is considered a component or part of the containing class.\n",
    "Here's how \"has-a\" relationships help design software systems:\n",
    "\n",
    "Modularity: \"Has-a\" relationships promote modularity by breaking down complex systems into smaller, self-contained components. Each component can be developed, tested, and maintained independently.\n",
    "\n",
    "Reusability: By composing classes with other classes, you can reuse existing components in various contexts. This promotes code reuse and reduces duplication.\n",
    "\n",
    "Flexibility: \"Has-a\" relationships provide flexibility in combining and recombining components to create different configurations of objects. This flexibility is valuable when adapting to changing requirements.\n",
    "\n",
    "Abstraction: Complex systems can be abstracted into simpler, manageable components. This abstraction simplifies the understanding and maintenance of the system.\n",
    "\n",
    "Encapsulation: The contained class can encapsulate its own data and behavior, protecting it from direct manipulation by the containing class. This supports data hiding and reduces coupling.\n",
    "\n",
    "Easy Testing: Smaller, self-contained components are easier to test and debug. Unit testing and maintenance become more manageable.\n",
    "\n",
    "Avoidance of Inheritance Complexities: Instead of relying heavily on class inheritance hierarchies, \"has-a\" relationships offer an alternative way to build complex objects without the complexities associated with deep class hierarchies.\n",
    "\n",
    "Adaptability: Systems built using \"has-a\" relationships are more adaptable to changes. Modifications or additions to one component do not necessarily affect others, reducing the risk of unintended side effects.\n",
    "\n",
    "Overall, \"has-a\" relationships and composition facilitate a more modular, maintainable, and flexible approach to software design. They allow developers to create complex systems by combining simpler, self-contained components, leading to well-structured and adaptable code."
   ]
  },
  {
   "cell_type": "code",
   "execution_count": null,
   "id": "c9aa152f-c568-4944-a04f-4432e24ac9cf",
   "metadata": {},
   "outputs": [],
   "source": []
  },
  {
   "cell_type": "code",
   "execution_count": 243,
   "id": "d82c002e-516d-426f-8d99-ac4dbc3ac992",
   "metadata": {},
   "outputs": [],
   "source": [
    "#8. Create a Python class for a computer system, using composition to represent components like CPU, RAM, and storage devices."
   ]
  },
  {
   "cell_type": "code",
   "execution_count": 244,
   "id": "3d527bc0-70e4-4565-a677-d5370ddd74a4",
   "metadata": {},
   "outputs": [
    {
     "name": "stdout",
     "output_type": "stream",
     "text": [
      "Computer Specifications:\n",
      "CPU: Intel CPU (4 cores, 2.4 GHz)\n",
      "RAM: 8 GB RAM (2400 MHz)\n",
      "Storage: 512 GB SSD storage\n"
     ]
    }
   ],
   "source": [
    "class CPU:\n",
    "    def __init__(self, brand, cores, clock_speed):\n",
    "        self.brand = brand\n",
    "        self.cores = cores\n",
    "        self.clock_speed = clock_speed\n",
    "\n",
    "    def __str__(self):\n",
    "        return f\"{self.brand} CPU ({self.cores} cores, {self.clock_speed} GHz)\"\n",
    "\n",
    "class RAM:\n",
    "    def __init__(self, capacity, speed):\n",
    "        self.capacity = capacity\n",
    "        self.speed = speed\n",
    "\n",
    "    def __str__(self):\n",
    "        return f\"{self.capacity} GB RAM ({self.speed} MHz)\"\n",
    "\n",
    "class StorageDevice:\n",
    "    def __init__(self, type, capacity):\n",
    "        self.type = type\n",
    "        self.capacity = capacity\n",
    "\n",
    "    def __str__(self):\n",
    "        return f\"{self.capacity} GB {self.type} storage\"\n",
    "\n",
    "class Computer:\n",
    "    def __init__(self, cpu, ram, storage):\n",
    "        self.cpu = cpu  # Composition: Includes a CPU object\n",
    "        self.ram = ram  # Composition: Includes a RAM object\n",
    "        self.storage = storage  # Composition: Includes a StorageDevice object\n",
    "\n",
    "    def display_info(self):\n",
    "        print(\"Computer Specifications:\")\n",
    "        print(f\"CPU: {self.cpu}\")\n",
    "        print(f\"RAM: {self.ram}\")\n",
    "        print(f\"Storage: {self.storage}\")\n",
    "\n",
    "# Create CPU, RAM, and StorageDevice objects\n",
    "my_cpu = CPU(\"Intel\", 4, 2.4)\n",
    "my_ram = RAM(8, 2400)\n",
    "my_storage = StorageDevice(\"SSD\", 512)\n",
    "\n",
    "# Create a Computer object using composition\n",
    "my_computer = Computer(my_cpu, my_ram, my_storage)\n",
    "\n",
    "# Display computer information\n",
    "my_computer.display_info()\n"
   ]
  },
  {
   "cell_type": "code",
   "execution_count": null,
   "id": "07651762-fbdc-4548-a433-74c2df295623",
   "metadata": {},
   "outputs": [],
   "source": []
  },
  {
   "cell_type": "code",
   "execution_count": 245,
   "id": "fcee17a2-c828-44da-ad5b-5a97418e0e44",
   "metadata": {},
   "outputs": [],
   "source": [
    "#9. Describe the concept of \"delegation\" in composition and how it simplifies the design of complex systems."
   ]
  },
  {
   "cell_type": "markdown",
   "id": "a3a3f86d-7b94-4c83-9810-89ea1627dd62",
   "metadata": {},
   "source": [
    "\"Delegation\" in composition is a design concept where an object (the delegating object) passes the responsibility of performing a specific task to another object (the delegate object) that is better suited to handle that task. This concept simplifies the design of complex systems by allowing objects to work together collaboratively, each focusing on its specific area of expertise. Here's how delegation works and its benefits:\n",
    "\n",
    "Responsibility Transfer: Delegation involves transferring a specific task or responsibility from one object to another. The delegating object recognizes that it is not the most appropriate entity to handle the task and delegates it to another object that can do it more effectively.\n",
    "\n",
    "Specialization: Delegation allows objects to specialize in their respective areas. Instead of one object trying to do everything, it leverages the expertise of specialized objects. Each object is responsible for a specific aspect of the system, which leads to more maintainable and understandable code.\n",
    "\n",
    "Encapsulation: Delegation supports encapsulation by hiding the internal details of how a task is performed. The delegating object does not need to know how the delegate object accomplishes the task. It simply delegates the task and trusts that the delegate will handle it appropriately.\n",
    "\n",
    "Simplicity: Complex systems can be simplified by breaking them down into smaller, manageable pieces. Each piece (object) has a well-defined role, and the overall system becomes more comprehensible.\n",
    "\n",
    "Flexibility: Delegation allows for flexibility in the system's design. If requirements change or a new feature is added, you can introduce new delegate objects or modify existing ones without affecting the delegating object.\n",
    "\n",
    "Code Reusability: Delegation often leads to reusable components. Delegate objects can be used in various parts of the system, promoting code reuse.\n",
    "\n",
    "Testing and Debugging: Smaller, specialized delegate objects are easier to test and debug. This simplifies the testing process and reduces the chances of introducing bugs when changes are made.\n",
    "\n",
    "Loose Coupling: Delegation typically results in loose coupling between objects. The delegating object is less dependent on the delegate object's internal details, making it easier to replace or extend the delegate without affecting the rest of the system.\n",
    "\n",
    "Overall, delegation simplifies the design of complex systems by promoting a divide-and-conquer approach. It allows objects to focus on their core responsibilities, enhances code reusability, and maintains a clear separation of concerns. Delegation is a powerful technique for achieving modularity and flexibility in software design."
   ]
  },
  {
   "cell_type": "code",
   "execution_count": null,
   "id": "6029758f-8575-4d64-9b8d-5c700b67c7c1",
   "metadata": {},
   "outputs": [],
   "source": []
  },
  {
   "cell_type": "code",
   "execution_count": 246,
   "id": "c5f6a49d-1e61-4e32-92c0-af0fc4bb4bf0",
   "metadata": {},
   "outputs": [],
   "source": [
    "#10. Create a Python class for a car, using composition to represent components like the engine, wheels, and transmission."
   ]
  },
  {
   "cell_type": "code",
   "execution_count": 247,
   "id": "2b1921a1-d006-4e3f-94eb-6953f436cd45",
   "metadata": {},
   "outputs": [
    {
     "name": "stdout",
     "output_type": "stream",
     "text": [
      "Starting the car:\n",
      "Engine started\n",
      "Wheel rotating\n",
      "Wheel rotating\n",
      "Wheel rotating\n",
      "Wheel rotating\n",
      "Shifted to Drive gear\n",
      "Stopping the car:\n"
     ]
    },
    {
     "ename": "AttributeError",
     "evalue": "'Engine' object has no attribute 'stop'",
     "output_type": "error",
     "traceback": [
      "\u001b[0;31m---------------------------------------------------------------------------\u001b[0m",
      "\u001b[0;31mAttributeError\u001b[0m                            Traceback (most recent call last)",
      "Cell \u001b[0;32mIn[247], line 53\u001b[0m\n\u001b[1;32m     51\u001b[0m \u001b[38;5;66;03m# Start and stop the car\u001b[39;00m\n\u001b[1;32m     52\u001b[0m my_car\u001b[38;5;241m.\u001b[39mstart()\n\u001b[0;32m---> 53\u001b[0m \u001b[43mmy_car\u001b[49m\u001b[38;5;241;43m.\u001b[39;49m\u001b[43mstop\u001b[49m\u001b[43m(\u001b[49m\u001b[43m)\u001b[49m\n",
      "Cell \u001b[0;32mIn[247], line 39\u001b[0m, in \u001b[0;36mCar.stop\u001b[0;34m(self)\u001b[0m\n\u001b[1;32m     37\u001b[0m \u001b[38;5;28;01mdef\u001b[39;00m \u001b[38;5;21mstop\u001b[39m(\u001b[38;5;28mself\u001b[39m):\n\u001b[1;32m     38\u001b[0m     \u001b[38;5;28mprint\u001b[39m(\u001b[38;5;124m\"\u001b[39m\u001b[38;5;124mStopping the car:\u001b[39m\u001b[38;5;124m\"\u001b[39m)\n\u001b[0;32m---> 39\u001b[0m     \u001b[38;5;28;43mself\u001b[39;49m\u001b[38;5;241;43m.\u001b[39;49m\u001b[43mengine\u001b[49m\u001b[38;5;241;43m.\u001b[39;49m\u001b[43mstop\u001b[49m()\n\u001b[1;32m     40\u001b[0m     \u001b[38;5;28;01mfor\u001b[39;00m wheel \u001b[38;5;129;01min\u001b[39;00m \u001b[38;5;28mself\u001b[39m\u001b[38;5;241m.\u001b[39mwheels:\n\u001b[1;32m     41\u001b[0m         wheel\u001b[38;5;241m.\u001b[39mrotate()\n",
      "\u001b[0;31mAttributeError\u001b[0m: 'Engine' object has no attribute 'stop'"
     ]
    }
   ],
   "source": [
    "class Engine:\n",
    "    def __init__(self, brand, horsepower):\n",
    "        self.brand = brand\n",
    "        self.horsepower = horsepower\n",
    "\n",
    "    def start(self):\n",
    "        print(\"Engine started\")\n",
    "\n",
    "class Wheel:\n",
    "    def __init__(self, brand, size):\n",
    "        self.brand = brand\n",
    "        self.size = size\n",
    "\n",
    "    def rotate(self):\n",
    "        print(\"Wheel rotating\")\n",
    "\n",
    "class Transmission:\n",
    "    def __init__(self, type):\n",
    "        self.type = type\n",
    "\n",
    "    def shift_gear(self, gear):\n",
    "        print(f\"Shifted to {gear} gear\")\n",
    "\n",
    "class Car:\n",
    "    def __init__(self, engine, wheels, transmission):\n",
    "        self.engine = engine  # Composition: Includes an Engine object\n",
    "        self.wheels = wheels  # Composition: Includes a list of Wheel objects\n",
    "        self.transmission = transmission  # Composition: Includes a Transmission object\n",
    "\n",
    "    def start(self):\n",
    "        print(\"Starting the car:\")\n",
    "        self.engine.start()\n",
    "        for wheel in self.wheels:\n",
    "            wheel.rotate()\n",
    "        self.transmission.shift_gear(\"Drive\")\n",
    "\n",
    "    def stop(self):\n",
    "        print(\"Stopping the car:\")\n",
    "        self.engine.stop()\n",
    "        for wheel in self.wheels:\n",
    "            wheel.rotate()  # Wheels rotate in reverse for braking\n",
    "\n",
    "# Create Engine, Wheel, and Transmission objects\n",
    "car_engine = Engine(\"V6\", 300)\n",
    "car_wheels = [Wheel(\"Michelin\", 18), Wheel(\"Michelin\", 18), Wheel(\"Michelin\", 18), Wheel(\"Michelin\", 18)]\n",
    "car_transmission = Transmission(\"Automatic\")\n",
    "\n",
    "# Create a Car object using composition\n",
    "my_car = Car(car_engine, car_wheels, car_transmission)\n",
    "\n",
    "# Start and stop the car\n",
    "my_car.start()\n",
    "my_car.stop()\n"
   ]
  },
  {
   "cell_type": "code",
   "execution_count": null,
   "id": "d12570fa-fb15-40ff-abd4-4c99137973c8",
   "metadata": {},
   "outputs": [],
   "source": []
  },
  {
   "cell_type": "code",
   "execution_count": 248,
   "id": "f8717e3e-b4a5-4503-9f97-e89f203504e7",
   "metadata": {},
   "outputs": [],
   "source": [
    "#11. How can you encapsulate and hide the details of composed objects in Python classes to maintain abstraction?"
   ]
  },
  {
   "cell_type": "markdown",
   "id": "01222a39-47a3-42eb-9ae7-e49ae6ed3b49",
   "metadata": {},
   "source": [
    "Private Attributes: Use private attributes (attributes prefixed with double underscores, e.g., self.__attribute) to hide the details of composed objects. This prevents external access to these attributes, keeping the implementation details hidden.\n",
    "\n",
    "Getter and Setter Methods: Provide getter and setter methods to access and modify the attributes of composed objects. These methods allow controlled access to the details while encapsulating the implementation.\n",
    "\n",
    "Delegate Methods: Expose only the necessary methods of composed objects to the outside world. When you need to perform actions on composed objects, delegate those actions through well-defined methods in the containing class."
   ]
  },
  {
   "cell_type": "code",
   "execution_count": 249,
   "id": "ac2a62e9-ba5b-420c-acb3-313f705a03ac",
   "metadata": {},
   "outputs": [
    {
     "name": "stdout",
     "output_type": "stream",
     "text": [
      "<__main__.Engine object at 0x7fec2d99d120>\n",
      "Engine started\n",
      "Shifted to Drive gear\n"
     ]
    },
    {
     "ename": "AttributeError",
     "evalue": "'Engine' object has no attribute 'stop'",
     "output_type": "error",
     "traceback": [
      "\u001b[0;31m---------------------------------------------------------------------------\u001b[0m",
      "\u001b[0;31mAttributeError\u001b[0m                            Traceback (most recent call last)",
      "Cell \u001b[0;32mIn[249], line 51\u001b[0m\n\u001b[1;32m     49\u001b[0m my_car\u001b[38;5;241m.\u001b[39mstart()\n\u001b[1;32m     50\u001b[0m my_car\u001b[38;5;241m.\u001b[39mshift_gear(\u001b[38;5;124m\"\u001b[39m\u001b[38;5;124mDrive\u001b[39m\u001b[38;5;124m\"\u001b[39m)\n\u001b[0;32m---> 51\u001b[0m \u001b[43mmy_car\u001b[49m\u001b[38;5;241;43m.\u001b[39;49m\u001b[43mstop\u001b[49m\u001b[43m(\u001b[49m\u001b[43m)\u001b[49m\n",
      "Cell \u001b[0;32mIn[249], line 32\u001b[0m, in \u001b[0;36mCar.stop\u001b[0;34m(self)\u001b[0m\n\u001b[1;32m     31\u001b[0m \u001b[38;5;28;01mdef\u001b[39;00m \u001b[38;5;21mstop\u001b[39m(\u001b[38;5;28mself\u001b[39m):\n\u001b[0;32m---> 32\u001b[0m     \u001b[38;5;28;43mself\u001b[39;49m\u001b[38;5;241;43m.\u001b[39;49m\u001b[43m__engine\u001b[49m\u001b[38;5;241;43m.\u001b[39;49m\u001b[43mstop\u001b[49m()\n",
      "\u001b[0;31mAttributeError\u001b[0m: 'Engine' object has no attribute 'stop'"
     ]
    }
   ],
   "source": [
    "class Car:\n",
    "    def __init__(self, engine, wheels, transmission):\n",
    "        self.__engine = engine  # Private attribute\n",
    "        self.__wheels = wheels  # Private attribute\n",
    "        self.__transmission = transmission  # Private attribute\n",
    "\n",
    "    # Getter methods for encapsulated attributes\n",
    "    def get_engine(self):\n",
    "        return self.__engine\n",
    "\n",
    "    def get_wheels(self):\n",
    "        return self.__wheels\n",
    "\n",
    "    def get_transmission(self):\n",
    "        return self.__transmission\n",
    "\n",
    "    # Setter methods for encapsulated attributes\n",
    "    def set_engine(self, engine):\n",
    "        self.__engine = engine\n",
    "\n",
    "    def set_wheels(self, wheels):\n",
    "        self.__wheels = wheels\n",
    "\n",
    "    def set_transmission(self, transmission):\n",
    "        self.__transmission = transmission\n",
    "\n",
    "    # Delegate methods for interacting with composed objects\n",
    "    def start(self):\n",
    "        self.__engine.start()\n",
    "\n",
    "    def stop(self):\n",
    "        self.__engine.stop()\n",
    "\n",
    "    def shift_gear(self, gear):\n",
    "        self.__transmission.shift_gear(gear)\n",
    "\n",
    "# Usage example\n",
    "car_engine = Engine(\"V6\", 300)\n",
    "car_wheels = [Wheel(\"Michelin\", 18)] * 4\n",
    "car_transmission = Transmission(\"Automatic\")\n",
    "\n",
    "my_car = Car(car_engine, car_wheels, car_transmission)\n",
    "\n",
    "# Accessing composed objects via getter methods\n",
    "engine_info = my_car.get_engine()\n",
    "print(engine_info)\n",
    "\n",
    "# Delegating actions through methods\n",
    "my_car.start()\n",
    "my_car.shift_gear(\"Drive\")\n",
    "my_car.stop()\n"
   ]
  },
  {
   "cell_type": "code",
   "execution_count": null,
   "id": "ee0007a1-fc27-4b0a-8a2a-c3fa40a7a0f3",
   "metadata": {},
   "outputs": [],
   "source": []
  },
  {
   "cell_type": "code",
   "execution_count": 250,
   "id": "934f301f-54d4-4be5-86d7-ebf4280c9382",
   "metadata": {},
   "outputs": [],
   "source": [
    "#12. Create a Python class for a university course, using composition to represent students, instructors, and course materials."
   ]
  },
  {
   "cell_type": "code",
   "execution_count": 251,
   "id": "16883a67-e61b-4b99-850e-69c99f7aae76",
   "metadata": {},
   "outputs": [
    {
     "name": "stdout",
     "output_type": "stream",
     "text": [
      "Alice is enrolled in Introduction to Computer Science\n",
      "Bob is enrolled in Introduction to Computer Science\n",
      "Students enrolled in Introduction to Computer Science:\n",
      "Alice (Student ID: 101)\n",
      "Bob (Student ID: 102)\n",
      "Dr. Johnson is teaching Introduction to Computer Science\n"
     ]
    }
   ],
   "source": [
    "class Student:\n",
    "    def __init__(self, student_id, name):\n",
    "        self.student_id = student_id\n",
    "        self.name = name\n",
    "\n",
    "    def enroll(self, course):\n",
    "        print(f\"{self.name} is enrolled in {course.title}\")\n",
    "\n",
    "class Instructor:\n",
    "    def __init__(self, instructor_id, name):\n",
    "        self.instructor_id = instructor_id\n",
    "        self.name = name\n",
    "\n",
    "    def teach(self, course):\n",
    "        print(f\"{self.name} is teaching {course.title}\")\n",
    "\n",
    "class Course:\n",
    "    def __init__(self, course_code, title, instructor):\n",
    "        self.course_code = course_code\n",
    "        self.title = title\n",
    "        self.instructor = instructor\n",
    "        self.students = []\n",
    "\n",
    "    def add_student(self, student):\n",
    "        self.students.append(student)\n",
    "        student.enroll(self)\n",
    "\n",
    "    def list_students(self):\n",
    "        print(f\"Students enrolled in {self.title}:\")\n",
    "        for student in self.students:\n",
    "            print(f\"{student.name} (Student ID: {student.student_id})\")\n",
    "\n",
    "    def set_instructor(self, instructor):\n",
    "        self.instructor = instructor\n",
    "        instructor.teach(self)\n",
    "\n",
    "# Create students and instructors\n",
    "student1 = Student(101, \"Alice\")\n",
    "student2 = Student(102, \"Bob\")\n",
    "instructor1 = Instructor(201, \"Professor Smith\")\n",
    "\n",
    "# Create a course and associate students and an instructor\n",
    "course1 = Course(\"CSCI101\", \"Introduction to Computer Science\", instructor1)\n",
    "course1.add_student(student1)\n",
    "course1.add_student(student2)\n",
    "\n",
    "# List students in the course\n",
    "course1.list_students()\n",
    "\n",
    "# Assign a different instructor to the course\n",
    "instructor2 = Instructor(202, \"Dr. Johnson\")\n",
    "course1.set_instructor(instructor2)\n"
   ]
  },
  {
   "cell_type": "code",
   "execution_count": null,
   "id": "7526266c-1cdc-4a76-b6b2-f31dfc8d6929",
   "metadata": {},
   "outputs": [],
   "source": []
  },
  {
   "cell_type": "code",
   "execution_count": 252,
   "id": "8987a347-623a-4452-8942-c0f91d99d376",
   "metadata": {},
   "outputs": [],
   "source": [
    "#13. Discuss the challenges and drawbacks of composition, such as increased complexity and potential for tight coupling between objects."
   ]
  },
  {
   "cell_type": "markdown",
   "id": "8b29e3eb-9e07-444a-ad2f-0c95eaaf63ec",
   "metadata": {},
   "source": [
    "Composition is a powerful design technique, but it comes with its own set of challenges and potential drawbacks:\n",
    "\n",
    "Increased Complexity: As a software system grows, the number of composed objects and their relationships can become complex. This can make the codebase harder to understand, maintain, and debug.\n",
    "\n",
    "Tight Coupling: Composition can lead to tight coupling between objects, especially if an object has direct access to the internals of the objects it composes. This can make it challenging to modify or extend the system without affecting other parts of the code.\n",
    "\n",
    "Overhead: There is a certain amount of overhead in managing composed objects, such as initializing them, passing data between them, and ensuring their proper coordination. This overhead can impact performance and memory usage.\n",
    "\n",
    "Increased Maintenance: With composition, there are more objects to manage and maintain. When changes are needed, they may need to be propagated to multiple objects, increasing the risk of errors.\n",
    "\n",
    "Difficulties in Testing: Testing a composed system can be more complex than testing individual objects. It requires testing the interactions between objects, which can be challenging to set up and verify.\n",
    "\n",
    "Code Duplication: In some cases, common functionality may need to be duplicated in multiple composed objects, which can lead to code duplication and maintenance issues.\n",
    "\n",
    "Inversion of Control: When objects are composed, control may be spread across multiple classes, leading to potential issues in understanding the flow of control and data.\n",
    "\n",
    "To mitigate these challenges and drawbacks, software developers should follow best practices in software design and architecture, such as:\n",
    "\n",
    "Proper Abstraction: Ensure that each composed object is properly abstracted and hides its internal details. This reduces tight coupling and allows changes to be made to one object without affecting others.\n",
    "\n",
    "Use of Interfaces or Abstract Classes: Employ interfaces or abstract classes to define clear contracts for composed objects, making it easier to manage and coordinate them.\n",
    "\n",
    "Dependency Injection: Use dependency injection to inject composed objects into the classes that need them, rather than creating them within the class. This can make it easier to substitute different implementations and reduce tight coupling.\n",
    "\n",
    "Design Patterns: Utilize design patterns such as the Factory Pattern, Singleton Pattern, and Observer Pattern to manage and coordinate composed objects more effectively.\n",
    "\n",
    "Testing: Implement comprehensive unit testing and integration testing to verify the interactions between composed objects and ensure the overall functionality of the system.\n",
    "\n",
    "While composition can introduce complexity, careful design and adherence to best practices can help mitigate these challenges and make it a valuable technique for building flexible and maintainable software systems."
   ]
  },
  {
   "cell_type": "code",
   "execution_count": null,
   "id": "a57a0655-6d69-4a5b-ae69-ed8ba27fb322",
   "metadata": {},
   "outputs": [],
   "source": []
  },
  {
   "cell_type": "code",
   "execution_count": 253,
   "id": "2f70c66d-c461-43d2-8627-e90af3b64dd5",
   "metadata": {},
   "outputs": [],
   "source": [
    "#14. Create a Python class hierarchy for a restaurant system, using composition to represent menus, dishes, and ingredients."
   ]
  },
  {
   "cell_type": "code",
   "execution_count": 254,
   "id": "36d8e891-2c20-45f9-882f-3c8df07a5ba0",
   "metadata": {},
   "outputs": [
    {
     "name": "stdout",
     "output_type": "stream",
     "text": [
      "--- Italian Delights Menu ---\n",
      "Margherita Pizza - $12.99\n",
      "Grilled Cheese Sandwich - $7.49\n",
      "Caprese Salad - $8.99\n"
     ]
    }
   ],
   "source": [
    "class Ingredient:\n",
    "    def __init__(self, name, quantity, unit):\n",
    "        self.name = name\n",
    "        self.quantity = quantity\n",
    "        self.unit = unit\n",
    "\n",
    "    def __str__(self):\n",
    "        return f\"{self.quantity} {self.unit} of {self.name}\"\n",
    "\n",
    "class Dish:\n",
    "    def __init__(self, name, price, ingredients):\n",
    "        self.name = name\n",
    "        self.price = price\n",
    "        self.ingredients = ingredients\n",
    "\n",
    "    def add_ingredient(self, ingredient):\n",
    "        self.ingredients.append(ingredient)\n",
    "\n",
    "    def __str__(self):\n",
    "        return f\"{self.name} - ${self.price:.2f}\"\n",
    "\n",
    "class Menu:\n",
    "    def __init__(self, name):\n",
    "        self.name = name\n",
    "        self.dishes = []\n",
    "\n",
    "    def add_dish(self, dish):\n",
    "        self.dishes.append(dish)\n",
    "\n",
    "    def display_menu(self):\n",
    "        print(f\"--- {self.name} ---\")\n",
    "        for dish in self.dishes:\n",
    "            print(dish)\n",
    "\n",
    "# Create ingredients\n",
    "ingredient1 = Ingredient(\"Tomato\", 2, \"pcs\")\n",
    "ingredient2 = Ingredient(\"Cheese\", 100, \"g\")\n",
    "ingredient3 = Ingredient(\"Bread\", 2, \"slices\")\n",
    "\n",
    "# Create dishes\n",
    "dish1 = Dish(\"Margherita Pizza\", 12.99, [ingredient1, ingredient2])\n",
    "dish2 = Dish(\"Grilled Cheese Sandwich\", 7.49, [ingredient2, ingredient3])\n",
    "dish3 = Dish(\"Caprese Salad\", 8.99, [ingredient1, ingredient2])\n",
    "\n",
    "# Create a menu\n",
    "menu = Menu(\"Italian Delights Menu\")\n",
    "menu.add_dish(dish1)\n",
    "menu.add_dish(dish2)\n",
    "menu.add_dish(dish3)\n",
    "\n",
    "# Display the menu\n",
    "menu.display_menu()\n"
   ]
  },
  {
   "cell_type": "code",
   "execution_count": null,
   "id": "0a578965-5dbd-4f85-8a95-e2bb888a6709",
   "metadata": {},
   "outputs": [],
   "source": []
  },
  {
   "cell_type": "code",
   "execution_count": 255,
   "id": "0d0fc322-e122-4622-98cc-218f99b2ed44",
   "metadata": {},
   "outputs": [],
   "source": [
    "#15. Explain how composition enhances code maintainability and modularity in Python programs."
   ]
  },
  {
   "cell_type": "markdown",
   "id": "105be083-0c5f-4e34-a875-17d68467603f",
   "metadata": {},
   "source": [
    "Composition enhances code maintainability and modularity in Python programs by promoting a design approach that encourages encapsulation, separation of concerns, and reusability. Here's how composition achieves these benefits:\n",
    "\n",
    "Separation of Concerns: Composition allows you to break down complex systems into smaller, more manageable components. Each component (e.g., class) is responsible for a specific aspect of functionality. This separation of concerns makes it easier to understand, modify, and maintain the code because each component has a well-defined purpose.\n",
    "\n",
    "Encapsulation: Composed objects can hide their internal details. This encapsulation ensures that the implementation of each component is hidden from other components. This reduces the risk of unintended interference and promotes clean interfaces between components.\n",
    "\n",
    "Reusability: Composed objects are designed to be reusable. You can use the same components in different parts of your program or even in different projects. This reusability saves time and effort, as you don't need to reinvent the wheel for every new feature or application.\n",
    "\n",
    "Flexibility: Composition allows you to build complex systems by combining and recombining components. This flexibility is especially valuable when requirements change or new features are added. You can replace, extend, or modify components without affecting the entire system.\n",
    "\n",
    "Testability: Composed objects can be tested in isolation, which simplifies unit testing. You can test each component separately, ensuring that it functions correctly. This helps identify and fix issues early in the development process.\n",
    "\n",
    "Modularity: Code composed of smaller, modular components is easier to manage. If an issue arises, you can focus on the specific component causing the problem without having to navigate through a monolithic codebase. This modularity also promotes collaboration among team members working on different parts of the system.\n",
    "\n",
    "Reduced Code Duplication: Composed objects promote code reuse, which reduces code duplication. Instead of replicating similar functionality in multiple places, you can reuse components to achieve the desired functionality.\n",
    "\n",
    "Maintainability: With well-defined interfaces and encapsulated components, maintaining and updating the code becomes less error-prone. Changes made to one component generally have minimal impact on other parts of the codebase.\n",
    "\n",
    "Scalability: As your project grows, you can add new components or extend existing ones to accommodate additional features or requirements. This scalability ensures that your codebase can evolve to meet changing needs.\n",
    "\n",
    "Cleaner Code: Composition often results in cleaner and more readable code. The separation of concerns and encapsulation lead to smaller, focused, and well-documented components, making it easier for developers to understand and work with the code.\n",
    "\n"
   ]
  },
  {
   "cell_type": "code",
   "execution_count": null,
   "id": "72a2af9d-732c-498e-bbe3-f37e20b1fdc5",
   "metadata": {},
   "outputs": [],
   "source": []
  },
  {
   "cell_type": "code",
   "execution_count": 256,
   "id": "871d9d81-de04-40bb-8dfe-fdc24e7dbf59",
   "metadata": {},
   "outputs": [],
   "source": [
    "#16. Create a Python class for a computer game character, using composition to represent attributes like weapons, armor, and inventory."
   ]
  },
  {
   "cell_type": "code",
   "execution_count": 257,
   "id": "34ecb6a9-df0d-415a-aac4-746a143d3e8f",
   "metadata": {},
   "outputs": [
    {
     "name": "stdout",
     "output_type": "stream",
     "text": [
      "Character: Hero\n",
      "Weapon: Sword, Damage: 10\n",
      "Armor: Shield, Defense: 5\n",
      "Inventory: <__main__.Inventory object at 0x7fec2d99de70>\n"
     ]
    }
   ],
   "source": [
    "class Weapon:\n",
    "    def __init__(self, name, damage):\n",
    "        self.name = name\n",
    "        self.damage = damage\n",
    "\n",
    "    def __str__(self):\n",
    "        return f\"Weapon: {self.name}, Damage: {self.damage}\"\n",
    "\n",
    "class Armor:\n",
    "    def __init__(self, name, defense):\n",
    "        self.name = name\n",
    "        self.defense = defense\n",
    "\n",
    "    def __str__(self):\n",
    "        return f\"Armor: {self.name}, Defense: {self.defense}\"\n",
    "\n",
    "class Inventory:\n",
    "    def __init__(self):\n",
    "        self.items = []\n",
    "\n",
    "    def add_item(self, item):\n",
    "        self.items.append(item)\n",
    "\n",
    "    def list_items(self):\n",
    "        return self.items\n",
    "\n",
    "class Character:\n",
    "    def __init__(self, name):\n",
    "        self.name = name\n",
    "        self.weapon = None\n",
    "        self.armor = None\n",
    "        self.inventory = Inventory()\n",
    "\n",
    "    def equip_weapon(self, weapon):\n",
    "        self.weapon = weapon\n",
    "\n",
    "    def equip_armor(self, armor):\n",
    "        self.armor = armor\n",
    "\n",
    "    def add_item_to_inventory(self, item):\n",
    "        self.inventory.add_item(item)\n",
    "\n",
    "    def show_inventory(self):\n",
    "        return self.inventory.list_items()\n",
    "\n",
    "    def __str__(self):\n",
    "        return f\"Character: {self.name}\\n{self.weapon}\\n{self.armor}\\nInventory: {', '.join(map(str, self.show_inventory()))}\"\n",
    "\n",
    "# Create weapons, armor, and items\n",
    "sword = Weapon(\"Sword\", 10)\n",
    "shield = Armor(\"Shield\", 5)\n",
    "potion = Inventory()\n",
    "\n",
    "# Create a character\n",
    "player = Character(\"Hero\")\n",
    "\n",
    "# Equip the character with a weapon and armor\n",
    "player.equip_weapon(sword)\n",
    "player.equip_armor(shield)\n",
    "\n",
    "# Add items to the character's inventory\n",
    "player.add_item_to_inventory(potion)\n",
    "\n",
    "# Display the character's attributes and inventory\n",
    "print(player)\n"
   ]
  },
  {
   "cell_type": "code",
   "execution_count": null,
   "id": "82578f10-1927-4a9b-b1b8-9c57e3df02ec",
   "metadata": {},
   "outputs": [],
   "source": []
  },
  {
   "cell_type": "code",
   "execution_count": 258,
   "id": "4a5a2bfa-4c16-4c99-a75e-170d5c9ef5cf",
   "metadata": {},
   "outputs": [],
   "source": [
    "#17. Describe the concept of \"aggregation\" in composition and how it differs from simple composition."
   ]
  },
  {
   "cell_type": "markdown",
   "id": "3d979b2e-90f1-4e9c-b3b9-a1ce3f92796f",
   "metadata": {},
   "source": [
    "Aggregation is a concept in composition that represents a \"whole-part\" relationship between objects. It's a more loosely coupled form of composition compared to simple composition, and it emphasizes the idea that a whole object (the \"container\" or \"composite\") is made up of parts (the \"components\" or \"aggregated objects\"). The key differences between aggregation and simple composition are as follows:\n",
    "\n",
    "Ownership and Lifespan:\n",
    "\n",
    "In simple composition, the composed object (the \"whole\") often owns and manages the lifecycle of its parts. When the whole object is destroyed, its parts are typically destroyed as well.\n",
    "In aggregation, the whole object may reference its parts, but it doesn't necessarily own them or control their lifecycle. Parts can exist independently and may be shared among multiple wholes.\n",
    "Multiplicity:\n",
    "\n",
    "In simple composition, a whole object may have a fixed number of parts, and each part is usually unique to that whole. For example, a car (whole) has exactly four wheels, and those wheels belong exclusively to that car.\n",
    "In aggregation, there is more flexibility regarding the number of parts. A whole can have zero, one, or multiple parts of the same kind, and those parts might be shared among multiple wholes.\n",
    "Navigation:\n",
    "\n",
    "In simple composition, navigation from a whole to its parts is often direct and intuitive. The whole object can easily access and manipulate its parts because it typically owns them.\n",
    "In aggregation, navigation from a whole to its parts may be less direct, and the whole may need to maintain references to its parts to access them. Parts are more independent entities.\n",
    "Relationship Duration:\n",
    "\n",
    "In simple composition, the relationship between the whole and its parts is typically long-lasting, and the parts are closely tied to the whole.\n",
    "In aggregation, the relationship between the whole and its parts can be temporary or more transient. Parts may come and go, and they may be shared among different wholes over time.\n",
    "Examples:\n",
    "\n",
    "Simple Composition: A university (whole) comprises various departments (parts). Each department is part of that university and is managed by it.\n",
    "Aggregation: A library (whole) contains books (parts). Books are shared resources that can be part of multiple libraries."
   ]
  },
  {
   "cell_type": "code",
   "execution_count": null,
   "id": "2815ea02-6485-4bb9-8f7c-543fe0c6283b",
   "metadata": {},
   "outputs": [],
   "source": []
  },
  {
   "cell_type": "code",
   "execution_count": 259,
   "id": "260ac3e6-cb73-49ce-b842-58669be46dc7",
   "metadata": {},
   "outputs": [],
   "source": [
    "#18. Create a Python class for a house, using composition to represent rooms, furniture, and appliances."
   ]
  },
  {
   "cell_type": "code",
   "execution_count": 260,
   "id": "18fb5b93-0720-4e11-8d4e-847ccca6c470",
   "metadata": {},
   "outputs": [
    {
     "name": "stdout",
     "output_type": "stream",
     "text": [
      "House at 123 Main Street\n",
      "Rooms:\n",
      "- Living Room (300 sq. ft.)\n",
      "- Kitchen (200 sq. ft.)\n",
      "- Bedroom (150 sq. ft.)\n",
      "\n",
      "\n",
      "Living Room Furniture: Sofa, Dining Table\n",
      "Kitchen Appliances: Fridge, Oven\n",
      "Bedroom Furniture: Bed, Washing Machine\n"
     ]
    }
   ],
   "source": [
    "class Room:\n",
    "    def __init__(self, name, area):\n",
    "        self.name = name\n",
    "        self.area = area\n",
    "\n",
    "    def __str__(self):\n",
    "        return f\"{self.name} ({self.area} sq. ft.)\"\n",
    "\n",
    "class Furniture:\n",
    "    def __init__(self, name):\n",
    "        self.name = name\n",
    "\n",
    "    def __str__(self):\n",
    "        return self.name\n",
    "\n",
    "class Appliance:\n",
    "    def __init__(self, name):\n",
    "        self.name = name\n",
    "\n",
    "    def __str__(self):\n",
    "        return self.name\n",
    "\n",
    "class House:\n",
    "    def __init__(self, address):\n",
    "        self.address = address\n",
    "        self.rooms = []\n",
    "\n",
    "    def add_room(self, room):\n",
    "        self.rooms.append(room)\n",
    "\n",
    "    def __str__(self):\n",
    "        house_info = f\"House at {self.address}\\nRooms:\\n\"\n",
    "        for room in self.rooms:\n",
    "            room_info = f\"- {room}\\n\"\n",
    "            house_info += room_info\n",
    "        return house_info\n",
    "\n",
    "# Create rooms, furniture, and appliances\n",
    "living_room = Room(\"Living Room\", 300)\n",
    "kitchen = Room(\"Kitchen\", 200)\n",
    "bedroom = Room(\"Bedroom\", 150)\n",
    "\n",
    "sofa = Furniture(\"Sofa\")\n",
    "dining_table = Furniture(\"Dining Table\")\n",
    "bed = Furniture(\"Bed\")\n",
    "\n",
    "fridge = Appliance(\"Fridge\")\n",
    "oven = Appliance(\"Oven\")\n",
    "washing_machine = Appliance(\"Washing Machine\")\n",
    "\n",
    "# Create a house and add rooms, furniture, and appliances\n",
    "my_house = House(\"123 Main Street\")\n",
    "my_house.add_room(living_room)\n",
    "my_house.add_room(kitchen)\n",
    "my_house.add_room(bedroom)\n",
    "\n",
    "living_room_furniture = [sofa, dining_table]\n",
    "kitchen_appliances = [fridge, oven]\n",
    "bedroom_furniture = [bed, washing_machine]\n",
    "\n",
    "# Display house information\n",
    "print(my_house)\n",
    "print(\"\\nLiving Room Furniture:\", \", \".join(str(item) for item in living_room_furniture))\n",
    "print(\"Kitchen Appliances:\", \", \".join(str(item) for item in kitchen_appliances))\n",
    "print(\"Bedroom Furniture:\", \", \".join(str(item) for item in bedroom_furniture))\n"
   ]
  },
  {
   "cell_type": "code",
   "execution_count": null,
   "id": "fe23b212-77d9-4944-a1dd-bd3be1bc12fc",
   "metadata": {},
   "outputs": [],
   "source": []
  },
  {
   "cell_type": "code",
   "execution_count": 261,
   "id": "f17ea1b4-5808-4d3e-9586-2d28b3cc5e5e",
   "metadata": {},
   "outputs": [],
   "source": [
    "#19. How can you achieve flexibility in composed objects by allowing them to be replaced or modified dynamically at runtime?"
   ]
  },
  {
   "cell_type": "markdown",
   "id": "7e75e636-07db-4a5e-8100-33c09e7631c3",
   "metadata": {},
   "source": [
    "Dependency Injection: Dependency injection is a design pattern that allows you to inject dependencies (components or objects) into a class or object from the outside, rather than hard-coding them within the class. This makes it easy to replace or modify dependencies at runtime. You can use one of the following methods for dependency injection:\n",
    "\n",
    "a. Constructor Injection: Pass the dependencies as parameters to the constructor of the composed object. This way, you can provide different dependencies when creating instances of the object.\n",
    "\n",
    "b. Setter Injection: Provide setter methods in the composed object to allow external code to set or replace dependencies after the object is created."
   ]
  },
  {
   "cell_type": "code",
   "execution_count": 262,
   "id": "e628890f-1390-48ff-a8fe-f6cbe247a2a9",
   "metadata": {},
   "outputs": [],
   "source": [
    "class House:\n",
    "    def __init__(self, address, rooms):\n",
    "        self.address = address\n",
    "        self.rooms = rooms\n",
    "\n",
    "    # Other methods...\n",
    "\n",
    "living_room = Room(\"Living Room\", 300)\n",
    "kitchen = Room(\"Kitchen\", 200)\n",
    "my_house = House(\"123 Main Street\", [living_room, kitchen])\n",
    "\n",
    "# Later, you can replace or modify rooms dynamically\n",
    "new_room = Room(\"Study\", 150)\n",
    "my_house.rooms = [living_room, new_room]\n"
   ]
  },
  {
   "cell_type": "code",
   "execution_count": null,
   "id": "0e849e29-3f53-47a8-8c80-477aa25bbf94",
   "metadata": {},
   "outputs": [],
   "source": []
  },
  {
   "cell_type": "markdown",
   "id": "aced037c-c88b-4ffa-bd3b-7f8b52e4def5",
   "metadata": {},
   "source": [
    "Dynamic Composition: This approach involves adding methods to the composed object that allow you to dynamically add, replace, or modify components. For example, you can have methods to add or remove rooms, furniture, or appliances."
   ]
  },
  {
   "cell_type": "code",
   "execution_count": 263,
   "id": "e6f88966-0d54-4fd0-8cd6-36b48ba27f27",
   "metadata": {},
   "outputs": [],
   "source": [
    "class House:\n",
    "    def __init__(self, address):\n",
    "        self.address = address\n",
    "        self.rooms = []\n",
    "\n",
    "    def add_room(self, room):\n",
    "        self.rooms.append(room)\n",
    "\n",
    "    def remove_room(self, room):\n",
    "        if room in self.rooms:\n",
    "            self.rooms.remove(room)\n",
    "\n",
    "    # Other methods for modifying components...\n",
    "\n",
    "living_room = Room(\"Living Room\", 300)\n",
    "kitchen = Room(\"Kitchen\", 200)\n",
    "my_house = House(\"123 Main Street\")\n",
    "my_house.add_room(living_room)\n",
    "my_house.add_room(kitchen)\n",
    "\n",
    "# Later, you can dynamically replace or modify rooms\n",
    "new_room = Room(\"Study\", 150)\n",
    "my_house.add_room(new_room)\n",
    "my_house.remove_room(living_room)\n"
   ]
  },
  {
   "cell_type": "markdown",
   "id": "e48bb43f-760f-4775-b8e6-1857444e597e",
   "metadata": {},
   "source": [
    "Design Patterns: You can also leverage design patterns like the Factory Pattern or Builder Pattern to create and modify composed objects with ease. These patterns abstract the creation and modification process and provide flexibility.\n",
    "\n"
   ]
  },
  {
   "cell_type": "code",
   "execution_count": null,
   "id": "e2e142e5-549d-4d1e-b13d-c91ec6d729a1",
   "metadata": {},
   "outputs": [],
   "source": []
  },
  {
   "cell_type": "code",
   "execution_count": 264,
   "id": "add5a9e5-389c-44b6-85e8-00ada657630e",
   "metadata": {},
   "outputs": [],
   "source": [
    "#20. Create a Python class for a social media application, using composition to represent users, posts, and comments."
   ]
  },
  {
   "cell_type": "code",
   "execution_count": 265,
   "id": "0b587bf4-85f1-414c-8964-df8d33dde203",
   "metadata": {},
   "outputs": [
    {
     "name": "stdout",
     "output_type": "stream",
     "text": [
      "John Doe (@user123)\n",
      "Post by John Doe (@user123): Hello, World!\n",
      "Comment on John Doe (@user123)'s post: Welcome, John!\n",
      "Comment on John Doe (@user123)'s post: Nice to see you here!\n"
     ]
    }
   ],
   "source": [
    "class User:\n",
    "    def __init__(self, username, full_name):\n",
    "        self.username = username\n",
    "        self.full_name = full_name\n",
    "        self.posts = []\n",
    "\n",
    "    def create_post(self, content):\n",
    "        post = Post(content, self)\n",
    "        self.posts.append(post)\n",
    "        return post\n",
    "\n",
    "    def __str__(self):\n",
    "        return f\"{self.full_name} (@{self.username})\"\n",
    "\n",
    "class Post:\n",
    "    def __init__(self, content, author):\n",
    "        self.content = content\n",
    "        self.author = author\n",
    "        self.comments = []\n",
    "\n",
    "    def add_comment(self, comment_content):\n",
    "        comment = Comment(comment_content, self)\n",
    "        self.comments.append(comment)\n",
    "        return comment\n",
    "\n",
    "    def __str__(self):\n",
    "        return f\"Post by {self.author}: {self.content}\"\n",
    "\n",
    "class Comment:\n",
    "    def __init__(self, content, post):\n",
    "        self.content = content\n",
    "        self.post = post\n",
    "\n",
    "    def __str__(self):\n",
    "        return f\"Comment on {self.post.author}'s post: {self.content}\"\n",
    "\n",
    "# Create users and their interactions\n",
    "user1 = User(\"user123\", \"John Doe\")\n",
    "user2 = User(\"jane_doe\", \"Jane Smith\")\n",
    "\n",
    "post1 = user1.create_post(\"Hello, World!\")\n",
    "post2 = user2.create_post(\"First post on this social platform!\")\n",
    "\n",
    "post1.add_comment(\"Welcome, John!\")\n",
    "post1.add_comment(\"Nice to see you here!\")\n",
    "\n",
    "# Display user profiles, posts, and comments\n",
    "print(user1)\n",
    "print(post1)\n",
    "for comment in post1.comments:\n",
    "    print(comment)\n"
   ]
  }
 ],
 "metadata": {
  "kernelspec": {
   "display_name": "Python 3 (ipykernel)",
   "language": "python",
   "name": "python3"
  },
  "language_info": {
   "codemirror_mode": {
    "name": "ipython",
    "version": 3
   },
   "file_extension": ".py",
   "mimetype": "text/x-python",
   "name": "python",
   "nbconvert_exporter": "python",
   "pygments_lexer": "ipython3",
   "version": "3.10.8"
  }
 },
 "nbformat": 4,
 "nbformat_minor": 5
}
