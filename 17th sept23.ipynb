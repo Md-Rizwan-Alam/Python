{
 "cells": [
  {
   "cell_type": "markdown",
   "id": "24ae8e91-e05a-4f78-a946-6c4ca22a89bd",
   "metadata": {},
   "source": [
    "For Loop :-"
   ]
  },
  {
   "cell_type": "markdown",
   "id": "8cc51160-493e-4cc3-a777-2b1e7cb893e2",
   "metadata": {},
   "source": [
    "1. Write a Python program to print numbers from 1 to 10 using a for loop."
   ]
  },
  {
   "cell_type": "code",
   "execution_count": 13,
   "id": "eb1ef147-4e27-47d6-9582-661bb61c2de5",
   "metadata": {},
   "outputs": [
    {
     "name": "stdout",
     "output_type": "stream",
     "text": [
      "1\n",
      "2\n",
      "3\n",
      "4\n",
      "5\n",
      "6\n",
      "7\n",
      "8\n",
      "9\n",
      "10\n"
     ]
    }
   ],
   "source": [
    "for i in range(1, 11):\n",
    "    print(i)\n"
   ]
  },
  {
   "cell_type": "markdown",
   "id": "62d8e781-6155-41a3-8c39-42c0a1d79b10",
   "metadata": {},
   "source": [
    "2. Explain the difference between a for loop and a while loop in Python."
   ]
  },
  {
   "cell_type": "code",
   "execution_count": 14,
   "id": "23f6bd34-89bc-43e5-b7a2-e8e79799eda4",
   "metadata": {},
   "outputs": [
    {
     "name": "stdout",
     "output_type": "stream",
     "text": [
      "apple\n",
      "banana\n",
      "cherry\n"
     ]
    }
   ],
   "source": [
    "# Using a for loop to iterate over a list\n",
    "fruits = [\"apple\", \"banana\", \"cherry\"]\n",
    "for fruit in fruits:\n",
    "    print(fruit)\n"
   ]
  },
  {
   "cell_type": "code",
   "execution_count": 15,
   "id": "2d857ec2-454a-413e-b488-5abe7dfc7f5f",
   "metadata": {},
   "outputs": [
    {
     "name": "stdout",
     "output_type": "stream",
     "text": [
      "0\n",
      "1\n",
      "2\n",
      "3\n",
      "4\n"
     ]
    }
   ],
   "source": [
    "# Using a while loop to repeat until a condition is met\n",
    "count = 0\n",
    "while count < 5:\n",
    "    print(count)\n",
    "    count += 1\n"
   ]
  },
  {
   "cell_type": "markdown",
   "id": "e8820c54-4a02-4ee6-ae06-1c2d3d02b562",
   "metadata": {},
   "source": [
    "3. Write a Python program to calculate the sum of all numbers from 1 to 100 using a for loop."
   ]
  },
  {
   "cell_type": "code",
   "execution_count": 16,
   "id": "abbb6d5a-9a19-4bc4-b377-00523290b626",
   "metadata": {},
   "outputs": [
    {
     "name": "stdout",
     "output_type": "stream",
     "text": [
      "The sum of all numbers from 1 to 100 is: 5050\n"
     ]
    }
   ],
   "source": [
    "total_sum = 0\n",
    "\n",
    "for number in range(1, 101):\n",
    "    total_sum += number  \n",
    "\n",
    "print(\"The sum of all numbers from 1 to 100 is:\", total_sum)\n"
   ]
  },
  {
   "cell_type": "markdown",
   "id": "893d7431-25f3-42fc-8c1b-3f383de4758f",
   "metadata": {},
   "source": [
    "4. How do you iterate through a list using a for loop in Python?"
   ]
  },
  {
   "cell_type": "code",
   "execution_count": 17,
   "id": "680bf556-514d-44c6-836b-2e9005867ca7",
   "metadata": {},
   "outputs": [
    {
     "name": "stdout",
     "output_type": "stream",
     "text": [
      "1\n",
      "2\n",
      "3\n",
      "4\n",
      "5\n"
     ]
    }
   ],
   "source": [
    "numbers = [1, 2, 3, 4, 5]\n",
    "\n",
    "for number in numbers:\n",
    "    print(number)\n"
   ]
  },
  {
   "cell_type": "markdown",
   "id": "fa9a85f4-f100-44f7-9836-89b087368216",
   "metadata": {},
   "source": [
    "5. Write a Python program to find the product of all elements in a list using a for loop."
   ]
  },
  {
   "cell_type": "code",
   "execution_count": 18,
   "id": "4a08edf5-a305-499d-863f-e8bf9ad26e44",
   "metadata": {},
   "outputs": [
    {
     "name": "stdout",
     "output_type": "stream",
     "text": [
      "The product of all elements in the list is: 720\n"
     ]
    }
   ],
   "source": [
    "numbers = [2, 3, 4, 5, 6]\n",
    "\n",
    "product = 1\n",
    "\n",
    "for number in numbers:\n",
    "    product *= number \n",
    "\n",
    "print(\"The product of all elements in the list is:\", product)\n"
   ]
  },
  {
   "cell_type": "markdown",
   "id": "4b7967ee-fb50-4645-bcd1-7d90e80c605b",
   "metadata": {},
   "source": [
    "6. Create a Python program that prints all even numbers from 1 to 20 using a for loop."
   ]
  },
  {
   "cell_type": "code",
   "execution_count": 19,
   "id": "ed447964-d3c6-4a2f-a32c-df87c15ecf5d",
   "metadata": {},
   "outputs": [
    {
     "name": "stdout",
     "output_type": "stream",
     "text": [
      "2\n",
      "4\n",
      "6\n",
      "8\n",
      "10\n",
      "12\n",
      "14\n",
      "16\n",
      "18\n",
      "20\n"
     ]
    }
   ],
   "source": [
    "for number in range(2, 21, 2):\n",
    "    print(number)\n"
   ]
  },
  {
   "cell_type": "markdown",
   "id": "5fd89f2b-c6f2-4aab-9d4b-6e099e9fd3dd",
   "metadata": {},
   "source": [
    "7. Write a Python program that calculates the factorial of a number using a for loop."
   ]
  },
  {
   "cell_type": "code",
   "execution_count": 21,
   "id": "808a900b-77c7-40e0-8c9d-ac0b86a039d8",
   "metadata": {},
   "outputs": [
    {
     "name": "stdin",
     "output_type": "stream",
     "text": [
      "Enter a positive integer:  9\n"
     ]
    },
    {
     "name": "stdout",
     "output_type": "stream",
     "text": [
      "The factorial of 9 is 362880\n"
     ]
    }
   ],
   "source": [
    "num = int(input(\"Enter a positive integer: \"))\n",
    "\n",
    "factorial = 1\n",
    "\n",
    "if num < 0:\n",
    "    print(\"Factorial is not defined for negative numbers.\")\n",
    "elif num == 0:\n",
    "    print(\"The factorial of 0 is 1.\")\n",
    "else:\n",
    "    for i in range(1, num + 1):\n",
    "        factorial *= i\n",
    "\n",
    "    print(f\"The factorial of {num} is {factorial}\")\n"
   ]
  },
  {
   "cell_type": "markdown",
   "id": "084ca703-dd15-4273-91b3-a6e59c456987",
   "metadata": {},
   "source": [
    "8. How can you iterate through the characters of a string using a for loop in Python?"
   ]
  },
  {
   "cell_type": "code",
   "execution_count": 22,
   "id": "3da33ba6-a4e3-4bf4-8196-480a02cc75b6",
   "metadata": {},
   "outputs": [
    {
     "name": "stdout",
     "output_type": "stream",
     "text": [
      "M\n",
      "d\n",
      " \n",
      "R\n",
      "i\n",
      "z\n",
      "w\n",
      "a\n",
      "n\n",
      " \n",
      "A\n",
      "l\n",
      "a\n",
      "m\n"
     ]
    }
   ],
   "source": [
    "my_string = \"Md Rizwan Alam\"\n",
    "\n",
    "for char in my_string:\n",
    "    print(char)\n"
   ]
  },
  {
   "cell_type": "markdown",
   "id": "ab163c4a-0774-46d7-8e0e-56b6339c0b8e",
   "metadata": {},
   "source": [
    "9. Write a Python program to find the largest number in a list using a for loop.\n"
   ]
  },
  {
   "cell_type": "code",
   "execution_count": 23,
   "id": "06a67c56-c983-44d4-bae5-9526b2a03a16",
   "metadata": {},
   "outputs": [
    {
     "name": "stdout",
     "output_type": "stream",
     "text": [
      "The largest number in the list is: 20\n"
     ]
    }
   ],
   "source": [
    "numbers = [10, 5, 20, 8, 15]\n",
    "\n",
    "largest = numbers[0] \n",
    "\n",
    "for number in numbers:\n",
    "    if number > largest:\n",
    "        largest = number  \n",
    "        \n",
    "        \n",
    "print(\"The largest number in the list is:\", largest)\n"
   ]
  },
  {
   "cell_type": "markdown",
   "id": "49ce7a10-77e9-41db-a6d5-1f1162cda3c5",
   "metadata": {},
   "source": [
    "10. Create a Python program that prints the Fibonacci sequence up to a specified limit using a for loop."
   ]
  },
  {
   "cell_type": "code",
   "execution_count": 24,
   "id": "d940dd83-4180-4206-917b-40fcc5f38991",
   "metadata": {},
   "outputs": [
    {
     "name": "stdin",
     "output_type": "stream",
     "text": [
      "Enter the limit for the Fibonacci sequence:  4\n"
     ]
    },
    {
     "name": "stdout",
     "output_type": "stream",
     "text": [
      "Fibonacci sequence up to the limit:\n",
      "0\n",
      "1\n",
      "1\n",
      "2\n",
      "3\n"
     ]
    }
   ],
   "source": [
    "limit = int(input(\"Enter the limit for the Fibonacci sequence: \"))\n",
    "\n",
    "fibonacci_sequence = [0, 1]\n",
    "\n",
    "while True:\n",
    "    next_number = fibonacci_sequence[-1] + fibonacci_sequence[-2]\n",
    "    if next_number > limit:\n",
    "        break  \n",
    "    fibonacci_sequence.append(next_number)\n",
    "\n",
    "print(\"Fibonacci sequence up to the limit:\")\n",
    "for number in fibonacci_sequence:\n",
    "    print(number)\n"
   ]
  },
  {
   "cell_type": "markdown",
   "id": "c56b6929-3745-452f-a524-cc30236b8240",
   "metadata": {},
   "source": [
    "11. Write a Python program to count the number of vowels in a given string using a for loop."
   ]
  },
  {
   "cell_type": "code",
   "execution_count": 26,
   "id": "0956ced7-37cd-4004-96c2-c1248f387ab0",
   "metadata": {},
   "outputs": [
    {
     "name": "stdin",
     "output_type": "stream",
     "text": [
      "Enter a string:  my name is rizwan\n"
     ]
    },
    {
     "name": "stdout",
     "output_type": "stream",
     "text": [
      "The number of vowels in the string is: 5\n"
     ]
    }
   ],
   "source": [
    "input_string = input(\"Enter a string: \")\n",
    "\n",
    "vowel_count = 0\n",
    "\n",
    "vowels = set(\"AEIOUaeiou\")\n",
    "\n",
    "for char in input_string:\n",
    "    if char in vowels:\n",
    "        vowel_count += 1\n",
    "\n",
    "print(\"The number of vowels in the string is:\", vowel_count)\n"
   ]
  },
  {
   "cell_type": "markdown",
   "id": "b917b1cb-9e6c-471f-a60f-19b937425ea5",
   "metadata": {},
   "source": [
    "12. Create a Python program that generates a multiplication table for a given number using a for loop."
   ]
  },
  {
   "cell_type": "code",
   "execution_count": 29,
   "id": "d6b8ea06-c86a-462e-84c2-7019b7af6419",
   "metadata": {},
   "outputs": [
    {
     "name": "stdin",
     "output_type": "stream",
     "text": [
      "Enter a number:  4\n",
      "Enter the limit for the multiplication table:  10\n"
     ]
    },
    {
     "name": "stdout",
     "output_type": "stream",
     "text": [
      "Multiplication table for 4 up to 10:\n",
      "4 x 1 = 4\n",
      "4 x 2 = 8\n",
      "4 x 3 = 12\n",
      "4 x 4 = 16\n",
      "4 x 5 = 20\n",
      "4 x 6 = 24\n",
      "4 x 7 = 28\n",
      "4 x 8 = 32\n",
      "4 x 9 = 36\n",
      "4 x 10 = 40\n"
     ]
    }
   ],
   "source": [
    "number = int(input(\"Enter a number: \"))\n",
    "\n",
    "limit = int(input(\"Enter the limit for the multiplication table: \"))\n",
    "\n",
    "print(f\"Multiplication table for {number} up to {limit}:\")\n",
    "\n",
    "for i in range(1, limit + 1):\n",
    "    result = number * i\n",
    "    print(f\"{number} x {i} = {result}\")\n"
   ]
  },
  {
   "cell_type": "markdown",
   "id": "3a52fbdf-c5c5-4a13-96a6-7208d179ac92",
   "metadata": {},
   "source": [
    "13. Write a Python program to reverse a list using a for loop."
   ]
  },
  {
   "cell_type": "code",
   "execution_count": 30,
   "id": "2e1c639a-e876-4d3b-9bf2-75e43ba5d1a5",
   "metadata": {},
   "outputs": [
    {
     "name": "stdout",
     "output_type": "stream",
     "text": [
      "Original List: [1, 2, 3, 4, 5]\n",
      "Reversed List: [5, 4, 3, 2, 1]\n"
     ]
    }
   ],
   "source": [
    "original_list = [1, 2, 3, 4, 5]\n",
    "\n",
    "reversed_list = []\n",
    "\n",
    "for item in original_list:\n",
    "    reversed_list.insert(0, item)\n",
    "\n",
    "print(\"Original List:\", original_list)\n",
    "print(\"Reversed List:\", reversed_list)\n"
   ]
  },
  {
   "cell_type": "markdown",
   "id": "07f2fa59-ad72-41ec-a5d7-21234850f5fb",
   "metadata": {},
   "source": [
    "14. Write a Python program to find the common elements between two lists using a for loop."
   ]
  },
  {
   "cell_type": "code",
   "execution_count": 31,
   "id": "9f5b5ba8-fd5e-47b6-b981-0356a229657c",
   "metadata": {},
   "outputs": [
    {
     "name": "stdout",
     "output_type": "stream",
     "text": [
      "Common elements between list1 and list2: [3, 4, 5]\n"
     ]
    }
   ],
   "source": [
    "list1 = [1, 2, 3, 4, 5]\n",
    "list2 = [3, 4, 5, 6, 7]\n",
    "\n",
    "common_elements = []\n",
    "\n",
    "for item1 in list1:\n",
    "    for item2 in list2:\n",
    "        if item1 == item2:\n",
    "            common_elements.append(item1)\n",
    "\n",
    "print(\"Common elements between list1 and list2:\", common_elements)\n"
   ]
  },
  {
   "cell_type": "markdown",
   "id": "e434c7f2-1a52-4804-94c1-832965d0b720",
   "metadata": {},
   "source": [
    "15. Explain how to use a for loop to iterate through the keys and values of a dictionary in Python."
   ]
  },
  {
   "cell_type": "code",
   "execution_count": 32,
   "id": "8cfbe006-fa1a-4392-aa31-70ee261c70bd",
   "metadata": {},
   "outputs": [
    {
     "name": "stdout",
     "output_type": "stream",
     "text": [
      "Key: Name, Value: Rizwan\n",
      "Key: Age, Value: 30\n",
      "Key: City, Value: Bhopal\n",
      "Key: Mentor, Value: Sudhanshu\n"
     ]
    }
   ],
   "source": [
    "my_dict = {\"Name\": \"Rizwan\", \"Age\": 30, \"City\": \"Bhopal\", \"Mentor\": \"Sudhanshu\"}\n",
    "\n",
    "for key, value in my_dict.items():\n",
    "    print(f\"Key: {key}, Value: {value}\")\n"
   ]
  },
  {
   "cell_type": "markdown",
   "id": "aeebad1f-75e4-412e-9565-699e3e7d8e5e",
   "metadata": {},
   "source": [
    "16. Write a Python program to find the GCD (Greatest Common Divisor) of two numbers using a for loop."
   ]
  },
  {
   "cell_type": "code",
   "execution_count": 33,
   "id": "43ea1adb-c3d1-4034-9f67-6bf3ad029a41",
   "metadata": {},
   "outputs": [
    {
     "name": "stdin",
     "output_type": "stream",
     "text": [
      "Enter the first number:  4\n",
      "Enter the second number:  8\n"
     ]
    },
    {
     "name": "stdout",
     "output_type": "stream",
     "text": [
      "The Greatest Common Divisor (GCD) of 4 and 0 is 4\n"
     ]
    }
   ],
   "source": [
    "num1 = int(input(\"Enter the first number: \"))\n",
    "num2 = int(input(\"Enter the second number: \"))\n",
    "\n",
    "if num1 < num2:\n",
    "    num1, num2 = num2, num1\n",
    "\n",
    "while num2 > 0:\n",
    "    remainder = num1 % num2\n",
    "    num1, num2 = num2, remainder\n",
    "\n",
    "gcd = num1\n",
    "\n",
    "print(f\"The Greatest Common Divisor (GCD) of {num1} and {num2} is {gcd}\")\n"
   ]
  },
  {
   "cell_type": "markdown",
   "id": "bc459ffb-dec7-431d-bf05-7ff4a822382f",
   "metadata": {},
   "source": [
    "17. Create a Python program that checks if a string is a palindrome using a for loop."
   ]
  },
  {
   "cell_type": "code",
   "execution_count": 35,
   "id": "3a66f1d0-45cd-4d77-87e2-109eef5794a5",
   "metadata": {},
   "outputs": [
    {
     "name": "stdin",
     "output_type": "stream",
     "text": [
      "Enter a string:  rizwan\n"
     ]
    },
    {
     "name": "stdout",
     "output_type": "stream",
     "text": [
      "'rizwan' is not a palindrome.\n"
     ]
    }
   ],
   "source": [
    "input_string = input(\"Enter a string: \")\n",
    "\n",
    "cleaned_string = input_string.replace(\" \", \"\").lower()\n",
    "\n",
    "is_palindrome = True\n",
    "\n",
    "for i in range(len(cleaned_string) // 2):\n",
    "    if cleaned_string[i] != cleaned_string[-(i + 1)]:\n",
    "        is_palindrome = False\n",
    "        break\n",
    "\n",
    "if is_palindrome:\n",
    "    print(f\"'{input_string}' is a palindrome.\")\n",
    "else:\n",
    "    print(f\"'{input_string}' is not a palindrome.\")\n"
   ]
  },
  {
   "cell_type": "markdown",
   "id": "e8561820-870d-4f6c-bfc6-a1cd03bd6e8d",
   "metadata": {},
   "source": [
    "18. Write a Python program to remove duplicates from a list using a for loop."
   ]
  },
  {
   "cell_type": "code",
   "execution_count": 36,
   "id": "060130c3-76eb-41c7-844e-6b667d979db2",
   "metadata": {},
   "outputs": [
    {
     "name": "stdout",
     "output_type": "stream",
     "text": [
      "Original List: [1, 2, 2, 3, 4, 4, 5, 5]\n",
      "List with Duplicates Removed: [1, 2, 3, 4, 5]\n"
     ]
    }
   ],
   "source": [
    "original_list = [1, 2, 2, 3, 4, 4, 5, 5]\n",
    "\n",
    "unique_list = []\n",
    "\n",
    "for item in original_list:\n",
    "    if item not in unique_list:\n",
    "        unique_list.append(item)\n",
    "\n",
    "print(\"Original List:\", original_list)\n",
    "print(\"List with Duplicates Removed:\", unique_list)\n"
   ]
  },
  {
   "cell_type": "markdown",
   "id": "f9f00de8-a87f-4fdd-9959-7c296aed4fbb",
   "metadata": {},
   "source": [
    "19. Create a Python program that counts the number of words in a sentence using a for loop."
   ]
  },
  {
   "cell_type": "code",
   "execution_count": 37,
   "id": "edd4d245-6e95-4aa5-921d-0174a61887c5",
   "metadata": {},
   "outputs": [
    {
     "name": "stdin",
     "output_type": "stream",
     "text": [
      "Enter a sentence:  i am pursuing the full stack data science course\n"
     ]
    },
    {
     "name": "stdout",
     "output_type": "stream",
     "text": [
      "The number of words in the sentence is: 9\n"
     ]
    }
   ],
   "source": [
    "sentence = input(\"Enter a sentence: \")\n",
    "\n",
    "word_count = 0\n",
    "\n",
    "for char in sentence:\n",
    "    if char == ' ' or char == '\\n':\n",
    "        word_count += 1\n",
    "\n",
    "word_count += 1\n",
    "\n",
    "print(f\"The number of words in the sentence is: {word_count}\")\n"
   ]
  },
  {
   "cell_type": "markdown",
   "id": "f7c0f760-8bb1-41f3-a315-06727cb8f481",
   "metadata": {},
   "source": [
    "20. Write a Python program to find the sum of all odd numbers from 1 to 50 using a for loop."
   ]
  },
  {
   "cell_type": "code",
   "execution_count": 38,
   "id": "d9b26299-ab20-4e03-8ef7-afb66e750ac4",
   "metadata": {},
   "outputs": [
    {
     "name": "stdout",
     "output_type": "stream",
     "text": [
      "The sum of odd numbers from 1 to 50 is: 625\n"
     ]
    }
   ],
   "source": [
    "odd_sum = 0\n",
    "\n",
    "for number in range(1, 51):\n",
    "    if number % 2 != 0: \n",
    "        odd_sum += number\n",
    "\n",
    "print(\"The sum of odd numbers from 1 to 50 is:\", odd_sum)\n"
   ]
  },
  {
   "cell_type": "markdown",
   "id": "f9bbc62c-1c33-45e2-8356-d6345d4f6822",
   "metadata": {},
   "source": [
    "21. Write a Python program that checks if a given year is a leap year using a for loop."
   ]
  },
  {
   "cell_type": "code",
   "execution_count": 39,
   "id": "872237dd-b5d6-420b-89c9-ab0f24514a80",
   "metadata": {},
   "outputs": [
    {
     "name": "stdin",
     "output_type": "stream",
     "text": [
      "Enter a year:  2023\n"
     ]
    },
    {
     "name": "stdout",
     "output_type": "stream",
     "text": [
      "2023 is not a leap year.\n"
     ]
    }
   ],
   "source": [
    "year = int(input(\"Enter a year: \"))\n",
    "\n",
    "if (year % 4 == 0 and year % 100 != 0) or (year % 400 == 0):\n",
    "    print(f\"{year} is a leap year.\")\n",
    "else:\n",
    "    print(f\"{year} is not a leap year.\")\n"
   ]
  },
  {
   "cell_type": "markdown",
   "id": "88093579-cb03-4ddb-ba3b-5d066d07655a",
   "metadata": {},
   "source": [
    "22. Create a Python program that calculates the square root of a number using a for loop."
   ]
  },
  {
   "cell_type": "code",
   "execution_count": 40,
   "id": "37f3c536-d894-4070-8ac7-b25441b150f7",
   "metadata": {},
   "outputs": [
    {
     "name": "stdin",
     "output_type": "stream",
     "text": [
      "Enter a number:  5\n",
      "Enter the number of iterations for approximation:  9\n"
     ]
    },
    {
     "name": "stdout",
     "output_type": "stream",
     "text": [
      "The approximate square root of 5.0 after 9 iterations is: 2.23606797749979\n"
     ]
    }
   ],
   "source": [
    "num = float(input(\"Enter a number: \"))\n",
    "\n",
    "iterations = int(input(\"Enter the number of iterations for approximation: \"))\n",
    "\n",
    "sqrt_approximation = num / 2  \n",
    "\n",
    "for _ in range(iterations):\n",
    "    sqrt_approximation = 0.5 * (sqrt_approximation + (num / sqrt_approximation))\n",
    "\n",
    "print(f\"The approximate square root of {num} after {iterations} iterations is:\", sqrt_approximation)\n"
   ]
  },
  {
   "cell_type": "markdown",
   "id": "664e39e9-5bd3-4e36-8a29-89a0928072bf",
   "metadata": {},
   "source": [
    "23. Write a Python program to find the LCM (Least Common Multiple) of two numbers using a for loop."
   ]
  },
  {
   "cell_type": "code",
   "execution_count": 42,
   "id": "30435fce-538b-4101-a4e8-45968b2016cd",
   "metadata": {},
   "outputs": [
    {
     "name": "stdin",
     "output_type": "stream",
     "text": [
      "Enter the first number:  2\n",
      "Enter the second number:  8\n"
     ]
    },
    {
     "name": "stdout",
     "output_type": "stream",
     "text": [
      "The LCM of 2 and 8 is: 8\n"
     ]
    }
   ],
   "source": [
    "num1 = int(input(\"Enter the first number: \"))\n",
    "num2 = int(input(\"Enter the second number: \"))\n",
    "\n",
    "def gcd(a, b):\n",
    "    while b:\n",
    "        a, b = b, a % b\n",
    "    return a\n",
    "\n",
    "lcm = (num1 * num2) // gcd(num1, num2)\n",
    "\n",
    "print(f\"The LCM of {num1} and {num2} is:\", lcm)\n"
   ]
  },
  {
   "cell_type": "code",
   "execution_count": null,
   "id": "15799589-5a71-47d5-9b7b-45f2279eca1f",
   "metadata": {},
   "outputs": [],
   "source": []
  },
  {
   "cell_type": "markdown",
   "id": "78509452-2598-4783-9035-4e136fad4247",
   "metadata": {},
   "source": [
    "If else :"
   ]
  },
  {
   "cell_type": "code",
   "execution_count": null,
   "id": "d83de13c-2433-41a3-9774-408b9736d836",
   "metadata": {},
   "outputs": [],
   "source": []
  },
  {
   "cell_type": "markdown",
   "id": "3bc7a9f9-80d5-41cf-9d32-098432e361da",
   "metadata": {},
   "source": [
    "1. Write a Python program to check if a number is positive, negative, or zero using an if-else statement."
   ]
  },
  {
   "cell_type": "code",
   "execution_count": 43,
   "id": "d3053ea4-a7db-41eb-a146-f486b097f666",
   "metadata": {},
   "outputs": [
    {
     "name": "stdin",
     "output_type": "stream",
     "text": [
      "Enter a number:  4\n"
     ]
    },
    {
     "name": "stdout",
     "output_type": "stream",
     "text": [
      "The number is positive.\n"
     ]
    }
   ],
   "source": [
    "number = float(input(\"Enter a number: \"))\n",
    "\n",
    "if number > 0:\n",
    "    print(\"The number is positive.\")\n",
    "elif number < 0:\n",
    "    print(\"The number is negative.\")\n",
    "else:\n",
    "    print(\"The number is zero.\")\n"
   ]
  },
  {
   "cell_type": "code",
   "execution_count": 44,
   "id": "4bd976e9-9fd8-4f8f-914f-983d1fc292ae",
   "metadata": {},
   "outputs": [
    {
     "name": "stdin",
     "output_type": "stream",
     "text": [
      "Enter a number:  -8\n"
     ]
    },
    {
     "name": "stdout",
     "output_type": "stream",
     "text": [
      "The number is negative.\n"
     ]
    }
   ],
   "source": [
    "number = float(input(\"Enter a number: \"))\n",
    "\n",
    "if number > 0:\n",
    "    print(\"The number is positive.\")\n",
    "elif number < 0:\n",
    "    print(\"The number is negative.\")\n",
    "else:\n",
    "    print(\"The number is zero.\")\n"
   ]
  },
  {
   "cell_type": "markdown",
   "id": "c7a69a0b-ff37-4812-9801-ed858968f870",
   "metadata": {},
   "source": [
    "2. Create a Python program that checks if a given number is even or odd using an if-else statement."
   ]
  },
  {
   "cell_type": "code",
   "execution_count": 45,
   "id": "1a9f8c7c-6e3b-4ac2-949a-696b26c4e326",
   "metadata": {},
   "outputs": [
    {
     "name": "stdin",
     "output_type": "stream",
     "text": [
      "Enter a number:  4\n"
     ]
    },
    {
     "name": "stdout",
     "output_type": "stream",
     "text": [
      "4 is even.\n"
     ]
    }
   ],
   "source": [
    "number = int(input(\"Enter a number: \"))\n",
    "\n",
    "if number % 2 == 0:\n",
    "    print(f\"{number} is even.\")\n",
    "else:\n",
    "    print(f\"{number} is odd.\")\n"
   ]
  },
  {
   "cell_type": "code",
   "execution_count": 46,
   "id": "17444f7a-c895-453b-8586-71c4692dd51d",
   "metadata": {},
   "outputs": [
    {
     "name": "stdin",
     "output_type": "stream",
     "text": [
      "Enter a number:  5\n"
     ]
    },
    {
     "name": "stdout",
     "output_type": "stream",
     "text": [
      "5 is odd.\n"
     ]
    }
   ],
   "source": [
    "number = int(input(\"Enter a number: \"))\n",
    "\n",
    "if number % 2 == 0:\n",
    "    print(f\"{number} is even.\")\n",
    "else:\n",
    "    print(f\"{number} is odd.\")\n"
   ]
  },
  {
   "cell_type": "markdown",
   "id": "8e0dd3bf-c977-4ce4-bbd1-ff95eefe34a2",
   "metadata": {},
   "source": [
    "3. How can you use nested if-else statements in Python, and provide an example?"
   ]
  },
  {
   "cell_type": "code",
   "execution_count": 47,
   "id": "668674ac-5abe-448a-a74b-2cac4570263d",
   "metadata": {},
   "outputs": [
    {
     "ename": "IndentationError",
     "evalue": "expected an indented block after 'if' statement on line 3 (3105557325.py, line 5)",
     "output_type": "error",
     "traceback": [
      "\u001b[0;36m  Cell \u001b[0;32mIn[47], line 5\u001b[0;36m\u001b[0m\n\u001b[0;31m    else:\u001b[0m\n\u001b[0m    ^\u001b[0m\n\u001b[0;31mIndentationError\u001b[0m\u001b[0;31m:\u001b[0m expected an indented block after 'if' statement on line 3\n"
     ]
    }
   ],
   "source": [
    "if condition1:\n",
    "    # Code to execute if condition1 is True\n",
    "    if condition2:\n",
    "        # Code to execute if condition1 and condition2 are True\n",
    "    else:\n",
    "        # Code to execute if condition1 is True and condition2 is False\n",
    "else:\n",
    "    # Code to execute if condition1 is False\n"
   ]
  },
  {
   "cell_type": "code",
   "execution_count": 48,
   "id": "4ebbd8b7-5f57-4e14-a2c4-8f53b770ad6f",
   "metadata": {},
   "outputs": [
    {
     "name": "stdin",
     "output_type": "stream",
     "text": [
      "Enter a number:  7\n"
     ]
    },
    {
     "name": "stdout",
     "output_type": "stream",
     "text": [
      "The number is positive.\n"
     ]
    }
   ],
   "source": [
    "# Input: Get a number from the user\n",
    "number = int(input(\"Enter a number: \"))\n",
    "\n",
    "# Check if the number is positive, negative, or zero using nested if-else\n",
    "if number > 0:\n",
    "    print(\"The number is positive.\")\n",
    "elif number < 0:\n",
    "    print(\"The number is negative.\")\n",
    "else:\n",
    "    print(\"The number is zero.\")\n"
   ]
  },
  {
   "cell_type": "markdown",
   "id": "f5f27ab6-94a7-4e52-8940-8d148fa46ab3",
   "metadata": {},
   "source": [
    "4. Write a Python program to determine the largest of three numbers using if-else."
   ]
  },
  {
   "cell_type": "code",
   "execution_count": 49,
   "id": "df6551f9-aedc-479f-ae9c-451331a0a1df",
   "metadata": {},
   "outputs": [
    {
     "name": "stdin",
     "output_type": "stream",
     "text": [
      "Enter the first number:  2\n",
      "Enter the second number:  3\n",
      "Enter the third number:  4\n"
     ]
    },
    {
     "name": "stdout",
     "output_type": "stream",
     "text": [
      "The largest number among 2.0, 3.0, and 4.0 is: 4.0\n"
     ]
    }
   ],
   "source": [
    "num1 = float(input(\"Enter the first number: \"))\n",
    "num2 = float(input(\"Enter the second number: \"))\n",
    "num3 = float(input(\"Enter the third number: \"))\n",
    "\n",
    "if num1 >= num2 and num1 >= num3:\n",
    "    largest = num1\n",
    "elif num2 >= num1 and num2 >= num3:\n",
    "    largest = num2\n",
    "else:\n",
    "    largest = num3\n",
    "\n",
    "print(f\"The largest number among {num1}, {num2}, and {num3} is: {largest}\")\n"
   ]
  },
  {
   "cell_type": "markdown",
   "id": "22ddb9e4-a669-4cb1-a0cd-a19c0ebc3569",
   "metadata": {},
   "source": [
    "5. Write a Python program that calculates the absolute value of a number using if-else."
   ]
  },
  {
   "cell_type": "code",
   "execution_count": 50,
   "id": "cad2eb97-f877-4b56-b3f9-10ab08fe926c",
   "metadata": {},
   "outputs": [
    {
     "name": "stdin",
     "output_type": "stream",
     "text": [
      "Enter a number:  6\n"
     ]
    },
    {
     "name": "stdout",
     "output_type": "stream",
     "text": [
      "The absolute value of 6.0 is: 6.0\n"
     ]
    }
   ],
   "source": [
    "number = float(input(\"Enter a number: \"))\n",
    "\n",
    "if number < 0:\n",
    "    absolute_value = -number \n",
    "else:\n",
    "    absolute_value = number  \n",
    "\n",
    "print(f\"The absolute value of {number} is: {absolute_value}\")\n"
   ]
  },
  {
   "cell_type": "markdown",
   "id": "3ab02ce9-add0-4ea5-b164-528c506c0cc2",
   "metadata": {},
   "source": [
    "6. Create a Python program that checks if a given character is a vowel or consonant using if-else."
   ]
  },
  {
   "cell_type": "code",
   "execution_count": 52,
   "id": "db9bc493-ee4f-4dd0-8ef2-7a31c61a6a05",
   "metadata": {},
   "outputs": [
    {
     "name": "stdin",
     "output_type": "stream",
     "text": [
      "Enter a character:  r\n"
     ]
    },
    {
     "name": "stdout",
     "output_type": "stream",
     "text": [
      "r is a consonant.\n"
     ]
    }
   ],
   "source": [
    "char = input(\"Enter a character: \")\n",
    "\n",
    "if char.isalpha() and len(char) == 1:\n",
    "    char = char.lower()  \n",
    "    if char in \"aeiou\":\n",
    "        print(f\"{char} is a vowel.\")\n",
    "    else:\n",
    "        print(f\"{char} is a consonant.\")\n",
    "else:\n",
    "    print(\"Invalid input. Please enter a single character.\")\n"
   ]
  },
  {
   "cell_type": "markdown",
   "id": "71c7933b-c4cd-4638-b2a6-cbb563611e19",
   "metadata": {},
   "source": [
    "7. Write a Python program to determine if a user is eligible to vote based on their age using if-else."
   ]
  },
  {
   "cell_type": "code",
   "execution_count": 53,
   "id": "cbe3fd40-88e1-4720-a7f8-12a738a5dc9d",
   "metadata": {},
   "outputs": [
    {
     "name": "stdin",
     "output_type": "stream",
     "text": [
      "Enter your age:  30\n"
     ]
    },
    {
     "name": "stdout",
     "output_type": "stream",
     "text": [
      "You are eligible to vote.\n"
     ]
    }
   ],
   "source": [
    "age = int(input(\"Enter your age: \"))\n",
    "\n",
    "if age >= 18:\n",
    "    print(\"You are eligible to vote.\")\n",
    "else:\n",
    "    print(\"You are not eligible to vote yet.\")\n"
   ]
  },
  {
   "cell_type": "markdown",
   "id": "890aa576-fa6a-4049-ad4e-06093b1531dc",
   "metadata": {},
   "source": [
    "8. Create a Python program that calculates the discount amount based on the purchase amount using if-else."
   ]
  },
  {
   "cell_type": "code",
   "execution_count": 54,
   "id": "7f3a0c9c-3c7f-4965-ba50-3d55e36ae54e",
   "metadata": {},
   "outputs": [
    {
     "name": "stdin",
     "output_type": "stream",
     "text": [
      "Enter the purchase amount:  1000\n"
     ]
    },
    {
     "name": "stdout",
     "output_type": "stream",
     "text": [
      "You received a 10.0% discount of $100.00.\n"
     ]
    }
   ],
   "source": [
    "purchase_amount = float(input(\"Enter the purchase amount: \"))\n",
    "\n",
    "discount_rate = 0\n",
    "discount_amount = 0\n",
    "\n",
    "if purchase_amount >= 100:\n",
    "    discount_rate = 0.1  \n",
    "elif purchase_amount >= 50:\n",
    "    discount_rate = 0.05 \n",
    "\n",
    "discount_amount = purchase_amount * discount_rate\n",
    "\n",
    "if discount_rate > 0:\n",
    "    print(f\"You received a {discount_rate * 100}% discount of ${discount_amount:.2f}.\")\n",
    "else:\n",
    "    print(\"Sorry, no discount applied to your purchase.\")\n"
   ]
  },
  {
   "cell_type": "markdown",
   "id": "4c6d8ac5-baaf-4ea5-aa9b-74f52785e9f8",
   "metadata": {},
   "source": [
    "9. Write a Python program to check if a number is within a specified range using if-else."
   ]
  },
  {
   "cell_type": "code",
   "execution_count": 56,
   "id": "a10f165c-5b0f-465e-b5d4-93aa0a248275",
   "metadata": {},
   "outputs": [
    {
     "name": "stdin",
     "output_type": "stream",
     "text": [
      "Enter a number:  12\n"
     ]
    },
    {
     "name": "stdout",
     "output_type": "stream",
     "text": [
      "12.0 is within the specified range (10 - 50).\n"
     ]
    }
   ],
   "source": [
    "number = float(input(\"Enter a number: \"))\n",
    "\n",
    "min_range = 10\n",
    "max_range = 50\n",
    "\n",
    "if number >= min_range and number <= max_range:\n",
    "    print(f\"{number} is within the specified range ({min_range} - {max_range}).\")\n",
    "else:\n",
    "    print(f\"{number} is outside the specified range ({min_range} - {max_range}).\")\n"
   ]
  },
  {
   "cell_type": "markdown",
   "id": "9c375bf1-b5d3-45ae-a84f-3a9a57061567",
   "metadata": {},
   "source": [
    "10. Create a Python program that determines the grade of a student based on their score using if-else."
   ]
  },
  {
   "cell_type": "code",
   "execution_count": 57,
   "id": "9132139e-3c86-4614-b1a7-c76f4eb4da89",
   "metadata": {},
   "outputs": [
    {
     "name": "stdin",
     "output_type": "stream",
     "text": [
      "Enter the student's score:  78\n"
     ]
    },
    {
     "name": "stdout",
     "output_type": "stream",
     "text": [
      "The student's grade is: C\n"
     ]
    }
   ],
   "source": [
    "score = int(input(\"Enter the student's score: \"))\n",
    "\n",
    "if score >= 90:\n",
    "    grade = \"A\"\n",
    "elif score >= 80:\n",
    "    grade = \"B\"\n",
    "elif score >= 70:\n",
    "    grade = \"C\"\n",
    "elif score >= 60:\n",
    "    grade = \"D\"\n",
    "else:\n",
    "    grade = \"F\"\n",
    "\n",
    "print(f\"The student's grade is: {grade}\")\n"
   ]
  },
  {
   "cell_type": "markdown",
   "id": "295ba849-2dc6-4eca-bd61-357ab11e35db",
   "metadata": {},
   "source": [
    "11. Write a Python program to check if a string is empty or not using if-else."
   ]
  },
  {
   "cell_type": "code",
   "execution_count": 58,
   "id": "6f079b7b-36ab-4d7e-90ec-dff1c475c537",
   "metadata": {},
   "outputs": [
    {
     "name": "stdin",
     "output_type": "stream",
     "text": [
      "Enter a string:  pwskills\n"
     ]
    },
    {
     "name": "stdout",
     "output_type": "stream",
     "text": [
      "The string is not empty.\n"
     ]
    }
   ],
   "source": [
    "user_input = input(\"Enter a string: \")\n",
    "\n",
    "if user_input:\n",
    "    print(\"The string is not empty.\")\n",
    "else:\n",
    "    print(\"The string is empty.\")\n"
   ]
  },
  {
   "cell_type": "markdown",
   "id": "3da61a15-e5dd-4c05-99a6-5860a44880ac",
   "metadata": {},
   "source": [
    "12. Create a Python program that identifies the type of a triangle (e.g., equilateral, isosceles, or scalene) based on input values using if-else."
   ]
  },
  {
   "cell_type": "code",
   "execution_count": 60,
   "id": "e714d584-7f5e-49c7-bbfa-44540f58377d",
   "metadata": {},
   "outputs": [
    {
     "name": "stdin",
     "output_type": "stream",
     "text": [
      "Enter the length of side 1:  4\n",
      "Enter the length of side 2:  6\n",
      "Enter the length of side 3:  7\n"
     ]
    },
    {
     "name": "stdout",
     "output_type": "stream",
     "text": [
      "The triangle is a Scalene triangle.\n"
     ]
    }
   ],
   "source": [
    "side1 = float(input(\"Enter the length of side 1: \"))\n",
    "side2 = float(input(\"Enter the length of side 2: \"))\n",
    "side3 = float(input(\"Enter the length of side 3: \"))\n",
    "\n",
    "if side1 == side2 and side2 == side3:\n",
    "    triangle_type = \"Equilateral\"\n",
    "elif side1 == side2 or side1 == side3 or side2 == side3:\n",
    "    triangle_type = \"Isosceles\"\n",
    "else:\n",
    "    triangle_type = \"Scalene\"\n",
    "\n",
    "print(f\"The triangle is a {triangle_type} triangle.\")\n"
   ]
  },
  {
   "cell_type": "markdown",
   "id": "72018e81-2e37-4956-925a-1b14595723c1",
   "metadata": {},
   "source": [
    "13. Write a Python program to determine the day of the week based on a user-provided number using if-else."
   ]
  },
  {
   "cell_type": "code",
   "execution_count": 61,
   "id": "5715b755-7e04-4ecd-9dcc-53531b9d7bff",
   "metadata": {},
   "outputs": [
    {
     "name": "stdin",
     "output_type": "stream",
     "text": [
      "Enter a number (1-7) representing the day of the week:  3\n"
     ]
    },
    {
     "name": "stdout",
     "output_type": "stream",
     "text": [
      "The day of the week for 3 is: Wednesday\n"
     ]
    }
   ],
   "source": [
    "day_number = int(input(\"Enter a number (1-7) representing the day of the week: \"))\n",
    "\n",
    "if day_number == 1:\n",
    "    day_name = \"Monday\"\n",
    "elif day_number == 2:\n",
    "    day_name = \"Tuesday\"\n",
    "elif day_number == 3:\n",
    "    day_name = \"Wednesday\"\n",
    "elif day_number == 4:\n",
    "    day_name = \"Thursday\"\n",
    "elif day_number == 5:\n",
    "    day_name = \"Friday\"\n",
    "elif day_number == 6:\n",
    "    day_name = \"Saturday\"\n",
    "elif day_number == 7:\n",
    "    day_name = \"Sunday\"\n",
    "else:\n",
    "    day_name = \"Invalid input. Please enter a number between 1 and 7.\"\n",
    "\n",
    "\n",
    "print(f\"The day of the week for {day_number} is: {day_name}\")\n"
   ]
  },
  {
   "cell_type": "markdown",
   "id": "a59d880f-dbec-4540-898e-873cf32d6aad",
   "metadata": {},
   "source": [
    "14. Create a Python program that checks if a given year is a leap year using both if-else and a function."
   ]
  },
  {
   "cell_type": "code",
   "execution_count": 62,
   "id": "22c04932-2c7f-4a01-b2cc-395f6afb08d2",
   "metadata": {},
   "outputs": [
    {
     "name": "stdin",
     "output_type": "stream",
     "text": [
      "Enter a year:  2022\n"
     ]
    },
    {
     "name": "stdout",
     "output_type": "stream",
     "text": [
      "2022 is not a leap year.\n"
     ]
    }
   ],
   "source": [
    "def is_leap_year(year):\n",
    "    if (year % 4 == 0 and year % 100 != 0) or (year % 400 == 0):\n",
    "        return True\n",
    "    else:\n",
    "        return False\n",
    "\n",
    "year = int(input(\"Enter a year: \"))\n",
    "\n",
    "if is_leap_year(year):\n",
    "    print(f\"{year} is a leap year.\")\n",
    "else:\n",
    "    print(f\"{year} is not a leap year.\")\n"
   ]
  },
  {
   "cell_type": "markdown",
   "id": "f36e792a-4e4e-4b33-9928-bd1c17d408ce",
   "metadata": {},
   "source": [
    "15. How do you use the \"assert\" statement in Python to add debugging checks within if-else blocks?"
   ]
  },
  {
   "cell_type": "code",
   "execution_count": 65,
   "id": "efb02e46-2c9e-47cd-941c-b924fad15133",
   "metadata": {},
   "outputs": [
    {
     "name": "stdout",
     "output_type": "stream",
     "text": [
      "The number 5 is positive.\n"
     ]
    },
    {
     "ename": "AssertionError",
     "evalue": "Number should be positive",
     "output_type": "error",
     "traceback": [
      "\u001b[0;31m---------------------------------------------------------------------------\u001b[0m",
      "\u001b[0;31mAssertionError\u001b[0m                            Traceback (most recent call last)",
      "Cell \u001b[0;32mIn[65], line 7\u001b[0m\n\u001b[1;32m      4\u001b[0m     \u001b[38;5;28mprint\u001b[39m(\u001b[38;5;124mf\u001b[39m\u001b[38;5;124m\"\u001b[39m\u001b[38;5;124mThe number \u001b[39m\u001b[38;5;132;01m{\u001b[39;00mnumber\u001b[38;5;132;01m}\u001b[39;00m\u001b[38;5;124m is positive.\u001b[39m\u001b[38;5;124m\"\u001b[39m)\n\u001b[1;32m      6\u001b[0m check_positive(\u001b[38;5;241m5\u001b[39m) \n\u001b[0;32m----> 7\u001b[0m \u001b[43mcheck_positive\u001b[49m\u001b[43m(\u001b[49m\u001b[38;5;241;43m-\u001b[39;49m\u001b[38;5;241;43m2\u001b[39;49m\u001b[43m)\u001b[49m\n",
      "Cell \u001b[0;32mIn[65], line 2\u001b[0m, in \u001b[0;36mcheck_positive\u001b[0;34m(number)\u001b[0m\n\u001b[1;32m      1\u001b[0m \u001b[38;5;28;01mdef\u001b[39;00m \u001b[38;5;21mcheck_positive\u001b[39m(number):\n\u001b[0;32m----> 2\u001b[0m     \u001b[38;5;28;01massert\u001b[39;00m number \u001b[38;5;241m>\u001b[39m \u001b[38;5;241m0\u001b[39m, \u001b[38;5;124m\"\u001b[39m\u001b[38;5;124mNumber should be positive\u001b[39m\u001b[38;5;124m\"\u001b[39m\n\u001b[1;32m      4\u001b[0m     \u001b[38;5;28mprint\u001b[39m(\u001b[38;5;124mf\u001b[39m\u001b[38;5;124m\"\u001b[39m\u001b[38;5;124mThe number \u001b[39m\u001b[38;5;132;01m{\u001b[39;00mnumber\u001b[38;5;132;01m}\u001b[39;00m\u001b[38;5;124m is positive.\u001b[39m\u001b[38;5;124m\"\u001b[39m)\n",
      "\u001b[0;31mAssertionError\u001b[0m: Number should be positive"
     ]
    }
   ],
   "source": [
    "def check_positive(number):\n",
    "    assert number > 0, \"Number should be positive\"\n",
    "    \n",
    "    print(f\"The number {number} is positive.\")\n",
    "\n",
    "check_positive(5) \n",
    "check_positive(-2)\n"
   ]
  },
  {
   "cell_type": "markdown",
   "id": "f4c0bd60-fab0-4b61-ad33-007a3f1e6c84",
   "metadata": {},
   "source": [
    "16. Create a Python program that determines the eligibility of a person for a senior citizen discount based on age using if-else."
   ]
  },
  {
   "cell_type": "code",
   "execution_count": 67,
   "id": "45cc4ee6-c1d4-4f9b-a635-165eab95a9dd",
   "metadata": {},
   "outputs": [
    {
     "name": "stdin",
     "output_type": "stream",
     "text": [
      "Enter your age:  60\n"
     ]
    },
    {
     "name": "stdout",
     "output_type": "stream",
     "text": [
      "Congratulations! You are eligible for a senior citizen discount.\n"
     ]
    }
   ],
   "source": [
    "age = int(input(\"Enter your age: \"))\n",
    "\n",
    "senior_citizen_age = 60\n",
    "\n",
    "if age >= senior_citizen_age:\n",
    "    print(\"Congratulations! You are eligible for a senior citizen discount.\")\n",
    "else:\n",
    "    print(\"Sorry, you are not eligible for a senior citizen discount.\")\n"
   ]
  },
  {
   "cell_type": "markdown",
   "id": "0ca2d77c-f67a-4c96-8600-59e20ae1a7f2",
   "metadata": {},
   "source": [
    "17. Write a Python program to categorize a given character as uppercase, lowercase, or neither using if-else."
   ]
  },
  {
   "cell_type": "code",
   "execution_count": 68,
   "id": "e4bbf513-efdd-4f90-8c8d-d71f21e049d2",
   "metadata": {},
   "outputs": [
    {
     "name": "stdin",
     "output_type": "stream",
     "text": [
      "Enter a character:  p\n"
     ]
    },
    {
     "name": "stdout",
     "output_type": "stream",
     "text": [
      "The character 'p' is categorized as: Lowercase\n"
     ]
    }
   ],
   "source": [
    "character = input(\"Enter a character: \")\n",
    "\n",
    "if len(character) == 1:\n",
    "    if character.isupper():\n",
    "        category = \"Uppercase\"\n",
    "    elif character.islower():\n",
    "        category = \"Lowercase\"\n",
    "    else:\n",
    "        category = \"Neither uppercase nor lowercase\"\n",
    "else:\n",
    "    category = \"Invalid input. Please enter a single character.\"\n",
    "\n",
    "print(f\"The character '{character}' is categorized as: {category}\")\n"
   ]
  },
  {
   "cell_type": "markdown",
   "id": "6f7d2410-394b-42e2-a7df-95c9ca973e05",
   "metadata": {},
   "source": [
    "18. Write a Python program to determine the roots of a quadratic equation using if-else."
   ]
  },
  {
   "cell_type": "code",
   "execution_count": 69,
   "id": "ee3003d8-8213-4aa1-9e35-87e254c335ed",
   "metadata": {},
   "outputs": [
    {
     "name": "stdin",
     "output_type": "stream",
     "text": [
      "Enter coefficient a:  7\n",
      "Enter coefficient b:  8\n",
      "Enter coefficient c:  9\n"
     ]
    },
    {
     "name": "stdout",
     "output_type": "stream",
     "text": [
      "Roots are complex: -0.5714285714285714 + 0.9793792286287205i and -0.5714285714285714 - 0.9793792286287205i\n"
     ]
    }
   ],
   "source": [
    "a = float(input(\"Enter coefficient a: \"))\n",
    "b = float(input(\"Enter coefficient b: \"))\n",
    "c = float(input(\"Enter coefficient c: \"))\n",
    "\n",
    "discriminant = b**2 - 4*a*c\n",
    "\n",
    "if discriminant > 0:\n",
    "    root1 = (-b + (discriminant**0.5)) / (2*a)\n",
    "    root2 = (-b - (discriminant**0.5)) / (2*a)\n",
    "    print(f\"Roots are real and distinct: {root1} and {root2}\")\n",
    "elif discriminant == 0:\n",
    "    root1 = -b / (2*a)\n",
    "    print(f\"Root is a repeated real root: {root1}\")\n",
    "else:\n",
    "    real_part = -b / (2*a)\n",
    "    imaginary_part = (abs(discriminant)**0.5) / (2*a)\n",
    "    print(f\"Roots are complex: {real_part} + {imaginary_part}i and {real_part} - {imaginary_part}i\")\n"
   ]
  },
  {
   "cell_type": "markdown",
   "id": "82d11bbd-aba7-49f5-b701-f9ac6f2cbc49",
   "metadata": {},
   "source": [
    "19. Create a Python program that checks if a given year is a century year or not using if-else."
   ]
  },
  {
   "cell_type": "code",
   "execution_count": 70,
   "id": "304326d1-8824-421d-8a36-eeb80a7d6403",
   "metadata": {},
   "outputs": [
    {
     "name": "stdin",
     "output_type": "stream",
     "text": [
      "Enter a year:  2023\n"
     ]
    },
    {
     "name": "stdout",
     "output_type": "stream",
     "text": [
      "2023 is not a century year.\n"
     ]
    }
   ],
   "source": [
    "year = int(input(\"Enter a year: \"))\n",
    "\n",
    "if year % 100 == 0:\n",
    "    print(f\"{year} is a century year.\")\n",
    "else:\n",
    "    print(f\"{year} is not a century year.\")\n"
   ]
  },
  {
   "cell_type": "markdown",
   "id": "5e92ecf6-e1ad-468d-8ff3-76552361a843",
   "metadata": {},
   "source": [
    "20. Write a Python program to determine if a given number is a perfect square using if-else."
   ]
  },
  {
   "cell_type": "code",
   "execution_count": 72,
   "id": "cd5aff50-f40a-4611-9e62-f106aa145b44",
   "metadata": {},
   "outputs": [
    {
     "name": "stdin",
     "output_type": "stream",
     "text": [
      "Enter a number:  6\n"
     ]
    },
    {
     "name": "stdout",
     "output_type": "stream",
     "text": [
      "6 is not a perfect square.\n"
     ]
    }
   ],
   "source": [
    "number = int(input(\"Enter a number: \"))\n",
    "\n",
    "square_root = number**0.5\n",
    "\n",
    "if square_root.is_integer():\n",
    "    print(f\"{number} is a perfect square.\")\n",
    "else:\n",
    "    print(f\"{number} is not a perfect square.\")\n"
   ]
  },
  {
   "cell_type": "markdown",
   "id": "a4a3bc7e-c20e-4f18-917b-316458a5ef0a",
   "metadata": {},
   "source": [
    "21. Explain the purpose of the \"continue\" and \"break\" statements within if-else loops."
   ]
  },
  {
   "cell_type": "code",
   "execution_count": 74,
   "id": "05ae57d6-4f85-415b-be92-afdc3093e80b",
   "metadata": {},
   "outputs": [
    {
     "name": "stdout",
     "output_type": "stream",
     "text": [
      "1\n",
      "2\n",
      "4\n",
      "5\n"
     ]
    }
   ],
   "source": [
    "#continue\n",
    "\n",
    "for i in range(1, 6):\n",
    "    if i == 3:\n",
    "        continue  \n",
    "    print(i)\n"
   ]
  },
  {
   "cell_type": "code",
   "execution_count": 75,
   "id": "9198d996-6b9e-43a9-a713-b72c031f96e3",
   "metadata": {},
   "outputs": [
    {
     "name": "stdout",
     "output_type": "stream",
     "text": [
      "1\n",
      "2\n"
     ]
    }
   ],
   "source": [
    "#break\n",
    "\n",
    "i = 1\n",
    "while i <= 5:\n",
    "    if i == 3:\n",
    "        break  \n",
    "    print(i)\n",
    "    i += 1\n"
   ]
  },
  {
   "cell_type": "markdown",
   "id": "9dc9c0be-3b03-4ea0-9bca-75881a068d3e",
   "metadata": {},
   "source": [
    "22. Create a Python program that calculates the BMI (Body Mass Index) of a person based on their weight and height using if-else."
   ]
  },
  {
   "cell_type": "code",
   "execution_count": 77,
   "id": "4b7c55fd-65c9-4192-ab3b-2705c04dd645",
   "metadata": {},
   "outputs": [
    {
     "name": "stdin",
     "output_type": "stream",
     "text": [
      "Enter your weight in kilograms:  69\n",
      "Enter your height in meters:  6\n"
     ]
    },
    {
     "name": "stdout",
     "output_type": "stream",
     "text": [
      "Your BMI is 1.92, which is categorized as: Underweight\n"
     ]
    }
   ],
   "source": [
    "weight_kg = float(input(\"Enter your weight in kilograms: \"))\n",
    "height_m = float(input(\"Enter your height in meters: \"))\n",
    "\n",
    "bmi = weight_kg / (height_m ** 2)\n",
    "\n",
    "if bmi < 18.5:\n",
    "    category = \"Underweight\"\n",
    "elif 18.5 <= bmi < 24.9:\n",
    "    category = \"Normal Weight\"\n",
    "elif 25.0 <= bmi < 29.9:\n",
    "    category = \"Overweight\"\n",
    "else:\n",
    "    category = \"Obese\"\n",
    "\n",
    "print(f\"Your BMI is {bmi:.2f}, which is categorized as: {category}\")\n"
   ]
  },
  {
   "cell_type": "markdown",
   "id": "480de110-f35a-4bdd-a8fa-ec8bb148b8d8",
   "metadata": {},
   "source": [
    "23. How can you use the \"filter()\" function with if-else statements to filter elements from a list?"
   ]
  },
  {
   "cell_type": "code",
   "execution_count": 78,
   "id": "50e86324-4a06-4186-89ce-bae30bda364b",
   "metadata": {},
   "outputs": [
    {
     "name": "stdout",
     "output_type": "stream",
     "text": [
      "[2, 4, 6, 8, 10]\n"
     ]
    }
   ],
   "source": [
    "def filter_even_numbers(num):\n",
    "    if num % 2 == 0:\n",
    "        return True  \n",
    "    else:\n",
    "        return False \n",
    "\n",
    "numbers = [1, 2, 3, 4, 5, 6, 7, 8, 9, 10]\n",
    "\n",
    "filtered_numbers = filter(filter_even_numbers, numbers)\n",
    "\n",
    "even_numbers_list = list(filtered_numbers)\n",
    "\n",
    "print(even_numbers_list) \n"
   ]
  },
  {
   "cell_type": "markdown",
   "id": "d9dbf17f-f2f9-4184-8a34-323d18e26476",
   "metadata": {},
   "source": [
    "24. Write a Python program to determine if a given number is prime or not using if-else."
   ]
  },
  {
   "cell_type": "code",
   "execution_count": 79,
   "id": "05f8a05b-0468-4a1b-887d-38ab71f8e46d",
   "metadata": {},
   "outputs": [
    {
     "name": "stdin",
     "output_type": "stream",
     "text": [
      "Enter a positive integer:  7\n"
     ]
    },
    {
     "name": "stdout",
     "output_type": "stream",
     "text": [
      "7 is a prime number.\n"
     ]
    }
   ],
   "source": [
    "num = int(input(\"Enter a positive integer: \"))\n",
    "\n",
    "if num <= 1:\n",
    "    is_prime = False  \n",
    "else:\n",
    "    is_prime = True \n",
    "\n",
    "    for divisor in range(2, int(num**0.5) + 1):\n",
    "        if num % divisor == 0:\n",
    "            is_prime = False  \n",
    "            break\n",
    "\n",
    "if is_prime:\n",
    "    print(f\"{num} is a prime number.\")\n",
    "else:\n",
    "    print(f\"{num} is not a prime number.\")\n"
   ]
  },
  {
   "cell_type": "code",
   "execution_count": null,
   "id": "cfc3c7ac-aef4-4a0a-9c0f-63b8a9b09de2",
   "metadata": {},
   "outputs": [],
   "source": []
  },
  {
   "cell_type": "markdown",
   "id": "9ff42773-e030-46f8-b0a7-c704b95031b4",
   "metadata": {},
   "source": [
    "Map :-"
   ]
  },
  {
   "cell_type": "code",
   "execution_count": null,
   "id": "4b00386e-e2b2-44c9-b458-5fd096f3db59",
   "metadata": {},
   "outputs": [],
   "source": []
  },
  {
   "cell_type": "markdown",
   "id": "6bd95ca5-c838-4860-9bd0-4f6326c88f3c",
   "metadata": {},
   "source": [
    "1. Explain the purpose of the `map()` function in Python and provide an example of how it can be used to apply a function to each element of an iterable."
   ]
  },
  {
   "cell_type": "code",
   "execution_count": 80,
   "id": "3fe7bdfc-34c0-498f-b12e-079eb56121c6",
   "metadata": {},
   "outputs": [
    {
     "name": "stdout",
     "output_type": "stream",
     "text": [
      "[1, 4, 9, 16, 25]\n"
     ]
    }
   ],
   "source": [
    "def square(x):\n",
    "    return x**2\n",
    "\n",
    "numbers = [1, 2, 3, 4, 5]\n",
    "\n",
    "\n",
    "squared_numbers = map(square, numbers)\n",
    "\n",
    "\n",
    "squared_numbers_list = list(squared_numbers)\n",
    "\n",
    "\n",
    "print(squared_numbers_list)  \n"
   ]
  },
  {
   "cell_type": "markdown",
   "id": "18fff516-4f70-466f-be88-c1bd80e5c56b",
   "metadata": {},
   "source": [
    "2. Write a Python program that uses the `map()` function to square each element of a list of numbers."
   ]
  },
  {
   "cell_type": "code",
   "execution_count": 81,
   "id": "835f2725-17c2-4e14-9f4b-edd1ca1fb830",
   "metadata": {},
   "outputs": [
    {
     "name": "stdout",
     "output_type": "stream",
     "text": [
      "Original numbers: [1, 2, 3, 4, 5]\n",
      "Squared numbers: [1, 4, 9, 16, 25]\n"
     ]
    }
   ],
   "source": [
    "def square(x):\n",
    "    return x**2\n",
    "\n",
    "numbers = [1, 2, 3, 4, 5]\n",
    "\n",
    "squared_numbers = map(square, numbers)\n",
    "\n",
    "squared_numbers_list = list(squared_numbers)\n",
    "\n",
    "print(\"Original numbers:\", numbers)\n",
    "print(\"Squared numbers:\", squared_numbers_list)\n"
   ]
  },
  {
   "cell_type": "markdown",
   "id": "f94845bb-a918-4856-824c-4f6d98fce8fd",
   "metadata": {},
   "source": [
    "3. How does the `map()` function differ from a list comprehension in Python, and when would you choose one over the other?"
   ]
  },
  {
   "cell_type": "code",
   "execution_count": 82,
   "id": "21dd6eed-caf9-4aa7-af73-faacc534be27",
   "metadata": {},
   "outputs": [],
   "source": [
    "def square(x):\n",
    "    return x**2\n",
    "\n",
    "numbers = [1, 2, 3, 4, 5]\n",
    "squared_numbers = map(square, numbers)\n"
   ]
  },
  {
   "cell_type": "code",
   "execution_count": 83,
   "id": "67bb6129-30e8-4a6f-9010-35ade1fcf56f",
   "metadata": {},
   "outputs": [],
   "source": [
    "numbers = [1, 2, 3, 4, 5]\n",
    "squared_numbers = [x**2 for x in numbers]\n"
   ]
  },
  {
   "cell_type": "markdown",
   "id": "593b7983-44cc-457d-81ba-bf752bc91599",
   "metadata": {},
   "source": [
    "4. Create a Python program that uses the `map()` function to convert a list of names to uppercase."
   ]
  },
  {
   "cell_type": "code",
   "execution_count": 85,
   "id": "0436f293-e3e9-4047-afea-c3393a209843",
   "metadata": {},
   "outputs": [
    {
     "name": "stdout",
     "output_type": "stream",
     "text": [
      "Original names: ['rizwan', 'pwskills', 'data science', 'python']\n",
      "Uppercase names: ['RIZWAN', 'PWSKILLS', 'DATA SCIENCE', 'PYTHON']\n"
     ]
    }
   ],
   "source": [
    "def convert_to_uppercase(name):\n",
    "    return name.upper()\n",
    "\n",
    "names = [\"rizwan\", \"pwskills\", \"data science\", \"python\"]\n",
    "\n",
    "uppercase_names = map(convert_to_uppercase, names)\n",
    "\n",
    "uppercase_names_list = list(uppercase_names)\n",
    "\n",
    "print(\"Original names:\", names)\n",
    "print(\"Uppercase names:\", uppercase_names_list)\n"
   ]
  },
  {
   "cell_type": "markdown",
   "id": "71c26d57-3233-4565-b393-6025b6b610c5",
   "metadata": {},
   "source": [
    "5. Write a Python program that uses the `map()` function to calculate the length of each word in a list of strings."
   ]
  },
  {
   "cell_type": "code",
   "execution_count": 86,
   "id": "4359d5a6-7f40-457a-b4dd-f073e002b429",
   "metadata": {},
   "outputs": [
    {
     "name": "stdout",
     "output_type": "stream",
     "text": [
      "Original words: ['India', 'USA', 'Canada', 'Austrlia', 'Germany']\n",
      "Word lengths: [5, 3, 6, 8, 7]\n"
     ]
    }
   ],
   "source": [
    "def calculate_word_length(word):\n",
    "    return len(word)\n",
    "\n",
    "words = [\"India\", \"USA\", \"Canada\", \"Austrlia\", \"Germany\"]\n",
    "\n",
    "word_lengths = map(calculate_word_length, words)\n",
    "\n",
    "word_lengths_list = list(word_lengths)\n",
    "\n",
    "print(\"Original words:\", words)\n",
    "print(\"Word lengths:\", word_lengths_list)\n"
   ]
  },
  {
   "cell_type": "markdown",
   "id": "803d4d4d-2973-428c-9f8b-791adb40ee73",
   "metadata": {},
   "source": [
    "6. How can you use the `map()` function to apply a custom function to elements of multiple lists simultaneously in Python?"
   ]
  },
  {
   "cell_type": "code",
   "execution_count": 87,
   "id": "47813ecf-77aa-436a-a64e-2349dac311f3",
   "metadata": {},
   "outputs": [
    {
     "name": "stdout",
     "output_type": "stream",
     "text": [
      "List 1: [1, 2, 3, 4]\n",
      "List 2: [10, 20, 30, 40]\n",
      "Sum of elements: [11, 22, 33, 44]\n"
     ]
    }
   ],
   "source": [
    "def add_numbers(x, y):\n",
    "    return x + y\n",
    "\n",
    "list1 = [1, 2, 3, 4]\n",
    "list2 = [10, 20, 30, 40]\n",
    "\n",
    "result = map(add_numbers, list1, list2)\n",
    "\n",
    "sum_list = list(result)\n",
    "\n",
    "print(\"List 1:\", list1)\n",
    "print(\"List 2:\", list2)\n",
    "print(\"Sum of elements:\", sum_list)\n"
   ]
  },
  {
   "cell_type": "markdown",
   "id": "d8c697b4-54f7-44ac-ba8f-a2ff616509b8",
   "metadata": {},
   "source": [
    "7. Create a Python program that uses `map()` to convert a list of temperatures from Celsius to Fahrenheit."
   ]
  },
  {
   "cell_type": "code",
   "execution_count": 88,
   "id": "b8acd2bc-817a-42a6-8af1-9d9664edb61b",
   "metadata": {},
   "outputs": [
    {
     "name": "stdout",
     "output_type": "stream",
     "text": [
      "Celsius Temperatures: [0, 10, 20, 30, 40]\n",
      "Fahrenheit Temperatures: [32.0, 50.0, 68.0, 86.0, 104.0]\n"
     ]
    }
   ],
   "source": [
    "def celsius_to_fahrenheit(celsius):\n",
    "    return (celsius * 9/5) + 32\n",
    "\n",
    "celsius_temperatures = [0, 10, 20, 30, 40]\n",
    "\n",
    "fahrenheit_temperatures = map(celsius_to_fahrenheit, celsius_temperatures)\n",
    "\n",
    "fahrenheit_temperatures_list = list(fahrenheit_temperatures)\n",
    "\n",
    "print(\"Celsius Temperatures:\", celsius_temperatures)\n",
    "print(\"Fahrenheit Temperatures:\", fahrenheit_temperatures_list)\n"
   ]
  },
  {
   "cell_type": "markdown",
   "id": "38a31002-13a9-48be-8cff-b9c969224f6b",
   "metadata": {},
   "source": [
    "8. Write a Python program that uses the `map()` function to round each element of a list of floating-point numbers to the nearest integer."
   ]
  },
  {
   "cell_type": "code",
   "execution_count": 89,
   "id": "c591419f-34cd-48cf-a0f4-26add2861b08",
   "metadata": {},
   "outputs": [
    {
     "name": "stdout",
     "output_type": "stream",
     "text": [
      "Floating-Point Numbers: [3.2, 4.7, 6.5, 8.1, 9.9]\n",
      "Rounded Integers: [3, 5, 6, 8, 10]\n"
     ]
    }
   ],
   "source": [
    "def round_to_integer(number):\n",
    "    return round(number)\n",
    "\n",
    "float_numbers = [3.2, 4.7, 6.5, 8.1, 9.9]\n",
    "\n",
    "rounded_integers = map(round_to_integer, float_numbers)\n",
    "\n",
    "rounded_integers_list = list(rounded_integers)\n",
    "\n",
    "print(\"Floating-Point Numbers:\", float_numbers)\n",
    "print(\"Rounded Integers:\", rounded_integers_list)\n"
   ]
  },
  {
   "cell_type": "markdown",
   "id": "765686c0-b76e-4ad0-8000-1df3e0078bd8",
   "metadata": {},
   "source": [
    "Reduce :-"
   ]
  },
  {
   "cell_type": "code",
   "execution_count": null,
   "id": "6eb026cc-26de-4aed-bef8-2d810e0ab929",
   "metadata": {},
   "outputs": [],
   "source": []
  },
  {
   "cell_type": "markdown",
   "id": "e8695cac-ef4e-43ad-a86c-68cb9f3b5580",
   "metadata": {},
   "source": [
    "1. What is the `reduce()` function in Python, and what module should you import to use it? Provide an example of its basic usage."
   ]
  },
  {
   "cell_type": "code",
   "execution_count": 90,
   "id": "9c20145d-c0ba-4b47-ab06-91eae408e8a0",
   "metadata": {},
   "outputs": [
    {
     "name": "stdout",
     "output_type": "stream",
     "text": [
      "Product of numbers: 120\n"
     ]
    }
   ],
   "source": [
    "import functools\n",
    "\n",
    "def multiply(x, y):\n",
    "    return x * y\n",
    "\n",
    "numbers = [1, 2, 3, 4, 5]\n",
    "\n",
    "product = functools.reduce(multiply, numbers)\n",
    "\n",
    "print(\"Product of numbers:\", product)\n"
   ]
  },
  {
   "cell_type": "markdown",
   "id": "8de4b030-a269-4357-a227-c3e950296535",
   "metadata": {},
   "source": [
    "2. Write a Python program that uses the `reduce()` function to find the product of all elements in a list."
   ]
  },
  {
   "cell_type": "code",
   "execution_count": 91,
   "id": "3003a754-a3e6-493e-a1d0-c0b8d49b1212",
   "metadata": {},
   "outputs": [
    {
     "name": "stdout",
     "output_type": "stream",
     "text": [
      "Product of numbers: 120\n"
     ]
    }
   ],
   "source": [
    "import functools\n",
    "\n",
    "def multiply(x, y):\n",
    "    return x * y\n",
    "\n",
    "numbers = [1, 2, 3, 4, 5]\n",
    "\n",
    "product = functools.reduce(multiply, numbers)\n",
    "\n",
    "print(\"Product of numbers:\", product)\n"
   ]
  },
  {
   "cell_type": "markdown",
   "id": "01be29aa-59d0-49ae-bfff-3f83f07792dc",
   "metadata": {},
   "source": [
    "3. Create a Python program that uses `reduce()` to find the maximum element in a list of numbers."
   ]
  },
  {
   "cell_type": "code",
   "execution_count": 92,
   "id": "d552e2f7-0b90-4eab-b7a1-785b39617eaa",
   "metadata": {},
   "outputs": [
    {
     "name": "stdout",
     "output_type": "stream",
     "text": [
      "Maximum number: 90\n"
     ]
    }
   ],
   "source": [
    "import functools\n",
    "\n",
    "def find_maximum(x, y):\n",
    "    return max(x, y)\n",
    "\n",
    "numbers = [12, 45, 23, 67, 8, 90, 34]\n",
    "\n",
    "maximum_number = functools.reduce(find_maximum, numbers)\n",
    "\n",
    "print(\"Maximum number:\", maximum_number)\n"
   ]
  },
  {
   "cell_type": "markdown",
   "id": "0c00c411-6d8d-492f-b327-7486ac3f8502",
   "metadata": {},
   "source": [
    "4. How can you use the `reduce()` function to concatenate a list of strings into a single string?"
   ]
  },
  {
   "cell_type": "code",
   "execution_count": 94,
   "id": "7a944b14-4d52-4615-b67e-929439d6e18a",
   "metadata": {},
   "outputs": [
    {
     "name": "stdout",
     "output_type": "stream",
     "text": [
      "Concatenated String: Rizwan, Khan!\n"
     ]
    }
   ],
   "source": [
    "import functools\n",
    "\n",
    "def concatenate_strings(str1, str2):\n",
    "    return str1 + str2\n",
    "\n",
    "strings = [\"Rizwan\", \", \", \"Khan\", \"!\"]\n",
    "\n",
    "result = functools.reduce(concatenate_strings, strings)\n",
    "\n",
    "print(\"Concatenated String:\", result)\n"
   ]
  },
  {
   "cell_type": "markdown",
   "id": "84d26312-683d-44eb-a18b-22dc01ef951d",
   "metadata": {},
   "source": [
    "5. Write a Python program that calculates the factorial of a number using the `reduce()` function."
   ]
  },
  {
   "cell_type": "code",
   "execution_count": 95,
   "id": "90a48c29-fce9-4e97-a163-e798523bc820",
   "metadata": {},
   "outputs": [
    {
     "name": "stdout",
     "output_type": "stream",
     "text": [
      "Factorial of 5 is: 120\n"
     ]
    }
   ],
   "source": [
    "import functools\n",
    "\n",
    "def calculate_factorial(x, y):\n",
    "    return x * y\n",
    "\n",
    "n = 5  \n",
    "\n",
    "numbers = list(range(1, n + 1))\n",
    "\n",
    "factorial = functools.reduce(calculate_factorial, numbers, 1)\n",
    "\n",
    "print(f\"Factorial of {n} is:\", factorial)\n"
   ]
  },
  {
   "cell_type": "markdown",
   "id": "6ed96b21-b02c-4b8d-b1e7-db2d7292f5e3",
   "metadata": {},
   "source": [
    "6. Create a Python program that uses `reduce()` to find the GCD (Greatest Common Divisor) of a list of numbers."
   ]
  },
  {
   "cell_type": "code",
   "execution_count": 96,
   "id": "f46a97af-4c96-4339-8352-91e585332dac",
   "metadata": {},
   "outputs": [
    {
     "name": "stdout",
     "output_type": "stream",
     "text": [
      "GCD of numbers: 6\n"
     ]
    }
   ],
   "source": [
    "import functools\n",
    "import math\n",
    "\n",
    "def calculate_gcd(x, y):\n",
    "    return math.gcd(x, y)\n",
    "\n",
    "numbers = [12, 18, 24, 36]\n",
    "\n",
    "gcd_result = functools.reduce(calculate_gcd, numbers)\n",
    "\n",
    "print(\"GCD of numbers:\", gcd_result)\n"
   ]
  },
  {
   "cell_type": "markdown",
   "id": "c8e5c825-7e5b-4107-8056-250fc9438b7a",
   "metadata": {},
   "source": [
    "7. Write a Python program that uses the `reduce()` function to find the sum of the digits of a given number."
   ]
  },
  {
   "cell_type": "code",
   "execution_count": 97,
   "id": "ea737e50-597b-4ed6-a009-e1c72f680753",
   "metadata": {},
   "outputs": [
    {
     "name": "stdout",
     "output_type": "stream",
     "text": [
      "Sum of digits of 12345 is: 15\n"
     ]
    }
   ],
   "source": [
    "import functools\n",
    "\n",
    "def add_digits(x, y):\n",
    "    return x + y\n",
    "\n",
    "number = 12345 \n",
    "\n",
    "digits = [int(digit) for digit in str(number)]\n",
    "\n",
    "sum_of_digits = functools.reduce(add_digits, digits)\n",
    "\n",
    "print(f\"Sum of digits of {number} is:\", sum_of_digits)\n"
   ]
  },
  {
   "cell_type": "code",
   "execution_count": null,
   "id": "2441369f-d613-49a2-85a0-94c10ac19015",
   "metadata": {},
   "outputs": [],
   "source": []
  },
  {
   "cell_type": "markdown",
   "id": "46b2b233-4f7b-4f10-be75-ae44e3c19e45",
   "metadata": {},
   "source": [
    "Filter :-"
   ]
  },
  {
   "cell_type": "code",
   "execution_count": null,
   "id": "086f1f02-b7be-404d-8a92-7a9be94cde38",
   "metadata": {},
   "outputs": [],
   "source": []
  },
  {
   "cell_type": "markdown",
   "id": "99c91c48-0c9b-4f51-b595-f762a4d21815",
   "metadata": {},
   "source": [
    "1. Explain the purpose of the `filter()` function in Python and provide an example of how it can be used to filter elements from an iterable."
   ]
  },
  {
   "cell_type": "code",
   "execution_count": 98,
   "id": "44ad122f-cdb6-46ef-9762-8aaa1877a0e2",
   "metadata": {},
   "outputs": [
    {
     "name": "stdout",
     "output_type": "stream",
     "text": [
      "Original numbers: [1, 2, 3, 4, 5, 6, 7, 8, 9, 10]\n",
      "Even numbers: [2, 4, 6, 8, 10]\n"
     ]
    }
   ],
   "source": [
    "def is_even(number):\n",
    "    return number % 2 == 0\n",
    "\n",
    "numbers = [1, 2, 3, 4, 5, 6, 7, 8, 9, 10]\n",
    "\n",
    "even_numbers = filter(is_even, numbers)\n",
    "\n",
    "even_numbers_list = list(even_numbers)\n",
    "\n",
    "print(\"Original numbers:\", numbers)\n",
    "print(\"Even numbers:\", even_numbers_list)\n"
   ]
  },
  {
   "cell_type": "markdown",
   "id": "a717c427-3f99-4906-8264-3c4431b762e1",
   "metadata": {},
   "source": [
    "2. Write a Python program that uses the `filter()` function to select even numbers from a list of integers."
   ]
  },
  {
   "cell_type": "code",
   "execution_count": 99,
   "id": "ac6b9853-f28c-41de-8c14-2d0cb2f7474d",
   "metadata": {},
   "outputs": [
    {
     "name": "stdout",
     "output_type": "stream",
     "text": [
      "Even numbers: [2, 4, 6, 8, 10]\n"
     ]
    }
   ],
   "source": [
    "def is_even(number):\n",
    "    return number % 2 == 0\n",
    "\n",
    "numbers = [1, 2, 3, 4, 5, 6, 7, 8, 9, 10]\n",
    "\n",
    "even_numbers = filter(is_even, numbers)\n",
    "\n",
    "even_numbers_list = list(even_numbers)\n",
    "\n",
    "print(\"Even numbers:\", even_numbers_list)\n"
   ]
  },
  {
   "cell_type": "markdown",
   "id": "fcf75b98-c40f-49ac-ba20-8c58784052fb",
   "metadata": {},
   "source": [
    "3. Create a Python program that uses the `filter()` function to select names that start with a specific letter from a list of strings."
   ]
  },
  {
   "cell_type": "code",
   "execution_count": 101,
   "id": "d061f7df-1d0a-4826-a4b1-02eccea23b1d",
   "metadata": {},
   "outputs": [
    {
     "name": "stdout",
     "output_type": "stream",
     "text": [
      "Names that start with 'C': ['Chandan']\n"
     ]
    }
   ],
   "source": [
    "def starts_with_letter(letter):\n",
    "    return lambda name: name.startswith(letter)\n",
    "\n",
    "names = [\"Rizwan\", \"Elyce\", \"Kat\", \"Andie\", \"Marby\", \"Arlou\", \"Emji\", \"Chandan\"]\n",
    "\n",
    "filter_letter = \"C\"  \n",
    "\n",
    "filtered_names = filter(starts_with_letter(filter_letter), names)\n",
    "\n",
    "filtered_names_list = list(filtered_names)\n",
    "\n",
    "print(f\"Names that start with '{filter_letter}':\", filtered_names_list)\n"
   ]
  },
  {
   "cell_type": "markdown",
   "id": "56d1f28d-5b5d-45b8-af18-1956ac82d2ca",
   "metadata": {},
   "source": [
    "4. Write a Python program that uses the `filter()` function to select prime numbers from a list of integers."
   ]
  },
  {
   "cell_type": "code",
   "execution_count": 102,
   "id": "8b42f849-54e9-4aa9-bb90-2830b016c8f1",
   "metadata": {},
   "outputs": [
    {
     "name": "stdout",
     "output_type": "stream",
     "text": [
      "Prime numbers: [2, 3, 5, 7, 11, 13, 17, 23]\n"
     ]
    }
   ],
   "source": [
    "def is_prime(number):\n",
    "    if number <= 1:\n",
    "        return False\n",
    "    if number <= 3:\n",
    "        return True\n",
    "    if number % 2 == 0 or number % 3 == 0:\n",
    "        return False\n",
    "    i = 5\n",
    "    while i * i <= number:\n",
    "        if number % i == 0 or number % (i + 2) == 0:\n",
    "            return False\n",
    "        i += 6\n",
    "    return True\n",
    "\n",
    "numbers = [2, 3, 5, 7, 10, 11, 13, 17, 20, 23]\n",
    "\n",
    "prime_numbers = filter(is_prime, numbers)\n",
    "\n",
    "prime_numbers_list = list(prime_numbers)\n",
    "\n",
    "print(\"Prime numbers:\", prime_numbers_list)\n"
   ]
  },
  {
   "cell_type": "markdown",
   "id": "72b7e6a8-0793-4a46-aade-fbd668d632c4",
   "metadata": {},
   "source": [
    "5. How can you use the `filter()` function to remove None values from a list in Python?"
   ]
  },
  {
   "cell_type": "code",
   "execution_count": 103,
   "id": "1a168a2f-456b-43b7-a9c7-4ab2bd8d8a5a",
   "metadata": {},
   "outputs": [
    {
     "name": "stdout",
     "output_type": "stream",
     "text": [
      "Filtered values: [1, 2, 4, 6, 7]\n"
     ]
    }
   ],
   "source": [
    "values = [1, 2, None, 4, None, 6, 7, None]\n",
    "\n",
    "filtered_values = filter(lambda x: x is not None, values)\n",
    "\n",
    "filtered_values_list = list(filtered_values)\n",
    "\n",
    "print(\"Filtered values:\", filtered_values_list)\n"
   ]
  },
  {
   "cell_type": "markdown",
   "id": "f6d59eef-e01e-47dc-a06f-21a6edab8451",
   "metadata": {},
   "source": [
    "6. Create a Python program that uses `filter()` to select words longer than a certain length from a list of strings."
   ]
  },
  {
   "cell_type": "code",
   "execution_count": 104,
   "id": "3966e706-8937-4f0a-85fc-477a0ed2c47a",
   "metadata": {},
   "outputs": [
    {
     "name": "stdout",
     "output_type": "stream",
     "text": [
      "Words longer than 5 characters: ['banana', 'cherry', 'elderberry']\n"
     ]
    }
   ],
   "source": [
    "def is_longer_than_n(word, n):\n",
    "    return len(word) > n\n",
    "\n",
    "# Input list of words\n",
    "words = [\"apple\", \"banana\", \"cherry\", \"date\", \"elderberry\", \"fig\"]\n",
    "\n",
    "min_length = 5 \n",
    "\n",
    "selected_words = filter(lambda word: is_longer_than_n(word, min_length), words)\n",
    "\n",
    "selected_words_list = list(selected_words)\n",
    "\n",
    "print(f\"Words longer than {min_length} characters:\", selected_words_list)\n"
   ]
  },
  {
   "cell_type": "markdown",
   "id": "3e5d9b38-4861-487c-abc6-9bef0f400d40",
   "metadata": {},
   "source": [
    "7. Write a Python program that uses the `filter()` function to select elements greater than a specified threshold from a list of values."
   ]
  },
  {
   "cell_type": "code",
   "execution_count": 105,
   "id": "22fae3f3-47ef-4c9c-bed4-15c02f8fab4b",
   "metadata": {},
   "outputs": [
    {
     "name": "stdout",
     "output_type": "stream",
     "text": [
      "Values greater than 40: [50, 60, 70]\n"
     ]
    }
   ],
   "source": [
    "def is_greater_than_threshold(value, threshold):\n",
    "    return value > threshold\n",
    "\n",
    "values = [10, 20, 30, 40, 50, 60, 70]\n",
    "\n",
    "threshold = 40\n",
    "\n",
    "selected_values = filter(lambda value: is_greater_than_threshold(value, threshold), values)\n",
    "\n",
    "selected_values_list = list(selected_values)\n",
    "\n",
    "print(f\"Values greater than {threshold}:\", selected_values_list)\n"
   ]
  },
  {
   "cell_type": "code",
   "execution_count": null,
   "id": "4011610a-857f-4f1d-9599-7fa76443c1c0",
   "metadata": {},
   "outputs": [],
   "source": []
  },
  {
   "cell_type": "markdown",
   "id": "deba8287-5351-4fd9-9ecf-02075b9998b0",
   "metadata": {},
   "source": [
    "Recursion:-"
   ]
  },
  {
   "cell_type": "code",
   "execution_count": null,
   "id": "fd7ffb78-4e6b-4113-96c6-e44e13f579dc",
   "metadata": {},
   "outputs": [],
   "source": []
  },
  {
   "cell_type": "markdown",
   "id": "af5a0427-26c3-4987-b0ab-4a3e545f0696",
   "metadata": {},
   "source": [
    "1. Explain the concept of recursion in Python. How does it differ from iteration?"
   ]
  },
  {
   "cell_type": "code",
   "execution_count": 107,
   "id": "75b5208f-f11c-4925-96ed-dc4262cdee90",
   "metadata": {},
   "outputs": [
    {
     "data": {
      "text/plain": [
       "'\\nRecursive functions have a base case, which is a condition that determines when the recursion should stop. Without a base case, a recursive function would keep calling itself indefinitely.\\n\\nIteration is typically used when a problem can be solved by repeating a certain sequence of steps, and the number of repetitions is known in advance or can be determined by a specific condition.\\n\\n\\n'"
      ]
     },
     "execution_count": 107,
     "metadata": {},
     "output_type": "execute_result"
    }
   ],
   "source": [
    "\"\"\"\n",
    "Recursive functions have a base case, which is a condition that determines when the recursion should stop. Without a base case, a recursive function would keep calling itself indefinitely.\n",
    "\n",
    "Iteration is typically used when a problem can be solved by repeating a certain sequence of steps, and the number of repetitions is known in advance or can be determined by a specific condition.\n",
    "\n",
    "\n",
    "\"\"\""
   ]
  },
  {
   "cell_type": "markdown",
   "id": "8d026b6f-782e-4927-ac49-5760ae61485d",
   "metadata": {},
   "source": [
    "2. Write a Python program to calculate the factorial of a number using recursion."
   ]
  },
  {
   "cell_type": "code",
   "execution_count": 108,
   "id": "9e403f49-7891-4c57-b1ee-41a9fcb3659b",
   "metadata": {},
   "outputs": [
    {
     "name": "stdin",
     "output_type": "stream",
     "text": [
      "Enter a non-negative integer:  8\n"
     ]
    },
    {
     "name": "stdout",
     "output_type": "stream",
     "text": [
      "8! = 40320\n"
     ]
    }
   ],
   "source": [
    "def factorial(n):\n",
    "    if n == 0:\n",
    "        return 1 \n",
    "    else:\n",
    "        return n * factorial(n - 1)  \n",
    "\n",
    "number = int(input(\"Enter a non-negative integer: \"))\n",
    "\n",
    "if number < 0:\n",
    "    print(\"Factorial is not defined for negative numbers.\")\n",
    "else:\n",
    "    result = factorial(number)\n",
    "    print(f\"{number}! = {result}\")\n"
   ]
  },
  {
   "cell_type": "markdown",
   "id": "2047094b-a0c5-4f4f-a081-f4b724978746",
   "metadata": {},
   "source": [
    "3. Create a recursive Python function to find the nth Fibonacci number."
   ]
  },
  {
   "cell_type": "code",
   "execution_count": 109,
   "id": "23a84ecb-4a36-4632-96e2-7515ef9a6927",
   "metadata": {},
   "outputs": [
    {
     "name": "stdin",
     "output_type": "stream",
     "text": [
      "Enter the value of n:  8\n"
     ]
    },
    {
     "name": "stdout",
     "output_type": "stream",
     "text": [
      "The 8-th Fibonacci number is 21\n"
     ]
    }
   ],
   "source": [
    "def fibonacci(n):\n",
    "    if n <= 0:\n",
    "        return 0  \n",
    "    elif n == 1:\n",
    "        return 1  \n",
    "    else:\n",
    "        return fibonacci(n - 1) + fibonacci(n - 2) \n",
    "\n",
    "n = int(input(\"Enter the value of n: \"))\n",
    "\n",
    "if n < 0:\n",
    "    print(\"Fibonacci sequence is not defined for negative n.\")\n",
    "else:\n",
    "    result = fibonacci(n)\n",
    "    print(f\"The {n}-th Fibonacci number is {result}\")\n"
   ]
  },
  {
   "cell_type": "markdown",
   "id": "12e49393-0034-42ce-8469-7283163e641f",
   "metadata": {},
   "source": [
    "4. Write a recursive Python function to calculate the sum of all elements in a list."
   ]
  },
  {
   "cell_type": "code",
   "execution_count": 110,
   "id": "5dbf5d00-8e23-439d-aef2-e0e5e05556d7",
   "metadata": {},
   "outputs": [
    {
     "name": "stdout",
     "output_type": "stream",
     "text": [
      "Sum of elements: 15\n"
     ]
    }
   ],
   "source": [
    "def list_sum_recursive(lst):\n",
    "    if not lst:\n",
    "        return 0 \n",
    "    else:\n",
    "        return lst[0] + list_sum_recursive(lst[1:])  \n",
    "\n",
    "numbers = [1, 2, 3, 4, 5]\n",
    "\n",
    "result = list_sum_recursive(numbers)\n",
    "\n",
    "print(\"Sum of elements:\", result)\n"
   ]
  },
  {
   "cell_type": "markdown",
   "id": "2fde42c7-721c-4d9f-806b-fe64092f5dc9",
   "metadata": {},
   "source": [
    "5. How can you prevent a recursive function from running indefinitely, causing a stack overflow error?"
   ]
  },
  {
   "cell_type": "code",
   "execution_count": 111,
   "id": "786e777f-04d0-4b98-8ade-e1dfa198b8f5",
   "metadata": {},
   "outputs": [],
   "source": [
    "#To prevent a recursive function from running indefinitely and causing a stack overflow error,"
   ]
  },
  {
   "cell_type": "markdown",
   "id": "3e863013-258d-4587-9fca-9d3bfeb86b96",
   "metadata": {},
   "source": [
    "6. Create a recursive Python function to find the greatest common divisor (GCD) of two numbers using the Euclidean algorithm."
   ]
  },
  {
   "cell_type": "code",
   "execution_count": 113,
   "id": "38c686ea-2edf-4f38-a585-77077125fd08",
   "metadata": {},
   "outputs": [
    {
     "name": "stdin",
     "output_type": "stream",
     "text": [
      "Enter the first number:  4\n",
      "Enter the second number:  8\n"
     ]
    },
    {
     "name": "stdout",
     "output_type": "stream",
     "text": [
      "The GCD of 8 and 4 is 4\n"
     ]
    }
   ],
   "source": [
    "def gcd_euclidean(a, b):\n",
    "    if b == 0:\n",
    "        return a  \n",
    "    else:\n",
    "        return gcd_euclidean(b, a % b)  \n",
    "    \n",
    "num1 = int(input(\"Enter the first number: \"))\n",
    "num2 = int(input(\"Enter the second number: \"))\n",
    "\n",
    "if num1 < 0 or num2 < 0:\n",
    "    print(\"GCD is not defined for negative numbers.\")\n",
    "else:\n",
    "    if num1 < num2:\n",
    "        num1, num2 = num2, num1\n",
    "\n",
    "    result = gcd_euclidean(num1, num2)\n",
    "    print(f\"The GCD of {num1} and {num2} is {result}\")\n"
   ]
  },
  {
   "cell_type": "markdown",
   "id": "b99b8543-d81b-4353-98f0-575c95ea9daa",
   "metadata": {},
   "source": [
    "7. Write a recursive Python function to reverse a string."
   ]
  },
  {
   "cell_type": "code",
   "execution_count": 117,
   "id": "4d2132bd-2a10-4fd3-8b0e-adaeec5e38c2",
   "metadata": {},
   "outputs": [
    {
     "name": "stdin",
     "output_type": "stream",
     "text": [
      "Enter a string:  RIZWAN\n"
     ]
    },
    {
     "name": "stdout",
     "output_type": "stream",
     "text": [
      "Reversed string: NAWZIR\n"
     ]
    }
   ],
   "source": [
    "def reverse_string(input_string):\n",
    "    if len(input_string) <= 1:\n",
    "        return input_string\n",
    "    else:\n",
    "        return reverse_string(input_string[1:]) + input_string[0]\n",
    "\n",
    "input_str = input(\"Enter a string: \")\n",
    "\n",
    "reversed_str = reverse_string(input_str)\n",
    "\n",
    "print(\"Reversed string:\", reversed_str)\n"
   ]
  },
  {
   "cell_type": "markdown",
   "id": "74b17b75-f7a1-4748-bbc2-ec53f6458dc4",
   "metadata": {},
   "source": [
    "8. Create a recursive Python function to calculate the power of a number (x^n)."
   ]
  },
  {
   "cell_type": "code",
   "execution_count": 118,
   "id": "caea0b27-8844-405f-b8a8-6483779b23fd",
   "metadata": {},
   "outputs": [
    {
     "name": "stdin",
     "output_type": "stream",
     "text": [
      "Enter the base (x):  7\n",
      "Enter the exponent (n):  8\n"
     ]
    },
    {
     "name": "stdout",
     "output_type": "stream",
     "text": [
      "7.0^8 = 5764801.0\n"
     ]
    }
   ],
   "source": [
    "def power(x, n):\n",
    "    if n == 0:\n",
    "        return 1  \n",
    "    elif n < 0:\n",
    "        return 1 / power(x, -n)  \n",
    "    else:\n",
    "        return x * power(x, n - 1)  \n",
    "    \n",
    "x = float(input(\"Enter the base (x): \"))\n",
    "n = int(input(\"Enter the exponent (n): \"))\n",
    "\n",
    "result = power(x, n)\n",
    "\n",
    "print(f\"{x}^{n} = {result}\")\n"
   ]
  },
  {
   "cell_type": "markdown",
   "id": "5a3fb57c-4a31-4ba5-b653-ed70fcc5f35d",
   "metadata": {},
   "source": [
    "9. Write a recursive Python function to find all permutations of a given string."
   ]
  },
  {
   "cell_type": "code",
   "execution_count": 120,
   "id": "21c8cd9e-3a1b-43e7-8446-1f79da4bc2c7",
   "metadata": {},
   "outputs": [
    {
     "name": "stdin",
     "output_type": "stream",
     "text": [
      "Enter a string:  riz\n"
     ]
    },
    {
     "name": "stdout",
     "output_type": "stream",
     "text": [
      "Permutations of the string:\n",
      "riz\n",
      "rzi\n",
      "irz\n",
      "izr\n",
      "zri\n",
      "zir\n"
     ]
    }
   ],
   "source": [
    "def get_permutations(input_string):\n",
    "    if len(input_string) <= 1:\n",
    "        return [input_string]\n",
    "    \n",
    "    permutations = []\n",
    "\n",
    "    for char in input_string:\n",
    "        remaining_chars = input_string.replace(char, '', 1)\n",
    "\n",
    "        for perm in get_permutations(remaining_chars):\n",
    "            permutations.append(char + perm)\n",
    "\n",
    "    return permutations\n",
    "\n",
    "input_str = input(\"Enter a string: \")\n",
    "\n",
    "permutations = get_permutations(input_str)\n",
    "\n",
    "print(\"Permutations of the string:\")\n",
    "for perm in permutations:\n",
    "    print(perm)\n"
   ]
  },
  {
   "cell_type": "markdown",
   "id": "4fb0921a-1bfa-43dc-856c-008c42b81dfc",
   "metadata": {},
   "source": [
    "10. Write a recursive Python function to check if a string is a palindrome."
   ]
  },
  {
   "cell_type": "code",
   "execution_count": 121,
   "id": "4bef3f7f-4191-44a6-a354-59e387f28324",
   "metadata": {},
   "outputs": [
    {
     "name": "stdin",
     "output_type": "stream",
     "text": [
      "Enter a string:  rizwan\n"
     ]
    },
    {
     "name": "stdout",
     "output_type": "stream",
     "text": [
      "The string is not a palindrome.\n"
     ]
    }
   ],
   "source": [
    "def is_palindrome(input_string):\n",
    "    if len(input_string) <= 1:\n",
    "        return True\n",
    "    \n",
    "    if input_string[0] != input_string[-1]:\n",
    "        return False\n",
    "    \n",
    "    return is_palindrome(input_string[1:-1])\n",
    "\n",
    "input_str = input(\"Enter a string: \")\n",
    "\n",
    "input_str = input_str.replace(\" \", \"\").lower()\n",
    "\n",
    "if is_palindrome(input_str):\n",
    "    print(\"The string is a palindrome.\")\n",
    "else:\n",
    "    print(\"The string is not a palindrome.\")\n"
   ]
  },
  {
   "cell_type": "markdown",
   "id": "9616e9b7-db86-4d9e-9eaf-3b7727c17a25",
   "metadata": {},
   "source": [
    "11. Create a recursive Python function to generate all possible combinations of a list of elements."
   ]
  },
  {
   "cell_type": "code",
   "execution_count": 122,
   "id": "0f0e126f-efb4-4f4a-82e3-2c36e816af4c",
   "metadata": {},
   "outputs": [
    {
     "name": "stdin",
     "output_type": "stream",
     "text": [
      "Enter a list of elements (comma-separated):  pwakilla\n",
      "Enter the size of combinations (k):  4\n"
     ]
    },
    {
     "name": "stdout",
     "output_type": "stream",
     "text": [
      "All possible combinations:\n"
     ]
    }
   ],
   "source": [
    "def generate_combinations(elements, k):\n",
    "    if k == 0:\n",
    "        return [[]]\n",
    "\n",
    "    if not elements:\n",
    "        return []\n",
    "\n",
    "    combinations_with_first = generate_combinations(elements[1:], k - 1)\n",
    "    for combo in combinations_with_first:\n",
    "        combo.insert(0, elements[0]) \n",
    "\n",
    "    combinations_without_first = generate_combinations(elements[1:], k)\n",
    "\n",
    "    return combinations_with_first + combinations_without_first\n",
    "\n",
    "elements = input(\"Enter a list of elements (comma-separated): \").split(\",\")\n",
    "\n",
    "k = int(input(\"Enter the size of combinations (k): \"))\n",
    "\n",
    "elements = [element.strip() for element in elements]\n",
    "\n",
    "combinations = generate_combinations(elements, k)\n",
    "\n",
    "print(\"All possible combinations:\")\n",
    "for combo in combinations:\n",
    "    print(combo)\n"
   ]
  },
  {
   "cell_type": "code",
   "execution_count": null,
   "id": "508441f6-02ad-4fd3-a77d-9cad3fa55ff9",
   "metadata": {},
   "outputs": [],
   "source": []
  },
  {
   "cell_type": "markdown",
   "id": "279b52a5-e91c-4d3b-91f8-128130ccb599",
   "metadata": {},
   "source": [
    "Basics of Functions:"
   ]
  },
  {
   "cell_type": "code",
   "execution_count": null,
   "id": "66915c6d-f7b1-4186-88b8-a4410b7d3a1e",
   "metadata": {},
   "outputs": [],
   "source": []
  },
  {
   "cell_type": "markdown",
   "id": "c34f77f1-fdc0-42b3-99f2-9f74fa432a83",
   "metadata": {},
   "source": [
    "1. What is a function in Python, and why is it used?"
   ]
  },
  {
   "cell_type": "code",
   "execution_count": 6,
   "id": "c7c82c24-c017-4fb8-8bcf-432a98e505cd",
   "metadata": {},
   "outputs": [
    {
     "name": "stdout",
     "output_type": "stream",
     "text": [
      "Hello, Rizwan!\n"
     ]
    }
   ],
   "source": [
    "def greet(name):\n",
    "    \"\"\"\n",
    "    This function takes a name as input and returns a greeting message.\n",
    "    \"\"\"\n",
    "    return f\"Hello, {name}!\"\n",
    "\n",
    "message = greet(\"Rizwan\")\n",
    "print(message)  \n"
   ]
  },
  {
   "cell_type": "markdown",
   "id": "c2b66b31-1427-46c7-bf37-930616e3af16",
   "metadata": {},
   "source": [
    "2. How do you define a function in Python? Provide an example."
   ]
  },
  {
   "cell_type": "code",
   "execution_count": 7,
   "id": "b428bb15-06b8-4ca8-9d9d-8da7fb744766",
   "metadata": {},
   "outputs": [
    {
     "name": "stdout",
     "output_type": "stream",
     "text": [
      "The area of the rectangle is: 15\n"
     ]
    }
   ],
   "source": [
    "def calculate_area(length, width):\n",
    "    area = length * width\n",
    "    return area\n",
    "\n",
    "length = 5\n",
    "width = 3\n",
    "area_of_rectangle = calculate_area(length, width)\n",
    "\n",
    "print(f\"The area of the rectangle is: {area_of_rectangle}\")\n"
   ]
  },
  {
   "cell_type": "markdown",
   "id": "fe023098-e499-4ea3-b902-e6489ad69f86",
   "metadata": {},
   "source": [
    "3. Explain the difference between a function definition and a function call."
   ]
  },
  {
   "cell_type": "code",
   "execution_count": 8,
   "id": "7f06b054-8b89-489c-8769-9fa6239cb9c0",
   "metadata": {},
   "outputs": [],
   "source": [
    "def calculate_area(length, width):\n",
    "    \"\"\"\n",
    "    This is a function definition.\n",
    "    It specifies how to calculate the area of a rectangle.\n",
    "    \"\"\"\n",
    "    area = length * width\n",
    "    return area\n"
   ]
  },
  {
   "cell_type": "code",
   "execution_count": 10,
   "id": "5e06a68d-a741-463e-9c10-4deaf7ad9105",
   "metadata": {},
   "outputs": [],
   "source": [
    "length = 5\n",
    "width = 3\n",
    "area_of_rectangle = calculate_area(length, width)\n"
   ]
  },
  {
   "cell_type": "markdown",
   "id": "5d65e9ef-9290-406d-930b-e007894b4405",
   "metadata": {},
   "source": [
    "4. Write a Python program that defines a function to calculate the sum of two numbers and then calls the function."
   ]
  },
  {
   "cell_type": "code",
   "execution_count": 11,
   "id": "47147cf5-81a1-4404-9f2b-07918dc1478b",
   "metadata": {},
   "outputs": [
    {
     "name": "stdin",
     "output_type": "stream",
     "text": [
      "Enter the first number:  7.5\n",
      "Enter the second number:  4.7\n"
     ]
    },
    {
     "name": "stdout",
     "output_type": "stream",
     "text": [
      "The sum of 7.5 and 4.7 is: 12.2\n"
     ]
    }
   ],
   "source": [
    "def calculate_sum(num1, num2):\n",
    "    \"\"\"\n",
    "    This function takes two numbers as input and returns their sum.\n",
    "    \"\"\"\n",
    "    return num1 + num2\n",
    "\n",
    "num1 = float(input(\"Enter the first number: \"))\n",
    "num2 = float(input(\"Enter the second number: \"))\n",
    "\n",
    "result = calculate_sum(num1, num2)\n",
    "\n",
    "print(f\"The sum of {num1} and {num2} is: {result}\")\n"
   ]
  },
  {
   "cell_type": "markdown",
   "id": "e01ef7d1-7472-410a-8cd0-f758050ad43d",
   "metadata": {},
   "source": [
    "5. What is a function signature, and what information does it typically include?"
   ]
  },
  {
   "cell_type": "markdown",
   "id": "b32aa892-5ee8-479f-b3ad-85dbaed52ae9",
   "metadata": {},
   "source": [
    "return_type function_name(parameter1_type parameter1_name, parameter2_type parameter2_name, ...)\n"
   ]
  },
  {
   "cell_type": "code",
   "execution_count": 13,
   "id": "5daeef84-d6df-4cff-becc-70f3599ca4fe",
   "metadata": {},
   "outputs": [
    {
     "ename": "SyntaxError",
     "evalue": "incomplete input (287294581.py, line 1)",
     "output_type": "error",
     "traceback": [
      "\u001b[0;36m  Cell \u001b[0;32mIn[13], line 1\u001b[0;36m\u001b[0m\n\u001b[0;31m    def calculate_sum(num1: int, num2: int) -> int:\u001b[0m\n\u001b[0m                                                   ^\u001b[0m\n\u001b[0;31mSyntaxError\u001b[0m\u001b[0;31m:\u001b[0m incomplete input\n"
     ]
    }
   ],
   "source": [
    "def calculate_sum(num1: int, num2: int) -> int:\n"
   ]
  },
  {
   "cell_type": "code",
   "execution_count": 14,
   "id": "1fb3e7ab-db20-4cdc-977a-545116904a78",
   "metadata": {},
   "outputs": [
    {
     "ename": "SyntaxError",
     "evalue": "invalid syntax (1179638677.py, line 1)",
     "output_type": "error",
     "traceback": [
      "\u001b[0;36m  Cell \u001b[0;32mIn[14], line 1\u001b[0;36m\u001b[0m\n\u001b[0;31m    int add(int num1, int num2);\u001b[0m\n\u001b[0m        ^\u001b[0m\n\u001b[0;31mSyntaxError\u001b[0m\u001b[0;31m:\u001b[0m invalid syntax\n"
     ]
    }
   ],
   "source": [
    "int add(int num1, int num2);\n"
   ]
  },
  {
   "cell_type": "markdown",
   "id": "489c7eec-0e1f-4b41-bf2b-6df9dbeaead8",
   "metadata": {},
   "source": [
    "6. Create a Python function that takes two arguments and returns their product."
   ]
  },
  {
   "cell_type": "code",
   "execution_count": 15,
   "id": "039fbb00-53cf-4044-990f-2f4ba6718f79",
   "metadata": {},
   "outputs": [
    {
     "name": "stdout",
     "output_type": "stream",
     "text": [
      "The product is: 15\n"
     ]
    }
   ],
   "source": [
    "def calculate_product(num1, num2):\n",
    "    \"\"\"\n",
    "    This function takes two numbers as input and returns their product.\n",
    "    \"\"\"\n",
    "    product = num1 * num2\n",
    "    return product\n",
    "\n",
    "result = calculate_product(5, 3)\n",
    "print(f\"The product is: {result}\")\n"
   ]
  },
  {
   "cell_type": "markdown",
   "id": "1f445eb1-216e-4e4e-8592-069420671612",
   "metadata": {},
   "source": [
    "Function Parameters and Arguments:\n"
   ]
  },
  {
   "cell_type": "code",
   "execution_count": null,
   "id": "1e4405f7-7b1f-4831-a6b2-9ab577ad4e48",
   "metadata": {},
   "outputs": [],
   "source": []
  },
  {
   "cell_type": "markdown",
   "id": "34fae198-1c1a-402b-bc2b-78e1893d3f4e",
   "metadata": {},
   "source": [
    "1. Explain the concepts of formal parameters and actual arguments in Python functions."
   ]
  },
  {
   "cell_type": "code",
   "execution_count": 16,
   "id": "659f35fa-8f07-4827-9823-d11bfc2f4d45",
   "metadata": {},
   "outputs": [],
   "source": [
    "def calculate_sum(a, b):\n",
    "    result = a + b\n",
    "    return result\n"
   ]
  },
  {
   "cell_type": "markdown",
   "id": "55d8c35e-0596-496e-bc6e-637d2f46bcdf",
   "metadata": {},
   "source": [
    "2. Write a Python program that defines a function with default argument values."
   ]
  },
  {
   "cell_type": "code",
   "execution_count": 18,
   "id": "3938ce4f-a293-434d-b049-5e9487113918",
   "metadata": {},
   "outputs": [
    {
     "name": "stdout",
     "output_type": "stream",
     "text": [
      "Hello, Guest!\n",
      "Hello, Rizwan!\n"
     ]
    }
   ],
   "source": [
    "def greet(name=\"Guest\"):\n",
    "    \"\"\"\n",
    "    This function greets a person with the provided name (or \"Guest\" if no name is provided).\n",
    "    \"\"\"\n",
    "    print(f\"Hello, {name}!\")\n",
    "\n",
    "greet()  \n",
    "greet(\"Rizwan\")  \n"
   ]
  },
  {
   "cell_type": "markdown",
   "id": "58c7e0c9-f23d-4132-b936-fb1d3c451799",
   "metadata": {},
   "source": [
    "3. How do you use keyword arguments in Python function calls? Provide an example."
   ]
  },
  {
   "cell_type": "code",
   "execution_count": 19,
   "id": "2a2c4e7d-29de-4019-82b3-3dfd8097e7b8",
   "metadata": {},
   "outputs": [
    {
     "name": "stdout",
     "output_type": "stream",
     "text": [
      "Hello, Rizwan! You are 30 years old.\n",
      "Hello, Taskeen! You are 25 years old.\n"
     ]
    }
   ],
   "source": [
    "def greet(name, age):\n",
    "    \"\"\"\n",
    "    This function greets a person with their name and age.\n",
    "    \"\"\"\n",
    "    print(f\"Hello, {name}! You are {age} years old.\")\n",
    "\n",
    "greet(name=\"Rizwan\", age=30)\n",
    "greet(age=25, name=\"Taskeen\")\n"
   ]
  },
  {
   "cell_type": "markdown",
   "id": "8c35c1b8-d884-4e7b-989b-da33547828ae",
   "metadata": {},
   "source": [
    "4. Create a Python function that accepts a variable number of arguments and calculates their sum."
   ]
  },
  {
   "cell_type": "code",
   "execution_count": 20,
   "id": "1e313f76-e309-4509-b0f1-8aee91237b19",
   "metadata": {},
   "outputs": [
    {
     "name": "stdout",
     "output_type": "stream",
     "text": [
      "Sum 1: 16\n",
      "Sum 2: 150\n"
     ]
    }
   ],
   "source": [
    "def calculate_sum(*args):\n",
    "    \"\"\"\n",
    "    This function accepts a variable number of arguments and calculates their sum.\n",
    "    \"\"\"\n",
    "    total = 0\n",
    "    for num in args:\n",
    "        total += num\n",
    "    return total\n",
    "\n",
    "result1 = calculate_sum(5, 3, 8)\n",
    "result2 = calculate_sum(10, 20, 30, 40, 50)\n",
    "\n",
    "print(f\"Sum 1: {result1}\")\n",
    "print(f\"Sum 2: {result2}\")\n"
   ]
  },
  {
   "cell_type": "markdown",
   "id": "16791542-5eec-4f03-87ac-84b17b65be28",
   "metadata": {},
   "source": [
    "5. What is the purpose of the `*args` and `**kwargs` syntax in function parameter lists?"
   ]
  },
  {
   "cell_type": "code",
   "execution_count": 21,
   "id": "557d9e01-8f4a-4207-a66b-f4c80d82da72",
   "metadata": {},
   "outputs": [],
   "source": [
    "def sum_all(*args):\n",
    "    total = 0\n",
    "    for num in args:\n",
    "        total += num\n",
    "    return total\n"
   ]
  },
  {
   "cell_type": "code",
   "execution_count": 22,
   "id": "5f6d7c9e-4c3b-485f-9c3d-e25aada59a92",
   "metadata": {},
   "outputs": [],
   "source": [
    "def display_info(**kwargs):\n",
    "    for key, value in kwargs.items():\n",
    "        print(f\"{key}: {value}\")\n"
   ]
  },
  {
   "cell_type": "markdown",
   "id": "5c73e87d-9457-44fd-b1bc-4710ec82a299",
   "metadata": {},
   "source": [
    "Return Values and Scoping:\n"
   ]
  },
  {
   "cell_type": "code",
   "execution_count": null,
   "id": "711dd1b3-bee1-447c-b6b9-1fbcfb22b06c",
   "metadata": {},
   "outputs": [],
   "source": []
  },
  {
   "cell_type": "markdown",
   "id": "ca3ad76c-2af6-44da-9bad-b58c5c3c8472",
   "metadata": {},
   "source": [
    "1. Describe the role of the `return` statement in Python functions and provide examples."
   ]
  },
  {
   "cell_type": "code",
   "execution_count": 23,
   "id": "6abcbc13-fb13-45a6-a4b6-ecb150fcfb1a",
   "metadata": {},
   "outputs": [
    {
     "name": "stdout",
     "output_type": "stream",
     "text": [
      "(3, 3)\n"
     ]
    }
   ],
   "source": [
    "def divide_and_remainder(dividend, divisor):\n",
    "    quotient = dividend // divisor\n",
    "    remainder = dividend % divisor\n",
    "    return quotient, remainder\n",
    "\n",
    "result = divide_and_remainder(15, 4)\n",
    "print(result)  \n"
   ]
  },
  {
   "cell_type": "markdown",
   "id": "257125b7-a931-4037-833a-64f33607bd45",
   "metadata": {},
   "source": [
    "2. Explain the concept of variable scope in Python, including local and global variables."
   ]
  },
  {
   "cell_type": "code",
   "execution_count": 25,
   "id": "2e5b27ac-ded6-4b15-bf8d-286cd6c1875e",
   "metadata": {},
   "outputs": [
    {
     "name": "stdout",
     "output_type": "stream",
     "text": [
      "10\n"
     ]
    },
    {
     "ename": "NameError",
     "evalue": "name 'x' is not defined",
     "output_type": "error",
     "traceback": [
      "\u001b[0;31m---------------------------------------------------------------------------\u001b[0m",
      "\u001b[0;31mNameError\u001b[0m                                 Traceback (most recent call last)",
      "Cell \u001b[0;32mIn[25], line 8\u001b[0m\n\u001b[1;32m      5\u001b[0m     \u001b[38;5;28mprint\u001b[39m(x)\n\u001b[1;32m      7\u001b[0m my_function() \n\u001b[0;32m----> 8\u001b[0m \u001b[38;5;28mprint\u001b[39m(\u001b[43mx\u001b[49m)\n",
      "\u001b[0;31mNameError\u001b[0m: name 'x' is not defined"
     ]
    }
   ],
   "source": [
    "#local variable\n",
    "\n",
    "def my_function():\n",
    "    x = 10  \n",
    "    print(x)\n",
    "\n",
    "my_function() \n",
    "print(x)\n"
   ]
  },
  {
   "cell_type": "code",
   "execution_count": 26,
   "id": "e8808cf4-9e44-4197-81b2-57287358145f",
   "metadata": {},
   "outputs": [
    {
     "name": "stdout",
     "output_type": "stream",
     "text": [
      "15\n"
     ]
    }
   ],
   "source": [
    "#global variable\n",
    "x = 10  \n",
    "\n",
    "def my_function():\n",
    "    global x\n",
    "    x += 5  \n",
    "\n",
    "my_function() \n",
    "print(x) \n"
   ]
  },
  {
   "cell_type": "markdown",
   "id": "7228ebb3-db1c-4e1e-b46b-2e82d8106dd8",
   "metadata": {},
   "source": [
    "3. Write a Python program that demonstrates the use of global variables within functions."
   ]
  },
  {
   "cell_type": "code",
   "execution_count": 27,
   "id": "ed3c73bd-231e-4070-92e4-978469c14a69",
   "metadata": {},
   "outputs": [
    {
     "name": "stdout",
     "output_type": "stream",
     "text": [
      "Before modification:\n",
      "The global variable is: 10\n",
      "After modification:\n",
      "The global variable is: 15\n"
     ]
    }
   ],
   "source": [
    "global_var = 10\n",
    "\n",
    "def modify_global_variable():\n",
    "    global global_var\n",
    "    global_var += 5\n",
    "\n",
    "def display_global_variable():\n",
    "    print(f\"The global variable is: {global_var}\")\n",
    "\n",
    "print(\"Before modification:\")\n",
    "display_global_variable()\n",
    "\n",
    "modify_global_variable()\n",
    "\n",
    "print(\"After modification:\")\n",
    "display_global_variable()\n"
   ]
  },
  {
   "cell_type": "markdown",
   "id": "f4fc1e59-4bda-474e-8e81-a1e0da3c766c",
   "metadata": {},
   "source": [
    "4. Create a Python function that calculates the factorial of a number and returns it."
   ]
  },
  {
   "cell_type": "code",
   "execution_count": 28,
   "id": "6bdc4d2e-b56a-45e3-b684-bed94d003a1e",
   "metadata": {},
   "outputs": [
    {
     "name": "stdout",
     "output_type": "stream",
     "text": [
      "The factorial of 5 is: 120\n"
     ]
    }
   ],
   "source": [
    "def factorial(n):\n",
    "    \"\"\"\n",
    "    This function calculates the factorial of a non-negative integer 'n'.\n",
    "    \"\"\"\n",
    "    if n < 0:\n",
    "        return \"Factorial is not defined for negative numbers\"\n",
    "    elif n == 0:\n",
    "        return 1  \n",
    "    else:\n",
    "        result = 1\n",
    "        for i in range(1, n + 1):\n",
    "            result *= i\n",
    "        return result\n",
    "\n",
    "num = 5\n",
    "fact = factorial(num)\n",
    "print(f\"The factorial of {num} is: {fact}\")\n"
   ]
  },
  {
   "cell_type": "markdown",
   "id": "d3d37553-dd50-4a21-aedf-46abc85725d5",
   "metadata": {},
   "source": [
    "5. How can you access variables defined outside a function from within the function?"
   ]
  },
  {
   "cell_type": "code",
   "execution_count": 29,
   "id": "8f5f9d8a-bdc5-48a1-a9e0-def0e4188e09",
   "metadata": {},
   "outputs": [
    {
     "name": "stdout",
     "output_type": "stream",
     "text": [
      "Inside the function: global_var = 10\n",
      "Outside the function: global_var = 10\n"
     ]
    }
   ],
   "source": [
    "global_var = 10\n",
    "\n",
    "def access_global_variable():\n",
    "    print(f\"Inside the function: global_var = {global_var}\")\n",
    "\n",
    "access_global_variable()\n",
    "\n",
    "print(f\"Outside the function: global_var = {global_var}\")\n"
   ]
  },
  {
   "cell_type": "code",
   "execution_count": null,
   "id": "ad6e35ff-e8e6-4d9c-bb30-5a9baf941816",
   "metadata": {},
   "outputs": [],
   "source": []
  },
  {
   "cell_type": "markdown",
   "id": "2b5fd1ed-b69c-42fb-9e5d-dd3d3f953f05",
   "metadata": {},
   "source": [
    "Lambda Functions and Higher-Order Functions:"
   ]
  },
  {
   "cell_type": "code",
   "execution_count": null,
   "id": "29182f5f-b178-49b9-9b69-26e01e70a7af",
   "metadata": {},
   "outputs": [],
   "source": []
  },
  {
   "cell_type": "markdown",
   "id": "cea91da4-3644-4bd6-a01a-cbee3fe1b947",
   "metadata": {},
   "source": [
    "1. What are lambda functions in Python, and when are they typically used?"
   ]
  },
  {
   "cell_type": "markdown",
   "id": "f42b620b-b4ed-432a-8f2f-649defd22c0b",
   "metadata": {},
   "source": [
    "lambda arguments: expression"
   ]
  },
  {
   "cell_type": "code",
   "execution_count": 30,
   "id": "fd7a15f0-f4c5-42f7-9675-14d956753cae",
   "metadata": {},
   "outputs": [],
   "source": [
    "numbers = [1, 2, 3, 4, 5]\n",
    "squared = list(map(lambda x: x ** 2, numbers))\n"
   ]
  },
  {
   "cell_type": "code",
   "execution_count": 31,
   "id": "362f124f-5d0a-4918-963f-374802de6856",
   "metadata": {},
   "outputs": [],
   "source": [
    "data = [(1, 4), (3, 2), (2, 7)]\n",
    "sorted_data = sorted(data, key=lambda x: x[1])\n"
   ]
  },
  {
   "cell_type": "markdown",
   "id": "ed8c0ac2-5f0d-428c-8e22-22763aaac063",
   "metadata": {},
   "source": [
    "2. Write a Python program that uses lambda functions to sort a list of tuples based on the second element."
   ]
  },
  {
   "cell_type": "code",
   "execution_count": 32,
   "id": "00ef3ff7-63f5-4c4e-883f-41c715628669",
   "metadata": {},
   "outputs": [
    {
     "name": "stdout",
     "output_type": "stream",
     "text": [
      "Sorted data based on the second element of each tuple:\n",
      "(5, 1)\n",
      "(3, 2)\n",
      "(1, 4)\n",
      "(2, 7)\n"
     ]
    }
   ],
   "source": [
    "data = [(1, 4), (3, 2), (2, 7), (5, 1)]\n",
    "\n",
    "sorted_data = sorted(data, key=lambda x: x[1])\n",
    "\n",
    "print(\"Sorted data based on the second element of each tuple:\")\n",
    "for item in sorted_data:\n",
    "    print(item)\n"
   ]
  },
  {
   "cell_type": "markdown",
   "id": "c9760bae-4a47-47c1-a681-152db58a0b1b",
   "metadata": {},
   "source": [
    "3. Explain the concept of higher-order functions in Python, and provide an example."
   ]
  },
  {
   "cell_type": "code",
   "execution_count": 33,
   "id": "dff5edce-874a-4850-95b1-a139d2d43b20",
   "metadata": {},
   "outputs": [
    {
     "name": "stdout",
     "output_type": "stream",
     "text": [
      "Result 1: 7\n",
      "Result 2: 10\n"
     ]
    }
   ],
   "source": [
    "def apply_operation(operation, x, y):\n",
    "    \"\"\"\n",
    "    This higher-order function takes an operation function and applies it to two values, 'x' and 'y'.\n",
    "    \"\"\"\n",
    "    return operation(x, y)\n",
    "\n",
    "def add(a, b):\n",
    "    return a + b\n",
    "\n",
    "def multiply(a, b):\n",
    "    return a * b\n",
    "\n",
    "result1 = apply_operation(add, 3, 4)       \n",
    "result2 = apply_operation(multiply, 2, 5)  \n",
    "\n",
    "print(\"Result 1:\", result1)\n",
    "print(\"Result 2:\", result2)\n"
   ]
  },
  {
   "cell_type": "markdown",
   "id": "5374376f-0ba6-4ff6-bcf2-2605042ce3fd",
   "metadata": {},
   "source": [
    "4. Create a Python function that takes a list of numbers and a function as arguments, applying the function to each element in the list."
   ]
  },
  {
   "cell_type": "code",
   "execution_count": 34,
   "id": "e48b166d-9f96-4b72-a259-30c7c49d08d2",
   "metadata": {},
   "outputs": [
    {
     "name": "stdout",
     "output_type": "stream",
     "text": [
      "Original Numbers: [1, 2, 3, 4, 5]\n",
      "Squared Numbers: [1, 4, 9, 16, 25]\n"
     ]
    }
   ],
   "source": [
    "def apply_function_to_list(numbers, func):\n",
    "    \"\"\"\n",
    "    This function takes a list of numbers and a function as arguments,\n",
    "    applying the given function to each element in the list and returning the results as a new list.\n",
    "    \"\"\"\n",
    "    result = []\n",
    "    for number in numbers:\n",
    "        result.append(func(number))\n",
    "    return result\n",
    "\n",
    "numbers = [1, 2, 3, 4, 5]\n",
    "\n",
    "def square(x):\n",
    "    return x ** 2\n",
    "\n",
    "squared_numbers = apply_function_to_list(numbers, square)\n",
    "print(\"Original Numbers:\", numbers)\n",
    "print(\"Squared Numbers:\", squared_numbers)\n"
   ]
  },
  {
   "cell_type": "code",
   "execution_count": null,
   "id": "6c7958cf-cec4-4147-93bc-400301f1b540",
   "metadata": {},
   "outputs": [],
   "source": []
  },
  {
   "cell_type": "markdown",
   "id": "f5523446-5125-4681-b299-c43097d0aa16",
   "metadata": {},
   "source": [
    "Built-in Functions:\n"
   ]
  },
  {
   "cell_type": "code",
   "execution_count": null,
   "id": "ccd25dec-03f9-4905-a1be-12b2ec7cd018",
   "metadata": {},
   "outputs": [],
   "source": []
  },
  {
   "cell_type": "markdown",
   "id": "5e9c10d0-6e95-4d5d-816a-4c8b4fc86b66",
   "metadata": {},
   "source": [
    "1. Describe the role of built-in functions like `len()`, `max()`, and `min()` in Python."
   ]
  },
  {
   "cell_type": "code",
   "execution_count": 36,
   "id": "156e6312-1bd5-4083-b2fe-8a8ab35d6a3a",
   "metadata": {},
   "outputs": [],
   "source": [
    "my_list = [1, 2, 3, 4, 5]\n",
    "length = len(my_list)  \n"
   ]
  },
  {
   "cell_type": "code",
   "execution_count": 38,
   "id": "d0523950-f065-43e1-a591-f0972c9dafce",
   "metadata": {},
   "outputs": [],
   "source": [
    "numbers = [10, 5, 8, 20, 3]\n",
    "max_value = max(numbers)  \n"
   ]
  },
  {
   "cell_type": "code",
   "execution_count": 39,
   "id": "e893ce61-7fa0-41ff-9480-b9dfe1cbd1a4",
   "metadata": {},
   "outputs": [],
   "source": [
    "numbers = [10, 5, 8, 20, 3]\n",
    "min_value = min(numbers)  \n"
   ]
  },
  {
   "cell_type": "markdown",
   "id": "04fb6813-5b63-4428-aa2e-4b7536d7be25",
   "metadata": {},
   "source": [
    "2. Write a Python program that uses the `map()` function to apply a function to each element of a list."
   ]
  },
  {
   "cell_type": "code",
   "execution_count": null,
   "id": "8b3d023e-7b81-4054-92ea-6be7661b5cb4",
   "metadata": {},
   "outputs": [],
   "source": [
    "def double(x):\n",
    "    return x * 2\n",
    "\n",
    "numbers = [1, 2, 3, 4, 5]\n",
    "\n",
    "doubled_numbers = map(double, numbers)\n",
    "\n",
    "doubled_numbers_list = list(doubled_numbers)\n",
    "\n",
    "# Display the original and doubled numbers\n",
    "print(\"Original Numbers:\", numbers)\n",
    "print(\"Doubled Numbers:\", doubled_numbers_list)\n"
   ]
  },
  {
   "cell_type": "markdown",
   "id": "d18cb839-d258-41d0-bb16-85d57d404099",
   "metadata": {},
   "source": [
    "3. How does the `filter()` function work in Python, and when would you use it?"
   ]
  },
  {
   "cell_type": "code",
   "execution_count": null,
   "id": "a08fcda7-08eb-45fa-954d-4150b7af1022",
   "metadata": {},
   "outputs": [],
   "source": []
  },
  {
   "cell_type": "markdown",
   "id": "ca571c15-70d4-4d17-847d-ea542e2af19d",
   "metadata": {},
   "source": [
    "4. Create a Python program that uses the `reduce()` function to find the product of all elements in a list."
   ]
  },
  {
   "cell_type": "code",
   "execution_count": null,
   "id": "50db62f3-f3aa-4a7b-95cf-8b4ac336f002",
   "metadata": {},
   "outputs": [],
   "source": []
  },
  {
   "cell_type": "code",
   "execution_count": null,
   "id": "0ffb03cf-01b1-46c7-a5d0-09fc1a82c318",
   "metadata": {},
   "outputs": [],
   "source": []
  },
  {
   "cell_type": "markdown",
   "id": "083b085f-60da-49cd-8df2-33ce01d4f6e4",
   "metadata": {},
   "source": [
    "Function Documentation and Best Practices:\n"
   ]
  },
  {
   "cell_type": "code",
   "execution_count": null,
   "id": "94e4b4fe-521b-4124-92b7-3ba2b9a83168",
   "metadata": {},
   "outputs": [],
   "source": []
  },
  {
   "cell_type": "markdown",
   "id": "63df52db-8e9b-4785-b9f9-646c981b1869",
   "metadata": {},
   "source": [
    "1. Explain the purpose of docstrings in Python functions and how to write them."
   ]
  },
  {
   "cell_type": "code",
   "execution_count": 2,
   "id": "20b5ffd8-6c64-4940-855b-e7a5979d7e78",
   "metadata": {},
   "outputs": [],
   "source": [
    "def my_function():\n",
    "    \"\"\"\n",
    "    This is a docstring.\n",
    "    It provides a description of what the function does.\n",
    "    \"\"\"\n",
    "    # Function code here\n"
   ]
  },
  {
   "cell_type": "code",
   "execution_count": 3,
   "id": "6d6041a7-e14c-4698-81c9-bbb29c458da4",
   "metadata": {},
   "outputs": [],
   "source": [
    "def calculate_area(length, width):\n",
    "    \"\"\"\n",
    "    Calculate the area of a rectangle.\n",
    "\n",
    "    Parameters:\n",
    "    - length (float): The length of the rectangle.\n",
    "    - width (float): The width of the rectangle.\n",
    "\n",
    "    Returns:\n",
    "    float: The area of the rectangle.\n",
    "    \"\"\"\n",
    "    return length * width\n"
   ]
  },
  {
   "cell_type": "code",
   "execution_count": 4,
   "id": "234d78d0-40b1-4df8-bebe-6f4dac55da22",
   "metadata": {},
   "outputs": [
    {
     "name": "stdout",
     "output_type": "stream",
     "text": [
      "Help on function calculate_area in module __main__:\n",
      "\n",
      "calculate_area(length, width)\n",
      "    Calculate the area of a rectangle.\n",
      "    \n",
      "    Parameters:\n",
      "    - length (float): The length of the rectangle.\n",
      "    - width (float): The width of the rectangle.\n",
      "    \n",
      "    Returns:\n",
      "    float: The area of the rectangle.\n",
      "\n",
      "\n",
      "    Calculate the area of a rectangle.\n",
      "\n",
      "    Parameters:\n",
      "    - length (float): The length of the rectangle.\n",
      "    - width (float): The width of the rectangle.\n",
      "\n",
      "    Returns:\n",
      "    float: The area of the rectangle.\n",
      "    \n"
     ]
    }
   ],
   "source": [
    "# Using the help() function\n",
    "help(calculate_area)\n",
    "\n",
    "# Accessing the docstring directly\n",
    "print(calculate_area.__doc__)\n"
   ]
  },
  {
   "cell_type": "code",
   "execution_count": 5,
   "id": "15801039-b8da-4c88-a664-97cf65873f6d",
   "metadata": {},
   "outputs": [],
   "source": [
    "def complex_function(param1, param2):\n",
    "    \"\"\"\n",
    "    This is a multi-line docstring.\n",
    "\n",
    "    It can include additional details, examples, and explanations.\n",
    "\n",
    "    Parameters:\n",
    "    - param1 (type): Description of param1.\n",
    "    - param2 (type): Description of param2.\n",
    "\n",
    "    Returns:\n",
    "    type: Description of the return value.\n",
    "    \"\"\"\n",
    "    # Function code here\n"
   ]
  },
  {
   "cell_type": "markdown",
   "id": "12e0c906-5422-42a6-8ae5-52114dd6d24a",
   "metadata": {},
   "source": [
    "2. Describe some best practices for naming functions and variables in Python, including naming conventions and guidelines."
   ]
  },
  {
   "cell_type": "markdown",
   "id": "58b74d53-47d8-4168-8ba2-c367781c18fa",
   "metadata": {},
   "source": [
    "Use descriptive and meaningful names: Choose names that accurately represent the purpose of the code in the function or variable.\n",
    "Follow the PEP 8 conventions: The Python Enhancement Proposal (PEP) 8 recommends naming conventions for Python code, including lowercase letters, underscores, and camelCase.\n",
    "Use consistent naming conventions: Choose a consistent naming convention throughout your code and stick to it.\n",
    "Avoid vague or misleading names: Names should clearly communicate what the function or variable does, avoid any confusion.\n",
    "Use definitive names: Anonymous functions, variables, and functions should have descriptive names that are easy to understand at a\n"
   ]
  },
  {
   "cell_type": "code",
   "execution_count": null,
   "id": "e38b09f2-d727-4d46-ae30-dabc5ebb394b",
   "metadata": {},
   "outputs": [],
   "source": []
  },
  {
   "cell_type": "code",
   "execution_count": null,
   "id": "b51b1e4f-73ba-4f89-b212-4d5f9e3808c6",
   "metadata": {},
   "outputs": [],
   "source": []
  },
  {
   "cell_type": "code",
   "execution_count": null,
   "id": "03f9548b-0f01-4b63-bbb6-5079e472fd3f",
   "metadata": {},
   "outputs": [],
   "source": []
  },
  {
   "cell_type": "code",
   "execution_count": null,
   "id": "e2dd07d8-0c08-4850-a911-acd1cf9e3562",
   "metadata": {},
   "outputs": [],
   "source": []
  },
  {
   "cell_type": "code",
   "execution_count": null,
   "id": "cf433a3b-5241-464f-ac98-07b3843d427c",
   "metadata": {},
   "outputs": [],
   "source": []
  },
  {
   "cell_type": "code",
   "execution_count": null,
   "id": "95476399-8b38-483d-90a5-05f67ee17adc",
   "metadata": {},
   "outputs": [],
   "source": []
  }
 ],
 "metadata": {
  "kernelspec": {
   "display_name": "Python 3 (ipykernel)",
   "language": "python",
   "name": "python3"
  },
  "language_info": {
   "codemirror_mode": {
    "name": "ipython",
    "version": 3
   },
   "file_extension": ".py",
   "mimetype": "text/x-python",
   "name": "python",
   "nbconvert_exporter": "python",
   "pygments_lexer": "ipython3",
   "version": "3.10.8"
  }
 },
 "nbformat": 4,
 "nbformat_minor": 5
}
