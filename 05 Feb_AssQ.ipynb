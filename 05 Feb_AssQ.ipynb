{
 "cells": [
  {
   "cell_type": "code",
   "execution_count": 1,
   "id": "42f097f5-a55b-4c5a-8468-ac1176db5804",
   "metadata": {},
   "outputs": [],
   "source": [
    "#Q1. Explain Class and Object with respect to Object-Oriented Programming. Give a suitable example."
   ]
  },
  {
   "cell_type": "code",
   "execution_count": 2,
   "id": "4172a523-44df-4c21-9aa8-499561ba490b",
   "metadata": {},
   "outputs": [],
   "source": [
    "class Car:\n",
    "    def __init__(self, make, model, year):\n",
    "        self.make = make\n",
    "        self.model = model\n",
    "        self.year = year\n",
    "        self.speed = 0\n",
    "\n",
    "    def accelerate(self, increment):\n",
    "        self.speed += increment\n",
    "\n",
    "    def brake(self, decrement):\n",
    "        self.speed -= decrement\n",
    "\n",
    "    def get_speed(self):\n",
    "        return self.speed\n"
   ]
  },
  {
   "cell_type": "code",
   "execution_count": 3,
   "id": "483f3ffe-79be-4ab1-85b5-16735d48e871",
   "metadata": {},
   "outputs": [],
   "source": [
    "car1 = Car(\"Toyota\", \"Camry\", 2022)\n",
    "car2 = Car(\"Honda\", \"Civic\", 2023)"
   ]
  },
  {
   "cell_type": "code",
   "execution_count": 4,
   "id": "a28588de-4733-40b6-b90d-4c7b020441fd",
   "metadata": {},
   "outputs": [],
   "source": [
    "car1.accelerate(30)\n",
    "car2.accelerate(20)"
   ]
  },
  {
   "cell_type": "code",
   "execution_count": 5,
   "id": "7c454ffc-5a72-4687-803f-d260d8764cb3",
   "metadata": {},
   "outputs": [],
   "source": [
    "car1.brake(10)\n",
    "car2.brake(5)"
   ]
  },
  {
   "cell_type": "code",
   "execution_count": 6,
   "id": "4a0125e0-010f-45dd-a1c5-3431d53c941e",
   "metadata": {},
   "outputs": [
    {
     "name": "stdout",
     "output_type": "stream",
     "text": [
      "Car 1 speed: 20\n"
     ]
    }
   ],
   "source": [
    "print(\"Car 1 speed:\", car1.get_speed())"
   ]
  },
  {
   "cell_type": "code",
   "execution_count": 7,
   "id": "782d2ff7-9613-43d5-99ab-7be4d6ce5e38",
   "metadata": {},
   "outputs": [
    {
     "name": "stdout",
     "output_type": "stream",
     "text": [
      "Car 2 speed: 15\n"
     ]
    }
   ],
   "source": [
    "print(\"Car 2 speed:\", car2.get_speed())"
   ]
  },
  {
   "cell_type": "code",
   "execution_count": 8,
   "id": "c45bb1f5-bb84-4eb8-911d-271ab0b573f3",
   "metadata": {},
   "outputs": [],
   "source": [
    "#Q2. Name the four pillars of OOPs."
   ]
  },
  {
   "cell_type": "code",
   "execution_count": 10,
   "id": "be196b11-77a3-44dc-9058-e1d83648ada3",
   "metadata": {},
   "outputs": [],
   "source": [
    "#Encapsulation Abstraction Inheritance Polymorphism"
   ]
  },
  {
   "cell_type": "code",
   "execution_count": 11,
   "id": "c2de22ac-ebb0-4567-b89d-49689ea3552a",
   "metadata": {},
   "outputs": [],
   "source": [
    "#Q3. Explain why the __init__() function is used. Give a suitable example."
   ]
  },
  {
   "cell_type": "code",
   "execution_count": 12,
   "id": "c7226fae-8b25-4294-a86c-6265569165bd",
   "metadata": {},
   "outputs": [],
   "source": [
    "#When you create an instance of a class, the __init__() method is automatically executed, allowing you to set up the object's initial state. It takes as its first argument the instance itself, usually named self, and any additional parameters you want to use to initialize the object's attributes."
   ]
  },
  {
   "cell_type": "code",
   "execution_count": 13,
   "id": "f9266895-8dc3-4896-8eff-f070771cc81d",
   "metadata": {},
   "outputs": [],
   "source": [
    "class Car:\n",
    "    def __init__(self, make, model, year):\n",
    "        self.make = make\n",
    "        self.model = model\n",
    "        self.year = year\n",
    "        self.is_engine_started = False\n",
    "\n",
    "    def start_engine(self):\n",
    "        self.is_engine_started = True\n",
    "        print(\"Engine started.\")\n",
    "\n",
    "    def stop_engine(self):\n",
    "        self.is_engine_started = False\n",
    "        print(\"Engine stopped.\")\n",
    "\n",
    "    def display_info(self):\n",
    "        print(f\"Make: {self.make}\")\n",
    "        print(f\"Model: {self.model}\")\n",
    "        print(f\"Year: {self.year}\")\n",
    "        print(\"Engine status:\", \"Started\" if self.is_engine_started else \"Stopped\")\n"
   ]
  },
  {
   "cell_type": "code",
   "execution_count": 14,
   "id": "53e90e9b-1480-4ebd-9741-c7afac2f41b9",
   "metadata": {},
   "outputs": [],
   "source": [
    "car1 = Car(\"Toyota\", \"Corolla\", 2020)\n",
    "car2 = Car(\"Tesla\", \"Model 3\", 2022)"
   ]
  },
  {
   "cell_type": "code",
   "execution_count": 15,
   "id": "85a5ae9a-0c5a-4fb1-844b-757934a60850",
   "metadata": {},
   "outputs": [
    {
     "name": "stdout",
     "output_type": "stream",
     "text": [
      "Make: Toyota\n",
      "Model: Corolla\n",
      "Year: 2020\n",
      "Engine status: Stopped\n",
      "Make: Tesla\n",
      "Model: Model 3\n",
      "Year: 2022\n",
      "Engine status: Stopped\n"
     ]
    }
   ],
   "source": [
    "car1.display_info()\n",
    "car2.display_info()"
   ]
  },
  {
   "cell_type": "code",
   "execution_count": 16,
   "id": "044a94a6-54d6-468d-a45e-bf1fe161ab0c",
   "metadata": {},
   "outputs": [
    {
     "name": "stdout",
     "output_type": "stream",
     "text": [
      "Engine started.\n"
     ]
    }
   ],
   "source": [
    "car1.start_engine()"
   ]
  },
  {
   "cell_type": "code",
   "execution_count": 17,
   "id": "f560d26d-9c3b-4145-8c87-a770f98201db",
   "metadata": {},
   "outputs": [
    {
     "name": "stdout",
     "output_type": "stream",
     "text": [
      "Make: Toyota\n",
      "Model: Corolla\n",
      "Year: 2020\n",
      "Engine status: Started\n",
      "Make: Tesla\n",
      "Model: Model 3\n",
      "Year: 2022\n",
      "Engine status: Stopped\n"
     ]
    }
   ],
   "source": [
    "car1.display_info()\n",
    "car2.display_info()"
   ]
  },
  {
   "cell_type": "code",
   "execution_count": 18,
   "id": "de73fcfc-2744-4a2c-840c-19f0826957dd",
   "metadata": {},
   "outputs": [
    {
     "name": "stdout",
     "output_type": "stream",
     "text": [
      "Engine stopped.\n"
     ]
    }
   ],
   "source": [
    "car1.stop_engine()"
   ]
  },
  {
   "cell_type": "code",
   "execution_count": 19,
   "id": "7d0e78b5-b465-43d2-8ef3-3e60e4e902f6",
   "metadata": {},
   "outputs": [
    {
     "name": "stdout",
     "output_type": "stream",
     "text": [
      "Make: Toyota\n",
      "Model: Corolla\n",
      "Year: 2020\n",
      "Engine status: Stopped\n",
      "Make: Tesla\n",
      "Model: Model 3\n",
      "Year: 2022\n",
      "Engine status: Stopped\n"
     ]
    }
   ],
   "source": [
    "car1.display_info()\n",
    "car2.display_info()"
   ]
  },
  {
   "cell_type": "code",
   "execution_count": 20,
   "id": "fb5e2c18-cddf-4be8-81ec-11698bdc0ee1",
   "metadata": {},
   "outputs": [],
   "source": [
    "#Q4. Why self is used in OOPs?"
   ]
  },
  {
   "cell_type": "code",
   "execution_count": 21,
   "id": "fec7dc3c-4244-4a7a-8355-7f9e0ee2bfca",
   "metadata": {},
   "outputs": [],
   "source": [
    "#self is a special variable that refers to the instance of the class itself. It is a convention used in many object-oriented programming languages like Python, Ruby, and others. The use of self is essential for various reasons:\n"
   ]
  },
  {
   "cell_type": "code",
   "execution_count": 22,
   "id": "d2ae0c55-411f-4161-82e9-d90f4dc59507",
   "metadata": {},
   "outputs": [],
   "source": [
    "#Q5. What is inheritance? Give an example for each type of inheritance."
   ]
  },
  {
   "cell_type": "code",
   "execution_count": 23,
   "id": "fa9142a2-af1a-4626-a2b8-b1ec87841f68",
   "metadata": {},
   "outputs": [],
   "source": [
    "#Inheritance is a fundamental feature in object-oriented programming that allows classes to inherit properties from other classes. It promotes code reusability and hierarchical organization of classes."
   ]
  },
  {
   "cell_type": "code",
   "execution_count": 24,
   "id": "f51bbfd4-9356-4291-b0fd-3219a332cc4d",
   "metadata": {},
   "outputs": [],
   "source": [
    "class Animal:\n",
    "    def speak(self):\n",
    "        print(\"Animal speaks!\")\n",
    "\n",
    "class Dog(Animal):\n",
    "    def speak(self):\n",
    "        print(\"Dog barks!\")\n"
   ]
  },
  {
   "cell_type": "code",
   "execution_count": 25,
   "id": "47f50c13-dddb-416a-a666-feb57c2197fe",
   "metadata": {},
   "outputs": [],
   "source": [
    "Dog = Dog()"
   ]
  },
  {
   "cell_type": "code",
   "execution_count": null,
   "id": "d9e5d93e-4b0a-4bf3-9c6f-1152aaed1b99",
   "metadata": {},
   "outputs": [],
   "source": [
    "dog.speak()  # Output: \"Dog barks!\""
   ]
  },
  {
   "cell_type": "code",
   "execution_count": null,
   "id": "8c5cbb86-4a72-4ee5-9567-cb764c064456",
   "metadata": {},
   "outputs": [],
   "source": []
  }
 ],
 "metadata": {
  "kernelspec": {
   "display_name": "Python 3 (ipykernel)",
   "language": "python",
   "name": "python3"
  },
  "language_info": {
   "codemirror_mode": {
    "name": "ipython",
    "version": 3
   },
   "file_extension": ".py",
   "mimetype": "text/x-python",
   "name": "python",
   "nbconvert_exporter": "python",
   "pygments_lexer": "ipython3",
   "version": "3.10.8"
  }
 },
 "nbformat": 4,
 "nbformat_minor": 5
}
