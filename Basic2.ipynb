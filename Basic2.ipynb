{
 "cells": [
  {
   "cell_type": "code",
   "execution_count": 1,
   "id": "67627a66-9c68-479a-8213-a401747b1d7f",
   "metadata": {},
   "outputs": [],
   "source": [
    "#list"
   ]
  },
  {
   "cell_type": "code",
   "execution_count": 2,
   "id": "96aec4e8-e777-44fc-b951-7694e12b0932",
   "metadata": {},
   "outputs": [],
   "source": [
    "l = []"
   ]
  },
  {
   "cell_type": "code",
   "execution_count": 3,
   "id": "a1ebc59b-90dc-429c-a3dd-d0c6ea0ffec3",
   "metadata": {},
   "outputs": [
    {
     "data": {
      "text/plain": [
       "list"
      ]
     },
     "execution_count": 3,
     "metadata": {},
     "output_type": "execute_result"
    }
   ],
   "source": [
    "type(l)"
   ]
  },
  {
   "cell_type": "code",
   "execution_count": 52,
   "id": "619024c8-f29d-4ee6-b75c-97786df192eb",
   "metadata": {},
   "outputs": [],
   "source": [
    "#list is combination of multiple type of data and it's mutabale data and be changed the data value by assignment operation"
   ]
  },
  {
   "cell_type": "code",
   "execution_count": 5,
   "id": "7f4e90e5-a756-4251-acfd-716e821148a0",
   "metadata": {},
   "outputs": [],
   "source": [
    "l1 = [1,2,3,4,5, 'rizwan' , 'khan' , 2+4j , 224.45 , True , [1,23,4,34]]"
   ]
  },
  {
   "cell_type": "code",
   "execution_count": 6,
   "id": "03a2325c-b8f4-4c90-96d7-8beca6108186",
   "metadata": {},
   "outputs": [
    {
     "data": {
      "text/plain": [
       "[1, 2, 3, 4, 5, 'rizwan', 'khan', (2+4j), 224.45, True, [1, 23, 4, 34]]"
      ]
     },
     "execution_count": 6,
     "metadata": {},
     "output_type": "execute_result"
    }
   ],
   "source": [
    "l1"
   ]
  },
  {
   "cell_type": "code",
   "execution_count": 7,
   "id": "b1b09995-7664-48dd-9b93-00d2984577b6",
   "metadata": {},
   "outputs": [
    {
     "data": {
      "text/plain": [
       "list"
      ]
     },
     "execution_count": 7,
     "metadata": {},
     "output_type": "execute_result"
    }
   ],
   "source": [
    "type(l1)"
   ]
  },
  {
   "cell_type": "code",
   "execution_count": 8,
   "id": "48b241c9-1488-46a7-9579-db71c3b438a5",
   "metadata": {},
   "outputs": [],
   "source": [
    "#extract the data from list"
   ]
  },
  {
   "cell_type": "code",
   "execution_count": 9,
   "id": "1af4af68-dd47-4c90-b53e-2464f1b2e628",
   "metadata": {},
   "outputs": [
    {
     "data": {
      "text/plain": [
       "'rizwan'"
      ]
     },
     "execution_count": 9,
     "metadata": {},
     "output_type": "execute_result"
    }
   ],
   "source": [
    "l1[5]"
   ]
  },
  {
   "cell_type": "code",
   "execution_count": 10,
   "id": "4867f701-e86f-464a-83f0-f4ef18ed84c4",
   "metadata": {},
   "outputs": [
    {
     "data": {
      "text/plain": [
       "str"
      ]
     },
     "execution_count": 10,
     "metadata": {},
     "output_type": "execute_result"
    }
   ],
   "source": [
    "type(l1[5])"
   ]
  },
  {
   "cell_type": "code",
   "execution_count": 11,
   "id": "b835e921-f810-4bca-ab23-8cd88fe7e20d",
   "metadata": {},
   "outputs": [
    {
     "data": {
      "text/plain": [
       "[1, 23, 4, 34]"
      ]
     },
     "execution_count": 11,
     "metadata": {},
     "output_type": "execute_result"
    }
   ],
   "source": [
    "l1[-1]"
   ]
  },
  {
   "cell_type": "code",
   "execution_count": 12,
   "id": "8744a082-85f8-4758-b8e6-46b465ab954f",
   "metadata": {},
   "outputs": [
    {
     "data": {
      "text/plain": [
       "list"
      ]
     },
     "execution_count": 12,
     "metadata": {},
     "output_type": "execute_result"
    }
   ],
   "source": [
    "type(l1[-1])"
   ]
  },
  {
   "cell_type": "code",
   "execution_count": 13,
   "id": "87e971fc-9935-42d9-b67a-6619e2f062c3",
   "metadata": {},
   "outputs": [
    {
     "data": {
      "text/plain": [
       "(2+4j)"
      ]
     },
     "execution_count": 13,
     "metadata": {},
     "output_type": "execute_result"
    }
   ],
   "source": [
    "l1[7]"
   ]
  },
  {
   "cell_type": "code",
   "execution_count": 14,
   "id": "11d2dc3f-cfc4-419e-8aa4-5cc078f8a01b",
   "metadata": {},
   "outputs": [
    {
     "data": {
      "text/plain": [
       "complex"
      ]
     },
     "execution_count": 14,
     "metadata": {},
     "output_type": "execute_result"
    }
   ],
   "source": [
    "type(l1[7])"
   ]
  },
  {
   "cell_type": "code",
   "execution_count": 15,
   "id": "84a0b2aa-ab37-41fe-a4b8-be0afb400828",
   "metadata": {},
   "outputs": [
    {
     "data": {
      "text/plain": [
       "224.45"
      ]
     },
     "execution_count": 15,
     "metadata": {},
     "output_type": "execute_result"
    }
   ],
   "source": [
    "l1[8]"
   ]
  },
  {
   "cell_type": "code",
   "execution_count": 16,
   "id": "f0cdded5-f76d-4970-8e91-ffa77da43090",
   "metadata": {},
   "outputs": [
    {
     "data": {
      "text/plain": [
       "float"
      ]
     },
     "execution_count": 16,
     "metadata": {},
     "output_type": "execute_result"
    }
   ],
   "source": [
    "type(l1[8])"
   ]
  },
  {
   "cell_type": "code",
   "execution_count": 17,
   "id": "36866a19-8473-4310-ac11-c04716b1d9e3",
   "metadata": {},
   "outputs": [
    {
     "data": {
      "text/plain": [
       "True"
      ]
     },
     "execution_count": 17,
     "metadata": {},
     "output_type": "execute_result"
    }
   ],
   "source": [
    "l1[9]"
   ]
  },
  {
   "cell_type": "code",
   "execution_count": 18,
   "id": "8f8b2e68-674e-4b78-bea4-cd1f463a9cce",
   "metadata": {},
   "outputs": [
    {
     "data": {
      "text/plain": [
       "bool"
      ]
     },
     "execution_count": 18,
     "metadata": {},
     "output_type": "execute_result"
    }
   ],
   "source": [
    "type(l1[9])"
   ]
  },
  {
   "cell_type": "code",
   "execution_count": 19,
   "id": "5687ffee-db4b-4e49-97a0-e64774fbce97",
   "metadata": {},
   "outputs": [
    {
     "data": {
      "text/plain": [
       "34"
      ]
     },
     "execution_count": 19,
     "metadata": {},
     "output_type": "execute_result"
    }
   ],
   "source": [
    "l1[-1][3]"
   ]
  },
  {
   "cell_type": "code",
   "execution_count": 20,
   "id": "e1cc517a-144a-483e-8f15-16a09c49c42e",
   "metadata": {},
   "outputs": [
    {
     "data": {
      "text/plain": [
       "int"
      ]
     },
     "execution_count": 20,
     "metadata": {},
     "output_type": "execute_result"
    }
   ],
   "source": [
    "type(l1[-1][3])"
   ]
  },
  {
   "cell_type": "code",
   "execution_count": 21,
   "id": "4d641324-4094-4ad7-8abe-e2f5e7c3d018",
   "metadata": {},
   "outputs": [
    {
     "data": {
      "text/plain": [
       "[1, 2, 3, 4, 5, 'rizwan', 'khan', (2+4j), 224.45, True, [1, 23, 4, 34]]"
      ]
     },
     "execution_count": 21,
     "metadata": {},
     "output_type": "execute_result"
    }
   ],
   "source": [
    "l1"
   ]
  },
  {
   "cell_type": "code",
   "execution_count": 23,
   "id": "8c415cc7-f549-4d3b-9812-2f335e50b489",
   "metadata": {},
   "outputs": [
    {
     "data": {
      "text/plain": [
       "[1, 2, 3, 4, 5]"
      ]
     },
     "execution_count": 23,
     "metadata": {},
     "output_type": "execute_result"
    }
   ],
   "source": [
    "l1[0:5]"
   ]
  },
  {
   "cell_type": "code",
   "execution_count": 24,
   "id": "fdedd72b-5fe3-44b6-9280-f67a819b9e9e",
   "metadata": {},
   "outputs": [],
   "source": [
    "l2 = [3,3,5,6, 'pwskills' , 'riz']"
   ]
  },
  {
   "cell_type": "code",
   "execution_count": 25,
   "id": "766da72b-655a-4092-9e5e-982839d8ac58",
   "metadata": {},
   "outputs": [
    {
     "data": {
      "text/plain": [
       "[3, 3, 5, 6, 'pwskills', 'riz']"
      ]
     },
     "execution_count": 25,
     "metadata": {},
     "output_type": "execute_result"
    }
   ],
   "source": [
    "l2"
   ]
  },
  {
   "cell_type": "code",
   "execution_count": 26,
   "id": "bcee0042-2ed1-4f5e-8bc1-4ec5ba0b8175",
   "metadata": {},
   "outputs": [],
   "source": [
    "#adding 2 list"
   ]
  },
  {
   "cell_type": "code",
   "execution_count": 27,
   "id": "2d58c5f7-0920-4bbb-953f-c826cac11755",
   "metadata": {},
   "outputs": [
    {
     "data": {
      "text/plain": [
       "[1,\n",
       " 2,\n",
       " 3,\n",
       " 4,\n",
       " 5,\n",
       " 'rizwan',\n",
       " 'khan',\n",
       " (2+4j),\n",
       " 224.45,\n",
       " True,\n",
       " [1, 23, 4, 34],\n",
       " 3,\n",
       " 3,\n",
       " 5,\n",
       " 6,\n",
       " 'pwskills',\n",
       " 'riz']"
      ]
     },
     "execution_count": 27,
     "metadata": {},
     "output_type": "execute_result"
    }
   ],
   "source": [
    "l1 + l2"
   ]
  },
  {
   "cell_type": "code",
   "execution_count": 29,
   "id": "291a8d3b-2cd2-4ac8-9999-2aac2b7a76a9",
   "metadata": {},
   "outputs": [
    {
     "ename": "TypeError",
     "evalue": "can only concatenate list (not \"str\") to list",
     "output_type": "error",
     "traceback": [
      "\u001b[0;31m---------------------------------------------------------------------------\u001b[0m",
      "\u001b[0;31mTypeError\u001b[0m                                 Traceback (most recent call last)",
      "Cell \u001b[0;32mIn[29], line 1\u001b[0m\n\u001b[0;32m----> 1\u001b[0m \u001b[43ml2\u001b[49m\u001b[43m \u001b[49m\u001b[38;5;241;43m+\u001b[39;49m\u001b[43m \u001b[49m\u001b[38;5;124;43m\"\u001b[39;49m\u001b[38;5;124;43mrizwan\u001b[39;49m\u001b[38;5;124;43m\"\u001b[39;49m\n",
      "\u001b[0;31mTypeError\u001b[0m: can only concatenate list (not \"str\") to list"
     ]
    }
   ],
   "source": [
    "l2 + \"rizwan\""
   ]
  },
  {
   "cell_type": "code",
   "execution_count": 30,
   "id": "9e57a1fa-3f68-4a93-bd6f-3588ccadb783",
   "metadata": {},
   "outputs": [
    {
     "data": {
      "text/plain": [
       "['r', 'i', 'z', 'w', 'a', 'n']"
      ]
     },
     "execution_count": 30,
     "metadata": {},
     "output_type": "execute_result"
    }
   ],
   "source": [
    "list(\"rizwan\")"
   ]
  },
  {
   "cell_type": "code",
   "execution_count": 32,
   "id": "84fc45a9-3339-4d63-baeb-d2e42bf6b151",
   "metadata": {},
   "outputs": [],
   "source": [
    "#multiply the list"
   ]
  },
  {
   "cell_type": "code",
   "execution_count": 31,
   "id": "5f9ad0a0-65e3-4d6b-be71-da6550f7edcc",
   "metadata": {},
   "outputs": [
    {
     "data": {
      "text/plain": [
       "[3, 3, 5, 6, 'pwskills', 'riz', 3, 3, 5, 6, 'pwskills', 'riz']"
      ]
     },
     "execution_count": 31,
     "metadata": {},
     "output_type": "execute_result"
    }
   ],
   "source": [
    "l2*2"
   ]
  },
  {
   "cell_type": "code",
   "execution_count": 34,
   "id": "f49c1aaf-9d8f-469f-bb23-86aa5bfdc717",
   "metadata": {},
   "outputs": [
    {
     "data": {
      "text/plain": [
       "[3, 3, 5, 6, 'pwskills', 'riz']"
      ]
     },
     "execution_count": 34,
     "metadata": {},
     "output_type": "execute_result"
    }
   ],
   "source": [
    "l2"
   ]
  },
  {
   "cell_type": "code",
   "execution_count": 38,
   "id": "64f20d8c-f311-428e-80a1-99f988dc1edb",
   "metadata": {},
   "outputs": [],
   "source": [
    "#list assignment operation and change the data in list"
   ]
  },
  {
   "cell_type": "code",
   "execution_count": 35,
   "id": "99085398-2116-4f0d-8350-e785eaf8c776",
   "metadata": {},
   "outputs": [
    {
     "data": {
      "text/plain": [
       "3"
      ]
     },
     "execution_count": 35,
     "metadata": {},
     "output_type": "execute_result"
    }
   ],
   "source": [
    "l2[0]"
   ]
  },
  {
   "cell_type": "code",
   "execution_count": 36,
   "id": "3b9e209a-a332-4800-b60c-110ec2e6813b",
   "metadata": {},
   "outputs": [],
   "source": [
    "l2[0] = \"data science\""
   ]
  },
  {
   "cell_type": "code",
   "execution_count": 37,
   "id": "013ec088-e258-4934-bd72-d2665dacd970",
   "metadata": {},
   "outputs": [
    {
     "data": {
      "text/plain": [
       "['data science', 3, 5, 6, 'pwskills', 'riz']"
      ]
     },
     "execution_count": 37,
     "metadata": {},
     "output_type": "execute_result"
    }
   ],
   "source": [
    "l2"
   ]
  },
  {
   "cell_type": "code",
   "execution_count": 39,
   "id": "7b6dbe61-df57-4887-824a-07a39f568954",
   "metadata": {},
   "outputs": [],
   "source": [
    "#tupe"
   ]
  },
  {
   "cell_type": "code",
   "execution_count": 51,
   "id": "cf6aa5e4-850f-4282-b746-eb1c9c36b71f",
   "metadata": {},
   "outputs": [],
   "source": [
    "#tuple is list of multiple data in () and it's immuttable type of data"
   ]
  },
  {
   "cell_type": "code",
   "execution_count": 40,
   "id": "4f391a8f-8513-49cb-8a60-e4d6ef188e8d",
   "metadata": {},
   "outputs": [],
   "source": [
    "t = (1,2,3,4,5,'rizwan' , 'pwskills' , 9+5j , True)"
   ]
  },
  {
   "cell_type": "code",
   "execution_count": 41,
   "id": "bf4c3456-31ec-4078-8281-1ba6cb628453",
   "metadata": {
    "tags": []
   },
   "outputs": [
    {
     "data": {
      "text/plain": [
       "tuple"
      ]
     },
     "execution_count": 41,
     "metadata": {},
     "output_type": "execute_result"
    }
   ],
   "source": [
    "type(t)"
   ]
  },
  {
   "cell_type": "code",
   "execution_count": 42,
   "id": "c1d4555d-14d6-4497-bbfb-1e41fcc11a67",
   "metadata": {},
   "outputs": [],
   "source": [
    "#extract the data from tuple"
   ]
  },
  {
   "cell_type": "code",
   "execution_count": 43,
   "id": "a5c4fb71-c404-4e91-abf0-2e8f3f859d75",
   "metadata": {},
   "outputs": [
    {
     "data": {
      "text/plain": [
       "1"
      ]
     },
     "execution_count": 43,
     "metadata": {},
     "output_type": "execute_result"
    }
   ],
   "source": [
    "t[0]"
   ]
  },
  {
   "cell_type": "code",
   "execution_count": 44,
   "id": "06669f2d-5497-4834-a5e8-90715aee5afb",
   "metadata": {},
   "outputs": [
    {
     "data": {
      "text/plain": [
       "int"
      ]
     },
     "execution_count": 44,
     "metadata": {},
     "output_type": "execute_result"
    }
   ],
   "source": [
    "type(t[0])"
   ]
  },
  {
   "cell_type": "code",
   "execution_count": 45,
   "id": "1718b290-cac0-4111-adbd-d6d821639dfd",
   "metadata": {},
   "outputs": [
    {
     "data": {
      "text/plain": [
       "True"
      ]
     },
     "execution_count": 45,
     "metadata": {},
     "output_type": "execute_result"
    }
   ],
   "source": [
    "t[-1]"
   ]
  },
  {
   "cell_type": "code",
   "execution_count": 47,
   "id": "869da736-f5a7-4c0c-9291-17d4270dfe87",
   "metadata": {},
   "outputs": [],
   "source": [
    "#reverse the data in tuple"
   ]
  },
  {
   "cell_type": "code",
   "execution_count": 46,
   "id": "dfce21fc-3a51-4fb6-94b4-1595b996c64f",
   "metadata": {},
   "outputs": [
    {
     "data": {
      "text/plain": [
       "(True, (9+5j), 'pwskills', 'rizwan', 5, 4, 3, 2, 1)"
      ]
     },
     "execution_count": 46,
     "metadata": {},
     "output_type": "execute_result"
    }
   ],
   "source": [
    "t[::-1]"
   ]
  },
  {
   "cell_type": "code",
   "execution_count": 48,
   "id": "ac26882e-a841-4eaa-bf3d-e5e18f6fa313",
   "metadata": {},
   "outputs": [
    {
     "data": {
      "text/plain": [
       "1"
      ]
     },
     "execution_count": 48,
     "metadata": {},
     "output_type": "execute_result"
    }
   ],
   "source": [
    "t[0]"
   ]
  },
  {
   "cell_type": "code",
   "execution_count": 49,
   "id": "93252236-fa0e-422c-86bc-5f3434e2046b",
   "metadata": {},
   "outputs": [
    {
     "ename": "TypeError",
     "evalue": "'tuple' object does not support item assignment",
     "output_type": "error",
     "traceback": [
      "\u001b[0;31m---------------------------------------------------------------------------\u001b[0m",
      "\u001b[0;31mTypeError\u001b[0m                                 Traceback (most recent call last)",
      "Cell \u001b[0;32mIn[49], line 1\u001b[0m\n\u001b[0;32m----> 1\u001b[0m \u001b[43mt\u001b[49m\u001b[43m[\u001b[49m\u001b[38;5;241;43m0\u001b[39;49m\u001b[43m]\u001b[49m \u001b[38;5;241m=\u001b[39m \u001b[38;5;124m\"\u001b[39m\u001b[38;5;124mrizwan\u001b[39m\u001b[38;5;124m\"\u001b[39m\n",
      "\u001b[0;31mTypeError\u001b[0m: 'tuple' object does not support item assignment"
     ]
    }
   ],
   "source": [
    "t[0] = \"rizwan\""
   ]
  },
  {
   "cell_type": "code",
   "execution_count": 50,
   "id": "b4b65b77-7878-4921-8542-512133d939fa",
   "metadata": {},
   "outputs": [],
   "source": [
    "#you can't change the data value in tuple"
   ]
  },
  {
   "cell_type": "code",
   "execution_count": 53,
   "id": "d99c8187-f337-4939-99e3-f42bad87deee",
   "metadata": {},
   "outputs": [],
   "source": [
    "#adding tuple"
   ]
  },
  {
   "cell_type": "code",
   "execution_count": 54,
   "id": "cd7aa081-d3e5-4242-bb18-7b0f4569cd3b",
   "metadata": {},
   "outputs": [
    {
     "data": {
      "text/plain": [
       "(1, 2, 3, 4, 5, 'rizwan', 'pwskills', (9+5j), True)"
      ]
     },
     "execution_count": 54,
     "metadata": {},
     "output_type": "execute_result"
    }
   ],
   "source": [
    "t"
   ]
  },
  {
   "cell_type": "code",
   "execution_count": 55,
   "id": "e9f92e6e-f384-4de2-9cf5-2cf4ace4c26f",
   "metadata": {},
   "outputs": [],
   "source": [
    "t1 = (10,20, 34+2J , 'india' , False)"
   ]
  },
  {
   "cell_type": "code",
   "execution_count": 56,
   "id": "d6e10b80-f9d6-4254-8fa1-a6a5140ec84d",
   "metadata": {},
   "outputs": [
    {
     "data": {
      "text/plain": [
       "(1,\n",
       " 2,\n",
       " 3,\n",
       " 4,\n",
       " 5,\n",
       " 'rizwan',\n",
       " 'pwskills',\n",
       " (9+5j),\n",
       " True,\n",
       " 10,\n",
       " 20,\n",
       " (34+2j),\n",
       " 'india',\n",
       " False)"
      ]
     },
     "execution_count": 56,
     "metadata": {},
     "output_type": "execute_result"
    }
   ],
   "source": [
    "t+t1"
   ]
  },
  {
   "cell_type": "code",
   "execution_count": 57,
   "id": "8f7ae032-e006-46e8-a788-1faf723310ba",
   "metadata": {},
   "outputs": [
    {
     "data": {
      "text/plain": [
       "(1, 2, 3, 4, 5, 'rizwan', 'pwskills', (9+5j), True)"
      ]
     },
     "execution_count": 57,
     "metadata": {},
     "output_type": "execute_result"
    }
   ],
   "source": [
    "t"
   ]
  },
  {
   "cell_type": "code",
   "execution_count": 58,
   "id": "8cae8947-2085-4625-9a20-5401a2f66bbc",
   "metadata": {},
   "outputs": [],
   "source": [
    "#convert tuple to list"
   ]
  },
  {
   "cell_type": "code",
   "execution_count": 63,
   "id": "022943eb-c90c-429b-b77a-4bbcc174bef8",
   "metadata": {},
   "outputs": [
    {
     "data": {
      "text/plain": [
       "(1, 2, 3, 4, 5, 'rizwan', 'pwskills', (9+5j), True)"
      ]
     },
     "execution_count": 63,
     "metadata": {},
     "output_type": "execute_result"
    }
   ],
   "source": [
    "t"
   ]
  },
  {
   "cell_type": "code",
   "execution_count": 64,
   "id": "a77fbd11-691c-441d-81a1-759c60725cf6",
   "metadata": {},
   "outputs": [
    {
     "data": {
      "text/plain": [
       "tuple"
      ]
     },
     "execution_count": 64,
     "metadata": {},
     "output_type": "execute_result"
    }
   ],
   "source": [
    "type(t)"
   ]
  },
  {
   "cell_type": "code",
   "execution_count": 65,
   "id": "ce7acc71-7f4b-43cb-aace-9e3ea4f4ecb1",
   "metadata": {},
   "outputs": [
    {
     "data": {
      "text/plain": [
       "[1, 2, 3, 4, 5, 'rizwan', 'pwskills', (9+5j), True]"
      ]
     },
     "execution_count": 65,
     "metadata": {},
     "output_type": "execute_result"
    }
   ],
   "source": [
    "list(t)"
   ]
  },
  {
   "cell_type": "code",
   "execution_count": 60,
   "id": "2bdf1328-696a-4173-90c4-9f5dcdef07ce",
   "metadata": {},
   "outputs": [
    {
     "data": {
      "text/plain": [
       "['data science', 3, 5, 6, 'pwskills', 'riz']"
      ]
     },
     "execution_count": 60,
     "metadata": {},
     "output_type": "execute_result"
    }
   ],
   "source": [
    "l2"
   ]
  },
  {
   "cell_type": "code",
   "execution_count": 61,
   "id": "be3b6d86-e6d6-4f26-9a92-18c1735cb3ac",
   "metadata": {},
   "outputs": [
    {
     "data": {
      "text/plain": [
       "('data science', 3, 5, 6, 'pwskills', 'riz')"
      ]
     },
     "execution_count": 61,
     "metadata": {},
     "output_type": "execute_result"
    }
   ],
   "source": [
    "tuple(l2)"
   ]
  },
  {
   "cell_type": "code",
   "execution_count": 67,
   "id": "80895b32-d374-40fe-a0aa-d7515e72153e",
   "metadata": {},
   "outputs": [
    {
     "data": {
      "text/plain": [
       "9"
      ]
     },
     "execution_count": 67,
     "metadata": {},
     "output_type": "execute_result"
    }
   ],
   "source": [
    "len(t)"
   ]
  },
  {
   "cell_type": "code",
   "execution_count": 68,
   "id": "9a37ac20-12c0-494b-b25b-c146a2d9c4f3",
   "metadata": {},
   "outputs": [
    {
     "data": {
      "text/plain": [
       "6"
      ]
     },
     "execution_count": 68,
     "metadata": {},
     "output_type": "execute_result"
    }
   ],
   "source": [
    "len(\"riz  n\")"
   ]
  },
  {
   "cell_type": "code",
   "execution_count": 69,
   "id": "e42427ac-8e84-4f9f-b360-0bbd468d30b6",
   "metadata": {},
   "outputs": [
    {
     "data": {
      "text/plain": [
       "11"
      ]
     },
     "execution_count": 69,
     "metadata": {},
     "output_type": "execute_result"
    }
   ],
   "source": [
    "len(l1)"
   ]
  },
  {
   "cell_type": "code",
   "execution_count": 70,
   "id": "1b397622-da78-4f49-9ab4-971da3c1a140",
   "metadata": {},
   "outputs": [],
   "source": [
    "#disctonary, it's also called dict"
   ]
  },
  {
   "cell_type": "code",
   "execution_count": 71,
   "id": "1661910d-7921-46de-8fb1-eb48f7dc05f3",
   "metadata": {},
   "outputs": [],
   "source": [
    "d = {}"
   ]
  },
  {
   "cell_type": "code",
   "execution_count": 72,
   "id": "b27c3266-0621-46f1-8655-e9749597d403",
   "metadata": {},
   "outputs": [
    {
     "data": {
      "text/plain": [
       "dict"
      ]
     },
     "execution_count": 72,
     "metadata": {},
     "output_type": "execute_result"
    }
   ],
   "source": [
    "type(d)"
   ]
  },
  {
   "cell_type": "code",
   "execution_count": 74,
   "id": "fad88ed8-b74b-4c18-86f4-fe6c3c8b79a6",
   "metadata": {},
   "outputs": [],
   "source": [
    "d1 = {1,23,445}"
   ]
  },
  {
   "cell_type": "code",
   "execution_count": 75,
   "id": "6cef6e1f-5771-45af-868c-21d67ff45bbc",
   "metadata": {},
   "outputs": [
    {
     "data": {
      "text/plain": [
       "set"
      ]
     },
     "execution_count": 75,
     "metadata": {},
     "output_type": "execute_result"
    }
   ],
   "source": [
    "type(d1)"
   ]
  },
  {
   "cell_type": "code",
   "execution_count": 77,
   "id": "51d3f2ee-809e-4f4a-ae7e-e5aa7ab26e25",
   "metadata": {},
   "outputs": [],
   "source": [
    "#dict is something you have assign the data and set is like tuple"
   ]
  },
  {
   "cell_type": "code",
   "execution_count": 78,
   "id": "b3b00a4e-b13e-4713-9c51-a164d10271e6",
   "metadata": {},
   "outputs": [],
   "source": [
    "d2 = {\"rizwan\" , \"khan\" , \"rizwan\", 1,2,3,4,2,3,2,1,1,3,7,8,9}"
   ]
  },
  {
   "cell_type": "code",
   "execution_count": 79,
   "id": "b9db9b0d-ee1d-4df2-b073-3e9274e6c2f0",
   "metadata": {},
   "outputs": [
    {
     "data": {
      "text/plain": [
       "{1, 2, 3, 4, 7, 8, 9, 'khan', 'rizwan'}"
      ]
     },
     "execution_count": 79,
     "metadata": {},
     "output_type": "execute_result"
    }
   ],
   "source": [
    "d2"
   ]
  },
  {
   "cell_type": "code",
   "execution_count": 80,
   "id": "f278d71b-c1b3-4f8f-a722-77f468d5088f",
   "metadata": {},
   "outputs": [],
   "source": [
    "#set is always remove the duplicate of data and give us unique numbers"
   ]
  },
  {
   "cell_type": "code",
   "execution_count": 81,
   "id": "ee502202-02fd-490a-a24a-4adb6d9c9bd3",
   "metadata": {},
   "outputs": [
    {
     "data": {
      "text/plain": [
       "[1, 2, 3, 4, 'khan', 7, 8, 9, 'rizwan']"
      ]
     },
     "execution_count": 81,
     "metadata": {},
     "output_type": "execute_result"
    }
   ],
   "source": [
    "list(d2)"
   ]
  },
  {
   "cell_type": "code",
   "execution_count": 82,
   "id": "db03c38e-70bb-4e58-9434-af4af100070a",
   "metadata": {},
   "outputs": [
    {
     "data": {
      "text/plain": [
       "{3, 5, 6, 'data science', 'pwskills', 'riz'}"
      ]
     },
     "execution_count": 82,
     "metadata": {},
     "output_type": "execute_result"
    }
   ],
   "source": [
    "set(l2)"
   ]
  },
  {
   "cell_type": "code",
   "execution_count": 83,
   "id": "3f6ccdd0-7970-46fd-bf72-d2329852fa2b",
   "metadata": {},
   "outputs": [],
   "source": [
    "#converstion of set, tuple, list"
   ]
  },
  {
   "cell_type": "code",
   "execution_count": 84,
   "id": "53edcaec-f799-4b1d-934d-9441028f3e0d",
   "metadata": {},
   "outputs": [],
   "source": [
    "#we can't the data extract the data from set"
   ]
  },
  {
   "cell_type": "code",
   "execution_count": 85,
   "id": "da3bfbb8-f32d-40a2-b9df-c4d31b508911",
   "metadata": {},
   "outputs": [
    {
     "data": {
      "text/plain": [
       "{1, 2, 3, 4, 7, 8, 9, 'khan', 'rizwan'}"
      ]
     },
     "execution_count": 85,
     "metadata": {},
     "output_type": "execute_result"
    }
   ],
   "source": [
    "d2"
   ]
  },
  {
   "cell_type": "code",
   "execution_count": 86,
   "id": "4f15cccc-7708-453b-8635-e69981c54d91",
   "metadata": {},
   "outputs": [
    {
     "ename": "TypeError",
     "evalue": "'set' object is not subscriptable",
     "output_type": "error",
     "traceback": [
      "\u001b[0;31m---------------------------------------------------------------------------\u001b[0m",
      "\u001b[0;31mTypeError\u001b[0m                                 Traceback (most recent call last)",
      "Cell \u001b[0;32mIn[86], line 1\u001b[0m\n\u001b[0;32m----> 1\u001b[0m \u001b[43md2\u001b[49m\u001b[43m[\u001b[49m\u001b[38;5;241;43m0\u001b[39;49m\u001b[43m]\u001b[49m\n",
      "\u001b[0;31mTypeError\u001b[0m: 'set' object is not subscriptable"
     ]
    }
   ],
   "source": [
    "d2[0]"
   ]
  },
  {
   "cell_type": "code",
   "execution_count": 87,
   "id": "35834754-2169-4a6e-adc5-59371ea466ff",
   "metadata": {},
   "outputs": [],
   "source": [
    "#we use set to remove the duplicates datas"
   ]
  },
  {
   "cell_type": "code",
   "execution_count": 88,
   "id": "93462daa-987b-4e56-b4e4-bd8df5b59ee1",
   "metadata": {},
   "outputs": [],
   "source": [
    "d3 = {23244,232323,2324,12,1223,12,12,343,23,67,89,\"rizwan\"}"
   ]
  },
  {
   "cell_type": "code",
   "execution_count": 89,
   "id": "e9f36e79-3530-4d1c-8fba-b5622b0f39fe",
   "metadata": {},
   "outputs": [
    {
     "data": {
      "text/plain": [
       "{12, 1223, 23, 232323, 2324, 23244, 343, 67, 89, 'rizwan'}"
      ]
     },
     "execution_count": 89,
     "metadata": {},
     "output_type": "execute_result"
    }
   ],
   "source": [
    "d3"
   ]
  },
  {
   "cell_type": "code",
   "execution_count": 90,
   "id": "92bd3428-b7ce-48fb-873c-f6e893cd89a9",
   "metadata": {},
   "outputs": [],
   "source": [
    "#indexing is not working on set"
   ]
  },
  {
   "cell_type": "code",
   "execution_count": 91,
   "id": "0c52da44-564f-4adc-9605-167366ea28ed",
   "metadata": {},
   "outputs": [],
   "source": [
    "#dict"
   ]
  },
  {
   "cell_type": "code",
   "execution_count": 92,
   "id": "f50d3668-f4a5-4df4-89aa-5e0d40e5297b",
   "metadata": {},
   "outputs": [],
   "source": [
    "#you can hold the data and key and value pair data is dict"
   ]
  },
  {
   "cell_type": "code",
   "execution_count": 93,
   "id": "0bd9631a-7579-495d-a311-31425ebe6b11",
   "metadata": {},
   "outputs": [],
   "source": [
    "d = {}"
   ]
  },
  {
   "cell_type": "code",
   "execution_count": 94,
   "id": "e58c4a53-fd30-48f2-be97-a36bd7b864c6",
   "metadata": {},
   "outputs": [
    {
     "data": {
      "text/plain": [
       "dict"
      ]
     },
     "execution_count": 94,
     "metadata": {},
     "output_type": "execute_result"
    }
   ],
   "source": [
    "type(d)"
   ]
  },
  {
   "cell_type": "code",
   "execution_count": 95,
   "id": "e6167096-a276-4d8b-b37b-02139d859f3c",
   "metadata": {},
   "outputs": [],
   "source": [
    "d1 = {'name' : 'rizwan' , 'subject' : ['data science' , 'python' , 'big data' , 'data analytic'] , 'number' : '7870914247'}"
   ]
  },
  {
   "cell_type": "code",
   "execution_count": 96,
   "id": "f4e52bb9-f19f-4f44-8813-94a89f10f514",
   "metadata": {},
   "outputs": [
    {
     "data": {
      "text/plain": [
       "{'name': 'rizwan',\n",
       " 'subject': ['data science', 'python', 'big data', 'data analytic'],\n",
       " 'number': '7870914247'}"
      ]
     },
     "execution_count": 96,
     "metadata": {},
     "output_type": "execute_result"
    }
   ],
   "source": [
    "d1"
   ]
  },
  {
   "cell_type": "code",
   "execution_count": 97,
   "id": "d838a333-1f54-4e24-b5db-5eeaff0e1b95",
   "metadata": {},
   "outputs": [],
   "source": [
    "d2 = {'name' : 'rizwan khan' , 'name' : 'pwskills'}"
   ]
  },
  {
   "cell_type": "code",
   "execution_count": 98,
   "id": "810d2af3-287c-4a8d-b082-8fc4a8d7dbae",
   "metadata": {},
   "outputs": [
    {
     "data": {
      "text/plain": [
       "{'name': 'pwskills'}"
      ]
     },
     "execution_count": 98,
     "metadata": {},
     "output_type": "execute_result"
    }
   ],
   "source": [
    "d2"
   ]
  },
  {
   "cell_type": "code",
   "execution_count": 99,
   "id": "3e70a011-ca98-464e-b639-8c80b1de6df7",
   "metadata": {},
   "outputs": [],
   "source": [
    "#in this case dict takes the lastest value of key if key name is same "
   ]
  },
  {
   "cell_type": "code",
   "execution_count": 100,
   "id": "bda6c4ea-5484-4551-9afd-56a66b6b1f41",
   "metadata": {},
   "outputs": [],
   "source": [
    "d3 = {2324 : 'rizwan'}"
   ]
  },
  {
   "cell_type": "code",
   "execution_count": 101,
   "id": "04bcc1d6-0cb3-4c16-ad4f-53e4d0021665",
   "metadata": {},
   "outputs": [
    {
     "data": {
      "text/plain": [
       "{2324: 'rizwan'}"
      ]
     },
     "execution_count": 101,
     "metadata": {},
     "output_type": "execute_result"
    }
   ],
   "source": [
    "d3"
   ]
  },
  {
   "cell_type": "code",
   "execution_count": 110,
   "id": "2a83130f-f312-49d5-b693-92c2c189c084",
   "metadata": {},
   "outputs": [],
   "source": [
    "#you can't take key as set, list "
   ]
  },
  {
   "cell_type": "code",
   "execution_count": 102,
   "id": "6e19eef0-4a4e-4505-915b-46dae5c9cd49",
   "metadata": {},
   "outputs": [
    {
     "ename": "TypeError",
     "evalue": "unhashable type: 'list'",
     "output_type": "error",
     "traceback": [
      "\u001b[0;31m---------------------------------------------------------------------------\u001b[0m",
      "\u001b[0;31mTypeError\u001b[0m                                 Traceback (most recent call last)",
      "Cell \u001b[0;32mIn[102], line 1\u001b[0m\n\u001b[0;32m----> 1\u001b[0m d4 \u001b[38;5;241m=\u001b[39m {[\u001b[38;5;241m2324\u001b[39m] : \u001b[38;5;124m'\u001b[39m\u001b[38;5;124mrizwan\u001b[39m\u001b[38;5;124m'\u001b[39m}\n",
      "\u001b[0;31mTypeError\u001b[0m: unhashable type: 'list'"
     ]
    }
   ],
   "source": [
    "d4 = {[2324] : 'rizwan'}"
   ]
  },
  {
   "cell_type": "code",
   "execution_count": 104,
   "id": "fb54c923-5a0e-4eed-9f46-8dca337bf1cc",
   "metadata": {},
   "outputs": [
    {
     "ename": "TypeError",
     "evalue": "unhashable type: 'set'",
     "output_type": "error",
     "traceback": [
      "\u001b[0;31m---------------------------------------------------------------------------\u001b[0m",
      "\u001b[0;31mTypeError\u001b[0m                                 Traceback (most recent call last)",
      "Cell \u001b[0;32mIn[104], line 1\u001b[0m\n\u001b[0;32m----> 1\u001b[0m d4 \u001b[38;5;241m=\u001b[39m {{\u001b[38;5;241m232\u001b[39m} : \u001b[38;5;124m'\u001b[39m\u001b[38;5;124mrizwan\u001b[39m\u001b[38;5;124m'\u001b[39m}\n",
      "\u001b[0;31mTypeError\u001b[0m: unhashable type: 'set'"
     ]
    }
   ],
   "source": [
    "d4 = {{232} : 'rizwan'}"
   ]
  },
  {
   "cell_type": "code",
   "execution_count": 107,
   "id": "78dd16a5-d7e9-4205-a2ce-fb348597153a",
   "metadata": {},
   "outputs": [],
   "source": [
    "#you can take tuple as key in dict"
   ]
  },
  {
   "cell_type": "code",
   "execution_count": 105,
   "id": "77f14d20-70b9-49cb-9219-86de8d70144c",
   "metadata": {},
   "outputs": [],
   "source": [
    "d4 = {(2324) : 'rizwan'}"
   ]
  },
  {
   "cell_type": "code",
   "execution_count": 106,
   "id": "5fc28fbb-649d-4c5d-ba74-5b72fcf86257",
   "metadata": {},
   "outputs": [
    {
     "data": {
      "text/plain": [
       "{2324: 'rizwan'}"
      ]
     },
     "execution_count": 106,
     "metadata": {},
     "output_type": "execute_result"
    }
   ],
   "source": [
    "d4"
   ]
  },
  {
   "cell_type": "code",
   "execution_count": 108,
   "id": "d9cae955-82f5-4ce4-944e-a8550869c6c6",
   "metadata": {},
   "outputs": [],
   "source": [
    "d3 = {\"%fds\" : \"rizwan\"}"
   ]
  },
  {
   "cell_type": "code",
   "execution_count": 109,
   "id": "27e68da7-2351-4385-83a3-29974a65b782",
   "metadata": {},
   "outputs": [
    {
     "data": {
      "text/plain": [
       "{'%fds': 'rizwan'}"
      ]
     },
     "execution_count": 109,
     "metadata": {},
     "output_type": "execute_result"
    }
   ],
   "source": [
    "d3"
   ]
  },
  {
   "cell_type": "code",
   "execution_count": 115,
   "id": "370cd2ba-b77e-4492-85a0-eb14c4a0eb2d",
   "metadata": {},
   "outputs": [],
   "source": [
    "#value can be anyting of key"
   ]
  },
  {
   "cell_type": "code",
   "execution_count": 124,
   "id": "ce61cc1b-2fbf-4d28-925d-7037f52327f9",
   "metadata": {},
   "outputs": [],
   "source": [
    "d4 = {'course' : ['dsa' , 'java' , 'cloud' , 'blockjain'] , 'mentor' : ('sudh' , 'krish' , 'sunny' , 'sourganshu') , 'price' : {3500, 20000, 15000, 35000} , 'duration' : 1 , 'access' : 1}"
   ]
  },
  {
   "cell_type": "code",
   "execution_count": 114,
   "id": "ef759f94-9e59-4fdd-a9db-8528265bef12",
   "metadata": {},
   "outputs": [
    {
     "data": {
      "text/plain": [
       "{'course': ['dsa', 'java', 'cloud', 'blockjain'],\n",
       " 'mentor': ('sudh', 'krish', 'sunny', 'sourganshu'),\n",
       " 'price': {3500, 15000, 20000, 35000},\n",
       " 'duration': 1,\n",
       " 'access': 1}"
      ]
     },
     "execution_count": 114,
     "metadata": {},
     "output_type": "execute_result"
    }
   ],
   "source": [
    "d4"
   ]
  },
  {
   "cell_type": "code",
   "execution_count": 116,
   "id": "6baf440b-a7a9-4aa2-9290-9cd83d670998",
   "metadata": {},
   "outputs": [],
   "source": [
    "#extract the data in dict"
   ]
  },
  {
   "cell_type": "code",
   "execution_count": 117,
   "id": "1fefdbce-e991-46ad-ac80-100f0fae1dca",
   "metadata": {},
   "outputs": [
    {
     "data": {
      "text/plain": [
       "['dsa', 'java', 'cloud', 'blockjain']"
      ]
     },
     "execution_count": 117,
     "metadata": {},
     "output_type": "execute_result"
    }
   ],
   "source": [
    "d4['course']"
   ]
  },
  {
   "cell_type": "code",
   "execution_count": 118,
   "id": "62a5531f-8c02-4ebd-8a94-c421ada9fda6",
   "metadata": {},
   "outputs": [
    {
     "data": {
      "text/plain": [
       "('sudh', 'krish', 'sunny', 'sourganshu')"
      ]
     },
     "execution_count": 118,
     "metadata": {},
     "output_type": "execute_result"
    }
   ],
   "source": [
    "d4['mentor']"
   ]
  },
  {
   "cell_type": "code",
   "execution_count": 119,
   "id": "3c3ae86c-1252-466c-b0f3-fd8512a4add1",
   "metadata": {},
   "outputs": [
    {
     "data": {
      "text/plain": [
       "list"
      ]
     },
     "execution_count": 119,
     "metadata": {},
     "output_type": "execute_result"
    }
   ],
   "source": [
    "type(d4['course'])"
   ]
  },
  {
   "cell_type": "code",
   "execution_count": 120,
   "id": "ab0f4afd-2988-40a3-846b-8e9dacc0d097",
   "metadata": {},
   "outputs": [
    {
     "data": {
      "text/plain": [
       "tuple"
      ]
     },
     "execution_count": 120,
     "metadata": {},
     "output_type": "execute_result"
    }
   ],
   "source": [
    "type(d4['mentor'])"
   ]
  },
  {
   "cell_type": "code",
   "execution_count": 121,
   "id": "9c5018ea-5db7-48ef-b3d6-bf7693af7e6c",
   "metadata": {},
   "outputs": [
    {
     "data": {
      "text/plain": [
       "{3500, 15000, 20000, 35000}"
      ]
     },
     "execution_count": 121,
     "metadata": {},
     "output_type": "execute_result"
    }
   ],
   "source": [
    "d4['price']"
   ]
  },
  {
   "cell_type": "code",
   "execution_count": 122,
   "id": "0de4d05c-8258-484d-a809-dc8c0b7dd09e",
   "metadata": {},
   "outputs": [
    {
     "data": {
      "text/plain": [
       "set"
      ]
     },
     "execution_count": 122,
     "metadata": {},
     "output_type": "execute_result"
    }
   ],
   "source": [
    "type(d4['price'])"
   ]
  },
  {
   "cell_type": "code",
   "execution_count": 129,
   "id": "a16a029b-7605-4f69-ae95-633381a39145",
   "metadata": {},
   "outputs": [],
   "source": [
    "#adding value in dict"
   ]
  },
  {
   "cell_type": "code",
   "execution_count": 126,
   "id": "ce237daa-a235-425a-af29-97216cc2f908",
   "metadata": {},
   "outputs": [],
   "source": [
    "d2['phone number'] = 7870914247"
   ]
  },
  {
   "cell_type": "code",
   "execution_count": 127,
   "id": "563986c7-de45-43ff-8ec4-0e199e0ac7fa",
   "metadata": {},
   "outputs": [
    {
     "data": {
      "text/plain": [
       "{'name': 'pwskills', 'phone number': 7870914247}"
      ]
     },
     "execution_count": 127,
     "metadata": {},
     "output_type": "execute_result"
    }
   ],
   "source": [
    "d2"
   ]
  },
  {
   "cell_type": "code",
   "execution_count": 130,
   "id": "03b94b8b-121b-4a04-b93b-a1ced60d9c05",
   "metadata": {},
   "outputs": [],
   "source": [
    "d2['name'] = 'riz'"
   ]
  },
  {
   "cell_type": "code",
   "execution_count": 131,
   "id": "e3794a03-a121-46b5-a57e-3520a1e3532a",
   "metadata": {},
   "outputs": [
    {
     "data": {
      "text/plain": [
       "{'name': 'riz', 'phone number': 7870914247}"
      ]
     },
     "execution_count": 131,
     "metadata": {},
     "output_type": "execute_result"
    }
   ],
   "source": [
    "d2"
   ]
  },
  {
   "cell_type": "code",
   "execution_count": 132,
   "id": "fd1ff020-488a-4019-921d-16f040248967",
   "metadata": {},
   "outputs": [],
   "source": [
    "s1 = 'pwskills'"
   ]
  },
  {
   "cell_type": "code",
   "execution_count": 133,
   "id": "cc2fce52-013c-468d-b01c-3f63adcb0bd2",
   "metadata": {},
   "outputs": [
    {
     "data": {
      "text/plain": [
       "2"
      ]
     },
     "execution_count": 133,
     "metadata": {},
     "output_type": "execute_result"
    }
   ],
   "source": [
    "s1.count('l')"
   ]
  },
  {
   "cell_type": "code",
   "execution_count": 134,
   "id": "bdf19973-c620-4064-94e3-0bdf8f1a6c91",
   "metadata": {},
   "outputs": [
    {
     "data": {
      "text/plain": [
       "2"
      ]
     },
     "execution_count": 134,
     "metadata": {},
     "output_type": "execute_result"
    }
   ],
   "source": [
    "s1.count('s')"
   ]
  },
  {
   "cell_type": "code",
   "execution_count": 135,
   "id": "3a87c523-d6b3-4b3a-9500-fbae3dd145b5",
   "metadata": {},
   "outputs": [
    {
     "data": {
      "text/plain": [
       "2"
      ]
     },
     "execution_count": 135,
     "metadata": {},
     "output_type": "execute_result"
    }
   ],
   "source": [
    "s1.find('s')"
   ]
  },
  {
   "cell_type": "code",
   "execution_count": 136,
   "id": "815dd47b-6f87-42ba-96b8-d466a48c9284",
   "metadata": {},
   "outputs": [
    {
     "data": {
      "text/plain": [
       "0"
      ]
     },
     "execution_count": 136,
     "metadata": {},
     "output_type": "execute_result"
    }
   ],
   "source": [
    "s1.index('p')"
   ]
  },
  {
   "cell_type": "code",
   "execution_count": 137,
   "id": "96179ea4-9a53-4147-b71a-8482b117a50d",
   "metadata": {},
   "outputs": [
    {
     "data": {
      "text/plain": [
       "3"
      ]
     },
     "execution_count": 137,
     "metadata": {},
     "output_type": "execute_result"
    }
   ],
   "source": [
    "s1.index('k')"
   ]
  },
  {
   "cell_type": "code",
   "execution_count": 138,
   "id": "dacfb772-cd2a-4f30-8205-ccca00f294fe",
   "metadata": {},
   "outputs": [
    {
     "data": {
      "text/plain": [
       "-1"
      ]
     },
     "execution_count": 138,
     "metadata": {},
     "output_type": "execute_result"
    }
   ],
   "source": [
    "s1.find('z')"
   ]
  },
  {
   "cell_type": "code",
   "execution_count": 139,
   "id": "2a1763f9-d095-410c-a813-fa6f41ca61f2",
   "metadata": {},
   "outputs": [
    {
     "ename": "ValueError",
     "evalue": "substring not found",
     "output_type": "error",
     "traceback": [
      "\u001b[0;31m---------------------------------------------------------------------------\u001b[0m",
      "\u001b[0;31mValueError\u001b[0m                                Traceback (most recent call last)",
      "Cell \u001b[0;32mIn[139], line 1\u001b[0m\n\u001b[0;32m----> 1\u001b[0m \u001b[43ms1\u001b[49m\u001b[38;5;241;43m.\u001b[39;49m\u001b[43mindex\u001b[49m\u001b[43m(\u001b[49m\u001b[38;5;124;43m'\u001b[39;49m\u001b[38;5;124;43mz\u001b[39;49m\u001b[38;5;124;43m'\u001b[39;49m\u001b[43m)\u001b[49m\n",
      "\u001b[0;31mValueError\u001b[0m: substring not found"
     ]
    }
   ],
   "source": [
    "s1.index('z')"
   ]
  },
  {
   "cell_type": "code",
   "execution_count": 140,
   "id": "3c68590b-79f6-4e69-a4e3-92c5f535c65c",
   "metadata": {},
   "outputs": [
    {
     "data": {
      "text/plain": [
       "'PWSKILLS'"
      ]
     },
     "execution_count": 140,
     "metadata": {},
     "output_type": "execute_result"
    }
   ],
   "source": [
    "s1.upper()"
   ]
  },
  {
   "cell_type": "code",
   "execution_count": 141,
   "id": "87cebab4-f777-427b-a277-39a513617d18",
   "metadata": {},
   "outputs": [
    {
     "data": {
      "text/plain": [
       "'pwskills'"
      ]
     },
     "execution_count": 141,
     "metadata": {},
     "output_type": "execute_result"
    }
   ],
   "source": [
    "s1.lower()"
   ]
  },
  {
   "cell_type": "code",
   "execution_count": 142,
   "id": "6b719ca3-a01f-45c5-b614-4a156a3c33cf",
   "metadata": {},
   "outputs": [
    {
     "data": {
      "text/plain": [
       "'Pwskills'"
      ]
     },
     "execution_count": 142,
     "metadata": {},
     "output_type": "execute_result"
    }
   ],
   "source": [
    "s1.title()"
   ]
  },
  {
   "cell_type": "code",
   "execution_count": 144,
   "id": "673ab4b0-2f2b-4630-b161-01fa280e3e7b",
   "metadata": {},
   "outputs": [],
   "source": [
    "s2 = 'My name is rizwan and i am from india'"
   ]
  },
  {
   "cell_type": "code",
   "execution_count": 145,
   "id": "d6fc0bb5-bc17-47ab-8703-6a9eb61e44f7",
   "metadata": {},
   "outputs": [
    {
     "data": {
      "text/plain": [
       "'My Name Is Rizwan And I Am From India'"
      ]
     },
     "execution_count": 145,
     "metadata": {},
     "output_type": "execute_result"
    }
   ],
   "source": [
    "s2.title()"
   ]
  },
  {
   "cell_type": "code",
   "execution_count": 146,
   "id": "a05428fd-f3f4-49cd-8d7e-0e9b79345d97",
   "metadata": {},
   "outputs": [
    {
     "data": {
      "text/plain": [
       "'MY NAME IS RIZWAN AND I AM FROM INDIA'"
      ]
     },
     "execution_count": 146,
     "metadata": {},
     "output_type": "execute_result"
    }
   ],
   "source": [
    "s2.upper()"
   ]
  },
  {
   "cell_type": "code",
   "execution_count": 147,
   "id": "f369bf9c-cf0b-4a9d-99bd-8f11e9618a7b",
   "metadata": {},
   "outputs": [
    {
     "data": {
      "text/plain": [
       "'my name is rizwan and i am from india'"
      ]
     },
     "execution_count": 147,
     "metadata": {},
     "output_type": "execute_result"
    }
   ],
   "source": [
    "s2.lower()"
   ]
  },
  {
   "cell_type": "code",
   "execution_count": 148,
   "id": "2e374738-57e0-4901-a155-754c400f5bb2",
   "metadata": {},
   "outputs": [
    {
     "data": {
      "text/plain": [
       "['My', 'name', 'is', 'rizwan', 'and', 'i', 'am', 'from', 'india']"
      ]
     },
     "execution_count": 148,
     "metadata": {},
     "output_type": "execute_result"
    }
   ],
   "source": [
    "s2.split()"
   ]
  },
  {
   "cell_type": "code",
   "execution_count": 149,
   "id": "ab0d70df-f348-48d3-93af-3a82be91352c",
   "metadata": {},
   "outputs": [],
   "source": [
    "s2 = 'My name,is,rizwan,and,i,am,from,india'"
   ]
  },
  {
   "cell_type": "code",
   "execution_count": 150,
   "id": "2ca4a698-4948-41d0-805f-1365b492e80e",
   "metadata": {},
   "outputs": [
    {
     "data": {
      "text/plain": [
       "['My', 'name,is,rizwan,and,i,am,from,india']"
      ]
     },
     "execution_count": 150,
     "metadata": {},
     "output_type": "execute_result"
    }
   ],
   "source": [
    "s2.split()"
   ]
  },
  {
   "cell_type": "code",
   "execution_count": 151,
   "id": "3e874697-9fb2-4839-81a1-7f2a1324ff63",
   "metadata": {},
   "outputs": [
    {
     "data": {
      "text/plain": [
       "['My name', 'is', 'rizwan', 'and', 'i', 'am', 'from', 'india']"
      ]
     },
     "execution_count": 151,
     "metadata": {},
     "output_type": "execute_result"
    }
   ],
   "source": [
    "s2.split(',')"
   ]
  },
  {
   "cell_type": "code",
   "execution_count": 152,
   "id": "f473d108-8f95-48d0-80ad-94a9f0b0a15d",
   "metadata": {},
   "outputs": [
    {
     "data": {
      "text/plain": [
       "['My ', 'ame,is,rizwa', ',a', 'd,i,am,from,i', 'dia']"
      ]
     },
     "execution_count": 152,
     "metadata": {},
     "output_type": "execute_result"
    }
   ],
   "source": [
    "s2.split('n')"
   ]
  },
  {
   "cell_type": "code",
   "execution_count": 153,
   "id": "a81e633b-545e-4740-b617-d4630a2d41f6",
   "metadata": {},
   "outputs": [],
   "source": [
    "s3 = 'this is first python class I am attending it for 20 august'"
   ]
  },
  {
   "cell_type": "code",
   "execution_count": 154,
   "id": "55285020-72d8-44df-8fad-e0ac35d20de0",
   "metadata": {},
   "outputs": [
    {
     "data": {
      "text/plain": [
       "'this is first python class I am attending it for 20 august'"
      ]
     },
     "execution_count": 154,
     "metadata": {},
     "output_type": "execute_result"
    }
   ],
   "source": [
    "s3.split(',')[0]"
   ]
  },
  {
   "cell_type": "code",
   "execution_count": 155,
   "id": "ff14d2f5-e24f-482c-918a-3a9ae83091da",
   "metadata": {},
   "outputs": [
    {
     "data": {
      "text/plain": [
       "'My name,is,rizwan,and,i,am,from,india'"
      ]
     },
     "execution_count": 155,
     "metadata": {},
     "output_type": "execute_result"
    }
   ],
   "source": [
    "s2"
   ]
  },
  {
   "cell_type": "code",
   "execution_count": 157,
   "id": "58524639-d5d5-4a0b-b1c7-e4e7fcbe5bc2",
   "metadata": {},
   "outputs": [
    {
     "data": {
      "text/plain": [
       "'My name,is,rizwan,and,i,am,from,india'"
      ]
     },
     "execution_count": 157,
     "metadata": {},
     "output_type": "execute_result"
    }
   ],
   "source": [
    "s2.capitalize()"
   ]
  },
  {
   "cell_type": "code",
   "execution_count": 158,
   "id": "b1723395-3183-4ce6-b873-93a4ca04ecb0",
   "metadata": {},
   "outputs": [
    {
     "data": {
      "text/plain": [
       "'My Name,Is,Rizwan,And,I,Am,From,India'"
      ]
     },
     "execution_count": 158,
     "metadata": {},
     "output_type": "execute_result"
    }
   ],
   "source": [
    "s2.title()"
   ]
  },
  {
   "cell_type": "code",
   "execution_count": 159,
   "id": "fcaa704d-fe75-420a-9364-2467e74c58df",
   "metadata": {},
   "outputs": [],
   "source": [
    "s2 = 'My name is rizwan and i am from india'"
   ]
  },
  {
   "cell_type": "code",
   "execution_count": 160,
   "id": "0452b45a-af5f-46c9-8894-c71343439477",
   "metadata": {},
   "outputs": [
    {
     "data": {
      "text/plain": [
       "'My name is rizwan and i am from india'"
      ]
     },
     "execution_count": 160,
     "metadata": {},
     "output_type": "execute_result"
    }
   ],
   "source": [
    "s2"
   ]
  },
  {
   "cell_type": "code",
   "execution_count": 161,
   "id": "8b048259-1896-4459-a60b-2066d08aebc4",
   "metadata": {},
   "outputs": [
    {
     "data": {
      "text/plain": [
       "'My aame is rizwaa aad i am from iadia'"
      ]
     },
     "execution_count": 161,
     "metadata": {},
     "output_type": "execute_result"
    }
   ],
   "source": [
    "s2.replace('n' , 'a')"
   ]
  },
  {
   "cell_type": "code",
   "execution_count": null,
   "id": "3939ddbd-9e1f-4353-90d9-05cbf53f347b",
   "metadata": {},
   "outputs": [
    {
     "data": {
      "text/plain": [
       "'My name is rizwan and i am from india'"
      ]
     },
     "execution_count": 162,
     "metadata": {},
     "output_type": "execute_result"
    }
   ],
   "source": [
    "s2"
   ]
  },
  {
   "cell_type": "code",
   "execution_count": 163,
   "id": "bb652956-bc25-4942-b117-d00e785f0efd",
   "metadata": {},
   "outputs": [
    {
     "data": {
      "text/plain": [
       "'pwskills'"
      ]
     },
     "execution_count": 163,
     "metadata": {},
     "output_type": "execute_result"
    }
   ],
   "source": [
    "s1"
   ]
  },
  {
   "cell_type": "code",
   "execution_count": 165,
   "id": "676c998a-ec80-4441-9a2e-bf5d7ead334a",
   "metadata": {},
   "outputs": [
    {
     "data": {
      "text/plain": [
       "'FFFFFFpwskillsFFFFFF'"
      ]
     },
     "execution_count": 165,
     "metadata": {},
     "output_type": "execute_result"
    }
   ],
   "source": [
    "s1.center(20,'F')"
   ]
  },
  {
   "cell_type": "code",
   "execution_count": 167,
   "id": "f4da14e0-69c7-4751-a0f0-8ea91e2f109b",
   "metadata": {},
   "outputs": [
    {
     "data": {
      "text/plain": [
       "'......pwskills......'"
      ]
     },
     "execution_count": 167,
     "metadata": {},
     "output_type": "execute_result"
    }
   ],
   "source": [
    "s1.center(20,'.')"
   ]
  },
  {
   "cell_type": "code",
   "execution_count": 168,
   "id": "f3de4e01-7555-40dd-b9e5-55e48d7842ae",
   "metadata": {},
   "outputs": [
    {
     "data": {
      "text/plain": [
       "'pwskills'"
      ]
     },
     "execution_count": 168,
     "metadata": {},
     "output_type": "execute_result"
    }
   ],
   "source": [
    "s1.rstrip()"
   ]
  },
  {
   "cell_type": "code",
   "execution_count": 169,
   "id": "87c697e8-a854-4723-882d-022fef995123",
   "metadata": {},
   "outputs": [],
   "source": [
    "s3 = '       pwakills.        '"
   ]
  },
  {
   "cell_type": "code",
   "execution_count": 170,
   "id": "c9a8b878-f0da-442d-8c08-d024ca5ca8bf",
   "metadata": {},
   "outputs": [
    {
     "data": {
      "text/plain": [
       "'       pwakills.        '"
      ]
     },
     "execution_count": 170,
     "metadata": {},
     "output_type": "execute_result"
    }
   ],
   "source": [
    "s3"
   ]
  },
  {
   "cell_type": "code",
   "execution_count": 171,
   "id": "9c15139d-4763-4cdb-8bc1-730db451a359",
   "metadata": {},
   "outputs": [
    {
     "data": {
      "text/plain": [
       "'       pwakills.'"
      ]
     },
     "execution_count": 171,
     "metadata": {},
     "output_type": "execute_result"
    }
   ],
   "source": [
    "s3.rstrip()"
   ]
  },
  {
   "cell_type": "code",
   "execution_count": 172,
   "id": "39bfb6ec-f0c5-4573-8ea6-7233d38ea452",
   "metadata": {},
   "outputs": [
    {
     "data": {
      "text/plain": [
       "'pwakills.        '"
      ]
     },
     "execution_count": 172,
     "metadata": {},
     "output_type": "execute_result"
    }
   ],
   "source": [
    "s3.lstrip()"
   ]
  },
  {
   "cell_type": "code",
   "execution_count": 173,
   "id": "0e42f49d-4c34-4a1b-9154-3db592f7315c",
   "metadata": {},
   "outputs": [
    {
     "data": {
      "text/plain": [
       "True"
      ]
     },
     "execution_count": 173,
     "metadata": {},
     "output_type": "execute_result"
    }
   ],
   "source": [
    "s1.isalnum()"
   ]
  },
  {
   "cell_type": "code",
   "execution_count": 174,
   "id": "7e51b8b3-740d-41a4-8d0b-bab0083a9f56",
   "metadata": {},
   "outputs": [
    {
     "data": {
      "text/plain": [
       "True"
      ]
     },
     "execution_count": 174,
     "metadata": {},
     "output_type": "execute_result"
    }
   ],
   "source": [
    "s1.isalpha()"
   ]
  },
  {
   "cell_type": "code",
   "execution_count": 175,
   "id": "4730edd2-c2bf-42bb-8137-f4d89a8d1ca2",
   "metadata": {},
   "outputs": [
    {
     "data": {
      "text/plain": [
       "False"
      ]
     },
     "execution_count": 175,
     "metadata": {},
     "output_type": "execute_result"
    }
   ],
   "source": [
    "s1.isnumeric()"
   ]
  },
  {
   "cell_type": "code",
   "execution_count": 176,
   "id": "7c9ee952-b4c5-4181-9241-2423261c21ff",
   "metadata": {},
   "outputs": [
    {
     "data": {
      "text/plain": [
       "True"
      ]
     },
     "execution_count": 176,
     "metadata": {},
     "output_type": "execute_result"
    }
   ],
   "source": [
    "s1.islower()"
   ]
  },
  {
   "cell_type": "code",
   "execution_count": 177,
   "id": "5849f39b-852f-441c-94ed-d056fb3a4500",
   "metadata": {},
   "outputs": [
    {
     "data": {
      "text/plain": [
       "False"
      ]
     },
     "execution_count": 177,
     "metadata": {},
     "output_type": "execute_result"
    }
   ],
   "source": [
    "s1.isdecimal()"
   ]
  },
  {
   "cell_type": "code",
   "execution_count": 178,
   "id": "766df14c-f199-4808-8b62-3d5c1eacb594",
   "metadata": {},
   "outputs": [
    {
     "data": {
      "text/plain": [
       "[1, 2, 3, 4, 5, 'rizwan', 'khan', (2+4j), 224.45, True, [1, 23, 4, 34]]"
      ]
     },
     "execution_count": 178,
     "metadata": {},
     "output_type": "execute_result"
    }
   ],
   "source": [
    "l1"
   ]
  },
  {
   "cell_type": "code",
   "execution_count": 179,
   "id": "67641769-e69d-4b3f-b073-9e62ef646f82",
   "metadata": {},
   "outputs": [
    {
     "data": {
      "text/plain": [
       "['data science', 3, 5, 6, 'pwskills', 'riz']"
      ]
     },
     "execution_count": 179,
     "metadata": {},
     "output_type": "execute_result"
    }
   ],
   "source": [
    "l2"
   ]
  },
  {
   "cell_type": "code",
   "execution_count": 180,
   "id": "ce31f139-e178-4ad4-9750-27d45a499583",
   "metadata": {},
   "outputs": [],
   "source": [
    "l1.append('taskeen')"
   ]
  },
  {
   "cell_type": "code",
   "execution_count": 181,
   "id": "a72a94a3-627a-49b1-b537-9570e244b615",
   "metadata": {},
   "outputs": [
    {
     "data": {
      "text/plain": [
       "[1,\n",
       " 2,\n",
       " 3,\n",
       " 4,\n",
       " 5,\n",
       " 'rizwan',\n",
       " 'khan',\n",
       " (2+4j),\n",
       " 224.45,\n",
       " True,\n",
       " [1, 23, 4, 34],\n",
       " 'taskeen']"
      ]
     },
     "execution_count": 181,
     "metadata": {},
     "output_type": "execute_result"
    }
   ],
   "source": [
    "l1"
   ]
  },
  {
   "cell_type": "code",
   "execution_count": 183,
   "id": "6c080391-8821-40dc-928a-af635d34a34b",
   "metadata": {},
   "outputs": [],
   "source": [
    "l1.insert(3, 'taskeen fatma')"
   ]
  },
  {
   "cell_type": "code",
   "execution_count": 184,
   "id": "4409de74-9170-4bc4-9d9c-7b19490f4fee",
   "metadata": {},
   "outputs": [
    {
     "data": {
      "text/plain": [
       "[1,\n",
       " 2,\n",
       " 3,\n",
       " 'taskeen fatma',\n",
       " 4,\n",
       " 5,\n",
       " 'rizwan',\n",
       " 'khan',\n",
       " (2+4j),\n",
       " 224.45,\n",
       " True,\n",
       " [1, 23, 4, 34],\n",
       " 'taskeen']"
      ]
     },
     "execution_count": 184,
     "metadata": {},
     "output_type": "execute_result"
    }
   ],
   "source": [
    "l1"
   ]
  },
  {
   "cell_type": "code",
   "execution_count": 186,
   "id": "62323318-ae15-4da8-b818-cf99c332d7f2",
   "metadata": {},
   "outputs": [],
   "source": [
    "l1.extend('taskeen')"
   ]
  },
  {
   "cell_type": "code",
   "execution_count": 187,
   "id": "080e7e7f-25e8-478a-b791-ab54bd38a738",
   "metadata": {},
   "outputs": [
    {
     "data": {
      "text/plain": [
       "[1,\n",
       " 2,\n",
       " 3,\n",
       " 'taskeen fatma',\n",
       " 4,\n",
       " 5,\n",
       " 'rizwan',\n",
       " 'khan',\n",
       " (2+4j),\n",
       " 224.45,\n",
       " True,\n",
       " [1, 23, 4, 34],\n",
       " 'taskeen',\n",
       " 't',\n",
       " 'a',\n",
       " 's',\n",
       " 'k',\n",
       " 'e',\n",
       " 'e',\n",
       " 'n']"
      ]
     },
     "execution_count": 187,
     "metadata": {},
     "output_type": "execute_result"
    }
   ],
   "source": [
    "l1"
   ]
  },
  {
   "cell_type": "code",
   "execution_count": 188,
   "id": "64505774-aa79-4c2f-b67c-95a0b358f4a8",
   "metadata": {},
   "outputs": [
    {
     "data": {
      "text/plain": [
       "['data science', 3, 5, 6, 'pwskills', 'riz', 't', 'a', 's', 'k', 'e', 'e', 'n']"
      ]
     },
     "execution_count": 188,
     "metadata": {},
     "output_type": "execute_result"
    }
   ],
   "source": [
    "l2"
   ]
  },
  {
   "cell_type": "code",
   "execution_count": 189,
   "id": "2c050354-efa6-4528-8df0-912f56f6dc15",
   "metadata": {},
   "outputs": [],
   "source": [
    "l2.append('khan')"
   ]
  },
  {
   "cell_type": "code",
   "execution_count": 190,
   "id": "eaec3f7d-a6df-40f3-bc52-56c0643ddeb4",
   "metadata": {},
   "outputs": [
    {
     "data": {
      "text/plain": [
       "['data science',\n",
       " 3,\n",
       " 5,\n",
       " 6,\n",
       " 'pwskills',\n",
       " 'riz',\n",
       " 't',\n",
       " 'a',\n",
       " 's',\n",
       " 'k',\n",
       " 'e',\n",
       " 'e',\n",
       " 'n',\n",
       " 'khan']"
      ]
     },
     "execution_count": 190,
     "metadata": {},
     "output_type": "execute_result"
    }
   ],
   "source": [
    "l2"
   ]
  },
  {
   "cell_type": "code",
   "execution_count": 191,
   "id": "5193be27-29e4-4152-9caa-ee8277c44af2",
   "metadata": {},
   "outputs": [],
   "source": [
    "l2.insert(2,'khan')"
   ]
  },
  {
   "cell_type": "code",
   "execution_count": 192,
   "id": "be9cc883-5e83-4885-975d-e1be10b75138",
   "metadata": {},
   "outputs": [
    {
     "data": {
      "text/plain": [
       "['data science',\n",
       " 3,\n",
       " 'khan',\n",
       " 5,\n",
       " 6,\n",
       " 'pwskills',\n",
       " 'riz',\n",
       " 't',\n",
       " 'a',\n",
       " 's',\n",
       " 'k',\n",
       " 'e',\n",
       " 'e',\n",
       " 'n',\n",
       " 'khan']"
      ]
     },
     "execution_count": 192,
     "metadata": {},
     "output_type": "execute_result"
    }
   ],
   "source": [
    "l2"
   ]
  },
  {
   "cell_type": "code",
   "execution_count": 193,
   "id": "db28216d-40bf-400c-a593-37fd17107a51",
   "metadata": {},
   "outputs": [],
   "source": [
    "l2.extend('khan')"
   ]
  },
  {
   "cell_type": "code",
   "execution_count": 194,
   "id": "599e17b2-4e80-4173-b89e-c5930e02ed3b",
   "metadata": {},
   "outputs": [
    {
     "data": {
      "text/plain": [
       "['data science',\n",
       " 3,\n",
       " 'khan',\n",
       " 5,\n",
       " 6,\n",
       " 'pwskills',\n",
       " 'riz',\n",
       " 't',\n",
       " 'a',\n",
       " 's',\n",
       " 'k',\n",
       " 'e',\n",
       " 'e',\n",
       " 'n',\n",
       " 'khan',\n",
       " 'k',\n",
       " 'h',\n",
       " 'a',\n",
       " 'n']"
      ]
     },
     "execution_count": 194,
     "metadata": {},
     "output_type": "execute_result"
    }
   ],
   "source": [
    "l2"
   ]
  },
  {
   "cell_type": "code",
   "execution_count": 195,
   "id": "0c74b012-6bce-40c4-8ff9-d0f6e8de9cb3",
   "metadata": {},
   "outputs": [],
   "source": [
    "l3 = [1,2,3,4,5]"
   ]
  },
  {
   "cell_type": "code",
   "execution_count": 196,
   "id": "15d2a7bb-0362-4e35-b483-3186b695743d",
   "metadata": {},
   "outputs": [],
   "source": [
    "l3.append([1,2,3])"
   ]
  },
  {
   "cell_type": "code",
   "execution_count": 197,
   "id": "ed657553-56e5-4a73-b711-454284db63f9",
   "metadata": {},
   "outputs": [
    {
     "data": {
      "text/plain": [
       "[1, 2, 3, 4, 5, [1, 2, 3]]"
      ]
     },
     "execution_count": 197,
     "metadata": {},
     "output_type": "execute_result"
    }
   ],
   "source": [
    "l3"
   ]
  },
  {
   "cell_type": "code",
   "execution_count": 198,
   "id": "a5963d41-b57c-497a-a35c-eb4c27545ccc",
   "metadata": {},
   "outputs": [],
   "source": [
    "l3.insert(1,[6,7,8])"
   ]
  },
  {
   "cell_type": "code",
   "execution_count": 199,
   "id": "fcee1b6e-de88-401b-a137-2a24a210c0cd",
   "metadata": {},
   "outputs": [
    {
     "data": {
      "text/plain": [
       "[1, [6, 7, 8], 2, 3, 4, 5, [1, 2, 3]]"
      ]
     },
     "execution_count": 199,
     "metadata": {},
     "output_type": "execute_result"
    }
   ],
   "source": [
    "l3"
   ]
  },
  {
   "cell_type": "code",
   "execution_count": 200,
   "id": "e4574e5f-4071-4232-8298-0186e7f84bd4",
   "metadata": {},
   "outputs": [],
   "source": [
    "l3.extend([4,5,6])"
   ]
  },
  {
   "cell_type": "code",
   "execution_count": 202,
   "id": "1020e4e1-bd21-4109-a4ec-bbfc70d7c044",
   "metadata": {},
   "outputs": [
    {
     "data": {
      "text/plain": [
       "[1, [6, 7, 8], 2, 3, 4, 5, [1, 2, 3], 4, 5, 6]"
      ]
     },
     "execution_count": 202,
     "metadata": {},
     "output_type": "execute_result"
    }
   ],
   "source": [
    "l3"
   ]
  },
  {
   "cell_type": "code",
   "execution_count": 203,
   "id": "e184ac4d-4c72-435d-8998-9bc7bcb1e056",
   "metadata": {},
   "outputs": [
    {
     "data": {
      "text/plain": [
       "6"
      ]
     },
     "execution_count": 203,
     "metadata": {},
     "output_type": "execute_result"
    }
   ],
   "source": [
    "l3.pop()"
   ]
  },
  {
   "cell_type": "code",
   "execution_count": 204,
   "id": "262d3b43-d957-4605-891c-54c72d616253",
   "metadata": {},
   "outputs": [
    {
     "data": {
      "text/plain": [
       "[1, [6, 7, 8], 2, 3, 4, 5, [1, 2, 3], 4, 5]"
      ]
     },
     "execution_count": 204,
     "metadata": {},
     "output_type": "execute_result"
    }
   ],
   "source": [
    "l3"
   ]
  },
  {
   "cell_type": "code",
   "execution_count": 205,
   "id": "485a4071-84e2-491d-9a8c-185190e6a559",
   "metadata": {},
   "outputs": [
    {
     "data": {
      "text/plain": [
       "[6, 7, 8]"
      ]
     },
     "execution_count": 205,
     "metadata": {},
     "output_type": "execute_result"
    }
   ],
   "source": [
    "l3.pop(1)"
   ]
  },
  {
   "cell_type": "code",
   "execution_count": 206,
   "id": "5a1a6e78-586d-401c-b6e5-7e64b5d415df",
   "metadata": {},
   "outputs": [
    {
     "data": {
      "text/plain": [
       "[1, 2, 3, 4, 5, [1, 2, 3], 4, 5]"
      ]
     },
     "execution_count": 206,
     "metadata": {},
     "output_type": "execute_result"
    }
   ],
   "source": [
    "l3"
   ]
  },
  {
   "cell_type": "code",
   "execution_count": 207,
   "id": "0f7ecd23-6ad9-4048-8474-eab11e01d070",
   "metadata": {},
   "outputs": [],
   "source": [
    "del l3"
   ]
  },
  {
   "cell_type": "code",
   "execution_count": 208,
   "id": "6eeff439-a50d-4dbc-a2d3-f7d55e3fbd0f",
   "metadata": {},
   "outputs": [
    {
     "ename": "NameError",
     "evalue": "name 'l3' is not defined",
     "output_type": "error",
     "traceback": [
      "\u001b[0;31m---------------------------------------------------------------------------\u001b[0m",
      "\u001b[0;31mNameError\u001b[0m                                 Traceback (most recent call last)",
      "Cell \u001b[0;32mIn[208], line 1\u001b[0m\n\u001b[0;32m----> 1\u001b[0m \u001b[43ml3\u001b[49m\n",
      "\u001b[0;31mNameError\u001b[0m: name 'l3' is not defined"
     ]
    }
   ],
   "source": [
    "l3"
   ]
  },
  {
   "cell_type": "code",
   "execution_count": 209,
   "id": "9be57c37-385b-47d9-87f2-3e8b1778f0ce",
   "metadata": {},
   "outputs": [
    {
     "data": {
      "text/plain": [
       "'My name is rizwan and i am from india'"
      ]
     },
     "execution_count": 209,
     "metadata": {},
     "output_type": "execute_result"
    }
   ],
   "source": [
    "s2"
   ]
  },
  {
   "cell_type": "code",
   "execution_count": 210,
   "id": "e48d708e-a953-486f-b715-2d40e438c631",
   "metadata": {},
   "outputs": [],
   "source": [
    "del s2"
   ]
  },
  {
   "cell_type": "code",
   "execution_count": 211,
   "id": "863937bf-abb6-471f-b577-0fa332ab7ed9",
   "metadata": {},
   "outputs": [
    {
     "ename": "NameError",
     "evalue": "name 's2' is not defined",
     "output_type": "error",
     "traceback": [
      "\u001b[0;31m---------------------------------------------------------------------------\u001b[0m",
      "\u001b[0;31mNameError\u001b[0m                                 Traceback (most recent call last)",
      "Cell \u001b[0;32mIn[211], line 1\u001b[0m\n\u001b[0;32m----> 1\u001b[0m \u001b[43ms2\u001b[49m\n",
      "\u001b[0;31mNameError\u001b[0m: name 's2' is not defined"
     ]
    }
   ],
   "source": [
    "s2"
   ]
  },
  {
   "cell_type": "code",
   "execution_count": 212,
   "id": "6e135b72-f99c-4e7a-86e3-3972ea603c75",
   "metadata": {},
   "outputs": [
    {
     "data": {
      "text/plain": [
       "['data science',\n",
       " 3,\n",
       " 'khan',\n",
       " 5,\n",
       " 6,\n",
       " 'pwskills',\n",
       " 'riz',\n",
       " 't',\n",
       " 'a',\n",
       " 's',\n",
       " 'k',\n",
       " 'e',\n",
       " 'e',\n",
       " 'n',\n",
       " 'khan',\n",
       " 'k',\n",
       " 'h',\n",
       " 'a',\n",
       " 'n']"
      ]
     },
     "execution_count": 212,
     "metadata": {},
     "output_type": "execute_result"
    }
   ],
   "source": [
    "l2"
   ]
  },
  {
   "cell_type": "code",
   "execution_count": 213,
   "id": "806ea154-1138-4957-9b32-2d26ebe55548",
   "metadata": {},
   "outputs": [],
   "source": [
    "l2.remove('s')"
   ]
  },
  {
   "cell_type": "code",
   "execution_count": 214,
   "id": "6415b7bc-4653-4b05-99e3-d8cbe2aa0779",
   "metadata": {},
   "outputs": [
    {
     "data": {
      "text/plain": [
       "['data science',\n",
       " 3,\n",
       " 'khan',\n",
       " 5,\n",
       " 6,\n",
       " 'pwskills',\n",
       " 'riz',\n",
       " 't',\n",
       " 'a',\n",
       " 'k',\n",
       " 'e',\n",
       " 'e',\n",
       " 'n',\n",
       " 'khan',\n",
       " 'k',\n",
       " 'h',\n",
       " 'a',\n",
       " 'n']"
      ]
     },
     "execution_count": 214,
     "metadata": {},
     "output_type": "execute_result"
    }
   ],
   "source": [
    "l2"
   ]
  },
  {
   "cell_type": "code",
   "execution_count": 215,
   "id": "b217326e-ad21-4a44-a7b5-380ac50e5284",
   "metadata": {},
   "outputs": [
    {
     "ename": "ValueError",
     "evalue": "list.remove(x): x not in list",
     "output_type": "error",
     "traceback": [
      "\u001b[0;31m---------------------------------------------------------------------------\u001b[0m",
      "\u001b[0;31mValueError\u001b[0m                                Traceback (most recent call last)",
      "Cell \u001b[0;32mIn[215], line 1\u001b[0m\n\u001b[0;32m----> 1\u001b[0m \u001b[43ml2\u001b[49m\u001b[38;5;241;43m.\u001b[39;49m\u001b[43mremove\u001b[49m\u001b[43m(\u001b[49m\u001b[38;5;124;43m'\u001b[39;49m\u001b[38;5;124;43mz\u001b[39;49m\u001b[38;5;124;43m'\u001b[39;49m\u001b[43m)\u001b[49m\n",
      "\u001b[0;31mValueError\u001b[0m: list.remove(x): x not in list"
     ]
    }
   ],
   "source": [
    "l2.remove('z')"
   ]
  },
  {
   "cell_type": "code",
   "execution_count": 216,
   "id": "30ca91d9-cf00-46d7-9f35-418cc06bdc34",
   "metadata": {},
   "outputs": [
    {
     "ename": "IndexError",
     "evalue": "pop index out of range",
     "output_type": "error",
     "traceback": [
      "\u001b[0;31m---------------------------------------------------------------------------\u001b[0m",
      "\u001b[0;31mIndexError\u001b[0m                                Traceback (most recent call last)",
      "Cell \u001b[0;32mIn[216], line 1\u001b[0m\n\u001b[0;32m----> 1\u001b[0m \u001b[43ml2\u001b[49m\u001b[38;5;241;43m.\u001b[39;49m\u001b[43mpop\u001b[49m\u001b[43m(\u001b[49m\u001b[38;5;241;43m1000\u001b[39;49m\u001b[43m)\u001b[49m\n",
      "\u001b[0;31mIndexError\u001b[0m: pop index out of range"
     ]
    }
   ],
   "source": [
    "l2.pop(1000)"
   ]
  },
  {
   "cell_type": "code",
   "execution_count": 217,
   "id": "3839f920-cb44-4ca2-b52b-e826dda9702e",
   "metadata": {},
   "outputs": [
    {
     "data": {
      "text/plain": [
       "[1,\n",
       " 2,\n",
       " 3,\n",
       " 'taskeen fatma',\n",
       " 4,\n",
       " 5,\n",
       " 'rizwan',\n",
       " 'khan',\n",
       " (2+4j),\n",
       " 224.45,\n",
       " True,\n",
       " [1, 23, 4, 34],\n",
       " 'taskeen',\n",
       " 't',\n",
       " 'a',\n",
       " 's',\n",
       " 'k',\n",
       " 'e',\n",
       " 'e',\n",
       " 'n']"
      ]
     },
     "execution_count": 217,
     "metadata": {},
     "output_type": "execute_result"
    }
   ],
   "source": [
    "l1"
   ]
  },
  {
   "cell_type": "code",
   "execution_count": 218,
   "id": "4a61b198-a543-4d76-a704-b466361ec176",
   "metadata": {},
   "outputs": [],
   "source": [
    "l1.clear()"
   ]
  },
  {
   "cell_type": "code",
   "execution_count": 219,
   "id": "e839fbd4-3616-4b11-8f1a-7b5b48aa4a4d",
   "metadata": {},
   "outputs": [
    {
     "data": {
      "text/plain": [
       "[]"
      ]
     },
     "execution_count": 219,
     "metadata": {},
     "output_type": "execute_result"
    }
   ],
   "source": [
    "l1"
   ]
  },
  {
   "cell_type": "code",
   "execution_count": 220,
   "id": "28014472-6fa8-49bb-8bb5-378f42d27916",
   "metadata": {},
   "outputs": [
    {
     "data": {
      "text/plain": [
       "['data science',\n",
       " 3,\n",
       " 'khan',\n",
       " 5,\n",
       " 6,\n",
       " 'pwskills',\n",
       " 'riz',\n",
       " 't',\n",
       " 'a',\n",
       " 'k',\n",
       " 'e',\n",
       " 'e',\n",
       " 'n',\n",
       " 'khan',\n",
       " 'k',\n",
       " 'h',\n",
       " 'a',\n",
       " 'n']"
      ]
     },
     "execution_count": 220,
     "metadata": {},
     "output_type": "execute_result"
    }
   ],
   "source": [
    "l2"
   ]
  },
  {
   "cell_type": "code",
   "execution_count": 222,
   "id": "1d5fbd91-65a2-4ba3-8bcd-0bbefe43ae4e",
   "metadata": {},
   "outputs": [
    {
     "data": {
      "text/plain": [
       "2"
      ]
     },
     "execution_count": 222,
     "metadata": {},
     "output_type": "execute_result"
    }
   ],
   "source": [
    "l2.count('n')"
   ]
  },
  {
   "cell_type": "code",
   "execution_count": 224,
   "id": "b2c32061-cb18-4f97-95ea-c2e3226d512d",
   "metadata": {},
   "outputs": [
    {
     "data": {
      "text/plain": [
       "9"
      ]
     },
     "execution_count": 224,
     "metadata": {},
     "output_type": "execute_result"
    }
   ],
   "source": [
    "l2.index('k')"
   ]
  },
  {
   "cell_type": "code",
   "execution_count": 225,
   "id": "22180b1b-0766-43d8-9c92-5e9d22a8feb3",
   "metadata": {},
   "outputs": [],
   "source": [
    "l2.reverse()"
   ]
  },
  {
   "cell_type": "code",
   "execution_count": 226,
   "id": "24cb507d-4b59-473c-ac50-ce24e3c60300",
   "metadata": {},
   "outputs": [
    {
     "data": {
      "text/plain": [
       "['n',\n",
       " 'a',\n",
       " 'h',\n",
       " 'k',\n",
       " 'khan',\n",
       " 'n',\n",
       " 'e',\n",
       " 'e',\n",
       " 'k',\n",
       " 'a',\n",
       " 't',\n",
       " 'riz',\n",
       " 'pwskills',\n",
       " 6,\n",
       " 5,\n",
       " 'khan',\n",
       " 3,\n",
       " 'data science']"
      ]
     },
     "execution_count": 226,
     "metadata": {},
     "output_type": "execute_result"
    }
   ],
   "source": [
    "l2"
   ]
  },
  {
   "cell_type": "code",
   "execution_count": 227,
   "id": "7c3e1960-7f21-4314-af26-e5354168ff37",
   "metadata": {},
   "outputs": [
    {
     "ename": "TypeError",
     "evalue": "'<' not supported between instances of 'int' and 'str'",
     "output_type": "error",
     "traceback": [
      "\u001b[0;31m---------------------------------------------------------------------------\u001b[0m",
      "\u001b[0;31mTypeError\u001b[0m                                 Traceback (most recent call last)",
      "Cell \u001b[0;32mIn[227], line 1\u001b[0m\n\u001b[0;32m----> 1\u001b[0m \u001b[43ml2\u001b[49m\u001b[38;5;241;43m.\u001b[39;49m\u001b[43msort\u001b[49m\u001b[43m(\u001b[49m\u001b[43m)\u001b[49m\n",
      "\u001b[0;31mTypeError\u001b[0m: '<' not supported between instances of 'int' and 'str'"
     ]
    }
   ],
   "source": [
    "l2.sort()"
   ]
  },
  {
   "cell_type": "code",
   "execution_count": 228,
   "id": "a35b7bdf-f15d-410a-a5e9-23b66106626d",
   "metadata": {},
   "outputs": [
    {
     "data": {
      "text/plain": [
       "['a',\n",
       " 'a',\n",
       " 'e',\n",
       " 'e',\n",
       " 'h',\n",
       " 'k',\n",
       " 'k',\n",
       " 'khan',\n",
       " 'n',\n",
       " 'n',\n",
       " 'pwskills',\n",
       " 'riz',\n",
       " 't',\n",
       " 6,\n",
       " 5,\n",
       " 'khan',\n",
       " 3,\n",
       " 'data science']"
      ]
     },
     "execution_count": 228,
     "metadata": {},
     "output_type": "execute_result"
    }
   ],
   "source": [
    "l2"
   ]
  },
  {
   "cell_type": "code",
   "execution_count": 230,
   "id": "e1285299-3f93-4deb-a0b4-0c54a2aff2ce",
   "metadata": {},
   "outputs": [],
   "source": [
    "l3 = [34, 28,2,3,5,2,67]"
   ]
  },
  {
   "cell_type": "code",
   "execution_count": 231,
   "id": "baa99f76-c26d-4a0c-a1db-9fdee9cb3b55",
   "metadata": {},
   "outputs": [],
   "source": [
    "l3.sort()"
   ]
  },
  {
   "cell_type": "code",
   "execution_count": 232,
   "id": "1ea7a944-1943-4c1e-a757-389be95c32a0",
   "metadata": {},
   "outputs": [
    {
     "data": {
      "text/plain": [
       "[2, 2, 3, 5, 28, 34, 67]"
      ]
     },
     "execution_count": 232,
     "metadata": {},
     "output_type": "execute_result"
    }
   ],
   "source": [
    "l3"
   ]
  },
  {
   "cell_type": "code",
   "execution_count": 233,
   "id": "a1747e58-9ad4-48d5-bd5a-81157deed60b",
   "metadata": {},
   "outputs": [],
   "source": [
    "l4 = ['rizwan' , 'taskeen' , 'faiza']"
   ]
  },
  {
   "cell_type": "code",
   "execution_count": 234,
   "id": "57ca136e-4565-4629-bcc1-62add78e261d",
   "metadata": {},
   "outputs": [],
   "source": [
    "l4.sort()"
   ]
  },
  {
   "cell_type": "code",
   "execution_count": 235,
   "id": "23921150-2f48-4883-892b-2db23f3a55ae",
   "metadata": {},
   "outputs": [
    {
     "data": {
      "text/plain": [
       "['faiza', 'rizwan', 'taskeen']"
      ]
     },
     "execution_count": 235,
     "metadata": {},
     "output_type": "execute_result"
    }
   ],
   "source": [
    "l4"
   ]
  },
  {
   "cell_type": "code",
   "execution_count": 236,
   "id": "a3dd0112-0543-494d-b55a-d29bc0eb3c92",
   "metadata": {},
   "outputs": [],
   "source": [
    "l0 = [2,3,5,6]"
   ]
  },
  {
   "cell_type": "code",
   "execution_count": 237,
   "id": "228bbf9d-b315-4901-9b8c-2667b6c1ee53",
   "metadata": {},
   "outputs": [],
   "source": [
    "l1 = l0"
   ]
  },
  {
   "cell_type": "code",
   "execution_count": 238,
   "id": "5016e84b-f221-47b2-90b0-4ec89c0a54fb",
   "metadata": {},
   "outputs": [
    {
     "data": {
      "text/plain": [
       "[2, 3, 5, 6]"
      ]
     },
     "execution_count": 238,
     "metadata": {},
     "output_type": "execute_result"
    }
   ],
   "source": [
    "l1"
   ]
  },
  {
   "cell_type": "code",
   "execution_count": 239,
   "id": "adc0d896-c0dc-4301-a28a-26b0842157ff",
   "metadata": {},
   "outputs": [
    {
     "data": {
      "text/plain": [
       "[2, 3, 5, 6]"
      ]
     },
     "execution_count": 239,
     "metadata": {},
     "output_type": "execute_result"
    }
   ],
   "source": [
    "l0"
   ]
  },
  {
   "cell_type": "code",
   "execution_count": 240,
   "id": "c8bf19ca-7ac2-46ca-a8b9-2552207f9aaf",
   "metadata": {},
   "outputs": [
    {
     "data": {
      "text/plain": [
       "2"
      ]
     },
     "execution_count": 240,
     "metadata": {},
     "output_type": "execute_result"
    }
   ],
   "source": [
    "l0[0]"
   ]
  },
  {
   "cell_type": "code",
   "execution_count": 241,
   "id": "51af0b87-6f24-4b51-bed7-1e8254a1210f",
   "metadata": {},
   "outputs": [],
   "source": [
    "l0[0] = 200"
   ]
  },
  {
   "cell_type": "code",
   "execution_count": 242,
   "id": "e3c901ea-072f-4b6e-b798-932b846611ab",
   "metadata": {},
   "outputs": [
    {
     "data": {
      "text/plain": [
       "200"
      ]
     },
     "execution_count": 242,
     "metadata": {},
     "output_type": "execute_result"
    }
   ],
   "source": [
    "l0[0]"
   ]
  },
  {
   "cell_type": "code",
   "execution_count": 243,
   "id": "2e321ec0-0560-42bf-958f-8f48aaddfd6e",
   "metadata": {},
   "outputs": [
    {
     "data": {
      "text/plain": [
       "[200, 3, 5, 6]"
      ]
     },
     "execution_count": 243,
     "metadata": {},
     "output_type": "execute_result"
    }
   ],
   "source": [
    "l0"
   ]
  },
  {
   "cell_type": "code",
   "execution_count": 244,
   "id": "2c1db76b-cbcd-40dc-8b1d-745ed9cf1224",
   "metadata": {},
   "outputs": [
    {
     "data": {
      "text/plain": [
       "[200, 3, 5, 6]"
      ]
     },
     "execution_count": 244,
     "metadata": {},
     "output_type": "execute_result"
    }
   ],
   "source": [
    "l1"
   ]
  },
  {
   "cell_type": "code",
   "execution_count": 245,
   "id": "01b3cafd-8195-4f14-81c2-dbba769c3c8d",
   "metadata": {},
   "outputs": [],
   "source": [
    "l2 = l0.copy()"
   ]
  },
  {
   "cell_type": "code",
   "execution_count": null,
   "id": "05f88984-cb3e-4a99-a129-4bb72dcf381b",
   "metadata": {},
   "outputs": [
    {
     "data": {
      "text/plain": [
       "[200, 3, 5, 6]"
      ]
     },
     "execution_count": 246,
     "metadata": {},
     "output_type": "execute_result"
    }
   ],
   "source": [
    "l2"
   ]
  },
  {
   "cell_type": "code",
   "execution_count": 247,
   "id": "becb2cf1-71de-458d-9819-007eb87a6499",
   "metadata": {},
   "outputs": [
    {
     "data": {
      "text/plain": [
       "[200, 3, 5, 6]"
      ]
     },
     "execution_count": 247,
     "metadata": {},
     "output_type": "execute_result"
    }
   ],
   "source": [
    "l1"
   ]
  },
  {
   "cell_type": "code",
   "execution_count": 248,
   "id": "c74040a8-811a-4e42-b4e9-33adbfeebd92",
   "metadata": {},
   "outputs": [
    {
     "data": {
      "text/plain": [
       "[200, 3, 5, 6]"
      ]
     },
     "execution_count": 248,
     "metadata": {},
     "output_type": "execute_result"
    }
   ],
   "source": [
    "l0"
   ]
  },
  {
   "cell_type": "code",
   "execution_count": 249,
   "id": "445ec723-f58d-444b-bdbd-7e72a87d371b",
   "metadata": {},
   "outputs": [
    {
     "data": {
      "text/plain": [
       "3"
      ]
     },
     "execution_count": 249,
     "metadata": {},
     "output_type": "execute_result"
    }
   ],
   "source": [
    "l0[1]"
   ]
  },
  {
   "cell_type": "code",
   "execution_count": 250,
   "id": "39a8aaeb-9acb-4673-9872-c23946a7eb84",
   "metadata": {},
   "outputs": [],
   "source": [
    "l0[1] = 300"
   ]
  },
  {
   "cell_type": "code",
   "execution_count": 251,
   "id": "3fb4dbb4-bead-4220-ab45-75f2a8689c08",
   "metadata": {},
   "outputs": [
    {
     "data": {
      "text/plain": [
       "[200, 300, 5, 6]"
      ]
     },
     "execution_count": 251,
     "metadata": {},
     "output_type": "execute_result"
    }
   ],
   "source": [
    "l0"
   ]
  },
  {
   "cell_type": "code",
   "execution_count": 252,
   "id": "a9b72255-d4af-4720-b6b4-c2be34ebfe4d",
   "metadata": {},
   "outputs": [
    {
     "data": {
      "text/plain": [
       "[200, 300, 5, 6]"
      ]
     },
     "execution_count": 252,
     "metadata": {},
     "output_type": "execute_result"
    }
   ],
   "source": [
    "l1"
   ]
  },
  {
   "cell_type": "code",
   "execution_count": 253,
   "id": "d06f87c9-2ddd-4e04-a1ff-9a8492112297",
   "metadata": {},
   "outputs": [
    {
     "data": {
      "text/plain": [
       "[200, 3, 5, 6]"
      ]
     },
     "execution_count": 253,
     "metadata": {},
     "output_type": "execute_result"
    }
   ],
   "source": [
    "l2"
   ]
  },
  {
   "cell_type": "code",
   "execution_count": 254,
   "id": "d07eb383-de8c-4546-82f3-c40789a63f23",
   "metadata": {},
   "outputs": [
    {
     "data": {
      "text/plain": [
       "(1, 2, 3, 4, 5, 'rizwan', 'pwskills', (9+5j), True)"
      ]
     },
     "execution_count": 254,
     "metadata": {},
     "output_type": "execute_result"
    }
   ],
   "source": [
    "t"
   ]
  },
  {
   "cell_type": "code",
   "execution_count": 256,
   "id": "d49e0e37-eff9-4df9-8d13-9780c4bbfd69",
   "metadata": {},
   "outputs": [
    {
     "data": {
      "text/plain": [
       "1"
      ]
     },
     "execution_count": 256,
     "metadata": {},
     "output_type": "execute_result"
    }
   ],
   "source": [
    "t.count(4)"
   ]
  },
  {
   "cell_type": "code",
   "execution_count": 257,
   "id": "7b0eb3f3-8494-4223-95bf-160c0a199393",
   "metadata": {},
   "outputs": [
    {
     "data": {
      "text/plain": [
       "5"
      ]
     },
     "execution_count": 257,
     "metadata": {},
     "output_type": "execute_result"
    }
   ],
   "source": [
    "t.index('rizwan')"
   ]
  },
  {
   "cell_type": "code",
   "execution_count": 258,
   "id": "1d928677-5547-484f-a1ee-854498595b72",
   "metadata": {},
   "outputs": [],
   "source": [
    "s = {3,4,5,6,6,73,45,6}"
   ]
  },
  {
   "cell_type": "code",
   "execution_count": 259,
   "id": "ccadca2d-8cd8-40fe-91a1-5dfa87c4eee2",
   "metadata": {},
   "outputs": [
    {
     "data": {
      "text/plain": [
       "set"
      ]
     },
     "execution_count": 259,
     "metadata": {},
     "output_type": "execute_result"
    }
   ],
   "source": [
    "type(s)"
   ]
  },
  {
   "cell_type": "code",
   "execution_count": 260,
   "id": "480f761d-11e9-47cf-baa6-6c7a4492df24",
   "metadata": {},
   "outputs": [],
   "source": [
    "s.add(900)"
   ]
  },
  {
   "cell_type": "code",
   "execution_count": 261,
   "id": "1edce464-148f-4308-9a3e-78382c50cdab",
   "metadata": {},
   "outputs": [
    {
     "data": {
      "text/plain": [
       "{3, 4, 5, 6, 45, 73, 900}"
      ]
     },
     "execution_count": 261,
     "metadata": {},
     "output_type": "execute_result"
    }
   ],
   "source": [
    "s"
   ]
  },
  {
   "cell_type": "code",
   "execution_count": 263,
   "id": "3adc7d5b-cbec-4956-91f9-89b44e9f9257",
   "metadata": {},
   "outputs": [],
   "source": [
    "s.add(4)"
   ]
  },
  {
   "cell_type": "code",
   "execution_count": 264,
   "id": "b92483a6-e958-4e97-9810-776a27fc4fef",
   "metadata": {},
   "outputs": [
    {
     "data": {
      "text/plain": [
       "{3, 4, 5, 6, 45, 73, 900}"
      ]
     },
     "execution_count": 264,
     "metadata": {},
     "output_type": "execute_result"
    }
   ],
   "source": [
    "s"
   ]
  },
  {
   "cell_type": "code",
   "execution_count": 265,
   "id": "db1157d7-98b1-4feb-9726-2f7b3bd0dbac",
   "metadata": {},
   "outputs": [],
   "source": [
    "s.discard(3)"
   ]
  },
  {
   "cell_type": "code",
   "execution_count": 266,
   "id": "e9248d5b-9a50-48b7-ae02-e14b3e770203",
   "metadata": {},
   "outputs": [
    {
     "data": {
      "text/plain": [
       "{4, 5, 6, 45, 73, 900}"
      ]
     },
     "execution_count": 266,
     "metadata": {},
     "output_type": "execute_result"
    }
   ],
   "source": [
    "s"
   ]
  },
  {
   "cell_type": "code",
   "execution_count": 267,
   "id": "46ba662d-1836-4488-b950-92b2ea55fd22",
   "metadata": {},
   "outputs": [
    {
     "data": {
      "text/plain": [
       "4"
      ]
     },
     "execution_count": 267,
     "metadata": {},
     "output_type": "execute_result"
    }
   ],
   "source": [
    "s.pop()"
   ]
  },
  {
   "cell_type": "code",
   "execution_count": 268,
   "id": "c2e6d0df-3a22-443d-b144-8a6e2c1be771",
   "metadata": {},
   "outputs": [
    {
     "data": {
      "text/plain": [
       "{5, 6, 45, 73, 900}"
      ]
     },
     "execution_count": 268,
     "metadata": {},
     "output_type": "execute_result"
    }
   ],
   "source": [
    "s"
   ]
  },
  {
   "cell_type": "code",
   "execution_count": 269,
   "id": "6fbcd9c0-533f-4b80-9fd9-05f83ee09522",
   "metadata": {},
   "outputs": [
    {
     "data": {
      "text/plain": [
       "5"
      ]
     },
     "execution_count": 269,
     "metadata": {},
     "output_type": "execute_result"
    }
   ],
   "source": [
    "s.pop()"
   ]
  },
  {
   "cell_type": "code",
   "execution_count": 270,
   "id": "31a96a47-6157-4eff-9825-18c9b8fe871b",
   "metadata": {},
   "outputs": [
    {
     "data": {
      "text/plain": [
       "{6, 45, 73, 900}"
      ]
     },
     "execution_count": 270,
     "metadata": {},
     "output_type": "execute_result"
    }
   ],
   "source": [
    "s"
   ]
  },
  {
   "cell_type": "code",
   "execution_count": 271,
   "id": "b4d2fb3f-3c67-4eee-9253-4967cf2b743f",
   "metadata": {},
   "outputs": [
    {
     "data": {
      "text/plain": [
       "6"
      ]
     },
     "execution_count": 271,
     "metadata": {},
     "output_type": "execute_result"
    }
   ],
   "source": [
    "s.pop()"
   ]
  },
  {
   "cell_type": "code",
   "execution_count": 272,
   "id": "4afe609b-8723-45b0-8ca2-4cf753cd3017",
   "metadata": {},
   "outputs": [
    {
     "data": {
      "text/plain": [
       "{45, 73, 900}"
      ]
     },
     "execution_count": 272,
     "metadata": {},
     "output_type": "execute_result"
    }
   ],
   "source": [
    "s"
   ]
  },
  {
   "cell_type": "code",
   "execution_count": 273,
   "id": "e390aaad-e798-46da-9505-77a63887a82d",
   "metadata": {},
   "outputs": [],
   "source": [
    "s.remove(73)"
   ]
  },
  {
   "cell_type": "code",
   "execution_count": 274,
   "id": "f810cca2-acd3-42cb-ab3c-267f46f48174",
   "metadata": {},
   "outputs": [
    {
     "data": {
      "text/plain": [
       "{45, 900}"
      ]
     },
     "execution_count": 274,
     "metadata": {},
     "output_type": "execute_result"
    }
   ],
   "source": [
    "s"
   ]
  },
  {
   "cell_type": "code",
   "execution_count": 276,
   "id": "92a5bd1b-2f5d-4768-bdae-eb17b49481d1",
   "metadata": {},
   "outputs": [
    {
     "data": {
      "text/plain": [
       "{'name': 'rizwan',\n",
       " 'subject': ['data science', 'python', 'big data', 'data analytic'],\n",
       " 'number': '7870914247'}"
      ]
     },
     "execution_count": 276,
     "metadata": {},
     "output_type": "execute_result"
    }
   ],
   "source": [
    "d1"
   ]
  },
  {
   "cell_type": "code",
   "execution_count": 277,
   "id": "082eece9-c643-4d39-9edc-babd14dc297b",
   "metadata": {},
   "outputs": [
    {
     "data": {
      "text/plain": [
       "dict_keys(['name', 'subject', 'number'])"
      ]
     },
     "execution_count": 277,
     "metadata": {},
     "output_type": "execute_result"
    }
   ],
   "source": [
    "d1.keys()"
   ]
  },
  {
   "cell_type": "code",
   "execution_count": 278,
   "id": "1da3d76c-aaca-47aa-9c30-fb9f79666059",
   "metadata": {},
   "outputs": [
    {
     "data": {
      "text/plain": [
       "dict_values(['rizwan', ['data science', 'python', 'big data', 'data analytic'], '7870914247'])"
      ]
     },
     "execution_count": 278,
     "metadata": {},
     "output_type": "execute_result"
    }
   ],
   "source": [
    "d1.values()"
   ]
  },
  {
   "cell_type": "code",
   "execution_count": 279,
   "id": "5e32dbf5-e2b0-4584-99c6-c461be2a7b17",
   "metadata": {},
   "outputs": [
    {
     "data": {
      "text/plain": [
       "['name', 'subject', 'number']"
      ]
     },
     "execution_count": 279,
     "metadata": {},
     "output_type": "execute_result"
    }
   ],
   "source": [
    "list(d1.keys())"
   ]
  },
  {
   "cell_type": "code",
   "execution_count": 281,
   "id": "32a263b3-c91b-46a0-afb8-0a9698a3f85e",
   "metadata": {},
   "outputs": [
    {
     "data": {
      "text/plain": [
       "['rizwan',\n",
       " ['data science', 'python', 'big data', 'data analytic'],\n",
       " '7870914247']"
      ]
     },
     "execution_count": 281,
     "metadata": {},
     "output_type": "execute_result"
    }
   ],
   "source": [
    "list(d1.values())"
   ]
  },
  {
   "cell_type": "code",
   "execution_count": 282,
   "id": "48a97675-94a6-406b-a789-c31865c629ea",
   "metadata": {},
   "outputs": [
    {
     "data": {
      "text/plain": [
       "[('name', 'rizwan'),\n",
       " ('subject', ['data science', 'python', 'big data', 'data analytic']),\n",
       " ('number', '7870914247')]"
      ]
     },
     "execution_count": 282,
     "metadata": {},
     "output_type": "execute_result"
    }
   ],
   "source": [
    "list(d1.items())"
   ]
  },
  {
   "cell_type": "code",
   "execution_count": 283,
   "id": "2d7be01e-ecfe-4d89-8721-912fd4a9dbe8",
   "metadata": {},
   "outputs": [
    {
     "data": {
      "text/plain": [
       "'rizwan'"
      ]
     },
     "execution_count": 283,
     "metadata": {},
     "output_type": "execute_result"
    }
   ],
   "source": [
    "d1.get('name')"
   ]
  },
  {
   "cell_type": "code",
   "execution_count": 284,
   "id": "c60583df-7509-45e3-94ee-69a102d35e9c",
   "metadata": {},
   "outputs": [
    {
     "data": {
      "text/plain": [
       "'rizwan'"
      ]
     },
     "execution_count": 284,
     "metadata": {},
     "output_type": "execute_result"
    }
   ],
   "source": [
    "d1['name']"
   ]
  },
  {
   "cell_type": "code",
   "execution_count": 285,
   "id": "14d62103-01fa-40ba-9c00-c766eb0c00da",
   "metadata": {},
   "outputs": [
    {
     "data": {
      "text/plain": [
       "'rizwan'"
      ]
     },
     "execution_count": 285,
     "metadata": {},
     "output_type": "execute_result"
    }
   ],
   "source": [
    "d1.pop('name')"
   ]
  },
  {
   "cell_type": "code",
   "execution_count": 286,
   "id": "90b03440-5af5-44d5-8add-83edf870f4fc",
   "metadata": {},
   "outputs": [
    {
     "data": {
      "text/plain": [
       "{'subject': ['data science', 'python', 'big data', 'data analytic'],\n",
       " 'number': '7870914247'}"
      ]
     },
     "execution_count": 286,
     "metadata": {},
     "output_type": "execute_result"
    }
   ],
   "source": [
    "d1"
   ]
  },
  {
   "cell_type": "code",
   "execution_count": 287,
   "id": "8cde237a-f0be-445f-ba4e-4f301f3898b2",
   "metadata": {},
   "outputs": [],
   "source": [
    "d1['test'] = 'data science'"
   ]
  },
  {
   "cell_type": "code",
   "execution_count": 288,
   "id": "d455dc2d-ef22-42c3-882d-20c57af20da7",
   "metadata": {},
   "outputs": [
    {
     "data": {
      "text/plain": [
       "{'subject': ['data science', 'python', 'big data', 'data analytic'],\n",
       " 'number': '7870914247',\n",
       " 'test': 'data science'}"
      ]
     },
     "execution_count": 288,
     "metadata": {},
     "output_type": "execute_result"
    }
   ],
   "source": [
    "d1"
   ]
  },
  {
   "cell_type": "code",
   "execution_count": 289,
   "id": "7aae46ae-87d7-4169-876a-a2a9af62ec5d",
   "metadata": {},
   "outputs": [],
   "source": [
    "d1['syllabus'] = {'data science', 'python', 'statics', 'numpy'}"
   ]
  },
  {
   "cell_type": "code",
   "execution_count": 290,
   "id": "98b5e43a-bb29-4ca5-b903-37fca60704ce",
   "metadata": {},
   "outputs": [
    {
     "data": {
      "text/plain": [
       "{'subject': ['data science', 'python', 'big data', 'data analytic'],\n",
       " 'number': '7870914247',\n",
       " 'test': 'data science',\n",
       " 'syllabus': {'data science', 'numpy', 'python', 'statics'}}"
      ]
     },
     "execution_count": 290,
     "metadata": {},
     "output_type": "execute_result"
    }
   ],
   "source": [
    "d1"
   ]
  }
 ],
 "metadata": {
  "kernelspec": {
   "display_name": "Python 3 (ipykernel)",
   "language": "python",
   "name": "python3"
  },
  "language_info": {
   "codemirror_mode": {
    "name": "ipython",
    "version": 3
   },
   "file_extension": ".py",
   "mimetype": "text/x-python",
   "name": "python",
   "nbconvert_exporter": "python",
   "pygments_lexer": "ipython3",
   "version": "3.10.8"
  }
 },
 "nbformat": 4,
 "nbformat_minor": 5
}
