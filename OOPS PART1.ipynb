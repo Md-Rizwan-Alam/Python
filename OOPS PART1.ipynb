{
 "cells": [
  {
   "cell_type": "code",
   "execution_count": 1,
   "id": "ada8deb0-44b6-4edd-bb98-c23b8d12ffc3",
   "metadata": {},
   "outputs": [],
   "source": [
    "#oops stand for object-orented programming system"
   ]
  },
  {
   "cell_type": "code",
   "execution_count": 2,
   "id": "a6a809d5-6eef-4f9f-b6a1-5418333e24c8",
   "metadata": {},
   "outputs": [],
   "source": [
    "a = 1"
   ]
  },
  {
   "cell_type": "code",
   "execution_count": 3,
   "id": "e31e78f1-e764-4a74-adc7-95aad9ce5020",
   "metadata": {},
   "outputs": [
    {
     "name": "stdout",
     "output_type": "stream",
     "text": [
      "<class 'int'>\n"
     ]
    }
   ],
   "source": [
    "print(type(a))"
   ]
  },
  {
   "cell_type": "code",
   "execution_count": 4,
   "id": "e20d7f5b-cb31-498c-a030-a04110e37124",
   "metadata": {},
   "outputs": [
    {
     "name": "stdout",
     "output_type": "stream",
     "text": [
      "<class 'str'>\n"
     ]
    }
   ],
   "source": [
    "print(type('pwskills'))"
   ]
  },
  {
   "cell_type": "code",
   "execution_count": 5,
   "id": "4cd9004d-337a-40da-a46b-ad808a509891",
   "metadata": {},
   "outputs": [],
   "source": [
    "#concept of classes"
   ]
  },
  {
   "cell_type": "code",
   "execution_count": 6,
   "id": "d7f27680-6312-4436-9694-649b0001b07a",
   "metadata": {},
   "outputs": [],
   "source": [
    "class test : \n",
    "    pass"
   ]
  },
  {
   "cell_type": "code",
   "execution_count": 7,
   "id": "c8a57bdb-6cb8-47df-bcb3-5840364a31c5",
   "metadata": {},
   "outputs": [],
   "source": [
    "a = test()"
   ]
  },
  {
   "cell_type": "code",
   "execution_count": 8,
   "id": "ca94f115-8a09-4096-a2f3-3d86247d0b56",
   "metadata": {},
   "outputs": [
    {
     "data": {
      "text/plain": [
       "__main__.test"
      ]
     },
     "execution_count": 8,
     "metadata": {},
     "output_type": "execute_result"
    }
   ],
   "source": [
    "type(a)"
   ]
  },
  {
   "cell_type": "code",
   "execution_count": 9,
   "id": "e6551267-d8dd-4873-a427-f562b438977e",
   "metadata": {},
   "outputs": [
    {
     "name": "stdout",
     "output_type": "stream",
     "text": [
      "<class '__main__.test'>\n"
     ]
    }
   ],
   "source": [
    "print(type(a))"
   ]
  },
  {
   "cell_type": "code",
   "execution_count": null,
   "id": "79048d6c-e318-43d0-907d-c4a7e5289e68",
   "metadata": {},
   "outputs": [],
   "source": [
    "class pwskills:\n",
    "    def welcome_msg():\n",
    "        print('welcome to pwskills')"
   ]
  },
  {
   "cell_type": "code",
   "execution_count": 11,
   "id": "c4cb7fc2-c498-419d-9df1-d67a739cd103",
   "metadata": {},
   "outputs": [],
   "source": [
    "rohan = pwskills()"
   ]
  },
  {
   "cell_type": "code",
   "execution_count": 14,
   "id": "75056015-c61b-4b80-8f43-1d151ba70dc5",
   "metadata": {},
   "outputs": [
    {
     "name": "stdout",
     "output_type": "stream",
     "text": [
      "<class '__main__.pwskills'>\n"
     ]
    }
   ],
   "source": [
    "print(type(rohan))"
   ]
  },
  {
   "cell_type": "code",
   "execution_count": 15,
   "id": "010ce19a-5588-477d-a966-6bed58ae325c",
   "metadata": {},
   "outputs": [
    {
     "ename": "TypeError",
     "evalue": "pwskills.welcome_msg() takes 0 positional arguments but 1 was given",
     "output_type": "error",
     "traceback": [
      "\u001b[0;31m---------------------------------------------------------------------------\u001b[0m",
      "\u001b[0;31mTypeError\u001b[0m                                 Traceback (most recent call last)",
      "Cell \u001b[0;32mIn[22], line 1\u001b[0m\n\u001b[0;32m----> 1\u001b[0m \u001b[43mrohan\u001b[49m\u001b[38;5;241;43m.\u001b[39;49m\u001b[43mwelcome_msg\u001b[49m\u001b[43m(\u001b[49m\u001b[43m)\u001b[49m\n",
      "\u001b[0;31mTypeError\u001b[0m: pwskills.welcome_msg() takes 0 positional arguments but 1 was given"
     ]
    }
   ],
   "source": [
    "rohan.welcome_msg()"
   ]
  },
  {
   "cell_type": "code",
   "execution_count": null,
   "id": "22e3bd08-6d22-431f-a45d-34ba6d8d15f7",
   "metadata": {},
   "outputs": [],
   "source": [
    "class pwskills:\n",
    "    def welcome_msg(self):\n",
    "        print('welcome to pwskills')"
   ]
  },
  {
   "cell_type": "code",
   "execution_count": 24,
   "id": "b715d69f-85f8-433e-b813-c79006cb1e1c",
   "metadata": {},
   "outputs": [],
   "source": [
    "rohan = pwskills()"
   ]
  },
  {
   "cell_type": "code",
   "execution_count": 25,
   "id": "c99a4320-1a37-4f50-85cf-a81b96f01cfd",
   "metadata": {},
   "outputs": [
    {
     "name": "stdout",
     "output_type": "stream",
     "text": [
      "<class '__main__.pwskills'>\n"
     ]
    }
   ],
   "source": [
    "print(type(rohan))"
   ]
  },
  {
   "cell_type": "code",
   "execution_count": 26,
   "id": "465fc602-fcf4-446b-9db0-a6ea347142f8",
   "metadata": {},
   "outputs": [
    {
     "name": "stdout",
     "output_type": "stream",
     "text": [
      "welcome to pwskills\n"
     ]
    }
   ],
   "source": [
    "rohan.welcome_msg()"
   ]
  },
  {
   "cell_type": "code",
   "execution_count": 27,
   "id": "60058a0a-56c5-495f-aaea-0d9e81188495",
   "metadata": {},
   "outputs": [],
   "source": [
    "#put self in () for output of msg"
   ]
  },
  {
   "cell_type": "code",
   "execution_count": 28,
   "id": "0a1f2d72-7183-46ea-8fa6-2140a268ab3d",
   "metadata": {},
   "outputs": [],
   "source": [
    "gaurav = pwskills()"
   ]
  },
  {
   "cell_type": "code",
   "execution_count": 29,
   "id": "65ff03be-37fb-4529-8bad-7427a649eb72",
   "metadata": {},
   "outputs": [
    {
     "name": "stdout",
     "output_type": "stream",
     "text": [
      "welcome to pwskills\n"
     ]
    }
   ],
   "source": [
    "gaurav.welcome_msg()"
   ]
  },
  {
   "cell_type": "code",
   "execution_count": 64,
   "id": "a102a373-bc26-4b51-a55f-6b88a56a2b76",
   "metadata": {},
   "outputs": [],
   "source": [
    "class pwskills1 :\n",
    "    \n",
    "    def __init__(self ,phone_number , email_id , student_id ):\n",
    "        self.phone_number = phone_number\n",
    "        self.email_id = email_id\n",
    "        self.student_id = student_id\n",
    "    \n",
    "    def return_student_deetials(self) : \n",
    "        return self.student_id ,self.phone_number ,self.email_id\n",
    "    "
   ]
  },
  {
   "cell_type": "code",
   "execution_count": 65,
   "id": "dc491bb9-86ec-4f2b-a56d-662c63841c67",
   "metadata": {},
   "outputs": [
    {
     "ename": "TypeError",
     "evalue": "pwskills1.__init__() missing 3 required positional arguments: 'phone_number', 'email_id', and 'student_id'",
     "output_type": "error",
     "traceback": [
      "\u001b[0;31m---------------------------------------------------------------------------\u001b[0m",
      "\u001b[0;31mTypeError\u001b[0m                                 Traceback (most recent call last)",
      "Cell \u001b[0;32mIn[65], line 1\u001b[0m\n\u001b[0;32m----> 1\u001b[0m sohan \u001b[38;5;241m=\u001b[39m \u001b[43mpwskills1\u001b[49m\u001b[43m(\u001b[49m\u001b[43m)\u001b[49m\n",
      "\u001b[0;31mTypeError\u001b[0m: pwskills1.__init__() missing 3 required positional arguments: 'phone_number', 'email_id', and 'student_id'"
     ]
    }
   ],
   "source": [
    "sohan = pwskills1()"
   ]
  },
  {
   "cell_type": "code",
   "execution_count": 66,
   "id": "bc418853-3bc9-448b-958a-5395074f0e19",
   "metadata": {},
   "outputs": [],
   "source": [
    "rohan = pwskills1(122232432342, \"rohan@gmail.com\" , 101)"
   ]
  },
  {
   "cell_type": "raw",
   "id": "2e4b5cb7-2857-408c-85df-dbda5c3f40d7",
   "metadata": {},
   "source": [
    "rohan.email_id"
   ]
  },
  {
   "cell_type": "code",
   "execution_count": 68,
   "id": "7ecdd089-f80e-4ef1-8230-58ca3fddf877",
   "metadata": {},
   "outputs": [
    {
     "data": {
      "text/plain": [
       "122232432342"
      ]
     },
     "execution_count": 68,
     "metadata": {},
     "output_type": "execute_result"
    }
   ],
   "source": [
    "rohan.phone_number"
   ]
  },
  {
   "cell_type": "code",
   "execution_count": 69,
   "id": "2817cb02-5144-4fe0-936d-d87830826a9e",
   "metadata": {},
   "outputs": [
    {
     "data": {
      "text/plain": [
       "101"
      ]
     },
     "execution_count": 69,
     "metadata": {},
     "output_type": "execute_result"
    }
   ],
   "source": [
    "rohan.student_id"
   ]
  },
  {
   "cell_type": "code",
   "execution_count": 71,
   "id": "ee639ba7-a5ad-4861-a658-1423e3205d16",
   "metadata": {},
   "outputs": [
    {
     "data": {
      "text/plain": [
       "(101, 122232432342, 'rohan@gmail.com')"
      ]
     },
     "execution_count": 71,
     "metadata": {},
     "output_type": "execute_result"
    }
   ],
   "source": [
    "rohan.return_student_deetials()"
   ]
  },
  {
   "cell_type": "code",
   "execution_count": 72,
   "id": "4ae629ef-6b70-48bf-8738-8178a3060034",
   "metadata": {},
   "outputs": [],
   "source": [
    "gaurav = pwskills1(7878787878, \"gaurav@gmail.com\" , 102)"
   ]
  },
  {
   "cell_type": "code",
   "execution_count": 73,
   "id": "778a47bd-6b4d-443f-a449-6a1e854a8652",
   "metadata": {},
   "outputs": [
    {
     "data": {
      "text/plain": [
       "(102, 7878787878, 'gaurav@gmail.com')"
      ]
     },
     "execution_count": 73,
     "metadata": {},
     "output_type": "execute_result"
    }
   ],
   "source": [
    "gaurav.return_student_deetials()"
   ]
  },
  {
   "cell_type": "code",
   "execution_count": 87,
   "id": "60a85721-ffeb-48e7-90ec-b17d5199a236",
   "metadata": {},
   "outputs": [],
   "source": [
    "class pwskills2 :\n",
    "    \n",
    "    def __init__(self ,phone_number , email_id , student_id ):\n",
    "        self.phone_number1 = phone_number\n",
    "        self.email_id1 = email_id\n",
    "        self.student_id1 = student_id\n",
    "    \n",
    "    def return_student_deetials(self) : \n",
    "        return self.student_id ,self.phone_number ,self.email_id\n"
   ]
  },
  {
   "cell_type": "code",
   "execution_count": 77,
   "id": "e611e7c1-1ccb-44af-ad89-4beadb4bbfe6",
   "metadata": {},
   "outputs": [],
   "source": [
    "riz = pwskills2(7870914247, 'riz@gmail.com' , 103)"
   ]
  },
  {
   "cell_type": "code",
   "execution_count": 78,
   "id": "bab81757-0a2e-4b2a-9822-f71e5a116a0b",
   "metadata": {},
   "outputs": [
    {
     "data": {
      "text/plain": [
       "<__main__.pwskills2 at 0x7f3d6862fc10>"
      ]
     },
     "execution_count": 78,
     "metadata": {},
     "output_type": "execute_result"
    }
   ],
   "source": [
    "riz"
   ]
  },
  {
   "cell_type": "code",
   "execution_count": 79,
   "id": "999185b1-7cdb-4e9d-9ae4-2465b796b866",
   "metadata": {},
   "outputs": [
    {
     "ename": "AttributeError",
     "evalue": "'pwskills2' object has no attribute 'phone_number'",
     "output_type": "error",
     "traceback": [
      "\u001b[0;31m---------------------------------------------------------------------------\u001b[0m",
      "\u001b[0;31mAttributeError\u001b[0m                            Traceback (most recent call last)",
      "Cell \u001b[0;32mIn[79], line 1\u001b[0m\n\u001b[0;32m----> 1\u001b[0m \u001b[43mriz\u001b[49m\u001b[38;5;241;43m.\u001b[39;49m\u001b[43mphone_number\u001b[49m\n",
      "\u001b[0;31mAttributeError\u001b[0m: 'pwskills2' object has no attribute 'phone_number'"
     ]
    }
   ],
   "source": [
    "riz.phone_number"
   ]
  },
  {
   "cell_type": "code",
   "execution_count": 83,
   "id": "084a9823-83de-4ee0-a906-7903255d54ec",
   "metadata": {},
   "outputs": [
    {
     "data": {
      "text/plain": [
       "7870914247"
      ]
     },
     "execution_count": 83,
     "metadata": {},
     "output_type": "execute_result"
    }
   ],
   "source": [
    "riz.phone_number1"
   ]
  },
  {
   "cell_type": "code",
   "execution_count": 84,
   "id": "1b7b6ed6-4c19-4965-943e-9194251cf2a7",
   "metadata": {},
   "outputs": [
    {
     "data": {
      "text/plain": [
       "'riz@gmail.com'"
      ]
     },
     "execution_count": 84,
     "metadata": {},
     "output_type": "execute_result"
    }
   ],
   "source": [
    "riz.email_id1"
   ]
  },
  {
   "cell_type": "code",
   "execution_count": 86,
   "id": "fac375b5-301a-4f21-ab04-405e1e9dc2a5",
   "metadata": {},
   "outputs": [
    {
     "data": {
      "text/plain": [
       "103"
      ]
     },
     "execution_count": 86,
     "metadata": {},
     "output_type": "execute_result"
    }
   ],
   "source": [
    "riz.student_id1"
   ]
  },
  {
   "cell_type": "code",
   "execution_count": 88,
   "id": "9fd799bc-a248-44ae-8f7b-ef73e0513011",
   "metadata": {},
   "outputs": [
    {
     "ename": "AttributeError",
     "evalue": "'pwskills2' object has no attribute 'student_id'",
     "output_type": "error",
     "traceback": [
      "\u001b[0;31m---------------------------------------------------------------------------\u001b[0m",
      "\u001b[0;31mAttributeError\u001b[0m                            Traceback (most recent call last)",
      "Cell \u001b[0;32mIn[88], line 1\u001b[0m\n\u001b[0;32m----> 1\u001b[0m \u001b[43mriz\u001b[49m\u001b[38;5;241;43m.\u001b[39;49m\u001b[43mreturn_student_deetials\u001b[49m\u001b[43m(\u001b[49m\u001b[43m)\u001b[49m\n",
      "Cell \u001b[0;32mIn[87], line 9\u001b[0m, in \u001b[0;36mpwskills2.return_student_deetials\u001b[0;34m(self)\u001b[0m\n\u001b[1;32m      8\u001b[0m \u001b[38;5;28;01mdef\u001b[39;00m \u001b[38;5;21mreturn_student_deetials\u001b[39m(\u001b[38;5;28mself\u001b[39m) : \n\u001b[0;32m----> 9\u001b[0m     \u001b[38;5;28;01mreturn\u001b[39;00m \u001b[38;5;28;43mself\u001b[39;49m\u001b[38;5;241;43m.\u001b[39;49m\u001b[43mstudent_id\u001b[49m ,\u001b[38;5;28mself\u001b[39m\u001b[38;5;241m.\u001b[39mphone_number ,\u001b[38;5;28mself\u001b[39m\u001b[38;5;241m.\u001b[39memail_id\n",
      "\u001b[0;31mAttributeError\u001b[0m: 'pwskills2' object has no attribute 'student_id'"
     ]
    }
   ],
   "source": [
    "riz.return_student_deetials()"
   ]
  },
  {
   "cell_type": "code",
   "execution_count": 89,
   "id": "1530cc79-219d-4db7-8bec-880b8b6ce392",
   "metadata": {},
   "outputs": [],
   "source": [
    "class pwskills2 :\n",
    "    \n",
    "    def __init__(riz ,phone_number , email_id , student_id ):\n",
    "        riz.phone_number1 = phone_number\n",
    "        riz.email_id1 = email_id\n",
    "        riz.student_id1 = student_id\n",
    "    \n",
    "    def return_student_deetials(self) : \n",
    "        return riz.student_id ,riz.phone_number ,riz.email_id\n"
   ]
  },
  {
   "cell_type": "code",
   "execution_count": 90,
   "id": "92435215-729b-49a9-b0a6-e9af2a2e048e",
   "metadata": {},
   "outputs": [],
   "source": [
    "rohan = pwskills2(23242424, 'rohan@gmail.com' , 324)"
   ]
  },
  {
   "cell_type": "code",
   "execution_count": 91,
   "id": "022a5585-43b0-4a6e-aa6e-24f3dfb48e46",
   "metadata": {},
   "outputs": [
    {
     "data": {
      "text/plain": [
       "23242424"
      ]
     },
     "execution_count": 91,
     "metadata": {},
     "output_type": "execute_result"
    }
   ],
   "source": [
    "rohan.phone_number1"
   ]
  }
 ],
 "metadata": {
  "kernelspec": {
   "display_name": "Python 3 (ipykernel)",
   "language": "python",
   "name": "python3"
  },
  "language_info": {
   "codemirror_mode": {
    "name": "ipython",
    "version": 3
   },
   "file_extension": ".py",
   "mimetype": "text/x-python",
   "name": "python",
   "nbconvert_exporter": "python",
   "pygments_lexer": "ipython3",
   "version": "3.10.8"
  }
 },
 "nbformat": 4,
 "nbformat_minor": 5
}
