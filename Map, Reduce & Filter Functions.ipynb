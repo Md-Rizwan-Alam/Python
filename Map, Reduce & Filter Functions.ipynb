{
 "cells": [
  {
   "cell_type": "code",
   "execution_count": 19,
   "id": "1edd74c2-6e2c-4204-b92f-ed1c54086a8d",
   "metadata": {},
   "outputs": [],
   "source": [
    "#MAP FUNCTION"
   ]
  },
  {
   "cell_type": "code",
   "execution_count": 1,
   "id": "a06b0c63-b09b-43d7-b719-df63fd823786",
   "metadata": {},
   "outputs": [],
   "source": [
    "l = [2,3,4,5,6]"
   ]
  },
  {
   "cell_type": "code",
   "execution_count": 2,
   "id": "fc7ec8a1-6c5b-4e1b-a6cd-256e6023d34d",
   "metadata": {},
   "outputs": [],
   "source": [
    "def test(l):\n",
    "    l1=[]\n",
    "    for i in l:\n",
    "        l1.append(i**2)\n",
    "        return l1"
   ]
  },
  {
   "cell_type": "code",
   "execution_count": 3,
   "id": "ed9700e9-1124-49f8-b51f-e6ac75b4c702",
   "metadata": {},
   "outputs": [
    {
     "data": {
      "text/plain": [
       "[4]"
      ]
     },
     "execution_count": 3,
     "metadata": {},
     "output_type": "execute_result"
    }
   ],
   "source": [
    "test(l)"
   ]
  },
  {
   "cell_type": "code",
   "execution_count": 4,
   "id": "db6d9fdc-d3f5-42b2-afb6-11a2d452d8d0",
   "metadata": {},
   "outputs": [],
   "source": [
    "def sq(x):\n",
    "    return x**2"
   ]
  },
  {
   "cell_type": "code",
   "execution_count": 7,
   "id": "5f424d7b-6c32-4e5c-8ce0-7c81b240329c",
   "metadata": {},
   "outputs": [
    {
     "data": {
      "text/plain": [
       "[4, 9, 16, 25, 36]"
      ]
     },
     "execution_count": 7,
     "metadata": {},
     "output_type": "execute_result"
    }
   ],
   "source": [
    "list(map(sq ,l))"
   ]
  },
  {
   "cell_type": "code",
   "execution_count": 8,
   "id": "7f404f10-dba2-446b-bfe5-dd5fb4d72679",
   "metadata": {},
   "outputs": [
    {
     "data": {
      "text/plain": [
       "[4, 9, 16, 25, 36]"
      ]
     },
     "execution_count": 8,
     "metadata": {},
     "output_type": "execute_result"
    }
   ],
   "source": [
    "list(map(lambda x : x**2, l))"
   ]
  },
  {
   "cell_type": "code",
   "execution_count": 10,
   "id": "98b7439f-f2d8-44f5-8428-72bad39ada25",
   "metadata": {},
   "outputs": [
    {
     "data": {
      "text/plain": [
       "[7, 9, 11, 13, 15]"
      ]
     },
     "execution_count": 10,
     "metadata": {},
     "output_type": "execute_result"
    }
   ],
   "source": [
    "l1=[1,2,3,4,5]\n",
    "l2=[6,7,8,9,10]\n",
    "\n",
    "list(map(lambda x,y:x+y, l1,l2))"
   ]
  },
  {
   "cell_type": "code",
   "execution_count": 13,
   "id": "1639e02f-278f-4710-bdd4-f1632ddcea07",
   "metadata": {},
   "outputs": [],
   "source": [
    "def add(x,y):\n",
    "    return x+y"
   ]
  },
  {
   "cell_type": "code",
   "execution_count": 14,
   "id": "54cf3db5-3ee7-4a95-8368-98b4eb111610",
   "metadata": {},
   "outputs": [
    {
     "data": {
      "text/plain": [
       "[7, 9, 11, 13, 15]"
      ]
     },
     "execution_count": 14,
     "metadata": {},
     "output_type": "execute_result"
    }
   ],
   "source": [
    "list(map(add, l1,l2))"
   ]
  },
  {
   "cell_type": "code",
   "execution_count": 17,
   "id": "2e098a71-e4f7-405e-a124-24a62713beda",
   "metadata": {},
   "outputs": [
    {
     "data": {
      "text/plain": [
       "['P', 'W', 'S', 'K', 'I', 'L', 'L', 'S']"
      ]
     },
     "execution_count": 17,
     "metadata": {},
     "output_type": "execute_result"
    }
   ],
   "source": [
    "s =\"pwskills\"\n",
    "list(map(lambda s: s.upper(), s))"
   ]
  },
  {
   "cell_type": "code",
   "execution_count": 20,
   "id": "79653096-78af-4d90-a9fb-829b9aea262a",
   "metadata": {},
   "outputs": [],
   "source": [
    "#REDUCE FUNCTION"
   ]
  },
  {
   "cell_type": "code",
   "execution_count": 21,
   "id": "5b780895-e011-4259-b7f2-46a4ee139443",
   "metadata": {},
   "outputs": [],
   "source": [
    "from functools import reduce"
   ]
  },
  {
   "cell_type": "code",
   "execution_count": 23,
   "id": "0b0a1029-d74e-4802-8e24-20258a3467d3",
   "metadata": {},
   "outputs": [],
   "source": [
    "l =[1,2,3,4,5,6]"
   ]
  },
  {
   "cell_type": "code",
   "execution_count": 24,
   "id": "e2308237-115d-4f8f-9e38-8b0949202e20",
   "metadata": {},
   "outputs": [
    {
     "data": {
      "text/plain": [
       "21"
      ]
     },
     "execution_count": 24,
     "metadata": {},
     "output_type": "execute_result"
    }
   ],
   "source": [
    "reduce(lambda x,y : x+y,l)"
   ]
  },
  {
   "cell_type": "code",
   "execution_count": 25,
   "id": "9bf06a03-b423-4dbf-bde1-5431c99145ea",
   "metadata": {},
   "outputs": [
    {
     "ename": "TypeError",
     "evalue": "<lambda>() missing 1 required positional argument: 'z'",
     "output_type": "error",
     "traceback": [
      "\u001b[0;31m---------------------------------------------------------------------------\u001b[0m",
      "\u001b[0;31mTypeError\u001b[0m                                 Traceback (most recent call last)",
      "Cell \u001b[0;32mIn[25], line 1\u001b[0m\n\u001b[0;32m----> 1\u001b[0m \u001b[43mreduce\u001b[49m\u001b[43m(\u001b[49m\u001b[38;5;28;43;01mlambda\u001b[39;49;00m\u001b[43m \u001b[49m\u001b[43mx\u001b[49m\u001b[43m,\u001b[49m\u001b[43my\u001b[49m\u001b[43m,\u001b[49m\u001b[43mz\u001b[49m\u001b[43m \u001b[49m\u001b[43m:\u001b[49m\u001b[43m \u001b[49m\u001b[43mx\u001b[49m\u001b[38;5;241;43m+\u001b[39;49m\u001b[43my\u001b[49m\u001b[38;5;241;43m+\u001b[39;49m\u001b[43mz\u001b[49m\u001b[43m,\u001b[49m\u001b[43ml\u001b[49m\u001b[43m)\u001b[49m\n",
      "\u001b[0;31mTypeError\u001b[0m: <lambda>() missing 1 required positional argument: 'z'"
     ]
    }
   ],
   "source": [
    "reduce(lambda x,y,z : x+y+z,l)"
   ]
  },
  {
   "cell_type": "code",
   "execution_count": 26,
   "id": "3555ca8d-f2bd-4931-a0eb-a6dc378188d9",
   "metadata": {},
   "outputs": [
    {
     "ename": "TypeError",
     "evalue": "reduce() of empty iterable with no initial value",
     "output_type": "error",
     "traceback": [
      "\u001b[0;31m---------------------------------------------------------------------------\u001b[0m",
      "\u001b[0;31mTypeError\u001b[0m                                 Traceback (most recent call last)",
      "Cell \u001b[0;32mIn[26], line 1\u001b[0m\n\u001b[0;32m----> 1\u001b[0m \u001b[43mreduce\u001b[49m\u001b[43m(\u001b[49m\u001b[38;5;28;43;01mlambda\u001b[39;49;00m\u001b[43m \u001b[49m\u001b[43mx\u001b[49m\u001b[43m,\u001b[49m\u001b[43my\u001b[49m\u001b[43m \u001b[49m\u001b[43m:\u001b[49m\u001b[43m \u001b[49m\u001b[43mx\u001b[49m\u001b[38;5;241;43m+\u001b[39;49m\u001b[43my\u001b[49m\u001b[43m,\u001b[49m\u001b[43m[\u001b[49m\u001b[43m]\u001b[49m\u001b[43m)\u001b[49m\n",
      "\u001b[0;31mTypeError\u001b[0m: reduce() of empty iterable with no initial value"
     ]
    }
   ],
   "source": [
    "reduce(lambda x,y : x+y,[])"
   ]
  },
  {
   "cell_type": "code",
   "execution_count": 27,
   "id": "f37f4717-debc-4211-bbb3-186f67f52d07",
   "metadata": {},
   "outputs": [
    {
     "data": {
      "text/plain": [
       "1"
      ]
     },
     "execution_count": 27,
     "metadata": {},
     "output_type": "execute_result"
    }
   ],
   "source": [
    "reduce(lambda x,y : x+y,[1])"
   ]
  },
  {
   "cell_type": "code",
   "execution_count": 28,
   "id": "b492b335-9ca0-4beb-8f20-674b290cbfc2",
   "metadata": {},
   "outputs": [],
   "source": [
    "#when you're writing reduce function intity can't be more than 2 or empty"
   ]
  },
  {
   "cell_type": "code",
   "execution_count": 31,
   "id": "e31de4cf-3ad0-4001-8c86-f9d426f52bcc",
   "metadata": {},
   "outputs": [
    {
     "data": {
      "text/plain": [
       "[1, 2, 3, 4, 5, 6]"
      ]
     },
     "execution_count": 31,
     "metadata": {},
     "output_type": "execute_result"
    }
   ],
   "source": [
    "l"
   ]
  },
  {
   "cell_type": "code",
   "execution_count": 33,
   "id": "912d7bea-877c-4b79-b28a-148ab7f51a60",
   "metadata": {},
   "outputs": [
    {
     "data": {
      "text/plain": [
       "720"
      ]
     },
     "execution_count": 33,
     "metadata": {},
     "output_type": "execute_result"
    }
   ],
   "source": [
    "reduce(lambda x,y:x*y, l)"
   ]
  },
  {
   "cell_type": "code",
   "execution_count": 34,
   "id": "c21a21a5-62d7-4a6a-98cd-0cf2a3300a79",
   "metadata": {},
   "outputs": [
    {
     "data": {
      "text/plain": [
       "[1, 2, 3, 4, 5, 6]"
      ]
     },
     "execution_count": 34,
     "metadata": {},
     "output_type": "execute_result"
    }
   ],
   "source": [
    "l"
   ]
  },
  {
   "cell_type": "code",
   "execution_count": 35,
   "id": "22216afc-9157-4a51-96be-d4742bc61305",
   "metadata": {},
   "outputs": [
    {
     "data": {
      "text/plain": [
       "6"
      ]
     },
     "execution_count": 35,
     "metadata": {},
     "output_type": "execute_result"
    }
   ],
   "source": [
    "reduce(lambda x,y: x if x>y else y,l)"
   ]
  },
  {
   "cell_type": "code",
   "execution_count": 36,
   "id": "9caeff38-a826-4702-823a-2c50b84aa6d9",
   "metadata": {},
   "outputs": [
    {
     "data": {
      "text/plain": [
       "[1, 2, 3, 4, 5, 6]"
      ]
     },
     "execution_count": 36,
     "metadata": {},
     "output_type": "execute_result"
    }
   ],
   "source": [
    "l "
   ]
  },
  {
   "cell_type": "code",
   "execution_count": 37,
   "id": "f7b68e70-92e9-4ed3-9637-74ccca04dff9",
   "metadata": {},
   "outputs": [],
   "source": [
    "#FILTER FUNCTION"
   ]
  },
  {
   "cell_type": "code",
   "execution_count": 38,
   "id": "0f45c351-8cd0-42a3-8518-0bc3c53909a0",
   "metadata": {},
   "outputs": [
    {
     "data": {
      "text/plain": [
       "[1, 2, 3, 4, 5, 6]"
      ]
     },
     "execution_count": 38,
     "metadata": {},
     "output_type": "execute_result"
    }
   ],
   "source": [
    "l"
   ]
  },
  {
   "cell_type": "code",
   "execution_count": 40,
   "id": "5c4758c5-fba8-4606-a45d-f8b94b3eafda",
   "metadata": {},
   "outputs": [
    {
     "data": {
      "text/plain": [
       "[2, 4, 6]"
      ]
     },
     "execution_count": 40,
     "metadata": {},
     "output_type": "execute_result"
    }
   ],
   "source": [
    "list(filter(lambda x: x % 2 == 0, l))"
   ]
  },
  {
   "cell_type": "code",
   "execution_count": 41,
   "id": "433e70ed-22bb-4845-a578-c908f33cd344",
   "metadata": {},
   "outputs": [
    {
     "data": {
      "text/plain": [
       "[1, 3, 5]"
      ]
     },
     "execution_count": 41,
     "metadata": {},
     "output_type": "execute_result"
    }
   ],
   "source": [
    "list(filter(lambda x: x % 2 != 0, l))"
   ]
  },
  {
   "cell_type": "code",
   "execution_count": 42,
   "id": "3d22ece6-5636-4c4f-bc11-740b66e9ccbf",
   "metadata": {},
   "outputs": [],
   "source": [
    "l1=[-3,4,4,-6,6,7,-8,-2]"
   ]
  },
  {
   "cell_type": "code",
   "execution_count": 43,
   "id": "23276f8e-7e69-4c08-8d4f-405b24d0fb64",
   "metadata": {},
   "outputs": [
    {
     "data": {
      "text/plain": [
       "[-3, -6, -8, -2]"
      ]
     },
     "execution_count": 43,
     "metadata": {},
     "output_type": "execute_result"
    }
   ],
   "source": [
    "list(filter(lambda x : x<0, l1))"
   ]
  },
  {
   "cell_type": "code",
   "execution_count": 44,
   "id": "b1e79be4-8f93-4a43-81aa-4038cdb32f1d",
   "metadata": {},
   "outputs": [
    {
     "data": {
      "text/plain": [
       "[4, 4, 6, 7]"
      ]
     },
     "execution_count": 44,
     "metadata": {},
     "output_type": "execute_result"
    }
   ],
   "source": [
    "list(filter(lambda x : x>0, l1))"
   ]
  },
  {
   "cell_type": "code",
   "execution_count": 45,
   "id": "5cada317-845c-4228-a4ae-7463f63243d1",
   "metadata": {},
   "outputs": [],
   "source": [
    "l2=['rizwan', 'delhi', 'khan', 'pwakills', 'outdoor']"
   ]
  },
  {
   "cell_type": "code",
   "execution_count": 49,
   "id": "213c0f77-9fb7-42f5-a9da-4e392afce1b7",
   "metadata": {},
   "outputs": [
    {
     "data": {
      "text/plain": [
       "['delhi', 'khan']"
      ]
     },
     "execution_count": 49,
     "metadata": {},
     "output_type": "execute_result"
    }
   ],
   "source": [
    "list(filter(lambda x : len(x)<6, l2))"
   ]
  },
  {
   "cell_type": "code",
   "execution_count": 50,
   "id": "75317a74-c979-4597-90d5-0926fa8b0009",
   "metadata": {},
   "outputs": [
    {
     "data": {
      "text/plain": [
       "['pwakills', 'outdoor']"
      ]
     },
     "execution_count": 50,
     "metadata": {},
     "output_type": "execute_result"
    }
   ],
   "source": [
    "list(filter(lambda x : len(x)>6, l2))"
   ]
  }
 ],
 "metadata": {
  "kernelspec": {
   "display_name": "Python 3 (ipykernel)",
   "language": "python",
   "name": "python3"
  },
  "language_info": {
   "codemirror_mode": {
    "name": "ipython",
    "version": 3
   },
   "file_extension": ".py",
   "mimetype": "text/x-python",
   "name": "python",
   "nbconvert_exporter": "python",
   "pygments_lexer": "ipython3",
   "version": "3.10.8"
  }
 },
 "nbformat": 4,
 "nbformat_minor": 5
}
