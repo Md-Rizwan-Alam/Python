{
 "cells": [
  {
   "cell_type": "code",
   "execution_count": 8,
   "id": "4605bc42-2a58-482d-9449-fd7f8118336c",
   "metadata": {},
   "outputs": [],
   "source": [
    "#Q1, Create a vehicle class with an init method having instance variables as name_of_vehicle, max_speed and average_of_vehicle."
   ]
  },
  {
   "cell_type": "code",
   "execution_count": 10,
   "id": "cd2086ce-9df7-4f07-8734-9f7f1299782d",
   "metadata": {},
   "outputs": [],
   "source": [
    "class Vehicle:\n",
    "    def __init__(self, name_of_vehicle, max_speed, average_of_vehicle):\n",
    "        self.name_of_vehicle = name_of_vehicle\n",
    "        self.max_speed = max_speed\n",
    "        self.average_of_vehicle = average_of_vehicle"
   ]
  },
  {
   "cell_type": "code",
   "execution_count": 16,
   "id": "21391576-5e85-4e5b-ad00-0c33c492d1c2",
   "metadata": {},
   "outputs": [],
   "source": [
    "#Q2. Create a child class car from the vehicle class created in Que 1, which will inherit the vehicle class. Create a method named seating_capacity which takes capacity as an argument and returns the name of the vehicle and its seating capacity."
   ]
  },
  {
   "cell_type": "code",
   "execution_count": 19,
   "id": "d6c893b3-5e77-492b-a83d-c71094d86357",
   "metadata": {},
   "outputs": [],
   "source": [
    "class Car(Vehicle):\n",
    "    def __init__(self, name_of_vehicle, max_speed, average_of_vehicle):\n",
    "        super().__init__(name_of_vehicle, max_speed, average_of_vehicle)\n",
    "\n",
    "    def seating_capacity(self, capacity):\n",
    "        return f\"{self.name_of_vehicle} has a seating capacity of {capacity} passengers.\"\n"
   ]
  },
  {
   "cell_type": "code",
   "execution_count": 20,
   "id": "1cb1587f-6134-4814-8acb-32dc1c628bd0",
   "metadata": {},
   "outputs": [
    {
     "name": "stdout",
     "output_type": "stream",
     "text": [
      "hyundai verna\n",
      "150\n",
      "20\n",
      "hyundai verna has a seating capacity of 5 passengers.\n"
     ]
    }
   ],
   "source": [
    "my_car = Car(\"hyundai verna\", 150, 20)\n",
    "\n",
    "print(my_car.name_of_vehicle)\n",
    "print(my_car.max_speed)\n",
    "print(my_car.average_of_vehicle)\n",
    "\n",
    "print(my_car.seating_capacity(5))\n"
   ]
  },
  {
   "cell_type": "code",
   "execution_count": 21,
   "id": "34c8a74c-bcf8-4add-9317-dd5b4c43c08e",
   "metadata": {},
   "outputs": [],
   "source": [
    "#Q3. What is multiple inheritance? Write a python code to demonstrate multiple inheritance."
   ]
  },
  {
   "cell_type": "code",
   "execution_count": 26,
   "id": "05543822-b092-4c15-85d5-a224c4b845de",
   "metadata": {},
   "outputs": [],
   "source": [
    "#Where we can define multiple classes"
   ]
  },
  {
   "cell_type": "code",
   "execution_count": 42,
   "id": "c0e97605-ac80-4f0d-bc63-4600ded45f82",
   "metadata": {},
   "outputs": [],
   "source": [
    "class BaseClass1:\n",
    "    def method1(self):\n",
    "        print(\"This is method 1 from Base Class1\")\n",
    "\n",
    "class BaseClass2:\n",
    "    def method2(self):\n",
    "        print(\"This is method 2 from Base Class2\")\n",
    "\n",
    "class DerivedClass(BaseClass1, BaseClass2):\n",
    "    def method3(self):\n",
    "        print(\"This is method 3 from Derived Class\")\n"
   ]
  },
  {
   "cell_type": "code",
   "execution_count": 44,
   "id": "0de921ed-eced-42e4-b8f4-81bce8377cad",
   "metadata": {},
   "outputs": [],
   "source": [
    "obj = DerivedClass()"
   ]
  },
  {
   "cell_type": "code",
   "execution_count": 45,
   "id": "3b45746d-75d2-496c-aac5-3d6f8cb3ad59",
   "metadata": {},
   "outputs": [
    {
     "name": "stdout",
     "output_type": "stream",
     "text": [
      "This is method 1 from Base Class1\n"
     ]
    }
   ],
   "source": [
    "obj.method1()"
   ]
  },
  {
   "cell_type": "code",
   "execution_count": 46,
   "id": "ab0fd957-d056-41eb-a8f0-61f9f57010e9",
   "metadata": {},
   "outputs": [
    {
     "name": "stdout",
     "output_type": "stream",
     "text": [
      "This is method 2 from Base Class2\n"
     ]
    }
   ],
   "source": [
    "obj.method2()"
   ]
  },
  {
   "cell_type": "code",
   "execution_count": 47,
   "id": "e5ce4011-7bad-4317-b545-36dfbde9b31c",
   "metadata": {},
   "outputs": [
    {
     "name": "stdout",
     "output_type": "stream",
     "text": [
      "This is method 3 from Derived Class\n"
     ]
    }
   ],
   "source": [
    "obj.method3()"
   ]
  },
  {
   "cell_type": "code",
   "execution_count": 48,
   "id": "fb3a30b7-1f6e-4609-a86a-a3dfd556f4e6",
   "metadata": {},
   "outputs": [],
   "source": [
    "#Q4. What are getter and setter in python? Create a class and create a getter and a setter method in thisclass."
   ]
  },
  {
   "cell_type": "code",
   "execution_count": 50,
   "id": "4169d4fa-5ddb-4d0e-993f-75d84aa7d7ed",
   "metadata": {},
   "outputs": [],
   "source": [
    "#In Python, getters and setters are methods we used to access and modify the values of attributes in class"
   ]
  },
  {
   "cell_type": "code",
   "execution_count": 52,
   "id": "d3879540-99ba-4f0e-9fad-0042bf62637b",
   "metadata": {},
   "outputs": [],
   "source": [
    "class Person:\n",
    "    def __init__(self, name):\n",
    "        self._name = name\n",
    "\n",
    "    def get_name(self):\n",
    "        return self._name\n",
    "\n",
    "    def set_name(self, new_name):\n",
    "        self._name = new_name\n"
   ]
  },
  {
   "cell_type": "code",
   "execution_count": 53,
   "id": "2a78d49d-b1f7-40ad-88fb-34907913c03e",
   "metadata": {},
   "outputs": [
    {
     "name": "stdout",
     "output_type": "stream",
     "text": [
      "Rizwan\n",
      "Khan\n"
     ]
    }
   ],
   "source": [
    "person = Person(\"Rizwan\")\n",
    "print(person.get_name())\n",
    "\n",
    "person.set_name(\"Khan\")\n",
    "print(person.get_name())"
   ]
  },
  {
   "cell_type": "code",
   "execution_count": 54,
   "id": "5ca0618d-e794-4f08-8632-282c60713a33",
   "metadata": {},
   "outputs": [],
   "source": [
    "#Q5.What is method overriding in python? Write a python code to demonstrate method overriding."
   ]
  },
  {
   "cell_type": "code",
   "execution_count": null,
   "id": "8b16558f-a7f9-462b-83f9-3dbf020fb082",
   "metadata": {},
   "outputs": [],
   "source": []
  },
  {
   "cell_type": "code",
   "execution_count": 56,
   "id": "1558fadf-e831-4403-bbf8-8aab9165f291",
   "metadata": {},
   "outputs": [],
   "source": [
    "class Animal:\n",
    "    def make_sound(self):\n",
    "        return \"animal sound\"\n",
    "\n",
    "class Dog(Animal):\n",
    "    def make_sound(self):\n",
    "        return \"Bhaow Bhaow\"\n",
    "\n",
    "class Cat(Animal):\n",
    "    def make_sound(self):\n",
    "        return \"Meow Meow\"\n"
   ]
  },
  {
   "cell_type": "code",
   "execution_count": 57,
   "id": "ce7b8e5d-a854-4278-934f-376168a5ebfd",
   "metadata": {},
   "outputs": [],
   "source": [
    "animal = Animal()\n",
    "dog = Dog()\n",
    "cat = Cat()"
   ]
  },
  {
   "cell_type": "code",
   "execution_count": 58,
   "id": "64737f3f-e154-4dbd-a3df-576d149517ed",
   "metadata": {},
   "outputs": [
    {
     "name": "stdout",
     "output_type": "stream",
     "text": [
      "animal sound\n"
     ]
    }
   ],
   "source": [
    "print(animal.make_sound())"
   ]
  },
  {
   "cell_type": "code",
   "execution_count": 60,
   "id": "284a548f-df2e-4e8c-8007-347dcf11ee17",
   "metadata": {},
   "outputs": [
    {
     "name": "stdout",
     "output_type": "stream",
     "text": [
      "Bhaow Bhaow\n"
     ]
    }
   ],
   "source": [
    "print(dog.make_sound())"
   ]
  },
  {
   "cell_type": "code",
   "execution_count": 61,
   "id": "e7bf39a2-0a35-4854-adf1-ad111290f67b",
   "metadata": {},
   "outputs": [
    {
     "name": "stdout",
     "output_type": "stream",
     "text": [
      "Meow Meow\n"
     ]
    }
   ],
   "source": [
    "print(cat.make_sound())"
   ]
  }
 ],
 "metadata": {
  "kernelspec": {
   "display_name": "Python 3 (ipykernel)",
   "language": "python",
   "name": "python3"
  },
  "language_info": {
   "codemirror_mode": {
    "name": "ipython",
    "version": 3
   },
   "file_extension": ".py",
   "mimetype": "text/x-python",
   "name": "python",
   "nbconvert_exporter": "python",
   "pygments_lexer": "ipython3",
   "version": "3.10.8"
  }
 },
 "nbformat": 4,
 "nbformat_minor": 5
}
