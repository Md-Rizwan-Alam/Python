{
 "cells": [
  {
   "cell_type": "code",
   "execution_count": 1,
   "id": "69a4f747-fe5a-4bbd-b713-28166610d7ae",
   "metadata": {},
   "outputs": [],
   "source": [
    "class test:\n",
    "    \n",
    "    def __init__(self,  a,b):\n",
    "        self.a =a\n",
    "        self.b =b"
   ]
  },
  {
   "cell_type": "code",
   "execution_count": 2,
   "id": "632aa385-fcbe-4b6b-82ea-a7c24f334ed6",
   "metadata": {},
   "outputs": [],
   "source": [
    "t = test(23,34)"
   ]
  },
  {
   "cell_type": "code",
   "execution_count": 3,
   "id": "c713067c-f0e6-45c5-9912-ef25bb28ec63",
   "metadata": {},
   "outputs": [],
   "source": [
    "t.a = 2343545"
   ]
  },
  {
   "cell_type": "code",
   "execution_count": 4,
   "id": "5fb69651-998c-4e1c-bc01-3a7758eb0e21",
   "metadata": {},
   "outputs": [
    {
     "data": {
      "text/plain": [
       "2343545"
      ]
     },
     "execution_count": 4,
     "metadata": {},
     "output_type": "execute_result"
    }
   ],
   "source": [
    "t.a"
   ]
  },
  {
   "cell_type": "code",
   "execution_count": 23,
   "id": "d449ec84-7578-47cf-8e34-7bd63725ef19",
   "metadata": {},
   "outputs": [],
   "source": [
    "class car :\n",
    "    def __init__(self , year , make , model, speed ) : \n",
    "        \n",
    "        self.__year = year \n",
    "        self.__make = make\n",
    "        self.__model = model\n",
    "        self.__speed = 0"
   ]
  },
  {
   "cell_type": "code",
   "execution_count": 29,
   "id": "576f6a89-9846-43e6-af24-6a502629f958",
   "metadata": {},
   "outputs": [],
   "source": [
    "# with help of __ we can make command private "
   ]
  },
  {
   "cell_type": "code",
   "execution_count": 24,
   "id": "8bd7fef0-7fc2-469c-976d-308065ce312b",
   "metadata": {},
   "outputs": [],
   "source": [
    "c = car(2021, 'hyndia', 'verna', 12)"
   ]
  },
  {
   "cell_type": "code",
   "execution_count": 28,
   "id": "89bb450d-9e4f-48ae-9159-9a17b3c433c8",
   "metadata": {},
   "outputs": [
    {
     "data": {
      "text/plain": [
       "'verna'"
      ]
     },
     "execution_count": 28,
     "metadata": {},
     "output_type": "execute_result"
    }
   ],
   "source": [
    "c._car__model"
   ]
  },
  {
   "cell_type": "code",
   "execution_count": 44,
   "id": "ec722861-09f4-4485-a2d4-61e6cf16d0c0",
   "metadata": {},
   "outputs": [],
   "source": [
    "class car :\n",
    "    def __init__(self , year , make , model, speed ) : \n",
    "        \n",
    "        self.__year = year \n",
    "        self.__make = make\n",
    "        self.__model = model\n",
    "        self.__speed = 0\n",
    "        \n",
    "    def set_speed(self, speed):\n",
    "        self.__speed = 0 if speed < 0 else speed\n",
    "        \n",
    "    def get_speed(self) :\n",
    "        return self.__speed"
   ]
  },
  {
   "cell_type": "code",
   "execution_count": 45,
   "id": "220f6927-c138-4405-a34b-a464f5d2bbf5",
   "metadata": {},
   "outputs": [],
   "source": [
    "c = car(2021, 'hyndia', 'verna', 12)"
   ]
  },
  {
   "cell_type": "code",
   "execution_count": 46,
   "id": "53d38d44-cd29-4165-9bbb-96c1c1df54b1",
   "metadata": {},
   "outputs": [
    {
     "data": {
      "text/plain": [
       "'hyndia'"
      ]
     },
     "execution_count": 46,
     "metadata": {},
     "output_type": "execute_result"
    }
   ],
   "source": [
    "c._car__make"
   ]
  },
  {
   "cell_type": "code",
   "execution_count": 47,
   "id": "b4c21836-2484-436d-b03a-15c227174623",
   "metadata": {},
   "outputs": [],
   "source": [
    "c.set_speed(-3245)"
   ]
  },
  {
   "cell_type": "code",
   "execution_count": 48,
   "id": "6261f819-acae-4ce6-a621-3e805201a6fe",
   "metadata": {},
   "outputs": [
    {
     "data": {
      "text/plain": [
       "0"
      ]
     },
     "execution_count": 48,
     "metadata": {},
     "output_type": "execute_result"
    }
   ],
   "source": [
    "c.get_speed()"
   ]
  },
  {
   "cell_type": "code",
   "execution_count": 50,
   "id": "94230a9e-339a-4d9c-8df5-13cbfc6e665e",
   "metadata": {},
   "outputs": [],
   "source": [
    "class bank_account :\n",
    "    def __init__(self , balance) :\n",
    "        self.__balance = balance\n",
    "    \n",
    "    def deposite(self, amount) :\n",
    "        self.__balance = self.__balance + amount\n",
    "        \n",
    "    def withdraw(self, amount) :\n",
    "        if self.__balance >+ amount :\n",
    "            self.__balance = self.__balance - amount\n",
    "            return True\n",
    "        else : \n",
    "            return False\n",
    "        \n",
    "    def get_balance(self):\n",
    "        return self.__balance"
   ]
  },
  {
   "cell_type": "code",
   "execution_count": 51,
   "id": "dfadf4e5-4a48-4717-8354-e7fe06837000",
   "metadata": {},
   "outputs": [],
   "source": [
    "Rizwan = bank_account(1000)"
   ]
  },
  {
   "cell_type": "code",
   "execution_count": 52,
   "id": "0614e8c3-cae9-4128-8b52-535753ce3468",
   "metadata": {},
   "outputs": [
    {
     "data": {
      "text/plain": [
       "1000"
      ]
     },
     "execution_count": 52,
     "metadata": {},
     "output_type": "execute_result"
    }
   ],
   "source": [
    "Rizwan.get_balance()"
   ]
  },
  {
   "cell_type": "code",
   "execution_count": 53,
   "id": "b232e04f-be5c-4d5f-bedf-3f01337478b9",
   "metadata": {},
   "outputs": [],
   "source": [
    "Rizwan.deposite(5000)"
   ]
  },
  {
   "cell_type": "code",
   "execution_count": 54,
   "id": "4faab2a8-7482-43a9-8627-62786eb86f4f",
   "metadata": {},
   "outputs": [
    {
     "data": {
      "text/plain": [
       "6000"
      ]
     },
     "execution_count": 54,
     "metadata": {},
     "output_type": "execute_result"
    }
   ],
   "source": [
    "Rizwan.get_balance()"
   ]
  },
  {
   "cell_type": "code",
   "execution_count": 55,
   "id": "c7ba31ed-b0aa-423d-860d-4c725a7ab357",
   "metadata": {},
   "outputs": [],
   "source": [
    "Rizwan.deposite(1000)"
   ]
  },
  {
   "cell_type": "code",
   "execution_count": 56,
   "id": "018c2af9-e649-44f6-a991-96ded0303d36",
   "metadata": {},
   "outputs": [
    {
     "data": {
      "text/plain": [
       "7000"
      ]
     },
     "execution_count": 56,
     "metadata": {},
     "output_type": "execute_result"
    }
   ],
   "source": [
    "Rizwan.get_balance()"
   ]
  },
  {
   "cell_type": "code",
   "execution_count": 57,
   "id": "b05242b2-5eba-4aca-918e-f8234bc1d3ae",
   "metadata": {},
   "outputs": [
    {
     "data": {
      "text/plain": [
       "False"
      ]
     },
     "execution_count": 57,
     "metadata": {},
     "output_type": "execute_result"
    }
   ],
   "source": [
    "Rizwan.withdraw(9000)"
   ]
  },
  {
   "cell_type": "code",
   "execution_count": 58,
   "id": "5bde8bfe-891c-4348-b1c1-10baf980af8c",
   "metadata": {},
   "outputs": [
    {
     "data": {
      "text/plain": [
       "True"
      ]
     },
     "execution_count": 58,
     "metadata": {},
     "output_type": "execute_result"
    }
   ],
   "source": [
    "Rizwan.withdraw(5000)"
   ]
  },
  {
   "cell_type": "code",
   "execution_count": 59,
   "id": "ea9a019b-2716-4eb6-aa85-c1b0d43bd7bf",
   "metadata": {},
   "outputs": [
    {
     "data": {
      "text/plain": [
       "2000"
      ]
     },
     "execution_count": 59,
     "metadata": {},
     "output_type": "execute_result"
    }
   ],
   "source": [
    "Rizwan.get_balance()"
   ]
  }
 ],
 "metadata": {
  "kernelspec": {
   "display_name": "Python 3 (ipykernel)",
   "language": "python",
   "name": "python3"
  },
  "language_info": {
   "codemirror_mode": {
    "name": "ipython",
    "version": 3
   },
   "file_extension": ".py",
   "mimetype": "text/x-python",
   "name": "python",
   "nbconvert_exporter": "python",
   "pygments_lexer": "ipython3",
   "version": "3.10.8"
  }
 },
 "nbformat": 4,
 "nbformat_minor": 5
}
