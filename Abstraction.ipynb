{
 "cells": [
  {
   "cell_type": "code",
   "execution_count": 4,
   "id": "3c334e1e-ebe8-4c4e-a414-367be48609be",
   "metadata": {},
   "outputs": [],
   "source": [
    "import abc\n",
    "class pwskills :\n",
    "    \n",
    "    @abc.abstractmethod\n",
    "    def students_details(self):\n",
    "        pass\n",
    "    \n",
    "    @abc.abstractmethod\n",
    "    def student_assigment(self):\n",
    "        pass\n",
    "    \n",
    "    @abc.abstractmethod\n",
    "    def student_marks(self):\n",
    "        pass"
   ]
  },
  {
   "cell_type": "code",
   "execution_count": 5,
   "id": "b2f8ba21-a471-4dda-883d-d09a2d5df2f5",
   "metadata": {},
   "outputs": [],
   "source": [
    "class student_details(pwskills) :\n",
    "    \n",
    "    def students_details(self):\n",
    "        return 'this is a meth for taking student details'\n",
    "    \n",
    "    def student_assigment(self):\n",
    "        return 'this is a meth for assing details for a partical'"
   ]
  },
  {
   "cell_type": "code",
   "execution_count": 6,
   "id": "a380c156-9561-43ba-81e1-92bb160732e6",
   "metadata": {},
   "outputs": [],
   "source": [
    "class data_science_master(pwskills) :\n",
    "    \n",
    "    def students_details(self):\n",
    "        return 'this is a meth for taking student details for master class'\n",
    "    \n",
    "    def student_assigment(self):\n",
    "        return 'this is a meth for assing details for a partical details for master class'"
   ]
  },
  {
   "cell_type": "code",
   "execution_count": 7,
   "id": "eab02ddf-ecf9-448a-b6ec-fe1e97670e7f",
   "metadata": {},
   "outputs": [
    {
     "data": {
      "text/plain": [
       "'this is a meth for taking student details for master class'"
      ]
     },
     "execution_count": 7,
     "metadata": {},
     "output_type": "execute_result"
    }
   ],
   "source": [
    "dsm = data_science_master()\n",
    "dsm.students_details()"
   ]
  },
  {
   "cell_type": "code",
   "execution_count": 8,
   "id": "8298e007-d3e1-4f22-8c05-348ab59024de",
   "metadata": {},
   "outputs": [
    {
     "data": {
      "text/plain": [
       "'this is a meth for taking student details'"
      ]
     },
     "execution_count": 8,
     "metadata": {},
     "output_type": "execute_result"
    }
   ],
   "source": [
    "sd = student_details()\n",
    "sd.students_details()"
   ]
  }
 ],
 "metadata": {
  "kernelspec": {
   "display_name": "Python 3 (ipykernel)",
   "language": "python",
   "name": "python3"
  },
  "language_info": {
   "codemirror_mode": {
    "name": "ipython",
    "version": 3
   },
   "file_extension": ".py",
   "mimetype": "text/x-python",
   "name": "python",
   "nbconvert_exporter": "python",
   "pygments_lexer": "ipython3",
   "version": "3.10.8"
  }
 },
 "nbformat": 4,
 "nbformat_minor": 5
}
