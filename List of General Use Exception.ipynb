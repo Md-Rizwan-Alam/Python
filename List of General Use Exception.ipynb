{
 "cells": [
  {
   "cell_type": "code",
   "execution_count": 1,
   "id": "77537807-e7a0-4456-a272-c531eac44249",
   "metadata": {},
   "outputs": [
    {
     "name": "stdout",
     "output_type": "stream",
     "text": [
      "division by zero\n"
     ]
    }
   ],
   "source": [
    "try :\n",
    "    \n",
    "    a = 10/0\n",
    "except ZeroDivisionError as e :\n",
    "    print(e)"
   ]
  },
  {
   "cell_type": "code",
   "execution_count": 2,
   "id": "6a38e2bc-5dc0-4590-80c7-83657d2d9af7",
   "metadata": {},
   "outputs": [
    {
     "name": "stdout",
     "output_type": "stream",
     "text": [
      "invalid literal for int() with base 10: 'rizwan'\n"
     ]
    }
   ],
   "source": [
    "try :\n",
    "    int(\"rizwan\")\n",
    "except (ValueError , TypeError) as e:\n",
    "    print(e)"
   ]
  },
  {
   "cell_type": "code",
   "execution_count": 3,
   "id": "d99aca21-c0a7-4433-9937-c4853bca0899",
   "metadata": {},
   "outputs": [
    {
     "name": "stdout",
     "output_type": "stream",
     "text": [
      "this will catch an error\n"
     ]
    }
   ],
   "source": [
    "try :\n",
    "    int(\"riz\")\n",
    "except:\n",
    "    print(\"this will catch an error\")"
   ]
  },
  {
   "cell_type": "code",
   "execution_count": 4,
   "id": "a0e39bb8-bab0-40cc-8657-e013f09911e4",
   "metadata": {},
   "outputs": [
    {
     "name": "stdout",
     "output_type": "stream",
     "text": [
      "No module named 'rizwan'\n"
     ]
    }
   ],
   "source": [
    "try :\n",
    "    import rizwan\n",
    "except ImportError as e :\n",
    "    print(e)"
   ]
  },
  {
   "cell_type": "code",
   "execution_count": 5,
   "id": "bffa9179-8720-4763-a219-70399e50e2e2",
   "metadata": {},
   "outputs": [
    {
     "name": "stdout",
     "output_type": "stream",
     "text": [
      "No module named 'rizwan'\n"
     ]
    },
    {
     "data": {
      "text/plain": [
       "2.5"
      ]
     },
     "execution_count": 5,
     "metadata": {},
     "output_type": "execute_result"
    }
   ],
   "source": [
    "try :\n",
    "    import rizwan\n",
    "except ImportError as e :\n",
    "    print(e)\n",
    "10/4"
   ]
  },
  {
   "cell_type": "code",
   "execution_count": 8,
   "id": "1a443b91-03ff-44d9-adae-3a3fd48218b4",
   "metadata": {},
   "outputs": [
    {
     "name": "stdout",
     "output_type": "stream",
     "text": [
      "'key2'\n"
     ]
    }
   ],
   "source": [
    "try :\n",
    "    d = {\"key\" : \"riz\" , 1 : [2,3,4,5]}\n",
    "    print(d[\"key2\"])\n",
    "except KeyError as e :\n",
    "    print(e)"
   ]
  },
  {
   "cell_type": "code",
   "execution_count": 10,
   "id": "408b9019-87cb-4107-9b7a-6fe94ed39e4f",
   "metadata": {},
   "outputs": [
    {
     "name": "stdout",
     "output_type": "stream",
     "text": [
      "'str' object has no attribute 'test'\n"
     ]
    }
   ],
   "source": [
    "try :\n",
    "    \"riz\".test()\n",
    "except AttributeError as e :\n",
    "    print(e)"
   ]
  },
  {
   "cell_type": "code",
   "execution_count": 11,
   "id": "c067a675-6f25-4ca6-a500-fb228e1f3c45",
   "metadata": {},
   "outputs": [
    {
     "name": "stdout",
     "output_type": "stream",
     "text": [
      "list index out of range\n"
     ]
    }
   ],
   "source": [
    "try :\n",
    "    l = [2,3,4,5,6,6]\n",
    "    print(l[7])\n",
    "except IndexError as e :\n",
    "    print(e)"
   ]
  },
  {
   "cell_type": "code",
   "execution_count": 12,
   "id": "ceaf61f8-9715-43b3-b27d-9f69a8240a32",
   "metadata": {},
   "outputs": [
    {
     "name": "stdout",
     "output_type": "stream",
     "text": [
      "unsupported operand type(s) for +: 'int' and 'str'\n"
     ]
    }
   ],
   "source": [
    "try :\n",
    "    123 + \"rizwan\"\n",
    "except TypeError as e :\n",
    "    print(e)"
   ]
  },
  {
   "cell_type": "code",
   "execution_count": 19,
   "id": "53abf872-dda9-4b93-9580-a42d9046faf9",
   "metadata": {},
   "outputs": [
    {
     "name": "stdout",
     "output_type": "stream",
     "text": [
      "[Errno 2] No such file or directory: 'test5.txt'\n"
     ]
    }
   ],
   "source": [
    "try :\n",
    "    with open(\"test5.txt\" , \"r\") as f :\n",
    "        test = f.read()\n",
    "except FileNotFoundError as e :\n",
    "    print(e)"
   ]
  },
  {
   "cell_type": "code",
   "execution_count": 20,
   "id": "a05cda75-84f4-4013-9e5a-3fb57477aa97",
   "metadata": {},
   "outputs": [
    {
     "data": {
      "text/plain": [
       "['__cause__',\n",
       " '__class__',\n",
       " '__context__',\n",
       " '__delattr__',\n",
       " '__dict__',\n",
       " '__dir__',\n",
       " '__doc__',\n",
       " '__eq__',\n",
       " '__format__',\n",
       " '__ge__',\n",
       " '__getattribute__',\n",
       " '__gt__',\n",
       " '__hash__',\n",
       " '__init__',\n",
       " '__init_subclass__',\n",
       " '__le__',\n",
       " '__lt__',\n",
       " '__ne__',\n",
       " '__new__',\n",
       " '__reduce__',\n",
       " '__reduce_ex__',\n",
       " '__repr__',\n",
       " '__setattr__',\n",
       " '__setstate__',\n",
       " '__sizeof__',\n",
       " '__str__',\n",
       " '__subclasshook__',\n",
       " '__suppress_context__',\n",
       " '__traceback__',\n",
       " 'args',\n",
       " 'with_traceback']"
      ]
     },
     "execution_count": 20,
     "metadata": {},
     "output_type": "execute_result"
    }
   ],
   "source": [
    "dir(Exception)"
   ]
  },
  {
   "cell_type": "code",
   "execution_count": 21,
   "id": "01f02868-832c-4880-acd9-789b5a2d9ddb",
   "metadata": {},
   "outputs": [
    {
     "name": "stdout",
     "output_type": "stream",
     "text": [
      "[Errno 2] No such file or directory: 'test5.txt'\n"
     ]
    }
   ],
   "source": [
    "try :\n",
    "    with open(\"test5.txt\" , \"r\") as f :\n",
    "        test = f.read()\n",
    "except Exception as e :\n",
    "    print(e)\n",
    "except FileNotFoundError as e :\n",
    "    print(e)"
   ]
  },
  {
   "cell_type": "code",
   "execution_count": 22,
   "id": "501e5bf9-6b4c-4dbb-818c-a311bf24b219",
   "metadata": {},
   "outputs": [
    {
     "name": "stdout",
     "output_type": "stream",
     "text": [
      "[Errno 2] No such file or directory: 'test5.txt'\n"
     ]
    }
   ],
   "source": [
    "try :\n",
    "    with open(\"test5.txt\" , \"r\") as f :\n",
    "        test = f.read()\n",
    "except Exception as e :\n",
    "    print(e)\n",
    "except FileNotFoundError as e :\n",
    "    print(\"test\" , e)"
   ]
  },
  {
   "cell_type": "code",
   "execution_count": 23,
   "id": "e8f624ff-5ba6-4413-bfb2-fc72a1fc004d",
   "metadata": {},
   "outputs": [
    {
     "name": "stdout",
     "output_type": "stream",
     "text": [
      "test [Errno 2] No such file or directory: 'test5.txt'\n"
     ]
    }
   ],
   "source": [
    "try :\n",
    "    with open(\"test5.txt\" , \"r\") as f :\n",
    "        test = f.read()\n",
    "except FileNotFoundError as e :\n",
    "    print(\"test\" , e)"
   ]
  },
  {
   "cell_type": "code",
   "execution_count": 29,
   "id": "2e3276ad-b215-4e54-b781-bc5a20c69e12",
   "metadata": {},
   "outputs": [],
   "source": [
    "def test5(file):\n",
    "    try :\n",
    "        with open(\"test5.txt\" , \"r\") as f :\n",
    "            test = f.read()\n",
    "    except Exception as e :\n",
    "        print(e)\n",
    "    except FileNotFoundError as e :\n",
    "        print(\"test\" , e)"
   ]
  }
 ],
 "metadata": {
  "kernelspec": {
   "display_name": "Python 3 (ipykernel)",
   "language": "python",
   "name": "python3"
  },
  "language_info": {
   "codemirror_mode": {
    "name": "ipython",
    "version": 3
   },
   "file_extension": ".py",
   "mimetype": "text/x-python",
   "name": "python",
   "nbconvert_exporter": "python",
   "pygments_lexer": "ipython3",
   "version": "3.10.8"
  }
 },
 "nbformat": 4,
 "nbformat_minor": 5
}
