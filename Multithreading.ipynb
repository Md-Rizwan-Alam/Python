{
 "cells": [
  {
   "cell_type": "code",
   "execution_count": 1,
   "id": "c8df1e31-9aa5-4803-b46a-3c9a96dbbc6c",
   "metadata": {},
   "outputs": [],
   "source": [
    "import threading"
   ]
  },
  {
   "cell_type": "code",
   "execution_count": 3,
   "id": "b57146a9-c77c-4947-b6d7-dafa2f67b59d",
   "metadata": {},
   "outputs": [],
   "source": [
    "def test(id):\n",
    "    print(\"program start %d \" , id)"
   ]
  },
  {
   "cell_type": "code",
   "execution_count": 4,
   "id": "96431d68-a39c-4c4b-9b36-7acc7d7598b9",
   "metadata": {},
   "outputs": [
    {
     "name": "stdout",
     "output_type": "stream",
     "text": [
      "program start %d  45\n"
     ]
    }
   ],
   "source": [
    "test(45)"
   ]
  },
  {
   "cell_type": "code",
   "execution_count": 6,
   "id": "9bbc2700-31dd-4421-a3a1-722767768d02",
   "metadata": {},
   "outputs": [],
   "source": [
    "def test(id):\n",
    "    print(\"program start %d \"% id)"
   ]
  },
  {
   "cell_type": "code",
   "execution_count": 7,
   "id": "00ce5060-e3e2-4d7c-94ea-ee13c5f6f27a",
   "metadata": {},
   "outputs": [
    {
     "name": "stdout",
     "output_type": "stream",
     "text": [
      "program start 10 \n"
     ]
    }
   ],
   "source": [
    "test(10)"
   ]
  },
  {
   "cell_type": "code",
   "execution_count": 10,
   "id": "fed2e800-b826-4fb6-b49e-ba5bf1911247",
   "metadata": {},
   "outputs": [],
   "source": [
    "thread = [threading.Thread(target=test , args=(i,) ) for i in range (10)]"
   ]
  },
  {
   "cell_type": "code",
   "execution_count": 11,
   "id": "bab0d9cf-2d86-4f8a-a488-660539bfe048",
   "metadata": {},
   "outputs": [
    {
     "name": "stdout",
     "output_type": "stream",
     "text": [
      "program start 0 \n",
      "program start 1 \n",
      "program start 2 \n",
      "program start 3 \n",
      "program start 4 \n",
      "program start 5 \n",
      "program start 6 \n",
      "program start 7 \n",
      "program start 8 \n",
      "program start 9 \n"
     ]
    }
   ],
   "source": [
    "for t in thread :\n",
    "    t.start()"
   ]
  },
  {
   "cell_type": "code",
   "execution_count": 12,
   "id": "b918380e-3ae6-4b35-94b6-8f326a25dd32",
   "metadata": {},
   "outputs": [
    {
     "data": {
      "text/plain": [
       "[0, 1, 2, 3, 4, 5, 6, 7, 8, 9]"
      ]
     },
     "execution_count": 12,
     "metadata": {},
     "output_type": "execute_result"
    }
   ],
   "source": [
    "list(range(10))"
   ]
  },
  {
   "cell_type": "code",
   "execution_count": 13,
   "id": "db81ab30-5d44-466e-a34e-6477eb76e875",
   "metadata": {},
   "outputs": [
    {
     "data": {
      "text/plain": [
       "[<Thread(Thread-5 (test), stopped 139686656845376)>,\n",
       " <Thread(Thread-6 (test), stopped 139686656845376)>,\n",
       " <Thread(Thread-7 (test), stopped 139686656845376)>,\n",
       " <Thread(Thread-8 (test), stopped 139686656845376)>,\n",
       " <Thread(Thread-9 (test), stopped 139686656845376)>,\n",
       " <Thread(Thread-10 (test), stopped 139686656845376)>,\n",
       " <Thread(Thread-11 (test), stopped 139686656845376)>,\n",
       " <Thread(Thread-12 (test), stopped 139686656845376)>,\n",
       " <Thread(Thread-13 (test), stopped 139686656845376)>,\n",
       " <Thread(Thread-14 (test), stopped 139686656845376)>]"
      ]
     },
     "execution_count": 13,
     "metadata": {},
     "output_type": "execute_result"
    }
   ],
   "source": [
    "thread"
   ]
  },
  {
   "cell_type": "code",
   "execution_count": 14,
   "id": "7837e517-a2ad-4498-b5c0-6a2842a3e4f8",
   "metadata": {},
   "outputs": [
    {
     "data": {
      "text/plain": [
       "139687034758016"
      ]
     },
     "execution_count": 14,
     "metadata": {},
     "output_type": "execute_result"
    }
   ],
   "source": [
    "id(thread)"
   ]
  },
  {
   "cell_type": "code",
   "execution_count": 15,
   "id": "b51d76bd-6216-4c0a-8166-51d6eeff8051",
   "metadata": {},
   "outputs": [],
   "source": [
    "import threading\n",
    "import urllib.request\n",
    "\n",
    "\n",
    "def file_download(url , filename) :\n",
    "    urllib.request.urlretrieve(url,filename)\n",
    "    "
   ]
  },
  {
   "cell_type": "code",
   "execution_count": 19,
   "id": "433317d7-cc57-46cd-815c-ad0f59bcca77",
   "metadata": {},
   "outputs": [],
   "source": [
    "file_download('https://github.com/Md-Rizwan-Alam/Python/blob/main/payment_details.py', \"test7.txt\")"
   ]
  },
  {
   "cell_type": "code",
   "execution_count": 20,
   "id": "e789ecc2-cc5b-41d7-b6b8-bfafd74789b6",
   "metadata": {},
   "outputs": [],
   "source": [
    "url_list = ['https://github.com/Md-Rizwan-Alam/Python/blob/main/Working%20With%20Files.ipynb' , 'https://github.com/Md-Rizwan-Alam/Python/blob/main/Static%20Method.ipynb' , 'https://github.com/Md-Rizwan-Alam/Python/blob/main/Special(Magic_Dunder)Methods.ipynb']"
   ]
  },
  {
   "cell_type": "code",
   "execution_count": 21,
   "id": "aa2fe0e9-dffc-495b-9fa9-f983e30dd118",
   "metadata": {},
   "outputs": [
    {
     "data": {
      "text/plain": [
       "['https://github.com/Md-Rizwan-Alam/Python/blob/main/Working%20With%20Files.ipynb',\n",
       " 'https://github.com/Md-Rizwan-Alam/Python/blob/main/Static%20Method.ipynb',\n",
       " 'https://github.com/Md-Rizwan-Alam/Python/blob/main/Special(Magic_Dunder)Methods.ipynb']"
      ]
     },
     "execution_count": 21,
     "metadata": {},
     "output_type": "execute_result"
    }
   ],
   "source": [
    "url_list"
   ]
  },
  {
   "cell_type": "code",
   "execution_count": 22,
   "id": "1f80116b-b61e-46a5-9cda-a2ac1c4e3cbb",
   "metadata": {},
   "outputs": [],
   "source": [
    "file_name_list = ['data1.txt' , 'data2.txt' , 'data3.txt']"
   ]
  },
  {
   "cell_type": "code",
   "execution_count": 24,
   "id": "a803012d-4542-4f48-b757-9b6a62bb0702",
   "metadata": {},
   "outputs": [],
   "source": [
    "ther = [threading.Thread(target=file_download , args = (url_list[i] , file_name_list[i]) ) for i in range(len(url_list))]"
   ]
  },
  {
   "cell_type": "code",
   "execution_count": 25,
   "id": "07be9829-a25d-4e69-a910-70e569b4affa",
   "metadata": {},
   "outputs": [
    {
     "data": {
      "text/plain": [
       "[<Thread(Thread-15 (file_download), initial)>,\n",
       " <Thread(Thread-16 (file_download), initial)>,\n",
       " <Thread(Thread-17 (file_download), initial)>]"
      ]
     },
     "execution_count": 25,
     "metadata": {},
     "output_type": "execute_result"
    }
   ],
   "source": [
    "ther"
   ]
  },
  {
   "cell_type": "code",
   "execution_count": 26,
   "id": "abaec856-3271-4c55-bcf8-a641418aa472",
   "metadata": {},
   "outputs": [],
   "source": [
    "for t in ther :\n",
    "    t.start()"
   ]
  },
  {
   "cell_type": "code",
   "execution_count": 27,
   "id": "bda6859c-fcf9-4fa7-8817-3d2fcf82fc98",
   "metadata": {},
   "outputs": [
    {
     "data": {
      "text/plain": [
       "[<Thread(Thread-15 (file_download), stopped 139686656845376)>,\n",
       " <Thread(Thread-16 (file_download), stopped 139686293009984)>,\n",
       " <Thread(Thread-17 (file_download), stopped 139686284617280)>]"
      ]
     },
     "execution_count": 27,
     "metadata": {},
     "output_type": "execute_result"
    }
   ],
   "source": [
    "ther"
   ]
  },
  {
   "cell_type": "code",
   "execution_count": 28,
   "id": "bd632424-57f3-4629-8814-f9f0e5bdc145",
   "metadata": {},
   "outputs": [],
   "source": [
    "import time"
   ]
  },
  {
   "cell_type": "code",
   "execution_count": 32,
   "id": "db2028ec-b9da-429a-8359-f54ed8f1d3f3",
   "metadata": {},
   "outputs": [],
   "source": [
    "def test8(id) :\n",
    "    for i in range(10) :\n",
    "        print(\"test8 %d printing %d\" %(id, i))\n",
    "        time.sleep(1)"
   ]
  },
  {
   "cell_type": "code",
   "execution_count": 34,
   "id": "c7f879a7-6801-42fe-b592-d9c27483d232",
   "metadata": {},
   "outputs": [
    {
     "name": "stdout",
     "output_type": "stream",
     "text": [
      "test9 1 printing 0\n",
      "test9 1 printing 1\n",
      "test9 1 printing 2\n",
      "test9 1 printing 3\n",
      "test9 1 printing 4\n",
      "test9 1 printing 5\n",
      "test9 1 printing 6\n",
      "test9 1 printing 7\n",
      "test9 1 printing 8\n",
      "test9 1 printing 9\n"
     ]
    }
   ],
   "source": [
    "test8(1)"
   ]
  },
  {
   "cell_type": "code",
   "execution_count": 36,
   "id": "bcf3010f-7fd4-444c-91f7-d7cbbf39032c",
   "metadata": {},
   "outputs": [],
   "source": [
    "thread1 = [threading.Thread(target=test8, args = (i,)) for i in range(3)]"
   ]
  },
  {
   "cell_type": "code",
   "execution_count": 37,
   "id": "919f7741-8d8a-44c8-bd05-aef18130b2ce",
   "metadata": {},
   "outputs": [
    {
     "name": "stdout",
     "output_type": "stream",
     "text": [
      "test9 0 printing 0\n",
      "test9 1 printing 0\n",
      "test9 2 printing 0\n",
      "test9 0 printing 1test9 1 printing 1\n",
      "\n",
      "test9 2 printing 1\n",
      "test9 1 printing 2\n",
      "test9 2 printing 2\n",
      "test9 0 printing 2\n",
      "test9 1 printing 3test9 2 printing 3\n",
      "\n",
      "test9 0 printing 3\n",
      "test9 2 printing 4\n",
      "test9 1 printing 4\n",
      "test9 0 printing 4\n",
      "test9 2 printing 5test9 1 printing 5\n",
      "\n",
      "test9 0 printing 5\n",
      "test9 1 printing 6test9 2 printing 6\n",
      "\n",
      "test9 0 printing 6\n",
      "test9 2 printing 7\n",
      "test9 1 printing 7\n",
      "test9 0 printing 7\n",
      "test9 2 printing 8\n",
      "test9 1 printing 8\n",
      "test9 0 printing 8\n",
      "test9 2 printing 9\n",
      "test9 1 printing 9\n",
      "test9 0 printing 9\n"
     ]
    }
   ],
   "source": [
    "for t in thread1:\n",
    "    t.start()"
   ]
  },
  {
   "cell_type": "code",
   "execution_count": 38,
   "id": "745ec8cd-4832-489e-bfcf-f9612547e223",
   "metadata": {},
   "outputs": [],
   "source": [
    "def test8(id) :\n",
    "    for i in range(10) :\n",
    "        print(\"test8 %d printing %d\" %(id, i))"
   ]
  },
  {
   "cell_type": "code",
   "execution_count": 39,
   "id": "9bdd8867-a423-4ead-b6ee-302779262dee",
   "metadata": {},
   "outputs": [],
   "source": [
    "thread1 = [threading.Thread(target=test8, args = (i,)) for i in range(3)]"
   ]
  },
  {
   "cell_type": "code",
   "execution_count": 40,
   "id": "942d45c5-2631-4905-94cd-993e3f9bf65b",
   "metadata": {},
   "outputs": [
    {
     "name": "stdout",
     "output_type": "stream",
     "text": [
      "test8 0 printing 0\n",
      "test8 0 printing 1\n",
      "test8 0 printing 2\n",
      "test8 0 printing 3\n",
      "test8 0 printing 4\n",
      "test8 0 printing 5\n",
      "test8 0 printing 6\n",
      "test8 0 printing 7\n",
      "test8 0 printing 8\n",
      "test8 0 printing 9\n",
      "test8 1 printing 0\n",
      "test8 1 printing 1\n",
      "test8 1 printing 2\n",
      "test8 1 printing 3\n",
      "test8 1 printing 4\n",
      "test8 1 printing 5\n",
      "test8 1 printing 6\n",
      "test8 1 printing 7\n",
      "test8 1 printing 8\n",
      "test8 1 printing 9\n",
      "test8 2 printing 0\n",
      "test8 2 printing 1\n",
      "test8 2 printing 2\n",
      "test8 2 printing 3\n",
      "test8 2 printing 4\n",
      "test8 2 printing 5\n",
      "test8 2 printing 6\n",
      "test8 2 printing 7\n",
      "test8 2 printing 8\n",
      "test8 2 printing 9\n"
     ]
    }
   ],
   "source": [
    "for t in thread1:\n",
    "    t.start()"
   ]
  },
  {
   "cell_type": "code",
   "execution_count": 54,
   "id": "d5e5c9c5-a1cb-4421-b864-5ac787673fe8",
   "metadata": {},
   "outputs": [],
   "source": [
    "import time"
   ]
  },
  {
   "cell_type": "code",
   "execution_count": 55,
   "id": "d8170fc2-58cb-4e85-a8be-1f3716cab36b",
   "metadata": {},
   "outputs": [],
   "source": [
    "def test8(id) :\n",
    "    for i in range(10) :\n",
    "        print(\"test8 %d printing %d %s\" %(id, i,time.ctime()))\n",
    "        time.sleep(1)"
   ]
  },
  {
   "cell_type": "code",
   "execution_count": 56,
   "id": "5ffc972a-0df4-43e4-a513-41add23ba32f",
   "metadata": {},
   "outputs": [
    {
     "name": "stdout",
     "output_type": "stream",
     "text": [
      "test8 0 printing 0 Tue Aug  8 01:24:37 2023\n",
      "test8 0 printing 1 Tue Aug  8 01:24:38 2023\n",
      "test8 0 printing 2 Tue Aug  8 01:24:39 2023\n",
      "test8 0 printing 3 Tue Aug  8 01:24:40 2023\n",
      "test8 0 printing 4 Tue Aug  8 01:24:41 2023\n",
      "test8 0 printing 5 Tue Aug  8 01:24:42 2023\n",
      "test8 0 printing 6 Tue Aug  8 01:24:43 2023\n",
      "test8 0 printing 7 Tue Aug  8 01:24:44 2023\n",
      "test8 0 printing 8 Tue Aug  8 01:24:45 2023\n",
      "test8 0 printing 9 Tue Aug  8 01:24:46 2023\n"
     ]
    }
   ],
   "source": [
    "test8(0)"
   ]
  },
  {
   "cell_type": "code",
   "execution_count": 78,
   "id": "1242adfd-350c-47fa-81f6-4d95defd4d83",
   "metadata": {},
   "outputs": [],
   "source": [
    "shared_var = 0\n",
    "lock_var = threading.Lock()"
   ]
  },
  {
   "cell_type": "code",
   "execution_count": 79,
   "id": "fb019066-4a3f-4600-977a-5ff4cc3ffc09",
   "metadata": {},
   "outputs": [
    {
     "name": "stdout",
     "output_type": "stream",
     "text": [
      "test2 is 0 has increased the shared variable by 1 \n",
      "test2 is 1 has increased the shared variable by 2 \n",
      "test2 is 2 has increased the shared variable by 3 \n"
     ]
    }
   ],
   "source": [
    "shared_var = 0\n",
    "lock_var = threading.Lock()\n",
    "def test9(id) : \n",
    "    global shared_var\n",
    "    with lock_var:\n",
    "        shared_var = shared_var+1\n",
    "        print(\"test9 is %d has increased the shared variable by %d \" % (id ,shared_var) )\n",
    "ther3 = [threading.Thread(target=test2 , args = (i,) ) for i in range(3)]    \n",
    "for t in ther3:\n",
    "    t.start()"
   ]
  },
  {
   "cell_type": "code",
   "execution_count": 80,
   "id": "309ae63c-2569-434d-b08a-755d093cdc0b",
   "metadata": {},
   "outputs": [
    {
     "name": "stdout",
     "output_type": "stream",
     "text": [
      "test9 is 0 has increased the shared variable by 4 \n"
     ]
    }
   ],
   "source": [
    "test9(0)"
   ]
  },
  {
   "cell_type": "code",
   "execution_count": 81,
   "id": "431b52c3-9e73-4af5-a467-d45ac76f77fa",
   "metadata": {},
   "outputs": [
    {
     "name": "stdout",
     "output_type": "stream",
     "text": [
      "test2 is 0 has increased the shared variable by 1 \n",
      "test2 is 1 has increased the shared variable by 2 \n",
      "test2 is 2 has increased the shared variable by 3 \n"
     ]
    }
   ],
   "source": [
    "shared_var = 0\n",
    "lock_var = threading.Lock()\n",
    "def test9(id) : \n",
    "    global shared_var\n",
    "    with lock_var:\n",
    "        shared_var = shared_var+1\n",
    "        print(\"test9 is %d has increased the shared variable by %d \" % (id ,shared_var) )\n",
    "        time.sleep(1)\n",
    "ther3 = [threading.Thread(target=test2 , args = (i,) ) for i in range(3)]    \n",
    "for t in ther3:\n",
    "    t.start()"
   ]
  },
  {
   "cell_type": "code",
   "execution_count": 82,
   "id": "bfdcb0fb-8e4b-44ae-a328-d3dbf72e50d3",
   "metadata": {},
   "outputs": [
    {
     "name": "stdout",
     "output_type": "stream",
     "text": [
      "test9 is 0 has increased the shared variable by 4 \n"
     ]
    }
   ],
   "source": [
    "test9(0)"
   ]
  }
 ],
 "metadata": {
  "kernelspec": {
   "display_name": "Python 3 (ipykernel)",
   "language": "python",
   "name": "python3"
  },
  "language_info": {
   "codemirror_mode": {
    "name": "ipython",
    "version": 3
   },
   "file_extension": ".py",
   "mimetype": "text/x-python",
   "name": "python",
   "nbconvert_exporter": "python",
   "pygments_lexer": "ipython3",
   "version": "3.10.8"
  }
 },
 "nbformat": 4,
 "nbformat_minor": 5
}
