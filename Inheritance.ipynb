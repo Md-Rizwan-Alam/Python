{
 "cells": [
  {
   "cell_type": "code",
   "execution_count": 6,
   "id": "b3d82597-0e27-4bd2-8f43-ced1a5ee403a",
   "metadata": {},
   "outputs": [],
   "source": [
    "class test:\n",
    "    \n",
    "    def test_meth(self) :\n",
    "        return \"this is my first class\""
   ]
  },
  {
   "cell_type": "code",
   "execution_count": 13,
   "id": "c5706109-b893-4bc8-87c3-380f42ac7836",
   "metadata": {},
   "outputs": [],
   "source": [
    "class child_test(test) :\n",
    "    pass"
   ]
  },
  {
   "cell_type": "code",
   "execution_count": 14,
   "id": "46b3e23c-9948-4fa5-a196-c23b8f0c41e2",
   "metadata": {},
   "outputs": [],
   "source": [
    "child_test_obj = child_test()"
   ]
  },
  {
   "cell_type": "code",
   "execution_count": 15,
   "id": "29b7dbad-202c-4a64-bbe5-857d8817b5c0",
   "metadata": {},
   "outputs": [
    {
     "data": {
      "text/plain": [
       "'this is my first class'"
      ]
     },
     "execution_count": 15,
     "metadata": {},
     "output_type": "execute_result"
    }
   ],
   "source": [
    "child_test_obj.test_meth()"
   ]
  },
  {
   "cell_type": "code",
   "execution_count": 16,
   "id": "586a71fe-3f9e-4e4d-861e-02d35f3ed0da",
   "metadata": {},
   "outputs": [],
   "source": [
    "class class1 :\n",
    "    \n",
    "    def test_class1(self) :\n",
    "        return 'this is a meyth class from class1'"
   ]
  },
  {
   "cell_type": "code",
   "execution_count": 17,
   "id": "44a5f14c-477c-4abc-82c4-9e037f55e752",
   "metadata": {},
   "outputs": [],
   "source": [
    "class class2(class1) :\n",
    "    def test_class2(slef) :\n",
    "        return 'this is a meth from class2'"
   ]
  },
  {
   "cell_type": "code",
   "execution_count": 18,
   "id": "e98e269e-8038-4b46-9df4-2bcfdfe5dead",
   "metadata": {},
   "outputs": [],
   "source": [
    "class class3(class2) :\n",
    "    pass"
   ]
  },
  {
   "cell_type": "code",
   "execution_count": 19,
   "id": "f4ba2412-d2b2-49b4-b631-c5d13b076994",
   "metadata": {},
   "outputs": [],
   "source": [
    "obj_class3 = class3()"
   ]
  },
  {
   "cell_type": "code",
   "execution_count": 20,
   "id": "46da20f9-c25d-4ecb-bd53-ba15f9c7e735",
   "metadata": {},
   "outputs": [
    {
     "data": {
      "text/plain": [
       "'this is a meyth class from class1'"
      ]
     },
     "execution_count": 20,
     "metadata": {},
     "output_type": "execute_result"
    }
   ],
   "source": [
    "obj_class3.test_class1()"
   ]
  },
  {
   "cell_type": "code",
   "execution_count": 21,
   "id": "20bbf0b1-4c40-4346-b272-0b2097c5185c",
   "metadata": {},
   "outputs": [
    {
     "data": {
      "text/plain": [
       "'this is a meth from class2'"
      ]
     },
     "execution_count": 21,
     "metadata": {},
     "output_type": "execute_result"
    }
   ],
   "source": [
    "obj_class3.test_class2()"
   ]
  },
  {
   "cell_type": "code",
   "execution_count": 23,
   "id": "8b0c1c06-3152-4bf8-86ef-16387da7eb3f",
   "metadata": {},
   "outputs": [],
   "source": [
    "class class1 :\n",
    "    \n",
    "    def test_calss1(self) :\n",
    "        return 'this is class 1'"
   ]
  },
  {
   "cell_type": "code",
   "execution_count": 24,
   "id": "63fdbd75-7431-4910-a981-1f2bf476fb77",
   "metadata": {},
   "outputs": [],
   "source": [
    "class class2 :\n",
    "    \n",
    "    def test_calss2(self) :\n",
    "        return 'this is class 2'"
   ]
  },
  {
   "cell_type": "code",
   "execution_count": 25,
   "id": "48ddf09b-d123-4bdc-9cbf-e95fba637d8c",
   "metadata": {},
   "outputs": [],
   "source": [
    "class class3(class1 , class2) :\n",
    "    pass"
   ]
  },
  {
   "cell_type": "code",
   "execution_count": 26,
   "id": "4a76e202-8f61-42df-9770-8508e1c3eaf9",
   "metadata": {},
   "outputs": [],
   "source": [
    "obj_class3 = class3()"
   ]
  },
  {
   "cell_type": "code",
   "execution_count": 30,
   "id": "26a57800-0ee0-4c26-8f62-26c489895e59",
   "metadata": {},
   "outputs": [
    {
     "data": {
      "text/plain": [
       "'this is class 1'"
      ]
     },
     "execution_count": 30,
     "metadata": {},
     "output_type": "execute_result"
    }
   ],
   "source": [
    "obj_class3.test_calss1()"
   ]
  },
  {
   "cell_type": "code",
   "execution_count": 31,
   "id": "fa3279ca-b802-4d68-93c2-d62e864e1006",
   "metadata": {},
   "outputs": [
    {
     "data": {
      "text/plain": [
       "'this is class 2'"
      ]
     },
     "execution_count": 31,
     "metadata": {},
     "output_type": "execute_result"
    }
   ],
   "source": [
    "obj_class3.test_calss2()"
   ]
  }
 ],
 "metadata": {
  "kernelspec": {
   "display_name": "Python 3 (ipykernel)",
   "language": "python",
   "name": "python3"
  },
  "language_info": {
   "codemirror_mode": {
    "name": "ipython",
    "version": 3
   },
   "file_extension": ".py",
   "mimetype": "text/x-python",
   "name": "python",
   "nbconvert_exporter": "python",
   "pygments_lexer": "ipython3",
   "version": "3.10.8"
  }
 },
 "nbformat": 4,
 "nbformat_minor": 5
}
