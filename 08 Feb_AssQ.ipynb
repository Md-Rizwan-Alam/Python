{
 "cells": [
  {
   "cell_type": "code",
   "execution_count": 1,
   "id": "1b956a95-1cab-445f-8846-9f05c2da1b2f",
   "metadata": {},
   "outputs": [],
   "source": [
    "#Q1. What is Abstraction in OOps? Explain with an example."
   ]
  },
  {
   "cell_type": "code",
   "execution_count": 3,
   "id": "deedf89c-8994-4ec3-b52c-e293d346fc18",
   "metadata": {},
   "outputs": [
    {
     "data": {
      "text/plain": [
       "'Abstraction is a fundamental concept in object-oriented programming (OOP) that allows us to simplify complex systems by focusing on relevant details and hiding unnecessary complexities. It is one of the four pillars of OOP, along with encapsulation, inheritance, and polymorphism.'"
      ]
     },
     "execution_count": 3,
     "metadata": {},
     "output_type": "execute_result"
    }
   ],
   "source": [
    "\"\"\"Abstraction is a fundamental concept in object-oriented programming (OOP) that allows us to simplify complex systems by focusing on relevant details and hiding unnecessary complexities. It is one of the four pillars of OOP, along with encapsulation, inheritance, and polymorphism.\"\"\""
   ]
  },
  {
   "cell_type": "code",
   "execution_count": 4,
   "id": "edbc7709-9d8a-449e-8641-170cb2bd68be",
   "metadata": {},
   "outputs": [],
   "source": [
    "class Car:\n",
    "    def __init__(self, brand, model, color):\n",
    "        self.brand = brand\n",
    "        self.model = model\n",
    "        self.color = color\n",
    "        self.is_engine_on = False\n",
    "        self.speed = 0\n",
    "\n",
    "    def start_engine(self):\n",
    "        self.is_engine_on = True\n",
    "        print(\"Engine started.\")\n",
    "\n",
    "    def stop_engine(self):\n",
    "        self.is_engine_on = False\n",
    "        self.speed = 0\n",
    "        print(\"Engine stopped.\")\n",
    "\n",
    "    def accelerate(self, speed):\n",
    "        if self.is_engine_on:\n",
    "            self.speed += speed\n",
    "            print(f\"Accelerating. Current speed: {self.speed} km/h.\")\n",
    "        else:\n",
    "            print(\"Cannot accelerate. Engine is not running.\")\n",
    "\n",
    "    def brake(self):\n",
    "        self.speed = 0\n",
    "        print(\"Brakes applied. Car stopped.\")"
   ]
  },
  {
   "cell_type": "code",
   "execution_count": 7,
   "id": "e0d40751-14f0-4a22-9526-8d1109e33812",
   "metadata": {},
   "outputs": [],
   "source": [
    "my_car = Car(\"Toyota\", \"Camry\", \"Silver\")"
   ]
  },
  {
   "cell_type": "code",
   "execution_count": 10,
   "id": "d24f95da-0aac-4312-9187-2e7207ccb38d",
   "metadata": {},
   "outputs": [
    {
     "name": "stdout",
     "output_type": "stream",
     "text": [
      "Engine started.\n",
      "Accelerating. Current speed: 40 km/h.\n",
      "Accelerating. Current speed: 60 km/h.\n",
      "Brakes applied. Car stopped.\n",
      "Engine stopped.\n"
     ]
    }
   ],
   "source": [
    "my_car.start_engine()\n",
    "my_car.accelerate(40)\n",
    "my_car.accelerate(20)\n",
    "my_car.brake()\n",
    "my_car.stop_engine()"
   ]
  },
  {
   "cell_type": "code",
   "execution_count": 11,
   "id": "455d20ed-ca40-45f2-b0cd-f46acf89c929",
   "metadata": {},
   "outputs": [],
   "source": [
    "#Q2. Differentiate between Abstraction and Encapsulation. Explain with an example."
   ]
  },
  {
   "cell_type": "code",
   "execution_count": 12,
   "id": "5f178eba-f4d0-4e1a-9bfc-abd8de32cb58",
   "metadata": {},
   "outputs": [
    {
     "data": {
      "text/plain": [
       "'Abstraction is the method of hiding the unwanted information.'"
      ]
     },
     "execution_count": 12,
     "metadata": {},
     "output_type": "execute_result"
    }
   ],
   "source": [
    "\"\"\"Abstraction is the method of hiding the unwanted information.\"\"\""
   ]
  },
  {
   "cell_type": "code",
   "execution_count": 14,
   "id": "c9898f03-581d-4877-985d-9c23ab95602c",
   "metadata": {},
   "outputs": [],
   "source": [
    "class Car:\n",
    "    def __init__(self):\n",
    "        self.__mileage = 0\n",
    "        self.__fuel_level = 100\n",
    "\n",
    "    def drive(self):\n",
    "        self.__mileage += 10\n",
    "        self.__fuel_level -= 5\n",
    "\n",
    "    def get_mileage(self):\n",
    "        return self.__mileage\n",
    "\n",
    "    def get_fuel_level(self):\n",
    "        return self.__fuel_level\n",
    "\n",
    "    def refuel(self):\n",
    "        self.__fuel_level = 100\n"
   ]
  },
  {
   "cell_type": "code",
   "execution_count": 15,
   "id": "f5e78f2d-0aa0-4e97-8994-515663064d1c",
   "metadata": {},
   "outputs": [],
   "source": [
    "car = Car()\n",
    "car.drive()"
   ]
  },
  {
   "cell_type": "code",
   "execution_count": 16,
   "id": "31e0ab80-0275-4743-b173-97dad48531ff",
   "metadata": {},
   "outputs": [
    {
     "name": "stdout",
     "output_type": "stream",
     "text": [
      "10\n",
      "95\n"
     ]
    }
   ],
   "source": [
    "print(car.get_mileage())\n",
    "print(car.get_fuel_level())"
   ]
  },
  {
   "cell_type": "code",
   "execution_count": 13,
   "id": "bc45ed48-18b4-4d46-ab01-01d2e2035f08",
   "metadata": {},
   "outputs": [
    {
     "data": {
      "text/plain": [
       "'Encapsulation is the process of bundling data and methods together within a class, restricting access to the internal details of the class from the outside.'"
      ]
     },
     "execution_count": 13,
     "metadata": {},
     "output_type": "execute_result"
    }
   ],
   "source": [
    "\"\"\"Encapsulation is the process of bundling data and methods together within a class, restricting access to the internal details of the class from the outside.\"\"\""
   ]
  },
  {
   "cell_type": "code",
   "execution_count": 18,
   "id": "7e9826cf-7e7b-45c4-aab1-0f736bce9cdc",
   "metadata": {},
   "outputs": [],
   "source": [
    "class Car:\n",
    "    def drive(self):\n",
    "        pass\n"
   ]
  },
  {
   "cell_type": "code",
   "execution_count": 19,
   "id": "0d60923e-6f93-4507-90b2-ff422072dc85",
   "metadata": {},
   "outputs": [],
   "source": [
    "# Implementation of driving functionality"
   ]
  },
  {
   "cell_type": "code",
   "execution_count": 20,
   "id": "930faf5e-fc78-4886-bc83-6f09df030e24",
   "metadata": {},
   "outputs": [],
   "source": [
    "class Car:\n",
    "    def brake(self):\n",
    "        pass"
   ]
  },
  {
   "cell_type": "code",
   "execution_count": 21,
   "id": "8d1e9caf-f03e-4d84-a594-76a9695e6499",
   "metadata": {},
   "outputs": [],
   "source": [
    "# Implementation of braking functionality"
   ]
  },
  {
   "cell_type": "code",
   "execution_count": 23,
   "id": "d52a79ba-eb77-40cf-9914-a0dae27390a4",
   "metadata": {},
   "outputs": [],
   "source": [
    "class Car:\n",
    "    def honk(self):\n",
    "        pass"
   ]
  },
  {
   "cell_type": "code",
   "execution_count": 24,
   "id": "3a8bfa1f-bb87-4568-ab5d-e30102106cfb",
   "metadata": {},
   "outputs": [],
   "source": [
    "# Implementation of honking functionality"
   ]
  },
  {
   "cell_type": "code",
   "execution_count": 25,
   "id": "aebbed9a-94b8-43de-b750-b0ea56623836",
   "metadata": {},
   "outputs": [],
   "source": [
    "class Car:\n",
    "    def refuel(self):\n",
    "        pass"
   ]
  },
  {
   "cell_type": "code",
   "execution_count": 26,
   "id": "505b051b-9a89-4aed-9639-7bc882c12a02",
   "metadata": {},
   "outputs": [],
   "source": [
    "# Implementation of refueling functionality"
   ]
  },
  {
   "cell_type": "code",
   "execution_count": 27,
   "id": "f9537e6b-bc22-4aa4-8abb-021cbc4b07ca",
   "metadata": {},
   "outputs": [],
   "source": [
    "#Q3. What is abc module in python? Why is it used?"
   ]
  },
  {
   "cell_type": "code",
   "execution_count": 28,
   "id": "d89edb28-2e69-46ac-9ccc-33e62a3e9926",
   "metadata": {},
   "outputs": [
    {
     "data": {
      "text/plain": [
       "'The abc module in Python provides support for defining abstract base classes.'"
      ]
     },
     "execution_count": 28,
     "metadata": {},
     "output_type": "execute_result"
    }
   ],
   "source": [
    "\"\"\"The abc module in Python provides support for defining abstract base classes.\"\"\""
   ]
  },
  {
   "cell_type": "code",
   "execution_count": 29,
   "id": "39180dcf-1743-47c3-a6b5-5377eac80537",
   "metadata": {},
   "outputs": [],
   "source": [
    "from abc import ABC, abstractmethod\n",
    "\n",
    "class Shape(ABC):\n",
    "    @abstractmethod\n",
    "    def area(self):\n",
    "        pass\n",
    "\n",
    "    @abstractmethod\n",
    "    def perimeter(self):\n",
    "        pass\n",
    "\n",
    "class Circle(Shape):\n",
    "    def __init__(self, radius):\n",
    "        self.radius = radius\n",
    "\n",
    "    def area(self):\n",
    "        return 3.14 * self.radius ** 2\n",
    "\n",
    "    def perimeter(self):\n",
    "        return 2 * 3.14 * self.radius\n",
    "\n",
    "class Square(Shape):\n",
    "    def __init__(self, side):\n",
    "        self.side = side\n",
    "\n",
    "    def area(self):\n",
    "        return self.side ** 2\n",
    "\n",
    "    def perimeter(self):\n",
    "        return 4 * self.side\n"
   ]
  },
  {
   "cell_type": "code",
   "execution_count": 30,
   "id": "c19fd236-f712-4cf9-818b-dbef96e08f77",
   "metadata": {},
   "outputs": [],
   "source": [
    "# Trying to instantiate the Shape class directly will raise an error\n",
    "# because it's an abstract class.\n",
    "# shape = Shape()"
   ]
  },
  {
   "cell_type": "code",
   "execution_count": 32,
   "id": "d5a27d59-92ae-42ce-9d4d-4a7fc0b9dac9",
   "metadata": {},
   "outputs": [],
   "source": [
    "circle = Circle(5)\n",
    "square = Square(4)"
   ]
  },
  {
   "cell_type": "code",
   "execution_count": 33,
   "id": "e7ab168a-bb1f-473e-bb62-ab96025f5842",
   "metadata": {},
   "outputs": [
    {
     "name": "stdout",
     "output_type": "stream",
     "text": [
      "Circle Area: 78.5\n",
      "Circle Perimeter: 31.400000000000002\n"
     ]
    }
   ],
   "source": [
    "print(\"Circle Area:\", circle.area())\n",
    "print(\"Circle Perimeter:\", circle.perimeter())"
   ]
  },
  {
   "cell_type": "code",
   "execution_count": 34,
   "id": "77150c69-3e96-453d-8d27-011e2807d363",
   "metadata": {},
   "outputs": [
    {
     "name": "stdout",
     "output_type": "stream",
     "text": [
      "Square Area: 16\n",
      "Square Perimeter: 16\n"
     ]
    }
   ],
   "source": [
    "print(\"Square Area:\", square.area())\n",
    "print(\"Square Perimeter:\", square.perimeter())"
   ]
  },
  {
   "cell_type": "code",
   "execution_count": 35,
   "id": "9ffad54a-f293-4eaa-ab69-6e395e27276c",
   "metadata": {},
   "outputs": [],
   "source": [
    "#Q4. How can we achieve data abstraction?"
   ]
  },
  {
   "cell_type": "code",
   "execution_count": 37,
   "id": "75de50e2-3923-4bae-8600-7a092fe36ab2",
   "metadata": {},
   "outputs": [
    {
     "data": {
      "text/plain": [
       "'Data abstraction is achieved through abstract data types and encapsulation. abstract data types define data objects and operations without revealing internal details. Encapsulation groups related data and functions, hiding internal details and controlling data access for better management and reduced corruption risk.'"
      ]
     },
     "execution_count": 37,
     "metadata": {},
     "output_type": "execute_result"
    }
   ],
   "source": [
    "\"\"\"Data abstraction is achieved through abstract data types and encapsulation. abstract data types define data objects and operations without revealing internal details. Encapsulation groups related data and functions, hiding internal details and controlling data access for better management and reduced corruption risk.\"\"\""
   ]
  },
  {
   "cell_type": "code",
   "execution_count": 38,
   "id": "c780b939-1512-4afd-bf2b-9c03d341c93d",
   "metadata": {},
   "outputs": [],
   "source": [
    "class Stack:\n",
    "    def __init__(self):\n",
    "        self._data = []  # Using a list to store stack elements (private attribute)\n",
    "\n",
    "    def push(self, item):\n",
    "        self._data.append(item)\n",
    "\n",
    "    def pop(self):\n",
    "        if not self.isEmpty():\n",
    "            return self._data.pop()\n",
    "        else:\n",
    "            raise IndexError(\"Stack is empty. Cannot pop from an empty stack.\")\n",
    "\n",
    "    def isEmpty(self):\n",
    "        return len(self._data) == 0\n"
   ]
  },
  {
   "cell_type": "code",
   "execution_count": 39,
   "id": "986478f0-c652-4c47-a07d-78fd0c69b975",
   "metadata": {},
   "outputs": [],
   "source": [
    "if __name__ == \"__main__\":\n",
    "    stack = Stack()\n",
    "\n",
    "    stack.push(10)\n",
    "    stack.push(20)\n",
    "    stack.push(30)"
   ]
  },
  {
   "cell_type": "code",
   "execution_count": 40,
   "id": "bf4e0bf4-039f-4077-a85d-6c98e05e077d",
   "metadata": {},
   "outputs": [
    {
     "name": "stdout",
     "output_type": "stream",
     "text": [
      "Is the stack empty? False\n"
     ]
    }
   ],
   "source": [
    "print(\"Is the stack empty?\", stack.isEmpty())"
   ]
  },
  {
   "cell_type": "code",
   "execution_count": 41,
   "id": "75b928bf-c898-4b22-b959-1947730c6175",
   "metadata": {},
   "outputs": [],
   "source": [
    "popped_item = stack.pop()"
   ]
  },
  {
   "cell_type": "code",
   "execution_count": 42,
   "id": "40e94e9a-f29c-4c47-9702-6e20e448019f",
   "metadata": {},
   "outputs": [
    {
     "name": "stdout",
     "output_type": "stream",
     "text": [
      "Popped item: 30\n"
     ]
    }
   ],
   "source": [
    "print(\"Popped item:\", popped_item)"
   ]
  },
  {
   "cell_type": "code",
   "execution_count": 43,
   "id": "2086f29f-91a5-4ba9-822e-d3ab15d8b4a0",
   "metadata": {},
   "outputs": [
    {
     "name": "stdout",
     "output_type": "stream",
     "text": [
      "Is the stack empty? False\n"
     ]
    }
   ],
   "source": [
    "print(\"Is the stack empty?\", stack.isEmpty())"
   ]
  },
  {
   "cell_type": "code",
   "execution_count": 44,
   "id": "44aef249-975c-46d6-afda-9c8a87f92387",
   "metadata": {},
   "outputs": [
    {
     "data": {
      "text/plain": [
       "10"
      ]
     },
     "execution_count": 44,
     "metadata": {},
     "output_type": "execute_result"
    }
   ],
   "source": [
    "stack.pop()\n",
    "stack.pop()"
   ]
  },
  {
   "cell_type": "code",
   "execution_count": 45,
   "id": "adec0a68-495f-4cd3-939f-4944715311d0",
   "metadata": {},
   "outputs": [
    {
     "name": "stdout",
     "output_type": "stream",
     "text": [
      "Is the stack empty? True\n"
     ]
    }
   ],
   "source": [
    "print(\"Is the stack empty?\", stack.isEmpty())"
   ]
  },
  {
   "cell_type": "code",
   "execution_count": 46,
   "id": "77c0fed4-fd6e-4cb4-b23e-d9c4213c6f79",
   "metadata": {},
   "outputs": [],
   "source": [
    "#Q5. Can we create an instance of an abstract class? Explain your answer."
   ]
  },
  {
   "cell_type": "code",
   "execution_count": 47,
   "id": "4a887606-d55a-4fa3-bb1e-4ccb0d10dd18",
   "metadata": {},
   "outputs": [
    {
     "data": {
      "text/plain": [
       "'No, we cannot create an instance of an abstract class directly.'"
      ]
     },
     "execution_count": 47,
     "metadata": {},
     "output_type": "execute_result"
    }
   ],
   "source": [
    "\"\"\"No, we cannot create an instance of an abstract class directly.\"\"\""
   ]
  },
  {
   "cell_type": "code",
   "execution_count": 48,
   "id": "b1300704-646e-4cec-9db6-b37081f98f64",
   "metadata": {},
   "outputs": [],
   "source": [
    "from abc import ABC, abstractmethod\n",
    "\n",
    "class Shape(ABC):\n",
    "    @abstractmethod\n",
    "    def area(self):\n",
    "        pass\n",
    "\n",
    "class Circle(Shape):\n",
    "    def __init__(self, radius):\n",
    "        self.radius = radius\n",
    "\n",
    "    def area(self):\n",
    "        return 3.14 * self.radius * self.radius\n"
   ]
  },
  {
   "cell_type": "code",
   "execution_count": 49,
   "id": "81c0efa2-7af2-4226-95ac-098637a73a51",
   "metadata": {},
   "outputs": [],
   "source": [
    "# create an instance of the abstract class directly give you an erro\n",
    "# shape = Shape()  # This line would raise TypeError"
   ]
  },
  {
   "cell_type": "code",
   "execution_count": null,
   "id": "17e5b956-2131-4334-8ed5-ec294f8b988b",
   "metadata": {},
   "outputs": [],
   "source": [
    "# Create an instance of the concrete subclass"
   ]
  },
  {
   "cell_type": "code",
   "execution_count": null,
   "id": "4662a54c-1f33-4403-939f-3fe67739421f",
   "metadata": {},
   "outputs": [],
   "source": [
    "circle = Circle(5)\n",
    "print(circle.area())  # Output: 78.5"
   ]
  },
  {
   "cell_type": "code",
   "execution_count": null,
   "id": "00da6eb6-4905-48da-b170-2a93c0dbd410",
   "metadata": {},
   "outputs": [],
   "source": []
  },
  {
   "cell_type": "code",
   "execution_count": null,
   "id": "7dc7c259-cd20-4297-a41a-e5f03b877df0",
   "metadata": {},
   "outputs": [],
   "source": []
  }
 ],
 "metadata": {
  "kernelspec": {
   "display_name": "Python 3 (ipykernel)",
   "language": "python",
   "name": "python3"
  },
  "language_info": {
   "codemirror_mode": {
    "name": "ipython",
    "version": 3
   },
   "file_extension": ".py",
   "mimetype": "text/x-python",
   "name": "python",
   "nbconvert_exporter": "python",
   "pygments_lexer": "ipython3",
   "version": "3.10.8"
  }
 },
 "nbformat": 4,
 "nbformat_minor": 5
}
