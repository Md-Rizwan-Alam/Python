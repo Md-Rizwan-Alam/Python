{
 "cells": [
  {
   "cell_type": "code",
   "execution_count": 87,
   "id": "7fb822bc-ec77-47be-bb54-864e89ac15f7",
   "metadata": {},
   "outputs": [],
   "source": [
    "#Q1. How do you comment code in Python? What are the different types of comments?"
   ]
  },
  {
   "cell_type": "code",
   "execution_count": 113,
   "id": "5061abf4-8148-44ad-a183-65184e52139d",
   "metadata": {},
   "outputs": [],
   "source": [
    "#we use for single line comment"
   ]
  },
  {
   "cell_type": "code",
   "execution_count": 118,
   "id": "b5e3e8c7-7110-4423-b918-1a19c4ed7d1e",
   "metadata": {},
   "outputs": [],
   "source": [
    "##we can use it for single line comment as well"
   ]
  },
  {
   "cell_type": "code",
   "execution_count": 117,
   "id": "6ebd1052-93e0-4159-a9a2-97d8df571f0e",
   "metadata": {},
   "outputs": [
    {
     "data": {
      "text/plain": [
       "'This is use for multiple linle commment\\nexample we have more than 1 line\\nand we have to write all lines\\nin seprate line than\\nwe can use (start  end) and make it multiple line comments'"
      ]
     },
     "execution_count": 117,
     "metadata": {},
     "output_type": "execute_result"
    }
   ],
   "source": [
    "\"\"\"This is use for multiple linle commment\n",
    "example we have more than 1 line\n",
    "and we have to write all lines\n",
    "in seprate line than\n",
    "we can use (start \"\"\"  \"\"\" end) and make it multiple line comments\"\"\""
   ]
  },
  {
   "cell_type": "code",
   "execution_count": null,
   "id": "40ed11a8-479d-409e-a800-e0a073e11368",
   "metadata": {},
   "outputs": [],
   "source": [
    "#There are two type of comment single line and "
   ]
  },
  {
   "cell_type": "code",
   "execution_count": 88,
   "id": "080b653e-ad59-4f82-b832-d12303039d22",
   "metadata": {},
   "outputs": [],
   "source": [
    "#Q2. What are variables in Python? How do you declare and assign values to variables?"
   ]
  },
  {
   "cell_type": "code",
   "execution_count": 89,
   "id": "9fb324ed-8594-4182-92a0-3752efc44432",
   "metadata": {},
   "outputs": [],
   "source": [
    "#varible is type of data which indicate the type of data. with type of (a= variable). example:"
   ]
  },
  {
   "cell_type": "code",
   "execution_count": 1,
   "id": "810e728e-058f-4ac1-a45b-aa4cb02ab610",
   "metadata": {},
   "outputs": [],
   "source": [
    "a = 1"
   ]
  },
  {
   "cell_type": "code",
   "execution_count": 2,
   "id": "c3c470e7-bbad-4e21-b888-07a811928e23",
   "metadata": {},
   "outputs": [
    {
     "data": {
      "text/plain": [
       "int"
      ]
     },
     "execution_count": 2,
     "metadata": {},
     "output_type": "execute_result"
    }
   ],
   "source": [
    "type(a)"
   ]
  },
  {
   "cell_type": "code",
   "execution_count": 3,
   "id": "8fb2753c-88f8-4a91-bd1a-85b83940e4be",
   "metadata": {},
   "outputs": [],
   "source": [
    "b=('rizwan')"
   ]
  },
  {
   "cell_type": "code",
   "execution_count": 4,
   "id": "f4900498-eb2f-4eb5-8213-9ba1ac376e67",
   "metadata": {},
   "outputs": [
    {
     "data": {
      "text/plain": [
       "str"
      ]
     },
     "execution_count": 4,
     "metadata": {},
     "output_type": "execute_result"
    }
   ],
   "source": [
    "type(b)"
   ]
  },
  {
   "cell_type": "code",
   "execution_count": 5,
   "id": "4bc7059f-298f-4b25-9883-a94b3941b359",
   "metadata": {},
   "outputs": [],
   "source": [
    "c= 2.3"
   ]
  },
  {
   "cell_type": "code",
   "execution_count": 6,
   "id": "f30afc02-aa2c-4772-9732-894408570ea7",
   "metadata": {},
   "outputs": [
    {
     "data": {
      "text/plain": [
       "float"
      ]
     },
     "execution_count": 6,
     "metadata": {},
     "output_type": "execute_result"
    }
   ],
   "source": [
    "type(c)"
   ]
  },
  {
   "cell_type": "code",
   "execution_count": 7,
   "id": "0b1c7cfb-1cc1-42b3-b4b3-6ea9402bdde7",
   "metadata": {},
   "outputs": [],
   "source": [
    "d= True"
   ]
  },
  {
   "cell_type": "code",
   "execution_count": 8,
   "id": "29f1bf95-fe52-4a1a-a202-904100d8baee",
   "metadata": {},
   "outputs": [
    {
     "data": {
      "text/plain": [
       "bool"
      ]
     },
     "execution_count": 8,
     "metadata": {},
     "output_type": "execute_result"
    }
   ],
   "source": [
    "type(d)"
   ]
  },
  {
   "cell_type": "code",
   "execution_count": 9,
   "id": "d9b98d33-8e39-4421-8868-1b7a187ee367",
   "metadata": {},
   "outputs": [],
   "source": [
    "e=[1,2,3,'riz',True,2.5,(1,2,3,4)]"
   ]
  },
  {
   "cell_type": "code",
   "execution_count": 10,
   "id": "29b93e3a-5f8b-4623-a336-af2b08945c9e",
   "metadata": {},
   "outputs": [
    {
     "data": {
      "text/plain": [
       "list"
      ]
     },
     "execution_count": 10,
     "metadata": {},
     "output_type": "execute_result"
    }
   ],
   "source": [
    "type(e)"
   ]
  },
  {
   "cell_type": "code",
   "execution_count": 11,
   "id": "b173d4dd-122c-4a22-9c12-8bb560f842cc",
   "metadata": {},
   "outputs": [],
   "source": [
    "d=(1,2,3,4,5)"
   ]
  },
  {
   "cell_type": "code",
   "execution_count": 12,
   "id": "3e86bad9-5d51-4548-b306-148cac69b0c2",
   "metadata": {},
   "outputs": [
    {
     "data": {
      "text/plain": [
       "tuple"
      ]
     },
     "execution_count": 12,
     "metadata": {},
     "output_type": "execute_result"
    }
   ],
   "source": [
    "type(d)"
   ]
  },
  {
   "cell_type": "code",
   "execution_count": 90,
   "id": "4f08af6f-088d-49b0-8787-fd8dba5b60b7",
   "metadata": {},
   "outputs": [],
   "source": [
    "#Q3. How do you convert one data type to another in Python?"
   ]
  },
  {
   "cell_type": "code",
   "execution_count": 108,
   "id": "31f22771-9158-486b-aa5a-07305e9a5de1",
   "metadata": {},
   "outputs": [],
   "source": [
    "a=[1,2,3,4,5,6,7]"
   ]
  },
  {
   "cell_type": "code",
   "execution_count": 109,
   "id": "542fa3f1-6f06-4cb5-a350-b601ffab7b8e",
   "metadata": {},
   "outputs": [
    {
     "data": {
      "text/plain": [
       "list"
      ]
     },
     "execution_count": 109,
     "metadata": {},
     "output_type": "execute_result"
    }
   ],
   "source": [
    "type(a)"
   ]
  },
  {
   "cell_type": "code",
   "execution_count": 110,
   "id": "f559feca-dac6-4c8b-ae8c-9047b6363e3c",
   "metadata": {},
   "outputs": [],
   "source": [
    "a=tuple(a)"
   ]
  },
  {
   "cell_type": "code",
   "execution_count": 111,
   "id": "77a7424f-6692-4ee2-8d14-d0fc532f0f4c",
   "metadata": {},
   "outputs": [
    {
     "data": {
      "text/plain": [
       "tuple"
      ]
     },
     "execution_count": 111,
     "metadata": {},
     "output_type": "execute_result"
    }
   ],
   "source": [
    "type(a)"
   ]
  },
  {
   "cell_type": "code",
   "execution_count": null,
   "id": "3296437e-17bb-487f-a6d0-00b3e98a079c",
   "metadata": {},
   "outputs": [],
   "source": [
    "a=set(a)"
   ]
  },
  {
   "cell_type": "code",
   "execution_count": 112,
   "id": "c4658239-4821-46c4-b806-6078aaf5db5f",
   "metadata": {},
   "outputs": [
    {
     "data": {
      "text/plain": [
       "tuple"
      ]
     },
     "execution_count": 112,
     "metadata": {},
     "output_type": "execute_result"
    }
   ],
   "source": [
    "type(a)"
   ]
  },
  {
   "cell_type": "code",
   "execution_count": 91,
   "id": "aa8c84fc-8e7c-4f60-82a9-4896feccb030",
   "metadata": {},
   "outputs": [],
   "source": [
    "#Q4. How do you write and execute a Python script from the command line?"
   ]
  },
  {
   "cell_type": "code",
   "execution_count": 103,
   "id": "f6bc0024-35a7-42ff-b872-bbbff49cfce5",
   "metadata": {},
   "outputs": [
    {
     "data": {
      "text/plain": [
       "<function str.strip(chars=None, /)>"
      ]
     },
     "execution_count": 103,
     "metadata": {},
     "output_type": "execute_result"
    }
   ],
   "source": [
    "a.strip"
   ]
  },
  {
   "cell_type": "code",
   "execution_count": 92,
   "id": "df77868b-9d80-4227-bb1d-ae2b7e8aae2d",
   "metadata": {},
   "outputs": [],
   "source": [
    "#Q5. Given a list my_list = [1, 2, 3, 4, 5], write the code to slice the list and obtain the sub-list [2, 3]."
   ]
  },
  {
   "cell_type": "code",
   "execution_count": 22,
   "id": "57b7bb0b-6e2b-47e3-a116-4e4ff2232f79",
   "metadata": {},
   "outputs": [],
   "source": [
    "my_list=[1,2,3,4,5]"
   ]
  },
  {
   "cell_type": "code",
   "execution_count": 24,
   "id": "eec4bca5-264f-4c38-9f90-ab55a2e12744",
   "metadata": {},
   "outputs": [],
   "source": [
    "my_list1= my_list[1:3:1]"
   ]
  },
  {
   "cell_type": "code",
   "execution_count": 25,
   "id": "70fe8f64-2578-4d0b-9547-1269724dddec",
   "metadata": {},
   "outputs": [
    {
     "data": {
      "text/plain": [
       "[1, 2, 3, 4, 5]"
      ]
     },
     "execution_count": 25,
     "metadata": {},
     "output_type": "execute_result"
    }
   ],
   "source": [
    "my_list"
   ]
  },
  {
   "cell_type": "code",
   "execution_count": 26,
   "id": "1525a637-3bab-4b05-ab87-1b9d8d98c3f6",
   "metadata": {},
   "outputs": [
    {
     "data": {
      "text/plain": [
       "[2, 3]"
      ]
     },
     "execution_count": 26,
     "metadata": {},
     "output_type": "execute_result"
    }
   ],
   "source": [
    "my_list1"
   ]
  },
  {
   "cell_type": "code",
   "execution_count": 93,
   "id": "65606b33-186f-47e6-a4b7-040c75119667",
   "metadata": {
    "tags": []
   },
   "outputs": [],
   "source": [
    "#Q6. What is a complex number in mathematics, and how is it represented in Python?"
   ]
  },
  {
   "cell_type": "code",
   "execution_count": 27,
   "id": "47d40b0c-4037-462a-bb0a-8b6e278b9cbe",
   "metadata": {},
   "outputs": [],
   "source": [
    "a = 5+6j"
   ]
  },
  {
   "cell_type": "code",
   "execution_count": 28,
   "id": "04eb9025-1ea3-4081-ab4b-c609b3f9129a",
   "metadata": {},
   "outputs": [
    {
     "data": {
      "text/plain": [
       "complex"
      ]
     },
     "execution_count": 28,
     "metadata": {},
     "output_type": "execute_result"
    }
   ],
   "source": [
    "type(a)"
   ]
  },
  {
   "cell_type": "code",
   "execution_count": 29,
   "id": "91358e75-72d0-410f-a825-a5ed663d4cd1",
   "metadata": {},
   "outputs": [],
   "source": [
    "#complex number represent the real and imagnary nuumber"
   ]
  },
  {
   "cell_type": "code",
   "execution_count": 31,
   "id": "962ed4d1-07df-4b82-b557-2c946318999b",
   "metadata": {},
   "outputs": [
    {
     "data": {
      "text/plain": [
       "5.0"
      ]
     },
     "execution_count": 31,
     "metadata": {},
     "output_type": "execute_result"
    }
   ],
   "source": [
    "a.real"
   ]
  },
  {
   "cell_type": "code",
   "execution_count": 32,
   "id": "766d3fa7-82ec-4944-8aff-77468dab1902",
   "metadata": {},
   "outputs": [
    {
     "data": {
      "text/plain": [
       "6.0"
      ]
     },
     "execution_count": 32,
     "metadata": {},
     "output_type": "execute_result"
    }
   ],
   "source": [
    "a.imag"
   ]
  },
  {
   "cell_type": "code",
   "execution_count": 33,
   "id": "8eb34993-0ed9-4445-aec6-25c4d628cbc8",
   "metadata": {},
   "outputs": [
    {
     "data": {
      "text/plain": [
       "float"
      ]
     },
     "execution_count": 33,
     "metadata": {},
     "output_type": "execute_result"
    }
   ],
   "source": [
    "type(a.real)"
   ]
  },
  {
   "cell_type": "code",
   "execution_count": 34,
   "id": "789a2b1b-d91d-4a38-ad45-92c3debfe6f6",
   "metadata": {},
   "outputs": [
    {
     "data": {
      "text/plain": [
       "float"
      ]
     },
     "execution_count": 34,
     "metadata": {},
     "output_type": "execute_result"
    }
   ],
   "source": [
    "type(a.imag)"
   ]
  },
  {
   "cell_type": "code",
   "execution_count": 94,
   "id": "5929feca-097f-4f07-889a-91e0c432a37a",
   "metadata": {},
   "outputs": [],
   "source": [
    "#Q7. What is the correct way to declare a variable named age and assign the value 25 to it?"
   ]
  },
  {
   "cell_type": "code",
   "execution_count": 41,
   "id": "21c8eea8-e08b-4b4f-871d-ca934e1dcb53",
   "metadata": {},
   "outputs": [],
   "source": [
    "age=25"
   ]
  },
  {
   "cell_type": "code",
   "execution_count": 42,
   "id": "e78c41fb-75a5-4991-8598-3df4a9139a6f",
   "metadata": {},
   "outputs": [
    {
     "data": {
      "text/plain": [
       "int"
      ]
     },
     "execution_count": 42,
     "metadata": {},
     "output_type": "execute_result"
    }
   ],
   "source": [
    "type(age)"
   ]
  },
  {
   "cell_type": "code",
   "execution_count": 43,
   "id": "f38852c7-c6a3-4545-b6be-4101b1ffda37",
   "metadata": {},
   "outputs": [
    {
     "data": {
      "text/plain": [
       "25"
      ]
     },
     "execution_count": 43,
     "metadata": {},
     "output_type": "execute_result"
    }
   ],
   "source": [
    "age"
   ]
  },
  {
   "cell_type": "code",
   "execution_count": 95,
   "id": "ebf9435a-ef52-42b4-b521-c6286c07a0ed",
   "metadata": {},
   "outputs": [],
   "source": [
    "#Q8. Declare a variable named price and assign the value 9.99 to it. What data type does this variablebelong to?"
   ]
  },
  {
   "cell_type": "code",
   "execution_count": 44,
   "id": "7e2d918b-ecee-44ab-8945-b8eee1f2166a",
   "metadata": {},
   "outputs": [],
   "source": [
    "price=9.99"
   ]
  },
  {
   "cell_type": "code",
   "execution_count": 45,
   "id": "c8b28398-526e-4fb0-af48-cad449b3ba12",
   "metadata": {},
   "outputs": [
    {
     "data": {
      "text/plain": [
       "float"
      ]
     },
     "execution_count": 45,
     "metadata": {},
     "output_type": "execute_result"
    }
   ],
   "source": [
    "type(price)"
   ]
  },
  {
   "cell_type": "code",
   "execution_count": 96,
   "id": "eb6d7061-73a8-4b78-af64-56d247a362e0",
   "metadata": {},
   "outputs": [],
   "source": [
    "#Q9. Create a variable named name and assign your full name to it as a string. How would you print thevalue of this variable?"
   ]
  },
  {
   "cell_type": "code",
   "execution_count": 55,
   "id": "f5609daa-dbc5-4616-88d7-950b956a1b00",
   "metadata": {},
   "outputs": [],
   "source": [
    "name=\"Md Rizwan Alam\""
   ]
  },
  {
   "cell_type": "code",
   "execution_count": 56,
   "id": "73071f85-afb2-496b-b78e-28938ae1400e",
   "metadata": {},
   "outputs": [
    {
     "data": {
      "text/plain": [
       "str"
      ]
     },
     "execution_count": 56,
     "metadata": {},
     "output_type": "execute_result"
    }
   ],
   "source": [
    "type(name)"
   ]
  },
  {
   "cell_type": "code",
   "execution_count": 63,
   "id": "8b783cd1-6fa5-4d49-b55f-c6821a1cc1fd",
   "metadata": {},
   "outputs": [
    {
     "name": "stdout",
     "output_type": "stream",
     "text": [
      "Md Rizwan Alam\n"
     ]
    }
   ],
   "source": [
    "print('Md Rizwan Alam')"
   ]
  },
  {
   "cell_type": "code",
   "execution_count": 64,
   "id": "4dbb8b29-b4a7-4c55-8f02-2cfdcc976d00",
   "metadata": {},
   "outputs": [
    {
     "data": {
      "text/plain": [
       "str"
      ]
     },
     "execution_count": 64,
     "metadata": {},
     "output_type": "execute_result"
    }
   ],
   "source": [
    "type('Md Rizwan Alam')"
   ]
  },
  {
   "cell_type": "code",
   "execution_count": 101,
   "id": "2a7bc9c4-4f97-4f8a-8e86-2012ce1cf7b4",
   "metadata": {},
   "outputs": [
    {
     "name": "stdout",
     "output_type": "stream",
     "text": [
      "Rizwn\n"
     ]
    }
   ],
   "source": [
    "name='Rizwn'\n",
    "print(name)"
   ]
  },
  {
   "cell_type": "code",
   "execution_count": 102,
   "id": "573f0323-cac8-4ddd-9499-f9efe80aa2a2",
   "metadata": {},
   "outputs": [
    {
     "data": {
      "text/plain": [
       "str"
      ]
     },
     "execution_count": 102,
     "metadata": {},
     "output_type": "execute_result"
    }
   ],
   "source": [
    "type(name)"
   ]
  },
  {
   "cell_type": "code",
   "execution_count": 97,
   "id": "b30ed189-ed0c-4651-a27f-4d88a036a73b",
   "metadata": {},
   "outputs": [],
   "source": [
    "#Q10. Given the string \"Hello, World!\", extract the substring \"World\"."
   ]
  },
  {
   "cell_type": "code",
   "execution_count": 58,
   "id": "bfbce883-029f-41a0-b943-b9d4823cac1e",
   "metadata": {},
   "outputs": [],
   "source": [
    "a=\"Hello World!\""
   ]
  },
  {
   "cell_type": "code",
   "execution_count": 72,
   "id": "36800a4d-e383-4bd4-b169-6d5576e1707f",
   "metadata": {},
   "outputs": [
    {
     "data": {
      "text/plain": [
       "'World'"
      ]
     },
     "execution_count": 72,
     "metadata": {},
     "output_type": "execute_result"
    }
   ],
   "source": [
    "a[6:11]"
   ]
  },
  {
   "cell_type": "code",
   "execution_count": 73,
   "id": "d1710b99-b2ed-4ad2-a06e-29a3881e66ec",
   "metadata": {},
   "outputs": [
    {
     "data": {
      "text/plain": [
       "'World'"
      ]
     },
     "execution_count": 73,
     "metadata": {},
     "output_type": "execute_result"
    }
   ],
   "source": [
    "a[-6:-1]"
   ]
  },
  {
   "cell_type": "code",
   "execution_count": 98,
   "id": "260e3da1-b23c-48e5-bed4-e43441f8cd5c",
   "metadata": {},
   "outputs": [],
   "source": [
    "#Q11. Create a variable named \"is_student\" and assign it a boolean value indicating whether you arecurrently a student or not."
   ]
  },
  {
   "cell_type": "code",
   "execution_count": 84,
   "id": "2c47cb79-cc77-4f2d-911e-89876ab2dc5e",
   "metadata": {},
   "outputs": [
    {
     "name": "stdin",
     "output_type": "stream",
     "text": [
      "enter your age 22\n"
     ]
    },
    {
     "name": "stdout",
     "output_type": "stream",
     "text": [
      "True\n"
     ]
    }
   ],
   "source": [
    "is_student = bool(input('enter your age'))\n",
    "if age > 40:\n",
    "    print('I am not a student')\n",
    "else:\n",
    "    print(True)\n",
    "if age >25:\n",
    "    print('I am a student')\n",
    "elif age<20 :\n",
    "    print(True)\n",
    "elif age <25:\n",
    "    print(True)"
   ]
  },
  {
   "cell_type": "code",
   "execution_count": 100,
   "id": "0081c880-1988-4b6c-940f-f3921ec9ee04",
   "metadata": {},
   "outputs": [
    {
     "name": "stdout",
     "output_type": "stream",
     "text": [
      "False\n"
     ]
    }
   ],
   "source": [
    "is_student=False\n",
    "print(is_student)"
   ]
  }
 ],
 "metadata": {
  "kernelspec": {
   "display_name": "Python 3 (ipykernel)",
   "language": "python",
   "name": "python3"
  },
  "language_info": {
   "codemirror_mode": {
    "name": "ipython",
    "version": 3
   },
   "file_extension": ".py",
   "mimetype": "text/x-python",
   "name": "python",
   "nbconvert_exporter": "python",
   "pygments_lexer": "ipython3",
   "version": "3.10.8"
  }
 },
 "nbformat": 4,
 "nbformat_minor": 5
}
