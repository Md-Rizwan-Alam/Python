{
 "cells": [
  {
   "cell_type": "code",
   "execution_count": 18,
   "id": "77186e3d-2ecb-4f45-b066-8ab5053b3211",
   "metadata": {},
   "outputs": [],
   "source": [
    "f = open(\"test.txt\" , 'w')"
   ]
  },
  {
   "cell_type": "code",
   "execution_count": 19,
   "id": "407866aa-9931-4951-a96f-5092b7de6342",
   "metadata": {},
   "outputs": [
    {
     "data": {
      "text/plain": [
       "'/home/jovyan/work'"
      ]
     },
     "execution_count": 19,
     "metadata": {},
     "output_type": "execute_result"
    }
   ],
   "source": [
    "pwd"
   ]
  },
  {
   "cell_type": "code",
   "execution_count": 20,
   "id": "1a88006d-c7e3-470f-abf4-00fcd6335861",
   "metadata": {},
   "outputs": [
    {
     "name": "stdout",
     "output_type": "stream",
     "text": [
      " README.md   sample-code.ipynb   test.txt  'Working With Files.ipynb'\n"
     ]
    }
   ],
   "source": [
    "ls"
   ]
  },
  {
   "cell_type": "code",
   "execution_count": 21,
   "id": "c4ecf43b-3aa8-4e88-a2d0-aa608660b6e9",
   "metadata": {},
   "outputs": [
    {
     "name": "stdout",
     "output_type": "stream",
     "text": [
      "[Errno 2] No such file or directory: 'work'\n",
      "/home/jovyan/work\n"
     ]
    }
   ],
   "source": [
    "cd work"
   ]
  },
  {
   "cell_type": "code",
   "execution_count": 22,
   "id": "0cbd31a0-9d8f-473f-ab14-4fce7d6a64ba",
   "metadata": {},
   "outputs": [
    {
     "data": {
      "text/plain": [
       "21"
      ]
     },
     "execution_count": 22,
     "metadata": {},
     "output_type": "execute_result"
    }
   ],
   "source": [
    "f.write(\"this is my first file\")"
   ]
  },
  {
   "cell_type": "code",
   "execution_count": 23,
   "id": "e950a01f-e8f0-4745-8053-55d589b4aedd",
   "metadata": {},
   "outputs": [],
   "source": [
    "f.close()"
   ]
  },
  {
   "cell_type": "code",
   "execution_count": 24,
   "id": "fa612c57-a2ba-4c14-95ab-ac46e5923d4c",
   "metadata": {},
   "outputs": [],
   "source": [
    "f = open(\"test.txt\" , 'w')"
   ]
  },
  {
   "cell_type": "code",
   "execution_count": 25,
   "id": "53991a16-e170-4622-9d70-3a30b6a00308",
   "metadata": {},
   "outputs": [
    {
     "data": {
      "text/plain": [
       "15"
      ]
     },
     "execution_count": 25,
     "metadata": {},
     "output_type": "execute_result"
    }
   ],
   "source": [
    "f.write(\"this is my file\")"
   ]
  },
  {
   "cell_type": "code",
   "execution_count": 26,
   "id": "11d3b471-7e39-419e-b12b-38be77e4e645",
   "metadata": {},
   "outputs": [],
   "source": [
    "f.close()"
   ]
  },
  {
   "cell_type": "code",
   "execution_count": 27,
   "id": "73d70c4d-24c3-4561-bc4d-ec57cfe61789",
   "metadata": {},
   "outputs": [],
   "source": [
    "f = open(\"test.txt\" , 'a')"
   ]
  },
  {
   "cell_type": "code",
   "execution_count": 29,
   "id": "01350a70-f5ae-401b-99e2-afe33efd67ca",
   "metadata": {},
   "outputs": [
    {
     "data": {
      "text/plain": [
       "189"
      ]
     },
     "execution_count": 29,
     "metadata": {},
     "output_type": "execute_result"
    }
   ],
   "source": [
    "f.write(\"However, Salman schooled Elvish for making derogatory comments about Bebika Dhurv It began after Salman asked Abhishek Malhanabout asking Elvish to apologize after the host tried to explain\")"
   ]
  },
  {
   "cell_type": "code",
   "execution_count": 30,
   "id": "a5e6cb25-ee7c-4c16-9253-277e4653bca6",
   "metadata": {},
   "outputs": [],
   "source": [
    "f.close()"
   ]
  },
  {
   "cell_type": "code",
   "execution_count": 31,
   "id": "31a4fcc4-9af0-4508-9c82-277d8e9c1e9a",
   "metadata": {},
   "outputs": [],
   "source": [
    "f = open(\"test.txt\" , 'r')"
   ]
  },
  {
   "cell_type": "code",
   "execution_count": 32,
   "id": "57e9b3ea-0e46-4309-9425-6f6366abfd66",
   "metadata": {},
   "outputs": [
    {
     "data": {
      "text/plain": [
       "'this is my fileHowever, Salman schooled Elvish for making derogatory comments about Bebika Dhurv It began after Salman asked Abhishek Malhanabout asking Elvish to apologize after the host tried to explain'"
      ]
     },
     "execution_count": 32,
     "metadata": {},
     "output_type": "execute_result"
    }
   ],
   "source": [
    "f.read()"
   ]
  },
  {
   "cell_type": "code",
   "execution_count": 33,
   "id": "5a570225-d3b4-4b0d-874b-b83fdb620598",
   "metadata": {},
   "outputs": [],
   "source": [
    "data = open(\"test.txt\" , 'r')"
   ]
  },
  {
   "cell_type": "code",
   "execution_count": 34,
   "id": "68001620-20c7-4377-bdc7-d759cfcb0a24",
   "metadata": {},
   "outputs": [
    {
     "data": {
      "text/plain": [
       "'this is my fileHowever, Salman schooled Elvish for making derogatory comments about Bebika Dhurv It began after Salman asked Abhishek Malhanabout asking Elvish to apologize after the host tried to explain'"
      ]
     },
     "execution_count": 34,
     "metadata": {},
     "output_type": "execute_result"
    }
   ],
   "source": [
    "data.read()"
   ]
  },
  {
   "cell_type": "code",
   "execution_count": 35,
   "id": "ab0a08ad-0d62-4df7-8c52-0853c9b531d3",
   "metadata": {},
   "outputs": [
    {
     "data": {
      "text/plain": [
       "[]"
      ]
     },
     "execution_count": 35,
     "metadata": {},
     "output_type": "execute_result"
    }
   ],
   "source": [
    "data.readlines()"
   ]
  },
  {
   "cell_type": "code",
   "execution_count": 36,
   "id": "a959acb1-d876-4b44-bc06-3ddba0dd81dd",
   "metadata": {},
   "outputs": [
    {
     "data": {
      "text/plain": [
       "0"
      ]
     },
     "execution_count": 36,
     "metadata": {},
     "output_type": "execute_result"
    }
   ],
   "source": [
    "data.seek(0)"
   ]
  },
  {
   "cell_type": "code",
   "execution_count": 37,
   "id": "49106ec6-7a9a-4cb7-ad01-201fefb55aec",
   "metadata": {},
   "outputs": [
    {
     "data": {
      "text/plain": [
       "'this is my fileHowever, Salman schooled Elvish for making derogatory comments about Bebika Dhurv It began after Salman asked Abhishek Malhanabout asking Elvish to apologize after the host tried to explain'"
      ]
     },
     "execution_count": 37,
     "metadata": {},
     "output_type": "execute_result"
    }
   ],
   "source": [
    "data.readline()"
   ]
  },
  {
   "cell_type": "code",
   "execution_count": 38,
   "id": "62bbe121-a9ce-4537-89f8-bef1f7d0f697",
   "metadata": {},
   "outputs": [],
   "source": [
    "data1 = open(\"test.txt\" , 'r')"
   ]
  },
  {
   "cell_type": "code",
   "execution_count": 39,
   "id": "ad8d582f-b65d-4445-b4eb-d0505a63754f",
   "metadata": {},
   "outputs": [
    {
     "name": "stdout",
     "output_type": "stream",
     "text": [
      "this is my fileHowever, Salman schooled Elvish for making derogatory comments about Bebika Dhurv It began after Salman asked Abhishek Malhanabout asking Elvish to apologize after the host tried to explain\n"
     ]
    }
   ],
   "source": [
    "for i in data1:\n",
    "    print(i)"
   ]
  },
  {
   "cell_type": "code",
   "execution_count": 40,
   "id": "65ddc429-ba5e-4f9c-8e14-29cd2aede66d",
   "metadata": {},
   "outputs": [],
   "source": [
    "import os"
   ]
  },
  {
   "cell_type": "code",
   "execution_count": 41,
   "id": "6444e31e-b850-4bed-8caf-b93a0c287333",
   "metadata": {},
   "outputs": [
    {
     "data": {
      "text/plain": [
       "204"
      ]
     },
     "execution_count": 41,
     "metadata": {},
     "output_type": "execute_result"
    }
   ],
   "source": [
    "os.path.getsize(\"test.txt\")"
   ]
  },
  {
   "cell_type": "code",
   "execution_count": 42,
   "id": "c976cdb3-7836-4b41-b53e-dc5c8697696f",
   "metadata": {},
   "outputs": [],
   "source": [
    "os.remove(\"test.txt\")"
   ]
  },
  {
   "cell_type": "code",
   "execution_count": 43,
   "id": "a815554f-1003-46fb-8343-536d22cccd99",
   "metadata": {},
   "outputs": [
    {
     "data": {
      "text/plain": [
       "''"
      ]
     },
     "execution_count": 43,
     "metadata": {},
     "output_type": "execute_result"
    }
   ],
   "source": [
    "data.read()"
   ]
  },
  {
   "cell_type": "code",
   "execution_count": 44,
   "id": "3d35d11f-82f2-40ab-acec-bc0f88c143cf",
   "metadata": {},
   "outputs": [],
   "source": [
    "f = open(\"tets1.txt\" , 'w')"
   ]
  },
  {
   "cell_type": "code",
   "execution_count": 45,
   "id": "2df956a5-9ce1-4967-a50a-d034b26b0376",
   "metadata": {},
   "outputs": [
    {
     "data": {
      "text/plain": [
       "189"
      ]
     },
     "execution_count": 45,
     "metadata": {},
     "output_type": "execute_result"
    }
   ],
   "source": [
    "f.write(\"However, Salman schooled Elvish for making derogatory comments about Bebika Dhurv It began after Salman asked Abhishek Malhanabout asking Elvish to apologize after the host tried to explain\")"
   ]
  },
  {
   "cell_type": "code",
   "execution_count": 46,
   "id": "c85fbf0b-bf1d-4266-a53a-53191b1a9df7",
   "metadata": {},
   "outputs": [],
   "source": [
    "f.close() "
   ]
  },
  {
   "cell_type": "code",
   "execution_count": 50,
   "id": "1b27ce1e-5cb2-4867-ab1b-79c9ec854dec",
   "metadata": {},
   "outputs": [],
   "source": [
    "os.rename(\"tets1.txt\" , \"new.txt\")"
   ]
  },
  {
   "cell_type": "code",
   "execution_count": 51,
   "id": "d9c94af1-49f5-44f0-b615-432ad6e0803a",
   "metadata": {},
   "outputs": [],
   "source": [
    "import shutil"
   ]
  },
  {
   "cell_type": "code",
   "execution_count": 52,
   "id": "8f73414d-a317-4d61-8073-39703fce8f1e",
   "metadata": {},
   "outputs": [
    {
     "data": {
      "text/plain": [
       "'copy_new.txt'"
      ]
     },
     "execution_count": 52,
     "metadata": {},
     "output_type": "execute_result"
    }
   ],
   "source": [
    "shutil.copy(\"new.txt\" , \"copy_new.txt\")"
   ]
  },
  {
   "cell_type": "code",
   "execution_count": 53,
   "id": "b735f1a2-624c-43e0-b9cf-600c8b3bacb5",
   "metadata": {},
   "outputs": [
    {
     "name": "stdout",
     "output_type": "stream",
     "text": [
      "However, Salman schooled Elvish for making derogatory comments about Bebika Dhurv It began after Salman asked Abhishek Malhanabout asking Elvish to apologize after the host tried to explain\n"
     ]
    }
   ],
   "source": [
    "with open(\"new.txt\" , \"r\") as f:\n",
    "    print(f.read())"
   ]
  }
 ],
 "metadata": {
  "kernelspec": {
   "display_name": "Python 3 (ipykernel)",
   "language": "python",
   "name": "python3"
  },
  "language_info": {
   "codemirror_mode": {
    "name": "ipython",
    "version": 3
   },
   "file_extension": ".py",
   "mimetype": "text/x-python",
   "name": "python",
   "nbconvert_exporter": "python",
   "pygments_lexer": "ipython3",
   "version": "3.10.8"
  }
 },
 "nbformat": 4,
 "nbformat_minor": 5
}
