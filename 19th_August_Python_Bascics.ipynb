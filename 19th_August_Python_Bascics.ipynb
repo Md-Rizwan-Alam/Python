{
 "cells": [
  {
   "cell_type": "code",
   "execution_count": 24,
   "id": "ec8022b4-98a8-4b22-8fb7-d75660b37430",
   "metadata": {},
   "outputs": [],
   "source": [
    "#TOPIC: Python Basics Variable"
   ]
  },
  {
   "cell_type": "code",
   "execution_count": 26,
   "id": "af06d978-dea0-4b6b-ae58-e13fb7ab519b",
   "metadata": {},
   "outputs": [
    {
     "data": {
      "text/plain": [
       "'1. Declare two variables, `x` and `y`, and assign them integer values.\\nSwap the values of these variables without using any temporary\\nvariable.'"
      ]
     },
     "execution_count": 26,
     "metadata": {},
     "output_type": "execute_result"
    }
   ],
   "source": [
    "\"\"\"1. Declare two variables, `x` and `y`, and assign them integer values.\n",
    "Swap the values of these variables without using any temporary\n",
    "variable.\"\"\""
   ]
  },
  {
   "cell_type": "code",
   "execution_count": 35,
   "id": "522a3dfa-a681-44aa-9040-c1ea7edbe24a",
   "metadata": {},
   "outputs": [],
   "source": [
    "x = 2324"
   ]
  },
  {
   "cell_type": "code",
   "execution_count": 36,
   "id": "5f97bcd7-108f-4b4c-be84-e2099490141e",
   "metadata": {},
   "outputs": [],
   "source": [
    "y = 897"
   ]
  },
  {
   "cell_type": "code",
   "execution_count": 37,
   "id": "28ee1882-f061-4ebe-8e57-a5320b67befd",
   "metadata": {},
   "outputs": [],
   "source": [
    "x = x + y"
   ]
  },
  {
   "cell_type": "code",
   "execution_count": 38,
   "id": "68ec4f9b-9aae-448d-ba33-ddaff6a5ec5c",
   "metadata": {},
   "outputs": [],
   "source": [
    "y = x - y"
   ]
  },
  {
   "cell_type": "code",
   "execution_count": 39,
   "id": "9659c6d7-c357-4e59-86e5-c87fb31c19c8",
   "metadata": {},
   "outputs": [],
   "source": [
    "x = x - y"
   ]
  },
  {
   "cell_type": "code",
   "execution_count": 40,
   "id": "20148608-920c-41ac-85b9-9aab05eef099",
   "metadata": {},
   "outputs": [
    {
     "name": "stdout",
     "output_type": "stream",
     "text": [
      "After swapping:\n",
      "x = 897\n",
      "y = 2324\n"
     ]
    }
   ],
   "source": [
    "print(\"After swapping:\")\n",
    "print(\"x =\", x)\n",
    "print(\"y =\", y)"
   ]
  },
  {
   "cell_type": "code",
   "execution_count": null,
   "id": "471dea8c-0e81-40b9-89fd-35e573ed97ec",
   "metadata": {},
   "outputs": [],
   "source": []
  },
  {
   "cell_type": "code",
   "execution_count": 41,
   "id": "4d68f5d5-8b5a-4126-a086-f6d7cc24f38b",
   "metadata": {},
   "outputs": [
    {
     "data": {
      "text/plain": [
       "'2. Create a program that calculates the area of a rectangle. Take the\\nlength and width as inputs from the user and store them in variables.\\nCalculate and display the area.'"
      ]
     },
     "execution_count": 41,
     "metadata": {},
     "output_type": "execute_result"
    }
   ],
   "source": [
    "\"\"\"2. Create a program that calculates the area of a rectangle. Take the\n",
    "length and width as inputs from the user and store them in variables.\n",
    "Calculate and display the area.\"\"\""
   ]
  },
  {
   "cell_type": "code",
   "execution_count": 44,
   "id": "ff186ab9-d6e9-4817-97d9-294b2d2461ca",
   "metadata": {},
   "outputs": [
    {
     "name": "stdin",
     "output_type": "stream",
     "text": [
      "Enter the length of the rectangle:  50\n",
      "Enter the width of the rectangle:  100\n"
     ]
    },
    {
     "name": "stdout",
     "output_type": "stream",
     "text": [
      "The area of the rectangle is: 5000.0\n"
     ]
    }
   ],
   "source": [
    "# Take user inputs for length and width\n",
    "length = float(input(\"Enter the length of the rectangle: \"))\n",
    "width = float(input(\"Enter the width of the rectangle: \"))\n",
    "\n",
    "# Calculate the area of the rectangle\n",
    "area = length * width\n",
    "\n",
    "# Display the calculated area\n",
    "print(\"The area of the rectangle is:\", area)\n"
   ]
  },
  {
   "cell_type": "code",
   "execution_count": null,
   "id": "f1eeec1f-480d-49c2-8cfb-bfba1a19185c",
   "metadata": {},
   "outputs": [],
   "source": []
  },
  {
   "cell_type": "code",
   "execution_count": 45,
   "id": "0f645e34-b228-4354-b61f-b9f470dd29aa",
   "metadata": {},
   "outputs": [
    {
     "data": {
      "text/plain": [
       "'Write a Python program that converts temperature from Celsius to\\nFahrenheit. Take the temperature in Celsius as input, store it in a\\nvariable, convert it to Fahrenheit, and display the result.'"
      ]
     },
     "execution_count": 45,
     "metadata": {},
     "output_type": "execute_result"
    }
   ],
   "source": [
    "\"\"\"Write a Python program that converts temperature from Celsius to\n",
    "Fahrenheit. Take the temperature in Celsius as input, store it in a\n",
    "variable, convert it to Fahrenheit, and display the result.\"\"\""
   ]
  },
  {
   "cell_type": "code",
   "execution_count": 47,
   "id": "0584944c-1a33-4e42-8652-d54ebd27e5ea",
   "metadata": {},
   "outputs": [
    {
     "name": "stdin",
     "output_type": "stream",
     "text": [
      "Enter temperature in Celsius:  39\n"
     ]
    },
    {
     "name": "stdout",
     "output_type": "stream",
     "text": [
      "Temperature in Fahrenheit: 102.2\n"
     ]
    }
   ],
   "source": [
    "# Take user input for temperature in Celsius\n",
    "celsius = float(input(\"Enter temperature in Celsius: \"))\n",
    "\n",
    "# Convert Celsius to Fahrenheit\n",
    "fahrenheit = (celsius * 9/5) + 32\n",
    "\n",
    "# Display the converted temperature in Fahrenheit\n",
    "print(\"Temperature in Fahrenheit:\", fahrenheit)\n"
   ]
  },
  {
   "cell_type": "code",
   "execution_count": null,
   "id": "ff253478-7351-432c-a726-808df6d2a59a",
   "metadata": {},
   "outputs": [],
   "source": []
  },
  {
   "cell_type": "code",
   "execution_count": 48,
   "id": "3f410d76-8a83-42e9-8b9a-748bfc559731",
   "metadata": {},
   "outputs": [],
   "source": [
    "#TOPIC: String Based Questions"
   ]
  },
  {
   "cell_type": "code",
   "execution_count": 49,
   "id": "f562afec-9ad5-4fad-a9b9-1ba8cc7dee6f",
   "metadata": {},
   "outputs": [
    {
     "data": {
      "text/plain": [
       "'1. Write a Python program that takes a string as input and prints the\\nlength of the string.'"
      ]
     },
     "execution_count": 49,
     "metadata": {},
     "output_type": "execute_result"
    }
   ],
   "source": [
    "\"\"\"1. Write a Python program that takes a string as input and prints the\n",
    "length of the string.\"\"\""
   ]
  },
  {
   "cell_type": "code",
   "execution_count": 51,
   "id": "05888023-2731-4425-aa21-8cca5d64c537",
   "metadata": {},
   "outputs": [
    {
     "name": "stdin",
     "output_type": "stream",
     "text": [
      "Enter a string:  80\n"
     ]
    }
   ],
   "source": [
    "# Take user input for a string\n",
    "input_string = input(\"Enter a string: \")\n"
   ]
  },
  {
   "cell_type": "code",
   "execution_count": 52,
   "id": "0c82ea65-19a5-47e5-a5fd-900fb8a58e5d",
   "metadata": {},
   "outputs": [
    {
     "name": "stdout",
     "output_type": "stream",
     "text": [
      "Length of the string: 2\n"
     ]
    }
   ],
   "source": [
    "# print the length of the string\n",
    "length = len(input_string)\n",
    "print(\"Length of the string:\", length)"
   ]
  },
  {
   "cell_type": "code",
   "execution_count": 53,
   "id": "7d0a91ca-b31a-49b6-93d0-d966057a94bf",
   "metadata": {},
   "outputs": [
    {
     "data": {
      "text/plain": [
       "'Create a program that takes a sentence from the user and counts the\\nnumber of vowels (a, e, i, o, u) in the string.'"
      ]
     },
     "execution_count": 53,
     "metadata": {},
     "output_type": "execute_result"
    }
   ],
   "source": [
    "\"\"\"Create a program that takes a sentence from the user and counts the\n",
    "number of vowels (a, e, i, o, u) in the string.\"\"\""
   ]
  },
  {
   "cell_type": "code",
   "execution_count": 61,
   "id": "5577cadb-ef39-4ebf-8476-ebfcff8d2e32",
   "metadata": {},
   "outputs": [
    {
     "name": "stdin",
     "output_type": "stream",
     "text": [
      "Enter a sentence:  Full Stack Data Science Pro\n"
     ]
    }
   ],
   "source": [
    "# Take user input for a sentence\n",
    "sentence = input(\"Enter a sentence: \")"
   ]
  },
  {
   "cell_type": "code",
   "execution_count": 63,
   "id": "551bfb9a-c7aa-44cf-9935-c5bf58be8f01",
   "metadata": {},
   "outputs": [],
   "source": [
    "# Convert the sentence to lowercase to make vowel counting case-insensitive\n",
    "sentence = sentence.lower()"
   ]
  },
  {
   "cell_type": "code",
   "execution_count": 64,
   "id": "63511da7-d754-44ad-8365-d1ed9f0f0af8",
   "metadata": {},
   "outputs": [
    {
     "data": {
      "text/plain": [
       "'full stack data science pro'"
      ]
     },
     "execution_count": 64,
     "metadata": {},
     "output_type": "execute_result"
    }
   ],
   "source": [
    "sentence"
   ]
  },
  {
   "cell_type": "code",
   "execution_count": 65,
   "id": "efff407d-a9c9-4d61-9352-d4f042bdb96b",
   "metadata": {},
   "outputs": [],
   "source": [
    "# Initialize a variable to keep track of the vowel count\n",
    "vowel_count = 0"
   ]
  },
  {
   "cell_type": "code",
   "execution_count": 70,
   "id": "72cc0ad0-624c-46f6-9950-a4aa36f8d641",
   "metadata": {},
   "outputs": [],
   "source": [
    "# Define the set of vowels\n",
    "vowels = \"aeiou\""
   ]
  },
  {
   "cell_type": "code",
   "execution_count": 71,
   "id": "490e44a7-9e59-40ae-8d48-707d474e9522",
   "metadata": {},
   "outputs": [
    {
     "name": "stdout",
     "output_type": "stream",
     "text": [
      "Number of vowels in the sentence: 8\n"
     ]
    }
   ],
   "source": [
    "# Display the vowel count\n",
    "print(\"Number of vowels in the sentence:\", vowel_count)"
   ]
  },
  {
   "cell_type": "code",
   "execution_count": 72,
   "id": "a6bc7eee-0eb7-46de-9f2f-009c740497c3",
   "metadata": {},
   "outputs": [
    {
     "data": {
      "text/plain": [
       "'3. Given a string, reverse the order of characters using string slicing and\\nprint the reversed string.'"
      ]
     },
     "execution_count": 72,
     "metadata": {},
     "output_type": "execute_result"
    }
   ],
   "source": [
    "\"\"\"3. Given a string, reverse the order of characters using string slicing and\n",
    "print the reversed string.\"\"\""
   ]
  },
  {
   "cell_type": "code",
   "execution_count": 75,
   "id": "76cc6987-efb5-467f-90ad-94a221633616",
   "metadata": {},
   "outputs": [
    {
     "name": "stdin",
     "output_type": "stream",
     "text": [
      "Enter a string:  My name is Rizwan and I am from Bihar\n"
     ]
    }
   ],
   "source": [
    "# Take user input for a string\n",
    "string = input(\"Enter a string: \")\n"
   ]
  },
  {
   "cell_type": "code",
   "execution_count": 76,
   "id": "c24ba61e-a04b-4990-8237-a9b4d2f11c0c",
   "metadata": {},
   "outputs": [],
   "source": [
    "# Use string slicing to reverse the string\n",
    "reversed_string = string[::-1]"
   ]
  },
  {
   "cell_type": "code",
   "execution_count": 77,
   "id": "902fb2b5-8346-439e-9087-7e46f2bfc4fa",
   "metadata": {},
   "outputs": [
    {
     "data": {
      "text/plain": [
       "'My name is Rizwan and I am from Bihar'"
      ]
     },
     "execution_count": 77,
     "metadata": {},
     "output_type": "execute_result"
    }
   ],
   "source": [
    "string"
   ]
  },
  {
   "cell_type": "code",
   "execution_count": 78,
   "id": "d969309a-c80e-4fcb-9de6-76ab37d3dbed",
   "metadata": {},
   "outputs": [
    {
     "name": "stdout",
     "output_type": "stream",
     "text": [
      "Reversed string: rahiB morf ma I dna nawziR si eman yM\n"
     ]
    }
   ],
   "source": [
    "# Display the reversed string\n",
    "print(\"Reversed string:\", reversed_string)"
   ]
  },
  {
   "cell_type": "code",
   "execution_count": 79,
   "id": "27fac1b1-1831-4279-9ddf-100e8fd88f3f",
   "metadata": {},
   "outputs": [
    {
     "data": {
      "text/plain": [
       "'rahiB morf ma I dna nawziR si eman yM'"
      ]
     },
     "execution_count": 79,
     "metadata": {},
     "output_type": "execute_result"
    }
   ],
   "source": [
    "string[::-1]"
   ]
  },
  {
   "cell_type": "code",
   "execution_count": 80,
   "id": "b36ce7a1-fca3-4d56-8505-cd5b3d777552",
   "metadata": {},
   "outputs": [
    {
     "data": {
      "text/plain": [
       "'4. Write a program that takes a string as input and checks if it is a\\npalindrome (reads the same forwards and backwards).'"
      ]
     },
     "execution_count": 80,
     "metadata": {},
     "output_type": "execute_result"
    }
   ],
   "source": [
    "\"\"\"4. Write a program that takes a string as input and checks if it is a\n",
    "palindrome (reads the same forwards and backwards).\"\"\""
   ]
  },
  {
   "cell_type": "code",
   "execution_count": 81,
   "id": "60401180-05d1-412c-a207-ac8f9b345365",
   "metadata": {},
   "outputs": [
    {
     "name": "stdin",
     "output_type": "stream",
     "text": [
      "Enter a string:  My name is Md Rizwan Alam\n"
     ]
    }
   ],
   "source": [
    "# Take user input for a string\n",
    "input_string = input(\"Enter a string: \")\n"
   ]
  },
  {
   "cell_type": "code",
   "execution_count": 84,
   "id": "494d2818-866c-4af3-bd6c-18e38b59f3b8",
   "metadata": {},
   "outputs": [
    {
     "name": "stdout",
     "output_type": "stream",
     "text": [
      "The entered string is not a palindrome.\n"
     ]
    }
   ],
   "source": [
    "# Convert the string to lowercase and remove spaces for case-insensitive comparison\n",
    "cleaned_string = input_string.lower().replace(\" \", \"\")\n",
    "\n",
    "# Reverse the cleaned string\n",
    "reversed_string = cleaned_string[::-1]\n",
    "\n",
    "# Check if the cleaned string is equal to its reverse\n",
    "if cleaned_string == reversed_string:\n",
    "    print(\"The entered string is a palindrome.\")\n",
    "else:\n",
    "    print(\"The entered string is not a palindrome.\")"
   ]
  },
  {
   "cell_type": "code",
   "execution_count": 85,
   "id": "98bc0723-a2a6-4db3-976d-401a0bb41465",
   "metadata": {},
   "outputs": [
    {
     "data": {
      "text/plain": [
       "'5. Create a program that takes a string as input and removes all the\\nspaces from it. Print the modified string without spaces.'"
      ]
     },
     "execution_count": 85,
     "metadata": {},
     "output_type": "execute_result"
    }
   ],
   "source": [
    "\"\"\"5. Create a program that takes a string as input and removes all the\n",
    "spaces from it. Print the modified string without spaces.\"\"\""
   ]
  },
  {
   "cell_type": "code",
   "execution_count": 86,
   "id": "71f9e408-5013-4dc7-9b6f-73b7ff8e3232",
   "metadata": {},
   "outputs": [
    {
     "name": "stdin",
     "output_type": "stream",
     "text": [
      "Enter a string:  My Name is Rizwan And I am from India\n"
     ]
    }
   ],
   "source": [
    "# Take user input for a string\n",
    "input_string = input(\"Enter a string: \")\n"
   ]
  },
  {
   "cell_type": "code",
   "execution_count": 87,
   "id": "bb5af528-93dd-4106-945a-66bd3d723bc5",
   "metadata": {},
   "outputs": [
    {
     "name": "stdout",
     "output_type": "stream",
     "text": [
      "Modified string: MyNameisRizwanAndIamfromIndia\n"
     ]
    }
   ],
   "source": [
    "# Remove spaces from the string\n",
    "modified_string = input_string.replace(\" \", \"\")\n",
    "\n",
    "# Display the modified string without spaces\n",
    "print(\"Modified string:\", modified_string)"
   ]
  }
 ],
 "metadata": {
  "kernelspec": {
   "display_name": "Python 3 (ipykernel)",
   "language": "python",
   "name": "python3"
  },
  "language_info": {
   "codemirror_mode": {
    "name": "ipython",
    "version": 3
   },
   "file_extension": ".py",
   "mimetype": "text/x-python",
   "name": "python",
   "nbconvert_exporter": "python",
   "pygments_lexer": "ipython3",
   "version": "3.10.8"
  }
 },
 "nbformat": 4,
 "nbformat_minor": 5
}
