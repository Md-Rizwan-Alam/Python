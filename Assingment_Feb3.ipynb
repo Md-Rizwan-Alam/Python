{
 "cells": [
  {
   "cell_type": "code",
   "execution_count": 6,
   "id": "37a50c74-4d97-4db8-8657-d4359ce9ee41",
   "metadata": {},
   "outputs": [],
   "source": [
    "#Q1. Which keyword is used to create a function? Create a function to return a list of odd numbers in therange of 1 to 25.a"
   ]
  },
  {
   "cell_type": "code",
   "execution_count": 7,
   "id": "65ca97ac-97e7-460a-a57a-3a763fdc494c",
   "metadata": {},
   "outputs": [],
   "source": [
    "# def is use to create a function"
   ]
  },
  {
   "cell_type": "code",
   "execution_count": 11,
   "id": "028b45e0-6ee7-423e-8395-7a9fabba618b",
   "metadata": {},
   "outputs": [],
   "source": [
    "def list_odd_numbers():\n",
    "    odd_numbers = []\n",
    "    for num in range(1, 26):\n",
    "        if num % 2 != 0:\n",
    "            odd_numbers.append(num)\n",
    "    return odd_numbers"
   ]
  },
  {
   "cell_type": "code",
   "execution_count": 12,
   "id": "93df04e3-975e-479b-a562-342b2718e41c",
   "metadata": {},
   "outputs": [
    {
     "data": {
      "text/plain": [
       "[1, 3, 5, 7, 9, 11, 13, 15, 17, 19, 21, 23, 25]"
      ]
     },
     "execution_count": 12,
     "metadata": {},
     "output_type": "execute_result"
    }
   ],
   "source": [
    "odd_numbers()"
   ]
  },
  {
   "cell_type": "code",
   "execution_count": 13,
   "id": "e0909d9b-bb29-4fc9-8aea-e0a397404916",
   "metadata": {},
   "outputs": [],
   "source": [
    "#Q2. Why *args and **kwargs is used in some functions? Create a function each for *args and **kwargs to demonstrate their use."
   ]
  },
  {
   "cell_type": "code",
   "execution_count": 18,
   "id": "4872e731-afa4-4bd1-9590-8031aad0ee6d",
   "metadata": {},
   "outputs": [
    {
     "name": "stdout",
     "output_type": "stream",
     "text": [
      "6\n",
      "150\n",
      "56\n"
     ]
    }
   ],
   "source": [
    "\"\"\"*args function\"\"\"\n",
    "\n",
    "def number(*args):\n",
    "    total_sum = sum(args)\n",
    "    return total_sum\n",
    "\n",
    "# Using the sum_of_numbers function with various numbers of arguments\n",
    "result1 = number(1, 2, 3)\n",
    "result2 = number(10, 20, 30, 40, 50)\n",
    "result3 = number(2, 4, 6, 8, 10, 12, 14)\n",
    "\n",
    "print(result1)\n",
    "print(result2) \n",
    "print(result3)  "
   ]
  },
  {
   "cell_type": "code",
   "execution_count": 20,
   "id": "0b1d8e9e-6be1-4dd3-972c-8afd3fd7aa92",
   "metadata": {},
   "outputs": [
    {
     "name": "stdout",
     "output_type": "stream",
     "text": [
      "name: rizwan\n",
      "age: 30\n",
      "Institute: Pwskills\n",
      "course: Data Science\n",
      "item: Mobile\n",
      "price: 10000\n",
      "brand: Apple\n"
     ]
    }
   ],
   "source": [
    "\"\"\"*kwargs function\"\"\"\n",
    "def kwargs(**kwargs):\n",
    "    for key, value in kwargs.items():\n",
    "        print(f\"{key}: {value}\")\n",
    "\n",
    "# Using the display_kwargs function with various keyword arguments\n",
    "\n",
    "kwargs(name=\"rizwan\", age=30)\n",
    "kwargs(Institute=\"Pwskills\", course=\"Data Science\")\n",
    "kwargs(item=\"Mobile\", price=10000, brand=\"Apple\")"
   ]
  },
  {
   "cell_type": "code",
   "execution_count": 22,
   "id": "6db97539-121d-4155-bdbe-ecb69e6bb00f",
   "metadata": {},
   "outputs": [],
   "source": [
    "#Q3. What is an iterator in python? Name the method used to initialise the iterator object and the method used for iteration. Use these methods to print the first five elements of the given list [2, 4, 6, 8, 10, 12, 14, 16, 18, 20]."
   ]
  },
  {
   "cell_type": "code",
   "execution_count": 26,
   "id": "6f516723-7713-4506-98c7-f91ee923f09e",
   "metadata": {},
   "outputs": [],
   "source": [
    "#iterator is an object that allows us to iterate over a sequence of elements one at a timae.\n",
    "\n",
    "# Given list\n",
    "a = [2, 4, 6, 8, 10, 12, 14, 16, 18, 20]\n"
   ]
  },
  {
   "cell_type": "code",
   "execution_count": 29,
   "id": "0c1d1084-bbd5-4e2c-9664-b39b7e94ba0a",
   "metadata": {},
   "outputs": [
    {
     "name": "stdout",
     "output_type": "stream",
     "text": [
      "2\n",
      "4\n",
      "6\n",
      "8\n",
      "10\n"
     ]
    }
   ],
   "source": [
    "#method one\n",
    "count=0\n",
    "for i in a:\n",
    "    if count<5:\n",
    "        print(i)\n",
    "        count+=1"
   ]
  },
  {
   "cell_type": "code",
   "execution_count": 37,
   "id": "78a58b0b-2865-4813-b13f-913586c7cf26",
   "metadata": {},
   "outputs": [],
   "source": [
    "#Q4. What is a generator function in python? Why yield keyword is used? Give an example of a generatorfunction."
   ]
  },
  {
   "cell_type": "code",
   "execution_count": 38,
   "id": "30d2c618-e9c5-4a5a-8bab-8f6f3b3bb35a",
   "metadata": {},
   "outputs": [],
   "source": [
    "##In Python, a generator is a function that returns an iterator that produces a sequence of values when iterated over. Generators are useful when we want to produce a large sequence of values, but we don't want to store all of them in memory at once."
   ]
  },
  {
   "cell_type": "code",
   "execution_count": 39,
   "id": "a44d8bf8-745f-49f5-b291-9664b1f0f566",
   "metadata": {},
   "outputs": [],
   "source": [
    "l=[2,3,4,5,6,7]"
   ]
  },
  {
   "cell_type": "code",
   "execution_count": 43,
   "id": "b60f4215-a9d9-40c0-9f18-140b65fd9c8a",
   "metadata": {},
   "outputs": [
    {
     "name": "stdout",
     "output_type": "stream",
     "text": [
      "1\n",
      "2\n",
      "3\n",
      "4\n",
      "5\n"
     ]
    }
   ],
   "source": [
    "def count_test(n):\n",
    "    count = 1\n",
    "    while count <= n:\n",
    "        yield count\n",
    "        count = count + 1\n",
    "        \n",
    "c = count_test(5)\n",
    "for i in c:\n",
    "    print(i)"
   ]
  },
  {
   "cell_type": "code",
   "execution_count": 52,
   "id": "676257c4-640c-4ce2-bfd4-acfd0a7394ab",
   "metadata": {},
   "outputs": [
    {
     "name": "stdout",
     "output_type": "stream",
     "text": [
      "1\n",
      "4\n",
      "9\n",
      "16\n",
      "25\n"
     ]
    }
   ],
   "source": [
    "def test(n):\n",
    "    for i in range(1, n + 1):\n",
    "        yield i ** 2\n",
    "\n",
    "b = test(5)\n",
    "\n",
    "for c in b:\n",
    "    print(c)"
   ]
  },
  {
   "cell_type": "code",
   "execution_count": 53,
   "id": "6cb35b7c-9c56-4ddb-b1d2-85dd485e43f5",
   "metadata": {},
   "outputs": [],
   "source": [
    "#Q5. Create a generator function for prime numbers less than 1000. Use the next() method to print thefirst 20 prime numbers."
   ]
  },
  {
   "cell_type": "code",
   "execution_count": 56,
   "id": "79d9b4fc-a010-4b06-a145-8e1cad2d1a92",
   "metadata": {},
   "outputs": [
    {
     "name": "stdout",
     "output_type": "stream",
     "text": [
      "2\n",
      "3\n",
      "5\n",
      "7\n",
      "11\n",
      "13\n",
      "17\n",
      "19\n",
      "23\n",
      "29\n",
      "31\n",
      "37\n",
      "41\n",
      "43\n",
      "47\n",
      "53\n",
      "59\n",
      "61\n",
      "67\n",
      "71\n"
     ]
    }
   ],
   "source": [
    "def Number(a):\n",
    "    primes = [True] * (a + 1)\n",
    "    primes[0] = primes[1] = False\n",
    "\n",
    "    for num in range(2, int(a**0.5) + 1):\n",
    "        if primes[num]:\n",
    "            for multiple in range(num * num, a + 1, num):\n",
    "                primes[multiple] = False\n",
    "\n",
    "    for num in range(2, a + 1):\n",
    "        if primes[num]:\n",
    "            yield num\n",
    "\n",
    "# Generate the first 20 prime numbers less than 1000\n",
    "b = Number(1000)\n",
    "\n",
    "for _ in range(20):\n",
    "    print(next(b))\n"
   ]
  },
  {
   "cell_type": "code",
   "execution_count": 57,
   "id": "406d5cba-6a8f-41d1-b837-eeeaf21aa30e",
   "metadata": {},
   "outputs": [],
   "source": [
    "#Q6. Write a python program to print the first 10 Fibonacci numbers using a while loop."
   ]
  },
  {
   "cell_type": "code",
   "execution_count": 58,
   "id": "2420a7ed-3088-4e46-ad08-08ecc2ebc7a3",
   "metadata": {},
   "outputs": [
    {
     "name": "stdout",
     "output_type": "stream",
     "text": [
      "[0, 1, 1, 2, 3, 5, 8, 13, 21, 34]\n"
     ]
    }
   ],
   "source": [
    "def List(n):\n",
    "    fib_list = []\n",
    "    a, b = 0, 1\n",
    "\n",
    "    while len(fib_list) < n:\n",
    "        fib_list.append(a)\n",
    "        a, b = b, a + b\n",
    "\n",
    "    return fib_list\n",
    "\n",
    "# Print the first 10 Fibonacci numbers\n",
    "d = List(10)\n",
    "print(d)\n"
   ]
  },
  {
   "cell_type": "code",
   "execution_count": 66,
   "id": "e83f35f3-8db4-418e-9556-8b60d17c0cfb",
   "metadata": {},
   "outputs": [],
   "source": [
    "#Q7. Write a List Comprehension to iterate through the given string: ‘pwskills’.Expected output: ['p', 'w', 's', 'k', 'i', 'l', 'l', 's']"
   ]
  },
  {
   "cell_type": "code",
   "execution_count": 67,
   "id": "2a3dd7f8-b616-41c8-a92a-13f0b4bba575",
   "metadata": {},
   "outputs": [
    {
     "data": {
      "text/plain": [
       "['p', 'w', 's', 'k', 'i', 'l', 'l', 's']"
      ]
     },
     "execution_count": 67,
     "metadata": {},
     "output_type": "execute_result"
    }
   ],
   "source": [
    "a =\"pwskills\"\n",
    "list(map(lambda a: a.lower(), a))"
   ]
  },
  {
   "cell_type": "code",
   "execution_count": 68,
   "id": "e17d1fb3-b524-461d-a39b-bf32791d7598",
   "metadata": {},
   "outputs": [],
   "source": [
    "#Q8. Write a python program to check whether a given number is Palindrome or not using a while loop."
   ]
  },
  {
   "cell_type": "code",
   "execution_count": 69,
   "id": "642c45d4-6859-4a26-8971-d592ccec2466",
   "metadata": {},
   "outputs": [
    {
     "name": "stdin",
     "output_type": "stream",
     "text": [
      "Please give a number :  10\n"
     ]
    },
    {
     "name": "stdout",
     "output_type": "stream",
     "text": [
      "Given number is a not palindrome\n"
     ]
    }
   ],
   "source": [
    "n = int(input(\"Please give a number : \"))\n",
    "def reverse(num):\n",
    "    if num<10:\n",
    "      return num \n",
    "    else:\n",
    "      return int(str(num%10) + str(reverse(num//10)))\n",
    "def isPalindrome(num):\n",
    "    if num == reverse(num):\n",
    "        return 1\n",
    "    return 0\n",
    "if isPalindrome(n) == 1:\n",
    "    print(\"Given number is a palindrome\")\n",
    "else:\n",
    "    print(\"Given number is a not palindrome\") "
   ]
  },
  {
   "cell_type": "code",
   "execution_count": 72,
   "id": "7b4681ec-5c3f-4fe9-8a1a-d3448c4f5a8b",
   "metadata": {},
   "outputs": [
    {
     "name": "stdin",
     "output_type": "stream",
     "text": [
      "Enter a number:  10\n"
     ]
    },
    {
     "name": "stdout",
     "output_type": "stream",
     "text": [
      "10 is not a palindrome.\n"
     ]
    }
   ],
   "source": [
    "def is_palindrome(number):\n",
    "    num_str = str(number)\n",
    "    \n",
    "    left = 0\n",
    "    right = len(num_str) - 1\n",
    "    \n",
    "    while left < right:\n",
    "        if num_str[left] != num_str[right]:\n",
    "            return False\n",
    "        left += 1\n",
    "        right -= 1\n",
    "    \n",
    "    return True\n",
    "\n",
    "if __name__ == \"__main__\":\n",
    "    num = int(input(\"Enter a number: \"))\n",
    "    if is_palindrome(num):\n",
    "        print(f\"{num} is a palindrome.\")\n",
    "    else:\n",
    "        print(f\"{num} is not a palindrome.\")\n"
   ]
  },
  {
   "cell_type": "code",
   "execution_count": 73,
   "id": "2b036bbb-d39f-4545-9ea1-8ef7a5a5a989",
   "metadata": {},
   "outputs": [],
   "source": [
    "#Q9. Write a code to print odd numbers from 1 to 100 using list comprehension.\n",
    "#Note: Use a list comprehension to create a list from 1 to 100 and use another List comprehension to filterout odd numbers."
   ]
  },
  {
   "cell_type": "code",
   "execution_count": 74,
   "id": "25ed5b80-26c9-4a72-8ffe-feb0f3f6935e",
   "metadata": {},
   "outputs": [
    {
     "data": {
      "text/plain": [
       "[1,\n",
       " 3,\n",
       " 5,\n",
       " 7,\n",
       " 9,\n",
       " 11,\n",
       " 13,\n",
       " 15,\n",
       " 17,\n",
       " 19,\n",
       " 21,\n",
       " 23,\n",
       " 25,\n",
       " 27,\n",
       " 29,\n",
       " 31,\n",
       " 33,\n",
       " 35,\n",
       " 37,\n",
       " 39,\n",
       " 41,\n",
       " 43,\n",
       " 45,\n",
       " 47,\n",
       " 49,\n",
       " 51,\n",
       " 53,\n",
       " 55,\n",
       " 57,\n",
       " 59,\n",
       " 61,\n",
       " 63,\n",
       " 65,\n",
       " 67,\n",
       " 69,\n",
       " 71,\n",
       " 73,\n",
       " 75,\n",
       " 77,\n",
       " 79,\n",
       " 81,\n",
       " 83,\n",
       " 85,\n",
       " 87,\n",
       " 89,\n",
       " 91,\n",
       " 93,\n",
       " 95,\n",
       " 97,\n",
       " 99]"
      ]
     },
     "execution_count": 74,
     "metadata": {},
     "output_type": "execute_result"
    }
   ],
   "source": [
    "[odd for odd in range(1,100) if odd%2!=0]"
   ]
  },
  {
   "cell_type": "code",
   "execution_count": 75,
   "id": "c40d4711-eaa5-45ee-aa12-b8c52bd50ae8",
   "metadata": {},
   "outputs": [
    {
     "name": "stdout",
     "output_type": "stream",
     "text": [
      "[1, 3, 5, 7, 9, 11, 13, 15, 17, 19, 21, 23, 25, 27, 29, 31, 33, 35, 37, 39, 41, 43, 45, 47, 49, 51, 53, 55, 57, 59, 61, 63, 65, 67, 69, 71, 73, 75, 77, 79, 81, 83, 85, 87, 89, 91, 93, 95, 97, 99]\n"
     ]
    }
   ],
   "source": [
    "a = [num for num in range(1, 101)]\n",
    "\n",
    "odd_numbers = [num for num in a if num % 2 != 0]\n",
    "print(odd_numbers)"
   ]
  }
 ],
 "metadata": {
  "kernelspec": {
   "display_name": "Python 3 (ipykernel)",
   "language": "python",
   "name": "python3"
  },
  "language_info": {
   "codemirror_mode": {
    "name": "ipython",
    "version": 3
   },
   "file_extension": ".py",
   "mimetype": "text/x-python",
   "name": "python",
   "nbconvert_exporter": "python",
   "pygments_lexer": "ipython3",
   "version": "3.10.8"
  }
 },
 "nbformat": 4,
 "nbformat_minor": 5
}
