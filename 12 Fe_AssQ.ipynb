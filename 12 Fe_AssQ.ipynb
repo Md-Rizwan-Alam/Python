{
 "cells": [
  {
   "cell_type": "code",
   "execution_count": 6,
   "id": "270e6dd3-2aac-4493-810e-8f5987d72850",
   "metadata": {},
   "outputs": [],
   "source": [
    "# What is an Exception in python? Write the differen,e between Exceptions nd syntax errors,"
   ]
  },
  {
   "cell_type": "code",
   "execution_count": 7,
   "id": "68a071d4-0ca2-4a88-a35b-b785f193d7b6",
   "metadata": {},
   "outputs": [
    {
     "data": {
      "text/plain": [
       "\"\\nException distrub the normal flow of the program and can be caused by various reasons, such as invalid input or resource limitations. like dividing by zero, trying to use something that doesn't exist, or reading a file that's not there.\\n\\nExceptions Error: ValueError, IndexError, FileNotFoundError, ZeroDivisionError etc\\nSyntax Errors: IndentationError, SyntaxError, NameError etc\""
      ]
     },
     "execution_count": 7,
     "metadata": {},
     "output_type": "execute_result"
    }
   ],
   "source": [
    "\"\"\"\n",
    "Exception distrub the normal flow of the program and can be caused by various reasons, such as invalid input or resource limitations. like dividing by zero, trying to use something that doesn't exist, or reading a file that's not there.\n",
    "\n",
    "Exceptions Error: ValueError, IndexError, FileNotFoundError, ZeroDivisionError etc\n",
    "Syntax Errors: IndentationError, SyntaxError, NameError etc\"\"\""
   ]
  },
  {
   "cell_type": "code",
   "execution_count": 8,
   "id": "e4c8abb4-e36d-4835-9980-7a80f060212c",
   "metadata": {},
   "outputs": [],
   "source": [
    "#Q2. What happens when an exception is not handled? Explain with an exmple"
   ]
  },
  {
   "cell_type": "code",
   "execution_count": 9,
   "id": "aa26cbd4-711c-4cd0-a616-d9cf1c59e590",
   "metadata": {},
   "outputs": [
    {
     "data": {
      "text/plain": [
       "'\\nWhen an exception is not handled, it leads to a situation where the normal flow of the program is disrupted\\n\\n'"
      ]
     },
     "execution_count": 9,
     "metadata": {},
     "output_type": "execute_result"
    }
   ],
   "source": [
    "\"\"\"\n",
    "When an exception is not handled, it leads to a situation where the normal flow of the program is disrupted\n",
    "\n",
    "\"\"\""
   ]
  },
  {
   "cell_type": "code",
   "execution_count": 11,
   "id": "ef510e59-4193-41b6-b051-1d4dcef183c8",
   "metadata": {},
   "outputs": [
    {
     "name": "stdin",
     "output_type": "stream",
     "text": [
      "Enter a number:  10\n",
      "Enter another number:  0\n"
     ]
    },
    {
     "ename": "ZeroDivisionError",
     "evalue": "division by zero",
     "output_type": "error",
     "traceback": [
      "\u001b[0;31m---------------------------------------------------------------------------\u001b[0m",
      "\u001b[0;31mZeroDivisionError\u001b[0m                         Traceback (most recent call last)",
      "Cell \u001b[0;32mIn[11], line 4\u001b[0m\n\u001b[1;32m      2\u001b[0m num1 \u001b[38;5;241m=\u001b[39m \u001b[38;5;28mint\u001b[39m(\u001b[38;5;28minput\u001b[39m(\u001b[38;5;124m\"\u001b[39m\u001b[38;5;124mEnter a number: \u001b[39m\u001b[38;5;124m\"\u001b[39m))\n\u001b[1;32m      3\u001b[0m num2 \u001b[38;5;241m=\u001b[39m \u001b[38;5;28mint\u001b[39m(\u001b[38;5;28minput\u001b[39m(\u001b[38;5;124m\"\u001b[39m\u001b[38;5;124mEnter another number: \u001b[39m\u001b[38;5;124m\"\u001b[39m))\n\u001b[0;32m----> 4\u001b[0m result \u001b[38;5;241m=\u001b[39m \u001b[43mnum1\u001b[49m\u001b[43m \u001b[49m\u001b[38;5;241;43m/\u001b[39;49m\u001b[43m \u001b[49m\u001b[43mnum2\u001b[49m\n\u001b[1;32m      5\u001b[0m \u001b[38;5;28mprint\u001b[39m(\u001b[38;5;124m\"\u001b[39m\u001b[38;5;124mResult:\u001b[39m\u001b[38;5;124m\"\u001b[39m, result)\n",
      "\u001b[0;31mZeroDivisionError\u001b[0m: division by zero"
     ]
    }
   ],
   "source": [
    "#Example\n",
    "num1 = int(input(\"Enter a number: \"))\n",
    "num2 = int(input(\"Enter another number: \"))\n",
    "result = num1 / num2\n",
    "print(\"Result:\", result)\n"
   ]
  },
  {
   "cell_type": "code",
   "execution_count": 12,
   "id": "14ceda9b-f083-4d83-854a-30355c6f9e22",
   "metadata": {},
   "outputs": [],
   "source": [
    "#Q3. Whith Python statements are used to catch and handle exceptions? Explain with an example"
   ]
  },
  {
   "cell_type": "code",
   "execution_count": 16,
   "id": "c7e61498-30a2-422d-a15e-459c241c8e57",
   "metadata": {},
   "outputs": [
    {
     "ename": "IndentationError",
     "evalue": "expected an indented block after 'try' statement on line 5 (1624155271.py, line 6)",
     "output_type": "error",
     "traceback": [
      "\u001b[0;36m  Cell \u001b[0;32mIn[16], line 6\u001b[0;36m\u001b[0m\n\u001b[0;31m    except SomeException: # Code to handle the exception\u001b[0m\n\u001b[0m    ^\u001b[0m\n\u001b[0;31mIndentationError\u001b[0m\u001b[0;31m:\u001b[0m expected an indented block after 'try' statement on line 5\n"
     ]
    }
   ],
   "source": [
    "# can use the try and except statements to catch and handle exceptions.\n",
    "\n",
    "#example\n",
    "\n",
    "try:  # Code that raise an exception\n",
    "except SomeException: # Code to handle the exception\n"
   ]
  },
  {
   "cell_type": "code",
   "execution_count": 17,
   "id": "90515fc8-32db-46cf-b2ba-da53ea2f85a7",
   "metadata": {},
   "outputs": [
    {
     "name": "stdin",
     "output_type": "stream",
     "text": [
      "Enter a number:  10\n",
      "Enter another number:  0\n"
     ]
    },
    {
     "name": "stdout",
     "output_type": "stream",
     "text": [
      "Error: You cannot divide by zero.\n"
     ]
    }
   ],
   "source": [
    "#example\n",
    "\n",
    "try:\n",
    "    num1 = int(input(\"Enter a number: \"))\n",
    "    num2 = int(input(\"Enter another number: \"))\n",
    "    result = num1 / num2\n",
    "    print(\"Result:\", result)\n",
    "except ZeroDivisionError:\n",
    "    print(\"Error: You cannot divide by zero.\")\n",
    "except ValueError:\n",
    "    print(\"Error: Please enter valid numbers.\")\n"
   ]
  },
  {
   "cell_type": "code",
   "execution_count": 18,
   "id": "103df985-b05d-4d4b-bbb5-4c001a0fb1fc",
   "metadata": {},
   "outputs": [],
   "source": [
    "#Q4. Explain with an example:#\n",
    "#a. try and else\n",
    "#b. finally\n",
    "#c. raise"
   ]
  },
  {
   "cell_type": "code",
   "execution_count": 20,
   "id": "9d85e75a-72c9-475d-a0ee-8c30ec89cb46",
   "metadata": {},
   "outputs": [
    {
     "data": {
      "text/plain": [
       "'\\nThe try, except, and else blocks are used together to catch and handle exceptions and to define code that should run only if no exceptions occur.\\n\\n'"
      ]
     },
     "execution_count": 20,
     "metadata": {},
     "output_type": "execute_result"
    }
   ],
   "source": [
    "\"\"\"\n",
    "The try, except, and else blocks are used together to catch and handle exceptions and to define code that should run only if no exceptions occur.\n",
    "\n",
    "\"\"\""
   ]
  },
  {
   "cell_type": "code",
   "execution_count": 21,
   "id": "e8ada1ee-5241-4b67-88d4-f01095d2f4c9",
   "metadata": {},
   "outputs": [
    {
     "data": {
      "text/plain": [
       "'finally block is used to define code that should run regardless of whether an exception was raised or not. \\n\\n'"
      ]
     },
     "execution_count": 21,
     "metadata": {},
     "output_type": "execute_result"
    }
   ],
   "source": [
    "\"\"\"finally block is used to define code that should run regardless of whether an exception was raised or not. \n",
    "\n",
    "\"\"\""
   ]
  },
  {
   "cell_type": "code",
   "execution_count": 22,
   "id": "a0cce1b9-6068-4db8-82b6-6cde8c81b890",
   "metadata": {},
   "outputs": [
    {
     "data": {
      "text/plain": [
       "'\\nraise statement is used to intentionally raise exceptions in your code.\\n'"
      ]
     },
     "execution_count": 22,
     "metadata": {},
     "output_type": "execute_result"
    }
   ],
   "source": [
    "\"\"\"\n",
    "raise statement is used to intentionally raise exceptions in your code.\n",
    "\"\"\""
   ]
  },
  {
   "cell_type": "code",
   "execution_count": 23,
   "id": "584cbb62-f077-48d0-bf43-e1e8526cadc9",
   "metadata": {},
   "outputs": [
    {
     "name": "stdin",
     "output_type": "stream",
     "text": [
      "Enter a number:  10\n",
      "Enter another number:  0\n"
     ]
    },
    {
     "name": "stdout",
     "output_type": "stream",
     "text": [
      "Error: You cannot divide by zero.\n"
     ]
    }
   ],
   "source": [
    "#a. try and else\n",
    "\n",
    "try:\n",
    "    num1 = int(input(\"Enter a number: \"))\n",
    "    num2 = int(input(\"Enter another number: \"))\n",
    "    result = num1 / num2\n",
    "except ZeroDivisionError:\n",
    "    print(\"Error: You cannot divide by zero.\")\n",
    "else:\n",
    "    print(\"Result:\", result)\n"
   ]
  },
  {
   "cell_type": "code",
   "execution_count": 26,
   "id": "31054543-3390-4802-acdb-c4b89fda18f6",
   "metadata": {},
   "outputs": [
    {
     "name": "stdout",
     "output_type": "stream",
     "text": [
      "Error: File not found.\n"
     ]
    },
    {
     "ename": "NameError",
     "evalue": "name 'file' is not defined",
     "output_type": "error",
     "traceback": [
      "\u001b[0;31m---------------------------------------------------------------------------\u001b[0m",
      "\u001b[0;31mNameError\u001b[0m                                 Traceback (most recent call last)",
      "Cell \u001b[0;32mIn[26], line 10\u001b[0m\n\u001b[1;32m      8\u001b[0m     \u001b[38;5;28mprint\u001b[39m(\u001b[38;5;124m\"\u001b[39m\u001b[38;5;124mFile content:\u001b[39m\u001b[38;5;124m\"\u001b[39m, content)\n\u001b[1;32m      9\u001b[0m \u001b[38;5;28;01mfinally\u001b[39;00m:\n\u001b[0;32m---> 10\u001b[0m     \u001b[43mfile\u001b[49m\u001b[38;5;241m.\u001b[39mclose()\n",
      "\u001b[0;31mNameError\u001b[0m: name 'file' is not defined"
     ]
    }
   ],
   "source": [
    "#b. finally\n",
    "try:\n",
    "    file = open(\"file.txt\", \"r\")\n",
    "    content = file.read()\n",
    "except FileNotFoundError:\n",
    "    print(\"Error: File not found.\")\n",
    "else:\n",
    "    print(\"File content:\", content)\n",
    "finally:\n",
    "    file.close()\n",
    "\n"
   ]
  },
  {
   "cell_type": "code",
   "execution_count": 27,
   "id": "d33c6563-46aa-46d4-af28-fe2e7625ad48",
   "metadata": {},
   "outputs": [
    {
     "name": "stdin",
     "output_type": "stream",
     "text": [
      "Enter your age:  30\n"
     ]
    }
   ],
   "source": [
    "#c. raise\n",
    "def validate_age(age):\n",
    "    if age < 0:\n",
    "        raise ValueError(\"Age cannot be negative.\")\n",
    "    if age < 18:\n",
    "        raise ValueError(\"You must be at least 18 years old.\")\n",
    "\n",
    "try:\n",
    "    user_age = int(input(\"Enter your age: \"))\n",
    "    validate_age(user_age)\n",
    "except ValueError as ve:\n",
    "    print(\"Error:\", ve)\n"
   ]
  },
  {
   "cell_type": "code",
   "execution_count": 28,
   "id": "6594298e-806c-4504-b9d9-9ee2f03940db",
   "metadata": {},
   "outputs": [],
   "source": [
    "#Q5. What are Custom Exceptions in python? Why do we need Custom Exceptions? Explain with an example?"
   ]
  },
  {
   "cell_type": "code",
   "execution_count": 30,
   "id": "e8c787bc-28e9-4042-86e1-00849c850528",
   "metadata": {},
   "outputs": [
    {
     "data": {
      "text/plain": [
       "'\\nCustom exceptions can make your code more readable and understandable by providing meaningful names for specific error situations, making it easier to identify and handle issues.\\n'"
      ]
     },
     "execution_count": 30,
     "metadata": {},
     "output_type": "execute_result"
    }
   ],
   "source": [
    "\"\"\"\n",
    "Custom exceptions can make your code more readable and understandable by providing meaningful names for specific error situations, making it easier to identify and handle issues.\n",
    "\"\"\""
   ]
  },
  {
   "cell_type": "code",
   "execution_count": 31,
   "id": "e4bf28b2-4085-43cc-bdeb-a96b4dd1e738",
   "metadata": {},
   "outputs": [
    {
     "name": "stdin",
     "output_type": "stream",
     "text": [
      "Enter the length of the rectangle:  200\n",
      "Enter the width of the rectangle:  400\n"
     ]
    },
    {
     "name": "stdout",
     "output_type": "stream",
     "text": [
      "The area of the rectangle is: 80000.0\n"
     ]
    }
   ],
   "source": [
    "def calculate_rectangle_area(length, width):\n",
    "    return length * width\n",
    "\n",
    "try:\n",
    "    length = float(input(\"Enter the length of the rectangle: \"))\n",
    "    width = float(input(\"Enter the width of the rectangle: \"))\n",
    "    area = calculate_rectangle_area(length, width)\n",
    "    print(\"The area of the rectangle is:\", area)\n",
    "except ValueError:\n",
    "    print(\"Error: Please enter valid numeric values for length and width.\")\n"
   ]
  },
  {
   "cell_type": "code",
   "execution_count": 29,
   "id": "30770176-5ea5-49c5-bb1e-3c243eaaaf0c",
   "metadata": {},
   "outputs": [],
   "source": [
    "#Q6. Create a custom exception class. Use this class to handle an exception."
   ]
  },
  {
   "cell_type": "code",
   "execution_count": null,
   "id": "da74c8d9-dacc-4157-896e-55a70d8f8154",
   "metadata": {},
   "outputs": [],
   "source": []
  },
  {
   "cell_type": "code",
   "execution_count": null,
   "id": "5073f590-e17d-4ef2-9e49-93900c790686",
   "metadata": {},
   "outputs": [],
   "source": []
  },
  {
   "cell_type": "code",
   "execution_count": null,
   "id": "ddca905c-00c5-4218-816f-4786aaa9549d",
   "metadata": {},
   "outputs": [],
   "source": []
  }
 ],
 "metadata": {
  "kernelspec": {
   "display_name": "Python 3 (ipykernel)",
   "language": "python",
   "name": "python3"
  },
  "language_info": {
   "codemirror_mode": {
    "name": "ipython",
    "version": 3
   },
   "file_extension": ".py",
   "mimetype": "text/x-python",
   "name": "python",
   "nbconvert_exporter": "python",
   "pygments_lexer": "ipython3",
   "version": "3.10.8"
  }
 },
 "nbformat": 4,
 "nbformat_minor": 5
}
