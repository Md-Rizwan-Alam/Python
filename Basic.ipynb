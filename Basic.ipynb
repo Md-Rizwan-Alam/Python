{
 "cells": [
  {
   "cell_type": "code",
   "execution_count": 1,
   "id": "17e6272f-e286-46dd-9afb-23679143f3db",
   "metadata": {},
   "outputs": [],
   "source": [
    "a = 10"
   ]
  },
  {
   "cell_type": "code",
   "execution_count": 2,
   "id": "9e356ec5-43da-49fc-9c35-0fc9211562cc",
   "metadata": {},
   "outputs": [
    {
     "data": {
      "text/plain": [
       "10"
      ]
     },
     "execution_count": 2,
     "metadata": {},
     "output_type": "execute_result"
    }
   ],
   "source": [
    "a"
   ]
  },
  {
   "cell_type": "code",
   "execution_count": 3,
   "id": "1d51e7a6-0b62-4302-9a47-f5f029f0bdcb",
   "metadata": {},
   "outputs": [],
   "source": [
    "b = 20"
   ]
  },
  {
   "cell_type": "code",
   "execution_count": 4,
   "id": "2a13bdfe-1b05-4ceb-a851-3fe7152ceacb",
   "metadata": {},
   "outputs": [
    {
     "data": {
      "text/plain": [
       "30"
      ]
     },
     "execution_count": 4,
     "metadata": {},
     "output_type": "execute_result"
    }
   ],
   "source": [
    "a+b"
   ]
  },
  {
   "cell_type": "code",
   "execution_count": 5,
   "id": "ca06e778-7a70-4ded-8cc2-51d3590d8fce",
   "metadata": {},
   "outputs": [
    {
     "data": {
      "text/plain": [
       "10"
      ]
     },
     "execution_count": 5,
     "metadata": {},
     "output_type": "execute_result"
    }
   ],
   "source": [
    "a"
   ]
  },
  {
   "cell_type": "code",
   "execution_count": 6,
   "id": "e157089c-cbd6-4170-9f16-a9f08c249681",
   "metadata": {},
   "outputs": [
    {
     "data": {
      "text/plain": [
       "20"
      ]
     },
     "execution_count": 6,
     "metadata": {},
     "output_type": "execute_result"
    }
   ],
   "source": [
    "b"
   ]
  },
  {
   "cell_type": "code",
   "execution_count": 7,
   "id": "d3cb50f8-d047-47e4-8a6f-fea2df64e3c9",
   "metadata": {},
   "outputs": [],
   "source": [
    "riz = 100"
   ]
  },
  {
   "cell_type": "code",
   "execution_count": 8,
   "id": "85baca56-e9ac-4fcf-ba95-f652cb0af840",
   "metadata": {},
   "outputs": [],
   "source": [
    "wan = 200"
   ]
  },
  {
   "cell_type": "code",
   "execution_count": 9,
   "id": "86de29bb-349b-4def-8e0b-18eea8d11bde",
   "metadata": {},
   "outputs": [
    {
     "data": {
      "text/plain": [
       "300"
      ]
     },
     "execution_count": 9,
     "metadata": {},
     "output_type": "execute_result"
    }
   ],
   "source": [
    "riz+wan"
   ]
  },
  {
   "cell_type": "code",
   "execution_count": 10,
   "id": "355664af-1680-4eb4-927f-e88f1ca70d36",
   "metadata": {},
   "outputs": [
    {
     "data": {
      "text/plain": [
       "100"
      ]
     },
     "execution_count": 10,
     "metadata": {},
     "output_type": "execute_result"
    }
   ],
   "source": [
    "riz"
   ]
  },
  {
   "cell_type": "code",
   "execution_count": 11,
   "id": "cf8e768f-07c8-4067-8eed-07f7698c23da",
   "metadata": {},
   "outputs": [
    {
     "data": {
      "text/plain": [
       "200"
      ]
     },
     "execution_count": 11,
     "metadata": {},
     "output_type": "execute_result"
    }
   ],
   "source": [
    "wan"
   ]
  },
  {
   "cell_type": "code",
   "execution_count": 12,
   "id": "71dbbbd4-e8a4-46ce-a66c-ed968bb91445",
   "metadata": {},
   "outputs": [
    {
     "data": {
      "text/plain": [
       "-100"
      ]
     },
     "execution_count": 12,
     "metadata": {},
     "output_type": "execute_result"
    }
   ],
   "source": [
    "riz-wan"
   ]
  },
  {
   "cell_type": "code",
   "execution_count": 13,
   "id": "a9e94883-8b20-42c5-a14a-f06477a11eb7",
   "metadata": {},
   "outputs": [
    {
     "data": {
      "text/plain": [
       "100"
      ]
     },
     "execution_count": 13,
     "metadata": {},
     "output_type": "execute_result"
    }
   ],
   "source": [
    "wan-riz"
   ]
  },
  {
   "cell_type": "code",
   "execution_count": 14,
   "id": "6487e020-d5e2-4bf5-bfef-477a0e5cea89",
   "metadata": {},
   "outputs": [
    {
     "data": {
      "text/plain": [
       "20000"
      ]
     },
     "execution_count": 14,
     "metadata": {},
     "output_type": "execute_result"
    }
   ],
   "source": [
    "riz*wan"
   ]
  },
  {
   "cell_type": "code",
   "execution_count": null,
   "id": "1e24f955-52ba-4018-951c-7ae31174fa0a",
   "metadata": {},
   "outputs": [
    {
     "data": {
      "text/plain": [
       "0.5"
      ]
     },
     "execution_count": 15,
     "metadata": {},
     "output_type": "execute_result"
    }
   ],
   "source": [
    "riz/wan"
   ]
  },
  {
   "cell_type": "code",
   "execution_count": 16,
   "id": "ea3e37e0-60ac-44a7-aa42-e36415375c9b",
   "metadata": {},
   "outputs": [
    {
     "data": {
      "text/plain": [
       "int"
      ]
     },
     "execution_count": 16,
     "metadata": {},
     "output_type": "execute_result"
    }
   ],
   "source": [
    "type(riz)"
   ]
  },
  {
   "cell_type": "code",
   "execution_count": 17,
   "id": "6bd73caf-1688-46b7-bc23-14e4da96ac6d",
   "metadata": {},
   "outputs": [
    {
     "data": {
      "text/plain": [
       "float"
      ]
     },
     "execution_count": 17,
     "metadata": {},
     "output_type": "execute_result"
    }
   ],
   "source": [
    "type(riz/wan)"
   ]
  },
  {
   "cell_type": "code",
   "execution_count": 18,
   "id": "9373e0d3-693c-454f-8ceb-3665a7da5348",
   "metadata": {},
   "outputs": [
    {
     "data": {
      "text/plain": [
       "int"
      ]
     },
     "execution_count": 18,
     "metadata": {},
     "output_type": "execute_result"
    }
   ],
   "source": [
    "type(riz+wan)"
   ]
  },
  {
   "cell_type": "code",
   "execution_count": 19,
   "id": "595caa23-fba8-40ed-a025-04f47daef6d3",
   "metadata": {},
   "outputs": [
    {
     "data": {
      "text/plain": [
       "int"
      ]
     },
     "execution_count": 19,
     "metadata": {},
     "output_type": "execute_result"
    }
   ],
   "source": [
    "type(riz-wan)"
   ]
  },
  {
   "cell_type": "code",
   "execution_count": 20,
   "id": "db522ef7-206b-4661-b1cf-d40e564302cb",
   "metadata": {},
   "outputs": [],
   "source": [
    "r = \"pwskills\""
   ]
  },
  {
   "cell_type": "code",
   "execution_count": 21,
   "id": "a2eec0fb-a55f-481e-a423-4c8ee6e89ab8",
   "metadata": {},
   "outputs": [
    {
     "data": {
      "text/plain": [
       "str"
      ]
     },
     "execution_count": 21,
     "metadata": {},
     "output_type": "execute_result"
    }
   ],
   "source": [
    "type(r)"
   ]
  },
  {
   "cell_type": "code",
   "execution_count": 22,
   "id": "e6c6ef3e-6bd6-410b-9d81-3a6889fe275b",
   "metadata": {},
   "outputs": [],
   "source": [
    "r1 = \"this is my first calsss of paython\""
   ]
  },
  {
   "cell_type": "code",
   "execution_count": 23,
   "id": "2b559a60-239b-46dd-8ec1-a6610f80e48c",
   "metadata": {},
   "outputs": [
    {
     "data": {
      "text/plain": [
       "'this is my first calsss of paython'"
      ]
     },
     "execution_count": 23,
     "metadata": {},
     "output_type": "execute_result"
    }
   ],
   "source": [
    "r1"
   ]
  },
  {
   "cell_type": "code",
   "execution_count": 24,
   "id": "f63553e5-7623-48af-b554-5e00046abe21",
   "metadata": {},
   "outputs": [
    {
     "data": {
      "text/plain": [
       "str"
      ]
     },
     "execution_count": 24,
     "metadata": {},
     "output_type": "execute_result"
    }
   ],
   "source": [
    "type(r1)"
   ]
  },
  {
   "cell_type": "code",
   "execution_count": 25,
   "id": "50033787-0f01-4105-952a-0e64f2b078b8",
   "metadata": {},
   "outputs": [
    {
     "data": {
      "text/plain": [
       "'pwskillsthis is my first calsss of paython'"
      ]
     },
     "execution_count": 25,
     "metadata": {},
     "output_type": "execute_result"
    }
   ],
   "source": [
    "r+r1"
   ]
  },
  {
   "cell_type": "code",
   "execution_count": 27,
   "id": "8d8dcc29-9088-4c86-b623-06eb7d88231e",
   "metadata": {},
   "outputs": [
    {
     "data": {
      "text/plain": [
       "str"
      ]
     },
     "execution_count": 27,
     "metadata": {},
     "output_type": "execute_result"
    }
   ],
   "source": [
    "type(r+r1)"
   ]
  },
  {
   "cell_type": "code",
   "execution_count": 28,
   "id": "00a1d86f-9f8f-4e39-a25b-abd5488ccb1a",
   "metadata": {},
   "outputs": [],
   "source": [
    "f = 3434.434"
   ]
  },
  {
   "cell_type": "code",
   "execution_count": 29,
   "id": "ac7b9712-48a0-44e0-8910-56ea075237d3",
   "metadata": {},
   "outputs": [
    {
     "data": {
      "text/plain": [
       "3434.434"
      ]
     },
     "execution_count": 29,
     "metadata": {},
     "output_type": "execute_result"
    }
   ],
   "source": [
    "f"
   ]
  },
  {
   "cell_type": "code",
   "execution_count": 30,
   "id": "f1e9b899-c1bc-41ba-bc8e-27b8f5dd3eaa",
   "metadata": {},
   "outputs": [
    {
     "data": {
      "text/plain": [
       "float"
      ]
     },
     "execution_count": 30,
     "metadata": {},
     "output_type": "execute_result"
    }
   ],
   "source": [
    "type(f)"
   ]
  },
  {
   "cell_type": "code",
   "execution_count": 31,
   "id": "49c82138-7a01-473a-9648-7b41a9b5637a",
   "metadata": {},
   "outputs": [],
   "source": [
    "c = 2+4j"
   ]
  },
  {
   "cell_type": "code",
   "execution_count": 32,
   "id": "432de7bb-6a3c-4c2c-b4b8-1f435773c270",
   "metadata": {},
   "outputs": [
    {
     "data": {
      "text/plain": [
       "(2+4j)"
      ]
     },
     "execution_count": 32,
     "metadata": {},
     "output_type": "execute_result"
    }
   ],
   "source": [
    "c"
   ]
  },
  {
   "cell_type": "code",
   "execution_count": 33,
   "id": "088f309b-9e8a-4497-90d2-427cd15f88be",
   "metadata": {},
   "outputs": [
    {
     "data": {
      "text/plain": [
       "complex"
      ]
     },
     "execution_count": 33,
     "metadata": {},
     "output_type": "execute_result"
    }
   ],
   "source": [
    "type(c)"
   ]
  },
  {
   "cell_type": "code",
   "execution_count": 36,
   "id": "ced7a43f-7379-4abc-8828-96e6d27fba42",
   "metadata": {},
   "outputs": [
    {
     "data": {
      "text/plain": [
       "4.0"
      ]
     },
     "execution_count": 36,
     "metadata": {},
     "output_type": "execute_result"
    }
   ],
   "source": [
    "c.imag"
   ]
  },
  {
   "cell_type": "code",
   "execution_count": 37,
   "id": "af161a13-69a1-4f04-8e1a-91d5ec0dd960",
   "metadata": {},
   "outputs": [
    {
     "data": {
      "text/plain": [
       "2.0"
      ]
     },
     "execution_count": 37,
     "metadata": {},
     "output_type": "execute_result"
    }
   ],
   "source": [
    "c.real"
   ]
  },
  {
   "cell_type": "code",
   "execution_count": 38,
   "id": "d218e39f-2fa3-4723-9c91-34eca4e881ee",
   "metadata": {},
   "outputs": [],
   "source": [
    "b = True"
   ]
  },
  {
   "cell_type": "code",
   "execution_count": 39,
   "id": "c1fc625c-c48c-4657-aa82-50e834a86f93",
   "metadata": {},
   "outputs": [
    {
     "data": {
      "text/plain": [
       "True"
      ]
     },
     "execution_count": 39,
     "metadata": {},
     "output_type": "execute_result"
    }
   ],
   "source": [
    "b"
   ]
  },
  {
   "cell_type": "code",
   "execution_count": 40,
   "id": "92264563-ad3e-4063-a0a7-e7023ec3d450",
   "metadata": {},
   "outputs": [
    {
     "data": {
      "text/plain": [
       "bool"
      ]
     },
     "execution_count": 40,
     "metadata": {},
     "output_type": "execute_result"
    }
   ],
   "source": [
    "type(b)"
   ]
  },
  {
   "cell_type": "code",
   "execution_count": 42,
   "id": "0c284a63-ac03-4749-992d-02f2a86c84d0",
   "metadata": {},
   "outputs": [],
   "source": [
    "b1 = False"
   ]
  },
  {
   "cell_type": "code",
   "execution_count": 43,
   "id": "88371ce4-b6a4-4e7b-bb47-14696de053d6",
   "metadata": {},
   "outputs": [
    {
     "data": {
      "text/plain": [
       "bool"
      ]
     },
     "execution_count": 43,
     "metadata": {},
     "output_type": "execute_result"
    }
   ],
   "source": [
    "type(b1)"
   ]
  },
  {
   "cell_type": "code",
   "execution_count": 44,
   "id": "debf5581-fce4-40c1-811e-f0f39cce6b0e",
   "metadata": {},
   "outputs": [
    {
     "data": {
      "text/plain": [
       "1"
      ]
     },
     "execution_count": 44,
     "metadata": {},
     "output_type": "execute_result"
    }
   ],
   "source": [
    "b+b1"
   ]
  },
  {
   "cell_type": "code",
   "execution_count": 45,
   "id": "1a643835-703c-4f83-bbc5-1ab871a916df",
   "metadata": {},
   "outputs": [
    {
     "data": {
      "text/plain": [
       "int"
      ]
     },
     "execution_count": 45,
     "metadata": {},
     "output_type": "execute_result"
    }
   ],
   "source": [
    "type(b+b1)"
   ]
  },
  {
   "cell_type": "code",
   "execution_count": 46,
   "id": "b5036f42-cfac-4c5e-b33c-2276a85f4238",
   "metadata": {},
   "outputs": [
    {
     "data": {
      "text/plain": [
       "1"
      ]
     },
     "execution_count": 46,
     "metadata": {},
     "output_type": "execute_result"
    }
   ],
   "source": [
    "True+False"
   ]
  },
  {
   "cell_type": "code",
   "execution_count": 47,
   "id": "2f9fdf0e-8ae3-4749-b48d-475d0b9f6cb6",
   "metadata": {},
   "outputs": [
    {
     "data": {
      "text/plain": [
       "2"
      ]
     },
     "execution_count": 47,
     "metadata": {},
     "output_type": "execute_result"
    }
   ],
   "source": [
    "True+True"
   ]
  },
  {
   "cell_type": "code",
   "execution_count": 48,
   "id": "115fdcea-6eb4-4bc6-8373-3b85e63d5c98",
   "metadata": {},
   "outputs": [
    {
     "data": {
      "text/plain": [
       "0"
      ]
     },
     "execution_count": 48,
     "metadata": {},
     "output_type": "execute_result"
    }
   ],
   "source": [
    "False+False"
   ]
  },
  {
   "cell_type": "code",
   "execution_count": 50,
   "id": "6ce89d03-e97e-47a5-bd18-a6a7b92bb871",
   "metadata": {},
   "outputs": [],
   "source": [
    "a1 = 454\n",
    "a2 = 4343"
   ]
  },
  {
   "cell_type": "code",
   "execution_count": 51,
   "id": "dd1ff88b-a968-4d64-8c99-0d60381ff504",
   "metadata": {},
   "outputs": [
    {
     "data": {
      "text/plain": [
       "454"
      ]
     },
     "execution_count": 51,
     "metadata": {},
     "output_type": "execute_result"
    }
   ],
   "source": [
    "a1"
   ]
  },
  {
   "cell_type": "code",
   "execution_count": 52,
   "id": "d23e430a-4683-4ec5-b053-62fbd8fd7aaa",
   "metadata": {},
   "outputs": [
    {
     "data": {
      "text/plain": [
       "4343"
      ]
     },
     "execution_count": 52,
     "metadata": {},
     "output_type": "execute_result"
    }
   ],
   "source": [
    "a2"
   ]
  },
  {
   "cell_type": "code",
   "execution_count": 53,
   "id": "c9b18e5f-afbf-47d8-bd9a-8e0e5f7e69dc",
   "metadata": {},
   "outputs": [
    {
     "data": {
      "text/plain": [
       "4797"
      ]
     },
     "execution_count": 53,
     "metadata": {},
     "output_type": "execute_result"
    }
   ],
   "source": [
    "a1+a2"
   ]
  },
  {
   "cell_type": "code",
   "execution_count": 54,
   "id": "b1a82848-1adf-4b11-9f9e-875f5370bbf2",
   "metadata": {},
   "outputs": [
    {
     "data": {
      "text/plain": [
       "-3889"
      ]
     },
     "execution_count": 54,
     "metadata": {},
     "output_type": "execute_result"
    }
   ],
   "source": [
    "a1-a2"
   ]
  },
  {
   "cell_type": "code",
   "execution_count": 55,
   "id": "a3381fc5-538e-43de-a763-22f0f9b81048",
   "metadata": {},
   "outputs": [
    {
     "data": {
      "text/plain": [
       "1971722"
      ]
     },
     "execution_count": 55,
     "metadata": {},
     "output_type": "execute_result"
    }
   ],
   "source": [
    "a1*a2"
   ]
  },
  {
   "cell_type": "code",
   "execution_count": 56,
   "id": "c9d217d3-bae1-4db3-88c6-5a2e79614cd5",
   "metadata": {},
   "outputs": [
    {
     "data": {
      "text/plain": [
       "0.10453603499884873"
      ]
     },
     "execution_count": 56,
     "metadata": {},
     "output_type": "execute_result"
    }
   ],
   "source": [
    "a1/a2"
   ]
  },
  {
   "cell_type": "code",
   "execution_count": 57,
   "id": "621dc33c-bb55-4d44-bc83-5332ae8425a6",
   "metadata": {},
   "outputs": [],
   "source": [
    "a1 , a2 = 34 , 45"
   ]
  },
  {
   "cell_type": "code",
   "execution_count": 58,
   "id": "fc4fa1e4-088c-4819-a3f5-16c4937e714a",
   "metadata": {},
   "outputs": [
    {
     "data": {
      "text/plain": [
       "34"
      ]
     },
     "execution_count": 58,
     "metadata": {},
     "output_type": "execute_result"
    }
   ],
   "source": [
    "a1"
   ]
  },
  {
   "cell_type": "code",
   "execution_count": 59,
   "id": "ed1f3b19-2bb7-4e9a-b72c-c28923c93ef8",
   "metadata": {},
   "outputs": [
    {
     "data": {
      "text/plain": [
       "45"
      ]
     },
     "execution_count": 59,
     "metadata": {},
     "output_type": "execute_result"
    }
   ],
   "source": [
    "a2"
   ]
  },
  {
   "cell_type": "code",
   "execution_count": 60,
   "id": "3bb0105b-dcd6-419a-9c26-9037608a2b8e",
   "metadata": {},
   "outputs": [
    {
     "data": {
      "text/plain": [
       "79"
      ]
     },
     "execution_count": 60,
     "metadata": {},
     "output_type": "execute_result"
    }
   ],
   "source": [
    "a1+a2"
   ]
  },
  {
   "cell_type": "code",
   "execution_count": 61,
   "id": "b7d76202-dddc-434b-bd38-1261514b1d42",
   "metadata": {},
   "outputs": [],
   "source": [
    "a, b, c, d = 1213, \"rizwan\", 23.343, True"
   ]
  },
  {
   "cell_type": "code",
   "execution_count": 62,
   "id": "7687c1de-540c-4105-b93d-bce6e17746f2",
   "metadata": {},
   "outputs": [
    {
     "data": {
      "text/plain": [
       "1213"
      ]
     },
     "execution_count": 62,
     "metadata": {},
     "output_type": "execute_result"
    }
   ],
   "source": [
    "a"
   ]
  },
  {
   "cell_type": "code",
   "execution_count": 63,
   "id": "212d3bcd-455f-437d-9a51-431b22d1364d",
   "metadata": {},
   "outputs": [
    {
     "data": {
      "text/plain": [
       "'rizwan'"
      ]
     },
     "execution_count": 63,
     "metadata": {},
     "output_type": "execute_result"
    }
   ],
   "source": [
    "b"
   ]
  },
  {
   "cell_type": "code",
   "execution_count": 64,
   "id": "06610a62-b866-4a53-831d-e62dd2615424",
   "metadata": {},
   "outputs": [
    {
     "data": {
      "text/plain": [
       "23.343"
      ]
     },
     "execution_count": 64,
     "metadata": {},
     "output_type": "execute_result"
    }
   ],
   "source": [
    "c"
   ]
  },
  {
   "cell_type": "code",
   "execution_count": 65,
   "id": "602f288e-1de9-4f97-95df-8912329fa5c9",
   "metadata": {},
   "outputs": [
    {
     "data": {
      "text/plain": [
       "True"
      ]
     },
     "execution_count": 65,
     "metadata": {},
     "output_type": "execute_result"
    }
   ],
   "source": [
    "d"
   ]
  },
  {
   "cell_type": "code",
   "execution_count": 66,
   "id": "2fdd06d5-1422-445d-9b58-18302454234e",
   "metadata": {},
   "outputs": [],
   "source": [
    "b1 = True"
   ]
  },
  {
   "cell_type": "code",
   "execution_count": 67,
   "id": "3f172806-4544-4cf1-910f-0814385fb918",
   "metadata": {},
   "outputs": [],
   "source": [
    "b2 = False"
   ]
  },
  {
   "cell_type": "code",
   "execution_count": 68,
   "id": "7da3ab25-f779-4da3-8776-8574162a6adb",
   "metadata": {},
   "outputs": [
    {
     "data": {
      "text/plain": [
       "True"
      ]
     },
     "execution_count": 68,
     "metadata": {},
     "output_type": "execute_result"
    }
   ],
   "source": [
    "b1"
   ]
  },
  {
   "cell_type": "code",
   "execution_count": 69,
   "id": "6fbf3cd3-5604-4ff9-9301-e990a4702357",
   "metadata": {},
   "outputs": [
    {
     "data": {
      "text/plain": [
       "False"
      ]
     },
     "execution_count": 69,
     "metadata": {},
     "output_type": "execute_result"
    }
   ],
   "source": [
    "b2"
   ]
  },
  {
   "cell_type": "code",
   "execution_count": 70,
   "id": "bb2fab6a-f0e1-4604-98c1-c2dc05a0c7d5",
   "metadata": {},
   "outputs": [
    {
     "data": {
      "text/plain": [
       "1"
      ]
     },
     "execution_count": 70,
     "metadata": {},
     "output_type": "execute_result"
    }
   ],
   "source": [
    "b1-b2"
   ]
  },
  {
   "cell_type": "code",
   "execution_count": 71,
   "id": "06c6e3a6-4473-4455-9525-684e01bb5cae",
   "metadata": {},
   "outputs": [
    {
     "data": {
      "text/plain": [
       "1"
      ]
     },
     "execution_count": 71,
     "metadata": {},
     "output_type": "execute_result"
    }
   ],
   "source": [
    "b1+b2"
   ]
  },
  {
   "cell_type": "code",
   "execution_count": 72,
   "id": "bab05142-d4ee-4416-bea8-2dcdf5a970e8",
   "metadata": {},
   "outputs": [
    {
     "data": {
      "text/plain": [
       "0"
      ]
     },
     "execution_count": 72,
     "metadata": {},
     "output_type": "execute_result"
    }
   ],
   "source": [
    "b1*b2"
   ]
  },
  {
   "cell_type": "code",
   "execution_count": 73,
   "id": "2b416f62-648e-4f8f-aeb9-490562efb724",
   "metadata": {},
   "outputs": [
    {
     "ename": "ZeroDivisionError",
     "evalue": "division by zero",
     "output_type": "error",
     "traceback": [
      "\u001b[0;31m---------------------------------------------------------------------------\u001b[0m",
      "\u001b[0;31mZeroDivisionError\u001b[0m                         Traceback (most recent call last)",
      "Cell \u001b[0;32mIn[73], line 1\u001b[0m\n\u001b[0;32m----> 1\u001b[0m \u001b[43mb1\u001b[49m\u001b[38;5;241;43m/\u001b[39;49m\u001b[43mb2\u001b[49m\n",
      "\u001b[0;31mZeroDivisionError\u001b[0m: division by zero"
     ]
    }
   ],
   "source": [
    "b1/b2"
   ]
  },
  {
   "cell_type": "code",
   "execution_count": 74,
   "id": "875cb871-b9ff-4753-a8c1-3c5884d8651e",
   "metadata": {},
   "outputs": [
    {
     "data": {
      "text/plain": [
       "0.0"
      ]
     },
     "execution_count": 74,
     "metadata": {},
     "output_type": "execute_result"
    }
   ],
   "source": [
    "b2/b1"
   ]
  },
  {
   "cell_type": "code",
   "execution_count": 75,
   "id": "03b939c5-7a29-48ac-88f4-7b9cf33575d2",
   "metadata": {},
   "outputs": [],
   "source": [
    "r1 = \"my name is rizwan\""
   ]
  },
  {
   "cell_type": "code",
   "execution_count": 76,
   "id": "bfadac72-03fc-44c4-8201-9b2747d167b1",
   "metadata": {},
   "outputs": [
    {
     "data": {
      "text/plain": [
       "'my name is rizwan'"
      ]
     },
     "execution_count": 76,
     "metadata": {},
     "output_type": "execute_result"
    }
   ],
   "source": [
    "r1"
   ]
  },
  {
   "cell_type": "code",
   "execution_count": 77,
   "id": "9c116a06-6e74-44a5-9cb6-c820d9be98c7",
   "metadata": {},
   "outputs": [
    {
     "data": {
      "text/plain": [
       "str"
      ]
     },
     "execution_count": 77,
     "metadata": {},
     "output_type": "execute_result"
    }
   ],
   "source": [
    "type(r1)"
   ]
  },
  {
   "cell_type": "code",
   "execution_count": 80,
   "id": "9a8a8a37-e3c1-4474-9229-8753198349a7",
   "metadata": {},
   "outputs": [
    {
     "ename": "SyntaxError",
     "evalue": "unterminated string literal (detected at line 1) (1187487558.py, line 1)",
     "output_type": "error",
     "traceback": [
      "\u001b[0;36m  Cell \u001b[0;32mIn[80], line 1\u001b[0;36m\u001b[0m\n\u001b[0;31m    r2 = 'this is my first python class for data science master'r'\u001b[0m\n\u001b[0m                                                                ^\u001b[0m\n\u001b[0;31mSyntaxError\u001b[0m\u001b[0;31m:\u001b[0m unterminated string literal (detected at line 1)\n"
     ]
    }
   ],
   "source": [
    "r2 = 'this is my first python class for data science master'r'"
   ]
  },
  {
   "cell_type": "code",
   "execution_count": 83,
   "id": "621c2cf9-e3e5-4e34-94fa-fd88fb35398a",
   "metadata": {},
   "outputs": [],
   "source": [
    "r2 = \"this is my first python class for data science master'r\""
   ]
  },
  {
   "cell_type": "code",
   "execution_count": 84,
   "id": "87d528cb-043f-449a-a1aa-403f7ee300d0",
   "metadata": {},
   "outputs": [
    {
     "data": {
      "text/plain": [
       "\"this is my first python class for data science master'r\""
      ]
     },
     "execution_count": 84,
     "metadata": {},
     "output_type": "execute_result"
    }
   ],
   "source": [
    "r2"
   ]
  },
  {
   "cell_type": "code",
   "execution_count": 85,
   "id": "9f67868b-09a7-4d92-a28a-4165a8792fa2",
   "metadata": {},
   "outputs": [
    {
     "ename": "SyntaxError",
     "evalue": "unterminated string literal (detected at line 1) (1329151399.py, line 1)",
     "output_type": "error",
     "traceback": [
      "\u001b[0;36m  Cell \u001b[0;32mIn[85], line 1\u001b[0;36m\u001b[0m\n\u001b[0;31m    s3 = \"this is my first python class for data science master\"r\"\u001b[0m\n\u001b[0m                                                                ^\u001b[0m\n\u001b[0;31mSyntaxError\u001b[0m\u001b[0;31m:\u001b[0m unterminated string literal (detected at line 1)\n"
     ]
    }
   ],
   "source": [
    "s3 = \"this is my first python class for data science master\"r\""
   ]
  },
  {
   "cell_type": "code",
   "execution_count": 86,
   "id": "330ea52f-fe45-4ed5-9ea6-a0acf737f688",
   "metadata": {},
   "outputs": [],
   "source": [
    "s3 = 'this is my first python class for data science master\"r'"
   ]
  },
  {
   "cell_type": "code",
   "execution_count": 87,
   "id": "74807ac3-5d69-49f9-b401-4fecde4bddc3",
   "metadata": {},
   "outputs": [
    {
     "data": {
      "text/plain": [
       "'this is my first python class for data science master\"r'"
      ]
     },
     "execution_count": 87,
     "metadata": {},
     "output_type": "execute_result"
    }
   ],
   "source": [
    "s3"
   ]
  },
  {
   "cell_type": "code",
   "execution_count": 88,
   "id": "ccb53cd1-339e-44f7-8c27-de918436215a",
   "metadata": {},
   "outputs": [],
   "source": [
    "#for double line code use \"\" if we use inside ', '' if we use \" inside\n",
    "\n",
    "\n",
    "s3 = 'this is my first python class for data science master\"r'"
   ]
  },
  {
   "cell_type": "code",
   "execution_count": 89,
   "id": "0b94a6e1-72a3-4374-901c-33d30a98dec1",
   "metadata": {},
   "outputs": [
    {
     "data": {
      "text/plain": [
       "'this is my first python class for data science master\"r'"
      ]
     },
     "execution_count": 89,
     "metadata": {},
     "output_type": "execute_result"
    }
   ],
   "source": [
    "s3"
   ]
  },
  {
   "cell_type": "code",
   "execution_count": 90,
   "id": "871bd239-ee16-42cf-a01a-7cc4d974cd60",
   "metadata": {},
   "outputs": [],
   "source": [
    "#we use for single line comment and \"\"\" for multiple line comments"
   ]
  },
  {
   "cell_type": "code",
   "execution_count": 91,
   "id": "90f6ddf2-53c3-4d2f-a13c-f24325e718d6",
   "metadata": {},
   "outputs": [
    {
     "ename": "SyntaxError",
     "evalue": "invalid syntax (3620978441.py, line 1)",
     "output_type": "error",
     "traceback": [
      "\u001b[0;36m  Cell \u001b[0;32mIn[91], line 1\u001b[0;36m\u001b[0m\n\u001b[0;31m    this is my first pyhton class\u001b[0m\n\u001b[0m               ^\u001b[0m\n\u001b[0;31mSyntaxError\u001b[0m\u001b[0;31m:\u001b[0m invalid syntax\n"
     ]
    }
   ],
   "source": [
    "this is my first pyhton class\n",
    "I am trying to learn variable decloaration\n",
    "so far I have learnt int, boolean, string , complex number, float varibale\n",
    "a = 10"
   ]
  },
  {
   "cell_type": "code",
   "execution_count": 92,
   "id": "77eea4c7-b7a3-4284-97cf-e003197ddb59",
   "metadata": {},
   "outputs": [],
   "source": [
    "\"\"\"this is my first pyhton class\n",
    "I am trying to learn variable decloaration\n",
    "so far I have learnt int, boolean, string , complex number, float varibale\"\"\"\n",
    "a = 10"
   ]
  },
  {
   "cell_type": "code",
   "execution_count": 93,
   "id": "ccfaf731-318f-42be-81ff-4f26d4d8c0db",
   "metadata": {},
   "outputs": [
    {
     "data": {
      "text/plain": [
       "10"
      ]
     },
     "execution_count": 93,
     "metadata": {},
     "output_type": "execute_result"
    }
   ],
   "source": [
    "a"
   ]
  },
  {
   "cell_type": "code",
   "execution_count": 94,
   "id": "18c260b0-4f40-4732-a59a-061ac5e66720",
   "metadata": {},
   "outputs": [],
   "source": [
    "a = \"rizwan\""
   ]
  },
  {
   "cell_type": "code",
   "execution_count": 95,
   "id": "f0e76667-5721-4b3d-87b8-2b8e34de4ca6",
   "metadata": {},
   "outputs": [],
   "source": [
    "b = 78"
   ]
  },
  {
   "cell_type": "code",
   "execution_count": 96,
   "id": "ce625f9d-b57e-4618-b7fd-507c9bf22081",
   "metadata": {},
   "outputs": [
    {
     "ename": "TypeError",
     "evalue": "can only concatenate str (not \"int\") to str",
     "output_type": "error",
     "traceback": [
      "\u001b[0;31m---------------------------------------------------------------------------\u001b[0m",
      "\u001b[0;31mTypeError\u001b[0m                                 Traceback (most recent call last)",
      "Cell \u001b[0;32mIn[96], line 1\u001b[0m\n\u001b[0;32m----> 1\u001b[0m \u001b[43ma\u001b[49m\u001b[38;5;241;43m+\u001b[39;49m\u001b[43mb\u001b[49m\n",
      "\u001b[0;31mTypeError\u001b[0m: can only concatenate str (not \"int\") to str"
     ]
    }
   ],
   "source": [
    "a+b"
   ]
  },
  {
   "cell_type": "code",
   "execution_count": 97,
   "id": "4545816a-244f-4dd7-9e1b-a8ffa48fa48c",
   "metadata": {},
   "outputs": [
    {
     "data": {
      "text/plain": [
       "'rizwan'"
      ]
     },
     "execution_count": 97,
     "metadata": {},
     "output_type": "execute_result"
    }
   ],
   "source": [
    "\"riz\"+\"wan\""
   ]
  },
  {
   "cell_type": "code",
   "execution_count": 99,
   "id": "ced3a3d5-ad16-4384-924f-2d29a8e9e2e6",
   "metadata": {},
   "outputs": [
    {
     "data": {
      "text/plain": [
       "'78rizwan'"
      ]
     },
     "execution_count": 99,
     "metadata": {},
     "output_type": "execute_result"
    }
   ],
   "source": [
    "str(b)+a"
   ]
  },
  {
   "cell_type": "code",
   "execution_count": 101,
   "id": "2057bffa-1440-44ea-bdfc-4c86af521cd5",
   "metadata": {},
   "outputs": [
    {
     "data": {
      "text/plain": [
       "str"
      ]
     },
     "execution_count": 101,
     "metadata": {},
     "output_type": "execute_result"
    }
   ],
   "source": [
    "type(a)"
   ]
  },
  {
   "cell_type": "code",
   "execution_count": 102,
   "id": "93abda18-b5b0-4dcd-a4cc-0c36c4a8a6c1",
   "metadata": {},
   "outputs": [
    {
     "data": {
      "text/plain": [
       "int"
      ]
     },
     "execution_count": 102,
     "metadata": {},
     "output_type": "execute_result"
    }
   ],
   "source": [
    "type(b)"
   ]
  },
  {
   "cell_type": "code",
   "execution_count": 103,
   "id": "e5e14c7c-adec-4bac-9406-4004c89cc7e4",
   "metadata": {},
   "outputs": [
    {
     "data": {
      "text/plain": [
       "'78'"
      ]
     },
     "execution_count": 103,
     "metadata": {},
     "output_type": "execute_result"
    }
   ],
   "source": [
    "str(b)"
   ]
  },
  {
   "cell_type": "code",
   "execution_count": 107,
   "id": "bf37e5ab-80d5-4e99-b7d1-da3c7480d5d8",
   "metadata": {},
   "outputs": [
    {
     "data": {
      "text/plain": [
       "'78 rizwan'"
      ]
     },
     "execution_count": 107,
     "metadata": {},
     "output_type": "execute_result"
    }
   ],
   "source": [
    "str(b)+\" \"+a"
   ]
  },
  {
   "cell_type": "code",
   "execution_count": 108,
   "id": "3b0acd17-327f-43dc-adae-6c8cc5a61110",
   "metadata": {},
   "outputs": [
    {
     "data": {
      "text/plain": [
       "'rizwan'"
      ]
     },
     "execution_count": 108,
     "metadata": {},
     "output_type": "execute_result"
    }
   ],
   "source": [
    "a"
   ]
  },
  {
   "cell_type": "code",
   "execution_count": 109,
   "id": "e81b1d72-39a4-46bc-9b25-581bc6298fae",
   "metadata": {},
   "outputs": [
    {
     "data": {
      "text/plain": [
       "78"
      ]
     },
     "execution_count": 109,
     "metadata": {},
     "output_type": "execute_result"
    }
   ],
   "source": [
    "b"
   ]
  },
  {
   "cell_type": "code",
   "execution_count": 111,
   "id": "9443a3fb-aca4-4c21-a414-c2b876b6e6cd",
   "metadata": {},
   "outputs": [
    {
     "data": {
      "text/plain": [
       "78"
      ]
     },
     "execution_count": 111,
     "metadata": {},
     "output_type": "execute_result"
    }
   ],
   "source": [
    "int(b)"
   ]
  },
  {
   "cell_type": "code",
   "execution_count": 112,
   "id": "d1d4376c-0c98-4f2d-946c-b273891da2e0",
   "metadata": {},
   "outputs": [],
   "source": [
    "c = str(b)"
   ]
  },
  {
   "cell_type": "code",
   "execution_count": 113,
   "id": "c5ee1c7d-f457-494f-b58a-fcd3d6006f4b",
   "metadata": {},
   "outputs": [
    {
     "data": {
      "text/plain": [
       "'78'"
      ]
     },
     "execution_count": 113,
     "metadata": {},
     "output_type": "execute_result"
    }
   ],
   "source": [
    "c"
   ]
  },
  {
   "cell_type": "code",
   "execution_count": 114,
   "id": "9a66de9c-564a-42b1-9367-ed0b8058e6e8",
   "metadata": {},
   "outputs": [
    {
     "data": {
      "text/plain": [
       "78"
      ]
     },
     "execution_count": 114,
     "metadata": {},
     "output_type": "execute_result"
    }
   ],
   "source": [
    "int(b)"
   ]
  },
  {
   "cell_type": "code",
   "execution_count": 116,
   "id": "a3ccccab-cfb7-4a27-8c54-3bf37817aa4c",
   "metadata": {},
   "outputs": [],
   "source": [
    "r = 'rizwan'"
   ]
  },
  {
   "cell_type": "code",
   "execution_count": 117,
   "id": "f5cf0cc6-0785-4488-b22c-ebc132051759",
   "metadata": {},
   "outputs": [
    {
     "data": {
      "text/plain": [
       "'rizwan'"
      ]
     },
     "execution_count": 117,
     "metadata": {},
     "output_type": "execute_result"
    }
   ],
   "source": [
    "r"
   ]
  },
  {
   "cell_type": "code",
   "execution_count": 118,
   "id": "a94aa837-3dfa-4047-84de-ea63c47f10a8",
   "metadata": {},
   "outputs": [],
   "source": [
    "a = 34355"
   ]
  },
  {
   "cell_type": "code",
   "execution_count": 119,
   "id": "71fa8562-55c2-42af-ab8f-b8852cb9d36f",
   "metadata": {},
   "outputs": [
    {
     "name": "stdin",
     "output_type": "stream",
     "text": [
      " rizWAN\n"
     ]
    }
   ],
   "source": [
    "b = input()"
   ]
  },
  {
   "cell_type": "code",
   "execution_count": 121,
   "id": "6efefe24-181f-4244-9cbf-5e8eb4c8d0cf",
   "metadata": {},
   "outputs": [
    {
     "data": {
      "text/plain": [
       "'rizWAN'"
      ]
     },
     "execution_count": 121,
     "metadata": {},
     "output_type": "execute_result"
    }
   ],
   "source": [
    "b"
   ]
  },
  {
   "cell_type": "code",
   "execution_count": 122,
   "id": "03a27cfb-6649-4459-ab60-995aba4a1e28",
   "metadata": {},
   "outputs": [
    {
     "name": "stdin",
     "output_type": "stream",
     "text": [
      " this ia my data science class\n"
     ]
    }
   ],
   "source": [
    "b = input()"
   ]
  },
  {
   "cell_type": "code",
   "execution_count": 123,
   "id": "71fc0af2-42c4-48b4-8077-c9ff8c7ad714",
   "metadata": {},
   "outputs": [
    {
     "data": {
      "text/plain": [
       "'this ia my data science class'"
      ]
     },
     "execution_count": 123,
     "metadata": {},
     "output_type": "execute_result"
    }
   ],
   "source": [
    "b"
   ]
  },
  {
   "cell_type": "code",
   "execution_count": 124,
   "id": "04e8ce1a-d720-425a-bc31-c45513ee3f2d",
   "metadata": {},
   "outputs": [
    {
     "data": {
      "text/plain": [
       "str"
      ]
     },
     "execution_count": 124,
     "metadata": {},
     "output_type": "execute_result"
    }
   ],
   "source": [
    "type(b)"
   ]
  },
  {
   "cell_type": "code",
   "execution_count": 125,
   "id": "238f00bc-394c-4b1d-854a-a7a20010fd40",
   "metadata": {},
   "outputs": [
    {
     "name": "stdin",
     "output_type": "stream",
     "text": [
      " 4546 \n"
     ]
    }
   ],
   "source": [
    "b = input()"
   ]
  },
  {
   "cell_type": "code",
   "execution_count": 126,
   "id": "2b13a8d1-db5f-419c-bdff-53588e98831b",
   "metadata": {},
   "outputs": [
    {
     "data": {
      "text/plain": [
       "'4546 '"
      ]
     },
     "execution_count": 126,
     "metadata": {},
     "output_type": "execute_result"
    }
   ],
   "source": [
    "b"
   ]
  },
  {
   "cell_type": "code",
   "execution_count": 127,
   "id": "7a6c7cab-9d1d-4b5f-aebc-e013925b786e",
   "metadata": {},
   "outputs": [
    {
     "data": {
      "text/plain": [
       "str"
      ]
     },
     "execution_count": 127,
     "metadata": {},
     "output_type": "execute_result"
    }
   ],
   "source": [
    "type(b)"
   ]
  },
  {
   "cell_type": "code",
   "execution_count": 128,
   "id": "8bb82db7-2e54-42be-935c-7e9d9fce5c35",
   "metadata": {},
   "outputs": [
    {
     "name": "stdin",
     "output_type": "stream",
     "text": [
      " 23.45\n"
     ]
    }
   ],
   "source": [
    "b = input()"
   ]
  },
  {
   "cell_type": "code",
   "execution_count": 129,
   "id": "61cf812e-d03e-4afc-8aeb-5da7e00ad6d0",
   "metadata": {},
   "outputs": [
    {
     "data": {
      "text/plain": [
       "'23.45'"
      ]
     },
     "execution_count": 129,
     "metadata": {},
     "output_type": "execute_result"
    }
   ],
   "source": [
    "b"
   ]
  },
  {
   "cell_type": "code",
   "execution_count": 131,
   "id": "7b0a6726-dcac-4103-ac7a-09a2e29cd9eb",
   "metadata": {},
   "outputs": [
    {
     "data": {
      "text/plain": [
       "str"
      ]
     },
     "execution_count": 131,
     "metadata": {},
     "output_type": "execute_result"
    }
   ],
   "source": [
    "type(b)"
   ]
  },
  {
   "cell_type": "code",
   "execution_count": 132,
   "id": "ac31f8bb-0498-4bae-bfad-b7a493487cc7",
   "metadata": {},
   "outputs": [
    {
     "name": "stdin",
     "output_type": "stream",
     "text": [
      " True\n"
     ]
    }
   ],
   "source": [
    "b = input()"
   ]
  },
  {
   "cell_type": "code",
   "execution_count": 133,
   "id": "22578c5a-d647-4c5d-acd2-6b08597ced8b",
   "metadata": {},
   "outputs": [
    {
     "data": {
      "text/plain": [
       "'True'"
      ]
     },
     "execution_count": 133,
     "metadata": {},
     "output_type": "execute_result"
    }
   ],
   "source": [
    "b"
   ]
  },
  {
   "cell_type": "code",
   "execution_count": 135,
   "id": "e28ad173-3652-45c0-a767-3409675fdfda",
   "metadata": {},
   "outputs": [
    {
     "data": {
      "text/plain": [
       "str"
      ]
     },
     "execution_count": 135,
     "metadata": {},
     "output_type": "execute_result"
    }
   ],
   "source": [
    "type(b)"
   ]
  },
  {
   "cell_type": "code",
   "execution_count": 136,
   "id": "1e3a8c72-122d-45f9-8fdc-dbdc1d0b24f3",
   "metadata": {},
   "outputs": [
    {
     "name": "stdin",
     "output_type": "stream",
     "text": [
      " 45\n"
     ]
    }
   ],
   "source": [
    "b = input()"
   ]
  },
  {
   "cell_type": "code",
   "execution_count": 137,
   "id": "ae2e1f7d-e441-4395-9be7-abca54c78559",
   "metadata": {},
   "outputs": [
    {
     "data": {
      "text/plain": [
       "'45'"
      ]
     },
     "execution_count": 137,
     "metadata": {},
     "output_type": "execute_result"
    }
   ],
   "source": [
    "b"
   ]
  },
  {
   "cell_type": "code",
   "execution_count": 138,
   "id": "058d5834-6746-4e19-90be-0a4393f6aa19",
   "metadata": {},
   "outputs": [
    {
     "data": {
      "text/plain": [
       "str"
      ]
     },
     "execution_count": 138,
     "metadata": {},
     "output_type": "execute_result"
    }
   ],
   "source": [
    "type(b)"
   ]
  },
  {
   "cell_type": "code",
   "execution_count": 139,
   "id": "4c0b9564-bb14-4b53-9dca-620504812d75",
   "metadata": {},
   "outputs": [
    {
     "data": {
      "text/plain": [
       "45"
      ]
     },
     "execution_count": 139,
     "metadata": {},
     "output_type": "execute_result"
    }
   ],
   "source": [
    "int(b)"
   ]
  },
  {
   "cell_type": "code",
   "execution_count": 141,
   "id": "689dedcb-3cf4-42cb-825d-b1e5293e53a1",
   "metadata": {},
   "outputs": [
    {
     "name": "stdin",
     "output_type": "stream",
     "text": [
      " 56\n"
     ]
    }
   ],
   "source": [
    "b = int(input())"
   ]
  },
  {
   "cell_type": "code",
   "execution_count": 142,
   "id": "1b573cec-477e-4254-b987-923518129015",
   "metadata": {},
   "outputs": [
    {
     "data": {
      "text/plain": [
       "56"
      ]
     },
     "execution_count": 142,
     "metadata": {},
     "output_type": "execute_result"
    }
   ],
   "source": [
    "b"
   ]
  },
  {
   "cell_type": "code",
   "execution_count": 143,
   "id": "0299e4f2-b52d-4f25-afab-1d6a387812a2",
   "metadata": {},
   "outputs": [
    {
     "data": {
      "text/plain": [
       "int"
      ]
     },
     "execution_count": 143,
     "metadata": {},
     "output_type": "execute_result"
    }
   ],
   "source": [
    "type(b)"
   ]
  },
  {
   "cell_type": "code",
   "execution_count": 144,
   "id": "6d2f7715-d785-4c58-b318-f4e8ca2fd3b2",
   "metadata": {},
   "outputs": [
    {
     "name": "stdin",
     "output_type": "stream",
     "text": [
      " 56.45\n"
     ]
    }
   ],
   "source": [
    "b = float(input())"
   ]
  },
  {
   "cell_type": "code",
   "execution_count": 145,
   "id": "a7cf1b09-847f-4a64-a14d-d85240b920b3",
   "metadata": {},
   "outputs": [
    {
     "data": {
      "text/plain": [
       "56.45"
      ]
     },
     "execution_count": 145,
     "metadata": {},
     "output_type": "execute_result"
    }
   ],
   "source": [
    "b"
   ]
  },
  {
   "cell_type": "code",
   "execution_count": 146,
   "id": "46a1941b-5fc5-466a-9055-67d780667a74",
   "metadata": {},
   "outputs": [
    {
     "data": {
      "text/plain": [
       "float"
      ]
     },
     "execution_count": 146,
     "metadata": {},
     "output_type": "execute_result"
    }
   ],
   "source": [
    "type(b)"
   ]
  },
  {
   "cell_type": "code",
   "execution_count": 147,
   "id": "57243eb0-39f3-4643-9d8a-2d8a8fba4418",
   "metadata": {},
   "outputs": [
    {
     "name": "stdin",
     "output_type": "stream",
     "text": [
      " True\n"
     ]
    }
   ],
   "source": [
    "b = bool(input())"
   ]
  },
  {
   "cell_type": "code",
   "execution_count": 148,
   "id": "30acef2e-2176-4afd-8b6b-4c800759df74",
   "metadata": {},
   "outputs": [
    {
     "data": {
      "text/plain": [
       "True"
      ]
     },
     "execution_count": 148,
     "metadata": {},
     "output_type": "execute_result"
    }
   ],
   "source": [
    "b"
   ]
  },
  {
   "cell_type": "code",
   "execution_count": 149,
   "id": "e0013947-ed71-4165-9bc3-94a1c7922717",
   "metadata": {},
   "outputs": [
    {
     "data": {
      "text/plain": [
       "bool"
      ]
     },
     "execution_count": 149,
     "metadata": {},
     "output_type": "execute_result"
    }
   ],
   "source": [
    "type(b)"
   ]
  },
  {
   "cell_type": "code",
   "execution_count": 150,
   "id": "2e7ea51a-d2fc-4f24-9abf-bb5aaa5dc2e7",
   "metadata": {},
   "outputs": [],
   "source": [
    "r = \"rizwan\""
   ]
  },
  {
   "cell_type": "code",
   "execution_count": 151,
   "id": "63bc8dd8-39a5-4420-94c9-99b1c1e42e54",
   "metadata": {},
   "outputs": [
    {
     "data": {
      "text/plain": [
       "'rizwan'"
      ]
     },
     "execution_count": 151,
     "metadata": {},
     "output_type": "execute_result"
    }
   ],
   "source": [
    "r"
   ]
  },
  {
   "cell_type": "code",
   "execution_count": 156,
   "id": "fe431175-b3ca-4291-80ae-97e7cfc5bee2",
   "metadata": {},
   "outputs": [
    {
     "data": {
      "text/plain": [
       "'i'"
      ]
     },
     "execution_count": 156,
     "metadata": {},
     "output_type": "execute_result"
    }
   ],
   "source": [
    "r[1]"
   ]
  },
  {
   "cell_type": "code",
   "execution_count": 157,
   "id": "b3d61776-0e9e-4684-96a1-76b30be99e89",
   "metadata": {},
   "outputs": [
    {
     "data": {
      "text/plain": [
       "'zw'"
      ]
     },
     "execution_count": 157,
     "metadata": {},
     "output_type": "execute_result"
    }
   ],
   "source": [
    "r[2:4]"
   ]
  },
  {
   "cell_type": "code",
   "execution_count": 158,
   "id": "3e844e92-437c-4e35-a8f8-5c583d3028df",
   "metadata": {},
   "outputs": [
    {
     "data": {
      "text/plain": [
       "'rizwan'"
      ]
     },
     "execution_count": 158,
     "metadata": {},
     "output_type": "execute_result"
    }
   ],
   "source": [
    "r[::]"
   ]
  },
  {
   "cell_type": "code",
   "execution_count": 159,
   "id": "d0c107e6-462f-4814-81c0-a45091fa665f",
   "metadata": {},
   "outputs": [
    {
     "data": {
      "text/plain": [
       "'z'"
      ]
     },
     "execution_count": 159,
     "metadata": {},
     "output_type": "execute_result"
    }
   ],
   "source": [
    "r[-4]"
   ]
  },
  {
   "cell_type": "code",
   "execution_count": 160,
   "id": "00b3f29d-d2d5-4f9a-8506-7c47bccd7e15",
   "metadata": {},
   "outputs": [],
   "source": [
    "p = \"pwskills\""
   ]
  },
  {
   "cell_type": "code",
   "execution_count": 161,
   "id": "fe877b46-0ea3-49be-b1e6-c89df80e54e4",
   "metadata": {},
   "outputs": [
    {
     "data": {
      "text/plain": [
       "'p'"
      ]
     },
     "execution_count": 161,
     "metadata": {},
     "output_type": "execute_result"
    }
   ],
   "source": [
    "p[0]"
   ]
  },
  {
   "cell_type": "code",
   "execution_count": 163,
   "id": "64bea6ae-59ce-4f75-9c1d-7fac99e680ab",
   "metadata": {},
   "outputs": [
    {
     "data": {
      "text/plain": [
       "'pwskills'"
      ]
     },
     "execution_count": 163,
     "metadata": {},
     "output_type": "execute_result"
    }
   ],
   "source": [
    "p[0:8]"
   ]
  },
  {
   "cell_type": "code",
   "execution_count": 164,
   "id": "769450a3-9fe0-4d8a-8e1c-826443de20dd",
   "metadata": {},
   "outputs": [
    {
     "data": {
      "text/plain": [
       "'skill'"
      ]
     },
     "execution_count": 164,
     "metadata": {},
     "output_type": "execute_result"
    }
   ],
   "source": [
    "p[2:-1]"
   ]
  },
  {
   "cell_type": "code",
   "execution_count": 166,
   "id": "a658654f-24da-42db-9878-127a0f9a663b",
   "metadata": {},
   "outputs": [
    {
     "data": {
      "text/plain": [
       "'pwskills'"
      ]
     },
     "execution_count": 166,
     "metadata": {},
     "output_type": "execute_result"
    }
   ],
   "source": [
    "p[0::]"
   ]
  },
  {
   "cell_type": "code",
   "execution_count": 167,
   "id": "8d24c6c9-9ee7-4b2b-814f-119ea6657aeb",
   "metadata": {},
   "outputs": [
    {
     "data": {
      "text/plain": [
       "'skills'"
      ]
     },
     "execution_count": 167,
     "metadata": {},
     "output_type": "execute_result"
    }
   ],
   "source": [
    "p[2::]"
   ]
  },
  {
   "cell_type": "code",
   "execution_count": 168,
   "id": "f2708673-34a5-4183-8468-d2168378fb7d",
   "metadata": {},
   "outputs": [
    {
     "data": {
      "text/plain": [
       "'skills'"
      ]
     },
     "execution_count": 168,
     "metadata": {},
     "output_type": "execute_result"
    }
   ],
   "source": [
    "p[2:575]"
   ]
  },
  {
   "cell_type": "code",
   "execution_count": 169,
   "id": "42f39e18-4206-4455-a03c-eb7353d01eaa",
   "metadata": {},
   "outputs": [
    {
     "data": {
      "text/plain": [
       "'skills'"
      ]
     },
     "execution_count": 169,
     "metadata": {},
     "output_type": "execute_result"
    }
   ],
   "source": [
    "p[2:]"
   ]
  },
  {
   "cell_type": "code",
   "execution_count": 172,
   "id": "6aa712bd-fae3-438e-95a4-937e6e0954d9",
   "metadata": {},
   "outputs": [
    {
     "data": {
      "text/plain": [
       "'pwskill'"
      ]
     },
     "execution_count": 172,
     "metadata": {},
     "output_type": "execute_result"
    }
   ],
   "source": [
    "p[0:7:1]"
   ]
  },
  {
   "cell_type": "code",
   "execution_count": 173,
   "id": "2dff13b0-eb4b-4d57-a2c6-8dcfae0b2b27",
   "metadata": {},
   "outputs": [
    {
     "data": {
      "text/plain": [
       "'psil'"
      ]
     },
     "execution_count": 173,
     "metadata": {},
     "output_type": "execute_result"
    }
   ],
   "source": [
    "p[0:7:2]"
   ]
  },
  {
   "cell_type": "code",
   "execution_count": 174,
   "id": "03ccaa5c-9209-47ab-910a-336ab1793571",
   "metadata": {},
   "outputs": [
    {
     "data": {
      "text/plain": [
       "['p', 'w', 's', 'k', 'i', 'l', 'l', 's']"
      ]
     },
     "execution_count": 174,
     "metadata": {},
     "output_type": "execute_result"
    }
   ],
   "source": [
    "list(p[::])"
   ]
  },
  {
   "cell_type": "code",
   "execution_count": 175,
   "id": "a0de5cc8-766d-473a-a76a-308cd7c9a6a3",
   "metadata": {},
   "outputs": [
    {
     "data": {
      "text/plain": [
       "'pwskills'"
      ]
     },
     "execution_count": 175,
     "metadata": {},
     "output_type": "execute_result"
    }
   ],
   "source": [
    "p"
   ]
  },
  {
   "cell_type": "code",
   "execution_count": 176,
   "id": "1593dd98-73ee-4d59-8b5b-919ce3435b11",
   "metadata": {},
   "outputs": [
    {
     "data": {
      "text/plain": [
       "''"
      ]
     },
     "execution_count": 176,
     "metadata": {},
     "output_type": "execute_result"
    }
   ],
   "source": [
    "p[7:3]"
   ]
  },
  {
   "cell_type": "code",
   "execution_count": 177,
   "id": "70dea943-51f7-47b0-aad7-c6b94f1068f9",
   "metadata": {},
   "outputs": [
    {
     "data": {
      "text/plain": [
       "'kill'"
      ]
     },
     "execution_count": 177,
     "metadata": {},
     "output_type": "execute_result"
    }
   ],
   "source": [
    "p[3:7]"
   ]
  },
  {
   "cell_type": "code",
   "execution_count": 181,
   "id": "4efe02cc-21ed-4882-8393-e951506851b8",
   "metadata": {},
   "outputs": [
    {
     "data": {
      "text/plain": [
       "'slli'"
      ]
     },
     "execution_count": 181,
     "metadata": {},
     "output_type": "execute_result"
    }
   ],
   "source": [
    "p[7:3:-1]"
   ]
  },
  {
   "cell_type": "code",
   "execution_count": 183,
   "id": "037faed9-8165-4d2a-9bb3-96561b8a6638",
   "metadata": {},
   "outputs": [
    {
     "data": {
      "text/plain": [
       "'slli'"
      ]
     },
     "execution_count": 183,
     "metadata": {},
     "output_type": "execute_result"
    }
   ],
   "source": [
    "p[-1:-5:-1]"
   ]
  },
  {
   "cell_type": "code",
   "execution_count": 190,
   "id": "2f324853-c3ea-4937-a752-1142549df45c",
   "metadata": {},
   "outputs": [
    {
     "data": {
      "text/plain": [
       "'slliksw'"
      ]
     },
     "execution_count": 190,
     "metadata": {},
     "output_type": "execute_result"
    }
   ],
   "source": [
    "p[7:0:-1]"
   ]
  },
  {
   "cell_type": "code",
   "execution_count": 192,
   "id": "bfb1f164-5664-4bca-aaf2-4bbd6b49aa68",
   "metadata": {},
   "outputs": [
    {
     "data": {
      "text/plain": [
       "'sllikswp'"
      ]
     },
     "execution_count": 192,
     "metadata": {},
     "output_type": "execute_result"
    }
   ],
   "source": [
    "p[7:-9:-1]"
   ]
  },
  {
   "cell_type": "code",
   "execution_count": 193,
   "id": "c2adbc3d-00eb-4bee-aab0-a04859c0511e",
   "metadata": {},
   "outputs": [
    {
     "data": {
      "text/plain": [
       "'sllikswp'"
      ]
     },
     "execution_count": 193,
     "metadata": {},
     "output_type": "execute_result"
    }
   ],
   "source": [
    "p[7::-1]"
   ]
  },
  {
   "cell_type": "code",
   "execution_count": 194,
   "id": "608092d2-6752-4ffe-ade1-33475bf57342",
   "metadata": {},
   "outputs": [
    {
     "data": {
      "text/plain": [
       "'sllikswp'"
      ]
     },
     "execution_count": 194,
     "metadata": {},
     "output_type": "execute_result"
    }
   ],
   "source": [
    "p[::-1]"
   ]
  },
  {
   "cell_type": "code",
   "execution_count": 196,
   "id": "dd2ce80e-9c4b-445e-b347-8400c45140db",
   "metadata": {},
   "outputs": [
    {
     "data": {
      "text/plain": [
       "'pwskills'"
      ]
     },
     "execution_count": 196,
     "metadata": {},
     "output_type": "execute_result"
    }
   ],
   "source": [
    "p[::1]"
   ]
  },
  {
   "cell_type": "code",
   "execution_count": 197,
   "id": "bbb4b547-e936-4146-908d-4bca8f51b886",
   "metadata": {},
   "outputs": [
    {
     "data": {
      "text/plain": [
       "'pwskills'"
      ]
     },
     "execution_count": 197,
     "metadata": {},
     "output_type": "execute_result"
    }
   ],
   "source": [
    "p"
   ]
  },
  {
   "cell_type": "code",
   "execution_count": 202,
   "id": "8eedb17c-c6ef-40c0-91da-224bc1a236ff",
   "metadata": {},
   "outputs": [
    {
     "data": {
      "text/plain": [
       "'p'"
      ]
     },
     "execution_count": 202,
     "metadata": {},
     "output_type": "execute_result"
    }
   ],
   "source": [
    "p[0]"
   ]
  },
  {
   "cell_type": "code",
   "execution_count": 200,
   "id": "3c70ac3d-76b0-467f-ac4e-8e69a27d6dc2",
   "metadata": {},
   "outputs": [
    {
     "ename": "TypeError",
     "evalue": "'str' object does not support item assignment",
     "output_type": "error",
     "traceback": [
      "\u001b[0;31m---------------------------------------------------------------------------\u001b[0m",
      "\u001b[0;31mTypeError\u001b[0m                                 Traceback (most recent call last)",
      "Cell \u001b[0;32mIn[200], line 1\u001b[0m\n\u001b[0;32m----> 1\u001b[0m \u001b[43mp\u001b[49m\u001b[43m[\u001b[49m\u001b[38;5;241;43m0\u001b[39;49m\u001b[43m]\u001b[49m\u001b[38;5;241m=\u001b[39m\u001b[38;5;124m'\u001b[39m\u001b[38;5;124ms\u001b[39m\u001b[38;5;124m'\u001b[39m\n",
      "\u001b[0;31mTypeError\u001b[0m: 'str' object does not support item assignment"
     ]
    }
   ],
   "source": [
    "p[0]='s'"
   ]
  }
 ],
 "metadata": {
  "kernelspec": {
   "display_name": "Python 3 (ipykernel)",
   "language": "python",
   "name": "python3"
  },
  "language_info": {
   "codemirror_mode": {
    "name": "ipython",
    "version": 3
   },
   "file_extension": ".py",
   "mimetype": "text/x-python",
   "name": "python",
   "nbconvert_exporter": "python",
   "pygments_lexer": "ipython3",
   "version": "3.10.8"
  }
 },
 "nbformat": 4,
 "nbformat_minor": 5
}
