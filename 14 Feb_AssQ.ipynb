{
 "cells": [
  {
   "cell_type": "code",
   "execution_count": 1,
   "id": "25bd6a40-53cf-4976-b201-5e0645d8d7a2",
   "metadata": {},
   "outputs": [],
   "source": [
    "#Q1. What is multithreading in python? Why is it used? Name the module used to handle threads in python."
   ]
  },
  {
   "cell_type": "code",
   "execution_count": 7,
   "id": "20d00712-36e3-4bfc-923a-6945812828d8",
   "metadata": {},
   "outputs": [
    {
     "data": {
      "text/plain": [
       "'\\nMultithreading in Python allows for the execution of multiple threads simultaneously within a single process\\n'"
      ]
     },
     "execution_count": 7,
     "metadata": {},
     "output_type": "execute_result"
    }
   ],
   "source": [
    "\"\"\"\n",
    "Multithreading in Python allows for the execution of multiple threads simultaneously within a single process\n",
    "\"\"\""
   ]
  },
  {
   "cell_type": "code",
   "execution_count": 11,
   "id": "d94d1452-72ac-4c2e-a9fb-fe4fdd5b1cb4",
   "metadata": {},
   "outputs": [
    {
     "data": {
      "text/plain": [
       "'\\nThe threading module is used to handle threads in Python. It provides the necessary functionality to create, manage, and control threads in a Python program\\n'"
      ]
     },
     "execution_count": 11,
     "metadata": {},
     "output_type": "execute_result"
    }
   ],
   "source": [
    "\"\"\"\n",
    "The threading module is used to handle threads in Python. It provides the necessary functionality to create, manage, and control threads in a Python program\n",
    "\"\"\""
   ]
  },
  {
   "cell_type": "code",
   "execution_count": 9,
   "id": "8c31f849-0bc4-4808-8ecd-5c5843d3401f",
   "metadata": {},
   "outputs": [],
   "source": [
    "#Parallelism\n",
    "#Concurrency\n",
    "#Responsiveness\n",
    "#Resource Sharing\n",
    "#Task Decomposition\n",
    "#Efficient Use of Resources"
   ]
  },
  {
   "cell_type": "code",
   "execution_count": 17,
   "id": "68cb75e7-6e57-43fd-a47c-39507015f6de",
   "metadata": {},
   "outputs": [
    {
     "name": "stdout",
     "output_type": "stream",
     "text": [
      "Number: 1\n",
      "Letter: a\n",
      "Letter: bNumber: 2\n",
      "\n",
      "Number: 3Letter: c\n",
      "\n",
      "Letter: dNumber: 4\n",
      "\n",
      "Number: 5Letter: e\n",
      "\n",
      "Both threads have finished.\n"
     ]
    }
   ],
   "source": [
    "import threading\n",
    "import time\n",
    "\n",
    "def print_numbers():\n",
    "    for i in range(1, 6):\n",
    "        print(f\"Number: {i}\")\n",
    "        time.sleep(0.5)\n",
    "\n",
    "def print_letters():\n",
    "    for letter in 'abcde':\n",
    "        print(f\"Letter: {letter}\")\n",
    "        time.sleep(0.5)\n",
    "\n",
    "thread1 = threading.Thread(target=print_numbers)\n",
    "thread2 = threading.Thread(target=print_letters)\n",
    "\n",
    "thread1.start()\n",
    "thread2.start()\n",
    "\n",
    "thread1.join()\n",
    "thread2.join()\n",
    "\n",
    "print(\"Both threads have finished.\")\n"
   ]
  },
  {
   "cell_type": "code",
   "execution_count": 14,
   "id": "81bb3e22-9783-4960-a3a6-58c82b2642e3",
   "metadata": {},
   "outputs": [],
   "source": [
    "#Q2. Why threading module used? Write the use of the following functions:\n",
    "#1. activeCount()\n",
    "#2. currentThread()\n",
    "#3. enumerate()"
   ]
  },
  {
   "cell_type": "code",
   "execution_count": 19,
   "id": "b68e5d17-0ab6-4594-8ef9-a6fd0b00ab42",
   "metadata": {},
   "outputs": [
    {
     "name": "stdout",
     "output_type": "stream",
     "text": [
      "0\n",
      "1\n",
      "2\n",
      "3\n",
      "4\n",
      "0\n",
      "1\n",
      "2\n",
      "3\n",
      "4\n",
      "Active Threads: 8\n"
     ]
    },
    {
     "name": "stderr",
     "output_type": "stream",
     "text": [
      "/tmp/ipykernel_888/338092576.py:15: DeprecationWarning: activeCount() is deprecated, use active_count() instead\n",
      "  print(\"Active Threads:\", threading.activeCount())\n"
     ]
    }
   ],
   "source": [
    "#activeCount()\n",
    "\n",
    "import threading\n",
    "\n",
    "def print_numbers():\n",
    "    for i in range(5):\n",
    "        print(i)\n",
    "\n",
    "thread1 = threading.Thread(target=print_numbers)\n",
    "thread2 = threading.Thread(target=print_numbers)\n",
    "\n",
    "thread1.start()\n",
    "thread2.start()\n",
    "\n",
    "print(\"Active Threads:\", threading.activeCount())\n"
   ]
  },
  {
   "cell_type": "code",
   "execution_count": 39,
   "id": "1c0dc1b9-a868-49a5-b992-33637a7f3b40",
   "metadata": {},
   "outputs": [
    {
     "name": "stdout",
     "output_type": "stream",
     "text": [
      "Current Thread Name: Thread-1\n"
     ]
    },
    {
     "name": "stderr",
     "output_type": "stream",
     "text": [
      "/tmp/ipykernel_888/671281952.py:7: DeprecationWarning: currentThread() is deprecated, use current_thread() instead\n",
      "  current_thread = threading.currentThread()\n"
     ]
    }
   ],
   "source": [
    "#2. currentThread()\n",
    "\n",
    "\n",
    "import threading\n",
    "\n",
    "def print_thread_name():\n",
    "    current_thread = threading.currentThread()\n",
    "    print(\"Current Thread Name:\", current_thread.name)\n",
    "\n",
    "thread1 = threading.Thread(target=print_thread_name, name=\"Thread-1\")\n",
    "thread1.start()\n"
   ]
  },
  {
   "cell_type": "code",
   "execution_count": 41,
   "id": "1ccc21c4-3364-4b1e-bcdc-8d18533c5b55",
   "metadata": {},
   "outputs": [
    {
     "name": "stdout",
     "output_type": "stream",
     "text": [
      "Thread Name: MainThread\n",
      "Thread Name: IOPub\n",
      "Thread Name: Heartbeat\n",
      "Thread Name: Thread-3 (_watch_pipe_fd)\n",
      "Thread Name: Thread-4 (_watch_pipe_fd)\n",
      "Thread Name: Control\n",
      "Thread Name: IPythonHistorySavingThread\n",
      "Thread Name: Thread-2\n",
      "Thread Name: Thread-1\n",
      "Thread Name: MainThread\n",
      "Thread Name: IOPub\n",
      "Thread Name: Heartbeat\n",
      "Thread Name: Thread-3 (_watch_pipe_fd)\n",
      "Thread Name: Thread-4 (_watch_pipe_fd)\n",
      "Thread Name: Control\n",
      "Thread Name: IPythonHistorySavingThread\n",
      "Thread Name: Thread-2\n",
      "Thread Name: Thread-2\n"
     ]
    }
   ],
   "source": [
    "#3. enumerate()\n",
    "\n",
    "import threading\n",
    "\n",
    "def print_thread_names():\n",
    "    threads = threading.enumerate()\n",
    "    for thread in threads:\n",
    "        print(\"Thread Name:\", thread.name)\n",
    "\n",
    "thread1 = threading.Thread(target=print_thread_names, name=\"Thread-1\")\n",
    "thread2 = threading.Thread(target=print_thread_names, name=\"Thread-2\")\n",
    "\n",
    "thread1.start()\n",
    "thread2.start()\n"
   ]
  },
  {
   "cell_type": "code",
   "execution_count": 24,
   "id": "4d915836-36ea-4226-8745-fce8f60cc3b7",
   "metadata": {},
   "outputs": [],
   "source": [
    "#Q3. Explain the following functions:\n",
    "#1. run()\n",
    "#2. start()\n",
    "#3. join()\n",
    "#4. isAlive()"
   ]
  },
  {
   "cell_type": "code",
   "execution_count": 43,
   "id": "86fd7cd2-12c1-442c-9f5f-536cb0c9b473",
   "metadata": {},
   "outputs": [
    {
     "name": "stdout",
     "output_type": "stream",
     "text": [
      "Thread is running\n"
     ]
    }
   ],
   "source": [
    "#1. run()\n",
    "\n",
    "import threading\n",
    "\n",
    "class MyThread(threading.Thread):\n",
    "    def run(self):\n",
    "        print(\"Thread is running\")\n",
    "\n",
    "my_thread = MyThread()\n",
    "my_thread.start()\n",
    "\n"
   ]
  },
  {
   "cell_type": "code",
   "execution_count": 46,
   "id": "fb02023b-c565-4ca4-b4b1-161f03ea5efa",
   "metadata": {},
   "outputs": [
    {
     "name": "stdout",
     "output_type": "stream",
     "text": [
      "0\n",
      "1\n",
      "2\n",
      "3\n",
      "4\n"
     ]
    }
   ],
   "source": [
    "#2. start()\n",
    "\n",
    "\n",
    "import threading\n",
    "\n",
    "def print_numbers():\n",
    "    for i in range(5):\n",
    "        print(i)\n",
    "\n",
    "thread1 = threading.Thread(target=print_numbers)\n",
    "thread1.start() \n"
   ]
  },
  {
   "cell_type": "code",
   "execution_count": 49,
   "id": "72024923-dc0b-46c3-8033-f3951dae40c5",
   "metadata": {},
   "outputs": [
    {
     "name": "stdout",
     "output_type": "stream",
     "text": [
      "0\n",
      "1\n",
      "2\n",
      "3\n",
      "4\n",
      "Thread has finished.\n"
     ]
    }
   ],
   "source": [
    "#3. join()\n",
    "\n",
    "import threading\n",
    "\n",
    "def print_numbers():\n",
    "    for i in range(5):\n",
    "        print(i)\n",
    "\n",
    "thread1 = threading.Thread(target=print_numbers)\n",
    "thread1.start()\n",
    "\n",
    "thread1.join() \n",
    "print(\"Thread has finished.\")\n",
    "\n"
   ]
  },
  {
   "cell_type": "code",
   "execution_count": 53,
   "id": "a6359cc2-6a33-4ebf-8da9-9abd5d53c058",
   "metadata": {},
   "outputs": [
    {
     "ename": "AttributeError",
     "evalue": "'Thread' object has no attribute 'isAlive'",
     "output_type": "error",
     "traceback": [
      "\u001b[0;31m---------------------------------------------------------------------------\u001b[0m",
      "\u001b[0;31mAttributeError\u001b[0m                            Traceback (most recent call last)",
      "Cell \u001b[0;32mIn[53], line 12\u001b[0m\n\u001b[1;32m      9\u001b[0m thread1 \u001b[38;5;241m=\u001b[39m threading\u001b[38;5;241m.\u001b[39mThread(target\u001b[38;5;241m=\u001b[39mlong_running_task)\n\u001b[1;32m     10\u001b[0m thread1\u001b[38;5;241m.\u001b[39mstart()\n\u001b[0;32m---> 12\u001b[0m \u001b[38;5;28mprint\u001b[39m(\u001b[38;5;124m\"\u001b[39m\u001b[38;5;124mThread 1 is alive?\u001b[39m\u001b[38;5;124m\"\u001b[39m, \u001b[43mthread1\u001b[49m\u001b[38;5;241;43m.\u001b[39;49m\u001b[43misAlive\u001b[49m())\n\u001b[1;32m     14\u001b[0m thread1\u001b[38;5;241m.\u001b[39mjoin()\n\u001b[1;32m     15\u001b[0m \u001b[38;5;28mprint\u001b[39m(\u001b[38;5;124m\"\u001b[39m\u001b[38;5;124mThread 1 is alive?\u001b[39m\u001b[38;5;124m\"\u001b[39m, thread1\u001b[38;5;241m.\u001b[39misAlive()) \n",
      "\u001b[0;31mAttributeError\u001b[0m: 'Thread' object has no attribute 'isAlive'"
     ]
    }
   ],
   "source": [
    "#4. isAlive()\n",
    "\n",
    "import threading\n",
    "import time\n",
    "\n",
    "def long_running_task():\n",
    "    time.sleep(3)\n",
    "\n",
    "thread1 = threading.Thread(target=long_running_task)\n",
    "thread1.start()\n",
    "\n",
    "print(\"Thread 1 is alive?\", thread1.isAlive())\n",
    "\n",
    "thread1.join()\n",
    "print(\"Thread 1 is alive?\", thread1.isAlive()) \n",
    "\n",
    "\n"
   ]
  },
  {
   "cell_type": "code",
   "execution_count": 54,
   "id": "6e129de4-967c-4865-a4d0-750bcf06cad4",
   "metadata": {},
   "outputs": [],
   "source": [
    "#Q4. Write a python program to create two threads. Thread one must print the list of squares and thread two must print the list of cubes."
   ]
  },
  {
   "cell_type": "code",
   "execution_count": 55,
   "id": "5f4f17ed-81a2-4b3c-b62c-cbe92ee5ae41",
   "metadata": {},
   "outputs": [
    {
     "name": "stdout",
     "output_type": "stream",
     "text": [
      "Square of 1: 1\n",
      "Square of 2: 4\n",
      "Square of 3: 9\n",
      "Square of 4: 16\n",
      "Square of 5: 25\n",
      "Cube of 1: 1\n",
      "Cube of 2: 8\n",
      "Cube of 3: 27\n",
      "Cube of 4: 64\n",
      "Cube of 5: 125\n",
      "Both threads have finished.\n"
     ]
    }
   ],
   "source": [
    "import threading\n",
    "\n",
    "def print_squares():\n",
    "    for i in range(1, 6):\n",
    "        print(f\"Square of {i}: {i ** 2}\")\n",
    "\n",
    "def print_cubes():\n",
    "    for i in range(1, 6):\n",
    "        print(f\"Cube of {i}: {i ** 3}\")\n",
    "\n",
    "thread1 = threading.Thread(target=print_squares)\n",
    "thread2 = threading.Thread(target=print_cubes)\n",
    "\n",
    "thread1.start()\n",
    "thread2.start()\n",
    "\n",
    "thread1.join()\n",
    "thread2.join()\n",
    "\n",
    "print(\"Both threads have finished.\")\n"
   ]
  },
  {
   "cell_type": "code",
   "execution_count": null,
   "id": "1f826bda-a66a-4dd4-8250-edcf6d2afba1",
   "metadata": {},
   "outputs": [],
   "source": [
    "#Q5. State advantages and disadvantages of multithreading."
   ]
  },
  {
   "cell_type": "code",
   "execution_count": null,
   "id": "3ba2f25d-0a9b-400f-9c07-c5a9e92fddce",
   "metadata": {},
   "outputs": [],
   "source": [
    "#Advantages\n",
    "\n",
    "#multithreading allows any program or application to perform multiple tasks inside the same address space.\n",
    "\n",
    "\n",
    "#Disadvantages\n",
    "#Managing multiple threads introduces complexity due to the potential for race conditions, deadlocks, and synchronization issues. Writing correct and bug-free multithreaded code can be challenging"
   ]
  },
  {
   "cell_type": "code",
   "execution_count": null,
   "id": "62afdcb5-4ade-4d4a-b3c4-c91e59d7fb10",
   "metadata": {},
   "outputs": [],
   "source": [
    "#Q6. Explain deadlocks and race conditions."
   ]
  },
  {
   "cell_type": "code",
   "execution_count": null,
   "id": "0b5073c4-68ef-4920-ad31-83a32b7d336b",
   "metadata": {},
   "outputs": [],
   "source": [
    "#Deadlocks involve threads being stuck due to circular dependencies in resource access.\n",
    "\n",
    "import threading\n",
    "\n",
    "def function1(lock1, lock2):\n",
    "    lock1.acquire()\n",
    "    print(\"Function 1 acquired Lock 1\")\n",
    "    # Simulate some work\n",
    "    threading.Event().wait()\n",
    "    lock2.acquire()\n",
    "    print(\"Function 1 acquired Lock 2\")\n",
    "    lock2.release()\n",
    "    lock1.release()\n",
    "\n",
    "def function2(lock1, lock2):\n",
    "    lock2.acquire()\n",
    "    print(\"Function 2 acquired Lock 2\")\n",
    "    # Simulate some work\n",
    "    threading.Event().wait()\n",
    "    lock1.acquire()\n",
    "    print(\"Function 2 acquired Lock 1\")\n",
    "    lock1.release()\n",
    "    lock2.release()\n",
    "\n",
    "lock1 = threading.Lock()\n",
    "lock2 = threading.Lock()\n",
    "\n",
    "thread1 = threading.Thread(target=function1, args=(lock1, lock2))\n",
    "thread2 = threading.Thread(target=function2, args=(lock1, lock2))\n",
    "\n",
    "thread1.start()\n",
    "thread2.start()\n",
    "\n",
    "thread1.join()\n",
    "thread2.join()\n",
    "\n",
    "print(\"Both threads have finished.\")\n"
   ]
  },
  {
   "cell_type": "code",
   "execution_count": null,
   "id": "62bbee95-2dd8-484b-8079-854901b59a63",
   "metadata": {},
   "outputs": [],
   "source": [
    "#Race conditions involve unpredictable behavior caused by multiple threads accessing shared resources concurrently without proper synchronization.\n",
    "\n",
    "import threading\n",
    "\n",
    "count = 0\n",
    "\n",
    "def increment():\n",
    "    global count\n",
    "    for _ in range(1000000):\n",
    "        count += 1\n",
    "\n",
    "def decrement():\n",
    "    global count\n",
    "    for _ in range(1000000):\n",
    "        count -= 1\n",
    "\n",
    "thread1 = threading.Thread(target=increment)\n",
    "thread2 = threading.Thread(target=decrement)\n",
    "\n",
    "thread1.start()\n",
    "thread2.start()\n",
    "\n",
    "thread1.join()\n",
    "thread2.join()\n",
    "\n",
    "print(\"Final Count:\", count)\n"
   ]
  },
  {
   "cell_type": "code",
   "execution_count": null,
   "id": "2a51df1b-7792-4c49-a84a-ae7e1744d5c6",
   "metadata": {},
   "outputs": [],
   "source": []
  }
 ],
 "metadata": {
  "kernelspec": {
   "display_name": "Python 3 (ipykernel)",
   "language": "python",
   "name": "python3"
  },
  "language_info": {
   "codemirror_mode": {
    "name": "ipython",
    "version": 3
   },
   "file_extension": ".py",
   "mimetype": "text/x-python",
   "name": "python",
   "nbconvert_exporter": "python",
   "pygments_lexer": "ipython3",
   "version": "3.10.8"
  }
 },
 "nbformat": 4,
 "nbformat_minor": 5
}
