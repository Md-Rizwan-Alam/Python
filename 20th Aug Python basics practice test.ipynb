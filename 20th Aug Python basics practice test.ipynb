{
 "cells": [
  {
   "cell_type": "raw",
   "id": "c1713837-d46f-4d50-9c45-999930b6d8a6",
   "metadata": {},
   "source": [
    "TOPIC: String Based Assignment Problem"
   ]
  },
  {
   "cell_type": "code",
   "execution_count": 2,
   "id": "4bff1c06-6d68-4b08-8e42-b2db26f8eb0e",
   "metadata": {},
   "outputs": [],
   "source": [
    "#1. Write a program to reverse a string."
   ]
  },
  {
   "cell_type": "code",
   "execution_count": 3,
   "id": "8e82b39b-a8f4-4606-b058-3d629fc5dfd2",
   "metadata": {},
   "outputs": [],
   "source": [
    "a = 'rizwan'"
   ]
  },
  {
   "cell_type": "code",
   "execution_count": 4,
   "id": "4765ff7b-970e-42c9-bfb4-1d496d4620bb",
   "metadata": {},
   "outputs": [
    {
     "data": {
      "text/plain": [
       "str"
      ]
     },
     "execution_count": 4,
     "metadata": {},
     "output_type": "execute_result"
    }
   ],
   "source": [
    "type(a)"
   ]
  },
  {
   "cell_type": "code",
   "execution_count": 5,
   "id": "fd43632d-7944-48ae-b04a-01e50046ac18",
   "metadata": {},
   "outputs": [
    {
     "data": {
      "text/plain": [
       "'nawzir'"
      ]
     },
     "execution_count": 5,
     "metadata": {},
     "output_type": "execute_result"
    }
   ],
   "source": [
    "a[::-1]"
   ]
  },
  {
   "cell_type": "code",
   "execution_count": 6,
   "id": "4fa3ea08-bb60-45d5-b9de-029bb7bedc81",
   "metadata": {},
   "outputs": [],
   "source": [
    "#2. Check if a string is a palindrome."
   ]
  },
  {
   "cell_type": "code",
   "execution_count": 45,
   "id": "d020555a-8ca8-42ff-8912-6fdd775e78a0",
   "metadata": {},
   "outputs": [
    {
     "name": "stdout",
     "output_type": "stream",
     "text": [
      "False\n",
      "False\n",
      "False\n",
      "True\n"
     ]
    }
   ],
   "source": [
    "def is_palindrome(string):\n",
    "    reversed_string = string[::-1]\n",
    "    if string == reversed_string:\n",
    "        return True\n",
    "    else:\n",
    "        return False\n",
    "\n",
    "print(is_palindrome('Rizwan')) \n",
    "print(is_palindrome('Alam'))  \n",
    "print(is_palindrome('India'))  \n",
    "print(is_palindrome('madam'))  #this is palindrome"
   ]
  },
  {
   "cell_type": "code",
   "execution_count": 8,
   "id": "53719bbe-45aa-4629-8742-815ce05ea4f4",
   "metadata": {},
   "outputs": [],
   "source": [
    "#3. Convert a string to uppercase."
   ]
  },
  {
   "cell_type": "code",
   "execution_count": 9,
   "id": "850721d4-11d4-407a-a921-b96636ae5f56",
   "metadata": {},
   "outputs": [
    {
     "data": {
      "text/plain": [
       "'rizwan'"
      ]
     },
     "execution_count": 9,
     "metadata": {},
     "output_type": "execute_result"
    }
   ],
   "source": [
    "a"
   ]
  },
  {
   "cell_type": "code",
   "execution_count": 11,
   "id": "5f06646f-21e5-4d22-b074-e76922e4289e",
   "metadata": {},
   "outputs": [
    {
     "data": {
      "text/plain": [
       "'RIZWAN'"
      ]
     },
     "execution_count": 11,
     "metadata": {},
     "output_type": "execute_result"
    }
   ],
   "source": [
    "a.upper()"
   ]
  },
  {
   "cell_type": "code",
   "execution_count": 12,
   "id": "b79ec231-07ed-4ff1-b954-1c702fe75719",
   "metadata": {},
   "outputs": [],
   "source": [
    "#4. Convert a string to lowercase."
   ]
  },
  {
   "cell_type": "code",
   "execution_count": 15,
   "id": "d6c868a7-6892-4d2a-b06b-2fe8036e9cd4",
   "metadata": {},
   "outputs": [],
   "source": [
    "a = 'RIZWAN'"
   ]
  },
  {
   "cell_type": "code",
   "execution_count": 16,
   "id": "80614788-c60e-45da-927e-e1b9d5e13763",
   "metadata": {},
   "outputs": [
    {
     "data": {
      "text/plain": [
       "'RIZWAN'"
      ]
     },
     "execution_count": 16,
     "metadata": {},
     "output_type": "execute_result"
    }
   ],
   "source": [
    "a"
   ]
  },
  {
   "cell_type": "code",
   "execution_count": 17,
   "id": "e4a3ff6b-ca6a-4ed5-ae43-2489308e6240",
   "metadata": {},
   "outputs": [
    {
     "data": {
      "text/plain": [
       "'rizwan'"
      ]
     },
     "execution_count": 17,
     "metadata": {},
     "output_type": "execute_result"
    }
   ],
   "source": [
    "a.lower()"
   ]
  },
  {
   "cell_type": "code",
   "execution_count": 18,
   "id": "17d7dbe7-a922-47a1-84c3-39f72d0871d6",
   "metadata": {},
   "outputs": [],
   "source": [
    "#5. Count the number of vowels in a string."
   ]
  },
  {
   "cell_type": "code",
   "execution_count": 35,
   "id": "406f0457-36bc-4716-8408-2222577b5107",
   "metadata": {},
   "outputs": [
    {
     "name": "stdout",
     "output_type": "stream",
     "text": [
      "14\n"
     ]
    }
   ],
   "source": [
    "def count_vowels(a):\n",
    "    vowels = \"aeiouAEIOU\"  # List of vowel characters\n",
    "    count = 0\n",
    "    \n",
    "    for i in a :\n",
    "        if i in vowels:\n",
    "            count += 1\n",
    "    \n",
    "    return count\n",
    "\n",
    "# Test \n",
    "print(count_vowels(\"my name is rizwan alam and i am from india\"))\n",
    "\n"
   ]
  },
  {
   "cell_type": "code",
   "execution_count": 33,
   "id": "940b9b29-b664-4563-9e6a-f44483b6710d",
   "metadata": {},
   "outputs": [],
   "source": [
    "#6. Count the number of consonants in a string."
   ]
  },
  {
   "cell_type": "code",
   "execution_count": 40,
   "id": "cfb64c9e-82e9-4f1e-920a-dcc367ac3b1a",
   "metadata": {},
   "outputs": [
    {
     "name": "stdout",
     "output_type": "stream",
     "text": [
      "19\n"
     ]
    }
   ],
   "source": [
    "def count_consonants(a):\n",
    "    vowels = \"aeiouAEIOU\"  # List of vowel characters\n",
    "    count = 0\n",
    "    \n",
    "    for i in a:\n",
    "        if i.isalpha() and i not in vowels:\n",
    "            count += 1\n",
    "    \n",
    "    return count\n",
    "\n",
    "# Test cases\n",
    "print(count_consonants(\"my name is rizwan alam and i am from india\"))\n"
   ]
  },
  {
   "cell_type": "code",
   "execution_count": 46,
   "id": "b4b2527d-bf09-4758-b68d-36c2520d6870",
   "metadata": {},
   "outputs": [],
   "source": [
    "#7. Remove all whitespaces from a string."
   ]
  },
  {
   "cell_type": "code",
   "execution_count": 56,
   "id": "d0f1874a-28a9-4ae2-967b-5a0d7cddd3d6",
   "metadata": {},
   "outputs": [],
   "source": [
    "a = '    rizwan.   '"
   ]
  },
  {
   "cell_type": "code",
   "execution_count": 57,
   "id": "da3f9e4b-a49b-4a54-a887-9e62b73ea7f0",
   "metadata": {},
   "outputs": [
    {
     "data": {
      "text/plain": [
       "'    rizwan.   '"
      ]
     },
     "execution_count": 57,
     "metadata": {},
     "output_type": "execute_result"
    }
   ],
   "source": [
    "a"
   ]
  },
  {
   "cell_type": "code",
   "execution_count": 58,
   "id": "fe98629a-fb2b-4d57-80da-14a6c45488a5",
   "metadata": {},
   "outputs": [
    {
     "data": {
      "text/plain": [
       "'rizwan.   '"
      ]
     },
     "execution_count": 58,
     "metadata": {},
     "output_type": "execute_result"
    }
   ],
   "source": [
    "a.lstrip()"
   ]
  },
  {
   "cell_type": "code",
   "execution_count": 59,
   "id": "ab269453-65fa-4265-8744-29cc1ce5338c",
   "metadata": {},
   "outputs": [
    {
     "data": {
      "text/plain": [
       "'    rizwan.'"
      ]
     },
     "execution_count": 59,
     "metadata": {},
     "output_type": "execute_result"
    }
   ],
   "source": [
    "a.rstrip()"
   ]
  },
  {
   "cell_type": "code",
   "execution_count": 60,
   "id": "5525fff4-d8f0-4bb4-b8f9-73e602dfa1a5",
   "metadata": {},
   "outputs": [],
   "source": [
    "#8. Find the length of a string without using the `len()` function."
   ]
  },
  {
   "cell_type": "code",
   "execution_count": 61,
   "id": "2e3e300f-a529-470c-9a24-f106d62998a9",
   "metadata": {},
   "outputs": [],
   "source": [
    "a = 'my name is rizwan alam and i am from india'"
   ]
  },
  {
   "cell_type": "code",
   "execution_count": 62,
   "id": "554f1730-f642-4dee-8660-a7ccfea52f5f",
   "metadata": {},
   "outputs": [
    {
     "data": {
      "text/plain": [
       "'my name is rizwan alam and i am from india'"
      ]
     },
     "execution_count": 62,
     "metadata": {},
     "output_type": "execute_result"
    }
   ],
   "source": [
    "a"
   ]
  },
  {
   "cell_type": "code",
   "execution_count": 81,
   "id": "eb821482-b71b-44a8-989b-07cddf497384",
   "metadata": {},
   "outputs": [
    {
     "data": {
      "text/plain": [
       "43"
      ]
     },
     "execution_count": 81,
     "metadata": {},
     "output_type": "execute_result"
    }
   ],
   "source": [
    "a.count('')"
   ]
  },
  {
   "cell_type": "code",
   "execution_count": 82,
   "id": "4f38c078-41c3-40da-a737-b2876fac6b5c",
   "metadata": {},
   "outputs": [],
   "source": [
    "#9. Check if a string contains a specific word."
   ]
  },
  {
   "cell_type": "code",
   "execution_count": 83,
   "id": "d390a3a9-7828-4a2d-b602-b5a234673faf",
   "metadata": {},
   "outputs": [
    {
     "data": {
      "text/plain": [
       "'my name is rizwan alam and i am from india'"
      ]
     },
     "execution_count": 83,
     "metadata": {},
     "output_type": "execute_result"
    }
   ],
   "source": [
    "a"
   ]
  },
  {
   "cell_type": "code",
   "execution_count": 97,
   "id": "7f65c5e3-55fb-4777-bcaf-19f430510fb8",
   "metadata": {},
   "outputs": [
    {
     "name": "stdout",
     "output_type": "stream",
     "text": [
      "The word 'name' is found in the string.\n"
     ]
    }
   ],
   "source": [
    "def contains_word(a, b):\n",
    "    return b in a\n",
    "\n",
    "# Test cases\n",
    "text = \"My name is Rizwan\"\n",
    "word_to_find = \"name\"\n",
    "\n",
    "if contains_word(text, word_to_find):\n",
    "    print(f\"The word '{word_to_find}' is found in the string.\")\n"
   ]
  },
  {
   "cell_type": "code",
   "execution_count": 98,
   "id": "f2237481-d086-4056-91b6-b08cb3a37aeb",
   "metadata": {},
   "outputs": [],
   "source": [
    "#10. Replace a word in a string with another word."
   ]
  },
  {
   "cell_type": "code",
   "execution_count": 101,
   "id": "edc63c39-c381-40b6-8a43-fb8de0157492",
   "metadata": {},
   "outputs": [],
   "source": [
    "a = 'my name is rizwan alam and i am from india'"
   ]
  },
  {
   "cell_type": "code",
   "execution_count": 102,
   "id": "2c877223-76c7-4f11-90fc-126dbae97be1",
   "metadata": {},
   "outputs": [
    {
     "data": {
      "text/plain": [
       "'my name is rizwan alam and i am from india'"
      ]
     },
     "execution_count": 102,
     "metadata": {},
     "output_type": "execute_result"
    }
   ],
   "source": [
    "a"
   ]
  },
  {
   "cell_type": "code",
   "execution_count": 109,
   "id": "bb6d5772-368b-40b3-91f0-f51ceecbe2f7",
   "metadata": {},
   "outputs": [
    {
     "data": {
      "text/plain": [
       "'my name is rizwan khan and i am from india'"
      ]
     },
     "execution_count": 109,
     "metadata": {},
     "output_type": "execute_result"
    }
   ],
   "source": [
    "a.replace('alam', 'khan')"
   ]
  },
  {
   "cell_type": "code",
   "execution_count": 110,
   "id": "87bcb15f-8834-4191-a444-f9ebd682f439",
   "metadata": {},
   "outputs": [],
   "source": [
    "#11. Count the occurrences of a word in a string."
   ]
  },
  {
   "cell_type": "code",
   "execution_count": 118,
   "id": "8b06a9d6-a664-48ab-85d5-7aedd56f7144",
   "metadata": {},
   "outputs": [],
   "source": [
    "a = 'my name is rizwan khan and i visited Delhi 5 times. Delhi is beautiful place. Delhi is the captial of india'"
   ]
  },
  {
   "cell_type": "code",
   "execution_count": 119,
   "id": "f4a2be00-8e2a-448f-bf7a-4cba2e9673e6",
   "metadata": {},
   "outputs": [
    {
     "data": {
      "text/plain": [
       "3"
      ]
     },
     "execution_count": 119,
     "metadata": {},
     "output_type": "execute_result"
    }
   ],
   "source": [
    "a.count(\"Delhi\")"
   ]
  },
  {
   "cell_type": "code",
   "execution_count": 120,
   "id": "cc266f07-4582-4537-907f-f4e3f72b1648",
   "metadata": {},
   "outputs": [],
   "source": [
    "#12. Find the first occurrence of a word in a string."
   ]
  },
  {
   "cell_type": "code",
   "execution_count": 126,
   "id": "e512ff96-16f6-4edd-b9f5-e85382a0e90b",
   "metadata": {},
   "outputs": [
    {
     "data": {
      "text/plain": [
       "37"
      ]
     },
     "execution_count": 126,
     "metadata": {},
     "output_type": "execute_result"
    }
   ],
   "source": [
    "a.index(\"Delhi\")"
   ]
  },
  {
   "cell_type": "code",
   "execution_count": 123,
   "id": "75c6af8d-43cb-4a66-8a12-d76b16dbe0ea",
   "metadata": {},
   "outputs": [],
   "source": [
    "#13. Find the last occurrence of a word in a string."
   ]
  },
  {
   "cell_type": "code",
   "execution_count": 124,
   "id": "cc32f85e-0f67-4678-808a-5dc9dfa69898",
   "metadata": {},
   "outputs": [
    {
     "data": {
      "text/plain": [
       "78"
      ]
     },
     "execution_count": 124,
     "metadata": {},
     "output_type": "execute_result"
    }
   ],
   "source": [
    "a.rfind(\"Delhi\")"
   ]
  },
  {
   "cell_type": "code",
   "execution_count": 127,
   "id": "8edea124-f9e8-4171-a4da-cf82b98fd23e",
   "metadata": {},
   "outputs": [],
   "source": [
    "#14. Split a string into a list of words."
   ]
  },
  {
   "cell_type": "code",
   "execution_count": 128,
   "id": "3d4e5117-2d8f-4eda-be2c-5ff7f786966b",
   "metadata": {},
   "outputs": [
    {
     "data": {
      "text/plain": [
       "'my name is rizwan khan and i visited Delhi 5 times. Delhi is beautiful place. Delhi is the captial of india'"
      ]
     },
     "execution_count": 128,
     "metadata": {},
     "output_type": "execute_result"
    }
   ],
   "source": [
    "a"
   ]
  },
  {
   "cell_type": "code",
   "execution_count": 129,
   "id": "26992a1a-0592-4c85-bb09-ff97ff22a29a",
   "metadata": {},
   "outputs": [
    {
     "data": {
      "text/plain": [
       "['my',\n",
       " 'name',\n",
       " 'is',\n",
       " 'rizwan',\n",
       " 'khan',\n",
       " 'and',\n",
       " 'i',\n",
       " 'visited',\n",
       " 'Delhi',\n",
       " '5',\n",
       " 'times.',\n",
       " 'Delhi',\n",
       " 'is',\n",
       " 'beautiful',\n",
       " 'place.',\n",
       " 'Delhi',\n",
       " 'is',\n",
       " 'the',\n",
       " 'captial',\n",
       " 'of',\n",
       " 'india']"
      ]
     },
     "execution_count": 129,
     "metadata": {},
     "output_type": "execute_result"
    }
   ],
   "source": [
    "a.split()"
   ]
  },
  {
   "cell_type": "code",
   "execution_count": 130,
   "id": "ec00f2c3-91a7-4238-9cf7-76b107e61fc9",
   "metadata": {},
   "outputs": [
    {
     "data": {
      "text/plain": [
       "list"
      ]
     },
     "execution_count": 130,
     "metadata": {},
     "output_type": "execute_result"
    }
   ],
   "source": [
    "type(a.split())"
   ]
  },
  {
   "cell_type": "code",
   "execution_count": 131,
   "id": "f7d5aea1-eaa8-496f-bf37-67ae36e6189d",
   "metadata": {},
   "outputs": [],
   "source": [
    "#15. Join a list of words into a string."
   ]
  },
  {
   "cell_type": "code",
   "execution_count": 144,
   "id": "c45df797-6dd7-4205-9603-16be07537e49",
   "metadata": {},
   "outputs": [],
   "source": [
    "a = \"my name is rizwan\""
   ]
  },
  {
   "cell_type": "code",
   "execution_count": 145,
   "id": "1d5df422-cd3b-43f6-bfa7-816ba710b5b6",
   "metadata": {},
   "outputs": [
    {
     "data": {
      "text/plain": [
       "'my name is rizwan'"
      ]
     },
     "execution_count": 145,
     "metadata": {},
     "output_type": "execute_result"
    }
   ],
   "source": [
    "a"
   ]
  },
  {
   "cell_type": "code",
   "execution_count": 146,
   "id": "1218fdd4-5aef-4f05-bcc2-5e71ba631aab",
   "metadata": {},
   "outputs": [
    {
     "data": {
      "text/plain": [
       "str"
      ]
     },
     "execution_count": 146,
     "metadata": {},
     "output_type": "execute_result"
    }
   ],
   "source": [
    "type(a)"
   ]
  },
  {
   "cell_type": "code",
   "execution_count": 148,
   "id": "d443cc36-eb90-4e1d-86c5-9af345d09df0",
   "metadata": {},
   "outputs": [
    {
     "data": {
      "text/plain": [
       "'amy name is rizwannmy name is rizwandmy name is rizwan my name is rizwanImy name is rizwan my name is rizwanamy name is rizwanmmy name is rizwan my name is rizwanfmy name is rizwanrmy name is rizwanomy name is rizwanmmy name is rizwan my name is rizwanimy name is rizwannmy name is rizwandmy name is rizwanimy name is rizwana'"
      ]
     },
     "execution_count": 148,
     "metadata": {},
     "output_type": "execute_result"
    }
   ],
   "source": [
    "a.join('and I am from india')"
   ]
  },
  {
   "cell_type": "code",
   "execution_count": 151,
   "id": "bb303372-13e6-4ebf-90fc-0c6aecf375cb",
   "metadata": {},
   "outputs": [],
   "source": [
    "#16. Convert a string where words are separated by spaces to one where words are separated by underscores."
   ]
  },
  {
   "cell_type": "code",
   "execution_count": 157,
   "id": "94029252-2ad7-4251-9ac8-4d1b69deae19",
   "metadata": {},
   "outputs": [],
   "source": [
    "def convert_to_underscore(s):\n",
    "    return s.replace(\" \", \"_\")"
   ]
  },
  {
   "cell_type": "code",
   "execution_count": 158,
   "id": "4133c22c-91e6-414f-9239-08010b8478ff",
   "metadata": {},
   "outputs": [
    {
     "name": "stdout",
     "output_type": "stream",
     "text": [
      "My_name_is_Rizwan\n"
     ]
    }
   ],
   "source": [
    "# Test case\n",
    "a = \"My name is Rizwan\"\n",
    "b = convert_to_underscore(a)\n",
    "print(b)\n"
   ]
  },
  {
   "cell_type": "code",
   "execution_count": 159,
   "id": "9f88ae09-e806-4478-8cb8-da15a7e2241c",
   "metadata": {},
   "outputs": [],
   "source": [
    "#17. Check if a string starts with a specific word or phrase."
   ]
  },
  {
   "cell_type": "code",
   "execution_count": 180,
   "id": "90abd0bb-fb5d-4164-af9c-9c8ed03c7c76",
   "metadata": {},
   "outputs": [],
   "source": [
    "a = 'He is brilliant student and he is always True'"
   ]
  },
  {
   "cell_type": "code",
   "execution_count": 178,
   "id": "3ce5ca13-7fe6-42b5-a4e0-f65d204c0071",
   "metadata": {},
   "outputs": [
    {
     "data": {
      "text/plain": [
       "False"
      ]
     },
     "execution_count": 178,
     "metadata": {},
     "output_type": "execute_result"
    }
   ],
   "source": [
    "a.startswith('True')"
   ]
  },
  {
   "cell_type": "code",
   "execution_count": 179,
   "id": "f0a28649-ef48-4842-a075-d31022ab6961",
   "metadata": {},
   "outputs": [],
   "source": [
    "#18. Check if a string ends with a specific word or phrase."
   ]
  },
  {
   "cell_type": "code",
   "execution_count": 181,
   "id": "ab6f4af8-6033-45a5-9426-9a0b7dfd977f",
   "metadata": {},
   "outputs": [],
   "source": [
    "a = 'He is brilliant student and he is always True'"
   ]
  },
  {
   "cell_type": "code",
   "execution_count": 183,
   "id": "85f0510c-d428-4330-9c28-b35df1de2fe5",
   "metadata": {},
   "outputs": [
    {
     "data": {
      "text/plain": [
       "True"
      ]
     },
     "execution_count": 183,
     "metadata": {},
     "output_type": "execute_result"
    }
   ],
   "source": [
    "a.endswith('True')"
   ]
  },
  {
   "cell_type": "code",
   "execution_count": 184,
   "id": "dff15f99-e23e-4770-a0a3-e29da6113b42",
   "metadata": {},
   "outputs": [],
   "source": [
    "#19. Convert a string to title case (e.g., \"hello world\" to \"Hello World\")."
   ]
  },
  {
   "cell_type": "code",
   "execution_count": 185,
   "id": "9f870d96-30ea-430d-b67e-d2a2f18ba970",
   "metadata": {},
   "outputs": [],
   "source": [
    "a = 'my name is rizwan and i am attending data science class'"
   ]
  },
  {
   "cell_type": "code",
   "execution_count": 186,
   "id": "625ec235-c1f7-4a97-9de9-8455b1615bf8",
   "metadata": {},
   "outputs": [
    {
     "data": {
      "text/plain": [
       "'My Name Is Rizwan And I Am Attending Data Science Class'"
      ]
     },
     "execution_count": 186,
     "metadata": {},
     "output_type": "execute_result"
    }
   ],
   "source": [
    "a.title()"
   ]
  },
  {
   "cell_type": "code",
   "execution_count": 187,
   "id": "2a00bee2-a410-463f-9f23-bfc01ad7bee8",
   "metadata": {},
   "outputs": [],
   "source": [
    "#20. Find the longest word in a string."
   ]
  },
  {
   "cell_type": "code",
   "execution_count": 188,
   "id": "778ccbb7-fe98-4fa8-9d1c-136e9e05d1d1",
   "metadata": {},
   "outputs": [
    {
     "data": {
      "text/plain": [
       "'my name is rizwan and i am attending data science class'"
      ]
     },
     "execution_count": 188,
     "metadata": {},
     "output_type": "execute_result"
    }
   ],
   "source": [
    "a"
   ]
  },
  {
   "cell_type": "code",
   "execution_count": 199,
   "id": "fb83b90e-53dd-4b56-9927-81560867b2e0",
   "metadata": {},
   "outputs": [
    {
     "name": "stdout",
     "output_type": "stream",
     "text": [
      "The longest word in the string is: attending\n"
     ]
    }
   ],
   "source": [
    "def find_longest_word(a):\n",
    "    b1 = a.split()\n",
    "    longest_word = \"\"\n",
    "    \n",
    "    for b in b1:\n",
    "        if len(b) > len(longest_word):\n",
    "            longest_word = b\n",
    "    \n",
    "    return longest_word\n",
    "\n",
    "longest_word = find_longest_word(a)\n",
    "print(\"The longest word in the string is:\", longest_word)\n"
   ]
  },
  {
   "cell_type": "code",
   "execution_count": 200,
   "id": "551b73c4-893e-40df-a6e2-38f2d69ef496",
   "metadata": {},
   "outputs": [],
   "source": [
    "#21. Find the shortest word in a string."
   ]
  },
  {
   "cell_type": "code",
   "execution_count": 208,
   "id": "6f9854d6-d647-40cb-8154-d706c2c0925e",
   "metadata": {},
   "outputs": [
    {
     "name": "stdout",
     "output_type": "stream",
     "text": [
      "The shortest word in the string is: \n"
     ]
    }
   ],
   "source": [
    "def find_shortest_word(a):\n",
    "    b1 = a.split()\n",
    "    shortest_word = \"\"\n",
    "        shortest_word = words[0]\n",
    "    for b in b1:\n",
    "        if len(b) < len(shortest_word):\n",
    "            shortest_word = b\n",
    "    \n",
    "    return shortest_word\n",
    "\n",
    "shortest_word = find_shortest_word(a)\n",
    "print(\"The shortest word in the string is:\", shortest_word)\n"
   ]
  },
  {
   "cell_type": "code",
   "execution_count": 210,
   "id": "3748b910-1b9c-428e-969d-e6cfa2cbbec8",
   "metadata": {},
   "outputs": [],
   "source": [
    "#22. Reverse the order of words in a string."
   ]
  },
  {
   "cell_type": "code",
   "execution_count": 211,
   "id": "a054dccc-31a3-476b-b9bf-515c8152ca0e",
   "metadata": {},
   "outputs": [
    {
     "data": {
      "text/plain": [
       "'my name is rizwan and i am attending data science class'"
      ]
     },
     "execution_count": 211,
     "metadata": {},
     "output_type": "execute_result"
    }
   ],
   "source": [
    "a"
   ]
  },
  {
   "cell_type": "code",
   "execution_count": 212,
   "id": "3bfd333f-bf1a-4720-aeb0-5958f9a4b199",
   "metadata": {},
   "outputs": [
    {
     "data": {
      "text/plain": [
       "'ssalc ecneics atad gnidnetta ma i dna nawzir si eman ym'"
      ]
     },
     "execution_count": 212,
     "metadata": {},
     "output_type": "execute_result"
    }
   ],
   "source": [
    "a[::-1]"
   ]
  },
  {
   "cell_type": "code",
   "execution_count": 213,
   "id": "d5774524-215a-4a3c-b59d-ee2a8f7ac37a",
   "metadata": {},
   "outputs": [],
   "source": [
    "#23. Check if a string is alphanumeric."
   ]
  },
  {
   "cell_type": "code",
   "execution_count": 216,
   "id": "9de1102b-1136-456f-8319-9f97c25dc7a4",
   "metadata": {},
   "outputs": [],
   "source": [
    "a = 'rizwan'"
   ]
  },
  {
   "cell_type": "code",
   "execution_count": 220,
   "id": "7eb939ba-6442-4555-9504-c363848416d0",
   "metadata": {},
   "outputs": [],
   "source": [
    "b = 797685"
   ]
  },
  {
   "cell_type": "code",
   "execution_count": 218,
   "id": "9c41ca43-f106-48e0-854f-06c7d6382b29",
   "metadata": {},
   "outputs": [
    {
     "data": {
      "text/plain": [
       "True"
      ]
     },
     "execution_count": 218,
     "metadata": {},
     "output_type": "execute_result"
    }
   ],
   "source": [
    "a.isalnum()"
   ]
  },
  {
   "cell_type": "code",
   "execution_count": 221,
   "id": "276bdb15-4293-43fc-9a2f-9db18e50bac5",
   "metadata": {},
   "outputs": [
    {
     "ename": "AttributeError",
     "evalue": "'int' object has no attribute 'isalnum'",
     "output_type": "error",
     "traceback": [
      "\u001b[0;31m---------------------------------------------------------------------------\u001b[0m",
      "\u001b[0;31mAttributeError\u001b[0m                            Traceback (most recent call last)",
      "Cell \u001b[0;32mIn[221], line 1\u001b[0m\n\u001b[0;32m----> 1\u001b[0m \u001b[43mb\u001b[49m\u001b[38;5;241;43m.\u001b[39;49m\u001b[43misalnum\u001b[49m()\n",
      "\u001b[0;31mAttributeError\u001b[0m: 'int' object has no attribute 'isalnum'"
     ]
    }
   ],
   "source": [
    "b.isalnum()"
   ]
  },
  {
   "cell_type": "code",
   "execution_count": 222,
   "id": "e94dc29f-a231-4275-953a-42e521934770",
   "metadata": {},
   "outputs": [],
   "source": [
    "#24. Extract all digits from a string."
   ]
  },
  {
   "cell_type": "code",
   "execution_count": 228,
   "id": "ae125d37-7dac-4c36-9f8c-e85e836c6ab5",
   "metadata": {},
   "outputs": [],
   "source": [
    "a = '232rizwan 23244 i4r'"
   ]
  },
  {
   "cell_type": "code",
   "execution_count": 229,
   "id": "ebed02ae-9fd4-405e-8a06-b294db1c51b5",
   "metadata": {},
   "outputs": [
    {
     "data": {
      "text/plain": [
       "False"
      ]
     },
     "execution_count": 229,
     "metadata": {},
     "output_type": "execute_result"
    }
   ],
   "source": [
    "a.isdigit()"
   ]
  },
  {
   "cell_type": "code",
   "execution_count": 231,
   "id": "ac2136c5-0056-4605-be9c-708aebe6afde",
   "metadata": {},
   "outputs": [
    {
     "data": {
      "text/plain": [
       "False"
      ]
     },
     "execution_count": 231,
     "metadata": {},
     "output_type": "execute_result"
    }
   ],
   "source": [
    "a.isdigit()"
   ]
  },
  {
   "cell_type": "code",
   "execution_count": 1,
   "id": "6fa2ff74-c5a0-4e89-a73b-ad8f910c5672",
   "metadata": {},
   "outputs": [],
   "source": [
    "#25. Extract all alphabets from a string."
   ]
  },
  {
   "cell_type": "code",
   "execution_count": 6,
   "id": "91a03e1e-8a21-45ec-9cad-b034ae5caa12",
   "metadata": {},
   "outputs": [],
   "source": [
    "def extract_alphabets(input_string):\n",
    "    alphabets = ''.join(filter(str.isalpha, input_string))\n",
    "    return alphabets\n",
    "\n",
    "input_string = \"My Name is Rizwan and I have started data science class on 19/8/2023\"\n",
    "alphabets_only = extract_alphabets(input_string)\n"
   ]
  },
  {
   "cell_type": "code",
   "execution_count": 7,
   "id": "57425c91-c8b3-47d1-a0f2-9c3c4de27be1",
   "metadata": {},
   "outputs": [
    {
     "name": "stdout",
     "output_type": "stream",
     "text": [
      "MyNameisRizwanandIhavestarteddatascienceclasson\n"
     ]
    }
   ],
   "source": [
    "print(alphabets_only)"
   ]
  },
  {
   "cell_type": "code",
   "execution_count": 8,
   "id": "ca7e0438-2402-40e9-9006-3d91d42eca8b",
   "metadata": {},
   "outputs": [],
   "source": [
    "#26. Count the number of uppercase letters in a string."
   ]
  },
  {
   "cell_type": "code",
   "execution_count": 10,
   "id": "c36f6c23-b628-4b25-95fe-c57e3e00225e",
   "metadata": {},
   "outputs": [],
   "source": [
    "def count_uppercase_letters(input_string):\n",
    "    uppercase_count = sum(1 for char in input_string if char.isupper())\n",
    "    return uppercase_count\n",
    "\n",
    "input_string = \"My Name Is Rizwan\"\n",
    "uppercase_count = count_uppercase_letters(input_string)\n"
   ]
  },
  {
   "cell_type": "code",
   "execution_count": 11,
   "id": "08df2d96-b3e3-40cc-83d0-940e80d70d9f",
   "metadata": {},
   "outputs": [
    {
     "name": "stdout",
     "output_type": "stream",
     "text": [
      "Number of uppercase letters: 4\n"
     ]
    }
   ],
   "source": [
    "print(\"Number of uppercase letters:\", uppercase_count)"
   ]
  },
  {
   "cell_type": "code",
   "execution_count": 13,
   "id": "77a0f5a2-b676-49db-ac15-b39f9eb5abba",
   "metadata": {},
   "outputs": [],
   "source": [
    "#27. Count the number of lowercase letters in a string."
   ]
  },
  {
   "cell_type": "code",
   "execution_count": 15,
   "id": "c4a77572-49bc-47f0-8fa1-0e31be3eac6d",
   "metadata": {},
   "outputs": [],
   "source": [
    "def count_lowercase_letters(input_string):\n",
    "    lowercase_count = sum(1 for char in input_string if char.islower())\n",
    "    return lowercase_count\n",
    "\n",
    "input_string = \"I am attending data sceince class\"\n",
    "lowercase_count = count_lowercase_letters(input_string)\n"
   ]
  },
  {
   "cell_type": "code",
   "execution_count": 16,
   "id": "8c68388b-0381-43da-a1c1-c664130a942d",
   "metadata": {},
   "outputs": [
    {
     "name": "stdout",
     "output_type": "stream",
     "text": [
      "Number of lowercase letters: 27\n"
     ]
    }
   ],
   "source": [
    "print(\"Number of lowercase letters:\", lowercase_count)"
   ]
  },
  {
   "cell_type": "code",
   "execution_count": 17,
   "id": "d969f3be-74ba-4e26-b2d5-54c7dde22e3f",
   "metadata": {},
   "outputs": [],
   "source": [
    "#28. Swap the case of each character in a string."
   ]
  },
  {
   "cell_type": "code",
   "execution_count": 34,
   "id": "3444c9ee-2eae-496d-a4fd-d9d68e270d79",
   "metadata": {},
   "outputs": [],
   "source": [
    "def swap_case(input_string):\n",
    "    swapped_string = input_string.swapcase()\n",
    "    return swapped_string\n",
    "\n",
    "swapped_string = swap_case(input_string)\n"
   ]
  },
  {
   "cell_type": "code",
   "execution_count": 30,
   "id": "ef5c29c8-3137-43f3-aef5-49c9964901c8",
   "metadata": {},
   "outputs": [],
   "source": [
    "input_string = \"I am Indian\""
   ]
  },
  {
   "cell_type": "code",
   "execution_count": 31,
   "id": "252de831-4391-4537-907e-d1b439313f93",
   "metadata": {},
   "outputs": [
    {
     "name": "stdout",
     "output_type": "stream",
     "text": [
      "Swapped case string: i AM iNDIAN\n"
     ]
    }
   ],
   "source": [
    "print(\"Swapped case string:\", swapped_string)"
   ]
  },
  {
   "cell_type": "code",
   "execution_count": 35,
   "id": "b21e5ddb-0ca1-491b-b551-5e4a5815e33e",
   "metadata": {},
   "outputs": [],
   "source": [
    "input_string = \"mD rIZWAN aLAM\""
   ]
  },
  {
   "cell_type": "code",
   "execution_count": 36,
   "id": "cfd72206-5c9d-488a-ad5d-e7f2dea6b705",
   "metadata": {},
   "outputs": [
    {
     "name": "stdout",
     "output_type": "stream",
     "text": [
      "Swapped case string: Md Rizwan Alam\n"
     ]
    }
   ],
   "source": [
    "print(\"Swapped case string:\", swapped_string)"
   ]
  },
  {
   "cell_type": "code",
   "execution_count": 37,
   "id": "cd7caa1e-413a-4131-b7f4-e5c642b9aabf",
   "metadata": {},
   "outputs": [],
   "source": [
    "#29. Remove a specific word from a string."
   ]
  },
  {
   "cell_type": "code",
   "execution_count": 298,
   "id": "b8007c8f-198a-4443-b99e-2f8d79a30121",
   "metadata": {},
   "outputs": [
    {
     "name": "stdout",
     "output_type": "stream",
     "text": [
      "Updated string: Hello , how are you doing today?\n"
     ]
    }
   ],
   "source": [
    "def remove_word(input_string, word_to_remove):\n",
    "    updated_string = input_string.replace(word_to_remove, \"\")\n",
    "    return updated_string\n",
    "\n",
    "input_string = \"Hello there, how are you doing today?\"\n",
    "word_to_remove = \"there\"\n",
    "updated_string = remove_word(input_string, word_to_remove)\n",
    "print(\"Updated string:\", updated_string)\n"
   ]
  },
  {
   "cell_type": "code",
   "execution_count": 38,
   "id": "a78243a8-74bc-496c-ac21-999ad7124adc",
   "metadata": {},
   "outputs": [],
   "source": [
    "#30. Check if a string is a valid email address."
   ]
  },
  {
   "cell_type": "code",
   "execution_count": 300,
   "id": "ba6cbb64-9c40-4df5-a748-58e687884ccd",
   "metadata": {},
   "outputs": [
    {
     "name": "stdout",
     "output_type": "stream",
     "text": [
      "Valid email address\n"
     ]
    }
   ],
   "source": [
    "import re\n",
    "\n",
    "def is_valid_email(email):\n",
    "    pattern = r\"^[a-zA-Z0-9._%+-]+@[a-zA-Z0-9.-]+\\.[a-zA-Z]{2,}$\"\n",
    "    return re.match(pattern, email) is not None\n",
    "\n",
    "email_address = \"shaikhrizwan@gmail.com\"\n",
    "if is_valid_email(email_address):\n",
    "    print(\"Valid email address\")\n",
    "else:\n",
    "    print(\"Invalid email address\")\n"
   ]
  },
  {
   "cell_type": "code",
   "execution_count": 301,
   "id": "a4a270cd-f143-4e8b-b213-b186a7fd132a",
   "metadata": {},
   "outputs": [
    {
     "name": "stdout",
     "output_type": "stream",
     "text": [
      "Invalid email address\n"
     ]
    }
   ],
   "source": [
    "import re\n",
    "\n",
    "def is_valid_email(email):\n",
    "    pattern = r\"^[a-zA-Z0-9._%+-]+@[a-zA-Z0-9.-]+\\.[a-zA-Z]{2,}$\"\n",
    "    return re.match(pattern, email) is not None\n",
    "\n",
    "email_address = \"shaikhrizwangmail.com\"\n",
    "if is_valid_email(email_address):\n",
    "    print(\"Valid email address\")\n",
    "else:\n",
    "    print(\"Invalid email address\")\n"
   ]
  },
  {
   "cell_type": "code",
   "execution_count": 39,
   "id": "2a5989a0-a02c-4d00-86a6-b363d632ce12",
   "metadata": {},
   "outputs": [],
   "source": [
    "#31. Extract the username from an email address string."
   ]
  },
  {
   "cell_type": "code",
   "execution_count": 317,
   "id": "6c25be13-e24e-4068-89d5-96e0dbc2e0dc",
   "metadata": {},
   "outputs": [],
   "source": [
    "def extract_username(email):\n",
    "    username = email.split('@')[0]\n",
    "    return username\n",
    "\n",
    "email_address = \"rizn@gmail.com\"\n",
    "username = extract_username(email_address)\n"
   ]
  },
  {
   "cell_type": "code",
   "execution_count": 318,
   "id": "19f13204-fa12-4bf0-aef4-66b7d0ea7d68",
   "metadata": {},
   "outputs": [
    {
     "data": {
      "text/plain": [
       "'rizn'"
      ]
     },
     "execution_count": 318,
     "metadata": {},
     "output_type": "execute_result"
    }
   ],
   "source": [
    "username"
   ]
  },
  {
   "cell_type": "code",
   "execution_count": 40,
   "id": "53edeea8-e640-4157-9d44-aa899f13a748",
   "metadata": {},
   "outputs": [],
   "source": [
    "#32. Extract the domain name from an email address string."
   ]
  },
  {
   "cell_type": "code",
   "execution_count": 322,
   "id": "75522bd5-3008-4a22-896d-bc5f545e5ada",
   "metadata": {},
   "outputs": [],
   "source": [
    "def extract_domain(email):\n",
    "    domain = email.split('@')[1]\n",
    "    return domain\n",
    "\n",
    "email_address = \"rizwan@gmail.com\"\n",
    "domain = extract_domain(email_address)\n"
   ]
  },
  {
   "cell_type": "code",
   "execution_count": 323,
   "id": "2d8fc83b-1f71-4e2a-a213-97615dd77cdd",
   "metadata": {},
   "outputs": [
    {
     "data": {
      "text/plain": [
       "'gmail.com'"
      ]
     },
     "execution_count": 323,
     "metadata": {},
     "output_type": "execute_result"
    }
   ],
   "source": [
    "domain"
   ]
  },
  {
   "cell_type": "code",
   "execution_count": 41,
   "id": "d42a6746-8f2d-4758-b8fd-55f4b2450e13",
   "metadata": {},
   "outputs": [],
   "source": [
    "#33. Replace multiple spaces in a string with a single space."
   ]
  },
  {
   "cell_type": "code",
   "execution_count": 325,
   "id": "e5ac2255-6061-41cb-bc78-a21ddd7c4622",
   "metadata": {},
   "outputs": [],
   "source": [
    "import re\n",
    "\n",
    "def replace_multiple_spaces(input_string):\n",
    "    cleaned_string = re.sub(r'\\s+', ' ', input_string)\n",
    "    return cleaned_string\n",
    "\n",
    "original_string = \"This    is   a   string   with   multiple   spaces.\"\n",
    "cleaned_string = replace_multiple_spaces(original_string)\n"
   ]
  },
  {
   "cell_type": "code",
   "execution_count": 326,
   "id": "2b0b094c-2b10-4188-bf9b-a3a73221dc97",
   "metadata": {},
   "outputs": [
    {
     "data": {
      "text/plain": [
       "'This is a string with multiple spaces.'"
      ]
     },
     "execution_count": 326,
     "metadata": {},
     "output_type": "execute_result"
    }
   ],
   "source": [
    "cleaned_string"
   ]
  },
  {
   "cell_type": "code",
   "execution_count": 328,
   "id": "a699a1c3-569d-4292-8e8c-de2ad390d593",
   "metadata": {},
   "outputs": [],
   "source": [
    "def replace_multiple_spaces(input_string):\n",
    "    words = input_string.split()\n",
    "    cleaned_string = ' '.join(words)\n",
    "    return cleaned_string\n",
    "\n",
    "original_string = \"This    is   a   string   with   multiple   spaces.\"\n",
    "cleaned_string = replace_multiple_spaces(original_string)\n"
   ]
  },
  {
   "cell_type": "code",
   "execution_count": 330,
   "id": "db0a93f9-b3db-4200-88c3-7b6f7db2f34b",
   "metadata": {},
   "outputs": [
    {
     "data": {
      "text/plain": [
       "'This is a string with multiple spaces.'"
      ]
     },
     "execution_count": 330,
     "metadata": {},
     "output_type": "execute_result"
    }
   ],
   "source": [
    "cleaned_string"
   ]
  },
  {
   "cell_type": "code",
   "execution_count": 327,
   "id": "0f236ecd-fb4e-4595-af85-c87755ae7799",
   "metadata": {},
   "outputs": [],
   "source": [
    "#34. Check if a string is a valid URL."
   ]
  },
  {
   "cell_type": "code",
   "execution_count": 332,
   "id": "0ad22a45-4560-4139-b981-c5f9c8ce3c7f",
   "metadata": {},
   "outputs": [
    {
     "name": "stdout",
     "output_type": "stream",
     "text": [
      "Valid URL\n"
     ]
    }
   ],
   "source": [
    "from urllib.parse import urlparse\n",
    "\n",
    "def is_valid_url(url):\n",
    "    try:\n",
    "        result = urlparse(url)\n",
    "        return all([result.scheme, result.netloc])\n",
    "    except ValueError:\n",
    "        return False\n",
    "\n",
    "url = \"https://pwskills.com/\"\n",
    "if is_valid_url(url):\n",
    "    print(\"Valid URL\")\n",
    "else:\n",
    "    print(\"Invalid URL\")\n"
   ]
  },
  {
   "cell_type": "code",
   "execution_count": 333,
   "id": "24088acb-d6b0-4eda-a079-a256c8031ea8",
   "metadata": {},
   "outputs": [
    {
     "name": "stdout",
     "output_type": "stream",
     "text": [
      "Invalid URL\n"
     ]
    }
   ],
   "source": [
    "from urllib.parse import urlparse\n",
    "\n",
    "def is_valid_url(url):\n",
    "    try:\n",
    "        result = urlparse(url)\n",
    "        return all([result.scheme, result.netloc])\n",
    "    except ValueError:\n",
    "        return False\n",
    "\n",
    "url = \"pwskills.com/\"\n",
    "if is_valid_url(url):\n",
    "    print(\"Valid URL\")\n",
    "else:\n",
    "    print(\"Invalid URL\")\n"
   ]
  },
  {
   "cell_type": "code",
   "execution_count": 43,
   "id": "0fb514c4-7e1d-4b32-b133-c714006fe2ee",
   "metadata": {},
   "outputs": [],
   "source": [
    "#35. Extract the protocol (http or https) from a URL string."
   ]
  },
  {
   "cell_type": "code",
   "execution_count": 335,
   "id": "83f8eca8-ac35-481a-9a05-cc2b658f4b07",
   "metadata": {},
   "outputs": [
    {
     "name": "stdout",
     "output_type": "stream",
     "text": [
      "Extracted protocol: https\n"
     ]
    }
   ],
   "source": [
    "from urllib.parse import urlparse\n",
    "\n",
    "def extract_protocol(url):\n",
    "    parsed_url = urlparse(url)\n",
    "    protocol = parsed_url.scheme\n",
    "    return protocol\n",
    "\n",
    "url = \"https://pwskills.com/\"\n",
    "protocol = extract_protocol(url)\n",
    "print(\"Extracted protocol:\", protocol)\n"
   ]
  },
  {
   "cell_type": "code",
   "execution_count": 44,
   "id": "0b73ee3a-653a-4b30-9064-ab356058b517",
   "metadata": {},
   "outputs": [],
   "source": [
    "#36. Find the frequency of each character in a string."
   ]
  },
  {
   "cell_type": "code",
   "execution_count": 337,
   "id": "35e8822d-f3ca-4a7f-94c8-c2a4a27c0e95",
   "metadata": {},
   "outputs": [
    {
     "name": "stdout",
     "output_type": "stream",
     "text": [
      "Character 'M': 1 times\n",
      "Character 'y': 1 times\n",
      "Character ' ': 3 times\n",
      "Character 'N': 1 times\n",
      "Character 'a': 2 times\n",
      "Character 'm': 1 times\n",
      "Character 'e': 1 times\n",
      "Character 'I': 1 times\n",
      "Character 's': 1 times\n",
      "Character 'R': 1 times\n",
      "Character 'i': 1 times\n",
      "Character 'z': 1 times\n",
      "Character 'w': 1 times\n",
      "Character 'n': 1 times\n"
     ]
    }
   ],
   "source": [
    "def character_frequency(input_string):\n",
    "    frequency = {}\n",
    "    for char in input_string:\n",
    "        if char in frequency:\n",
    "            frequency[char] += 1\n",
    "        else:\n",
    "            frequency[char] = 1\n",
    "    return frequency\n",
    "\n",
    "input_string = \"My Name Is Rizwan\"\n",
    "frequency_dict = character_frequency(input_string)\n",
    "\n",
    "for char, count in frequency_dict.items():\n",
    "    print(f\"Character '{char}': {count} times\")\n"
   ]
  },
  {
   "cell_type": "code",
   "execution_count": 45,
   "id": "343287d6-0a17-4d3e-adea-0b4b9ec7a7ca",
   "metadata": {},
   "outputs": [],
   "source": [
    "#37. Remove all punctuation from a string."
   ]
  },
  {
   "cell_type": "code",
   "execution_count": 341,
   "id": "b9906dd9-9368-4510-b64d-c2c180894877",
   "metadata": {},
   "outputs": [],
   "source": [
    "import string\n",
    "\n",
    "def remove_punctuation(input_string):\n",
    "    no_punctuation = ''.join(char for char in input_string if char not in string.punctuation)\n",
    "    return no_punctuation\n",
    "\n",
    "input_string = \"Hallo, My name is Rizwan, how about you?\"\n",
    "cleaned_string = remove_punctuation(input_string)\n"
   ]
  },
  {
   "cell_type": "code",
   "execution_count": 342,
   "id": "b6b86bb5-1726-4c27-bb5e-99e6de2d6c15",
   "metadata": {},
   "outputs": [
    {
     "data": {
      "text/plain": [
       "'Hallo My name is Rizwan how about you'"
      ]
     },
     "execution_count": 342,
     "metadata": {},
     "output_type": "execute_result"
    }
   ],
   "source": [
    "cleaned_string"
   ]
  },
  {
   "cell_type": "code",
   "execution_count": 46,
   "id": "5ec6fcf6-e229-45ca-a578-7689b0758780",
   "metadata": {},
   "outputs": [],
   "source": [
    "#38. Check if a string contains only digits."
   ]
  },
  {
   "cell_type": "code",
   "execution_count": 347,
   "id": "b5f3cd02-ba53-462a-bae0-644ebc860063",
   "metadata": {},
   "outputs": [
    {
     "name": "stdout",
     "output_type": "stream",
     "text": [
      "String1: False\n",
      "String2: False\n",
      "String3: False\n"
     ]
    }
   ],
   "source": [
    "def contains_only_digits(input_string):\n",
    "    return input_string.isdigit()\n",
    "\n",
    "string1 = \"Rizan\"\n",
    "string2 = \"Rizwan78alam\"\n",
    "string3 = \"12.34alam\"\n",
    "\n",
    "print(\"String1:\", contains_only_digits(string1))\n",
    "print(\"String2:\", contains_only_digits(string2))\n",
    "print(\"String3:\", contains_only_digits(string3))\n"
   ]
  },
  {
   "cell_type": "code",
   "execution_count": 47,
   "id": "61aa51fa-5436-49d3-bff0-67efa4760c5e",
   "metadata": {},
   "outputs": [],
   "source": [
    "#39. Check if a string contains only alphabets."
   ]
  },
  {
   "cell_type": "code",
   "execution_count": 33,
   "id": "63823983-8938-4424-8c89-d7106ec19868",
   "metadata": {},
   "outputs": [
    {
     "name": "stdout",
     "output_type": "stream",
     "text": [
      "The string contains non-alphabetic characters.\n"
     ]
    }
   ],
   "source": [
    "s = \"My name is Rizwan\"\n",
    "\n",
    "if s.isalpha():\n",
    "    print(\"The string contains only alphabets.\")\n",
    "else:\n",
    "    print(\"The string contains non-alphabetic characters.\")\n"
   ]
  },
  {
   "cell_type": "code",
   "execution_count": 48,
   "id": "977ad9ae-21ba-49d3-bb66-839bd6b876be",
   "metadata": {},
   "outputs": [],
   "source": [
    "#40. Convert a string to a list of characters."
   ]
  },
  {
   "cell_type": "code",
   "execution_count": 35,
   "id": "1a913a83-e720-4f0b-a522-8277a6419734",
   "metadata": {},
   "outputs": [],
   "source": [
    "s = 'DATA SCIENCE MASTERS'\n"
   ]
  },
  {
   "cell_type": "code",
   "execution_count": 36,
   "id": "c5731a82-8894-43b4-92ae-b5c4561eb0f5",
   "metadata": {},
   "outputs": [
    {
     "data": {
      "text/plain": [
       "str"
      ]
     },
     "execution_count": 36,
     "metadata": {},
     "output_type": "execute_result"
    }
   ],
   "source": [
    "type(s)"
   ]
  },
  {
   "cell_type": "code",
   "execution_count": 37,
   "id": "37235bea-5575-4519-97a7-77cdcf14e1a4",
   "metadata": {},
   "outputs": [
    {
     "data": {
      "text/plain": [
       "['DATA', 'SCIENCE', 'MASTERS']"
      ]
     },
     "execution_count": 37,
     "metadata": {},
     "output_type": "execute_result"
    }
   ],
   "source": [
    "s.split()"
   ]
  },
  {
   "cell_type": "code",
   "execution_count": 39,
   "id": "72f99cab-f33b-4f9e-8925-061ed9d7c215",
   "metadata": {},
   "outputs": [],
   "source": [
    "s1 = 'RIZWAN'"
   ]
  },
  {
   "cell_type": "code",
   "execution_count": 41,
   "id": "147bfde7-5137-4ba9-871c-3a52192d3c83",
   "metadata": {},
   "outputs": [
    {
     "data": {
      "text/plain": [
       "['R', 'I', 'Z', 'W', 'A', 'N']"
      ]
     },
     "execution_count": 41,
     "metadata": {},
     "output_type": "execute_result"
    }
   ],
   "source": [
    "list(s1)"
   ]
  },
  {
   "cell_type": "code",
   "execution_count": 49,
   "id": "bddf8129-c341-4b8d-a3a6-e1c9fe7db1f3",
   "metadata": {},
   "outputs": [],
   "source": [
    "#41. Check if two strings are anagrams."
   ]
  },
  {
   "cell_type": "code",
   "execution_count": 44,
   "id": "c524ac83-354b-4d0e-abcb-3c08fda1caa8",
   "metadata": {},
   "outputs": [
    {
     "name": "stdout",
     "output_type": "stream",
     "text": [
      "listen and silent are anagrams.\n"
     ]
    }
   ],
   "source": [
    "def are_anagrams(str1, str2):\n",
    "    # Remove spaces and punctuation, and convert to lowercase\n",
    "    str1 = ''.join(c for c in str1 if c.isalnum()).lower()\n",
    "    str2 = ''.join(c for c in str2 if c.isalnum()).lower()\n",
    "\n",
    "    # Check if the sorted versions of the strings are equal\n",
    "    return sorted(str1) == sorted(str2)\n",
    "\n",
    "# Test cases\n",
    "string1 = \"listen\"\n",
    "string2 = \"silent\"\n",
    "if are_anagrams(string1, string2):\n",
    "    print(f\"{string1} and {string2} are anagrams.\")\n",
    "else:\n",
    "    print(f\"{string1} and {string2} are not anagrams.\")\n"
   ]
  },
  {
   "cell_type": "code",
   "execution_count": 50,
   "id": "5e1ed3a9-ab69-4e7f-9f44-33e216944ff2",
   "metadata": {},
   "outputs": [],
   "source": [
    "#42. Encode a string using a Caesar cipher."
   ]
  },
  {
   "cell_type": "code",
   "execution_count": 1,
   "id": "5180bbf5-0a84-4e74-bed6-84b3e206258d",
   "metadata": {},
   "outputs": [
    {
     "name": "stdout",
     "output_type": "stream",
     "text": [
      "Encoded text: ehoor, zruog!\n"
     ]
    }
   ],
   "source": [
    "# Define a function named caesar_cipher that encodes a string using a Caesar cipher.\n",
    "def caesar_cipher(text, shift):\n",
    "  \"\"\"\n",
    "  Encodes a string using a Caesar cipher.\n",
    "\n",
    "  Args:\n",
    "    text: The string to encode.\n",
    "    shift: The number of positions to shift each letter.\n",
    "\n",
    "  Returns:\n",
    "    The encoded string.\n",
    "  \"\"\"\n",
    "\n",
    "  # Initialize an empty string to store the encoded text.\n",
    "  encoded_text = \"\"\n",
    "\n",
    "  # Iterate through each character in the input text.\n",
    "  for char in text:\n",
    "    # Check if the character is alphabetic.\n",
    "    if char.isalpha():\n",
    "      # Calculate the encoded character's Unicode code point value by shifting it by the specified amount.\n",
    "      # Ensure the value wraps around within the lowercase alphabet range (a-z).\n",
    "      encoded_char = chr((ord(char) + shift - ord('a')) % 26 + ord('a'))\n",
    "    else:\n",
    "      # Keep non-alphabetic characters unchanged.\n",
    "      encoded_char = char\n",
    "\n",
    "    # Add the encoded character to the encoded text.\n",
    "    encoded_text += encoded_char\n",
    "\n",
    "  # Return the resulting encoded text.\n",
    "  return encoded_text\n",
    "\n",
    "# Define the input text and the shift value for encoding.\n",
    "text = \"Hello, world!\"\n",
    "shift = 3\n",
    "\n",
    "# Call the caesar_cipher function to encode the text using the specified shift.\n",
    "encoded_text = caesar_cipher(text, shift)\n",
    "\n",
    "# Print the encoded text.\n",
    "print(\"Encoded text:\", encoded_text)\n"
   ]
  },
  {
   "cell_type": "code",
   "execution_count": 51,
   "id": "f73633ae-ecbf-42d6-928a-9a1efa48f877",
   "metadata": {},
   "outputs": [],
   "source": [
    "#43. Decode a Caesar cipher encoded string."
   ]
  },
  {
   "cell_type": "code",
   "execution_count": 53,
   "id": "d9fd08ae-187c-4ad6-9805-fa97b3122ff9",
   "metadata": {},
   "outputs": [
    {
     "name": "stdout",
     "output_type": "stream",
     "text": [
      "Decoded text: ilmm, world!\n"
     ]
    }
   ],
   "source": [
    "# Define a function to decode a string using a Caesar cipher\n",
    "def caesar_cipher_decoder(text, shift):\n",
    "    \"\"\"\n",
    "    Decodes a string using a Caesar cipher.\n",
    "\n",
    "    Args:\n",
    "        text: The string to decode.\n",
    "        shift: The number of positions to shift each letter.\n",
    "\n",
    "    Returns:\n",
    "        The decoded string.\n",
    "    \"\"\"\n",
    "\n",
    "    # Initialize an empty string to store the decoded text\n",
    "    decoded_text = \"\"\n",
    "\n",
    "    # Loop through each character in the input text\n",
    "    for char in text:\n",
    "        # Check if the character is an alphabetic character\n",
    "        if char.isalpha():\n",
    "            # Calculate the decoded character using the shift value\n",
    "            decoded_char = chr((ord(char) - shift - ord('a')) % 26 + ord('a'))\n",
    "        else:\n",
    "            # If the character is not alphabetic, keep it unchanged\n",
    "            decoded_char = char\n",
    "\n",
    "        # Add the decoded character to the decoded text\n",
    "        decoded_text += decoded_char\n",
    "\n",
    "    # Return the fully decoded text\n",
    "    return decoded_text\n",
    "\n",
    "# Example input\n",
    "text = \"lopp, zruog!\"\n",
    "shift = 3\n",
    "\n",
    "# Call the caesar_cipher_decoder function to decode the input text\n",
    "decoded_text = caesar_cipher_decoder(text, shift)\n",
    "\n",
    "# Print the decoded text\n",
    "print(\"Decoded text:\", decoded_text)"
   ]
  },
  {
   "cell_type": "code",
   "execution_count": 52,
   "id": "72bcb050-9432-45c9-ad54-deecb1b0273b",
   "metadata": {},
   "outputs": [],
   "source": [
    "#44. Find the most frequent word in a string."
   ]
  },
  {
   "cell_type": "code",
   "execution_count": 54,
   "id": "c478f0ec-91ee-431f-91d3-a3e721fee374",
   "metadata": {},
   "outputs": [
    {
     "name": "stdout",
     "output_type": "stream",
     "text": [
      "The most frequent word is 'test' with a frequency of 3.\n"
     ]
    }
   ],
   "source": [
    "from collections import Counter\n",
    "import re\n",
    "\n",
    "def most_frequent_word(text):\n",
    "    # Tokenize the string into words\n",
    "    words = re.findall(r'\\w+', text.lower())\n",
    "\n",
    "    # Count the occurrences of each word\n",
    "    word_counts = Counter(words)\n",
    "\n",
    "    # Find the most frequent word\n",
    "    most_common_word, frequency = word_counts.most_common(1)[0]\n",
    "\n",
    "    return most_common_word, frequency\n",
    "\n",
    "# Test case\n",
    "input_string = \"This is a test. This test is a good test.\"\n",
    "most_common_word, frequency = most_frequent_word(input_string)\n",
    "print(f\"The most frequent word is '{most_common_word}' with a frequency of {frequency}.\")\n"
   ]
  },
  {
   "cell_type": "code",
   "execution_count": 53,
   "id": "1fa5ec50-f2d9-467d-ae16-a87444d3f996",
   "metadata": {},
   "outputs": [],
   "source": [
    "#45. Find all unique words in a string."
   ]
  },
  {
   "cell_type": "code",
   "execution_count": 55,
   "id": "9463c5a9-a06f-474d-b361-94e0eb509384",
   "metadata": {},
   "outputs": [
    {
     "name": "stdout",
     "output_type": "stream",
     "text": [
      "Unique words: {'a', 'this', 'is', 'good', 'test'}\n"
     ]
    }
   ],
   "source": [
    "import re\n",
    "\n",
    "def unique_words(text):\n",
    "    # Tokenize the string into words\n",
    "    words = re.findall(r'\\w+', text.lower())\n",
    "\n",
    "    # Create a set to store unique words\n",
    "    unique_word_set = set()\n",
    "\n",
    "    # Add words to the set\n",
    "    for word in words:\n",
    "        unique_word_set.add(word)\n",
    "\n",
    "    return unique_word_set\n",
    "\n",
    "# Test case\n",
    "input_string = \"This is a test. This test is a good test.\"\n",
    "unique_words_set = unique_words(input_string)\n",
    "print(\"Unique words:\", unique_words_set)\n"
   ]
  },
  {
   "cell_type": "code",
   "execution_count": 54,
   "id": "7597ef35-68ed-490c-8b86-25b7877e5e4a",
   "metadata": {},
   "outputs": [],
   "source": [
    "#46. Count the number of syllables in a string."
   ]
  },
  {
   "cell_type": "code",
   "execution_count": 57,
   "id": "b4d8818b-8c2b-4197-92b7-601d460fcba5",
   "metadata": {},
   "outputs": [
    {
     "name": "stdout",
     "output_type": "stream",
     "text": [
      "'hello' has 2 syllables.\n",
      "'banana' has 3 syllables.\n",
      "'syllable' has 3 syllables.\n"
     ]
    }
   ],
   "source": [
    "import re\n",
    "\n",
    "def count_syllables(word):\n",
    "    # Count vowel groups using regular expression\n",
    "    vowel_groups = re.findall(r'[aeiouy]+', word, re.IGNORECASE)\n",
    "\n",
    "    return len(vowel_groups)\n",
    "\n",
    "# Example words\n",
    "word1 = \"hello\"\n",
    "word2 = \"banana\"\n",
    "word3 = \"syllable\"\n",
    "\n",
    "# Count syllables\n",
    "syllables1 = count_syllables(word1)\n",
    "syllables2 = count_syllables(word2)\n",
    "syllables3 = count_syllables(word3)\n",
    "\n",
    "# Print the results\n",
    "print(f\"'{word1}' has {syllables1} syllables.\")\n",
    "print(f\"'{word2}' has {syllables2} syllables.\")\n",
    "print(f\"'{word3}' has {syllables3} syllables.\")"
   ]
  },
  {
   "cell_type": "code",
   "execution_count": 55,
   "id": "c88fedc7-c4a3-4a21-bb7a-2b70d27e6b78",
   "metadata": {},
   "outputs": [],
   "source": [
    "#47. Check if a string contains any special characters."
   ]
  },
  {
   "cell_type": "code",
   "execution_count": 58,
   "id": "d9347b14-6e69-4683-ae8c-b30e468c49f3",
   "metadata": {},
   "outputs": [
    {
     "name": "stdout",
     "output_type": "stream",
     "text": [
      "True\n",
      "False\n",
      "False\n"
     ]
    }
   ],
   "source": [
    "import re\n",
    "\n",
    "def contains_special_characters(text):\n",
    "    special_characters = re.compile(r'[^a-zA-Z0-9\\s]')\n",
    "    return special_characters.search(text) is not None\n",
    "\n",
    "# Test cases\n",
    "input_string1 = \"Hello World!\"\n",
    "input_string2 = \"Hello123\"\n",
    "input_string3 = \"This is a test\"\n",
    "\n",
    "print(contains_special_characters(input_string1))  # Output: True\n",
    "print(contains_special_characters(input_string2))  # Output: False\n",
    "print(contains_special_characters(input_string3))  # Output: False\n"
   ]
  },
  {
   "cell_type": "code",
   "execution_count": 56,
   "id": "5f00fef2-23fc-4768-8283-2b35d9746a54",
   "metadata": {},
   "outputs": [],
   "source": [
    "#48. Remove the nth word from a string."
   ]
  },
  {
   "cell_type": "code",
   "execution_count": 59,
   "id": "0916c4b6-88c5-429c-868a-471ffd6f1cef",
   "metadata": {},
   "outputs": [
    {
     "name": "stdout",
     "output_type": "stream",
     "text": [
      "Updated string: This is test sentence.\n"
     ]
    }
   ],
   "source": [
    "def remove_nth_word(input_string, n):\n",
    "    words = input_string.split()\n",
    "    \n",
    "    if 1 <= n <= len(words):\n",
    "        words.pop(n - 1)\n",
    "        updated_string = ' '.join(words)\n",
    "        return updated_string\n",
    "    else:\n",
    "        return \"Invalid index\"\n",
    "\n",
    "# Test case\n",
    "input_string = \"This is a test sentence.\"\n",
    "n = 3\n",
    "new_string = remove_nth_word(input_string, n)\n",
    "print(\"Updated string:\", new_string)\n"
   ]
  },
  {
   "cell_type": "code",
   "execution_count": 57,
   "id": "c1650159-4ba7-4580-8446-9d9bb8730dbc",
   "metadata": {},
   "outputs": [],
   "source": [
    "#49. Insert a word at the nth position in a string."
   ]
  },
  {
   "cell_type": "code",
   "execution_count": 60,
   "id": "3b457052-b12b-49a9-aaa2-bda5461d3dcd",
   "metadata": {},
   "outputs": [
    {
     "name": "stdout",
     "output_type": "stream",
     "text": [
      "Updated string: This is new a test sentence.\n"
     ]
    }
   ],
   "source": [
    "def insert_word_at_nth_position(input_string, n, word_to_insert):\n",
    "    words = input_string.split()\n",
    "    \n",
    "    if 0 <= n <= len(words):\n",
    "        words.insert(n, word_to_insert)\n",
    "        updated_string = ' '.join(words)\n",
    "        return updated_string\n",
    "    else:\n",
    "        return \"Invalid index\"\n",
    "\n",
    "# Test case\n",
    "input_string = \"This is a test sentence.\"\n",
    "n = 2\n",
    "word_to_insert = \"new\"\n",
    "new_string = insert_word_at_nth_position(input_string, n, word_to_insert)\n",
    "print(\"Updated string:\", new_string)\n"
   ]
  },
  {
   "cell_type": "code",
   "execution_count": 58,
   "id": "8845401f-29aa-4d24-87ec-40eb20b857df",
   "metadata": {},
   "outputs": [],
   "source": [
    "#50. Convert a CSV string to a list of lists."
   ]
  },
  {
   "cell_type": "code",
   "execution_count": 50,
   "id": "002303fd-e804-4ffd-ad2c-b63a9ed9481a",
   "metadata": {},
   "outputs": [
    {
     "name": "stdout",
     "output_type": "stream",
     "text": [
      "['Name', 'Age', 'Location']\n",
      "['Rizwan', '30', 'Bihar', ' India']\n",
      "['Rehan', '26', 'Bhopal', ' India']\n",
      "['Ashish', '30', 'Delhi', ' India']\n"
     ]
    }
   ],
   "source": [
    "import csv\n",
    "from io import StringIO\n",
    "\n",
    "csv_string = \"Name,Age,Location\\nRizwan,30,Bihar, India\\nRehan,26,Bhopal, India\\nAshish,30,Delhi, India\"\n",
    "\n",
    "# Convert the CSV string to a list of lists\n",
    "csv_list = []\n",
    "csv_io = StringIO(csv_string)\n",
    "csv_reader = csv.reader(csv_io)\n",
    "for row in csv_reader:\n",
    "    csv_list.append(row)\n",
    "\n",
    "# Print the list of lists\n",
    "for row in csv_list:\n",
    "    print(row)\n"
   ]
  },
  {
   "cell_type": "code",
   "execution_count": null,
   "id": "aa71ad9c-1082-4d3f-80a2-9508984d9ed3",
   "metadata": {},
   "outputs": [],
   "source": []
  },
  {
   "cell_type": "raw",
   "id": "e14d9e38-f7db-4758-a612-c3f4fea96f08",
   "metadata": {},
   "source": [
    "List Based Practice Problem :"
   ]
  },
  {
   "cell_type": "code",
   "execution_count": 59,
   "id": "400f5d14-2ade-4cf0-aa63-5ae4e3373633",
   "metadata": {},
   "outputs": [],
   "source": [
    "#1. Create a list with integers from 1 to 10."
   ]
  },
  {
   "cell_type": "code",
   "execution_count": 65,
   "id": "a8e865b9-cdd0-48bf-8753-b19036755b06",
   "metadata": {},
   "outputs": [],
   "source": [
    "l = [i for i in range(1, 11)]"
   ]
  },
  {
   "cell_type": "code",
   "execution_count": 67,
   "id": "8c7ae1de-b276-4b55-aade-b1c4b5058c9a",
   "metadata": {},
   "outputs": [
    {
     "data": {
      "text/plain": [
       "[1, 2, 3, 4, 5, 6, 7, 8, 9, 10]"
      ]
     },
     "execution_count": 67,
     "metadata": {},
     "output_type": "execute_result"
    }
   ],
   "source": [
    "l"
   ]
  },
  {
   "cell_type": "code",
   "execution_count": 62,
   "id": "c50dcabd-ae13-4246-837e-c54d5d3b7ab9",
   "metadata": {},
   "outputs": [],
   "source": [
    "#2. Find the length of a list without using the `len()` function."
   ]
  },
  {
   "cell_type": "code",
   "execution_count": 68,
   "id": "c60bb9a1-0377-4121-a53c-5f39cbd512a6",
   "metadata": {},
   "outputs": [],
   "source": [
    "def custom_len(input_list):\n",
    "    length = 0\n",
    "    for _ in input_list:\n",
    "        length += 1\n",
    "    return length\n",
    "\n",
    "my_list = [1, 2, 3, 4, 5]\n",
    "length = custom_len(my_list)\n"
   ]
  },
  {
   "cell_type": "code",
   "execution_count": 69,
   "id": "92b35987-3a32-4ecf-b5da-6e6928692d77",
   "metadata": {},
   "outputs": [
    {
     "name": "stdout",
     "output_type": "stream",
     "text": [
      "Length of the list: 5\n"
     ]
    }
   ],
   "source": [
    "print(\"Length of the list:\", length)\n"
   ]
  },
  {
   "cell_type": "code",
   "execution_count": 70,
   "id": "eb6f245d-398e-43a7-94bd-b1e81fafbc66",
   "metadata": {},
   "outputs": [],
   "source": [
    "#3. Append an element to the end of a list."
   ]
  },
  {
   "cell_type": "code",
   "execution_count": 1,
   "id": "c6802fcb-dbad-4085-8037-6241feacddbc",
   "metadata": {},
   "outputs": [],
   "source": [
    "l = [1, 2, 3, 4]\n"
   ]
  },
  {
   "cell_type": "code",
   "execution_count": 2,
   "id": "a3a4c58e-7d8c-4ce2-859f-a6ad36c90b77",
   "metadata": {},
   "outputs": [],
   "source": [
    "l1 = 5\n"
   ]
  },
  {
   "cell_type": "code",
   "execution_count": 3,
   "id": "c4b8645e-7338-4be1-8f31-69df5facfb13",
   "metadata": {},
   "outputs": [],
   "source": [
    "l.append(l1)"
   ]
  },
  {
   "cell_type": "code",
   "execution_count": 4,
   "id": "3bc6241a-49bf-41d6-92e0-8107c8d2c5ba",
   "metadata": {},
   "outputs": [
    {
     "data": {
      "text/plain": [
       "[1, 2, 3, 4, 5]"
      ]
     },
     "execution_count": 4,
     "metadata": {},
     "output_type": "execute_result"
    }
   ],
   "source": [
    "l"
   ]
  },
  {
   "cell_type": "code",
   "execution_count": 71,
   "id": "94c1610f-1a0c-4c2f-b956-7d4ab3dfdffe",
   "metadata": {},
   "outputs": [],
   "source": [
    "#4. Insert an element at a specific index in a list."
   ]
  },
  {
   "cell_type": "code",
   "execution_count": 6,
   "id": "1f2f3882-63f9-45ae-926b-0661f82200a5",
   "metadata": {},
   "outputs": [],
   "source": [
    "l = [1,2,3,4,5,6]\n",
    "l1 = 6\n",
    "index_to_insert = 2\n",
    "l.insert(index_to_insert, l1)\n"
   ]
  },
  {
   "cell_type": "code",
   "execution_count": 7,
   "id": "3467194f-b8b6-4a9e-a39b-220313a3b1d2",
   "metadata": {},
   "outputs": [
    {
     "data": {
      "text/plain": [
       "[1, 2, 6, 3, 4, 5, 6]"
      ]
     },
     "execution_count": 7,
     "metadata": {},
     "output_type": "execute_result"
    }
   ],
   "source": [
    "l"
   ]
  },
  {
   "cell_type": "code",
   "execution_count": 72,
   "id": "7f2c2b5e-0035-4244-b1c1-ca0c1aa5029b",
   "metadata": {},
   "outputs": [],
   "source": [
    "#5. Remove an element from a list by its value."
   ]
  },
  {
   "cell_type": "code",
   "execution_count": 8,
   "id": "f1c1885d-e135-4b2d-89c0-69593130bca3",
   "metadata": {},
   "outputs": [],
   "source": [
    "l = [23, 'rizwan', True, 23.34, 67]"
   ]
  },
  {
   "cell_type": "code",
   "execution_count": 9,
   "id": "236a6285-eaae-4476-a679-35ea09da1651",
   "metadata": {},
   "outputs": [
    {
     "data": {
      "text/plain": [
       "[23, 'rizwan', True, 23.34, 67]"
      ]
     },
     "execution_count": 9,
     "metadata": {},
     "output_type": "execute_result"
    }
   ],
   "source": [
    "l"
   ]
  },
  {
   "cell_type": "code",
   "execution_count": 10,
   "id": "b81a00c6-90cd-4102-b0a4-bf301801f0aa",
   "metadata": {},
   "outputs": [],
   "source": [
    "l1 = 'rizwan'"
   ]
  },
  {
   "cell_type": "code",
   "execution_count": 11,
   "id": "7a9683e0-8735-4307-b65b-e6623ed29274",
   "metadata": {},
   "outputs": [],
   "source": [
    "l.remove(l1)"
   ]
  },
  {
   "cell_type": "code",
   "execution_count": 12,
   "id": "b7119db0-e626-4101-a457-9e8789af8f28",
   "metadata": {},
   "outputs": [
    {
     "data": {
      "text/plain": [
       "[23, True, 23.34, 67]"
      ]
     },
     "execution_count": 12,
     "metadata": {},
     "output_type": "execute_result"
    }
   ],
   "source": [
    "l"
   ]
  },
  {
   "cell_type": "code",
   "execution_count": 73,
   "id": "c2febd63-1c3a-4d91-bc07-a39f61f6ef4f",
   "metadata": {},
   "outputs": [],
   "source": [
    "#6. Remove an element from a list by its index."
   ]
  },
  {
   "cell_type": "code",
   "execution_count": 17,
   "id": "02fcd945-8cec-4813-a3ca-80f8328c7bff",
   "metadata": {},
   "outputs": [],
   "source": [
    "l = [23, 'rizwan', 'pwskills', True, 23.34, 67]"
   ]
  },
  {
   "cell_type": "code",
   "execution_count": 18,
   "id": "da1a9f50-3579-4db7-93e0-862a7b1c2dc0",
   "metadata": {},
   "outputs": [
    {
     "data": {
      "text/plain": [
       "[23, 'rizwan', 'pwskills', True, 23.34, 67]"
      ]
     },
     "execution_count": 18,
     "metadata": {},
     "output_type": "execute_result"
    }
   ],
   "source": [
    "l"
   ]
  },
  {
   "cell_type": "code",
   "execution_count": 19,
   "id": "8ac729fa-31a7-4c50-b638-0465e4baf1a1",
   "metadata": {},
   "outputs": [],
   "source": [
    "l.remove(l[2])"
   ]
  },
  {
   "cell_type": "code",
   "execution_count": 20,
   "id": "c45c484f-d954-4954-b454-f87f789d1d6b",
   "metadata": {},
   "outputs": [
    {
     "data": {
      "text/plain": [
       "[23, 'rizwan', True, 23.34, 67]"
      ]
     },
     "execution_count": 20,
     "metadata": {},
     "output_type": "execute_result"
    }
   ],
   "source": [
    "l"
   ]
  },
  {
   "cell_type": "code",
   "execution_count": 74,
   "id": "9bf2361d-5287-46f9-a0f2-e673a33403a1",
   "metadata": {},
   "outputs": [],
   "source": [
    "#7. Check if an element exists in a list."
   ]
  },
  {
   "cell_type": "code",
   "execution_count": 21,
   "id": "b5642515-0a42-4b32-9c82-2455c0b4f9d0",
   "metadata": {},
   "outputs": [],
   "source": [
    "l = [23, 'rizwan', 'pwskills', True, 23.34, 67]"
   ]
  },
  {
   "cell_type": "code",
   "execution_count": 23,
   "id": "8b4fc0e8-e130-4053-89f3-97992c1fbe24",
   "metadata": {},
   "outputs": [
    {
     "name": "stdout",
     "output_type": "stream",
     "text": [
      "pwskills exists in the list.\n"
     ]
    }
   ],
   "source": [
    "l1 = 'pwskills'\n",
    "\n",
    "if l1 in l:\n",
    "    print(f\"{l1} exists in the list.\")\n",
    "else:\n",
    "    print(f\"{l1} does not exist in the list.\")\n"
   ]
  },
  {
   "cell_type": "code",
   "execution_count": 24,
   "id": "88c445c8-2b4f-4b60-a4d2-373005a41a38",
   "metadata": {},
   "outputs": [
    {
     "data": {
      "text/plain": [
       "[23, 'rizwan', 'pwskills', True, 23.34, 67]"
      ]
     },
     "execution_count": 24,
     "metadata": {},
     "output_type": "execute_result"
    }
   ],
   "source": [
    "l"
   ]
  },
  {
   "cell_type": "code",
   "execution_count": 26,
   "id": "527aca5b-e6f9-4664-88ea-0d352a68b4e7",
   "metadata": {},
   "outputs": [
    {
     "name": "stdout",
     "output_type": "stream",
     "text": [
      "rizwan exists in the list\n"
     ]
    }
   ],
   "source": [
    "if 'rizwan' in l: print(\"rizwan exists in the list\")"
   ]
  },
  {
   "cell_type": "code",
   "execution_count": 75,
   "id": "9ffb0c2b-6f9a-420c-9569-e8d1a45e49de",
   "metadata": {},
   "outputs": [],
   "source": [
    "#8. Find the index of the first occurrence of an element in a list."
   ]
  },
  {
   "cell_type": "code",
   "execution_count": 27,
   "id": "5bfbb067-bc08-44db-8b70-cd3b74a3c51f",
   "metadata": {},
   "outputs": [],
   "source": [
    "l = [23, 2+5j, 'rizwan', 'pwskills', True, 23.34, 67]"
   ]
  },
  {
   "cell_type": "code",
   "execution_count": 28,
   "id": "ebc5510f-bfea-498a-9ab9-6d32bbce5620",
   "metadata": {},
   "outputs": [],
   "source": [
    "l1 = 'pwskills'"
   ]
  },
  {
   "cell_type": "code",
   "execution_count": 29,
   "id": "7d05c723-c8dd-4a8d-8a9f-66c3d2e7af72",
   "metadata": {},
   "outputs": [],
   "source": [
    "index = l.index(l1)"
   ]
  },
  {
   "cell_type": "code",
   "execution_count": 31,
   "id": "31f9b853-038d-4901-9644-771722358e39",
   "metadata": {},
   "outputs": [
    {
     "name": "stdout",
     "output_type": "stream",
     "text": [
      "The index of pwskills is 3\n"
     ]
    }
   ],
   "source": [
    "print(f\"The index of {l1} is {index}\")"
   ]
  },
  {
   "cell_type": "code",
   "execution_count": 76,
   "id": "8686e23f-f2d2-41db-8cc8-f77f9b5e187d",
   "metadata": {},
   "outputs": [],
   "source": [
    "#9. Count the occurrences of an element in a list."
   ]
  },
  {
   "cell_type": "code",
   "execution_count": 2,
   "id": "3aa4ed0a-bf62-4296-9148-683a9c2afd6f",
   "metadata": {},
   "outputs": [
    {
     "name": "stdout",
     "output_type": "stream",
     "text": [
      "The element 2 appears 4 times in the list.\n"
     ]
    }
   ],
   "source": [
    "# Sample list\n",
    "my_list = [1, 2, 2, 3, 4, 2, 5, 2]\n",
    "\n",
    "# Element to count occurrences of\n",
    "element_to_count = 2\n",
    "\n",
    "# Count occurrences\n",
    "count = my_list.count(element_to_count)\n",
    "\n",
    "# Print the count\n",
    "print(f\"The element {element_to_count} appears {count} times in the list.\")\n"
   ]
  },
  {
   "cell_type": "code",
   "execution_count": 77,
   "id": "3fa3ad21-ee24-42c5-af17-f78fc7a73bb8",
   "metadata": {},
   "outputs": [],
   "source": [
    "#10. Reverse the order of elements in a list."
   ]
  },
  {
   "cell_type": "code",
   "execution_count": 3,
   "id": "2980e891-940c-4ad2-97f5-24f74073df55",
   "metadata": {},
   "outputs": [
    {
     "name": "stdout",
     "output_type": "stream",
     "text": [
      "[5, 4, 3, 2, 1]\n"
     ]
    }
   ],
   "source": [
    "# Sample list\n",
    "my_list = [1, 2, 3, 4, 5]\n",
    "\n",
    "# Reverse the list using slicing\n",
    "reversed_list = my_list[::-1]\n",
    "\n",
    "# Print the reversed list\n",
    "print(reversed_list)\n"
   ]
  },
  {
   "cell_type": "code",
   "execution_count": 78,
   "id": "ed9c170d-3d4a-4e8e-b7c8-fb27559a7f89",
   "metadata": {},
   "outputs": [],
   "source": [
    "#11. Sort a list in ascending order."
   ]
  },
  {
   "cell_type": "code",
   "execution_count": 4,
   "id": "b3723c09-fee8-4671-9dcd-e6baf59b8e8d",
   "metadata": {},
   "outputs": [
    {
     "name": "stdout",
     "output_type": "stream",
     "text": [
      "[1, 2, 3, 5, 8]\n"
     ]
    }
   ],
   "source": [
    "# Sample list\n",
    "my_list = [5, 2, 8, 1, 3]\n",
    "\n",
    "# Sort the list in ascending order using sorted()\n",
    "sorted_list = sorted(my_list)\n",
    "\n",
    "# Print the sorted list\n",
    "print(sorted_list)\n"
   ]
  },
  {
   "cell_type": "code",
   "execution_count": 79,
   "id": "055d9f3a-5cf1-4929-ad3b-f75b7a6b4a8f",
   "metadata": {},
   "outputs": [],
   "source": [
    "#12. Sort a list in descending order."
   ]
  },
  {
   "cell_type": "code",
   "execution_count": 5,
   "id": "96b53a69-252a-484b-b9f0-fca5f2abf098",
   "metadata": {},
   "outputs": [
    {
     "name": "stdout",
     "output_type": "stream",
     "text": [
      "[8, 5, 3, 2, 1]\n"
     ]
    }
   ],
   "source": [
    "# Sample list\n",
    "my_list = [5, 2, 8, 1, 3]\n",
    "\n",
    "# Sort the list in descending order in-place using sort() and reverse=True\n",
    "my_list.sort(reverse=True)\n",
    "\n",
    "# Print the sorted list in descending order\n",
    "print(my_list)\n"
   ]
  },
  {
   "cell_type": "code",
   "execution_count": 80,
   "id": "a5fcb8b7-7c6d-4ec9-9fe5-06bf883eacdd",
   "metadata": {},
   "outputs": [],
   "source": [
    "#13. Create a list of even numbers from 1 to 20."
   ]
  },
  {
   "cell_type": "code",
   "execution_count": 27,
   "id": "2f734b7e-0bfe-495d-88a5-4ba8f7faf8e9",
   "metadata": {},
   "outputs": [
    {
     "name": "stdout",
     "output_type": "stream",
     "text": [
      "List of even numbers: [2, 4, 6, 8, 10, 12, 14, 16, 18, 20]\n"
     ]
    }
   ],
   "source": [
    "# Use a list comprehension to create a list of even numbers from 1 to 20\n",
    "even_numbers = [x for x in range(2, 21, 2)]\n",
    "\n",
    "# Print the list of even numbers\n",
    "print(\"List of even numbers:\", even_numbers)"
   ]
  },
  {
   "cell_type": "code",
   "execution_count": 81,
   "id": "a9fe00dc-8466-409e-90bf-a9037268cb55",
   "metadata": {},
   "outputs": [],
   "source": [
    "#14. Create a list of odd numbers from 1 to 20."
   ]
  },
  {
   "cell_type": "code",
   "execution_count": 28,
   "id": "1a4c4875-4d72-49ba-b4b6-538089f21466",
   "metadata": {},
   "outputs": [
    {
     "name": "stdout",
     "output_type": "stream",
     "text": [
      "List of odd numbers: [1, 3, 5, 7, 9, 11, 13, 15, 17, 19]\n"
     ]
    }
   ],
   "source": [
    "# Use a list comprehension to create a list of odd numbers from 1 to 20\n",
    "odd_numbers = [x for x in range(1, 21, 2)]\n",
    "\n",
    "# Print the list of odd numbers\n",
    "print(\"List of odd numbers:\", odd_numbers)"
   ]
  },
  {
   "cell_type": "code",
   "execution_count": 82,
   "id": "3ab82815-15d2-4908-b5d6-3c44b280d22d",
   "metadata": {},
   "outputs": [],
   "source": [
    "#15. Find the sum of all elements in a list."
   ]
  },
  {
   "cell_type": "code",
   "execution_count": 29,
   "id": "02f7289a-cc78-4130-a888-835e216a43b6",
   "metadata": {},
   "outputs": [
    {
     "name": "stdout",
     "output_type": "stream",
     "text": [
      "Sum of elements: 150\n"
     ]
    }
   ],
   "source": [
    "# Example list\n",
    "my_list = [10, 20, 30, 40, 50]\n",
    "\n",
    "# Calculate the sum of all elements in the list\n",
    "total_sum = sum(my_list)\n",
    "\n",
    "# Print the sum\n",
    "print(\"Sum of elements:\", total_sum)"
   ]
  },
  {
   "cell_type": "code",
   "execution_count": 83,
   "id": "cb7dc37f-c981-48b9-8206-a6bc188e5847",
   "metadata": {},
   "outputs": [],
   "source": [
    "#16. Find the maximum value in a list."
   ]
  },
  {
   "cell_type": "code",
   "execution_count": 30,
   "id": "64699824-1f7a-474c-a229-439d85c16677",
   "metadata": {},
   "outputs": [
    {
     "name": "stdout",
     "output_type": "stream",
     "text": [
      "Maximum value: 50\n"
     ]
    }
   ],
   "source": [
    "# Example list\n",
    "my_list = [10, 20, 30, 40, 50]\n",
    "\n",
    "# Find the maximum value in the list\n",
    "max_value = max(my_list)\n",
    "\n",
    "# Print the maximum value\n",
    "print(\"Maximum value:\", max_value)"
   ]
  },
  {
   "cell_type": "code",
   "execution_count": 84,
   "id": "b6c6910e-a615-419e-8019-0f70ee932e19",
   "metadata": {},
   "outputs": [],
   "source": [
    "#17. Find the minimum value in a list."
   ]
  },
  {
   "cell_type": "code",
   "execution_count": 31,
   "id": "ecd27154-8866-4710-91c8-8c6b877d0f65",
   "metadata": {},
   "outputs": [
    {
     "name": "stdout",
     "output_type": "stream",
     "text": [
      "Minimum value: 10\n"
     ]
    }
   ],
   "source": [
    "# Example list\n",
    "my_list = [10, 20, 30, 40, 50]\n",
    "\n",
    "# Find the minimum value in the list\n",
    "min_value = min(my_list)\n",
    "\n",
    "# Print the minimum value\n",
    "print(\"Minimum value:\", min_value)"
   ]
  },
  {
   "cell_type": "code",
   "execution_count": 85,
   "id": "a3507282-c363-4833-b161-41892ca18d89",
   "metadata": {},
   "outputs": [],
   "source": [
    "#18. Create a list of squares of numbers from 1 to 10."
   ]
  },
  {
   "cell_type": "code",
   "execution_count": 32,
   "id": "99e3f790-9f16-4b4a-a2f8-2616ac6b78be",
   "metadata": {},
   "outputs": [
    {
     "name": "stdout",
     "output_type": "stream",
     "text": [
      "List of squares: [1, 4, 9, 16, 25, 36, 49, 64, 81, 100]\n"
     ]
    }
   ],
   "source": [
    "# Use a list comprehension to create a list of squares of numbers from 1 to 10\n",
    "squares = [x ** 2 for x in range(1, 11)]\n",
    "\n",
    "# Print the list of squares\n",
    "print(\"List of squares:\", squares)"
   ]
  },
  {
   "cell_type": "code",
   "execution_count": 86,
   "id": "3ce578c8-ff84-4625-939e-5e09481d808c",
   "metadata": {},
   "outputs": [],
   "source": [
    "#19. Create a list of random numbers."
   ]
  },
  {
   "cell_type": "code",
   "execution_count": 62,
   "id": "5bcafa90-2ae0-409c-98ed-9ce63c5788ec",
   "metadata": {},
   "outputs": [
    {
     "name": "stdout",
     "output_type": "stream",
     "text": [
      "[93, 6, 58, 94, 85]\n"
     ]
    }
   ],
   "source": [
    "import random\n",
    "\n",
    "# Generate a list of 5 random integers between 1 and 100\n",
    "random_numbers = [random.randint(1, 100) for _ in range(5)]\n",
    "\n",
    "# Print the list of random numbers\n",
    "print(random_numbers)\n"
   ]
  },
  {
   "cell_type": "code",
   "execution_count": 88,
   "id": "aef636f8-3c60-445b-a56f-664a212a4276",
   "metadata": {},
   "outputs": [],
   "source": [
    "#20. Remove duplicates from a list."
   ]
  },
  {
   "cell_type": "code",
   "execution_count": 63,
   "id": "28279e51-bdb5-436b-9d2c-34be76904e1a",
   "metadata": {},
   "outputs": [
    {
     "name": "stdout",
     "output_type": "stream",
     "text": [
      "[1, 2, 3, 4, 5]\n"
     ]
    }
   ],
   "source": [
    "# Create a list with duplicate elements\n",
    "my_list = [1, 2, 2, 3, 4, 4, 5]\n",
    "\n",
    "# Remove duplicates by converting the list to a set and back to a list\n",
    "unique_list = list(set(my_list))\n",
    "\n",
    "# Print the list with duplicates removed\n",
    "print(unique_list)\n"
   ]
  },
  {
   "cell_type": "code",
   "execution_count": 89,
   "id": "a42f0e95-c8c7-4640-956b-a0957375d45d",
   "metadata": {},
   "outputs": [],
   "source": [
    "#21. Find the common elements between two lists."
   ]
  },
  {
   "cell_type": "code",
   "execution_count": 64,
   "id": "faa8e918-9435-49c3-963f-de1c7be27025",
   "metadata": {},
   "outputs": [
    {
     "name": "stdout",
     "output_type": "stream",
     "text": [
      "Common elements: [3, 4, 5]\n"
     ]
    }
   ],
   "source": [
    "# Define two lists\n",
    "list1 = [1, 2, 3, 4, 5]\n",
    "list2 = [3, 4, 5, 6, 7]\n",
    "\n",
    "# Find the common elements using list comprehensions\n",
    "common_elements = [element for element in list1 if element in list2]\n",
    "\n",
    "# Print the common elements\n",
    "print(\"Common elements:\", common_elements)\n"
   ]
  },
  {
   "cell_type": "code",
   "execution_count": 90,
   "id": "46d56d38-bbdf-42bb-97c2-8715c9288b1d",
   "metadata": {},
   "outputs": [],
   "source": [
    "#22. Find the difference between two lists."
   ]
  },
  {
   "cell_type": "code",
   "execution_count": 65,
   "id": "3d17d873-638c-4735-9ee2-1d439149ab0d",
   "metadata": {},
   "outputs": [
    {
     "name": "stdout",
     "output_type": "stream",
     "text": [
      "Unique elements: [1, 2, 6, 7]\n"
     ]
    }
   ],
   "source": [
    "# Define two lists\n",
    "list1 = [1, 2, 3, 4, 5]\n",
    "list2 = [3, 4, 5, 6, 7]\n",
    "\n",
    "# Find elements that are unique to one of the lists using set operations\n",
    "unique_elements = set(list1).symmetric_difference(set(list2))\n",
    "\n",
    "# Convert the result back to a list\n",
    "unique_elements_list = list(unique_elements)\n",
    "\n",
    "# Print the result\n",
    "print(\"Unique elements:\", unique_elements_list)\n"
   ]
  },
  {
   "cell_type": "code",
   "execution_count": 91,
   "id": "a2500cc9-33c5-4082-9f41-2b2246bd9aff",
   "metadata": {},
   "outputs": [],
   "source": [
    "#23. Merge two lists."
   ]
  },
  {
   "cell_type": "code",
   "execution_count": 71,
   "id": "b5af9b47-7bab-47be-87a9-77e05c2d9827",
   "metadata": {},
   "outputs": [
    {
     "name": "stdout",
     "output_type": "stream",
     "text": [
      "[1, 2, 3, 4, 5, 6]\n"
     ]
    }
   ],
   "source": [
    "# Define two lists\n",
    "list1 = [1, 2, 3]\n",
    "list2 = [4, 5, 6]\n",
    "\n",
    "# Merge the two lists using the + operator\n",
    "merged_list = list1 + list2\n",
    "\n",
    "# Print the merged list\n",
    "print(merged_list)\n"
   ]
  },
  {
   "cell_type": "code",
   "execution_count": 92,
   "id": "6a8b54c7-b27e-4519-ad09-8f813ce5a811",
   "metadata": {},
   "outputs": [],
   "source": [
    "#24. Multiply all elements in a list by 2."
   ]
  },
  {
   "cell_type": "code",
   "execution_count": 72,
   "id": "8efdb207-bbc2-47f9-b88b-5adadc36ddca",
   "metadata": {},
   "outputs": [
    {
     "name": "stdout",
     "output_type": "stream",
     "text": [
      "[2, 4, 6, 8, 10]\n"
     ]
    }
   ],
   "source": [
    "# Create a list of numbers\n",
    "my_list = [1, 2, 3, 4, 5]\n",
    "\n",
    "# Use list comprehension to multiply each element by 2\n",
    "doubled_list = [x * 2 for x in my_list]\n",
    "\n",
    "# Print the list with elements multiplied by 2\n",
    "print(doubled_list)\n"
   ]
  },
  {
   "cell_type": "code",
   "execution_count": 96,
   "id": "4c894187-2a28-48b1-86d9-3dd18cb6a9cd",
   "metadata": {},
   "outputs": [],
   "source": [
    "#25. Filter out all even numbers from a list."
   ]
  },
  {
   "cell_type": "code",
   "execution_count": 73,
   "id": "95aff05f-bb6d-4508-a6e6-e2aba342ec0a",
   "metadata": {},
   "outputs": [
    {
     "name": "stdout",
     "output_type": "stream",
     "text": [
      "[1, 3, 5, 7, 9]\n"
     ]
    }
   ],
   "source": [
    "# Create a list of numbers\n",
    "my_list = [1, 2, 3, 4, 5, 6, 7, 8, 9, 10]\n",
    "\n",
    "# Use list comprehension to filter out even numbers\n",
    "odd_numbers = [x for x in my_list if x % 2 != 0]\n",
    "\n",
    "# Print the list with even numbers filtered out\n",
    "print(odd_numbers)\n"
   ]
  },
  {
   "cell_type": "code",
   "execution_count": 97,
   "id": "14d9c8cd-31d0-4e5b-9679-e785adfecf08",
   "metadata": {},
   "outputs": [],
   "source": [
    "#26. Convert a list of strings to a list of integers."
   ]
  },
  {
   "cell_type": "code",
   "execution_count": 74,
   "id": "548aec82-776e-4bdc-8124-100bb33894b6",
   "metadata": {},
   "outputs": [
    {
     "name": "stdout",
     "output_type": "stream",
     "text": [
      "[1, 2, 3, 4, 5]\n"
     ]
    }
   ],
   "source": [
    "# Create a list of strings\n",
    "string_list = [\"1\", \"2\", \"3\", \"4\", \"5\"]\n",
    "\n",
    "# Use list comprehension to convert strings to integers\n",
    "integer_list = [int(x) for x in string_list]\n",
    "\n",
    "# Print the list of integers\n",
    "print(integer_list)\n"
   ]
  },
  {
   "cell_type": "code",
   "execution_count": 98,
   "id": "76bf4e5a-5773-43a9-9f09-83002d09d2e8",
   "metadata": {},
   "outputs": [],
   "source": [
    "#27. Convert a list of integers to a list of strings."
   ]
  },
  {
   "cell_type": "code",
   "execution_count": 75,
   "id": "c8dfabe9-6920-44e7-9bf1-de4be9c0bec3",
   "metadata": {},
   "outputs": [
    {
     "name": "stdout",
     "output_type": "stream",
     "text": [
      "['1', '2', '3', '4', '5']\n"
     ]
    }
   ],
   "source": [
    "# Create a list of integers\n",
    "integer_list = [1, 2, 3, 4, 5]\n",
    "\n",
    "# Use list comprehension to convert integers to strings\n",
    "string_list = [str(x) for x in integer_list]\n",
    "\n",
    "# Print the list of strings\n",
    "print(string_list)\n"
   ]
  },
  {
   "cell_type": "code",
   "execution_count": 99,
   "id": "abfc84db-78cc-4280-9709-95edab35644a",
   "metadata": {},
   "outputs": [],
   "source": [
    "#28. Flatten a nested list."
   ]
  },
  {
   "cell_type": "code",
   "execution_count": 76,
   "id": "b8125883-a4d5-4ee4-998f-8a6947cb7d36",
   "metadata": {},
   "outputs": [
    {
     "name": "stdout",
     "output_type": "stream",
     "text": [
      "[1, 2, 3, 4, 5, 6, 7]\n"
     ]
    }
   ],
   "source": [
    "# Define a nested list\n",
    "nested_list = [1, [2, 3], [4, [5, 6]], 7]\n",
    "\n",
    "# Function to flatten a nested list using recursion\n",
    "def flatten(lst):\n",
    "    flat_list = []\n",
    "    for item in lst:\n",
    "        if isinstance(item, list):\n",
    "            flat_list.extend(flatten(item))\n",
    "        else:\n",
    "            flat_list.append(item)\n",
    "    return flat_list\n",
    "\n",
    "# Call the function to flatten the nested list\n",
    "flattened_list = flatten(nested_list)\n",
    "\n",
    "# Print the flattened list\n",
    "print(flattened_list)\n"
   ]
  },
  {
   "cell_type": "code",
   "execution_count": 100,
   "id": "d7ce8b6e-4913-48d2-a6ff-7ac83061dcf1",
   "metadata": {},
   "outputs": [],
   "source": [
    "#29. Create a list of the first 10 Fibonacci numbers."
   ]
  },
  {
   "cell_type": "code",
   "execution_count": 77,
   "id": "f907af03-d213-44ee-9fd7-0538649b78a2",
   "metadata": {},
   "outputs": [
    {
     "name": "stdout",
     "output_type": "stream",
     "text": [
      "[0, 1, 1, 2, 3, 5, 8, 13, 21, 34]\n"
     ]
    }
   ],
   "source": [
    "# Initialize a list with the first two Fibonacci numbers\n",
    "fibonacci_list = [0, 1]\n",
    "\n",
    "# Generate the next 8 Fibonacci numbers and add them to the list\n",
    "for i in range(2, 10):\n",
    "    next_fibonacci = fibonacci_list[i - 1] + fibonacci_list[i - 2]\n",
    "    fibonacci_list.append(next_fibonacci)\n",
    "\n",
    "# Print the list of the first 10 Fibonacci numbers\n",
    "print(fibonacci_list)\n"
   ]
  },
  {
   "cell_type": "code",
   "execution_count": 101,
   "id": "5d9458d3-8d17-4635-82df-4f0f1e4fc375",
   "metadata": {},
   "outputs": [],
   "source": [
    "#30. Check if a list is sorted."
   ]
  },
  {
   "cell_type": "code",
   "execution_count": 78,
   "id": "54fee409-415c-4585-a23b-41090484821e",
   "metadata": {},
   "outputs": [
    {
     "name": "stdout",
     "output_type": "stream",
     "text": [
      "The list is sorted in ascending order.\n"
     ]
    }
   ],
   "source": [
    "# Define a list\n",
    "my_list = [1, 2, 3, 4, 5]\n",
    "\n",
    "# Check if the list is sorted in ascending order\n",
    "is_sorted = all(my_list[i] <= my_list[i + 1] for i in range(len(my_list) - 1))\n",
    "\n",
    "# Print the result\n",
    "if is_sorted:\n",
    "    print(\"The list is sorted in ascending order.\")\n",
    "else:\n",
    "    print(\"The list is not sorted in ascending order.\")\n"
   ]
  },
  {
   "cell_type": "code",
   "execution_count": 102,
   "id": "b952197c-fe09-43d6-b554-2cbfcd2db3b7",
   "metadata": {},
   "outputs": [],
   "source": [
    "#31. Rotate a list to the left by `n` positions."
   ]
  },
  {
   "cell_type": "code",
   "execution_count": 79,
   "id": "c5c14acf-aeb8-4d40-94a8-c98858d2b932",
   "metadata": {},
   "outputs": [
    {
     "name": "stdout",
     "output_type": "stream",
     "text": [
      "[3, 4, 5, 1, 2]\n"
     ]
    }
   ],
   "source": [
    "# Define a list\n",
    "my_list = [1, 2, 3, 4, 5]\n",
    "\n",
    "# Define the number of positions to rotate\n",
    "n = 2\n",
    "\n",
    "# Rotate the list to the left by n positions\n",
    "rotated_list = my_list[n:] + my_list[:n]\n",
    "\n",
    "# Print the rotated list\n",
    "print(rotated_list)\n"
   ]
  },
  {
   "cell_type": "code",
   "execution_count": 103,
   "id": "f442f846-6ca8-4905-ad2f-a4619368945f",
   "metadata": {},
   "outputs": [],
   "source": [
    "#32. Rotate a list to the right by `n` positions."
   ]
  },
  {
   "cell_type": "code",
   "execution_count": 80,
   "id": "21fe022a-6316-47bd-88d9-2cb41591c89d",
   "metadata": {},
   "outputs": [
    {
     "name": "stdout",
     "output_type": "stream",
     "text": [
      "[4, 5, 1, 2, 3]\n"
     ]
    }
   ],
   "source": [
    "# Define a list\n",
    "my_list = [1, 2, 3, 4, 5]\n",
    "\n",
    "# Define the number of positions to rotate\n",
    "n = 2\n",
    "\n",
    "# Calculate the index to split the list\n",
    "split_index = len(my_list) - n\n",
    "\n",
    "# Rotate the list to the right by n positions\n",
    "rotated_list = my_list[split_index:] + my_list[:split_index]\n",
    "\n",
    "# Print the rotated list\n",
    "print(rotated_list)\n"
   ]
  },
  {
   "cell_type": "code",
   "execution_count": 104,
   "id": "5a024cb8-2ac2-4f33-8cf9-fe003da9482a",
   "metadata": {},
   "outputs": [],
   "source": [
    "#33. Create a list of prime numbers up to 50."
   ]
  },
  {
   "cell_type": "code",
   "execution_count": 81,
   "id": "223b8725-3064-42a3-b8f3-9b06f2677904",
   "metadata": {},
   "outputs": [
    {
     "name": "stdout",
     "output_type": "stream",
     "text": [
      "[2, 3, 5, 7, 11, 13, 17, 19, 23, 29, 31, 37, 41, 43, 47]\n"
     ]
    }
   ],
   "source": [
    "# Function to check if a number is prime\n",
    "def is_prime(num):\n",
    "    if num <= 1:\n",
    "        return False\n",
    "    if num <= 3:\n",
    "        return True\n",
    "    if num % 2 == 0 or num % 3 == 0:\n",
    "        return False\n",
    "    i = 5\n",
    "    while i * i <= num:\n",
    "        if num % i == 0 or num % (i + 2) == 0:\n",
    "            return False\n",
    "        i += 6\n",
    "    return True\n",
    "\n",
    "# Create a list of prime numbers up to 50\n",
    "prime_numbers = [num for num in range(2, 51) if is_prime(num)]\n",
    "\n",
    "# Print the list of prime numbers\n",
    "print(prime_numbers)\n"
   ]
  },
  {
   "cell_type": "code",
   "execution_count": 105,
   "id": "1ed78849-4e2c-4eee-bbe3-899efab95b5e",
   "metadata": {},
   "outputs": [],
   "source": [
    "#34. Split a list into chunks of size `n`."
   ]
  },
  {
   "cell_type": "code",
   "execution_count": 82,
   "id": "ad777113-bc2d-4a0f-81f6-36cc0fc54c00",
   "metadata": {},
   "outputs": [
    {
     "name": "stdout",
     "output_type": "stream",
     "text": [
      "[[1, 2, 3], [4, 5, 6], [7, 8, 9], [10]]\n"
     ]
    }
   ],
   "source": [
    "# Function to split a list into chunks of size n\n",
    "def split_list(input_list, chunk_size):\n",
    "    return [input_list[i:i + chunk_size] for i in range(0, len(input_list), chunk_size)]\n",
    "\n",
    "# Create a list\n",
    "my_list = [1, 2, 3, 4, 5, 6, 7, 8, 9, 10]\n",
    "\n",
    "# Specify the chunk size\n",
    "chunk_size = 3\n",
    "\n",
    "# Split the list into chunks of size n\n",
    "chunked_list = split_list(my_list, chunk_size)\n",
    "\n",
    "# Print the list of chunks\n",
    "print(chunked_list)\n"
   ]
  },
  {
   "cell_type": "code",
   "execution_count": 106,
   "id": "6e51aba1-be07-4380-a058-93fbbbe050eb",
   "metadata": {},
   "outputs": [],
   "source": [
    "#35. Find the second largest number in a list."
   ]
  },
  {
   "cell_type": "code",
   "execution_count": 83,
   "id": "a6e1097b-e5fd-4de9-a7ab-128c968b7d6c",
   "metadata": {},
   "outputs": [
    {
     "name": "stdout",
     "output_type": "stream",
     "text": [
      "The second largest number is: 15\n"
     ]
    }
   ],
   "source": [
    "# Create a list of numbers\n",
    "my_list = [10, 5, 20, 8, 15]\n",
    "\n",
    "# Initialize variables to keep track of the largest and second largest numbers\n",
    "largest = float('-inf')  # Initialize largest to negative infinity\n",
    "second_largest = float('-inf')  # Initialize second largest to negative infinity\n",
    "\n",
    "# Iterate through the list to find the largest and second largest numbers\n",
    "for num in my_list:\n",
    "    if num > largest:\n",
    "        second_largest = largest\n",
    "        largest = num\n",
    "    elif num > second_largest and num != largest:\n",
    "        second_largest = num\n",
    "\n",
    "# Check if a second largest number was found\n",
    "if second_largest != float('-inf'):\n",
    "    print(\"The second largest number is:\", second_largest)\n",
    "else:\n",
    "    print(\"There is no second largest number in the list.\")\n"
   ]
  },
  {
   "cell_type": "code",
   "execution_count": 107,
   "id": "cafb7067-06bb-49a0-a3e0-de2d2aa721c6",
   "metadata": {},
   "outputs": [],
   "source": [
    "#36. Replace every element in a list with its square."
   ]
  },
  {
   "cell_type": "code",
   "execution_count": 70,
   "id": "0445ccbd-0e24-474a-a421-095b6573d69a",
   "metadata": {},
   "outputs": [
    {
     "name": "stdout",
     "output_type": "stream",
     "text": [
      "[1, 4, 9, 16, 25]\n"
     ]
    }
   ],
   "source": [
    "# Create a list of numbers\n",
    "my_list = [1, 2, 3, 4, 5]\n",
    "\n",
    "# Use list comprehension to replace each element with its square\n",
    "squared_list = [x ** 2 for x in my_list]\n",
    "\n",
    "# Print the list with squared elements\n",
    "print(squared_list)\n"
   ]
  },
  {
   "cell_type": "code",
   "execution_count": 108,
   "id": "596167cd-dea3-4351-a2cc-8b6531f6b3fa",
   "metadata": {},
   "outputs": [],
   "source": [
    "#37. Convert a list to a dictionary where list elements become keys and their indices become values."
   ]
  },
  {
   "cell_type": "code",
   "execution_count": 69,
   "id": "0d976881-e03d-45bc-b503-2e831169a86d",
   "metadata": {},
   "outputs": [
    {
     "name": "stdout",
     "output_type": "stream",
     "text": [
      "{'apple': 0, 'banana': 1, 'cherry': 2, 'date': 3}\n"
     ]
    }
   ],
   "source": [
    "# Create a list\n",
    "my_list = ['apple', 'banana', 'cherry', 'date']\n",
    "\n",
    "# Convert the list to a dictionary using a dictionary comprehension\n",
    "my_dict = {element: index for index, element in enumerate(my_list)}\n",
    "\n",
    "# Print the resulting dictionary\n",
    "print(my_dict)\n"
   ]
  },
  {
   "cell_type": "code",
   "execution_count": 109,
   "id": "65f5cdb0-494b-4402-9b5d-bb751a16596f",
   "metadata": {},
   "outputs": [],
   "source": [
    "#38. Shuffle the elements of a list randomly."
   ]
  },
  {
   "cell_type": "code",
   "execution_count": 68,
   "id": "5a1fee46-caa1-4769-afac-7c1f5239436d",
   "metadata": {},
   "outputs": [
    {
     "name": "stdout",
     "output_type": "stream",
     "text": [
      "Shuffled list: [2, 1, 3, 5, 4]\n"
     ]
    }
   ],
   "source": [
    "import random\n",
    "\n",
    "# Create a list\n",
    "my_list = [1, 2, 3, 4, 5]\n",
    "\n",
    "# Shuffle the elements randomly\n",
    "random.shuffle(my_list)\n",
    "\n",
    "# Print the shuffled list\n",
    "print(\"Shuffled list:\", my_list)\n"
   ]
  },
  {
   "cell_type": "code",
   "execution_count": 110,
   "id": "4f7dc486-4680-4a58-8614-7ec220998db1",
   "metadata": {},
   "outputs": [],
   "source": [
    "#39. Create a list of the first 10 factorial numbers."
   ]
  },
  {
   "cell_type": "code",
   "execution_count": 67,
   "id": "2f6088ea-731e-4403-84fb-ef287c0d7f19",
   "metadata": {},
   "outputs": [
    {
     "name": "stdout",
     "output_type": "stream",
     "text": [
      "[1, 1, 2, 6, 24, 120, 720, 5040, 40320, 362880]\n"
     ]
    }
   ],
   "source": [
    "# Function to calculate factorial\n",
    "def factorial(n):\n",
    "    if n == 0:\n",
    "        return 1\n",
    "    else:\n",
    "        return n * factorial(n - 1)\n",
    "\n",
    "# Create a list of the first 10 factorial numbers\n",
    "factorial_list = [factorial(n) for n in range(10)]\n",
    "\n",
    "# Print the list of factorial numbers\n",
    "print(factorial_list)\n"
   ]
  },
  {
   "cell_type": "code",
   "execution_count": 111,
   "id": "6452f871-dd0e-4b70-a5bb-22e37e82d663",
   "metadata": {},
   "outputs": [],
   "source": [
    "#40. Check if two lists have at least one element in common."
   ]
  },
  {
   "cell_type": "code",
   "execution_count": 66,
   "id": "ab0dcec4-d55d-4f5a-b6b1-596da2323cc0",
   "metadata": {},
   "outputs": [
    {
     "name": "stdout",
     "output_type": "stream",
     "text": [
      "The two lists have at least one element in common.\n"
     ]
    }
   ],
   "source": [
    "# Define two lists\n",
    "list1 = [1, 2, 3, 4, 5]\n",
    "list2 = [3, 4, 5, 6, 7]\n",
    "\n",
    "# Initialize a flag to indicate whether there is a common element\n",
    "common_flag = False\n",
    "\n",
    "# Loop through list1 and check for common elements\n",
    "for item in list1:\n",
    "    if item in list2:\n",
    "        common_flag = True\n",
    "        break  # Exit the loop early if a common element is found\n",
    "\n",
    "if common_flag:\n",
    "    print(\"The two lists have at least one element in common.\")\n",
    "else:\n",
    "    print(\"The two lists have no elements in common.\")\n"
   ]
  },
  {
   "cell_type": "code",
   "execution_count": 112,
   "id": "48325e60-fcbd-458d-ab64-36a060794b0d",
   "metadata": {},
   "outputs": [],
   "source": [
    "#41. Remove all elements from a list."
   ]
  },
  {
   "cell_type": "code",
   "execution_count": 113,
   "id": "895a4225-4e17-4799-b189-2eb5525f0a6a",
   "metadata": {},
   "outputs": [],
   "source": [
    "l = ['rizwan', 343.34, False, 232, 'pwakills']"
   ]
  },
  {
   "cell_type": "code",
   "execution_count": 114,
   "id": "da96cfaf-19c8-48c2-83aa-a70de6c646d0",
   "metadata": {},
   "outputs": [
    {
     "data": {
      "text/plain": [
       "['rizwan', 343.34, False, 232, 'pwakills']"
      ]
     },
     "execution_count": 114,
     "metadata": {},
     "output_type": "execute_result"
    }
   ],
   "source": [
    "l"
   ]
  },
  {
   "cell_type": "code",
   "execution_count": 119,
   "id": "c293f709-6963-4b11-8d53-9a88ef0a6e35",
   "metadata": {},
   "outputs": [],
   "source": [
    "l.clear()"
   ]
  },
  {
   "cell_type": "code",
   "execution_count": 120,
   "id": "059a3f34-a9b7-4d08-825d-47942c4dcbd2",
   "metadata": {},
   "outputs": [
    {
     "data": {
      "text/plain": [
       "[]"
      ]
     },
     "execution_count": 120,
     "metadata": {},
     "output_type": "execute_result"
    }
   ],
   "source": [
    "l"
   ]
  },
  {
   "cell_type": "code",
   "execution_count": 121,
   "id": "ccace02e-dd85-4bee-95f4-11f6c0a6dc9d",
   "metadata": {},
   "outputs": [],
   "source": [
    "#43. Convert a string into a list of words."
   ]
  },
  {
   "cell_type": "code",
   "execution_count": 123,
   "id": "a6d3da24-ad39-4840-8988-1c9f61d63e90",
   "metadata": {},
   "outputs": [],
   "source": [
    "String = 'My Name is Rizwan'"
   ]
  },
  {
   "cell_type": "code",
   "execution_count": 124,
   "id": "f8271629-9290-47ef-b9f7-e6a5e313f89f",
   "metadata": {},
   "outputs": [
    {
     "data": {
      "text/plain": [
       "'My Name is Rizwan'"
      ]
     },
     "execution_count": 124,
     "metadata": {},
     "output_type": "execute_result"
    }
   ],
   "source": [
    "String"
   ]
  },
  {
   "cell_type": "code",
   "execution_count": 125,
   "id": "cd1b9429-4ae5-4619-a5e5-0d529977287b",
   "metadata": {},
   "outputs": [
    {
     "data": {
      "text/plain": [
       "str"
      ]
     },
     "execution_count": 125,
     "metadata": {},
     "output_type": "execute_result"
    }
   ],
   "source": [
    "type(String)"
   ]
  },
  {
   "cell_type": "code",
   "execution_count": 127,
   "id": "73e2835a-dc17-4888-b9be-a0c6feda5b5d",
   "metadata": {},
   "outputs": [],
   "source": [
    "# Convert the string into a list of words\n",
    "l1 = String.split()"
   ]
  },
  {
   "cell_type": "code",
   "execution_count": 129,
   "id": "d8c1533b-7540-4da1-9a7d-e45d15a6c2cb",
   "metadata": {},
   "outputs": [
    {
     "data": {
      "text/plain": [
       "['My', 'Name', 'is', 'Rizwan']"
      ]
     },
     "execution_count": 129,
     "metadata": {},
     "output_type": "execute_result"
    }
   ],
   "source": [
    "l1"
   ]
  },
  {
   "cell_type": "code",
   "execution_count": 133,
   "id": "1e30b761-b22d-488b-aef0-e3562cb572a4",
   "metadata": {},
   "outputs": [],
   "source": [
    "String1 = \"RIZWAN\""
   ]
  },
  {
   "cell_type": "code",
   "execution_count": 134,
   "id": "a8c078a1-7b2f-4140-92f4-2f6cf567fe83",
   "metadata": {},
   "outputs": [
    {
     "data": {
      "text/plain": [
       "str"
      ]
     },
     "execution_count": 134,
     "metadata": {},
     "output_type": "execute_result"
    }
   ],
   "source": [
    "type(String1)"
   ]
  },
  {
   "cell_type": "code",
   "execution_count": 135,
   "id": "26b306ba-4161-4314-a627-fa6202399de5",
   "metadata": {},
   "outputs": [
    {
     "data": {
      "text/plain": [
       "['R', 'I', 'Z', 'W', 'A', 'N']"
      ]
     },
     "execution_count": 135,
     "metadata": {},
     "output_type": "execute_result"
    }
   ],
   "source": [
    "list(String1)"
   ]
  },
  {
   "cell_type": "code",
   "execution_count": 136,
   "id": "6e38e270-d578-45ea-9813-822eb8bd8776",
   "metadata": {},
   "outputs": [],
   "source": [
    "#44. Convert a list of words into a string."
   ]
  },
  {
   "cell_type": "code",
   "execution_count": 84,
   "id": "59326562-8b61-4408-945c-ca15b2e3e663",
   "metadata": {},
   "outputs": [
    {
     "name": "stdout",
     "output_type": "stream",
     "text": [
      "Hello world in Python\n"
     ]
    }
   ],
   "source": [
    "# Create a list of words\n",
    "word_list = [\"Hello\", \"world\", \"in\", \"Python\"]\n",
    "\n",
    "# Use the join() method to convert the list into a string\n",
    "result_string = ' '.join(word_list)\n",
    "\n",
    "# Print the resulting string\n",
    "print(result_string)\n"
   ]
  },
  {
   "cell_type": "code",
   "execution_count": 137,
   "id": "b19cc5e1-4296-4b41-8692-9b470e0cfe98",
   "metadata": {},
   "outputs": [],
   "source": [
    "#45. Create a list of the first `n` powers of 2."
   ]
  },
  {
   "cell_type": "code",
   "execution_count": 85,
   "id": "04dfb47c-576d-41ae-b302-e1c90fd8cf4b",
   "metadata": {},
   "outputs": [
    {
     "name": "stdout",
     "output_type": "stream",
     "text": [
      "[1, 2, 4, 8, 16]\n"
     ]
    }
   ],
   "source": [
    "# Define the value of 'n'\n",
    "n = 5  # Change this to the desired number of powers of 2\n",
    "\n",
    "# Create a list of the first 'n' powers of 2 using a list comprehension\n",
    "powers_of_2 = [2 ** i for i in range(n)]\n",
    "\n",
    "# Print the list of powers of 2\n",
    "print(powers_of_2)\n"
   ]
  },
  {
   "cell_type": "code",
   "execution_count": 138,
   "id": "58c55fe1-0811-4239-b6be-13da2a05fe29",
   "metadata": {},
   "outputs": [],
   "source": [
    "#46. Find the longest string in a list of strings."
   ]
  },
  {
   "cell_type": "code",
   "execution_count": 86,
   "id": "86cb4f04-b4b2-4352-aea1-bd691ad02e7c",
   "metadata": {},
   "outputs": [
    {
     "name": "stdout",
     "output_type": "stream",
     "text": [
      "The longest string is: elderberry\n"
     ]
    }
   ],
   "source": [
    "# Create a list of strings\n",
    "string_list = [\"apple\", \"banana\", \"cherry\", \"date\", \"elderberry\"]\n",
    "\n",
    "# Find the longest string using the max() function\n",
    "longest_string = max(string_list, key=len)\n",
    "\n",
    "# Print the longest string\n",
    "print(\"The longest string is:\", longest_string)\n"
   ]
  },
  {
   "cell_type": "code",
   "execution_count": 139,
   "id": "aca4c770-c3c3-47d5-9e6f-3990d129bf7d",
   "metadata": {},
   "outputs": [],
   "source": [
    "#47. Find the shortest string in a list of strings."
   ]
  },
  {
   "cell_type": "code",
   "execution_count": 87,
   "id": "2b551e1e-0ecf-4695-907a-adae31b17734",
   "metadata": {},
   "outputs": [
    {
     "name": "stdout",
     "output_type": "stream",
     "text": [
      "The shortest string is: date\n"
     ]
    }
   ],
   "source": [
    "# Create a list of strings\n",
    "string_list = [\"apple\", \"banana\", \"cherry\", \"date\", \"elderberry\"]\n",
    "\n",
    "# Find the shortest string using the min() function\n",
    "shortest_string = min(string_list, key=len)\n",
    "\n",
    "# Print the shortest string\n",
    "print(\"The shortest string is:\", shortest_string)\n"
   ]
  },
  {
   "cell_type": "code",
   "execution_count": 140,
   "id": "d4028e02-2572-46ce-8ea3-cd8247bf40c1",
   "metadata": {},
   "outputs": [],
   "source": [
    "#48. Create a list of the first `n` triangular numbers."
   ]
  },
  {
   "cell_type": "code",
   "execution_count": 88,
   "id": "6f4b53ee-1b30-4080-920b-19669fa0c73c",
   "metadata": {},
   "outputs": [
    {
     "name": "stdout",
     "output_type": "stream",
     "text": [
      "[1, 3, 6, 10, 15]\n"
     ]
    }
   ],
   "source": [
    "# Define the value of 'n'\n",
    "n = 5  # Change this to the desired number of triangular numbers\n",
    "\n",
    "# Create a list of the first 'n' triangular numbers\n",
    "triangular_numbers = []\n",
    "\n",
    "# Calculate and append the triangular numbers to the list\n",
    "for i in range(1, n + 1):\n",
    "    triangular_number = i * (i + 1) // 2\n",
    "    triangular_numbers.append(triangular_number)\n",
    "\n",
    "# Print the list of triangular numbers\n",
    "print(triangular_numbers)\n"
   ]
  },
  {
   "cell_type": "code",
   "execution_count": 141,
   "id": "a9d24fad-3cb3-41f8-969b-4efda9b1da9d",
   "metadata": {},
   "outputs": [],
   "source": [
    "#49. Check if a list contains another list as a subsequence."
   ]
  },
  {
   "cell_type": "code",
   "execution_count": 89,
   "id": "e75ed052-2f61-49f6-a502-95c30e37e3ca",
   "metadata": {},
   "outputs": [
    {
     "name": "stdout",
     "output_type": "stream",
     "text": [
      "The main list contains the subsequence.\n"
     ]
    }
   ],
   "source": [
    "# Define the main list\n",
    "main_list = [1, 2, 3, 4, 5, 6, 7, 8, 9]\n",
    "\n",
    "# Define the subsequence list to check for\n",
    "subsequence = [3, 5, 7]\n",
    "\n",
    "# Initialize variables for tracking positions in both lists\n",
    "main_index = 0\n",
    "subsequence_index = 0\n",
    "\n",
    "# Iterate through the main list to find the subsequence\n",
    "while main_index < len(main_list) and subsequence_index < len(subsequence):\n",
    "    if main_list[main_index] == subsequence[subsequence_index]:\n",
    "        subsequence_index += 1\n",
    "    main_index += 1\n",
    "\n",
    "# Check if the subsequence was found\n",
    "if subsequence_index == len(subsequence):\n",
    "    print(\"The main list contains the subsequence.\")\n",
    "else:\n",
    "    print(\"The main list does not contain the subsequence.\")\n"
   ]
  },
  {
   "cell_type": "code",
   "execution_count": 142,
   "id": "a2454575-906a-4843-b8e9-42b9cbd545e0",
   "metadata": {},
   "outputs": [],
   "source": [
    "#50. Swap two elements in a list by their indices."
   ]
  },
  {
   "cell_type": "code",
   "execution_count": 90,
   "id": "cc599f54-bf81-48ac-8ef5-2ce999a9ca96",
   "metadata": {},
   "outputs": [
    {
     "name": "stdout",
     "output_type": "stream",
     "text": [
      "List after swapping: [1, 4, 3, 2, 5]\n"
     ]
    }
   ],
   "source": [
    "# Define a list\n",
    "my_list = [1, 2, 3, 4, 5]\n",
    "\n",
    "# Define the indices of the elements to swap\n",
    "index1 = 1  # Index of the first element to swap\n",
    "index2 = 3  # Index of the second element to swap\n",
    "\n",
    "# Check if the indices are valid\n",
    "if 0 <= index1 < len(my_list) and 0 <= index2 < len(my_list):\n",
    "    # Swap the elements at the specified indices\n",
    "    temp = my_list[index1]\n",
    "    my_list[index1] = my_list[index2]\n",
    "    my_list[index2] = temp\n",
    "\n",
    "    # Print the list after swapping\n",
    "    print(\"List after swapping:\", my_list)\n",
    "else:\n",
    "    print(\"Invalid indices. Indices must be within the range of the list.\")\n",
    "\n",
    "    "
   ]
  },
  {
   "cell_type": "raw",
   "id": "0c9d049f-70a3-4f5a-a258-ee1b49d385ac",
   "metadata": {},
   "source": [
    "Tuple Based Practice Problem :"
   ]
  },
  {
   "cell_type": "code",
   "execution_count": 143,
   "id": "359e4a37-8ca9-4d19-b1b4-3387d899c4e2",
   "metadata": {},
   "outputs": [],
   "source": [
    "#1. Create a tuple with integers from 1 to 5."
   ]
  },
  {
   "cell_type": "code",
   "execution_count": 144,
   "id": "59efdc04-bcad-40ac-86b0-f56b55ffbef2",
   "metadata": {},
   "outputs": [],
   "source": [
    "t = (1,2,3,4,5)"
   ]
  },
  {
   "cell_type": "code",
   "execution_count": 146,
   "id": "72114668-03e4-4967-8708-6bda63905557",
   "metadata": {},
   "outputs": [
    {
     "data": {
      "text/plain": [
       "(1, 2, 3, 4, 5)"
      ]
     },
     "execution_count": 146,
     "metadata": {},
     "output_type": "execute_result"
    }
   ],
   "source": [
    "t"
   ]
  },
  {
   "cell_type": "code",
   "execution_count": 147,
   "id": "31e242c6-a8e2-4ab7-b1a6-5d58a2b5d604",
   "metadata": {},
   "outputs": [
    {
     "data": {
      "text/plain": [
       "tuple"
      ]
     },
     "execution_count": 147,
     "metadata": {},
     "output_type": "execute_result"
    }
   ],
   "source": [
    "type(t)"
   ]
  },
  {
   "cell_type": "code",
   "execution_count": 148,
   "id": "68448096-b941-41a3-93e7-c0d354cd0121",
   "metadata": {},
   "outputs": [],
   "source": [
    "#2. Access the third element of a tuple."
   ]
  },
  {
   "cell_type": "code",
   "execution_count": 149,
   "id": "8423e654-ee85-45fd-8cc1-f9a5992e3c94",
   "metadata": {},
   "outputs": [],
   "source": [
    "t1 = (14, 34, 31, 56, 78)\n"
   ]
  },
  {
   "cell_type": "code",
   "execution_count": 150,
   "id": "dfea3f6b-7108-4d29-bcaf-8c2a124fe081",
   "metadata": {},
   "outputs": [
    {
     "data": {
      "text/plain": [
       "31"
      ]
     },
     "execution_count": 150,
     "metadata": {},
     "output_type": "execute_result"
    }
   ],
   "source": [
    "t1[2]"
   ]
  },
  {
   "cell_type": "code",
   "execution_count": 151,
   "id": "deb1ba69-a1c6-4bda-8468-38854e644a78",
   "metadata": {},
   "outputs": [],
   "source": [
    "#3. Find the length of a tuple without using the `len()` function."
   ]
  },
  {
   "cell_type": "code",
   "execution_count": 91,
   "id": "a0e3c7ba-bb4e-4e00-8472-db57beccfb08",
   "metadata": {},
   "outputs": [
    {
     "name": "stdout",
     "output_type": "stream",
     "text": [
      "The length of the tuple is: 5\n"
     ]
    }
   ],
   "source": [
    "# Define a tuple\n",
    "my_tuple = (1, 2, 3, 4, 5)\n",
    "\n",
    "# Initialize a variable to count the elements\n",
    "count = 0\n",
    "\n",
    "# Iterate through the tuple and count the elements\n",
    "for _ in my_tuple:\n",
    "    count += 1\n",
    "\n",
    "# Print the length of the tuple\n",
    "print(\"The length of the tuple is:\", count)\n"
   ]
  },
  {
   "cell_type": "code",
   "execution_count": 152,
   "id": "1b3f7531-f4ca-4265-967a-cfe308a327d3",
   "metadata": {},
   "outputs": [],
   "source": [
    "#4. Count the occurrences of an element in a tuple."
   ]
  },
  {
   "cell_type": "code",
   "execution_count": 92,
   "id": "e8d5eb30-da54-4c36-9c37-5deaa754f2dc",
   "metadata": {},
   "outputs": [
    {
     "name": "stdout",
     "output_type": "stream",
     "text": [
      "The element 2 appears 3 times in the tuple.\n"
     ]
    }
   ],
   "source": [
    "# Define a tuple\n",
    "my_tuple = (1, 2, 2, 3, 4, 2, 5)\n",
    "\n",
    "# Define the element to count\n",
    "element_to_count = 2\n",
    "\n",
    "# Initialize a variable to count occurrences\n",
    "count = 0\n",
    "\n",
    "# Iterate through the tuple and count occurrences of the element\n",
    "for item in my_tuple:\n",
    "    if item == element_to_count:\n",
    "        count += 1\n",
    "\n",
    "# Print the count of occurrences\n",
    "print(f\"The element {element_to_count} appears {count} times in the tuple.\")\n"
   ]
  },
  {
   "cell_type": "code",
   "execution_count": 153,
   "id": "f3783c70-5dc8-4249-a644-c200590caaa6",
   "metadata": {},
   "outputs": [],
   "source": [
    "#5. Find the index of the first occurrence of an element in a tuple."
   ]
  },
  {
   "cell_type": "code",
   "execution_count": 93,
   "id": "5d1bea25-8bd8-444a-a968-26c6919bcb35",
   "metadata": {},
   "outputs": [
    {
     "name": "stdout",
     "output_type": "stream",
     "text": [
      "The first occurrence of 2 is at index 1.\n"
     ]
    }
   ],
   "source": [
    "# Define a tuple\n",
    "my_tuple = (1, 2, 3, 4, 5, 2, 6)\n",
    "\n",
    "# Define the element to find\n",
    "element_to_find = 2\n",
    "\n",
    "# Initialize a variable to store the index\n",
    "index = None\n",
    "\n",
    "# Iterate through the tuple to find the index of the first occurrence\n",
    "for i, item in enumerate(my_tuple):\n",
    "    if item == element_to_find:\n",
    "        index = i\n",
    "        break  # Stop searching once the first occurrence is found\n",
    "\n",
    "# Check if the element was found and print the index\n",
    "if index is not None:\n",
    "    print(f\"The first occurrence of {element_to_find} is at index {index}.\")\n",
    "else:\n",
    "    print(f\"{element_to_find} was not found in the tuple.\")\n"
   ]
  },
  {
   "cell_type": "code",
   "execution_count": 154,
   "id": "b7859e80-77e9-4cc9-b18b-f23b065401c4",
   "metadata": {},
   "outputs": [],
   "source": [
    "#6. Check if an element exists in a tuple."
   ]
  },
  {
   "cell_type": "code",
   "execution_count": 94,
   "id": "0160e666-a168-4235-8328-a0e7a29cb3a6",
   "metadata": {},
   "outputs": [
    {
     "name": "stdout",
     "output_type": "stream",
     "text": [
      "3 exists in the tuple.\n"
     ]
    }
   ],
   "source": [
    "# Define a tuple\n",
    "my_tuple = (1, 2, 3, 4, 5)\n",
    "\n",
    "# Define the element to check for\n",
    "element_to_check = 3\n",
    "\n",
    "# Check if the element exists in the tuple\n",
    "if element_to_check in my_tuple:\n",
    "    print(f\"{element_to_check} exists in the tuple.\")\n",
    "else:\n",
    "    print(f\"{element_to_check} does not exist in the tuple.\")\n"
   ]
  },
  {
   "cell_type": "code",
   "execution_count": 155,
   "id": "13ea99ad-e09e-4295-be6f-8b0cfc9e92c0",
   "metadata": {},
   "outputs": [],
   "source": [
    "#7. Convert a tuple to a list."
   ]
  },
  {
   "cell_type": "code",
   "execution_count": 156,
   "id": "e31ee0a3-4347-4958-8907-4bc726c013a9",
   "metadata": {},
   "outputs": [],
   "source": [
    "t3 = (1,2,3,4,5,6,7)\n"
   ]
  },
  {
   "cell_type": "code",
   "execution_count": 157,
   "id": "81aa5a37-cdd9-483f-9065-9f19883578e6",
   "metadata": {},
   "outputs": [
    {
     "data": {
      "text/plain": [
       "tuple"
      ]
     },
     "execution_count": 157,
     "metadata": {},
     "output_type": "execute_result"
    }
   ],
   "source": [
    "type(t3)"
   ]
  },
  {
   "cell_type": "code",
   "execution_count": 158,
   "id": "0f4524a0-9a2c-4b98-ba7f-c7120458be34",
   "metadata": {},
   "outputs": [],
   "source": [
    "l3 = list(t3)"
   ]
  },
  {
   "cell_type": "code",
   "execution_count": 159,
   "id": "79460ca7-4dcc-46df-a0d2-11cfee07cb94",
   "metadata": {},
   "outputs": [
    {
     "data": {
      "text/plain": [
       "[1, 2, 3, 4, 5, 6, 7]"
      ]
     },
     "execution_count": 159,
     "metadata": {},
     "output_type": "execute_result"
    }
   ],
   "source": [
    "l3"
   ]
  },
  {
   "cell_type": "code",
   "execution_count": 160,
   "id": "194396cf-9c83-4c7c-8d2a-f02e24e5cd1e",
   "metadata": {},
   "outputs": [
    {
     "data": {
      "text/plain": [
       "list"
      ]
     },
     "execution_count": 160,
     "metadata": {},
     "output_type": "execute_result"
    }
   ],
   "source": [
    "type(l3)"
   ]
  },
  {
   "cell_type": "code",
   "execution_count": 162,
   "id": "21852f62-0b82-4c7f-8026-508b4398b7bd",
   "metadata": {},
   "outputs": [],
   "source": [
    "t3 = list(t3)"
   ]
  },
  {
   "cell_type": "code",
   "execution_count": 163,
   "id": "2a7ae9e7-b1f1-405a-81c0-6ad485c1e306",
   "metadata": {},
   "outputs": [
    {
     "data": {
      "text/plain": [
       "[1, 2, 3, 4, 5, 6, 7]"
      ]
     },
     "execution_count": 163,
     "metadata": {},
     "output_type": "execute_result"
    }
   ],
   "source": [
    "t3"
   ]
  },
  {
   "cell_type": "code",
   "execution_count": 164,
   "id": "d5f9c55d-ceb6-4524-b513-12a44bd85427",
   "metadata": {},
   "outputs": [
    {
     "data": {
      "text/plain": [
       "list"
      ]
     },
     "execution_count": 164,
     "metadata": {},
     "output_type": "execute_result"
    }
   ],
   "source": [
    "type(t3)"
   ]
  },
  {
   "cell_type": "code",
   "execution_count": 165,
   "id": "43f89d1a-a588-4d90-a3b1-cb0e24827d24",
   "metadata": {},
   "outputs": [],
   "source": [
    "#8. Convert a list to a tuple."
   ]
  },
  {
   "cell_type": "code",
   "execution_count": 166,
   "id": "d364747d-a4d1-4dbf-a0f7-99195f5cabf9",
   "metadata": {},
   "outputs": [
    {
     "data": {
      "text/plain": [
       "[1, 2, 3, 4, 5, 6, 7]"
      ]
     },
     "execution_count": 166,
     "metadata": {},
     "output_type": "execute_result"
    }
   ],
   "source": [
    "t3"
   ]
  },
  {
   "cell_type": "code",
   "execution_count": 167,
   "id": "232f57ea-ceb1-40d9-b206-5cbe6f5716b5",
   "metadata": {},
   "outputs": [
    {
     "data": {
      "text/plain": [
       "list"
      ]
     },
     "execution_count": 167,
     "metadata": {},
     "output_type": "execute_result"
    }
   ],
   "source": [
    "type(t3)"
   ]
  },
  {
   "cell_type": "code",
   "execution_count": 168,
   "id": "3e41803b-a26d-4aa4-b5e4-40a6eb4d009c",
   "metadata": {},
   "outputs": [],
   "source": [
    "t4 = tuple(t3)"
   ]
  },
  {
   "cell_type": "code",
   "execution_count": 169,
   "id": "fbe69bc2-817f-4676-8756-8f1f6d3e8b3f",
   "metadata": {},
   "outputs": [
    {
     "data": {
      "text/plain": [
       "(1, 2, 3, 4, 5, 6, 7)"
      ]
     },
     "execution_count": 169,
     "metadata": {},
     "output_type": "execute_result"
    }
   ],
   "source": [
    "t4"
   ]
  },
  {
   "cell_type": "code",
   "execution_count": 170,
   "id": "2c05937a-8d2f-46f2-9525-10965216510b",
   "metadata": {},
   "outputs": [
    {
     "data": {
      "text/plain": [
       "tuple"
      ]
     },
     "execution_count": 170,
     "metadata": {},
     "output_type": "execute_result"
    }
   ],
   "source": [
    "type(t4)"
   ]
  },
  {
   "cell_type": "code",
   "execution_count": 171,
   "id": "60ddf1f3-912e-402a-a88d-400c9164fbb7",
   "metadata": {},
   "outputs": [
    {
     "data": {
      "text/plain": [
       "[1, 2, 3, 4, 5, 6, 7]"
      ]
     },
     "execution_count": 171,
     "metadata": {},
     "output_type": "execute_result"
    }
   ],
   "source": [
    "t3"
   ]
  },
  {
   "cell_type": "code",
   "execution_count": 172,
   "id": "3a815830-76c8-44b4-aef2-4a0e443c9c08",
   "metadata": {},
   "outputs": [],
   "source": [
    "t3 = tuple(t3)"
   ]
  },
  {
   "cell_type": "code",
   "execution_count": 173,
   "id": "057f9c27-1d19-45d1-a646-989f368377ec",
   "metadata": {},
   "outputs": [
    {
     "data": {
      "text/plain": [
       "(1, 2, 3, 4, 5, 6, 7)"
      ]
     },
     "execution_count": 173,
     "metadata": {},
     "output_type": "execute_result"
    }
   ],
   "source": [
    "t3"
   ]
  },
  {
   "cell_type": "code",
   "execution_count": 174,
   "id": "a3cc91db-2811-49e8-88cb-c757db01fb43",
   "metadata": {},
   "outputs": [
    {
     "data": {
      "text/plain": [
       "tuple"
      ]
     },
     "execution_count": 174,
     "metadata": {},
     "output_type": "execute_result"
    }
   ],
   "source": [
    "type(t3)"
   ]
  },
  {
   "cell_type": "code",
   "execution_count": 175,
   "id": "14a0f844-2bb1-4230-a08b-d960e207a5e1",
   "metadata": {},
   "outputs": [],
   "source": [
    "#9. Unpack the elements of a tuple into variables."
   ]
  },
  {
   "cell_type": "code",
   "execution_count": 37,
   "id": "f12dcedc-7e43-450b-854e-0e6d0bff189a",
   "metadata": {},
   "outputs": [
    {
     "name": "stdout",
     "output_type": "stream",
     "text": [
      "var1: 10\n",
      "var2: 20\n",
      "var3: 30\n"
     ]
    }
   ],
   "source": [
    "# Step 1: Create a tuple\n",
    "my_tuple = (10, 20, 30)\n",
    "\n",
    "# Step 2: Unpack the elements of the tuple into variables\n",
    "var1, var2, var3 = my_tuple\n",
    "\n",
    "# Step 3: Print the variables\n",
    "print(\"var1:\", var1)\n",
    "print(\"var2:\", var2)\n",
    "print(\"var3:\", var3)"
   ]
  },
  {
   "cell_type": "code",
   "execution_count": 176,
   "id": "11da3502-3bd0-46fa-b6ff-bab9e901d9da",
   "metadata": {},
   "outputs": [],
   "source": [
    "#10. Create a tuple of even numbers from 1 to 10."
   ]
  },
  {
   "cell_type": "code",
   "execution_count": 38,
   "id": "14ceee26-1cbf-4bc4-a7ff-639a110e24c2",
   "metadata": {},
   "outputs": [
    {
     "name": "stdout",
     "output_type": "stream",
     "text": [
      "Tuple of even numbers: (2, 4, 6, 8, 10)\n"
     ]
    }
   ],
   "source": [
    "# Step 1: Create a list of even numbers using a list comprehension\n",
    "even_numbers_list = [num for num in range(2, 11, 2)]  # Start from 2, step by 2, end at 10\n",
    "\n",
    "# Step 2: Convert the list to a tuple\n",
    "even_numbers_tuple = tuple(even_numbers_list)\n",
    "\n",
    "# Step 3: Print the resulting tuple\n",
    "print(\"Tuple of even numbers:\", even_numbers_tuple)"
   ]
  },
  {
   "cell_type": "code",
   "execution_count": 177,
   "id": "3b156d19-17e7-4ba1-a53d-e6e46b2240bc",
   "metadata": {},
   "outputs": [],
   "source": [
    "#11. Create a tuple of odd numbers from 1 to 10."
   ]
  },
  {
   "cell_type": "code",
   "execution_count": 39,
   "id": "b4469d42-f060-4866-b80d-9d5c55db7da3",
   "metadata": {},
   "outputs": [
    {
     "name": "stdout",
     "output_type": "stream",
     "text": [
      "Tuple of even numbers: (2, 4, 6, 8, 10)\n"
     ]
    }
   ],
   "source": [
    "# Step 1: Create a list of even numbers using a list comprehension\n",
    "even_numbers_list = [num for num in range(2, 11, 2)]  # Start from 2, step by 2, end at 10\n",
    "\n",
    "# Step 2: Convert the list to a tuple\n",
    "even_numbers_tuple = tuple(even_numbers_list)\n",
    "\n",
    "# Step 3: Print the resulting tuple\n",
    "print(\"Tuple of even numbers:\", even_numbers_tuple)"
   ]
  },
  {
   "cell_type": "code",
   "execution_count": 178,
   "id": "36a9deef-41ac-4497-a793-adb94a5b1721",
   "metadata": {},
   "outputs": [],
   "source": [
    "#12. Concatenate two tuples."
   ]
  },
  {
   "cell_type": "code",
   "execution_count": 40,
   "id": "0964f533-5004-4aaa-b597-aaf854e025ad",
   "metadata": {},
   "outputs": [
    {
     "name": "stdout",
     "output_type": "stream",
     "text": [
      "Concatenated tuple: (1, 2, 3, 4, 5, 6)\n"
     ]
    }
   ],
   "source": [
    "# Step 1: Create two tuples\n",
    "tuple1 = (1, 2, 3)\n",
    "tuple2 = (4, 5, 6)\n",
    "\n",
    "# Step 2: Concatenate the two tuples\n",
    "concatenated_tuple = tuple1 + tuple2\n",
    "\n",
    "# Step 3: Print the concatenated tuple\n",
    "print(\"Concatenated tuple:\", concatenated_tuple)"
   ]
  },
  {
   "cell_type": "code",
   "execution_count": 179,
   "id": "e6cc4e1d-181c-4316-88b7-4d4ffcc2816a",
   "metadata": {},
   "outputs": [],
   "source": [
    "#13. Repeat a tuple three times."
   ]
  },
  {
   "cell_type": "code",
   "execution_count": 41,
   "id": "98e35ca4-153b-4915-8c4e-5236ee7b5abd",
   "metadata": {},
   "outputs": [
    {
     "name": "stdout",
     "output_type": "stream",
     "text": [
      "Repeated tuple: (1, 2, 3, 1, 2, 3, 1, 2, 3)\n"
     ]
    }
   ],
   "source": [
    "# Step 1: Create a tuple\n",
    "original_tuple = (1, 2, 3)\n",
    "\n",
    "# Step 2: Repeat the tuple three times\n",
    "repeated_tuple = original_tuple * 3\n",
    "\n",
    "# Step 3: Print the repeated tuple\n",
    "print(\"Repeated tuple:\", repeated_tuple)"
   ]
  },
  {
   "cell_type": "code",
   "execution_count": 180,
   "id": "f259d57f-6fe1-43bd-836c-e1b823fab154",
   "metadata": {},
   "outputs": [],
   "source": [
    "#14. Check if a tuple is empty."
   ]
  },
  {
   "cell_type": "code",
   "execution_count": 42,
   "id": "ff6c1fcd-03d2-47fb-ba42-13cf9a59e252",
   "metadata": {},
   "outputs": [
    {
     "name": "stdout",
     "output_type": "stream",
     "text": [
      "The empty_tuple is empty.\n",
      "The non_empty_tuple is not empty.\n"
     ]
    }
   ],
   "source": [
    "# Step 1: Create an empty tuple and a non-empty tuple\n",
    "empty_tuple = ()\n",
    "non_empty_tuple = (1, 2, 3)\n",
    "\n",
    "# Step 2: Check if the tuples are empty\n",
    "if not empty_tuple:\n",
    "    print(\"The empty_tuple is empty.\")\n",
    "else:\n",
    "    print(\"The empty_tuple is not empty.\")\n",
    "\n",
    "if not non_empty_tuple:\n",
    "    print(\"The non_empty_tuple is empty.\")\n",
    "else:\n",
    "    print(\"The non_empty_tuple is not empty.\")"
   ]
  },
  {
   "cell_type": "code",
   "execution_count": 181,
   "id": "d6ee9aab-3c9f-4759-999c-13faba8dfe65",
   "metadata": {},
   "outputs": [],
   "source": [
    "#15. Create a nested tuple."
   ]
  },
  {
   "cell_type": "code",
   "execution_count": 43,
   "id": "ec3912c4-d032-4b31-a716-354296e6c80b",
   "metadata": {},
   "outputs": [
    {
     "name": "stdout",
     "output_type": "stream",
     "text": [
      "Nested tuple: ((1, 2, 3), ('a', 'b', 'c'), (True, False))\n"
     ]
    }
   ],
   "source": [
    "# Step 1: Create a nested tuple\n",
    "nested_tuple = ((1, 2, 3), ('a', 'b', 'c'), (True, False))\n",
    "\n",
    "# Step 2: Print the nested tuple\n",
    "print(\"Nested tuple:\", nested_tuple)"
   ]
  },
  {
   "cell_type": "code",
   "execution_count": 182,
   "id": "cbcd83b9-9a3f-4526-9273-5081bf98c8c8",
   "metadata": {},
   "outputs": [],
   "source": [
    "#16. Access the first element of a nested tuple."
   ]
  },
  {
   "cell_type": "code",
   "execution_count": 44,
   "id": "5eabef39-d5e8-4967-abd6-7e090fed0ebc",
   "metadata": {},
   "outputs": [
    {
     "name": "stdout",
     "output_type": "stream",
     "text": [
      "First element of the nested tuple: (1, 2, 3)\n"
     ]
    }
   ],
   "source": [
    "# Step 1: Create a nested tuple\n",
    "nested_tuple = ((1, 2, 3), ('a', 'b', 'c'), (True, False))\n",
    "\n",
    "# Step 2: Access the first element of the nested tuple\n",
    "first_element = nested_tuple[0]\n",
    "\n",
    "# Step 3: Print the first element\n",
    "print(\"First element of the nested tuple:\", first_element)"
   ]
  },
  {
   "cell_type": "code",
   "execution_count": 183,
   "id": "c3dd959f-1b91-4ae7-a628-162030f5cb91",
   "metadata": {},
   "outputs": [],
   "source": [
    "#17. Create a tuple with a single element."
   ]
  },
  {
   "cell_type": "code",
   "execution_count": 45,
   "id": "43181861-f93e-4daf-843e-9e3d4ae5e8d0",
   "metadata": {},
   "outputs": [
    {
     "name": "stdout",
     "output_type": "stream",
     "text": [
      "Single element tuple: (42,)\n"
     ]
    }
   ],
   "source": [
    "# Step 1: Create a tuple with a single element\n",
    "single_element_tuple = (42,)  # Note the trailing comma\n",
    "\n",
    "# Step 2: Print the single element tuple\n",
    "print(\"Single element tuple:\", single_element_tuple)"
   ]
  },
  {
   "cell_type": "code",
   "execution_count": 184,
   "id": "94cb3314-6bec-44f6-a2fa-c802bccf329e",
   "metadata": {},
   "outputs": [],
   "source": [
    "#18. Compare two tuples."
   ]
  },
  {
   "cell_type": "code",
   "execution_count": 46,
   "id": "e41173e3-6f58-4869-a49a-c0e54813d154",
   "metadata": {},
   "outputs": [
    {
     "name": "stdout",
     "output_type": "stream",
     "text": [
      "tuple1 == tuple2: False\n",
      "tuple1 != tuple2: True\n",
      "tuple1 < tuple2: True\n",
      "tuple1 <= tuple2: True\n",
      "tuple1 > tuple2: False\n",
      "tuple1 >= tuple2: False\n"
     ]
    }
   ],
   "source": [
    "# Step 1: Create two tuples\n",
    "tuple1 = (1, 2, 3)\n",
    "tuple2 = (1, 2, 4)\n",
    "\n",
    "# Step 2: Compare the two tuples using comparison operators\n",
    "print(\"tuple1 == tuple2:\", tuple1 == tuple2)  # Equality check\n",
    "print(\"tuple1 != tuple2:\", tuple1 != tuple2)  # Inequality check\n",
    "print(\"tuple1 < tuple2:\", tuple1 < tuple2)    # Less than check\n",
    "print(\"tuple1 <= tuple2:\", tuple1 <= tuple2)  # Less than or equal to check\n",
    "print(\"tuple1 > tuple2:\", tuple1 > tuple2)    # Greater than check\n",
    "print(\"tuple1 >= tuple2:\", tuple1 >= tuple2)  # Greater than or equal to check"
   ]
  },
  {
   "cell_type": "code",
   "execution_count": 185,
   "id": "d80047e0-9464-4a18-9bc1-f90f5c170377",
   "metadata": {},
   "outputs": [],
   "source": [
    "#19. Delete a tuple."
   ]
  },
  {
   "cell_type": "code",
   "execution_count": 186,
   "id": "99101dba-1539-480a-9a4b-ff53d2f6a915",
   "metadata": {},
   "outputs": [],
   "source": [
    "t6 = (17,34,67,879,2334)\n"
   ]
  },
  {
   "cell_type": "code",
   "execution_count": 187,
   "id": "a5e3a3f5-53eb-4559-8523-668dfad549ed",
   "metadata": {},
   "outputs": [
    {
     "data": {
      "text/plain": [
       "(17, 34, 67, 879, 2334)"
      ]
     },
     "execution_count": 187,
     "metadata": {},
     "output_type": "execute_result"
    }
   ],
   "source": [
    "t6"
   ]
  },
  {
   "cell_type": "code",
   "execution_count": 188,
   "id": "79c39350-6c53-4c40-970a-fc4757c8c760",
   "metadata": {},
   "outputs": [
    {
     "data": {
      "text/plain": [
       "tuple"
      ]
     },
     "execution_count": 188,
     "metadata": {},
     "output_type": "execute_result"
    }
   ],
   "source": [
    "type(t6)"
   ]
  },
  {
   "cell_type": "code",
   "execution_count": 189,
   "id": "8f900728-7ec7-4853-8891-57c3d62827d1",
   "metadata": {},
   "outputs": [],
   "source": [
    "del t6"
   ]
  },
  {
   "cell_type": "code",
   "execution_count": 190,
   "id": "691f6701-07c6-4fe4-82e7-5cb18d237b3d",
   "metadata": {},
   "outputs": [
    {
     "ename": "NameError",
     "evalue": "name 't6' is not defined",
     "output_type": "error",
     "traceback": [
      "\u001b[0;31m---------------------------------------------------------------------------\u001b[0m",
      "\u001b[0;31mNameError\u001b[0m                                 Traceback (most recent call last)",
      "Cell \u001b[0;32mIn[190], line 1\u001b[0m\n\u001b[0;32m----> 1\u001b[0m \u001b[43mt6\u001b[49m\n",
      "\u001b[0;31mNameError\u001b[0m: name 't6' is not defined"
     ]
    }
   ],
   "source": [
    "t6"
   ]
  },
  {
   "cell_type": "code",
   "execution_count": 191,
   "id": "292d9244-163d-491f-aac8-5628166f1f69",
   "metadata": {},
   "outputs": [],
   "source": [
    "#20. Slice a tuple."
   ]
  },
  {
   "cell_type": "code",
   "execution_count": 192,
   "id": "085c4d2e-cacd-4802-a60e-65a7ea77ca41",
   "metadata": {},
   "outputs": [],
   "source": [
    "t6 = (17,34,67,879,2334)\n"
   ]
  },
  {
   "cell_type": "code",
   "execution_count": 195,
   "id": "a9a22c21-088a-45c6-ae3b-44e07129fe99",
   "metadata": {},
   "outputs": [
    {
     "data": {
      "text/plain": [
       "(17, 34, 67, 879, 2334)"
      ]
     },
     "execution_count": 195,
     "metadata": {},
     "output_type": "execute_result"
    }
   ],
   "source": [
    "t6"
   ]
  },
  {
   "cell_type": "code",
   "execution_count": 202,
   "id": "a9cac1aa-01c0-4c65-9089-2e883d4d0fc8",
   "metadata": {},
   "outputs": [
    {
     "data": {
      "text/plain": [
       "(17, 34, 67)"
      ]
     },
     "execution_count": 202,
     "metadata": {},
     "output_type": "execute_result"
    }
   ],
   "source": [
    "t6[0:3]"
   ]
  },
  {
   "cell_type": "code",
   "execution_count": 203,
   "id": "db693c29-4a64-4ec1-8dd9-6ec4b4b9097f",
   "metadata": {},
   "outputs": [],
   "source": [
    "#21. Find the maximum value in a tuple."
   ]
  },
  {
   "cell_type": "code",
   "execution_count": 47,
   "id": "da3db48c-2751-42ba-863f-d5d55a504dff",
   "metadata": {},
   "outputs": [
    {
     "name": "stdout",
     "output_type": "stream",
     "text": [
      "The maximum value in the tuple is: 89\n"
     ]
    }
   ],
   "source": [
    "# Create a tuple of values\n",
    "my_tuple = (23, 45, 12, 67, 89, 34)\n",
    "\n",
    "# Find the maximum value in the tuple\n",
    "max_value = max(my_tuple)\n",
    "\n",
    "# Print the maximum value\n",
    "print(\"The maximum value in the tuple is:\", max_value)\n"
   ]
  },
  {
   "cell_type": "code",
   "execution_count": 204,
   "id": "60123236-5e97-4ba8-b5ac-d89498146510",
   "metadata": {},
   "outputs": [],
   "source": [
    "#22. Find the minimum value in a tuple."
   ]
  },
  {
   "cell_type": "code",
   "execution_count": 48,
   "id": "eabd6157-1b87-4e08-80f5-e75d89e4a1ed",
   "metadata": {},
   "outputs": [
    {
     "name": "stdout",
     "output_type": "stream",
     "text": [
      "The minimum value in the tuple is: 12\n"
     ]
    }
   ],
   "source": [
    "# Create a tuple of values\n",
    "my_tuple = (23, 45, 12, 67, 89, 34)\n",
    "\n",
    "# Find the minimum value in the tuple\n",
    "min_value = min(my_tuple)\n",
    "\n",
    "# Print the minimum value\n",
    "print(\"The minimum value in the tuple is:\", min_value)\n"
   ]
  },
  {
   "cell_type": "code",
   "execution_count": 205,
   "id": "6cd5c36a-b3d4-434e-a52d-4f101e043d18",
   "metadata": {},
   "outputs": [],
   "source": [
    "#23. Convert a string to a tuple of characters."
   ]
  },
  {
   "cell_type": "code",
   "execution_count": 49,
   "id": "7294fd58-812e-4777-a084-d84e35456c1a",
   "metadata": {},
   "outputs": [
    {
     "name": "stdout",
     "output_type": "stream",
     "text": [
      "('H', 'e', 'l', 'l', 'o', ',', ' ', 'W', 'o', 'r', 'l', 'd', '!')\n"
     ]
    }
   ],
   "source": [
    "# Input string\n",
    "input_string = \"Hello, World!\"\n",
    "\n",
    "# Convert the string to a tuple of characters using tuple()\n",
    "char_tuple = tuple(input_string)\n",
    "\n",
    "# Print the tuple of characters\n",
    "print(char_tuple)\n"
   ]
  },
  {
   "cell_type": "code",
   "execution_count": 206,
   "id": "81f31efa-c5d2-4e10-b329-e0690c8e9f3d",
   "metadata": {},
   "outputs": [],
   "source": [
    "#24. Convert a tuple of characters to a string."
   ]
  },
  {
   "cell_type": "code",
   "execution_count": 50,
   "id": "e2178027-9022-47bc-b761-d19b71a69775",
   "metadata": {},
   "outputs": [
    {
     "name": "stdout",
     "output_type": "stream",
     "text": [
      "Hello, World!\n"
     ]
    }
   ],
   "source": [
    "# Create a tuple of characters\n",
    "char_tuple = ('H', 'e', 'l', 'l', 'o', ',', ' ', 'W', 'o', 'r', 'l', 'd', '!')\n",
    "\n",
    "# Convert the tuple to a string using the join() method\n",
    "resulting_string = ''.join(char_tuple)\n",
    "\n",
    "# Print the resulting string\n",
    "print(resulting_string)\n"
   ]
  },
  {
   "cell_type": "code",
   "execution_count": 207,
   "id": "002c67f8-6609-4b38-9a4d-3dd7ecbddb2d",
   "metadata": {},
   "outputs": [],
   "source": [
    "#25. Create a tuple from multiple data types."
   ]
  },
  {
   "cell_type": "code",
   "execution_count": 51,
   "id": "b68ea9e9-135b-44d8-9407-82f3e8b1b56f",
   "metadata": {},
   "outputs": [
    {
     "name": "stdout",
     "output_type": "stream",
     "text": [
      "(1, 'Hello', 3.14, True)\n"
     ]
    }
   ],
   "source": [
    "# Create a tuple with different data types\n",
    "mixed_tuple = (1, \"Hello\", 3.14, True)\n",
    "\n",
    "# Print the mixed tuple\n",
    "print(mixed_tuple)\n"
   ]
  },
  {
   "cell_type": "code",
   "execution_count": 208,
   "id": "c9410fd0-dad3-4603-97fa-f7a3ebce2f1b",
   "metadata": {},
   "outputs": [],
   "source": [
    "#26. Check if two tuples are identical."
   ]
  },
  {
   "cell_type": "code",
   "execution_count": 52,
   "id": "8e438e1a-6812-4a3e-ad82-ebd7996f136b",
   "metadata": {},
   "outputs": [
    {
     "name": "stdout",
     "output_type": "stream",
     "text": [
      "The two tuples are identical.\n"
     ]
    }
   ],
   "source": [
    "# Define two tuples\n",
    "tuple1 = (1, 2, 3)\n",
    "tuple2 = (1, 2, 3)\n",
    "\n",
    "# Check if the two tuples are identical\n",
    "if tuple1 == tuple2:\n",
    "    print(\"The two tuples are identical.\")\n",
    "else:\n",
    "    print(\"The two tuples are not identical.\")\n"
   ]
  },
  {
   "cell_type": "code",
   "execution_count": 209,
   "id": "d8114e94-e3b5-4cb5-a1a2-cf68bb9573e6",
   "metadata": {},
   "outputs": [],
   "source": [
    "#27. Sort the elements of a tuple."
   ]
  },
  {
   "cell_type": "code",
   "execution_count": 53,
   "id": "1ebe52b4-89e5-4da2-b0cd-45eb651d9ab0",
   "metadata": {},
   "outputs": [
    {
     "name": "stdout",
     "output_type": "stream",
     "text": [
      "(1, 2, 3, 4, 6, 9)\n"
     ]
    }
   ],
   "source": [
    "# Create a tuple\n",
    "my_tuple = (4, 1, 6, 3, 9, 2)\n",
    "\n",
    "# Sort the elements and create a new tuple\n",
    "sorted_tuple = tuple(sorted(my_tuple))\n",
    "\n",
    "# Print the sorted tuple\n",
    "print(sorted_tuple)\n",
    "\n"
   ]
  },
  {
   "cell_type": "code",
   "execution_count": 210,
   "id": "7ee0242e-b113-4786-b1c3-5bd8dd7c27e1",
   "metadata": {},
   "outputs": [],
   "source": [
    "#28. Convert a tuple of integers to a tuple of strings."
   ]
  },
  {
   "cell_type": "code",
   "execution_count": 54,
   "id": "2995efd5-70db-4b4c-be7a-41190e3f290a",
   "metadata": {},
   "outputs": [
    {
     "name": "stdout",
     "output_type": "stream",
     "text": [
      "('1', '2', '3', '4', '5')\n"
     ]
    }
   ],
   "source": [
    "# Create a tuple of integers\n",
    "tuple_of_integers = (1, 2, 3, 4, 5)\n",
    "\n",
    "# Convert the tuple of integers to a tuple of strings\n",
    "tuple_of_strings = tuple(str(item) for item in tuple_of_integers)\n",
    "\n",
    "# Print the tuple of strings\n",
    "print(tuple_of_strings)\n"
   ]
  },
  {
   "cell_type": "code",
   "execution_count": 211,
   "id": "86dcad1f-3fe4-4489-b7ac-57f3f17be0b6",
   "metadata": {},
   "outputs": [],
   "source": [
    "#29. Convert a tuple of strings to a tuple of integers."
   ]
  },
  {
   "cell_type": "code",
   "execution_count": 55,
   "id": "184c4f4a-b42e-494d-aa03-1a7000ce49fd",
   "metadata": {},
   "outputs": [
    {
     "name": "stdout",
     "output_type": "stream",
     "text": [
      "(1, 2, 3, 4, 5)\n"
     ]
    }
   ],
   "source": [
    "# Create a tuple of strings\n",
    "tuple_of_strings = (\"1\", \"2\", \"3\", \"4\", \"5\")\n",
    "\n",
    "# Convert the tuple of strings to a tuple of integers\n",
    "tuple_of_integers = tuple(int(item) for item in tuple_of_strings)\n",
    "\n",
    "# Print the tuple of integers\n",
    "print(tuple_of_integers)\n"
   ]
  },
  {
   "cell_type": "code",
   "execution_count": 212,
   "id": "e509f367-8046-44ce-a8e5-5f411a119b0f",
   "metadata": {},
   "outputs": [],
   "source": [
    "#30. Merge two tuples."
   ]
  },
  {
   "cell_type": "code",
   "execution_count": 213,
   "id": "827329e5-07e1-4c78-9721-e21aaa0f4b95",
   "metadata": {},
   "outputs": [],
   "source": [
    "t1 = (10,20,30,40,50)"
   ]
  },
  {
   "cell_type": "code",
   "execution_count": 214,
   "id": "9314bc4b-8c7f-4537-948d-db9ecf036457",
   "metadata": {},
   "outputs": [],
   "source": [
    "t2 = (60,70,80,90)"
   ]
  },
  {
   "cell_type": "code",
   "execution_count": 215,
   "id": "8db60883-8dcd-4fd2-a955-4d46b6aaa3c7",
   "metadata": {},
   "outputs": [],
   "source": [
    "t3 = t1+t2"
   ]
  },
  {
   "cell_type": "code",
   "execution_count": 216,
   "id": "50fea7e6-9232-43c1-a27e-05854d93ebc8",
   "metadata": {},
   "outputs": [
    {
     "data": {
      "text/plain": [
       "(10, 20, 30, 40, 50, 60, 70, 80, 90)"
      ]
     },
     "execution_count": 216,
     "metadata": {},
     "output_type": "execute_result"
    }
   ],
   "source": [
    "t3"
   ]
  },
  {
   "cell_type": "code",
   "execution_count": 217,
   "id": "c186fbe8-f60a-44b9-abaa-9f7b3f51df01",
   "metadata": {},
   "outputs": [
    {
     "data": {
      "text/plain": [
       "(10, 20, 30, 40, 50, 60, 70, 80, 90)"
      ]
     },
     "execution_count": 217,
     "metadata": {},
     "output_type": "execute_result"
    }
   ],
   "source": [
    "t1+t2"
   ]
  },
  {
   "cell_type": "code",
   "execution_count": 218,
   "id": "68a4d5b3-4dc6-4ead-a4e4-51544ad2216a",
   "metadata": {},
   "outputs": [],
   "source": [
    "#31. Flatten a nested tuple."
   ]
  },
  {
   "cell_type": "code",
   "execution_count": 11,
   "id": "a882c118-f6c6-48b0-aa6c-b8bb629af599",
   "metadata": {},
   "outputs": [
    {
     "name": "stdout",
     "output_type": "stream",
     "text": [
      "(1, 2, 3, 4, 5, 6, 7, 8, 9)\n"
     ]
    }
   ],
   "source": [
    "# Function to flatten a nested tuple\n",
    "def flatten_nested_tuple(nested_tuple):\n",
    "    flattened_list = []\n",
    "    \n",
    "    def recursive_flatten(nested_item):\n",
    "        for item in nested_item:\n",
    "            if isinstance(item, tuple):\n",
    "                recursive_flatten(item)\n",
    "            else:\n",
    "                flattened_list.append(item)\n",
    "    \n",
    "    recursive_flatten(nested_tuple)\n",
    "    return tuple(flattened_list)\n",
    "\n",
    "# Example nested tuple\n",
    "nested_tuple = ((1, 2, 3), (4, (5, 6)), 7, (8, 9))\n",
    "\n",
    "# Flatten the nested tuple\n",
    "flattened_tuple = flatten_nested_tuple(nested_tuple)\n",
    "\n",
    "# Print the flattened tuple\n",
    "print(flattened_tuple)\n"
   ]
  },
  {
   "cell_type": "code",
   "execution_count": 219,
   "id": "8c114fd7-876e-4ef3-8ab0-6dcabdb48da5",
   "metadata": {},
   "outputs": [],
   "source": [
    "#32. Create a tuple of the first 5 prime numbers."
   ]
  },
  {
   "cell_type": "code",
   "execution_count": 12,
   "id": "b046cf87-c321-4a18-ae8c-3aa0486d0418",
   "metadata": {},
   "outputs": [
    {
     "name": "stdout",
     "output_type": "stream",
     "text": [
      "(2, 3, 5, 7, 11)\n"
     ]
    }
   ],
   "source": [
    "# Define a tuple of the first 5 prime numbers\n",
    "first_5_primes = (2, 3, 5, 7, 11)\n",
    "\n",
    "# Print the tuple\n",
    "print(first_5_primes)\n"
   ]
  },
  {
   "cell_type": "code",
   "execution_count": 220,
   "id": "012082d7-f078-4237-8106-dded812c10ee",
   "metadata": {},
   "outputs": [],
   "source": [
    "#33. Check if a tuple is a palindrome."
   ]
  },
  {
   "cell_type": "code",
   "execution_count": 13,
   "id": "2ea718bd-9cda-47b7-87eb-e311f1bf09f6",
   "metadata": {},
   "outputs": [
    {
     "name": "stdout",
     "output_type": "stream",
     "text": [
      "The tuple is a palindrome.\n"
     ]
    }
   ],
   "source": [
    "# Function to check if a tuple is a palindrome\n",
    "def is_tuple_palindrome(input_tuple):\n",
    "    reversed_tuple = input_tuple[::-1]  # Reverse the tuple\n",
    "    return input_tuple == reversed_tuple\n",
    "\n",
    "# Example tuple\n",
    "example_tuple = (1, 2, 3, 2, 1)\n",
    "\n",
    "# Check if the tuple is a palindrome\n",
    "result = is_tuple_palindrome(example_tuple)\n",
    "\n",
    "# Print the result\n",
    "if result:\n",
    "    print(\"The tuple is a palindrome.\")\n",
    "else:\n",
    "    print(\"The tuple is not a palindrome.\")\n"
   ]
  },
  {
   "cell_type": "code",
   "execution_count": 221,
   "id": "d1f1fffe-5218-4e66-b86c-81fa2d65d96f",
   "metadata": {},
   "outputs": [],
   "source": [
    "#34. Create a tuple of squares of numbers from 1 to 5."
   ]
  },
  {
   "cell_type": "code",
   "execution_count": 14,
   "id": "ea2c95fb-bb30-4456-827e-a73d1a3b2d5d",
   "metadata": {},
   "outputs": [
    {
     "name": "stdout",
     "output_type": "stream",
     "text": [
      "(1, 4, 9, 16, 25)\n"
     ]
    }
   ],
   "source": [
    "# Using a list comprehension to calculate the squares\n",
    "squares_list = [x ** 2 for x in range(1, 6)]\n",
    "\n",
    "# Convert the list to a tuple\n",
    "squares_tuple = tuple(squares_list)\n",
    "\n",
    "# Print the tuple of squares\n",
    "print(squares_tuple)\n"
   ]
  },
  {
   "cell_type": "code",
   "execution_count": 222,
   "id": "89ae4c6d-3cc5-4045-97e3-f7ec6655d4b1",
   "metadata": {},
   "outputs": [],
   "source": [
    "#35. Filter out all even numbers from a tuple."
   ]
  },
  {
   "cell_type": "code",
   "execution_count": 15,
   "id": "beb319af-8120-4029-abc2-4dcc11441f65",
   "metadata": {},
   "outputs": [
    {
     "name": "stdout",
     "output_type": "stream",
     "text": [
      "(1, 3, 5, 7, 9)\n"
     ]
    }
   ],
   "source": [
    "# Original tuple\n",
    "original_tuple = (1, 2, 3, 4, 5, 6, 7, 8, 9)\n",
    "\n",
    "# Filter out even numbers using a generator expression\n",
    "filtered_tuple = tuple(x for x in original_tuple if x % 2 != 0)\n",
    "\n",
    "# Print the filtered tuple\n",
    "print(filtered_tuple)\n"
   ]
  },
  {
   "cell_type": "code",
   "execution_count": 223,
   "id": "66cb41b0-9665-47fd-9659-6f6cfdad2d83",
   "metadata": {},
   "outputs": [],
   "source": [
    "#36. Multiply all elements in a tuple by 2."
   ]
  },
  {
   "cell_type": "code",
   "execution_count": 16,
   "id": "e94e00d6-20c1-497a-9d0b-65a2ae8cfb75",
   "metadata": {},
   "outputs": [
    {
     "name": "stdout",
     "output_type": "stream",
     "text": [
      "(2, 4, 6, 8, 10)\n"
     ]
    }
   ],
   "source": [
    "# Original tuple\n",
    "original_tuple = (1, 2, 3, 4, 5)\n",
    "\n",
    "# Multiply all elements by 2 and create a new tuple\n",
    "modified_tuple = tuple(x * 2 for x in original_tuple)\n",
    "\n",
    "# Print the modified tuple\n",
    "print(modified_tuple)\n"
   ]
  },
  {
   "cell_type": "code",
   "execution_count": 224,
   "id": "e1f2c883-947b-4f18-ba7f-6035c8a851e7",
   "metadata": {},
   "outputs": [],
   "source": [
    "#37. Create a tuple of random numbers."
   ]
  },
  {
   "cell_type": "code",
   "execution_count": 17,
   "id": "ea1d56f7-5932-46d7-97e5-47c4e9b6244b",
   "metadata": {},
   "outputs": [
    {
     "name": "stdout",
     "output_type": "stream",
     "text": [
      "(70, 10, 64, 70, 34)\n"
     ]
    }
   ],
   "source": [
    "import random\n",
    "\n",
    "# Define the number of random numbers you want in the tuple\n",
    "num_random_numbers = 5  # Change this to your desired number of random numbers\n",
    "\n",
    "# Generate a tuple of random numbers\n",
    "random_numbers_tuple = tuple(random.randint(1, 100) for _ in range(num_random_numbers))\n",
    "\n",
    "# Print the tuple of random numbers\n",
    "print(random_numbers_tuple)\n"
   ]
  },
  {
   "cell_type": "code",
   "execution_count": 225,
   "id": "8e181479-f3da-447a-9f79-9c16a893a0be",
   "metadata": {},
   "outputs": [],
   "source": [
    "#38. Check if a tuple is sorted."
   ]
  },
  {
   "cell_type": "code",
   "execution_count": 18,
   "id": "54443951-aeb8-4d26-b891-bff07a6958e8",
   "metadata": {},
   "outputs": [
    {
     "name": "stdout",
     "output_type": "stream",
     "text": [
      "Is sorted_tuple sorted? True\n",
      "Is unsorted_tuple sorted? False\n"
     ]
    }
   ],
   "source": [
    "# Function to check if a tuple is sorted\n",
    "def is_tuple_sorted(input_tuple):\n",
    "    return all(input_tuple[i] <= input_tuple[i + 1] for i in range(len(input_tuple) - 1))\n",
    "\n",
    "# Example sorted tuple\n",
    "sorted_tuple = (1, 2, 3, 4, 5)\n",
    "\n",
    "# Example unsorted tuple\n",
    "unsorted_tuple = (5, 2, 8, 1, 3)\n",
    "\n",
    "# Check if the tuples are sorted\n",
    "is_sorted = is_tuple_sorted(sorted_tuple)\n",
    "is_unsorted = is_tuple_sorted(unsorted_tuple)\n",
    "\n",
    "# Print the results\n",
    "print(\"Is sorted_tuple sorted?\", is_sorted)\n",
    "print(\"Is unsorted_tuple sorted?\", is_unsorted)\n"
   ]
  },
  {
   "cell_type": "code",
   "execution_count": 226,
   "id": "8725293c-a9dc-4382-84ee-901cb987fac5",
   "metadata": {},
   "outputs": [],
   "source": [
    "#39. Rotate a tuple to the left by `n` positions."
   ]
  },
  {
   "cell_type": "code",
   "execution_count": 19,
   "id": "268adc4e-70cf-4fc0-941b-39ec5920935d",
   "metadata": {},
   "outputs": [
    {
     "name": "stdout",
     "output_type": "stream",
     "text": [
      "(3, 4, 5, 1, 2)\n"
     ]
    }
   ],
   "source": [
    "# Function to rotate a tuple to the left by n positions\n",
    "def rotate_tuple_left(input_tuple, n):\n",
    "    length = len(input_tuple)\n",
    "    \n",
    "    # Calculate the effective rotation amount to handle cases where n is larger than the tuple length\n",
    "    effective_rotation = n % length\n",
    "    \n",
    "    # Split the tuple into two parts based on the rotation point\n",
    "    rotated_tuple = input_tuple[effective_rotation:] + input_tuple[:effective_rotation]\n",
    "    \n",
    "    return rotated_tuple\n",
    "\n",
    "# Example tuple\n",
    "example_tuple = (1, 2, 3, 4, 5)\n",
    "\n",
    "# Rotate the tuple to the left by 2 positions\n",
    "rotated_tuple = rotate_tuple_left(example_tuple, 2)\n",
    "\n",
    "# Print the rotated tuple\n",
    "print(rotated_tuple)\n"
   ]
  },
  {
   "cell_type": "code",
   "execution_count": 227,
   "id": "e0c6bd1e-4681-4869-9629-b940b2999cde",
   "metadata": {},
   "outputs": [],
   "source": [
    "#40. Rotate a tuple to the right by `n` positions."
   ]
  },
  {
   "cell_type": "code",
   "execution_count": 20,
   "id": "938749a9-55ab-409e-ae00-c6c608ae08e3",
   "metadata": {},
   "outputs": [
    {
     "name": "stdout",
     "output_type": "stream",
     "text": [
      "(4, 5, 1, 2, 3)\n"
     ]
    }
   ],
   "source": [
    "# Function to rotate a tuple to the right by n positions\n",
    "def rotate_tuple_right(input_tuple, n):\n",
    "    length = len(input_tuple)\n",
    "    \n",
    "    # Calculate the effective rotation amount to handle cases where n is larger than the tuple length\n",
    "    effective_rotation = n % length\n",
    "    \n",
    "    # Split the tuple into two parts based on the rotation point\n",
    "    rotated_tuple = input_tuple[-effective_rotation:] + input_tuple[:-effective_rotation]\n",
    "    \n",
    "    return rotated_tuple\n",
    "\n",
    "# Example tuple\n",
    "example_tuple = (1, 2, 3, 4, 5)\n",
    "\n",
    "# Rotate the tuple to the right by 2 positions\n",
    "rotated_tuple = rotate_tuple_right(example_tuple, 2)\n",
    "\n",
    "# Print the rotated tuple\n",
    "print(rotated_tuple)\n"
   ]
  },
  {
   "cell_type": "code",
   "execution_count": 228,
   "id": "4aea7473-d9a2-4dd9-a1d4-4f0401336241",
   "metadata": {},
   "outputs": [],
   "source": [
    "#41. Create a tuple of the first 5 Fibonacci numbers."
   ]
  },
  {
   "cell_type": "code",
   "execution_count": 21,
   "id": "6ee68254-1d62-4751-89a6-5c88481c6516",
   "metadata": {},
   "outputs": [
    {
     "name": "stdout",
     "output_type": "stream",
     "text": [
      "(0, 1, 1, 2, 3)\n"
     ]
    }
   ],
   "source": [
    "# Function to generate the nth Fibonacci number\n",
    "def fibonacci(n):\n",
    "    if n <= 0:\n",
    "        return ()\n",
    "    elif n == 1:\n",
    "        return (0,)\n",
    "    elif n == 2:\n",
    "        return (0, 1)\n",
    "    else:\n",
    "        fib_list = [0, 1]\n",
    "        for i in range(2, n):\n",
    "            next_fib = fib_list[-1] + fib_list[-2]\n",
    "            fib_list.append(next_fib)\n",
    "        return tuple(fib_list)\n",
    "\n",
    "# Get the first 5 Fibonacci numbers in a tuple\n",
    "first_5_fibonacci = fibonacci(5)\n",
    "\n",
    "# Print the tuple of the first 5 Fibonacci numbers\n",
    "print(first_5_fibonacci)\n"
   ]
  },
  {
   "cell_type": "code",
   "execution_count": 229,
   "id": "6ef14d6a-901f-40bd-9fe5-df1cb8b21cbb",
   "metadata": {},
   "outputs": [],
   "source": [
    "#42. Create a tuple from user input."
   ]
  },
  {
   "cell_type": "code",
   "execution_count": 22,
   "id": "1a0092f5-38ab-402f-9250-771acd9821e5",
   "metadata": {},
   "outputs": [
    {
     "name": "stdin",
     "output_type": "stream",
     "text": [
      "Enter elements separated by spaces:  car bike scooter train\n"
     ]
    },
    {
     "name": "stdout",
     "output_type": "stream",
     "text": [
      "Created Tuple: ('car', 'bike', 'scooter', 'train')\n"
     ]
    }
   ],
   "source": [
    "# Prompt the user for input and split it into elements\n",
    "user_input = input(\"Enter elements separated by spaces: \")\n",
    "input_list = user_input.split()\n",
    "\n",
    "# Convert the elements to the appropriate data type (e.g., integers or strings)\n",
    "try:\n",
    "    tuple_elements = tuple(map(int, input_list))\n",
    "except ValueError:\n",
    "    tuple_elements = tuple(input_list)\n",
    "\n",
    "# Print the created tuple\n",
    "print(\"Created Tuple:\", tuple_elements)\n"
   ]
  },
  {
   "cell_type": "code",
   "execution_count": 230,
   "id": "2a99d89c-9485-4d01-aafe-d3281ec9c970",
   "metadata": {},
   "outputs": [],
   "source": [
    "#43. Swap two elements in a tuple."
   ]
  },
  {
   "cell_type": "code",
   "execution_count": 23,
   "id": "d270598c-5c3a-411a-8082-8436574a4800",
   "metadata": {},
   "outputs": [
    {
     "name": "stdout",
     "output_type": "stream",
     "text": [
      "(2, 1, 3, 4)\n"
     ]
    }
   ],
   "source": [
    "# Create a tuple\n",
    "my_tuple = (1, 2, 3, 4)\n",
    "\n",
    "# Convert the tuple to a list\n",
    "tuple_list = list(my_tuple)\n",
    "\n",
    "# Swap two elements (e.g., swapping the first and second elements)\n",
    "tuple_list[0], tuple_list[1] = tuple_list[1], tuple_list[0]\n",
    "\n",
    "# Convert the list back to a tuple\n",
    "swapped_tuple = tuple(tuple_list)\n",
    "\n",
    "# Print the swapped tuple\n",
    "print(swapped_tuple)\n"
   ]
  },
  {
   "cell_type": "code",
   "execution_count": 231,
   "id": "7aa775d4-25ef-4e64-b50a-b40ba0dc00e0",
   "metadata": {},
   "outputs": [],
   "source": [
    "#44. Reverse the elements of a tuple."
   ]
  },
  {
   "cell_type": "code",
   "execution_count": 24,
   "id": "f7637041-de38-47a9-9190-310dd4a78f6f",
   "metadata": {},
   "outputs": [
    {
     "name": "stdout",
     "output_type": "stream",
     "text": [
      "(5, 4, 3, 2, 1)\n"
     ]
    }
   ],
   "source": [
    "# Create a tuple\n",
    "my_tuple = (1, 2, 3, 4, 5)\n",
    "\n",
    "# Reverse the tuple by creating a new tuple with reversed elements\n",
    "reversed_tuple = tuple(reversed(my_tuple))\n",
    "\n",
    "# Print the reversed tuple\n",
    "print(reversed_tuple)\n"
   ]
  },
  {
   "cell_type": "code",
   "execution_count": 232,
   "id": "20722824-3a93-43f6-8517-00cf562fdbd8",
   "metadata": {},
   "outputs": [],
   "source": [
    "#45. Create a tuple of the first `n` powers of 2."
   ]
  },
  {
   "cell_type": "code",
   "execution_count": 25,
   "id": "85177f39-b1e5-47bf-b514-d70462f74128",
   "metadata": {},
   "outputs": [
    {
     "name": "stdout",
     "output_type": "stream",
     "text": [
      "(1, 2, 4, 8, 16)\n"
     ]
    }
   ],
   "source": [
    "# Function to generate the first n powers of 2\n",
    "def powers_of_2(n):\n",
    "    powers = []\n",
    "    for i in range(n):\n",
    "        powers.append(2 ** i)\n",
    "    return tuple(powers)\n",
    "\n",
    "# Define 'n' for the first 'n' powers of 2\n",
    "n = 5  # You can change this to your desired value\n",
    "\n",
    "# Create a tuple of the first 'n' powers of 2\n",
    "powers_tuple = powers_of_2(n)\n",
    "\n",
    "# Print the tuple of powers\n",
    "print(powers_tuple)\n"
   ]
  },
  {
   "cell_type": "code",
   "execution_count": 233,
   "id": "5296fcdb-47f6-4cf7-9cf3-e9b838da0867",
   "metadata": {},
   "outputs": [],
   "source": [
    "#46. Find the longest string in a tuple of strings."
   ]
  },
  {
   "cell_type": "code",
   "execution_count": 26,
   "id": "9b859c9a-a2a7-48ae-b90c-8d0ced10f6cd",
   "metadata": {},
   "outputs": [
    {
     "name": "stdout",
     "output_type": "stream",
     "text": [
      "The longest string is: elderberry\n"
     ]
    }
   ],
   "source": [
    "# Create a tuple of strings\n",
    "my_tuple = (\"apple\", \"banana\", \"cherry\", \"date\", \"elderberry\")\n",
    "\n",
    "# Initialize a variable to store the longest string\n",
    "longest_string = \"\"\n",
    "\n",
    "# Iterate through the tuple\n",
    "for string in my_tuple:\n",
    "    if len(string) > len(longest_string):\n",
    "        longest_string = string\n",
    "\n",
    "# Print the longest string\n",
    "print(\"The longest string is:\", longest_string)\n"
   ]
  },
  {
   "cell_type": "code",
   "execution_count": 234,
   "id": "9e199e3a-0c18-446e-922e-1727e1849e76",
   "metadata": {},
   "outputs": [],
   "source": [
    "#47. Find the shortest string in a tuple of strings."
   ]
  },
  {
   "cell_type": "code",
   "execution_count": 33,
   "id": "52722011-bb0a-4c57-a1a6-4e7bbd8a9cdc",
   "metadata": {},
   "outputs": [
    {
     "name": "stdout",
     "output_type": "stream",
     "text": [
      "Shortest string: kiwi\n"
     ]
    }
   ],
   "source": [
    "# Create a tuple of strings\n",
    "string_tuple = (\"apple\", \"banana\", \"grape\", \"kiwi\", \"watermelon\")\n",
    "\n",
    "# Find the shortest string in the tuple\n",
    "shortest_string = min(string_tuple, key=len)\n",
    "\n",
    "# Print the shortest string\n",
    "print(\"Shortest string:\", shortest_string)"
   ]
  },
  {
   "cell_type": "code",
   "execution_count": 235,
   "id": "9825c335-d24f-4a25-b6db-f14526babda2",
   "metadata": {},
   "outputs": [],
   "source": [
    "#48. Create a tuple of the first `n` triangular numbers."
   ]
  },
  {
   "cell_type": "code",
   "execution_count": 34,
   "id": "1052dcf0-a9cf-4ab7-8b7b-98f50ab73376",
   "metadata": {},
   "outputs": [
    {
     "name": "stdout",
     "output_type": "stream",
     "text": [
      "Tuple of the first 5 triangular numbers: (1, 3, 6, 10, 15)\n"
     ]
    }
   ],
   "source": [
    "# Define the value of n\n",
    "n = 5\n",
    "\n",
    "# Create a tuple of the first n triangular numbers using a list comprehension\n",
    "triangular_numbers_tuple = tuple((i * (i + 1)) // 2 for i in range(1, n + 1))\n",
    "\n",
    "# Print the tuple of triangular numbers\n",
    "print(\"Tuple of the first\", n, \"triangular numbers:\", triangular_numbers_tuple)"
   ]
  },
  {
   "cell_type": "code",
   "execution_count": 236,
   "id": "1cf3d8a4-5b4c-4253-a083-623663f6d01d",
   "metadata": {},
   "outputs": [],
   "source": [
    "#49. Check if a tuple contains another tuple as a subsequence."
   ]
  },
  {
   "cell_type": "code",
   "execution_count": 35,
   "id": "f55eb2a6-0059-489e-810b-45e7a1557d74",
   "metadata": {},
   "outputs": [
    {
     "name": "stdout",
     "output_type": "stream",
     "text": [
      "Main tuple contains subsequence tuple: True\n"
     ]
    }
   ],
   "source": [
    "# Function to check if a tuple contains another tuple as a subsequence\n",
    "def contains_subsequence(main_tuple, sub_tuple):\n",
    "    sub_length = len(sub_tuple)\n",
    "    for i in range(len(main_tuple) - sub_length + 1):\n",
    "        if main_tuple[i:i+sub_length] == sub_tuple:\n",
    "            return True\n",
    "    return False\n",
    "\n",
    "# Main tuple\n",
    "main_tuple = (1, 2, 3, 4, 5, 6, 7, 8, 9)\n",
    "\n",
    "# Subsequence tuple\n",
    "sub_tuple = (3, 4, 5)\n",
    "\n",
    "# Check if the main tuple contains the subsequence tuple\n",
    "contains_subseq = contains_subsequence(main_tuple, sub_tuple)\n",
    "\n",
    "# Print the result\n",
    "print(\"Main tuple contains subsequence tuple:\", contains_subseq)"
   ]
  },
  {
   "cell_type": "code",
   "execution_count": 237,
   "id": "1349f818-f66a-4b0d-958f-a1d4fd091c3e",
   "metadata": {},
   "outputs": [],
   "source": [
    "#50. Create a tuple of alternating 1s and 0s of length `n`."
   ]
  },
  {
   "cell_type": "code",
   "execution_count": 36,
   "id": "4d68c4df-eeec-4381-b43a-b398e29eeb4f",
   "metadata": {},
   "outputs": [
    {
     "name": "stdout",
     "output_type": "stream",
     "text": [
      "Tuple of alternating 1s and 0s: (0, 1, 0, 1, 0, 1, 0, 1, 0, 1)\n"
     ]
    }
   ],
   "source": [
    "# Define the value of n\n",
    "n = 10\n",
    "\n",
    "# Create a tuple of alternating 1s and 0s using a list comprehension\n",
    "alternating_tuple = tuple(i % 2 for i in range(n))\n",
    "\n",
    "# Print the tuple of alternating 1s and 0s\n",
    "print(\"Tuple of alternating 1s and 0s:\", alternating_tuple)"
   ]
  },
  {
   "cell_type": "raw",
   "id": "a59260de-1764-4f3b-a0a4-0465ee46bb85",
   "metadata": {},
   "source": [
    "Set Based Practice Problem :"
   ]
  },
  {
   "cell_type": "code",
   "execution_count": 238,
   "id": "b77f1e80-1be4-4b56-a59c-4ff56d777c7e",
   "metadata": {},
   "outputs": [],
   "source": [
    "#1. Create a set with integers from 1 to 5."
   ]
  },
  {
   "cell_type": "code",
   "execution_count": 61,
   "id": "564ef2e9-35a9-4ba3-8c6d-fe65bfc0b8f8",
   "metadata": {},
   "outputs": [],
   "source": [
    "s = {1,2,3,4,5} "
   ]
  },
  {
   "cell_type": "code",
   "execution_count": 62,
   "id": "c36944a0-1bda-4f01-9f4d-9162da6021f4",
   "metadata": {},
   "outputs": [
    {
     "data": {
      "text/plain": [
       "{1, 2, 3, 4, 5}"
      ]
     },
     "execution_count": 62,
     "metadata": {},
     "output_type": "execute_result"
    }
   ],
   "source": [
    "s"
   ]
  },
  {
   "cell_type": "code",
   "execution_count": 239,
   "id": "e11f3d68-7050-471d-8620-c467f1d5e763",
   "metadata": {},
   "outputs": [],
   "source": [
    "#2. Add an element to a set."
   ]
  },
  {
   "cell_type": "code",
   "execution_count": 63,
   "id": "d19e86e6-7806-4c59-8dc9-aa7cbc13d145",
   "metadata": {},
   "outputs": [
    {
     "data": {
      "text/plain": [
       "{1, 2, 3, 4, 5}"
      ]
     },
     "execution_count": 63,
     "metadata": {},
     "output_type": "execute_result"
    }
   ],
   "source": [
    "s"
   ]
  },
  {
   "cell_type": "code",
   "execution_count": 64,
   "id": "0fb0cab4-fcbc-44ea-acd5-3328bcf42195",
   "metadata": {},
   "outputs": [],
   "source": [
    "s.add(6)"
   ]
  },
  {
   "cell_type": "code",
   "execution_count": 65,
   "id": "6f3b1649-c2e4-4b89-b66e-6b2b2dec56ca",
   "metadata": {},
   "outputs": [
    {
     "data": {
      "text/plain": [
       "{1, 2, 3, 4, 5, 6}"
      ]
     },
     "execution_count": 65,
     "metadata": {},
     "output_type": "execute_result"
    }
   ],
   "source": [
    "s"
   ]
  },
  {
   "cell_type": "code",
   "execution_count": 66,
   "id": "081a8119-2935-4f54-aa25-a51cb0fb5009",
   "metadata": {},
   "outputs": [],
   "source": [
    "s.add('rizwan')"
   ]
  },
  {
   "cell_type": "code",
   "execution_count": 67,
   "id": "b58e4054-cd5d-4881-9ab9-1d29f58a13d4",
   "metadata": {},
   "outputs": [
    {
     "data": {
      "text/plain": [
       "{1, 2, 3, 4, 5, 6, 'rizwan'}"
      ]
     },
     "execution_count": 67,
     "metadata": {},
     "output_type": "execute_result"
    }
   ],
   "source": [
    "s"
   ]
  },
  {
   "cell_type": "code",
   "execution_count": 68,
   "id": "a8feddf6-fdd5-44a1-b0dd-219504fbae0e",
   "metadata": {},
   "outputs": [
    {
     "data": {
      "text/plain": [
       "set"
      ]
     },
     "execution_count": 68,
     "metadata": {},
     "output_type": "execute_result"
    }
   ],
   "source": [
    "type(s)"
   ]
  },
  {
   "cell_type": "code",
   "execution_count": 240,
   "id": "318ff8ef-1846-465c-be1b-49ef5e06d546",
   "metadata": {},
   "outputs": [],
   "source": [
    "#3. Remove an element from a set."
   ]
  },
  {
   "cell_type": "code",
   "execution_count": 69,
   "id": "bfcc3c6c-ffed-40d5-81a9-129efa25256c",
   "metadata": {},
   "outputs": [
    {
     "data": {
      "text/plain": [
       "{1, 2, 3, 4, 5, 6, 'rizwan'}"
      ]
     },
     "execution_count": 69,
     "metadata": {},
     "output_type": "execute_result"
    }
   ],
   "source": [
    "s"
   ]
  },
  {
   "cell_type": "code",
   "execution_count": 71,
   "id": "e9a12c7d-a6d6-4067-aabe-a7137d6791f5",
   "metadata": {},
   "outputs": [],
   "source": [
    "s.remove('rizwan')"
   ]
  },
  {
   "cell_type": "code",
   "execution_count": 72,
   "id": "3cfe34b7-df2a-4783-a168-4ba38a8bfed7",
   "metadata": {},
   "outputs": [
    {
     "data": {
      "text/plain": [
       "{1, 2, 3, 4, 5, 6}"
      ]
     },
     "execution_count": 72,
     "metadata": {},
     "output_type": "execute_result"
    }
   ],
   "source": [
    "s"
   ]
  },
  {
   "cell_type": "code",
   "execution_count": 241,
   "id": "5792cabd-a14b-4441-9f68-15ab055ec6db",
   "metadata": {},
   "outputs": [],
   "source": [
    "#4. Check if an element exists in a set."
   ]
  },
  {
   "cell_type": "code",
   "execution_count": 73,
   "id": "13687cc6-583b-484b-8277-26e1171ac48e",
   "metadata": {},
   "outputs": [
    {
     "data": {
      "text/plain": [
       "{1, 2, 3, 4, 5, 6}"
      ]
     },
     "execution_count": 73,
     "metadata": {},
     "output_type": "execute_result"
    }
   ],
   "source": [
    "s"
   ]
  },
  {
   "cell_type": "code",
   "execution_count": 80,
   "id": "94ffc893-7ed6-4087-b1e8-90f302a72e68",
   "metadata": {},
   "outputs": [
    {
     "name": "stdout",
     "output_type": "stream",
     "text": [
      "element doesn't exists in a set\n"
     ]
    }
   ],
   "source": [
    "if 'rizwan' in s:\n",
    "    print(\"element exists in a set\")\n",
    "else:\n",
    "    print(\"element doesn't exists in a set\")"
   ]
  },
  {
   "cell_type": "code",
   "execution_count": 81,
   "id": "7440e4e3-8269-4380-a312-4d08bd1d3dc2",
   "metadata": {},
   "outputs": [
    {
     "name": "stdout",
     "output_type": "stream",
     "text": [
      "element exists in a set\n"
     ]
    }
   ],
   "source": [
    "if 6 in s:\n",
    "    print(\"element exists in a set\")\n",
    "else:\n",
    "    print(\"element doesn't exists in a set\")"
   ]
  },
  {
   "cell_type": "code",
   "execution_count": 242,
   "id": "23121c2b-e2c6-46d8-ae29-da12d221e725",
   "metadata": {},
   "outputs": [],
   "source": [
    "#5. Find the length of a set without using the `len()` function."
   ]
  },
  {
   "cell_type": "code",
   "execution_count": 82,
   "id": "100de515-e28c-403a-b6e9-bb4efbbe2da9",
   "metadata": {},
   "outputs": [
    {
     "data": {
      "text/plain": [
       "{1, 2, 3, 4, 5, 6}"
      ]
     },
     "execution_count": 82,
     "metadata": {},
     "output_type": "execute_result"
    }
   ],
   "source": [
    "s"
   ]
  },
  {
   "cell_type": "code",
   "execution_count": 83,
   "id": "93cd4366-f306-4743-bcb8-22a2982f1acc",
   "metadata": {},
   "outputs": [
    {
     "name": "stdout",
     "output_type": "stream",
     "text": [
      "Length of the set: 6\n"
     ]
    }
   ],
   "source": [
    "count = 0\n",
    "\n",
    "for _ in s:\n",
    "    count += 1\n",
    "\n",
    "print(\"Length of the set:\", count)"
   ]
  },
  {
   "cell_type": "code",
   "execution_count": 243,
   "id": "32bd0783-2c36-4717-8a8a-5d0ac97b5bfd",
   "metadata": {},
   "outputs": [],
   "source": [
    "#6. Clear all elements from a set."
   ]
  },
  {
   "cell_type": "code",
   "execution_count": 84,
   "id": "2c007401-1fff-4406-933a-9afadf0159bc",
   "metadata": {},
   "outputs": [
    {
     "data": {
      "text/plain": [
       "{1, 2, 3, 4, 5, 6}"
      ]
     },
     "execution_count": 84,
     "metadata": {},
     "output_type": "execute_result"
    }
   ],
   "source": [
    "s"
   ]
  },
  {
   "cell_type": "code",
   "execution_count": 85,
   "id": "9ede494a-4a37-4c8b-895f-9dc448e9e73b",
   "metadata": {},
   "outputs": [],
   "source": [
    "s.clear()"
   ]
  },
  {
   "cell_type": "code",
   "execution_count": 86,
   "id": "7783a250-ed16-486f-a10e-b4a63b9efc9c",
   "metadata": {},
   "outputs": [
    {
     "data": {
      "text/plain": [
       "set()"
      ]
     },
     "execution_count": 86,
     "metadata": {},
     "output_type": "execute_result"
    }
   ],
   "source": [
    "s"
   ]
  },
  {
   "cell_type": "code",
   "execution_count": 244,
   "id": "d42a5c31-ea5f-49b4-966f-210c161e35bb",
   "metadata": {},
   "outputs": [],
   "source": [
    "#7. Create a set of even numbers from 1 to 10."
   ]
  },
  {
   "cell_type": "code",
   "execution_count": 87,
   "id": "ced1368f-95f5-491d-8e89-9db5b148bf4a",
   "metadata": {},
   "outputs": [],
   "source": [
    "e = {number for number in range(2, 11, 2)}\n"
   ]
  },
  {
   "cell_type": "code",
   "execution_count": 88,
   "id": "9c38586a-09a5-4b81-bac3-e5018d98fb67",
   "metadata": {},
   "outputs": [
    {
     "data": {
      "text/plain": [
       "{2, 4, 6, 8, 10}"
      ]
     },
     "execution_count": 88,
     "metadata": {},
     "output_type": "execute_result"
    }
   ],
   "source": [
    "e"
   ]
  },
  {
   "cell_type": "code",
   "execution_count": 245,
   "id": "fbd86ac6-7eb9-403b-bf5c-cbf3652a4945",
   "metadata": {},
   "outputs": [],
   "source": [
    "#8. Create a set of odd numbers from 1 to 10."
   ]
  },
  {
   "cell_type": "code",
   "execution_count": 95,
   "id": "52fd5360-37a3-49ee-a53a-568d9cbd1349",
   "metadata": {},
   "outputs": [],
   "source": [
    "e1 = {number for number in range(1, 11, 2)}\n"
   ]
  },
  {
   "cell_type": "code",
   "execution_count": 96,
   "id": "526214ed-54b1-4596-a923-508775b06e4b",
   "metadata": {},
   "outputs": [
    {
     "data": {
      "text/plain": [
       "{1, 3, 5, 7, 9}"
      ]
     },
     "execution_count": 96,
     "metadata": {},
     "output_type": "execute_result"
    }
   ],
   "source": [
    "e1"
   ]
  },
  {
   "cell_type": "code",
   "execution_count": 246,
   "id": "7cd85770-828b-4b90-ba36-7ce8c171b110",
   "metadata": {},
   "outputs": [],
   "source": [
    "#9. Find the union of two sets."
   ]
  },
  {
   "cell_type": "code",
   "execution_count": 97,
   "id": "6448aefe-d4f4-4d0c-b3a2-a95c347450e3",
   "metadata": {},
   "outputs": [],
   "source": [
    "set1 = {1,2,3,4,5}\n",
    "set2 = {6,7,8,9,10}"
   ]
  },
  {
   "cell_type": "code",
   "execution_count": 98,
   "id": "3e254553-3603-4feb-b882-0b058fcd65da",
   "metadata": {},
   "outputs": [],
   "source": [
    "set3 = set1 | set2"
   ]
  },
  {
   "cell_type": "code",
   "execution_count": 100,
   "id": "d51efbce-4e5e-4f5f-be8e-555c4110a6dd",
   "metadata": {},
   "outputs": [
    {
     "data": {
      "text/plain": [
       "{1, 2, 3, 4, 5, 6, 7, 8, 9, 10}"
      ]
     },
     "execution_count": 100,
     "metadata": {},
     "output_type": "execute_result"
    }
   ],
   "source": [
    "set3"
   ]
  },
  {
   "cell_type": "code",
   "execution_count": 247,
   "id": "ee207425-c87f-42f6-821e-f23937c46cfa",
   "metadata": {},
   "outputs": [],
   "source": [
    "#10. Find the intersection of two sets."
   ]
  },
  {
   "cell_type": "code",
   "execution_count": 101,
   "id": "a2464c14-b7d6-4d5b-a4a8-4447d057b221",
   "metadata": {},
   "outputs": [],
   "source": [
    "set1 = {1,2,3,4,5}\n",
    "set2 = {5,7,8,9,10}"
   ]
  },
  {
   "cell_type": "code",
   "execution_count": 102,
   "id": "e5fa0dff-af37-42b2-b599-d8873abb8a91",
   "metadata": {},
   "outputs": [],
   "source": [
    "s3 = set1.intersection(set2)"
   ]
  },
  {
   "cell_type": "code",
   "execution_count": 103,
   "id": "c9ea0c2a-8b4b-4d6f-ad2b-7e7429be5c47",
   "metadata": {},
   "outputs": [
    {
     "data": {
      "text/plain": [
       "{5}"
      ]
     },
     "execution_count": 103,
     "metadata": {},
     "output_type": "execute_result"
    }
   ],
   "source": [
    "s3"
   ]
  },
  {
   "cell_type": "code",
   "execution_count": 248,
   "id": "d494615b-a3da-4454-9d55-0e492509d870",
   "metadata": {},
   "outputs": [],
   "source": [
    "#11. Find the difference between two sets."
   ]
  },
  {
   "cell_type": "code",
   "execution_count": 107,
   "id": "2de44c29-9c86-4783-978b-86ab295c65c0",
   "metadata": {},
   "outputs": [],
   "source": [
    "set1 = {5,6,7,8,9}\n",
    "set2 = {5,7,8,9,10}"
   ]
  },
  {
   "cell_type": "code",
   "execution_count": 108,
   "id": "156f9fdc-06bd-40e6-a7c4-a7c0d1da7832",
   "metadata": {},
   "outputs": [],
   "source": [
    "set3 = set1.difference(set2)"
   ]
  },
  {
   "cell_type": "code",
   "execution_count": 109,
   "id": "9ccf6d10-6a2d-4fd6-8c2e-c2fe01b05e5e",
   "metadata": {},
   "outputs": [
    {
     "data": {
      "text/plain": [
       "{6}"
      ]
     },
     "execution_count": 109,
     "metadata": {},
     "output_type": "execute_result"
    }
   ],
   "source": [
    "set3"
   ]
  },
  {
   "cell_type": "code",
   "execution_count": 249,
   "id": "f35c49cd-d361-4177-b506-193f314ac3f6",
   "metadata": {},
   "outputs": [],
   "source": [
    "#12. Check if a set is a subset of another set."
   ]
  },
  {
   "cell_type": "code",
   "execution_count": 110,
   "id": "4a6ecbf9-4c76-4972-9346-0d56edbae1df",
   "metadata": {},
   "outputs": [],
   "source": [
    "set1 = {1,2,3,4,5}\n",
    "set2 = {1,2,3,4,5,6,7,8}"
   ]
  },
  {
   "cell_type": "code",
   "execution_count": 111,
   "id": "a7fde112-4cc0-42e5-9e43-3dc44f3075f6",
   "metadata": {},
   "outputs": [
    {
     "name": "stdout",
     "output_type": "stream",
     "text": [
      "set1 is a subset of set2.\n"
     ]
    }
   ],
   "source": [
    "if set1.issubset(set2):\n",
    "        print(\"set1 is a subset of set2.\")\n",
    "else:\n",
    "    print(\"set1 is not a subset of set2.\")\n",
    "    "
   ]
  },
  {
   "cell_type": "code",
   "execution_count": 250,
   "id": "8b4f935f-2385-4e65-aaf5-39f9675e71a2",
   "metadata": {},
   "outputs": [],
   "source": [
    "#13. Check if a set is a superset of another set."
   ]
  },
  {
   "cell_type": "code",
   "execution_count": 56,
   "id": "1093ea97-aa19-489a-8556-b926eb263df6",
   "metadata": {},
   "outputs": [
    {
     "name": "stdout",
     "output_type": "stream",
     "text": [
      "set1 is a superset of set2.\n"
     ]
    }
   ],
   "source": [
    "# Define two sets\n",
    "set1 = {1, 2, 3, 4, 5}\n",
    "set2 = {2, 4}\n",
    "\n",
    "# Check if set1 is a superset of set2 using the >= operator\n",
    "is_superset = set1 >= set2\n",
    "\n",
    "# Print the result\n",
    "if is_superset:\n",
    "    print(\"set1 is a superset of set2.\")\n",
    "else:\n",
    "    print(\"set1 is not a superset of set2.\")\n"
   ]
  },
  {
   "cell_type": "code",
   "execution_count": 251,
   "id": "c2254c5b-1dfa-48d4-b0f4-b663ed173c4c",
   "metadata": {},
   "outputs": [],
   "source": [
    "#14. Create a set from a list."
   ]
  },
  {
   "cell_type": "code",
   "execution_count": 57,
   "id": "57d1a024-9fdc-4ab7-93e0-efa2890b2a48",
   "metadata": {},
   "outputs": [
    {
     "name": "stdout",
     "output_type": "stream",
     "text": [
      "{1, 2, 3, 4, 5}\n"
     ]
    }
   ],
   "source": [
    "# Create a list\n",
    "my_list = [1, 2, 3, 4, 5]\n",
    "\n",
    "# Convert the list to a set using the set() constructor\n",
    "my_set = set(my_list)\n",
    "\n",
    "# Print the set\n",
    "print(my_set)\n"
   ]
  },
  {
   "cell_type": "code",
   "execution_count": 252,
   "id": "3e6a5526-8194-4374-89f5-168124d0ea2f",
   "metadata": {},
   "outputs": [],
   "source": [
    "#15. Convert a set to a list."
   ]
  },
  {
   "cell_type": "code",
   "execution_count": 58,
   "id": "eae7cfe7-dea4-4764-9370-edc49a4a984e",
   "metadata": {},
   "outputs": [
    {
     "name": "stdout",
     "output_type": "stream",
     "text": [
      "[1, 2, 3, 4, 5]\n"
     ]
    }
   ],
   "source": [
    "# Create a set\n",
    "my_set = {1, 2, 3, 4, 5}\n",
    "\n",
    "# Convert the set to a list using the list() constructor\n",
    "my_list = list(my_set)\n",
    "\n",
    "# Print the list\n",
    "print(my_list)\n"
   ]
  },
  {
   "cell_type": "code",
   "execution_count": 253,
   "id": "103e10c5-336f-4554-95bb-fdede0fc87db",
   "metadata": {},
   "outputs": [],
   "source": [
    "#16. Remove a random element from a set."
   ]
  },
  {
   "cell_type": "code",
   "execution_count": 59,
   "id": "c3dc8f91-4dbc-4ef3-9021-39e2c9480ecc",
   "metadata": {},
   "outputs": [
    {
     "name": "stdout",
     "output_type": "stream",
     "text": [
      "Removed element: 1\n",
      "Updated set: {2, 3, 4, 5}\n"
     ]
    }
   ],
   "source": [
    "# Create a set\n",
    "my_set = {1, 2, 3, 4, 5}\n",
    "\n",
    "# Remove a random element from the set using the pop() method\n",
    "removed_element = my_set.pop()\n",
    "\n",
    "# Print the removed element and the updated set\n",
    "print(\"Removed element:\", removed_element)\n",
    "print(\"Updated set:\", my_set)\n"
   ]
  },
  {
   "cell_type": "code",
   "execution_count": 254,
   "id": "d2462bea-0701-4d0d-b801-59ee4e90cdd3",
   "metadata": {},
   "outputs": [],
   "source": [
    "#17. Pop an element from a set."
   ]
  },
  {
   "cell_type": "code",
   "execution_count": 60,
   "id": "96beb259-5341-4d31-82d9-0469f6ea1ae4",
   "metadata": {},
   "outputs": [
    {
     "name": "stdout",
     "output_type": "stream",
     "text": [
      "Popped element: 1\n",
      "Updated set: {2, 3, 4, 5}\n"
     ]
    }
   ],
   "source": [
    "# Create a set\n",
    "my_set = {1, 2, 3, 4, 5}\n",
    "\n",
    "# Pop an element from the set using the pop() method\n",
    "popped_element = my_set.pop()\n",
    "\n",
    "# Print the popped element and the updated set\n",
    "print(\"Popped element:\", popped_element)\n",
    "print(\"Updated set:\", my_set)\n"
   ]
  },
  {
   "cell_type": "code",
   "execution_count": 255,
   "id": "99db065d-ad32-4e5e-a550-db3daaf83ff8",
   "metadata": {},
   "outputs": [],
   "source": [
    "#18. Check if two sets have no elements in common."
   ]
  },
  {
   "cell_type": "code",
   "execution_count": 61,
   "id": "34d61de6-75e2-4b13-97ed-87214de62bd1",
   "metadata": {},
   "outputs": [
    {
     "name": "stdout",
     "output_type": "stream",
     "text": [
      "The two sets are disjoint (have no common elements).\n"
     ]
    }
   ],
   "source": [
    "# Define two sets\n",
    "set1 = {1, 2, 3}\n",
    "set2 = {4, 5, 6}\n",
    "\n",
    "# Check if the two sets are disjoint using the isdisjoint() method\n",
    "are_disjoint = set1.isdisjoint(set2)\n",
    "\n",
    "# Print the result\n",
    "if are_disjoint:\n",
    "    print(\"The two sets are disjoint (have no common elements).\")\n",
    "else:\n",
    "    print(\"The two sets are not disjoint (have at least one common element).\")\n"
   ]
  },
  {
   "cell_type": "code",
   "execution_count": 256,
   "id": "d16f09d1-f213-4cc4-b529-ef0812c1976b",
   "metadata": {},
   "outputs": [],
   "source": [
    "#19. Find the symmetric difference between two sets."
   ]
  },
  {
   "cell_type": "code",
   "execution_count": 95,
   "id": "41d60155-9123-4634-aa2f-ac168e29df6e",
   "metadata": {},
   "outputs": [
    {
     "name": "stdout",
     "output_type": "stream",
     "text": [
      "Symmetric Difference: {1, 2, 6, 7}\n"
     ]
    }
   ],
   "source": [
    "# Define two sets\n",
    "set1 = {1, 2, 3, 4, 5}\n",
    "set2 = {3, 4, 5, 6, 7}\n",
    "\n",
    "# Find the symmetric difference using the ^ operator\n",
    "symmetric_diff = set1 ^ set2\n",
    "\n",
    "# Print the symmetric difference\n",
    "print(\"Symmetric Difference:\", symmetric_diff)\n"
   ]
  },
  {
   "cell_type": "code",
   "execution_count": 257,
   "id": "5dc56197-e081-43b0-8678-e47de3bd3925",
   "metadata": {},
   "outputs": [],
   "source": [
    "#20. Update a set with elements from another set."
   ]
  },
  {
   "cell_type": "code",
   "execution_count": 96,
   "id": "33204673-30dd-4154-86ca-df33e5ce1168",
   "metadata": {},
   "outputs": [
    {
     "name": "stdout",
     "output_type": "stream",
     "text": [
      "Updated set1: {1, 2, 3, 4, 5}\n"
     ]
    }
   ],
   "source": [
    "# Define two sets\n",
    "set1 = {1, 2, 3}\n",
    "set2 = {3, 4, 5}\n",
    "\n",
    "# Update set1 with elements from set2 using the update() method\n",
    "set1.update(set2)\n",
    "\n",
    "# Print the updated set1\n",
    "print(\"Updated set1:\", set1)\n",
    "\n"
   ]
  },
  {
   "cell_type": "code",
   "execution_count": 258,
   "id": "afc1a0b3-4473-4ed3-ae75-074b77c4406b",
   "metadata": {},
   "outputs": [],
   "source": [
    "#21. Create a set of the first 5 prime numbers."
   ]
  },
  {
   "cell_type": "code",
   "execution_count": 97,
   "id": "af41d53e-88d2-4c3a-8855-2ca9a38dafbc",
   "metadata": {},
   "outputs": [
    {
     "name": "stdout",
     "output_type": "stream",
     "text": [
      "Set of the first 5 prime numbers: {2, 3, 5, 7, 11}\n"
     ]
    }
   ],
   "source": [
    "# Create a set of the first 5 prime numbers\n",
    "prime_numbers = {2, 3, 5, 7, 11}\n",
    "\n",
    "# Print the set of prime numbers\n",
    "print(\"Set of the first 5 prime numbers:\", prime_numbers)\n"
   ]
  },
  {
   "cell_type": "code",
   "execution_count": 259,
   "id": "188e55ca-7aab-4be4-a930-b49bb96f27bc",
   "metadata": {},
   "outputs": [],
   "source": [
    "#22. Check if two sets are identical."
   ]
  },
  {
   "cell_type": "code",
   "execution_count": 101,
   "id": "b8aaaa99-70d4-4d7e-ad65-a06bc496e1ec",
   "metadata": {},
   "outputs": [
    {
     "name": "stdout",
     "output_type": "stream",
     "text": [
      "The two sets are identical.\n"
     ]
    }
   ],
   "source": [
    "# Define two sets\n",
    "set1 = {1, 2, 3, 4, 5}\n",
    "set2 = {5, 4, 3, 2, 1}\n",
    "\n",
    "# Check if the two sets are identical\n",
    "if set1 == set2:\n",
    "    print(\"The two sets are identical.\")\n",
    "else:\n",
    "    print(\"The two sets are not identical.\")\n"
   ]
  },
  {
   "cell_type": "code",
   "execution_count": 260,
   "id": "bb8d7e1e-d78b-4055-bead-0a890825a2ed",
   "metadata": {},
   "outputs": [],
   "source": [
    "#23. Create a frozen set."
   ]
  },
  {
   "cell_type": "code",
   "execution_count": 102,
   "id": "79481c02-851c-48c7-b5e3-f67c910863d4",
   "metadata": {},
   "outputs": [
    {
     "name": "stdout",
     "output_type": "stream",
     "text": [
      "Frozen set: frozenset({1, 2, 3, 4, 5})\n"
     ]
    }
   ],
   "source": [
    "# Create a frozen set\n",
    "my_frozen_set = frozenset([1, 2, 3, 4, 5])\n",
    "\n",
    "# Print the frozen set\n",
    "print(\"Frozen set:\", my_frozen_set)\n"
   ]
  },
  {
   "cell_type": "code",
   "execution_count": 261,
   "id": "0c01fccb-c1fc-4147-8ec7-cd31735d1d33",
   "metadata": {},
   "outputs": [],
   "source": [
    "#24. Check if a set is disjoint with another set."
   ]
  },
  {
   "cell_type": "code",
   "execution_count": 103,
   "id": "aa61e3e5-ab06-4771-aa34-04931064d01a",
   "metadata": {},
   "outputs": [
    {
     "name": "stdout",
     "output_type": "stream",
     "text": [
      "The two sets are disjoint (have no common elements).\n"
     ]
    }
   ],
   "source": [
    "# Define two sets\n",
    "set1 = {1, 2, 3}\n",
    "set2 = {4, 5, 6}\n",
    "\n",
    "# Check if the two sets are disjoint using isdisjoint()\n",
    "if set1.isdisjoint(set2):\n",
    "    print(\"The two sets are disjoint (have no common elements).\")\n",
    "else:\n",
    "    print(\"The two sets have at least one common element.\")\n"
   ]
  },
  {
   "cell_type": "code",
   "execution_count": 262,
   "id": "fd1a2138-3bfa-4c25-a163-6b413e8f3164",
   "metadata": {},
   "outputs": [],
   "source": [
    "#25. Create a set of squares of numbers from 1 to 5."
   ]
  },
  {
   "cell_type": "code",
   "execution_count": 104,
   "id": "bfa951b7-5a7c-4573-8c1f-25b049873fbb",
   "metadata": {},
   "outputs": [
    {
     "name": "stdout",
     "output_type": "stream",
     "text": [
      "Set of squares: {1, 4, 9, 16, 25}\n"
     ]
    }
   ],
   "source": [
    "# Create a set of squares of numbers from 1 to 5\n",
    "squares_set = {x ** 2 for x in range(1, 6)}\n",
    "\n",
    "# Print the set of squares\n",
    "print(\"Set of squares:\", squares_set)\n"
   ]
  },
  {
   "cell_type": "code",
   "execution_count": 263,
   "id": "5d18d9a1-2902-4e06-a2eb-f466d951f3f2",
   "metadata": {},
   "outputs": [],
   "source": [
    "#26. Filter out all even numbers from a set."
   ]
  },
  {
   "cell_type": "code",
   "execution_count": 105,
   "id": "184f8989-3b6a-4bb4-8348-047573b83563",
   "metadata": {},
   "outputs": [
    {
     "name": "stdout",
     "output_type": "stream",
     "text": [
      "Set of odd numbers: {1, 3, 5, 7, 9}\n"
     ]
    }
   ],
   "source": [
    "# Define a set with both even and odd numbers\n",
    "my_set = {1, 2, 3, 4, 5, 6, 7, 8, 9}\n",
    "\n",
    "# Filter out even numbers and create a new set with only odd numbers\n",
    "odd_numbers_set = {x for x in my_set if x % 2 != 0}\n",
    "\n",
    "# Print the set of odd numbers\n",
    "print(\"Set of odd numbers:\", odd_numbers_set)\n"
   ]
  },
  {
   "cell_type": "code",
   "execution_count": 264,
   "id": "6b39c795-f76d-48a8-b70f-2ffbb907b33e",
   "metadata": {},
   "outputs": [],
   "source": [
    "#27. Multiply all elements in a set by 2."
   ]
  },
  {
   "cell_type": "code",
   "execution_count": 108,
   "id": "fb97105a-62ec-4099-b302-0ab52045be57",
   "metadata": {},
   "outputs": [
    {
     "name": "stdout",
     "output_type": "stream",
     "text": [
      "Original Set: {1, 2, 3, 4, 5}\n",
      "Multiplied Set: {2, 4, 6, 8, 10}\n"
     ]
    }
   ],
   "source": [
    "# Create a set with integers from 1 to 5\n",
    "original_set = {1, 2, 3, 4, 5}\n",
    "\n",
    "# Initialize an empty set to store the multiplied elements\n",
    "multiplied_set = set()\n",
    "\n",
    "# Loop through each element in the original set\n",
    "for num in original_set:\n",
    "    # Multiply the current element by 2\n",
    "    multiplied_num = num * 2\n",
    "\n",
    "    # Add the multiplied element to the multiplied_set\n",
    "    multiplied_set.add(multiplied_num)\n",
    "\n",
    "# The original_set remains unchanged\n",
    "print(\"Original Set:\", original_set)\n",
    "\n",
    "# Display the set with elements multiplied by 2\n",
    "print(\"Multiplied Set:\", multiplied_set)"
   ]
  },
  {
   "cell_type": "code",
   "execution_count": 265,
   "id": "5f6a177d-bcb7-49f3-b46a-451327118ac1",
   "metadata": {},
   "outputs": [],
   "source": [
    "#28. Create a set of random numbers."
   ]
  },
  {
   "cell_type": "code",
   "execution_count": 109,
   "id": "a749d56d-2de8-46d2-bdf7-e76fadd8b2f5",
   "metadata": {},
   "outputs": [
    {
     "name": "stdout",
     "output_type": "stream",
     "text": [
      "Generated set of random numbers: {68, 69, 90, 27, 31}\n"
     ]
    }
   ],
   "source": [
    "# Step 1: Import the `random` module to generate random numbers\n",
    "import random\n",
    "\n",
    "# Step 2: Define the number of random numbers you want in the set\n",
    "num_random_numbers = 5\n",
    "\n",
    "# Step 3: Initialize an empty set to store the random numbers\n",
    "random_number_set = set()\n",
    "\n",
    "# Step 4: Use a loop to generate random numbers and add them to the set\n",
    "for _ in range(num_random_numbers):\n",
    "    # Generate a random integer using the `randint` function from the `random` module\n",
    "    random_num = random.randint(1, 100)  # Generate a random number between 1 and 100\n",
    "    # Add the random number to the set\n",
    "    random_number_set.add(random_num)\n",
    "\n",
    "# Step 5: Print the generated set of random numbers\n",
    "print(\"Generated set of random numbers:\", random_number_set)"
   ]
  },
  {
   "cell_type": "code",
   "execution_count": 266,
   "id": "8c8e93be-b809-498d-8b0e-b25c2e30c0bc",
   "metadata": {},
   "outputs": [],
   "source": [
    "#29. Check if a set is empty."
   ]
  },
  {
   "cell_type": "code",
   "execution_count": 111,
   "id": "19a03e8e-e9e1-41fa-98cd-fd2c43b8a408",
   "metadata": {},
   "outputs": [
    {
     "name": "stdout",
     "output_type": "stream",
     "text": [
      "The set is empty.\n"
     ]
    }
   ],
   "source": [
    "# Step 1: Create a set (you can replace this with your own set)\n",
    "my_set = set()\n",
    "\n",
    "# Step 2: Check if the set is empty using the 'if' statement\n",
    "if not my_set:\n",
    "    print(\"The set is empty.\")\n",
    "else:\n",
    "    print(\"The set is not empty.\")"
   ]
  },
  {
   "cell_type": "code",
   "execution_count": 267,
   "id": "d844b55c-064e-43e7-ace1-4fbfc93d525c",
   "metadata": {},
   "outputs": [],
   "source": [
    "#30. Create a nested set (hint: use frozenset)."
   ]
  },
  {
   "cell_type": "code",
   "execution_count": 112,
   "id": "138c8aa1-8353-40b0-a155-fcf077f511c8",
   "metadata": {},
   "outputs": [
    {
     "name": "stdout",
     "output_type": "stream",
     "text": [
      "Nested Set: {frozenset({1, 2, 3, 4, 5}), frozenset({6, 7, 8, 9, 10})}\n"
     ]
    }
   ],
   "source": [
    "# Step 1: Create the inner sets\n",
    "set1 = {1, 2, 3, 4, 5}\n",
    "set2 = {6, 7, 8, 9, 10}\n",
    "\n",
    "# Step 2: Create frozensets from the inner sets\n",
    "frozen_set1 = frozenset(set1)\n",
    "frozen_set2 = frozenset(set2)\n",
    "\n",
    "# Step 3: Create the nested set using the frozensets\n",
    "nested_set = {frozen_set1, frozen_set2}\n",
    "\n",
    "# Print the nested set\n",
    "print(\"Nested Set:\", nested_set)"
   ]
  },
  {
   "cell_type": "code",
   "execution_count": 268,
   "id": "119ce124-1ada-4da8-a4b9-0d3a40e9a55d",
   "metadata": {},
   "outputs": [],
   "source": [
    "#31. Remove an element from a set using the discard method."
   ]
  },
  {
   "cell_type": "code",
   "execution_count": 113,
   "id": "2cd4fe83-7abf-4d7b-9aa4-09dc282f3459",
   "metadata": {},
   "outputs": [
    {
     "name": "stdout",
     "output_type": "stream",
     "text": [
      "Initial set: {1, 2, 3, 4, 5}\n",
      "Set after removing 3 : {1, 2, 4, 5}\n"
     ]
    }
   ],
   "source": [
    "# Create a set with some elements\n",
    "my_set = {1, 2, 3, 4, 5}\n",
    "\n",
    "# Display the initial set\n",
    "print(\"Initial set:\", my_set)\n",
    "\n",
    "# Define the element to be removed\n",
    "element_to_remove = 3\n",
    "\n",
    "# Use the discard() method to remove the element from the set\n",
    "# If the element is not present in the set, discard() won't raise an error\n",
    "my_set.discard(element_to_remove)\n",
    "\n",
    "# Display the set after removing the element\n",
    "print(\"Set after removing\", element_to_remove, \":\", my_set)"
   ]
  },
  {
   "cell_type": "code",
   "execution_count": 269,
   "id": "c32cb6ba-3428-4df0-ba6d-414e79c4af20",
   "metadata": {},
   "outputs": [],
   "source": [
    "#32. Compare two sets."
   ]
  },
  {
   "cell_type": "code",
   "execution_count": 114,
   "id": "c509871a-a3d0-40ed-915b-755f5a2d923f",
   "metadata": {},
   "outputs": [
    {
     "name": "stdout",
     "output_type": "stream",
     "text": [
      "Set 1: {1, 2, 3, 4, 5}\n",
      "Set 2: {4, 5, 6, 7, 8}\n",
      "Is set1 a subset of set2? False\n",
      "Is set2 a subset of set1? False\n",
      "Intersection: {4, 5}\n",
      "Union: {1, 2, 3, 4, 5, 6, 7, 8}\n",
      "Elements in set1 but not in set2: {1, 2, 3}\n",
      "Elements in set2 but not in set1: {8, 6, 7}\n"
     ]
    }
   ],
   "source": [
    "# Step 1: Define two sets\n",
    "set1 = {1, 2, 3, 4, 5}\n",
    "set2 = {4, 5, 6, 7, 8}\n",
    "\n",
    "# Step 2: Use set operations to compare the sets\n",
    "# Check if set1 is a subset of set2\n",
    "is_subset = set1.issubset(set2)\n",
    "\n",
    "# Check if set2 is a subset of set1\n",
    "is_superset = set1.issuperset(set2)\n",
    "\n",
    "# Find the intersection of the sets\n",
    "intersection = set1.intersection(set2)\n",
    "\n",
    "# Find the union of the sets\n",
    "union = set1.union(set2)\n",
    "\n",
    "# Find the elements that are in set1 but not in set2\n",
    "difference1 = set1.difference(set2)\n",
    "\n",
    "# Find the elements that are in set2 but not in set1\n",
    "difference2 = set2.difference(set1)\n",
    "\n",
    "# Step 3: Print the results\n",
    "print(\"Set 1:\", set1)\n",
    "print(\"Set 2:\", set2)\n",
    "print(\"Is set1 a subset of set2?\", is_subset)\n",
    "print(\"Is set2 a subset of set1?\", is_superset)\n",
    "print(\"Intersection:\", intersection)\n",
    "print(\"Union:\", union)\n",
    "print(\"Elements in set1 but not in set2:\", difference1)\n",
    "print(\"Elements in set2 but not in set1:\", difference2)"
   ]
  },
  {
   "cell_type": "code",
   "execution_count": 270,
   "id": "71e79716-dea2-40b7-8bee-3601e2915ebc",
   "metadata": {},
   "outputs": [],
   "source": [
    "#33. Create a set from a string."
   ]
  },
  {
   "cell_type": "code",
   "execution_count": 115,
   "id": "1aa9f967-66c6-49b3-96ff-a1d1d6f72c19",
   "metadata": {},
   "outputs": [
    {
     "name": "stdout",
     "output_type": "stream",
     "text": [
      "{'h', 'l', 'o', 'e'}\n"
     ]
    }
   ],
   "source": [
    "# Step 1: Define the input string\n",
    "input_string = \"hello\"\n",
    "\n",
    "# Step 2: Use the set() constructor to create a set from the characters in the string\n",
    "char_set = set(input_string)\n",
    "\n",
    "# Step 3: Print the resulting set\n",
    "print(char_set)"
   ]
  },
  {
   "cell_type": "code",
   "execution_count": 271,
   "id": "b536c71a-5c14-48ea-bb8d-b84d908d0045",
   "metadata": {},
   "outputs": [],
   "source": [
    "#34. Convert a set of strings to a set of integers."
   ]
  },
  {
   "cell_type": "code",
   "execution_count": 116,
   "id": "fb985783-f7af-4bec-8de4-1ac15a24a8a0",
   "metadata": {},
   "outputs": [
    {
     "name": "stdout",
     "output_type": "stream",
     "text": [
      "Original String Set: {'789', '123', '456'}\n",
      "Converted Integer Set: {456, 123, 789}\n"
     ]
    }
   ],
   "source": [
    "# Step 1: Create a set of strings\n",
    "string_set = {\"123\", \"456\", \"789\"}\n",
    "\n",
    "# Step 2: Initialize an empty set to store integers\n",
    "integer_set = set()\n",
    "\n",
    "# Step 3: Iterate through each string in the string set\n",
    "for string in string_set:\n",
    "    # Step 4: Convert the string to an integer using the int() function\n",
    "    integer_value = int(string)\n",
    "\n",
    "    # Step 5: Add the integer to the integer set\n",
    "    integer_set.add(integer_value)\n",
    "\n",
    "# Step 6: Print the original string set and the converted integer set\n",
    "print(\"Original String Set:\", string_set)\n",
    "print(\"Converted Integer Set:\", integer_set)"
   ]
  },
  {
   "cell_type": "code",
   "execution_count": 272,
   "id": "e91d01e7-3821-4982-8140-7b4c2446f8b2",
   "metadata": {},
   "outputs": [],
   "source": [
    "#35. Convert a set of integers to a set of strings."
   ]
  },
  {
   "cell_type": "code",
   "execution_count": 117,
   "id": "09194100-7f92-4677-b498-47e0962ccaba",
   "metadata": {},
   "outputs": [
    {
     "name": "stdout",
     "output_type": "stream",
     "text": [
      "Original integers_set: {1, 2, 3, 4, 5}\n",
      "Converted strings_set: {'1', '3', '2', '4', '5'}\n"
     ]
    }
   ],
   "source": [
    "# Step 1: Create a set of integers\n",
    "integers_set = {1, 2, 3, 4, 5}\n",
    "\n",
    "# Step 2: Initialize an empty set to store the strings\n",
    "strings_set = set()\n",
    "\n",
    "# Step 3: Iterate through each integer in the integers_set\n",
    "for num in integers_set:\n",
    "    # Step 4: Convert the integer to a string using the str() function\n",
    "    num_str = str(num)\n",
    "\n",
    "    # Step 5: Add the string representation to the strings_set\n",
    "    strings_set.add(num_str)\n",
    "\n",
    "# Step 6: Print the original integers_set and the converted strings_set\n",
    "print(\"Original integers_set:\", integers_set)\n",
    "print(\"Converted strings_set:\", strings_set)"
   ]
  },
  {
   "cell_type": "code",
   "execution_count": 273,
   "id": "fff54bdd-14fa-42fb-b6b6-2f565bf3833c",
   "metadata": {},
   "outputs": [],
   "source": [
    "#36. Create a set from a tuple."
   ]
  },
  {
   "cell_type": "code",
   "execution_count": 118,
   "id": "7daac933-d88d-4621-8e09-50f1f4892878",
   "metadata": {},
   "outputs": [
    {
     "name": "stdout",
     "output_type": "stream",
     "text": [
      "{1, 2, 3, 4, 5}\n"
     ]
    }
   ],
   "source": [
    "# Given tuple\n",
    "input_tuple = (1, 2, 3, 2, 4, 5, 1)\n",
    "\n",
    "# Step 1: Convert the tuple to a set\n",
    "output_set = set(input_tuple)\n",
    "# At this point, the set() function is used to convert the elements of the tuple into a set.\n",
    "# Since sets only contain unique elements, duplicate values are automatically removed.\n",
    "\n",
    "# Step 2: Print the resulting set\n",
    "print(output_set)\n",
    "# The set is now printed, and it will only contain the unique elements from the original tuple."
   ]
  },
  {
   "cell_type": "code",
   "execution_count": 274,
   "id": "8340cfb8-74ea-4c31-a18e-01db16c01fd9",
   "metadata": {},
   "outputs": [],
   "source": [
    "#37. Convert a set to a tuple."
   ]
  },
  {
   "cell_type": "code",
   "execution_count": 119,
   "id": "f775722c-e745-470a-97af-f5988f1ef15e",
   "metadata": {},
   "outputs": [
    {
     "name": "stdout",
     "output_type": "stream",
     "text": [
      "Original set: {1, 2, 3, 4, 5}\n",
      "Converted tuple: (1, 2, 3, 4, 5)\n"
     ]
    }
   ],
   "source": [
    "# Step 1: Create a set\n",
    "input_set = {1, 2, 3, 4, 5}\n",
    "\n",
    "# Step 2: Convert the set to a tuple\n",
    "output_tuple = tuple(input_set)\n",
    "\n",
    "# Step 3: Print the original set and the converted tuple\n",
    "print(\"Original set:\", input_set)\n",
    "print(\"Converted tuple:\", output_tuple)"
   ]
  },
  {
   "cell_type": "code",
   "execution_count": 275,
   "id": "5dba8097-659e-4c7e-9c62-4934ccca84be",
   "metadata": {},
   "outputs": [],
   "source": [
    "#38. Find the maximum value in a set."
   ]
  },
  {
   "cell_type": "code",
   "execution_count": 120,
   "id": "4890798b-05ad-4131-b90e-550f47fe749f",
   "metadata": {},
   "outputs": [
    {
     "name": "stdout",
     "output_type": "stream",
     "text": [
      "Maximum value: 22\n"
     ]
    }
   ],
   "source": [
    "# Define a set with some values\n",
    "my_set = {15, 7, 22, 13, 8}\n",
    "\n",
    "# Initialize a variable to store the maximum value\n",
    "max_value = None\n",
    "\n",
    "# Iterate through each element in the set\n",
    "for num in my_set:\n",
    "    # Check if max_value is None (first iteration) or if the current number is greater than max_value\n",
    "    if max_value is None or num > max_value:\n",
    "        max_value = num  # Update max_value with the current number if it's greater\n",
    "\n",
    "# Print the maximum value\n",
    "print(\"Maximum value:\", max_value)"
   ]
  },
  {
   "cell_type": "code",
   "execution_count": 276,
   "id": "06cd1dd9-59f6-4db2-917c-86f9c3f7d7af",
   "metadata": {},
   "outputs": [],
   "source": [
    "#39. Find the minimum value in a set."
   ]
  },
  {
   "cell_type": "code",
   "execution_count": 110,
   "id": "aec4da12-5413-4d43-8e40-01c31a458310",
   "metadata": {},
   "outputs": [
    {
     "name": "stdout",
     "output_type": "stream",
     "text": [
      "The minimum value in the set is: 4\n"
     ]
    }
   ],
   "source": [
    "# Create a sample set of numbers\n",
    "number_set = {15, 8, 23, 4, 42, 11}\n",
    "\n",
    "# Initialize a variable to store the minimum value\n",
    "min_value = None\n",
    "\n",
    "# Iterate through each element in the set\n",
    "for num in number_set:\n",
    "    # Check if min_value is None (first iteration) or if num is smaller than the current min_value\n",
    "    if min_value is None or num < min_value:\n",
    "        # Update min_value to the current num since it's smaller\n",
    "        min_value = num\n",
    "\n",
    "# Print the minimum value found in the set\n",
    "print(\"The minimum value in the set is:\", min_value)"
   ]
  },
  {
   "cell_type": "code",
   "execution_count": 277,
   "id": "602f037d-961c-41cd-ad4d-c9a09849021e",
   "metadata": {},
   "outputs": [],
   "source": [
    "#40. Create a set from user input."
   ]
  },
  {
   "cell_type": "code",
   "execution_count": 107,
   "id": "7a9ef691-fe63-4847-bce2-88f2a4ee237b",
   "metadata": {},
   "outputs": [
    {
     "name": "stdin",
     "output_type": "stream",
     "text": [
      "Enter a comma-separated list of values:  Delhi, Mumbai, Punjab, Goa, Bhopal\n"
     ]
    },
    {
     "name": "stdout",
     "output_type": "stream",
     "text": [
      "Set created from user input: {'Delhi', 'Punjab', 'Goa', 'Mumbai', 'Bhopal'}\n"
     ]
    }
   ],
   "source": [
    "# Initialize an empty set\n",
    "user_set = set()\n",
    "\n",
    "# Get user input as a comma-separated string\n",
    "user_input = input(\"Enter a comma-separated list of values: \")\n",
    "\n",
    "# Split the user input string into a list of values\n",
    "input_values = user_input.split(',')\n",
    "\n",
    "# Iterate through the input values and add them to the set\n",
    "for value in input_values:\n",
    "    value = value.strip()  # Remove leading and trailing spaces\n",
    "    if value:\n",
    "        user_set.add(value)  # Add non-empty values to the set\n",
    "\n",
    "# Print the user-set\n",
    "print(\"Set created from user input:\", user_set)\n"
   ]
  },
  {
   "cell_type": "code",
   "execution_count": 278,
   "id": "d33ef619-7824-4adc-be6c-ccb0f1ca05a5",
   "metadata": {},
   "outputs": [],
   "source": [
    "#41. Check if the intersection of two sets is empty."
   ]
  },
  {
   "cell_type": "code",
   "execution_count": 106,
   "id": "257c2597-e74c-4543-8753-223248e3df5f",
   "metadata": {},
   "outputs": [
    {
     "name": "stdout",
     "output_type": "stream",
     "text": [
      "The intersection of the two sets is empty.\n"
     ]
    }
   ],
   "source": [
    "# Define two sets\n",
    "set1 = {1, 2, 3}\n",
    "set2 = {4, 5, 6}\n",
    "\n",
    "# Check if the intersection of the two sets is empty using isdisjoint()\n",
    "if set1.isdisjoint(set2):\n",
    "    print(\"The intersection of the two sets is empty.\")\n",
    "else:\n",
    "    print(\"The two sets have a non-empty intersection.\")\n"
   ]
  },
  {
   "cell_type": "code",
   "execution_count": 279,
   "id": "75ae62c0-a09e-481b-8272-31f86b8b34a7",
   "metadata": {},
   "outputs": [],
   "source": [
    "#42. Create a set of the first 5 Fibonacci numbers."
   ]
  },
  {
   "cell_type": "code",
   "execution_count": 100,
   "id": "099991ba-1cb9-4a21-abc9-188855982dce",
   "metadata": {},
   "outputs": [
    {
     "name": "stdout",
     "output_type": "stream",
     "text": [
      "Set of the first 5 Fibonacci numbers: {0, 1, 2, 3}\n"
     ]
    }
   ],
   "source": [
    "# Create a set of the first 5 Fibonacci numbers\n",
    "fibonacci_numbers = set()\n",
    "\n",
    "# Initialize the first two Fibonacci numbers\n",
    "a, b = 0, 1\n",
    "\n",
    "# Generate and add the first 5 Fibonacci numbers to the set\n",
    "for _ in range(5):\n",
    "    fibonacci_numbers.add(a)\n",
    "    a, b = b, a + b\n",
    "\n",
    "# Print the set of Fibonacci numbers\n",
    "print(\"Set of the first 5 Fibonacci numbers:\", fibonacci_numbers)\n"
   ]
  },
  {
   "cell_type": "code",
   "execution_count": 280,
   "id": "4e73107d-96e4-4647-8b6c-e8c03db9a27d",
   "metadata": {},
   "outputs": [],
   "source": [
    "#43. Remove duplicates from a list using sets."
   ]
  },
  {
   "cell_type": "code",
   "execution_count": 99,
   "id": "ba72e125-1fdb-4e5d-abbd-07904fd5f282",
   "metadata": {},
   "outputs": [
    {
     "name": "stdout",
     "output_type": "stream",
     "text": [
      "List with duplicates: [1, 2, 2, 3, 4, 4, 5]\n",
      "List with duplicates removed: [1, 2, 3, 4, 5]\n"
     ]
    }
   ],
   "source": [
    "# Define a list with duplicates\n",
    "my_list = [1, 2, 2, 3, 4, 4, 5]\n",
    "\n",
    "# Remove duplicates by converting the list to a set and back to a list\n",
    "unique_list = list(set(my_list))\n",
    "\n",
    "# Print the unique list\n",
    "print(\"List with duplicates:\", my_list)\n",
    "print(\"List with duplicates removed:\", unique_list)\n"
   ]
  },
  {
   "cell_type": "code",
   "execution_count": 281,
   "id": "711abb1e-7436-45ab-9c91-940653b7d48c",
   "metadata": {},
   "outputs": [],
   "source": [
    "#44. Check if two sets have the same elements, regardless of their count."
   ]
  },
  {
   "cell_type": "code",
   "execution_count": 98,
   "id": "12daa4e5-0ec1-4b4c-b7ad-b97eabbc96b1",
   "metadata": {},
   "outputs": [
    {
     "name": "stdout",
     "output_type": "stream",
     "text": [
      "The two sets have the same elements.\n"
     ]
    }
   ],
   "source": [
    "# Define two sets\n",
    "set1 = {1, 2, 3, 4, 5}\n",
    "set2 = {5, 4, 3, 2, 1}\n",
    "\n",
    "# Check if the two sets have the same elements regardless of count\n",
    "if set1 == set2:\n",
    "    print(\"The two sets have the same elements.\")\n",
    "else:\n",
    "    print(\"The two sets do not have the same elements.\")\n"
   ]
  },
  {
   "cell_type": "code",
   "execution_count": 282,
   "id": "aafadcb6-65d6-42fd-9195-409fa73cb03d",
   "metadata": {},
   "outputs": [],
   "source": [
    "#45. Create a set of the first `n` powers of 2."
   ]
  },
  {
   "cell_type": "code",
   "execution_count": 10,
   "id": "d08ffe1c-3474-4503-9587-dbf035c9ba5e",
   "metadata": {},
   "outputs": [
    {
     "name": "stdout",
     "output_type": "stream",
     "text": [
      "{1, 2, 4, 8, 16}\n"
     ]
    }
   ],
   "source": [
    "# Define the value of 'n' for the first 'n' powers of 2\n",
    "n = 5  # You can change this to your desired value\n",
    "\n",
    "# Create a set to store the first 'n' powers of 2\n",
    "powers_of_2_set = set()\n",
    "\n",
    "# Generate and add the first 'n' powers of 2 to the set\n",
    "for i in range(n):\n",
    "    power_of_2 = 2 ** i\n",
    "    powers_of_2_set.add(power_of_2)\n",
    "\n",
    "# Print the set of the first 'n' powers of 2\n",
    "print(powers_of_2_set)\n"
   ]
  },
  {
   "cell_type": "code",
   "execution_count": 283,
   "id": "b326027a-de1b-4bf3-a57c-8d153e8bc585",
   "metadata": {},
   "outputs": [],
   "source": [
    "#46. Find the common elements between a set and a list."
   ]
  },
  {
   "cell_type": "code",
   "execution_count": 9,
   "id": "4372a239-0203-4ae2-87f7-d5cc280f56fd",
   "metadata": {},
   "outputs": [
    {
     "name": "stdout",
     "output_type": "stream",
     "text": [
      "[3, 4, 5]\n"
     ]
    }
   ],
   "source": [
    "# Define a set\n",
    "my_set = {1, 2, 3, 4, 5}\n",
    "\n",
    "# Define a list\n",
    "my_list = [3, 4, 5, 6, 7]\n",
    "\n",
    "# Find the common elements between the set and the list using intersection()\n",
    "common_elements = my_set.intersection(my_list)\n",
    "\n",
    "# Convert the result back to a list if needed\n",
    "common_elements_list = list(common_elements)\n",
    "\n",
    "# Print the common elements\n",
    "print(common_elements_list)\n"
   ]
  },
  {
   "cell_type": "code",
   "execution_count": 284,
   "id": "532323a1-9a7f-4889-b294-b7b11f51609c",
   "metadata": {},
   "outputs": [],
   "source": [
    "#47. Create a set of the first `n` triangular numbers."
   ]
  },
  {
   "cell_type": "code",
   "execution_count": 8,
   "id": "e67bdef2-1d5c-4f4e-9db6-941ac4bf2f0d",
   "metadata": {},
   "outputs": [
    {
     "name": "stdout",
     "output_type": "stream",
     "text": [
      "{1, 3, 6, 10, 15}\n"
     ]
    }
   ],
   "source": [
    "# Function to generate the nth triangular number\n",
    "def nth_triangular_number(n):\n",
    "    return n * (n + 1) // 2\n",
    "\n",
    "# Define the value of 'n' for the first 'n' triangular numbers\n",
    "n = 5  # You can change this to your desired value\n",
    "\n",
    "# Create a set to store the first 'n' triangular numbers\n",
    "triangular_numbers_set = set()\n",
    "\n",
    "# Generate and add the first 'n' triangular numbers to the set\n",
    "for i in range(1, n + 1):\n",
    "    triangular_numbers_set.add(nth_triangular_number(i))\n",
    "\n",
    "# Print the set of the first 'n' triangular numbers\n",
    "print(triangular_numbers_set)\n"
   ]
  },
  {
   "cell_type": "code",
   "execution_count": 285,
   "id": "ba3af2cf-190a-4821-bdd8-05d334c604d3",
   "metadata": {},
   "outputs": [],
   "source": [
    "#48. Check if a set contains another set as a subset."
   ]
  },
  {
   "cell_type": "code",
   "execution_count": 7,
   "id": "90d07927-7b2b-47e9-b0bc-26282a9ce0db",
   "metadata": {},
   "outputs": [
    {
     "name": "stdout",
     "output_type": "stream",
     "text": [
      "set2 is a subset of set1\n"
     ]
    }
   ],
   "source": [
    "# Define the sets\n",
    "set1 = {1, 2, 3, 4, 5}\n",
    "set2 = {2, 3}\n",
    "\n",
    "# Check if set2 is a subset of set1 using the <= operator\n",
    "is_subset = set2 <= set1\n",
    "\n",
    "# Print the result\n",
    "if is_subset:\n",
    "    print(\"set2 is a subset of set1\")\n",
    "else:\n",
    "    print(\"set2 is not a subset of set1\")\n"
   ]
  },
  {
   "cell_type": "code",
   "execution_count": 286,
   "id": "da6f14fa-73a5-491d-9e2b-f9d4fff680ab",
   "metadata": {},
   "outputs": [],
   "source": [
    "#49. Create a set of alternating 1s and 0s of length `n`."
   ]
  },
  {
   "cell_type": "code",
   "execution_count": 6,
   "id": "ed1778cf-4de5-4d71-82fe-e9a9d7620b11",
   "metadata": {},
   "outputs": [
    {
     "name": "stdout",
     "output_type": "stream",
     "text": [
      "{0, 1}\n"
     ]
    }
   ],
   "source": [
    "# Define the length 'n' for the alternating sequence\n",
    "n = 10  # You can change this to your desired length\n",
    "\n",
    "# Create the alternating sequence\n",
    "alternating_sequence = [1 if i % 2 == 0 else 0 for i in range(n)]\n",
    "\n",
    "# Convert the list to a set if needed (sets do not allow duplicate values)\n",
    "alternating_set = set(alternating_sequence)\n",
    "\n",
    "# Print the alternating set\n",
    "print(alternating_set)\n"
   ]
  },
  {
   "cell_type": "code",
   "execution_count": 287,
   "id": "79f69d89-9925-4918-9387-84a678f0023b",
   "metadata": {},
   "outputs": [],
   "source": [
    "#50. Merge multiple sets into one."
   ]
  },
  {
   "cell_type": "code",
   "execution_count": 288,
   "id": "6c4a2679-ebd0-4725-a9fb-efc6b07d9cd6",
   "metadata": {},
   "outputs": [],
   "source": [
    "s1 = {12,232,45}"
   ]
  },
  {
   "cell_type": "code",
   "execution_count": 289,
   "id": "73a7bd44-840d-427f-92a1-65c25c859325",
   "metadata": {},
   "outputs": [],
   "source": [
    "s2 = {23,545,46,677}"
   ]
  },
  {
   "cell_type": "code",
   "execution_count": 290,
   "id": "965e3133-4099-4c38-8b7f-df87d93256a5",
   "metadata": {},
   "outputs": [],
   "source": [
    "s3 = {232,45,232,5678,9,98}"
   ]
  },
  {
   "cell_type": "code",
   "execution_count": 291,
   "id": "8939dcf6-5774-48d5-8915-04bf466a3259",
   "metadata": {},
   "outputs": [],
   "source": [
    "s4 = {34,46,778,94,23}"
   ]
  },
  {
   "cell_type": "code",
   "execution_count": 292,
   "id": "8f1abc68-82e8-4bf7-a6b7-92e94600a2c0",
   "metadata": {},
   "outputs": [],
   "source": [
    "s5 = s1 | s2 | s3 | s4"
   ]
  },
  {
   "cell_type": "code",
   "execution_count": 293,
   "id": "30ac6481-39ea-4106-ba80-ae16b8467aa4",
   "metadata": {},
   "outputs": [
    {
     "data": {
      "text/plain": [
       "{9, 12, 23, 34, 45, 46, 94, 98, 232, 545, 677, 778, 5678}"
      ]
     },
     "execution_count": 293,
     "metadata": {},
     "output_type": "execute_result"
    }
   ],
   "source": [
    "s5"
   ]
  }
 ],
 "metadata": {
  "kernelspec": {
   "display_name": "Python 3 (ipykernel)",
   "language": "python",
   "name": "python3"
  },
  "language_info": {
   "codemirror_mode": {
    "name": "ipython",
    "version": 3
   },
   "file_extension": ".py",
   "mimetype": "text/x-python",
   "name": "python",
   "nbconvert_exporter": "python",
   "pygments_lexer": "ipython3",
   "version": "3.10.8"
  }
 },
 "nbformat": 4,
 "nbformat_minor": 5
}
