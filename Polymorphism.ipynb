{
 "cells": [
  {
   "cell_type": "code",
   "execution_count": 1,
   "id": "f6f199b5-30f2-4ea1-9f11-4ca72c29eee9",
   "metadata": {},
   "outputs": [],
   "source": [
    "def test(a,b):\n",
    "    return a+b"
   ]
  },
  {
   "cell_type": "code",
   "execution_count": 2,
   "id": "c1a41185-384e-4fec-8d7a-18afb543d946",
   "metadata": {},
   "outputs": [
    {
     "data": {
      "text/plain": [
       "7"
      ]
     },
     "execution_count": 2,
     "metadata": {},
     "output_type": "execute_result"
    }
   ],
   "source": [
    "test(3,4)"
   ]
  },
  {
   "cell_type": "code",
   "execution_count": 3,
   "id": "74de7574-e73a-4505-bcab-a76bc11ae0e8",
   "metadata": {},
   "outputs": [
    {
     "data": {
      "text/plain": [
       "'Rizwan Khan'"
      ]
     },
     "execution_count": 3,
     "metadata": {},
     "output_type": "execute_result"
    }
   ],
   "source": [
    "test(\"Rizwan \", \"Khan\")"
   ]
  },
  {
   "cell_type": "code",
   "execution_count": 4,
   "id": "1368d7b6-f578-4eeb-b28e-a2ba82b6ea62",
   "metadata": {},
   "outputs": [
    {
     "data": {
      "text/plain": [
       "[2, 4, 5, 6, 30, 40, 50, 60]"
      ]
     },
     "execution_count": 4,
     "metadata": {},
     "output_type": "execute_result"
    }
   ],
   "source": [
    "test([2,4,5,6] , [30,40,50,60])"
   ]
  },
  {
   "cell_type": "code",
   "execution_count": 19,
   "id": "1f09f7c7-cab9-40d8-bf10-0af9696244d8",
   "metadata": {},
   "outputs": [],
   "source": [
    "class data_science:\n",
    "    \n",
    "    def syllabous(self):\n",
    "        print(\"this is my syllabous for data sciense masters\")"
   ]
  },
  {
   "cell_type": "code",
   "execution_count": 20,
   "id": "bab3b7e3-9caa-4ab2-a229-38bbd61dd49c",
   "metadata": {},
   "outputs": [],
   "source": [
    "class web_dev:\n",
    "    \n",
    "    def syllabous(self):\n",
    "        print(\"this is my syllabus for web dev\")"
   ]
  },
  {
   "cell_type": "code",
   "execution_count": 21,
   "id": "e1485a6b-2cfc-4be4-9a2c-d72fe2eb63a3",
   "metadata": {},
   "outputs": [],
   "source": [
    "def class_parcer(class_obj):\n",
    "    for i in class_obj:\n",
    "        i.syllabous()"
   ]
  },
  {
   "cell_type": "code",
   "execution_count": 22,
   "id": "e17905f4-d712-41cc-8925-57f24107eeb5",
   "metadata": {},
   "outputs": [],
   "source": [
    "data_science = data_science()"
   ]
  },
  {
   "cell_type": "code",
   "execution_count": 23,
   "id": "eff71332-f9f9-45aa-a8bf-71f5d2ab9e2c",
   "metadata": {},
   "outputs": [],
   "source": [
    "web_dev = web_dev()"
   ]
  },
  {
   "cell_type": "code",
   "execution_count": 24,
   "id": "cb39ea3b-6d19-44f2-a969-910ca3f73559",
   "metadata": {},
   "outputs": [],
   "source": [
    "class_obj = [data_science , web_dev]"
   ]
  },
  {
   "cell_type": "code",
   "execution_count": 25,
   "id": "a46a042a-f420-4fa2-b434-aa3b2c30588a",
   "metadata": {},
   "outputs": [
    {
     "name": "stdout",
     "output_type": "stream",
     "text": [
      "this is my syllabous for data sciense masters\n",
      "this is my syllabus for web dev\n"
     ]
    }
   ],
   "source": [
    "class_parcer(class_obj)"
   ]
  }
 ],
 "metadata": {
  "kernelspec": {
   "display_name": "Python 3 (ipykernel)",
   "language": "python",
   "name": "python3"
  },
  "language_info": {
   "codemirror_mode": {
    "name": "ipython",
    "version": 3
   },
   "file_extension": ".py",
   "mimetype": "text/x-python",
   "name": "python",
   "nbconvert_exporter": "python",
   "pygments_lexer": "ipython3",
   "version": "3.10.8"
  }
 },
 "nbformat": 4,
 "nbformat_minor": 5
}
