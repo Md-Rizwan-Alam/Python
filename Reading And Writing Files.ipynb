{
 "cells": [
  {
   "cell_type": "code",
   "execution_count": 3,
   "id": "fc1df706-12c0-4410-ae61-bfb2558314ec",
   "metadata": {},
   "outputs": [],
   "source": [
    "data = {\n",
    "    \"name\" : \"Rizwan\",\n",
    "    \"maild_id\" : \"rizwan@gmail.com\",\n",
    "    \"phone_number\" : 7870914247,\n",
    "    \"subject\" : [\"data science\" , \"big data\" , \"data analytics\"]\n",
    "}"
   ]
  },
  {
   "cell_type": "code",
   "execution_count": 4,
   "id": "50830dd1-e436-4ec8-a91c-1806aec10c02",
   "metadata": {},
   "outputs": [],
   "source": [
    "import json"
   ]
  },
  {
   "cell_type": "code",
   "execution_count": 7,
   "id": "78a8ecd3-3400-45bf-a9b6-7ec18bc68b92",
   "metadata": {},
   "outputs": [],
   "source": [
    "with open(\"data.json\" , \"w\" ) as f :\n",
    "    json.dump(data , f)"
   ]
  },
  {
   "cell_type": "code",
   "execution_count": 9,
   "id": "26104e35-7285-4adf-bffe-6c32b89b14e2",
   "metadata": {},
   "outputs": [],
   "source": [
    "with open(\"data.json\" , \"r\") as f :\n",
    "    data1 = json.load(f)"
   ]
  },
  {
   "cell_type": "code",
   "execution_count": 10,
   "id": "bfa479b9-0f7f-4a97-b2e4-916fc7267a18",
   "metadata": {},
   "outputs": [
    {
     "data": {
      "text/plain": [
       "{'name': 'Rizwan',\n",
       " 'maild_id': 'rizwan@gmail.com',\n",
       " 'phone_number': 7870914247,\n",
       " 'subject': ['data science', 'big data', 'data analytics']}"
      ]
     },
     "execution_count": 10,
     "metadata": {},
     "output_type": "execute_result"
    }
   ],
   "source": [
    "data1"
   ]
  },
  {
   "cell_type": "code",
   "execution_count": 11,
   "id": "d280c76c-f6a7-4999-8e74-e69914573ad2",
   "metadata": {},
   "outputs": [
    {
     "data": {
      "text/plain": [
       "'big data'"
      ]
     },
     "execution_count": 11,
     "metadata": {},
     "output_type": "execute_result"
    }
   ],
   "source": [
    "data1['subject'][1]"
   ]
  },
  {
   "cell_type": "code",
   "execution_count": 12,
   "id": "87c3f435-9522-439e-b298-dee65d15eb3f",
   "metadata": {},
   "outputs": [],
   "source": [
    "import csv"
   ]
  },
  {
   "cell_type": "code",
   "execution_count": 19,
   "id": "542ab70b-b2d5-49a3-811e-97f073bda8df",
   "metadata": {},
   "outputs": [],
   "source": [
    "data = [[\"name\" , \"email_id\" , \"phone_number\"],\n",
    "        [\"Rizwan\" ,\"rizwan@gmail.com\" , 7870914247],\n",
    "        [\"Zeehan\" , \"zeehan@gmail.com\" , 9798656765]\n",
    "]"
   ]
  },
  {
   "cell_type": "code",
   "execution_count": 21,
   "id": "56fa609c-24bb-484f-885b-8ab54a8ab7c4",
   "metadata": {
    "tags": []
   },
   "outputs": [],
   "source": [
    "with open(\"data.csv\" , \"w\" ) as f :\n",
    "    writer = csv.writer(f)\n",
    "    \n",
    "    for i in data :\n",
    "        writer.writerow(i)\n",
    "        "
   ]
  },
  {
   "cell_type": "code",
   "execution_count": 22,
   "id": "170b4685-0685-43f1-9833-886f34b0bd35",
   "metadata": {},
   "outputs": [
    {
     "name": "stdout",
     "output_type": "stream",
     "text": [
      "['name', 'email_id', 'phone_number']\n",
      "['Rizwan', 'rizwan@gmail.com', '7870914247']\n",
      "['Zeehan', 'zeehan@gmail.com', '9798656765']\n"
     ]
    }
   ],
   "source": [
    "with open(\"data.csv\" , \"r\") as f :\n",
    "    read_data = csv.reader(f)\n",
    "    \n",
    "    for i in read_data:\n",
    "        print(i)"
   ]
  },
  {
   "cell_type": "code",
   "execution_count": 23,
   "id": "88bf96b7-5dc9-4147-80a3-47cbe0ffa580",
   "metadata": {},
   "outputs": [],
   "source": [
    "with open(\"test.bin\" , \"wb\") as f:\n",
    "    f.write(b\"/%#%#/.cdsdsdf\")"
   ]
  },
  {
   "cell_type": "code",
   "execution_count": null,
   "id": "484c4731-5911-470a-91ed-e82f20fa05c0",
   "metadata": {},
   "outputs": [],
   "source": [
    "with open(\"test.bin\" , \"rb\") as f:\n",
    "    printf.read(b\"/%#%#/.cdsdsdf\")"
   ]
  },
  {
   "cell_type": "code",
   "execution_count": null,
   "id": "81178891-9351-40c6-af12-15de394f6ba9",
   "metadata": {},
   "outputs": [],
   "source": []
  },
  {
   "cell_type": "code",
   "execution_count": null,
   "id": "e9127274-8d1b-4d1d-9687-c2a1b573c6e8",
   "metadata": {},
   "outputs": [],
   "source": []
  },
  {
   "cell_type": "code",
   "execution_count": null,
   "id": "cf042374-af7a-4659-9af6-31bc138f5b32",
   "metadata": {},
   "outputs": [],
   "source": []
  },
  {
   "cell_type": "code",
   "execution_count": null,
   "id": "1ee40db6-6d4d-4510-943e-e09043d8f865",
   "metadata": {},
   "outputs": [],
   "source": []
  },
  {
   "cell_type": "code",
   "execution_count": null,
   "id": "48cbce39-c649-4fd7-8624-f5b3daa4e139",
   "metadata": {},
   "outputs": [],
   "source": []
  },
  {
   "cell_type": "code",
   "execution_count": null,
   "id": "ab58084d-afab-4832-826e-6e24be0fff19",
   "metadata": {
    "tags": []
   },
   "outputs": [],
   "source": []
  }
 ],
 "metadata": {
  "kernelspec": {
   "display_name": "Python 3 (ipykernel)",
   "language": "python",
   "name": "python3"
  },
  "language_info": {
   "codemirror_mode": {
    "name": "ipython",
    "version": 3
   },
   "file_extension": ".py",
   "mimetype": "text/x-python",
   "name": "python",
   "nbconvert_exporter": "python",
   "pygments_lexer": "ipython3",
   "version": "3.10.8"
  }
 },
 "nbformat": 4,
 "nbformat_minor": 5
}
