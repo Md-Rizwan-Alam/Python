{
 "cells": [
  {
   "cell_type": "code",
   "execution_count": 22,
   "id": "5f04a5b5-a479-436a-9655-32b86a3defee",
   "metadata": {},
   "outputs": [],
   "source": [
    "class pwskill :\n",
    "    \n",
    "    def student_details(self, name , mail_id , number) :\n",
    "        print(name , mail_id , number)"
   ]
  },
  {
   "cell_type": "code",
   "execution_count": 23,
   "id": "896cfa59-e93b-4b73-8341-2681dc4a1627",
   "metadata": {},
   "outputs": [],
   "source": [
    "pw = pwskill()"
   ]
  },
  {
   "cell_type": "code",
   "execution_count": 24,
   "id": "0e4ad2d8-e129-4fe8-919d-046e0dcda145",
   "metadata": {},
   "outputs": [
    {
     "name": "stdout",
     "output_type": "stream",
     "text": [
      "rizwan rizwan@gmail.com 8978653434\n"
     ]
    }
   ],
   "source": [
    "pw.student_details(\"rizwan\" , \"rizwan@gmail.com\" , 8978653434) "
   ]
  },
  {
   "cell_type": "code",
   "execution_count": 25,
   "id": "0e63a1a5-ed0d-41b9-8026-bd12de06b9e7",
   "metadata": {},
   "outputs": [],
   "source": [
    "class pwskill1 :\n",
    "    \n",
    "    def student_details(self, name , mail_id , number) :\n",
    "        print(name , mail_id , number)\n",
    "        \n",
    "    @staticmethod\n",
    "    def mentor_class(list_mentor) :\n",
    "        print(list_mentor)"
   ]
  },
  {
   "cell_type": "code",
   "execution_count": 26,
   "id": "6916064e-4856-449b-9bca-f19a7045a82e",
   "metadata": {},
   "outputs": [
    {
     "name": "stdout",
     "output_type": "stream",
     "text": [
      "['sudh', 'krish']\n"
     ]
    }
   ],
   "source": [
    "pwskill1.mentor_class(['sudh' , 'krish'])"
   ]
  },
  {
   "cell_type": "code",
   "execution_count": 27,
   "id": "eba0c24a-01e9-4aa4-9039-6c81fa7bd1e7",
   "metadata": {},
   "outputs": [],
   "source": [
    "stu1 = pwskill1()"
   ]
  },
  {
   "cell_type": "code",
   "execution_count": 28,
   "id": "ee32545d-acf4-4ac9-95e6-241d6e870382",
   "metadata": {},
   "outputs": [],
   "source": [
    "stu2 = pwskill1()"
   ]
  },
  {
   "cell_type": "code",
   "execution_count": 29,
   "id": "1dc923b0-ec29-4855-b7fd-c117df8641f6",
   "metadata": {},
   "outputs": [],
   "source": [
    "stu3 = pwskill1()"
   ]
  },
  {
   "cell_type": "code",
   "execution_count": 30,
   "id": "325473c6-5506-420a-853c-022daabfb3d1",
   "metadata": {},
   "outputs": [],
   "source": [
    "class pwskill1 :\n",
    "    \n",
    "    def student_details(self, name , mail_id , number) :\n",
    "        print(name , mail_id , number)\n",
    "        \n",
    "    @staticmethod\n",
    "    def mentor_class(list_mentor) :\n",
    "        print(list_mentor)\n",
    "        \n",
    "    def mentor(self , mentor_list) :\n",
    "        print(mentor_list)"
   ]
  },
  {
   "cell_type": "code",
   "execution_count": 31,
   "id": "99a1edd1-23ea-42c4-8321-c59ac2a4a78f",
   "metadata": {},
   "outputs": [
    {
     "name": "stdout",
     "output_type": "stream",
     "text": [
      "['sudh', 'krish']\n"
     ]
    }
   ],
   "source": [
    "stu1.mentor_class(['sudh' , 'krish'])"
   ]
  },
  {
   "cell_type": "code",
   "execution_count": 34,
   "id": "2b6b73eb-0380-4d34-af8c-28b8045a15f8",
   "metadata": {},
   "outputs": [],
   "source": [
    "class pwskill2 :\n",
    "    \n",
    "    def student_details(self, name , mail_id , number) :\n",
    "        print(name , mail_id , number)\n",
    "        \n",
    "    @staticmethod\n",
    "    def mentor_class(list_mentor) :\n",
    "        print(list_mentor)\n",
    "        \n",
    "        \n",
    "    @classmethod\n",
    "    def class_name(cls):\n",
    "        cls.mentor_class(['sudh' , 'krish'])\n",
    "        \n",
    "    def mentor(self , mentor_list) :\n",
    "        print(mentor_list)"
   ]
  },
  {
   "cell_type": "code",
   "execution_count": 35,
   "id": "fbf4adf9-7bde-4edc-a3ee-d691ae200fb9",
   "metadata": {},
   "outputs": [
    {
     "name": "stdout",
     "output_type": "stream",
     "text": [
      "['sudh', 'krish']\n"
     ]
    }
   ],
   "source": [
    "pwskill2.class_name()"
   ]
  },
  {
   "cell_type": "code",
   "execution_count": 43,
   "id": "23d689dc-2906-4da0-bd7d-0953e904335a",
   "metadata": {},
   "outputs": [],
   "source": [
    "class pwskill2 :\n",
    "    \n",
    "    def student_details(self, name , mail_id , number) :\n",
    "        print(name , mail_id , number)\n",
    "        \n",
    "    @staticmethod\n",
    "    def mentor_mail_id(mentor_mail_id) :\n",
    "        print(mentor_mail_id)\n",
    "        \n",
    "        \n",
    "    @staticmethod\n",
    "    def mentor_class(list_mentor) :\n",
    "        pwskill2.mentor_mail_id(['sudh@gmail.com' , 'krish@gmail.com'])\n",
    "        print(list_mentor)\n",
    "        \n",
    "        \n",
    "        \n",
    "    @classmethod\n",
    "    def class_name(cls):\n",
    "        cls.mentor_class(['sudh' , 'krish'])\n",
    "        \n",
    "    def mentor(self , mentor_list) :\n",
    "        print(mentor_list)"
   ]
  },
  {
   "cell_type": "code",
   "execution_count": 44,
   "id": "faf5f760-5fba-4247-ae32-46e827ef3b01",
   "metadata": {},
   "outputs": [
    {
     "name": "stdout",
     "output_type": "stream",
     "text": [
      "['sudh@gmail.com', 'krish@gmail.com']\n",
      "['sudh', 'krish']\n"
     ]
    }
   ],
   "source": [
    "pwskill2.mentor_class(['sudh' , 'krish'])"
   ]
  },
  {
   "cell_type": "code",
   "execution_count": 48,
   "id": "d6e1ba62-09ed-41da-ac14-779c44b0905b",
   "metadata": {},
   "outputs": [],
   "source": [
    "class pwskill2 :\n",
    "    \n",
    "    def student_details(self, name , mail_id , number) :\n",
    "        print(name , mail_id , number)\n",
    "        \n",
    "    @staticmethod\n",
    "    def mentor_mail_id(mentor_mail_id) :\n",
    "        print(mentor_mail_id)\n",
    "        \n",
    "        \n",
    "    @staticmethod\n",
    "    def mentor_class(list_mentor) :\n",
    "        pwskill2.mentor_mail_id(['sudh@gmail.com' , 'krish@gmail.com'])\n",
    "        print(list_mentor)\n",
    "        \n",
    "        \n",
    "        \n",
    "    @classmethod\n",
    "    def class_name(cls):\n",
    "        cls.mentor_class(['sudh' , 'krish'])\n",
    "        \n",
    "    def mentor(self , mentor_list) :\n",
    "        print(mentor_list)\n",
    "        self.mentor_class(['sudh' , 'krish'])"
   ]
  },
  {
   "cell_type": "code",
   "execution_count": 49,
   "id": "5bdc2b2a-46b0-44a0-8100-eba8dde9962f",
   "metadata": {},
   "outputs": [
    {
     "name": "stdout",
     "output_type": "stream",
     "text": [
      "['sudh@gmail.com', 'krish@gmail.com']\n",
      "['sudh', 'krish']\n"
     ]
    }
   ],
   "source": [
    "pwskill2.class_name()"
   ]
  }
 ],
 "metadata": {
  "kernelspec": {
   "display_name": "Python 3 (ipykernel)",
   "language": "python",
   "name": "python3"
  },
  "language_info": {
   "codemirror_mode": {
    "name": "ipython",
    "version": 3
   },
   "file_extension": ".py",
   "mimetype": "text/x-python",
   "name": "python",
   "nbconvert_exporter": "python",
   "pygments_lexer": "ipython3",
   "version": "3.10.8"
  }
 },
 "nbformat": 4,
 "nbformat_minor": 5
}
