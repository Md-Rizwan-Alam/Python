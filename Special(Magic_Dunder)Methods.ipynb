{
 "cells": [
  {
   "cell_type": "code",
   "execution_count": 1,
   "id": "6e978c6f-dd18-477d-bfbb-8261ce416416",
   "metadata": {},
   "outputs": [
    {
     "data": {
      "text/plain": [
       "['__abs__',\n",
       " '__add__',\n",
       " '__and__',\n",
       " '__bool__',\n",
       " '__ceil__',\n",
       " '__class__',\n",
       " '__delattr__',\n",
       " '__dir__',\n",
       " '__divmod__',\n",
       " '__doc__',\n",
       " '__eq__',\n",
       " '__float__',\n",
       " '__floor__',\n",
       " '__floordiv__',\n",
       " '__format__',\n",
       " '__ge__',\n",
       " '__getattribute__',\n",
       " '__getnewargs__',\n",
       " '__gt__',\n",
       " '__hash__',\n",
       " '__index__',\n",
       " '__init__',\n",
       " '__init_subclass__',\n",
       " '__int__',\n",
       " '__invert__',\n",
       " '__le__',\n",
       " '__lshift__',\n",
       " '__lt__',\n",
       " '__mod__',\n",
       " '__mul__',\n",
       " '__ne__',\n",
       " '__neg__',\n",
       " '__new__',\n",
       " '__or__',\n",
       " '__pos__',\n",
       " '__pow__',\n",
       " '__radd__',\n",
       " '__rand__',\n",
       " '__rdivmod__',\n",
       " '__reduce__',\n",
       " '__reduce_ex__',\n",
       " '__repr__',\n",
       " '__rfloordiv__',\n",
       " '__rlshift__',\n",
       " '__rmod__',\n",
       " '__rmul__',\n",
       " '__ror__',\n",
       " '__round__',\n",
       " '__rpow__',\n",
       " '__rrshift__',\n",
       " '__rshift__',\n",
       " '__rsub__',\n",
       " '__rtruediv__',\n",
       " '__rxor__',\n",
       " '__setattr__',\n",
       " '__sizeof__',\n",
       " '__str__',\n",
       " '__sub__',\n",
       " '__subclasshook__',\n",
       " '__truediv__',\n",
       " '__trunc__',\n",
       " '__xor__',\n",
       " 'as_integer_ratio',\n",
       " 'bit_count',\n",
       " 'bit_length',\n",
       " 'conjugate',\n",
       " 'denominator',\n",
       " 'from_bytes',\n",
       " 'imag',\n",
       " 'numerator',\n",
       " 'real',\n",
       " 'to_bytes']"
      ]
     },
     "execution_count": 1,
     "metadata": {},
     "output_type": "execute_result"
    }
   ],
   "source": [
    "dir(int)"
   ]
  },
  {
   "cell_type": "code",
   "execution_count": 2,
   "id": "126793f6-653b-42d1-9c9c-d1ec558c5a4a",
   "metadata": {},
   "outputs": [
    {
     "data": {
      "text/plain": [
       "['__add__',\n",
       " '__class__',\n",
       " '__contains__',\n",
       " '__delattr__',\n",
       " '__dir__',\n",
       " '__doc__',\n",
       " '__eq__',\n",
       " '__format__',\n",
       " '__ge__',\n",
       " '__getattribute__',\n",
       " '__getitem__',\n",
       " '__getnewargs__',\n",
       " '__gt__',\n",
       " '__hash__',\n",
       " '__init__',\n",
       " '__init_subclass__',\n",
       " '__iter__',\n",
       " '__le__',\n",
       " '__len__',\n",
       " '__lt__',\n",
       " '__mod__',\n",
       " '__mul__',\n",
       " '__ne__',\n",
       " '__new__',\n",
       " '__reduce__',\n",
       " '__reduce_ex__',\n",
       " '__repr__',\n",
       " '__rmod__',\n",
       " '__rmul__',\n",
       " '__setattr__',\n",
       " '__sizeof__',\n",
       " '__str__',\n",
       " '__subclasshook__',\n",
       " 'capitalize',\n",
       " 'casefold',\n",
       " 'center',\n",
       " 'count',\n",
       " 'encode',\n",
       " 'endswith',\n",
       " 'expandtabs',\n",
       " 'find',\n",
       " 'format',\n",
       " 'format_map',\n",
       " 'index',\n",
       " 'isalnum',\n",
       " 'isalpha',\n",
       " 'isascii',\n",
       " 'isdecimal',\n",
       " 'isdigit',\n",
       " 'isidentifier',\n",
       " 'islower',\n",
       " 'isnumeric',\n",
       " 'isprintable',\n",
       " 'isspace',\n",
       " 'istitle',\n",
       " 'isupper',\n",
       " 'join',\n",
       " 'ljust',\n",
       " 'lower',\n",
       " 'lstrip',\n",
       " 'maketrans',\n",
       " 'partition',\n",
       " 'removeprefix',\n",
       " 'removesuffix',\n",
       " 'replace',\n",
       " 'rfind',\n",
       " 'rindex',\n",
       " 'rjust',\n",
       " 'rpartition',\n",
       " 'rsplit',\n",
       " 'rstrip',\n",
       " 'split',\n",
       " 'splitlines',\n",
       " 'startswith',\n",
       " 'strip',\n",
       " 'swapcase',\n",
       " 'title',\n",
       " 'translate',\n",
       " 'upper',\n",
       " 'zfill']"
      ]
     },
     "execution_count": 2,
     "metadata": {},
     "output_type": "execute_result"
    }
   ],
   "source": [
    "dir(str)"
   ]
  },
  {
   "cell_type": "code",
   "execution_count": 3,
   "id": "87490c5d-3d88-4791-bed8-4e7f9ec8d804",
   "metadata": {},
   "outputs": [],
   "source": [
    "a = 100"
   ]
  },
  {
   "cell_type": "code",
   "execution_count": 4,
   "id": "be14856c-4554-49a1-82e1-4a2351f06a83",
   "metadata": {},
   "outputs": [
    {
     "data": {
      "text/plain": [
       "105"
      ]
     },
     "execution_count": 4,
     "metadata": {},
     "output_type": "execute_result"
    }
   ],
   "source": [
    "a + 5"
   ]
  },
  {
   "cell_type": "code",
   "execution_count": 5,
   "id": "c78fe987-edcc-45e5-9ceb-4ab2220ade9c",
   "metadata": {},
   "outputs": [
    {
     "data": {
      "text/plain": [
       "105"
      ]
     },
     "execution_count": 5,
     "metadata": {},
     "output_type": "execute_result"
    }
   ],
   "source": [
    "a.__add__(5)"
   ]
  },
  {
   "cell_type": "code",
   "execution_count": 6,
   "id": "c11da106-6498-458f-ba43-23d5d5f944cc",
   "metadata": {},
   "outputs": [],
   "source": [
    "class pwskillls :\n",
    "    \n",
    "    def __init__(self) :\n",
    "        \n",
    "        self.mobile_number = 7870914247"
   ]
  },
  {
   "cell_type": "code",
   "execution_count": 7,
   "id": "850cb114-ce38-4fdb-8375-d953ecd26b1f",
   "metadata": {},
   "outputs": [],
   "source": [
    "pw = pwskillls()"
   ]
  },
  {
   "cell_type": "code",
   "execution_count": 8,
   "id": "8b1fc2c3-c499-4ad9-acd3-66a048237e73",
   "metadata": {},
   "outputs": [
    {
     "data": {
      "text/plain": [
       "7870914247"
      ]
     },
     "execution_count": 8,
     "metadata": {},
     "output_type": "execute_result"
    }
   ],
   "source": [
    "pw.mobile_number"
   ]
  },
  {
   "cell_type": "code",
   "execution_count": 9,
   "id": "52a4a2cc-76d0-4bc8-ba50-e3aec9650cff",
   "metadata": {},
   "outputs": [],
   "source": [
    "class pwskillls :\n",
    "    \n",
    "    #def __new__(cls) :\n",
    "    \n",
    "    def __init__(self) :\n",
    "        print('this is my init')\n",
    "        \n",
    "        self.mobile_number = 7870914247"
   ]
  },
  {
   "cell_type": "code",
   "execution_count": 10,
   "id": "adb0652b-bcd0-42ac-921c-336225b0520e",
   "metadata": {},
   "outputs": [
    {
     "name": "stdout",
     "output_type": "stream",
     "text": [
      "this is my init\n"
     ]
    }
   ],
   "source": [
    "pw = pwskillls()"
   ]
  },
  {
   "cell_type": "code",
   "execution_count": 11,
   "id": "d6400167-b340-457d-8135-e31fec54fb0c",
   "metadata": {},
   "outputs": [],
   "source": [
    "class pwskillls :\n",
    "    \n",
    "    def __new__(cls) :\n",
    "        print('this is my new')\n",
    "    \n",
    "    def __init__(self) :\n",
    "        print('this is my init')\n",
    "        \n",
    "        self.mobile_number = 7870914247"
   ]
  },
  {
   "cell_type": "code",
   "execution_count": 12,
   "id": "49822a28-9bab-42c3-a15c-6f5978a87ffb",
   "metadata": {},
   "outputs": [
    {
     "name": "stdout",
     "output_type": "stream",
     "text": [
      "this is my new\n"
     ]
    }
   ],
   "source": [
    "pw = pwskillls()"
   ]
  },
  {
   "cell_type": "code",
   "execution_count": 13,
   "id": "7013a1c5-0a91-43fc-b153-37deed7c0469",
   "metadata": {},
   "outputs": [],
   "source": [
    "class pwskillls1 :\n",
    "    \n",
    "    \n",
    "    def __init__(self) :\n",
    "        \n",
    "        self.mobile_number = 7870914247"
   ]
  },
  {
   "cell_type": "code",
   "execution_count": 14,
   "id": "21029f44-f782-4708-9aa5-e560a2805a8b",
   "metadata": {},
   "outputs": [],
   "source": [
    "pw1 = pwskillls1()"
   ]
  },
  {
   "cell_type": "code",
   "execution_count": 15,
   "id": "dd9bbd5f-c5e0-4315-b22c-9d251a6728e4",
   "metadata": {},
   "outputs": [
    {
     "data": {
      "text/plain": [
       "<__main__.pwskillls1 at 0x7f6b0c6b2350>"
      ]
     },
     "execution_count": 15,
     "metadata": {},
     "output_type": "execute_result"
    }
   ],
   "source": [
    "pw1"
   ]
  },
  {
   "cell_type": "code",
   "execution_count": 16,
   "id": "58d7cff5-f066-4fd6-889a-d31a2f4f0bb0",
   "metadata": {},
   "outputs": [],
   "source": [
    "class pwskillls1 :\n",
    "    \n",
    "    \n",
    "    def __init__(self) :\n",
    "        \n",
    "        self.mobile_number = 7870914247\n",
    "    def __str__(self) :\n",
    "        return 'this my magic call of str'"
   ]
  },
  {
   "cell_type": "code",
   "execution_count": 17,
   "id": "fad05aaa-c483-4d5a-9cdc-de7b6ab05dd2",
   "metadata": {},
   "outputs": [],
   "source": [
    "pw1 = pwskillls1()"
   ]
  },
  {
   "cell_type": "code",
   "execution_count": 18,
   "id": "c2e72895-36c7-4f93-b7ed-b2b7d5f47337",
   "metadata": {},
   "outputs": [
    {
     "data": {
      "text/plain": [
       "<__main__.pwskillls1 at 0x7f6b0c6b3610>"
      ]
     },
     "execution_count": 18,
     "metadata": {},
     "output_type": "execute_result"
    }
   ],
   "source": [
    "pw1"
   ]
  },
  {
   "cell_type": "code",
   "execution_count": 19,
   "id": "84c1cc0e-78ce-46f0-8066-131aef4b3023",
   "metadata": {},
   "outputs": [
    {
     "name": "stdout",
     "output_type": "stream",
     "text": [
      "this my magic call of str\n"
     ]
    }
   ],
   "source": [
    "print(pw1)"
   ]
  },
  {
   "cell_type": "code",
   "execution_count": 20,
   "id": "db508d3b-7d69-498f-b4f9-0c404516eadc",
   "metadata": {},
   "outputs": [],
   "source": [
    "class pwskillls1 :\n",
    "    \n",
    "    \n",
    "    def __init__(self) :\n",
    "        \n",
    "        self.mobile_number = 7870914247\n",
    "    #def __str__(self) :\n",
    "        return 'this my magic call of str'"
   ]
  },
  {
   "cell_type": "code",
   "execution_count": 21,
   "id": "32c3e6ec-2b06-4341-8864-15485a113bc5",
   "metadata": {},
   "outputs": [
    {
     "name": "stdout",
     "output_type": "stream",
     "text": [
      "this my magic call of str\n"
     ]
    }
   ],
   "source": [
    "print(pw1)"
   ]
  }
 ],
 "metadata": {
  "kernelspec": {
   "display_name": "Python 3 (ipykernel)",
   "language": "python",
   "name": "python3"
  },
  "language_info": {
   "codemirror_mode": {
    "name": "ipython",
    "version": 3
   },
   "file_extension": ".py",
   "mimetype": "text/x-python",
   "name": "python",
   "nbconvert_exporter": "python",
   "pygments_lexer": "ipython3",
   "version": "3.10.8"
  }
 },
 "nbformat": 4,
 "nbformat_minor": 5
}
