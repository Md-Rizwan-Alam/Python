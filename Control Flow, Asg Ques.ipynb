{
 "cells": [
  {
   "cell_type": "markdown",
   "id": "87ffffcb-2c06-410a-960d-026ce6d64539",
   "metadata": {},
   "source": [
    "Basic If-Else Statements:"
   ]
  },
  {
   "cell_type": "code",
   "execution_count": 1,
   "id": "481b3a1c-f59e-47fc-bfbc-d12858fec8c2",
   "metadata": {},
   "outputs": [],
   "source": [
    "#1. Write a Python program to check if a given number is positive or negative."
   ]
  },
  {
   "cell_type": "code",
   "execution_count": 8,
   "id": "c2e4467e-366b-422f-b7bd-db2cd5f8c7cd",
   "metadata": {},
   "outputs": [
    {
     "name": "stdin",
     "output_type": "stream",
     "text": [
      "Enter a number:  8\n"
     ]
    },
    {
     "name": "stdout",
     "output_type": "stream",
     "text": [
      "The number is positive.\n"
     ]
    }
   ],
   "source": [
    "number = float(input(\"Enter a number: \"))\n",
    "\n",
    "if number > 0:\n",
    "    print(\"The number is positive.\")\n",
    "elif number < 0:\n",
    "    print(\"The number is negative.\")\n",
    "else:\n",
    "    print(\"The number is zero.\")\n"
   ]
  },
  {
   "cell_type": "code",
   "execution_count": 2,
   "id": "311a6a6b-c4e0-445a-8d06-fc470842b171",
   "metadata": {},
   "outputs": [],
   "source": [
    "#2. Create a program that determines if a person is eligible to vote based on their age."
   ]
  },
  {
   "cell_type": "code",
   "execution_count": 12,
   "id": "c2da0a50-ba26-4985-a39f-69151d67f58d",
   "metadata": {},
   "outputs": [
    {
     "name": "stdin",
     "output_type": "stream",
     "text": [
      "Enter your age:  30\n"
     ]
    },
    {
     "name": "stdout",
     "output_type": "stream",
     "text": [
      "You are eligible to vote.\n"
     ]
    }
   ],
   "source": [
    "age = int(input(\"Enter your age: \"))\n",
    "\n",
    "if age >= 18:\n",
    "    print(\"You are eligible to vote.\")\n",
    "else:\n",
    "    print(\"You are not eligible to vote.\")\n"
   ]
  },
  {
   "cell_type": "code",
   "execution_count": 3,
   "id": "2768a118-2a3e-4b9f-8339-d980f1896409",
   "metadata": {},
   "outputs": [],
   "source": [
    "#3. Develop a program to find the maximum of two numbers using if-else statements."
   ]
  },
  {
   "cell_type": "code",
   "execution_count": 16,
   "id": "f8e3de04-6204-4416-9bcb-76f2c2a26d86",
   "metadata": {},
   "outputs": [
    {
     "name": "stdin",
     "output_type": "stream",
     "text": [
      "Enter the first number:  50\n",
      "Enter the second number:  35\n"
     ]
    },
    {
     "name": "stdout",
     "output_type": "stream",
     "text": [
      "The maximum of 50 and 35 is 50\n"
     ]
    }
   ],
   "source": [
    "num1 = input(\"Enter the first number: \")\n",
    "num2 = input(\"Enter the second number: \")\n",
    "\n",
    "if num1 > num2:\n",
    "    maximum = num1\n",
    "else:\n",
    "    maximum = num2\n",
    "\n",
    "print(\"The maximum of\", num1, \"and\", num2, \"is\", maximum)\n"
   ]
  },
  {
   "cell_type": "code",
   "execution_count": 4,
   "id": "e483e83f-bd6a-44d0-9b68-8b2cf4a973a3",
   "metadata": {},
   "outputs": [],
   "source": [
    "#4. Write a Python script to classify a given year as a leap year or not."
   ]
  },
  {
   "cell_type": "code",
   "execution_count": 23,
   "id": "930a43fd-02eb-4539-9291-d4a08506c769",
   "metadata": {},
   "outputs": [
    {
     "name": "stdin",
     "output_type": "stream",
     "text": [
      "Enter a year:  2024\n"
     ]
    },
    {
     "name": "stdout",
     "output_type": "stream",
     "text": [
      "2024 is a leap year.\n"
     ]
    }
   ],
   "source": [
    "year = int(input(\"Enter a year: \"))\n",
    "\n",
    "if (year % 4 == 0 and year % 100 != 0) or (year % 400 == 0):\n",
    "    print(year, \"is a leap year.\")\n",
    "else:\n",
    "    print(year, \"is not a leap year.\")\n"
   ]
  },
  {
   "cell_type": "code",
   "execution_count": 5,
   "id": "77da9643-5a37-442b-b788-5e5b56302c82",
   "metadata": {},
   "outputs": [],
   "source": [
    "#5. Create a program that checks whether a character is a vowel or a consonant."
   ]
  },
  {
   "cell_type": "code",
   "execution_count": 25,
   "id": "642f95ee-e77b-4ee7-ad9a-39120d05ec39",
   "metadata": {},
   "outputs": [
    {
     "name": "stdin",
     "output_type": "stream",
     "text": [
      "Enter a character:  B\n"
     ]
    },
    {
     "name": "stdout",
     "output_type": "stream",
     "text": [
      "b is a consonant.\n"
     ]
    }
   ],
   "source": [
    "a = input(\"Enter a character: \")\n",
    "\n",
    "a = a.lower()\n",
    "\n",
    "if a.isalpha() and len(a) == 1:\n",
    "    if a in 'aeiou':\n",
    "        print(a, \"is a vowel.\")\n",
    "    else:\n",
    "        print(a, \"is a consonant.\")\n",
    "else:\n",
    "    print(\"Invalid input. Please enter a single alphabetic character.\")\n"
   ]
  },
  {
   "cell_type": "code",
   "execution_count": 26,
   "id": "71ad9f40-b2dd-4c30-8017-e3896dc63d60",
   "metadata": {},
   "outputs": [
    {
     "name": "stdin",
     "output_type": "stream",
     "text": [
      "Enter a character:  A\n"
     ]
    },
    {
     "name": "stdout",
     "output_type": "stream",
     "text": [
      "a is a vowel.\n"
     ]
    }
   ],
   "source": [
    "a = input(\"Enter a character: \")\n",
    "\n",
    "a = a.lower()\n",
    "\n",
    "if a.isalpha() and len(a) == 1:\n",
    "    if a in 'aeiou':\n",
    "        print(a, \"is a vowel.\")\n",
    "    else:\n",
    "        print(a, \"is a consonant.\")\n",
    "else:\n",
    "    print(\"Invalid input. Please enter a single alphabetic character.\")\n"
   ]
  },
  {
   "cell_type": "code",
   "execution_count": 6,
   "id": "e230fe35-eff9-4050-82b4-b34ced35b9a1",
   "metadata": {},
   "outputs": [],
   "source": [
    "#6. Implement a program to determine whether a given number is even or odd."
   ]
  },
  {
   "cell_type": "code",
   "execution_count": 27,
   "id": "ba7fb5c7-616a-47ac-9a22-33cbc6c45ce8",
   "metadata": {},
   "outputs": [
    {
     "name": "stdin",
     "output_type": "stream",
     "text": [
      "Enter a number:  10\n"
     ]
    },
    {
     "name": "stdout",
     "output_type": "stream",
     "text": [
      "10 is an even number.\n"
     ]
    }
   ],
   "source": [
    "number = int(input(\"Enter a number: \"))\n",
    "\n",
    "if number % 2 == 0:\n",
    "    print(number, \"is an even number.\")\n",
    "else:\n",
    "    print(number, \"is an odd number.\")\n"
   ]
  },
  {
   "cell_type": "code",
   "execution_count": 28,
   "id": "42ae0db1-c342-440e-8c2a-04a106e2da0b",
   "metadata": {},
   "outputs": [
    {
     "name": "stdin",
     "output_type": "stream",
     "text": [
      "Enter a number:  13\n"
     ]
    },
    {
     "name": "stdout",
     "output_type": "stream",
     "text": [
      "13 is an odd number.\n"
     ]
    }
   ],
   "source": [
    "number = int(input(\"Enter a number: \"))\n",
    "\n",
    "if number % 2 == 0:\n",
    "    print(number, \"is an even number.\")\n",
    "else:\n",
    "    print(number, \"is an odd number.\")\n"
   ]
  },
  {
   "cell_type": "code",
   "execution_count": 7,
   "id": "cdb46502-f8ca-4db2-9eea-460cc506da24",
   "metadata": {},
   "outputs": [],
   "source": [
    "#7. Write a Python function to calculate the absolute value of a number without using the `abs()` function."
   ]
  },
  {
   "cell_type": "code",
   "execution_count": 31,
   "id": "eb2897c6-e3e4-4ffb-a63b-d721ef92c5fb",
   "metadata": {},
   "outputs": [
    {
     "name": "stdin",
     "output_type": "stream",
     "text": [
      "Enter a number:  23.67\n"
     ]
    },
    {
     "name": "stdout",
     "output_type": "stream",
     "text": [
      "Absolute value of 23.67 is 23.67\n"
     ]
    }
   ],
   "source": [
    "def absolute_value(number):\n",
    "    if number < 0:\n",
    "        return -number\n",
    "    else:\n",
    "        return number\n",
    "\n",
    "number = float(input(\"Enter a number: \"))\n",
    "\n",
    "result = absolute_value(number)\n",
    "print(\"Absolute value of\", number, \"is\", result)\n"
   ]
  },
  {
   "cell_type": "code",
   "execution_count": 9,
   "id": "cf320e3c-0bac-4c6c-bc0b-f3d0f386ad24",
   "metadata": {},
   "outputs": [],
   "source": [
    "#8. Develop a program that determines the largest of three given numbers using if-else statements."
   ]
  },
  {
   "cell_type": "code",
   "execution_count": 32,
   "id": "418dde52-ba71-41db-9901-b43a39f86e4a",
   "metadata": {},
   "outputs": [
    {
     "name": "stdin",
     "output_type": "stream",
     "text": [
      "Enter the first number:  4\n",
      "Enter the second number:  7\n",
      "Enter the third number:  9.6\n"
     ]
    },
    {
     "name": "stdout",
     "output_type": "stream",
     "text": [
      "The largest number among 4 , 7 and 9.6 is 9.6\n"
     ]
    }
   ],
   "source": [
    "num1 = input(\"Enter the first number: \")\n",
    "num2 = input(\"Enter the second number: \")\n",
    "num3 = input(\"Enter the third number: \")\n",
    "\n",
    "if num1 >= num2 and num1 >= num3:\n",
    "    largest = num1\n",
    "elif num2 >= num1 and num2 >= num3:\n",
    "    largest = num2\n",
    "else:\n",
    "    largest = num3\n",
    "\n",
    "print(\"The largest number among\", num1, \",\", num2, \"and\", num3, \"is\", largest)\n"
   ]
  },
  {
   "cell_type": "code",
   "execution_count": 10,
   "id": "5f6be413-8863-4e30-aa6d-a342cb3094ab",
   "metadata": {},
   "outputs": [],
   "source": [
    "#9. Create a program that checks if a given string is a palindrome."
   ]
  },
  {
   "cell_type": "code",
   "execution_count": 33,
   "id": "f3f58b75-7362-4cc9-91ab-ea67bc729d5a",
   "metadata": {},
   "outputs": [
    {
     "name": "stdin",
     "output_type": "stream",
     "text": [
      "Enter a string:  Rizwan\n"
     ]
    },
    {
     "name": "stdout",
     "output_type": "stream",
     "text": [
      "The string is not a palindrome.\n"
     ]
    }
   ],
   "source": [
    "string = input(\"Enter a string: \")\n",
    "\n",
    "string = string.replace(\" \", \"\").lower()\n",
    "\n",
    "if string == string[::-1]:\n",
    "    print(\"The string is a palindrome.\")\n",
    "else:\n",
    "    print(\"The string is not a palindrome.\")\n"
   ]
  },
  {
   "cell_type": "code",
   "execution_count": 11,
   "id": "a2e946de-12a0-47a6-9acc-7df54f1e8d7e",
   "metadata": {},
   "outputs": [],
   "source": [
    "#10. Write a Python program to calculate the grade based on a student's score."
   ]
  },
  {
   "cell_type": "code",
   "execution_count": 20,
   "id": "297fa329-0cde-49d5-8fd5-19e9aafb1f94",
   "metadata": {},
   "outputs": [
    {
     "name": "stdin",
     "output_type": "stream",
     "text": [
      "Enter the student's score:  90\n"
     ]
    },
    {
     "name": "stdout",
     "output_type": "stream",
     "text": [
      "Student's grade: A\n"
     ]
    }
   ],
   "source": [
    "score = float(input(\"Enter the student's score: \"))\n",
    "\n",
    "grading_scale = {\n",
    "    (90, 100): \"A\",\n",
    "    (80, 89): \"B\",\n",
    "    (70, 79): \"C\",\n",
    "    (60, 69): \"D\",\n",
    "    (0, 59): \"F\"\n",
    "}\n",
    "\n",
    "grade = None\n",
    "for (lower, upper), letter_grade in grading_scale.items():\n",
    "    if lower <= score <= upper:\n",
    "        grade = letter_grade\n",
    "        break\n",
    "else:\n",
    "    grade = \"Invalid\"\n",
    "\n",
    "print(\"Student's grade:\", grade)\n"
   ]
  },
  {
   "cell_type": "code",
   "execution_count": null,
   "id": "7085bb60-8a7e-468d-88d5-b9d746c00375",
   "metadata": {},
   "outputs": [],
   "source": []
  },
  {
   "cell_type": "markdown",
   "id": "09e58cf1-5df0-47ae-94d4-7d96514ad0d8",
   "metadata": {},
   "source": [
    "Nested If-Else Statements:"
   ]
  },
  {
   "cell_type": "code",
   "execution_count": 34,
   "id": "c18a1492-8382-43ae-a79d-590867c0a856",
   "metadata": {},
   "outputs": [],
   "source": [
    "#11. Write a program to find the largest among three numbers using nested if-else statements."
   ]
  },
  {
   "cell_type": "code",
   "execution_count": 39,
   "id": "b1d56b0a-df73-438f-a8bb-1edfb4c24927",
   "metadata": {},
   "outputs": [
    {
     "name": "stdin",
     "output_type": "stream",
     "text": [
      "Enter the first number:  10\n",
      "Enter the second number:  20\n",
      "Enter the third number:  30\n"
     ]
    },
    {
     "name": "stdout",
     "output_type": "stream",
     "text": [
      "The largest number among 10 , 20 and 30 is 30\n"
     ]
    }
   ],
   "source": [
    "num1 = input(\"Enter the first number: \")\n",
    "num2 = input(\"Enter the second number: \")\n",
    "num3 = input(\"Enter the third number: \")\n",
    "\n",
    "if num1 >= num2:\n",
    "    if num1 >= num3:\n",
    "        largest = num1\n",
    "    else:\n",
    "        largest = num3\n",
    "else:\n",
    "    if num2 >= num3:\n",
    "        largest = num2\n",
    "    else:\n",
    "        largest = num3\n",
    "\n",
    "print(\"The largest number among\", num1, \",\", num2, \"and\", num3, \"is\", largest)\n"
   ]
  },
  {
   "cell_type": "code",
   "execution_count": 35,
   "id": "1d4b9048-2b90-4e30-9e6e-345e923c297e",
   "metadata": {},
   "outputs": [],
   "source": [
    "#12. Implement a program to determine if a triangle is equilateral, isosceles, or scalene."
   ]
  },
  {
   "cell_type": "code",
   "execution_count": 48,
   "id": "a9c3bb02-2fd9-44cd-b65f-e0c2f28a6d77",
   "metadata": {},
   "outputs": [
    {
     "name": "stdin",
     "output_type": "stream",
     "text": [
      "Enter the length of the first side:  3\n",
      "Enter the length of the second side:  3\n",
      "Enter the length of the third side:  3\n"
     ]
    },
    {
     "name": "stdout",
     "output_type": "stream",
     "text": [
      "It is an equilateral triangle.\n"
     ]
    }
   ],
   "source": [
    "side1 = input(\"Enter the length of the first side: \")\n",
    "side2 = input(\"Enter the length of the second side: \")\n",
    "side3 = input(\"Enter the length of the third side: \")\n",
    "\n",
    "if (side1 + side2 > side3) and (side1 + side3 > side2) and (side2 + side3 > side1):\n",
    "\n",
    "    if side1 == side2 == side3:\n",
    "        print(\"It is an equilateral triangle.\")\n",
    "    elif side1 == side2 or side1 == side3 or side2 == side3:\n",
    "        print(\"It is an isosceles triangle.\")\n",
    "    else:\n",
    "        print(\"It is a scalene triangle.\")\n",
    "else:\n",
    "    print(\"It is not a valid triangle.\")\n"
   ]
  },
  {
   "cell_type": "code",
   "execution_count": 36,
   "id": "1ebe4d21-dccd-49d6-84b4-4959169d4e72",
   "metadata": {},
   "outputs": [],
   "source": [
    "#13. Develop a program that checks if a year is a leap year and also if it is a century year."
   ]
  },
  {
   "cell_type": "code",
   "execution_count": 53,
   "id": "dd6b440a-669d-43f5-acaa-53b4a2082c00",
   "metadata": {},
   "outputs": [
    {
     "name": "stdin",
     "output_type": "stream",
     "text": [
      "Enter a year:  2023\n"
     ]
    },
    {
     "name": "stdout",
     "output_type": "stream",
     "text": [
      "2023 is not a leap year.\n",
      "2023 is not a century year.\n"
     ]
    }
   ],
   "source": [
    "year = int(input(\"Enter a year: \"))\n",
    "\n",
    "if (year % 4 == 0 and year % 100 != 0) or (year % 400 == 0):\n",
    "    print(year, \"is a leap year.\")\n",
    "else:\n",
    "    print(year, \"is not a leap year.\")\n",
    "\n",
    "if year % 100 == 0:\n",
    "    print(year, \"is a century year.\")\n",
    "else:\n",
    "    print(year, \"is not a century year.\")\n"
   ]
  },
  {
   "cell_type": "code",
   "execution_count": 40,
   "id": "6bac98cf-3200-4ea7-bd46-96ee2436260f",
   "metadata": {},
   "outputs": [],
   "source": [
    "#14. Write a Python script to determine if a number is positive, negative, or zero."
   ]
  },
  {
   "cell_type": "code",
   "execution_count": 60,
   "id": "f6f6980d-5f37-4efe-b79f-8751a4dedfed",
   "metadata": {},
   "outputs": [
    {
     "name": "stdin",
     "output_type": "stream",
     "text": [
      "Enter a number:  -9\n"
     ]
    },
    {
     "name": "stdout",
     "output_type": "stream",
     "text": [
      "The number is negative.\n"
     ]
    }
   ],
   "source": [
    "number = float(input(\"Enter a number: \"))\n",
    "\n",
    "if number > 0:\n",
    "    print(\"The number is positive.\")\n",
    "elif number < 0:\n",
    "    print(\"The number is negative.\")\n",
    "else:\n",
    "    print(\"The number is zero.\")\n"
   ]
  },
  {
   "cell_type": "code",
   "execution_count": 61,
   "id": "72178f60-3f0f-49d1-a5ef-2326b7257ad7",
   "metadata": {},
   "outputs": [
    {
     "name": "stdin",
     "output_type": "stream",
     "text": [
      "Enter a number:  8\n"
     ]
    },
    {
     "name": "stdout",
     "output_type": "stream",
     "text": [
      "The number is positive.\n"
     ]
    }
   ],
   "source": [
    "number = float(input(\"Enter a number: \"))\n",
    "\n",
    "if number > 0:\n",
    "    print(\"The number is positive.\")\n",
    "elif number < 0:\n",
    "    print(\"The number is negative.\")\n",
    "else:\n",
    "    print(\"The number is zero.\")\n"
   ]
  },
  {
   "cell_type": "code",
   "execution_count": 62,
   "id": "fbb1bff6-e1e8-4613-90e8-8811d970fa3f",
   "metadata": {},
   "outputs": [
    {
     "name": "stdin",
     "output_type": "stream",
     "text": [
      "Enter a number:  0\n"
     ]
    },
    {
     "name": "stdout",
     "output_type": "stream",
     "text": [
      "The number is zero.\n"
     ]
    }
   ],
   "source": [
    "number = float(input(\"Enter a number: \"))\n",
    "\n",
    "if number > 0:\n",
    "    print(\"The number is positive.\")\n",
    "elif number < 0:\n",
    "    print(\"The number is negative.\")\n",
    "else:\n",
    "    print(\"The number is zero.\")\n",
    "\n"
   ]
  },
  {
   "cell_type": "code",
   "execution_count": 63,
   "id": "c4411db6-f600-45df-bed4-07bd6428cd85",
   "metadata": {},
   "outputs": [
    {
     "name": "stdin",
     "output_type": "stream",
     "text": [
      "Enter a number:  23.67\n"
     ]
    },
    {
     "name": "stdout",
     "output_type": "stream",
     "text": [
      "The number is positive.\n"
     ]
    }
   ],
   "source": [
    "number = float(input(\"Enter a number: \"))\n",
    "\n",
    "if number > 0:\n",
    "    print(\"The number is positive.\")\n",
    "elif number < 0:\n",
    "    print(\"The number is negative.\")\n",
    "else:\n",
    "    print(\"The number is zero.\")\n"
   ]
  },
  {
   "cell_type": "code",
   "execution_count": 41,
   "id": "ee8f4070-8c2c-44b9-99b1-4e6d9f4e3eab",
   "metadata": {},
   "outputs": [],
   "source": [
    "#15. Create a program to check if a person is a teenager (between 13 and 19 years old)."
   ]
  },
  {
   "cell_type": "code",
   "execution_count": 64,
   "id": "111c3a55-37cb-4332-8db1-7b9fc87ac323",
   "metadata": {},
   "outputs": [
    {
     "name": "stdin",
     "output_type": "stream",
     "text": [
      "Enter your age:  16\n"
     ]
    },
    {
     "name": "stdout",
     "output_type": "stream",
     "text": [
      "You are a teenager.\n"
     ]
    }
   ],
   "source": [
    "age = int(input(\"Enter your age: \"))\n",
    "\n",
    "if 13 <= age <= 19:\n",
    "    print(\"You are a teenager.\")\n",
    "else:\n",
    "    print(\"You are not a teenager.\")\n"
   ]
  },
  {
   "cell_type": "code",
   "execution_count": 65,
   "id": "d73738e3-ac3f-4a00-a515-21333657244e",
   "metadata": {},
   "outputs": [
    {
     "name": "stdin",
     "output_type": "stream",
     "text": [
      "Enter your age:  30\n"
     ]
    },
    {
     "name": "stdout",
     "output_type": "stream",
     "text": [
      "You are not a teenager.\n"
     ]
    }
   ],
   "source": [
    "age = int(input(\"Enter your age: \"))\n",
    "\n",
    "if 13 <= age <= 19:\n",
    "    print(\"You are a teenager.\")\n",
    "else:\n",
    "    print(\"You are not a teenager.\")\n"
   ]
  },
  {
   "cell_type": "code",
   "execution_count": 42,
   "id": "4a8cf2dc-b452-482c-9272-02684324c721",
   "metadata": {},
   "outputs": [],
   "source": [
    "#16. Develop a program that determines the type of angle based on its measure (acute, obtuse, or right)."
   ]
  },
  {
   "cell_type": "code",
   "execution_count": 66,
   "id": "e5f25b11-187b-4b4c-8dcf-15fa611007be",
   "metadata": {},
   "outputs": [
    {
     "name": "stdin",
     "output_type": "stream",
     "text": [
      "Enter the measure of the angle in degrees:  3\n"
     ]
    },
    {
     "name": "stdout",
     "output_type": "stream",
     "text": [
      "The angle is acute.\n"
     ]
    }
   ],
   "source": [
    "angle = float(input(\"Enter the measure of the angle in degrees: \"))\n",
    "\n",
    "if angle > 0 and angle < 90:\n",
    "    angle_type = \"acute\"\n",
    "elif angle == 90:\n",
    "    angle_type = \"right\"\n",
    "elif angle > 90 and angle < 180:\n",
    "    angle_type = \"obtuse\"\n",
    "else:\n",
    "    angle_type = \"invalid\"\n",
    "\n",
    "if angle_type == \"invalid\":\n",
    "    print(\"Invalid angle measure.\")\n",
    "else:\n",
    "    print(\"The angle is\", angle_type + \".\")\n"
   ]
  },
  {
   "cell_type": "code",
   "execution_count": 49,
   "id": "395fa02c-a7cf-43aa-92eb-5cde431d46f4",
   "metadata": {},
   "outputs": [],
   "source": [
    "#17. Write a Python program to calculate the roots of a quadratic equation."
   ]
  },
  {
   "cell_type": "code",
   "execution_count": 67,
   "id": "4a37f379-25ef-472d-a07d-9d71b27197d4",
   "metadata": {},
   "outputs": [
    {
     "name": "stdin",
     "output_type": "stream",
     "text": [
      "Enter the coefficient a:  9\n",
      "Enter the coefficient b:  9\n",
      "Enter the coefficient c:  9\n"
     ]
    },
    {
     "name": "stdout",
     "output_type": "stream",
     "text": [
      "The roots are complex.\n",
      "Root 1: -0.5 + 0.8660254037844387 i\n",
      "Root 2: -0.5 - 0.8660254037844387 i\n"
     ]
    }
   ],
   "source": [
    "import math\n",
    "\n",
    "a = float(input(\"Enter the coefficient a: \"))\n",
    "b = float(input(\"Enter the coefficient b: \"))\n",
    "c = float(input(\"Enter the coefficient c: \"))\n",
    "\n",
    "discriminant = b**2 - 4*a*c\n",
    "\n",
    "if discriminant > 0:\n",
    "    root1 = (-b + math.sqrt(discriminant)) / (2*a)\n",
    "    root2 = (-b - math.sqrt(discriminant)) / (2*a)\n",
    "    print(\"The roots are real and distinct.\")\n",
    "    print(\"Root 1:\", root1)\n",
    "    print(\"Root 2:\", root2)\n",
    "elif discriminant == 0:\n",
    "    root1 = -b / (2*a)\n",
    "    print(\"The roots are real and equal.\")\n",
    "    print(\"Root:\", root1)\n",
    "else:\n",
    "    real_part = -b / (2*a)\n",
    "    imaginary_part = math.sqrt(abs(discriminant)) / (2*a)\n",
    "    print(\"The roots are complex.\")\n",
    "    print(\"Root 1:\", real_part, \"+\", imaginary_part, \"i\")\n",
    "    print(\"Root 2:\", real_part, \"-\", imaginary_part, \"i\")\n"
   ]
  },
  {
   "cell_type": "code",
   "execution_count": 50,
   "id": "b2734ce9-b685-44e8-be83-b15085612f7a",
   "metadata": {},
   "outputs": [],
   "source": [
    "#18. Implement a program to determine the day of the week based on a user-provided number (1 for Monday, 2 for Tuesday, etc.)."
   ]
  },
  {
   "cell_type": "code",
   "execution_count": 68,
   "id": "44c8fceb-0686-4653-a3ed-279413b7143a",
   "metadata": {},
   "outputs": [
    {
     "name": "stdin",
     "output_type": "stream",
     "text": [
      "Enter a number (1 for Monday, 2 for Tuesday, etc.):  7\n"
     ]
    },
    {
     "name": "stdout",
     "output_type": "stream",
     "text": [
      "The day of the week is: Sunday\n"
     ]
    }
   ],
   "source": [
    "day_number = int(input(\"Enter a number (1 for Monday, 2 for Tuesday, etc.): \"))\n",
    "\n",
    "days_of_week = [\"Monday\", \"Tuesday\", \"Wednesday\", \"Thursday\", \"Friday\", \"Saturday\", \"Sunday\"]\n",
    "\n",
    "if 1 <= day_number <= 7:\n",
    "    day_name = days_of_week[day_number - 1]  \n",
    "    print(\"The day of the week is:\", day_name)\n",
    "else:\n",
    "    print(\"Invalid input. Please enter a number between 1 and 7.\")\n"
   ]
  },
  {
   "cell_type": "code",
   "execution_count": 51,
   "id": "175e1643-1f39-47c1-b56e-d9ed47ee533e",
   "metadata": {},
   "outputs": [],
   "source": [
    "#19. Create a program that determines if a year is a leap year and also if it is evenly divisible by 400."
   ]
  },
  {
   "cell_type": "code",
   "execution_count": 69,
   "id": "44dccb0c-1c2e-46a3-9899-ad22ecc1fc03",
   "metadata": {},
   "outputs": [
    {
     "name": "stdin",
     "output_type": "stream",
     "text": [
      "Enter a year:  2024\n"
     ]
    },
    {
     "name": "stdout",
     "output_type": "stream",
     "text": [
      "2024 is a leap year and evenly divisible by 400.\n"
     ]
    }
   ],
   "source": [
    "year = int(input(\"Enter a year: \"))\n",
    "\n",
    "if (year % 4 == 0 and year % 100 != 0) or (year % 400 == 0):\n",
    "    print(year, \"is a leap year and evenly divisible by 400.\")\n",
    "else:\n",
    "    print(year, \"is not a leap year or is not evenly divisible by 400.\")\n"
   ]
  },
  {
   "cell_type": "code",
   "execution_count": 52,
   "id": "4ca26811-428f-4578-9726-420c0d080072",
   "metadata": {},
   "outputs": [],
   "source": [
    "#20. Develop a program that checks if a given number is prime or not using nested if-else statements."
   ]
  },
  {
   "cell_type": "code",
   "execution_count": 55,
   "id": "c4b483c1-3fa7-4280-82c7-1a35fc0408cd",
   "metadata": {},
   "outputs": [
    {
     "name": "stdin",
     "output_type": "stream",
     "text": [
      "Enter a number:  12\n"
     ]
    },
    {
     "name": "stdout",
     "output_type": "stream",
     "text": [
      "12 is not a prime number.\n"
     ]
    }
   ],
   "source": [
    "number = int(input(\"Enter a number: \"))\n",
    "\n",
    "if number <= 1:\n",
    "    is_prime = False\n",
    "else:\n",
    "    is_prime = True\n",
    "    for i in range(2, int(number**0.5) + 1):\n",
    "        if number % i == 0:\n",
    "            is_prime = False\n",
    "            break\n",
    "\n",
    "if is_prime:\n",
    "    print(number, \"is a prime number.\")\n",
    "else:\n",
    "    print(number, \"is not a prime number.\")\n"
   ]
  },
  {
   "cell_type": "code",
   "execution_count": 57,
   "id": "90938780-e373-4801-9bb4-a44c29e85d00",
   "metadata": {},
   "outputs": [
    {
     "name": "stdin",
     "output_type": "stream",
     "text": [
      "Enter a number:  13\n"
     ]
    },
    {
     "name": "stdout",
     "output_type": "stream",
     "text": [
      "13 is a prime number.\n"
     ]
    }
   ],
   "source": [
    "number = int(input(\"Enter a number: \"))\n",
    "\n",
    "if number <= 1:\n",
    "    is_prime = False\n",
    "else:\n",
    "    is_prime = True\n",
    "    for i in range(2, int(number**0.5) + 1):\n",
    "        if number % i == 0:\n",
    "            is_prime = False\n",
    "            break\n",
    "\n",
    "if is_prime:\n",
    "    print(number, \"is a prime number.\")\n",
    "else:\n",
    "    print(number, \"is not a prime number.\")\n"
   ]
  },
  {
   "cell_type": "code",
   "execution_count": null,
   "id": "5f6c3209-efa9-40c3-89da-b68cb9af99a1",
   "metadata": {},
   "outputs": [],
   "source": []
  },
  {
   "cell_type": "markdown",
   "id": "65cee038-1269-45d9-9352-43ed1bf25925",
   "metadata": {},
   "source": [
    "Elif Statements:"
   ]
  },
  {
   "cell_type": "code",
   "execution_count": 70,
   "id": "2c81a6bd-fb41-4f2c-872c-6eed1289120b",
   "metadata": {},
   "outputs": [],
   "source": [
    "#21. Write a Python program to assign grades based on different ranges of scores using elif statements."
   ]
  },
  {
   "cell_type": "code",
   "execution_count": 81,
   "id": "7a0cd0ad-b99d-4144-a37d-af91fafcd10c",
   "metadata": {},
   "outputs": [
    {
     "name": "stdin",
     "output_type": "stream",
     "text": [
      "Enter the student's score:  85\n"
     ]
    },
    {
     "name": "stdout",
     "output_type": "stream",
     "text": [
      "The student's grade is: B\n"
     ]
    }
   ],
   "source": [
    "score = float(input(\"Enter the student's score: \"))\n",
    "\n",
    "if score >= 90:\n",
    "    grade = 'A'\n",
    "elif score >= 80:\n",
    "    grade = 'B'\n",
    "elif score >= 70:\n",
    "    grade = 'C'\n",
    "elif score >= 60:\n",
    "    grade = 'D'\n",
    "else:\n",
    "    grade = 'F'\n",
    "\n",
    "print(f\"The student's grade is: {grade}\")\n"
   ]
  },
  {
   "cell_type": "code",
   "execution_count": 71,
   "id": "5849beca-54e5-4cdb-b4ee-a6a0d7a1c407",
   "metadata": {},
   "outputs": [],
   "source": [
    "#22. Implement a program to determine the type of a triangle based on its angles."
   ]
  },
  {
   "cell_type": "code",
   "execution_count": 82,
   "id": "09f62673-df9d-474b-8d00-e96e13c061af",
   "metadata": {},
   "outputs": [
    {
     "name": "stdin",
     "output_type": "stream",
     "text": [
      "Enter the first angle in degrees:  6\n",
      "Enter the second angle in degrees:  6\n",
      "Enter the third angle in degrees:  6\n"
     ]
    },
    {
     "name": "stdout",
     "output_type": "stream",
     "text": [
      "These angles do not form a valid triangle.\n"
     ]
    }
   ],
   "source": [
    "angle1 = float(input(\"Enter the first angle in degrees: \"))\n",
    "angle2 = float(input(\"Enter the second angle in degrees: \"))\n",
    "angle3 = float(input(\"Enter the third angle in degrees: \"))\n",
    "\n",
    "if angle1 + angle2 + angle3 == 180:\n",
    "\n",
    "    if angle1 == angle2 == angle3:\n",
    "        triangle_type = \"Equilateral Triangle\"\n",
    "    elif angle1 == angle2 or angle1 == angle3 or angle2 == angle3:\n",
    "        triangle_type = \"Isosceles Triangle\"\n",
    "    else:\n",
    "        triangle_type = \"Scalene Triangle\"\n",
    "    print(f\"The triangle is a {triangle_type}.\")\n",
    "else:\n",
    "    print(\"These angles do not form a valid triangle.\")\n"
   ]
  },
  {
   "cell_type": "code",
   "execution_count": 73,
   "id": "30d2e7e0-9bbb-492b-a5b8-4f51827237d2",
   "metadata": {},
   "outputs": [],
   "source": [
    "#23. Develop a program to categorize a given person's BMI into underweight, normal, overweight, or obese using elif statements."
   ]
  },
  {
   "cell_type": "code",
   "execution_count": 83,
   "id": "e61d4664-5ee0-4804-94ab-90af972842a0",
   "metadata": {},
   "outputs": [
    {
     "name": "stdin",
     "output_type": "stream",
     "text": [
      "Enter weight in kilograms:  565\n",
      "Enter height in meters:  3\n"
     ]
    },
    {
     "name": "stdout",
     "output_type": "stream",
     "text": [
      "Your BMI is 62.78, which falls into the category of Obese.\n"
     ]
    }
   ],
   "source": [
    "weight = float(input(\"Enter weight in kilograms: \"))\n",
    "height = float(input(\"Enter height in meters: \"))\n",
    "\n",
    "bmi = weight / (height ** 2)\n",
    "\n",
    "if bmi < 18.5:\n",
    "    category = \"Underweight\"\n",
    "elif 18.5 <= bmi < 24.9:\n",
    "    category = \"Normal Weight\"\n",
    "elif 25 <= bmi < 29.9:\n",
    "    category = \"Overweight\"\n",
    "else:\n",
    "    category = \"Obese\"\n",
    "\n",
    "print(f\"Your BMI is {bmi:.2f}, which falls into the category of {category}.\")\n"
   ]
  },
  {
   "cell_type": "code",
   "execution_count": 74,
   "id": "af9b7922-6149-43ac-b599-cebcec3bf8e4",
   "metadata": {},
   "outputs": [],
   "source": [
    "#24. Create a program that determines whether a given number is positive, negative, or zero using elif statements."
   ]
  },
  {
   "cell_type": "code",
   "execution_count": 84,
   "id": "731efeb2-84cf-4078-af38-6416bff86832",
   "metadata": {},
   "outputs": [
    {
     "name": "stdin",
     "output_type": "stream",
     "text": [
      "Enter a number:  8\n"
     ]
    },
    {
     "name": "stdout",
     "output_type": "stream",
     "text": [
      "The number is positive.\n"
     ]
    }
   ],
   "source": [
    "number = float(input(\"Enter a number: \"))\n",
    "\n",
    "if number > 0:\n",
    "    print(\"The number is positive.\")\n",
    "elif number < 0:\n",
    "    print(\"The number is negative.\")\n",
    "else:\n",
    "    print(\"The number is zero.\")\n"
   ]
  },
  {
   "cell_type": "code",
   "execution_count": 85,
   "id": "b79c9d99-bc0e-4fb8-86f2-1296069bbe86",
   "metadata": {},
   "outputs": [
    {
     "name": "stdin",
     "output_type": "stream",
     "text": [
      "Enter a number:  -9\n"
     ]
    },
    {
     "name": "stdout",
     "output_type": "stream",
     "text": [
      "The number is negative.\n"
     ]
    }
   ],
   "source": [
    "# Get the number as input\n",
    "number = float(input(\"Enter a number: \"))\n",
    "\n",
    "# Check if the number is positive, negative, or zero using if and elif statements\n",
    "if number > 0:\n",
    "    print(\"The number is positive.\")\n",
    "elif number < 0:\n",
    "    print(\"The number is negative.\")\n",
    "else:\n",
    "    print(\"The number is zero.\")\n"
   ]
  },
  {
   "cell_type": "code",
   "execution_count": 75,
   "id": "a804379b-6020-42b8-bc99-7a6efba69eba",
   "metadata": {},
   "outputs": [],
   "source": [
    "#25. Write a Python script to determine the type of a character (uppercase, lowercase, or special) using elif statements."
   ]
  },
  {
   "cell_type": "code",
   "execution_count": 86,
   "id": "03d416ea-1a43-4a87-b560-ee6887a96879",
   "metadata": {},
   "outputs": [
    {
     "name": "stdin",
     "output_type": "stream",
     "text": [
      "Enter a character:  Rizwan\n"
     ]
    },
    {
     "name": "stdout",
     "output_type": "stream",
     "text": [
      "The character 'Rizwan' is a Uppercase character.\n"
     ]
    }
   ],
   "source": [
    "char = input(\"Enter a character: \")\n",
    "\n",
    "if char.isalpha():\n",
    "    if char.islower():\n",
    "        char_type = \"Lowercase\"\n",
    "    else:\n",
    "        char_type = \"Uppercase\"\n",
    "else:\n",
    "    char_type = \"Special Character\"\n",
    "\n",
    "print(f\"The character '{char}' is a {char_type} character.\")\n"
   ]
  },
  {
   "cell_type": "code",
   "execution_count": 87,
   "id": "e14e7402-053f-491d-ac9f-9e7ddc5e0a19",
   "metadata": {},
   "outputs": [
    {
     "name": "stdin",
     "output_type": "stream",
     "text": [
      "Enter a character:  pwskills\n"
     ]
    },
    {
     "name": "stdout",
     "output_type": "stream",
     "text": [
      "The character 'pwskills' is a Lowercase character.\n"
     ]
    }
   ],
   "source": [
    "char = input(\"Enter a character: \")\n",
    "\n",
    "if char.isalpha():\n",
    "    if char.islower():\n",
    "        char_type = \"Lowercase\"\n",
    "    else:\n",
    "        char_type = \"Uppercase\"\n",
    "else:\n",
    "    char_type = \"Special Character\"\n",
    "\n",
    "print(f\"The character '{char}' is a {char_type} character.\")\n"
   ]
  },
  {
   "cell_type": "code",
   "execution_count": 76,
   "id": "8d6f2f60-e2b9-4ad8-be44-cc42b75408be",
   "metadata": {},
   "outputs": [],
   "source": [
    "#26. Implement a program to calculate the discounted price based on different purchase amounts using elif statements."
   ]
  },
  {
   "cell_type": "code",
   "execution_count": 88,
   "id": "fe5fe380-156c-4ddf-8484-fba4d3beb8fa",
   "metadata": {},
   "outputs": [
    {
     "name": "stdin",
     "output_type": "stream",
     "text": [
      "Enter the purchase amount:  1500\n"
     ]
    },
    {
     "name": "stdout",
     "output_type": "stream",
     "text": [
      "The discounted price is: $1275.00\n"
     ]
    }
   ],
   "source": [
    "purchase_amount = float(input(\"Enter the purchase amount: \"))\n",
    "\n",
    "discount_rate_1 = 0.05  # 5% discount for purchases over $100\n",
    "discount_rate_2 = 0.1   # 10% discount for purchases over $500\n",
    "discount_rate_3 = 0.15  # 15% discount for purchases over $1000\n",
    "\n",
    "discounted_price = 0.0\n",
    "\n",
    "if purchase_amount > 1000:\n",
    "    discounted_price = purchase_amount - (purchase_amount * discount_rate_3)\n",
    "elif purchase_amount > 500:\n",
    "    discounted_price = purchase_amount - (purchase_amount * discount_rate_2)\n",
    "elif purchase_amount > 100:\n",
    "    discounted_price = purchase_amount - (purchase_amount * discount_rate_1)\n",
    "else:\n",
    "    discounted_price = purchase_amount\n",
    "\n",
    "print(f\"The discounted price is: ${discounted_price:.2f}\")\n"
   ]
  },
  {
   "cell_type": "code",
   "execution_count": 77,
   "id": "896b51bb-39ed-45fc-96c1-b0b67bc7b4a7",
   "metadata": {},
   "outputs": [],
   "source": [
    "#27. Develop a program to calculate the electricity bill based on different consumption slabs using elif statements."
   ]
  },
  {
   "cell_type": "code",
   "execution_count": 89,
   "id": "f07c6eb2-4199-4f88-980d-7e74739d587d",
   "metadata": {},
   "outputs": [
    {
     "name": "stdin",
     "output_type": "stream",
     "text": [
      "Enter the electricity consumption in kilowatt-hours (kWh):  567\n"
     ]
    },
    {
     "name": "stdout",
     "output_type": "stream",
     "text": [
      "The electricity bill for 567.0 kWh is: $467.00\n"
     ]
    }
   ],
   "source": [
    "consumption = float(input(\"Enter the electricity consumption in kilowatt-hours (kWh): \"))\n",
    "\n",
    "rate_slab_1 = 0.5  # Rate for the first 100 kWh\n",
    "rate_slab_2 = 0.75  # Rate for the next 200 kWh\n",
    "rate_slab_3 = 1.0  # Rate for consumption above 300 kWh\n",
    "\n",
    "total_bill = 0.0\n",
    "\n",
    "if consumption <= 100:\n",
    "    total_bill = consumption * rate_slab_1\n",
    "elif consumption <= 300:\n",
    "    total_bill = (100 * rate_slab_1) + ((consumption - 100) * rate_slab_2)\n",
    "else:\n",
    "    total_bill = (100 * rate_slab_1) + (200 * rate_slab_2) + ((consumption - 300) * rate_slab_3)\n",
    "\n",
    "print(f\"The electricity bill for {consumption} kWh is: ${total_bill:.2f}\")\n"
   ]
  },
  {
   "cell_type": "code",
   "execution_count": 78,
   "id": "fd984757-a60b-4f8d-af90-b32eb626f9b5",
   "metadata": {},
   "outputs": [],
   "source": [
    "#28. Create a program to determine the type of quadrilateral based on its angles and sides using elif statements."
   ]
  },
  {
   "cell_type": "code",
   "execution_count": 90,
   "id": "e6376b69-e859-453b-95c0-01747c6735be",
   "metadata": {},
   "outputs": [
    {
     "name": "stdin",
     "output_type": "stream",
     "text": [
      "Enter the first angle in degrees:  1\n",
      "Enter the second angle in degrees:  2\n",
      "Enter the third angle in degrees:  3\n",
      "Enter the fourth angle in degrees:  4\n",
      "Enter the length of the first side:  5\n",
      "Enter the length of the second side:  6\n",
      "Enter the length of the third side:  7\n",
      "Enter the length of the fourth side:  8\n"
     ]
    },
    {
     "name": "stdout",
     "output_type": "stream",
     "text": [
      "These angles do not form a valid quadrilateral.\n"
     ]
    }
   ],
   "source": [
    "angle1 = float(input(\"Enter the first angle in degrees: \"))\n",
    "angle2 = float(input(\"Enter the second angle in degrees: \"))\n",
    "angle3 = float(input(\"Enter the third angle in degrees: \"))\n",
    "angle4 = float(input(\"Enter the fourth angle in degrees: \"))\n",
    "side1 = float(input(\"Enter the length of the first side: \"))\n",
    "side2 = float(input(\"Enter the length of the second side: \"))\n",
    "side3 = float(input(\"Enter the length of the third side: \"))\n",
    "side4 = float(input(\"Enter the length of the fourth side: \"))\n",
    "\n",
    "if angle1 + angle2 + angle3 + angle4 == 360:\n",
    "    if angle1 == angle2 == angle3 == angle4 == 90:\n",
    "        if side1 == side2 == side3 == side4:\n",
    "            quadrilateral_type = \"Square\"\n",
    "        else:\n",
    "            quadrilateral_type = \"Rectangle\"\n",
    "    elif side1 == side2 == side3 == side4:\n",
    "        if angle1 == angle2 == angle3 == angle4:\n",
    "            quadrilateral_type = \"Rhombus\"\n",
    "        else:\n",
    "            quadrilateral_type = \"Parallelogram\"\n",
    "    else:\n",
    "        quadrilateral_type = \"General Quadrilateral\"\n",
    "    print(f\"The quadrilateral is a {quadrilateral_type}.\")\n",
    "else:\n",
    "    print(\"These angles do not form a valid quadrilateral.\")\n"
   ]
  },
  {
   "cell_type": "code",
   "execution_count": 79,
   "id": "8414ac90-85e0-4f49-b086-cd9d98e852d2",
   "metadata": {},
   "outputs": [],
   "source": [
    "#29. Write a Python script to determine the season based on a user-provided month using elif statements."
   ]
  },
  {
   "cell_type": "code",
   "execution_count": 91,
   "id": "93ba7476-c6bb-4692-8625-875b76545d1a",
   "metadata": {},
   "outputs": [
    {
     "name": "stdin",
     "output_type": "stream",
     "text": [
      "Enter a month (e.g., January, February, etc.):  January\n"
     ]
    },
    {
     "name": "stdout",
     "output_type": "stream",
     "text": [
      "The season for January is Winter.\n"
     ]
    }
   ],
   "source": [
    "month = input(\"Enter a month (e.g., January, February, etc.): \").capitalize()\n",
    "\n",
    "if month in [\"December\", \"January\", \"February\"]:\n",
    "    season = \"Winter\"\n",
    "elif month in [\"March\", \"April\", \"May\"]:\n",
    "    season = \"Spring\"\n",
    "elif month in [\"June\", \"July\", \"August\"]:\n",
    "    season = \"Summer\"\n",
    "elif month in [\"September\", \"October\", \"November\"]:\n",
    "    season = \"Fall\"\n",
    "else:\n",
    "    season = \"Invalid input\"\n",
    "\n",
    "if season != \"Invalid input\":\n",
    "    print(f\"The season for {month} is {season}.\")\n",
    "else:\n",
    "    print(\"Invalid input. Please enter a valid month.\")\n"
   ]
  },
  {
   "cell_type": "code",
   "execution_count": 80,
   "id": "52761971-3d2c-4007-a36a-90661374ce74",
   "metadata": {},
   "outputs": [],
   "source": [
    "#30. Implement a program to determine the type of a year (leap or common) and month (30 or 31 days) using elif statements."
   ]
  },
  {
   "cell_type": "code",
   "execution_count": 93,
   "id": "31230d59-4ac4-4d5d-8797-b53e0b2ce900",
   "metadata": {},
   "outputs": [
    {
     "name": "stdin",
     "output_type": "stream",
     "text": [
      "Enter a year:  2022\n",
      "Enter a month (e.g., January, February, etc.):  January\n"
     ]
    },
    {
     "name": "stdout",
     "output_type": "stream",
     "text": [
      "January in 2022 is a Common year with 31 days in the month.\n"
     ]
    }
   ],
   "source": [
    "year = int(input(\"Enter a year: \"))\n",
    "\n",
    "if (year % 4 == 0 and year % 100 != 0) or (year % 400 == 0):\n",
    "    year_type = \"Leap\"\n",
    "else:\n",
    "    year_type = \"Common\"\n",
    "\n",
    "month = input(\"Enter a month (e.g., January, February, etc.): \").capitalize()\n",
    "\n",
    "if month in [\"January\", \"March\", \"May\", \"July\", \"August\", \"October\", \"December\"]:\n",
    "    days_in_month = 31\n",
    "elif month in [\"April\", \"June\", \"September\", \"November\"]:\n",
    "    days_in_month = 30\n",
    "elif month == \"February\":\n",
    "    if year_type == \"Leap\":\n",
    "        days_in_month = 29\n",
    "    else:\n",
    "        days_in_month = 28\n",
    "else:\n",
    "    days_in_month = \"Invalid input\"\n",
    "\n",
    "if days_in_month != \"Invalid input\":\n",
    "    print(f\"{month} in {year} is a {year_type} year with {days_in_month} days in the month.\")\n",
    "else:\n",
    "    print(\"Invalid input. Please enter a valid month and year.\")\n"
   ]
  },
  {
   "cell_type": "markdown",
   "id": "b71c591a-2658-4b9f-bf5d-6b588a3a7c59",
   "metadata": {},
   "source": [
    "Basic Level:"
   ]
  },
  {
   "cell_type": "code",
   "execution_count": 92,
   "id": "2f19f2a3-b8bb-4a0e-a05c-7e3254abe3a4",
   "metadata": {},
   "outputs": [],
   "source": [
    "#1. Write a Python program that checks if a given number is positive, negative, or zero."
   ]
  },
  {
   "cell_type": "code",
   "execution_count": 95,
   "id": "d8992e10-1043-4761-91f4-7c0d869d8978",
   "metadata": {},
   "outputs": [
    {
     "name": "stdin",
     "output_type": "stream",
     "text": [
      "Enter a number:  78\n"
     ]
    },
    {
     "name": "stdout",
     "output_type": "stream",
     "text": [
      "The number is positive.\n"
     ]
    }
   ],
   "source": [
    "number = float(input(\"Enter a number: \"))\n",
    "\n",
    "if number > 0:\n",
    "    print(\"The number is positive.\")\n",
    "elif number < 0:\n",
    "    print(\"The number is negative.\")\n",
    "else:\n",
    "    print(\"The number is zero.\")\n"
   ]
  },
  {
   "cell_type": "code",
   "execution_count": 96,
   "id": "8348425b-d250-41f0-a30b-90dff9c8c3ab",
   "metadata": {},
   "outputs": [],
   "source": [
    "#2. Create a program to determine if a person is eligible to vote based on their age."
   ]
  },
  {
   "cell_type": "code",
   "execution_count": 101,
   "id": "0f0b9baf-0f3f-46d5-9795-4292deb5c38c",
   "metadata": {},
   "outputs": [
    {
     "name": "stdin",
     "output_type": "stream",
     "text": [
      "Enter your age:  30\n"
     ]
    },
    {
     "name": "stdout",
     "output_type": "stream",
     "text": [
      "You are eligible to vote.\n"
     ]
    }
   ],
   "source": [
    "age = int(input(\"Enter your age: \"))\n",
    "\n",
    "if age >= 18:\n",
    "    print(\"You are eligible to vote.\")\n",
    "else:\n",
    "    print(\"You are not eligible to vote.\")\n"
   ]
  },
  {
   "cell_type": "code",
   "execution_count": 97,
   "id": "5fb9e321-1819-4e08-8d6f-a95707bae179",
   "metadata": {},
   "outputs": [],
   "source": [
    "#3. Write a program to find the maximum of two given numbers using conditional statements."
   ]
  },
  {
   "cell_type": "code",
   "execution_count": 102,
   "id": "09b4738c-fb32-4cb3-84e1-4e89f6da5337",
   "metadata": {},
   "outputs": [
    {
     "name": "stdin",
     "output_type": "stream",
     "text": [
      "Enter the first number:  78\n",
      "Enter the second number:  98\n"
     ]
    },
    {
     "name": "stdout",
     "output_type": "stream",
     "text": [
      "The maximum number is: 98.0\n"
     ]
    }
   ],
   "source": [
    "num1 = float(input(\"Enter the first number: \"))\n",
    "num2 = float(input(\"Enter the second number: \"))\n",
    "\n",
    "if num1 > num2:\n",
    "    max_num = num1\n",
    "else:\n",
    "    max_num = num2\n",
    "\n",
    "print(\"The maximum number is:\", max_num)\n"
   ]
  },
  {
   "cell_type": "code",
   "execution_count": 98,
   "id": "ceb75d96-d959-4255-b637-eb5be3920cab",
   "metadata": {},
   "outputs": [],
   "source": [
    "#4. Develop a program that calculates the grade of a student based on their exam score."
   ]
  },
  {
   "cell_type": "code",
   "execution_count": 107,
   "id": "378d6b0a-26f2-463f-b194-cc4c72b71d21",
   "metadata": {},
   "outputs": [
    {
     "name": "stdin",
     "output_type": "stream",
     "text": [
      "Enter the exam score:  65\n"
     ]
    },
    {
     "name": "stdout",
     "output_type": "stream",
     "text": [
      "The grade for the exam score 65.0 is: D\n"
     ]
    }
   ],
   "source": [
    "score = float(input(\"Enter the exam score: \"))\n",
    "\n",
    "A_score = 90\n",
    "B_score = 80\n",
    "C_score = 70\n",
    "D_score = 60\n",
    "\n",
    "if score >= A_score:\n",
    "    grade = \"A\"\n",
    "elif score >= B_score:\n",
    "    grade = \"B\"\n",
    "elif score >= C_score:\n",
    "    grade = \"C\"\n",
    "elif score >= D_score:\n",
    "    grade = \"D\"\n",
    "else:\n",
    "    grade = \"F\"\n",
    "\n",
    "print(\"The grade for the exam score\", score, \"is:\", grade)\n"
   ]
  },
  {
   "cell_type": "code",
   "execution_count": null,
   "id": "653b6472-901e-4052-a4e1-6d6b27610c60",
   "metadata": {},
   "outputs": [],
   "source": [
    "#5. Create a program that checks if a year is a leap year or not."
   ]
  },
  {
   "cell_type": "code",
   "execution_count": 108,
   "id": "f6d6bbd6-f147-490b-89d6-8166c9721404",
   "metadata": {},
   "outputs": [
    {
     "name": "stdin",
     "output_type": "stream",
     "text": [
      "Enter a year:  2024\n"
     ]
    },
    {
     "name": "stdout",
     "output_type": "stream",
     "text": [
      "2024 is a leap year.\n"
     ]
    }
   ],
   "source": [
    "year = int(input(\"Enter a year: \"))\n",
    "\n",
    "if (year % 4 == 0 and year % 100 != 0) or (year % 400 == 0):\n",
    "    print(year, \"is a leap year.\")\n",
    "else:\n",
    "    print(year, \"is not a leap year.\")\n"
   ]
  },
  {
   "cell_type": "code",
   "execution_count": 100,
   "id": "461cffc5-7701-4f43-aaaf-c73cb9d3587d",
   "metadata": {},
   "outputs": [],
   "source": [
    "#6. Write a program to classify a triangle based on its sides' lengths."
   ]
  },
  {
   "cell_type": "code",
   "execution_count": 109,
   "id": "f2f6d85b-2eb5-4960-a1b0-c94860fdb293",
   "metadata": {},
   "outputs": [
    {
     "name": "stdin",
     "output_type": "stream",
     "text": [
      "Enter the length of the first side:  4\n",
      "Enter the length of the second side:  4\n",
      "Enter the length of the third side:  4\n"
     ]
    },
    {
     "name": "stdout",
     "output_type": "stream",
     "text": [
      "The triangle with side lengths 4.0, 4.0, and 4.0 is a Equilateral triangle.\n"
     ]
    }
   ],
   "source": [
    "side1 = float(input(\"Enter the length of the first side: \"))\n",
    "side2 = float(input(\"Enter the length of the second side: \"))\n",
    "side3 = float(input(\"Enter the length of the third side: \"))\n",
    "\n",
    "if side1 == side2 == side3:\n",
    "    triangle_type = \"Equilateral\"\n",
    "elif side1 == side2 or side2 == side3 or side1 == side3:\n",
    "    triangle_type = \"Isosceles\"\n",
    "else:\n",
    "    triangle_type = \"Scalene\"\n",
    "\n",
    "print(f\"The triangle with side lengths {side1}, {side2}, and {side3} is a {triangle_type} triangle.\")\n"
   ]
  },
  {
   "cell_type": "code",
   "execution_count": 103,
   "id": "7775d6b5-9a20-4a2f-afd6-f2835e24951e",
   "metadata": {},
   "outputs": [],
   "source": [
    "#7. Build a program that determines the largest of three given numbers."
   ]
  },
  {
   "cell_type": "code",
   "execution_count": 110,
   "id": "2b293833-4f42-4502-ad89-9dde372d41be",
   "metadata": {},
   "outputs": [
    {
     "name": "stdin",
     "output_type": "stream",
     "text": [
      "Enter the first number:  7.8\n",
      "Enter the second number:  23.3\n",
      "Enter the third number:  4.8\n"
     ]
    },
    {
     "name": "stdout",
     "output_type": "stream",
     "text": [
      "The largest number among 7.8 , 23.3 , and 4.8 is: 23.3\n"
     ]
    }
   ],
   "source": [
    "num1 = float(input(\"Enter the first number: \"))\n",
    "num2 = float(input(\"Enter the second number: \"))\n",
    "num3 = float(input(\"Enter the third number: \"))\n",
    "\n",
    "if num1 >= num2 and num1 >= num3:\n",
    "    largest = num1\n",
    "elif num2 >= num1 and num2 >= num3:\n",
    "    largest = num2\n",
    "else:\n",
    "    largest = num3\n",
    "\n",
    "print(\"The largest number among\", num1, \",\", num2, \", and\", num3, \"is:\", largest)\n"
   ]
  },
  {
   "cell_type": "code",
   "execution_count": 104,
   "id": "26fd8b0e-feb0-4d0e-aac6-fe2d529ac3b8",
   "metadata": {},
   "outputs": [],
   "source": [
    "#8. Develop a program that checks whether a character is a vowel or a consonant."
   ]
  },
  {
   "cell_type": "code",
   "execution_count": 113,
   "id": "7bc23af4-aa87-4bc9-96e6-8b28c6d8ae5e",
   "metadata": {},
   "outputs": [
    {
     "name": "stdin",
     "output_type": "stream",
     "text": [
      "Enter a character:  r\n"
     ]
    },
    {
     "name": "stdout",
     "output_type": "stream",
     "text": [
      "The character 'r' is a consonant.\n"
     ]
    }
   ],
   "source": [
    "char = input(\"Enter a character: \").lower() \n",
    "\n",
    "\n",
    "if len(char) == 1 and char.isalpha():\n",
    "    if char in ['a', 'e', 'i', 'o', 'u']:\n",
    "        print(f\"The character '{char}' is a vowel.\")\n",
    "    else:\n",
    "        print(f\"The character '{char}' is a consonant.\")\n",
    "else:\n",
    "    print(\"Invalid input. Please enter a single letter character.\")\n",
    "\n"
   ]
  },
  {
   "cell_type": "code",
   "execution_count": 114,
   "id": "10985655-6144-4273-87d9-e9b70988d0ac",
   "metadata": {},
   "outputs": [
    {
     "name": "stdin",
     "output_type": "stream",
     "text": [
      "Enter a character:  i\n"
     ]
    },
    {
     "name": "stdout",
     "output_type": "stream",
     "text": [
      "The character 'i' is a vowel.\n"
     ]
    }
   ],
   "source": [
    "char = input(\"Enter a character: \").lower() \n",
    "\n",
    "\n",
    "if len(char) == 1 and char.isalpha():\n",
    "    if char in ['a', 'e', 'i', 'o', 'u']:\n",
    "        print(f\"The character '{char}' is a vowel.\")\n",
    "    else:\n",
    "        print(f\"The character '{char}' is a consonant.\")\n",
    "else:\n",
    "    print(\"Invalid input. Please enter a single letter character.\")\n",
    "\n",
    "\n"
   ]
  },
  {
   "cell_type": "code",
   "execution_count": 105,
   "id": "a3b69c0b-83c5-4eb9-add4-4866c5609959",
   "metadata": {},
   "outputs": [],
   "source": [
    "#9. Create a program to calculate the total cost of a shopping cart based on discounts."
   ]
  },
  {
   "cell_type": "code",
   "execution_count": 116,
   "id": "415f4f08-12bf-43ba-9ff3-53bb40e39fd9",
   "metadata": {},
   "outputs": [
    {
     "name": "stdout",
     "output_type": "stream",
     "text": [
      "Shopping Cart:\n",
      "item1: $10.00\n",
      "item2: $15.00\n",
      "item3: $8.00\n",
      "Total Cost: $33.00\n"
     ]
    }
   ],
   "source": [
    "cart = {\n",
    "    \"item1\": 10.0,\n",
    "    \"item2\": 15.0,\n",
    "    \"item3\": 8.0,\n",
    "}\n",
    "\n",
    "discount_threshold = 50.0  \n",
    "discount_rate = 0.1  \n",
    "\n",
    "total_cost = sum(cart.values())\n",
    "\n",
    "if total_cost > discount_threshold:\n",
    "    discount = total_cost * discount_rate\n",
    "    total_cost -= discount\n",
    "\n",
    "print(\"Shopping Cart:\")\n",
    "for item, price in cart.items():\n",
    "    print(f\"{item}: ${price:.2f}\")\n",
    "print(f\"Total Cost: ${total_cost:.2f}\")\n"
   ]
  },
  {
   "cell_type": "code",
   "execution_count": 106,
   "id": "1217e7ba-a79a-4ba6-856e-548df3f9e7db",
   "metadata": {},
   "outputs": [],
   "source": [
    "#10. Write a program that checks if a given number is even or odd."
   ]
  },
  {
   "cell_type": "code",
   "execution_count": 117,
   "id": "d76b058d-8993-4220-98e7-048bf2d8f5e8",
   "metadata": {},
   "outputs": [
    {
     "name": "stdin",
     "output_type": "stream",
     "text": [
      "Enter a number:  5\n"
     ]
    },
    {
     "name": "stdout",
     "output_type": "stream",
     "text": [
      "5 is an odd number.\n"
     ]
    }
   ],
   "source": [
    "number = int(input(\"Enter a number: \"))\n",
    "\n",
    "if number % 2 == 0:\n",
    "    print(f\"{number} is an even number.\")\n",
    "else:\n",
    "    print(f\"{number} is an odd number.\")\n"
   ]
  },
  {
   "cell_type": "code",
   "execution_count": 119,
   "id": "bdb26408-ab96-4900-8dc1-f961c62607ef",
   "metadata": {},
   "outputs": [
    {
     "name": "stdin",
     "output_type": "stream",
     "text": [
      "Enter a number:  6\n"
     ]
    },
    {
     "name": "stdout",
     "output_type": "stream",
     "text": [
      "6 is an even number.\n"
     ]
    }
   ],
   "source": [
    "number = int(input(\"Enter a number: \"))\n",
    "\n",
    "if number % 2 == 0:\n",
    "    print(f\"{number} is an even number.\")\n",
    "else:\n",
    "    print(f\"{number} is an odd number.\")\n"
   ]
  },
  {
   "cell_type": "markdown",
   "id": "c4eaa314-d28d-4a86-823b-9de27d33e60a",
   "metadata": {},
   "source": [
    "Intermediate Level:"
   ]
  },
  {
   "cell_type": "code",
   "execution_count": 120,
   "id": "c38e8e1d-9666-4359-80a1-3adad4ef4f4b",
   "metadata": {},
   "outputs": [],
   "source": [
    "#11. Write a program that calculates the roots of a quadratic equation ."
   ]
  },
  {
   "cell_type": "code",
   "execution_count": 130,
   "id": "e2bc1f2c-dc59-4942-b313-29ce5c643f09",
   "metadata": {},
   "outputs": [
    {
     "name": "stdin",
     "output_type": "stream",
     "text": [
      "Enter the coefficient 'a':  2\n",
      "Enter the coefficient 'b':  2\n",
      "Enter the coefficient 'c':  2\n"
     ]
    },
    {
     "name": "stdout",
     "output_type": "stream",
     "text": [
      "The roots are complex: -0.5 + 0.8660254037844386i and -0.5 - 0.8660254037844386i\n"
     ]
    }
   ],
   "source": [
    "import math\n",
    "\n",
    "a = float(input(\"Enter the coefficient 'a': \"))\n",
    "b = float(input(\"Enter the coefficient 'b': \"))\n",
    "c = float(input(\"Enter the coefficient 'c': \"))\n",
    "\n",
    "discriminant = b**2 - 4*a*c\n",
    "\n",
    "if discriminant > 0:\n",
    "    root1 = (-b + math.sqrt(discriminant)) / (2*a)\n",
    "    root2 = (-b - math.sqrt(discriminant)) / (2*a)\n",
    "    print(f\"The roots are real and distinct: {root1} and {root2}\")\n",
    "elif discriminant == 0:\n",
    "    root1 = -b / (2*a)\n",
    "    print(f\"The root is real and equal: {root1}\")\n",
    "else:\n",
    "    real_part = -b / (2*a)\n",
    "    imaginary_part = math.sqrt(abs(discriminant)) / (2*a)\n",
    "    print(f\"The roots are complex: {real_part} + {imaginary_part}i and {real_part} - {imaginary_part}i\")\n"
   ]
  },
  {
   "cell_type": "code",
   "execution_count": 121,
   "id": "ac20af40-3a02-4571-9023-112ae20626fe",
   "metadata": {},
   "outputs": [],
   "source": [
    "#12. Create a program that determines the day of the week based on the day number (1-7)."
   ]
  },
  {
   "cell_type": "code",
   "execution_count": 131,
   "id": "ad777543-e272-4783-a061-1851e3ff05e3",
   "metadata": {},
   "outputs": [
    {
     "name": "stdin",
     "output_type": "stream",
     "text": [
      "Enter the day number (1-7):  4\n"
     ]
    },
    {
     "name": "stdout",
     "output_type": "stream",
     "text": [
      "The day number 4 corresponds to Wednesday.\n"
     ]
    }
   ],
   "source": [
    "day_number = int(input(\"Enter the day number (1-7): \"))\n",
    "\n",
    "if day_number == 1:\n",
    "    day_name = \"Sunday\"\n",
    "elif day_number == 2:\n",
    "    day_name = \"Monday\"\n",
    "elif day_number == 3:\n",
    "    day_name = \"Tuesday\"\n",
    "elif day_number == 4:\n",
    "    day_name = \"Wednesday\"\n",
    "elif day_number == 5:\n",
    "    day_name = \"Thursday\"\n",
    "elif day_number == 6:\n",
    "    day_name = \"Friday\"\n",
    "elif day_number == 7:\n",
    "    day_name = \"Saturday\"\n",
    "else:\n",
    "    day_name = \"Invalid day number\"\n",
    "\n",
    "if day_name != \"Invalid day number\":\n",
    "    print(f\"The day number {day_number} corresponds to {day_name}.\")\n",
    "else:\n",
    "    print(\"Invalid input. Please enter a day number between 1 and 7.\")\n"
   ]
  },
  {
   "cell_type": "code",
   "execution_count": 122,
   "id": "11f67cc6-905e-4c04-9fc7-a15c7fe233ac",
   "metadata": {},
   "outputs": [],
   "source": [
    "#13. Develop a program that calculates the factorial of a given number using recursion."
   ]
  },
  {
   "cell_type": "code",
   "execution_count": 133,
   "id": "675d678e-4c8a-485a-a2e1-c95825ce097f",
   "metadata": {},
   "outputs": [
    {
     "name": "stdin",
     "output_type": "stream",
     "text": [
      "Enter a number to calculate its factorial:  3\n"
     ]
    },
    {
     "name": "stdout",
     "output_type": "stream",
     "text": [
      "The factorial of 3 is 6.\n"
     ]
    }
   ],
   "source": [
    "def factorial(n):\n",
    "    if n == 0:\n",
    "        return 1\n",
    "    else:\n",
    "        return n * factorial(n - 1)\n",
    "\n",
    "num = int(input(\"Enter a number to calculate its factorial: \"))\n",
    "\n",
    "if num < 0:\n",
    "    print(\"Factorial is not defined for negative numbers.\")\n",
    "else:\n",
    "    result = factorial(num)\n",
    "    print(f\"The factorial of {num} is {result}.\")\n"
   ]
  },
  {
   "cell_type": "code",
   "execution_count": 123,
   "id": "820d83f1-9f5d-409e-8d08-53b0918acf2c",
   "metadata": {},
   "outputs": [],
   "source": [
    "#14. Write a program to find the largest among three numbers without using the `max()` function."
   ]
  },
  {
   "cell_type": "code",
   "execution_count": 134,
   "id": "0f93566c-581c-48e3-9941-9ce28418dfac",
   "metadata": {},
   "outputs": [
    {
     "name": "stdin",
     "output_type": "stream",
     "text": [
      "Enter the first number:  7\n",
      "Enter the second number:  2.5\n",
      "Enter the third number:  24\n"
     ]
    },
    {
     "name": "stdout",
     "output_type": "stream",
     "text": [
      "The largest number among 7.0, 2.5, and 24.0 is 24.0.\n"
     ]
    }
   ],
   "source": [
    "num1 = float(input(\"Enter the first number: \"))\n",
    "num2 = float(input(\"Enter the second number: \"))\n",
    "num3 = float(input(\"Enter the third number: \"))\n",
    "\n",
    "largest = num1\n",
    "\n",
    "if num2 > largest:\n",
    "    largest = num2\n",
    "\n",
    "if num3 > largest:\n",
    "    largest = num3\n",
    "\n",
    "print(f\"The largest number among {num1}, {num2}, and {num3} is {largest}.\")\n"
   ]
  },
  {
   "cell_type": "code",
   "execution_count": 124,
   "id": "f8156093-8d8e-474b-a618-e61da845c780",
   "metadata": {},
   "outputs": [],
   "source": [
    "#15. Create a program that simulates a basic ATM transaction menu."
   ]
  },
  {
   "cell_type": "code",
   "execution_count": 140,
   "id": "1fea1a7a-9570-4bc0-b264-a939d703270c",
   "metadata": {},
   "outputs": [
    {
     "name": "stdout",
     "output_type": "stream",
     "text": [
      "\n",
      "ATM Menu:\n",
      "1. Display Balance\n",
      "2. Deposit Money\n",
      "3. Withdraw Money\n",
      "4. Quit\n"
     ]
    },
    {
     "name": "stdin",
     "output_type": "stream",
     "text": [
      "Enter your choice (1/2/3/4):  1\n"
     ]
    },
    {
     "name": "stdout",
     "output_type": "stream",
     "text": [
      "Your account balance is: $1000.00\n",
      "\n",
      "ATM Menu:\n",
      "1. Display Balance\n",
      "2. Deposit Money\n",
      "3. Withdraw Money\n",
      "4. Quit\n"
     ]
    },
    {
     "name": "stdin",
     "output_type": "stream",
     "text": [
      "Enter your choice (1/2/3/4):  2\n",
      "Enter the deposit amount: $ 29\n"
     ]
    },
    {
     "name": "stdout",
     "output_type": "stream",
     "text": [
      "Deposited $29.00 successfully.\n",
      "\n",
      "ATM Menu:\n",
      "1. Display Balance\n",
      "2. Deposit Money\n",
      "3. Withdraw Money\n",
      "4. Quit\n"
     ]
    },
    {
     "name": "stdin",
     "output_type": "stream",
     "text": [
      "Enter your choice (1/2/3/4):  1\n"
     ]
    },
    {
     "name": "stdout",
     "output_type": "stream",
     "text": [
      "Your account balance is: $1029.00\n",
      "\n",
      "ATM Menu:\n",
      "1. Display Balance\n",
      "2. Deposit Money\n",
      "3. Withdraw Money\n",
      "4. Quit\n"
     ]
    },
    {
     "name": "stdin",
     "output_type": "stream",
     "text": [
      "Enter your choice (1/2/3/4):  3\n",
      "Enter the withdrawal amount: $ 1000\n"
     ]
    },
    {
     "name": "stdout",
     "output_type": "stream",
     "text": [
      "Withdrew $1000.00 successfully.\n",
      "\n",
      "ATM Menu:\n",
      "1. Display Balance\n",
      "2. Deposit Money\n",
      "3. Withdraw Money\n",
      "4. Quit\n"
     ]
    },
    {
     "name": "stdin",
     "output_type": "stream",
     "text": [
      "Enter your choice (1/2/3/4):  1\n"
     ]
    },
    {
     "name": "stdout",
     "output_type": "stream",
     "text": [
      "Your account balance is: $29.00\n",
      "\n",
      "ATM Menu:\n",
      "1. Display Balance\n",
      "2. Deposit Money\n",
      "3. Withdraw Money\n",
      "4. Quit\n"
     ]
    },
    {
     "name": "stdin",
     "output_type": "stream",
     "text": [
      "Enter your choice (1/2/3/4):  4\n"
     ]
    },
    {
     "name": "stdout",
     "output_type": "stream",
     "text": [
      "Thank you for using the ATM. Goodbye!\n"
     ]
    }
   ],
   "source": [
    "account_balance = 1000.0\n",
    "\n",
    "def display_balance():\n",
    "    print(f\"Your account balance is: ${account_balance:.2f}\")\n",
    "\n",
    "def deposit():\n",
    "    global account_balance\n",
    "    amount = float(input(\"Enter the deposit amount: $\"))\n",
    "    if amount > 0:\n",
    "        account_balance += amount\n",
    "        print(f\"Deposited ${amount:.2f} successfully.\")\n",
    "    else:\n",
    "        print(\"Invalid deposit amount. Please enter a positive amount.\")\n",
    "\n",
    "def withdraw():\n",
    "    global account_balance\n",
    "    amount = float(input(\"Enter the withdrawal amount: $\"))\n",
    "    if 0 < amount <= account_balance:\n",
    "        account_balance -= amount\n",
    "        print(f\"Withdrew ${amount:.2f} successfully.\")\n",
    "    elif amount > account_balance:\n",
    "        print(\"Insufficient funds. Withdrawal canceled.\")\n",
    "    else:\n",
    "        print(\"Invalid withdrawal amount. Please enter a positive amount.\")\n",
    "\n",
    "while True:\n",
    "    print(\"\\nATM Menu:\")\n",
    "    print(\"1. Display Balance\")\n",
    "    print(\"2. Deposit Money\")\n",
    "    print(\"3. Withdraw Money\")\n",
    "    print(\"4. Quit\")\n",
    "\n",
    "    choice = input(\"Enter your choice (1/2/3/4): \")\n",
    "\n",
    "    if choice == '1':\n",
    "        display_balance()\n",
    "    elif choice == '2':\n",
    "        deposit()\n",
    "    elif choice == '3':\n",
    "        withdraw()\n",
    "    elif choice == '4':\n",
    "        print(\"Thank you for using the ATM. Goodbye!\")\n",
    "        break\n",
    "    else:\n",
    "        print(\"Invalid choice. Please select a valid option (1/2/3/4).\")\n"
   ]
  },
  {
   "cell_type": "code",
   "execution_count": 125,
   "id": "242588a3-e115-4d64-8baa-09d96c1cbae4",
   "metadata": {},
   "outputs": [],
   "source": [
    "#16. Build a program that checks if a given string is a palindrome or not. "
   ]
  },
  {
   "cell_type": "code",
   "execution_count": 141,
   "id": "9856047b-ed03-4534-a28d-6045333a6d5d",
   "metadata": {},
   "outputs": [
    {
     "name": "stdin",
     "output_type": "stream",
     "text": [
      "Enter a string:  pw skill data science master calss\n"
     ]
    },
    {
     "name": "stdout",
     "output_type": "stream",
     "text": [
      "'pw skill data science master calss' is not a palindrome.\n"
     ]
    }
   ],
   "source": [
    "input_string = input(\"Enter a string: \")\n",
    "\n",
    "cleaned_string = input_string.replace(\" \", \"\").lower()\n",
    "\n",
    "if cleaned_string == cleaned_string[::-1]:\n",
    "    print(f\"'{input_string}' is a palindrome.\")\n",
    "else:\n",
    "    print(f\"'{input_string}' is not a palindrome.\")\n"
   ]
  },
  {
   "cell_type": "code",
   "execution_count": 126,
   "id": "d1dc646d-017f-4e77-ac2d-75a2d3d404cb",
   "metadata": {},
   "outputs": [],
   "source": [
    "#17. Write a program that calculates the average of a list of numbers, excluding the smallest and largest values."
   ]
  },
  {
   "cell_type": "code",
   "execution_count": 143,
   "id": "5275dcd1-ac8a-4609-a1ae-8e414a1fd01b",
   "metadata": {},
   "outputs": [
    {
     "name": "stdin",
     "output_type": "stream",
     "text": [
      "Enter a list of numbers separated by spaces:  2 34 43\n"
     ]
    },
    {
     "name": "stdout",
     "output_type": "stream",
     "text": [
      "The average of the numbers (excluding the smallest and largest) is: 34.00\n"
     ]
    }
   ],
   "source": [
    "numbers = input(\"Enter a list of numbers separated by spaces: \").split()\n",
    "\n",
    "numbers = [float(num) for num in numbers]\n",
    "\n",
    "if len(numbers) < 3:\n",
    "    print(\"Please enter at least 3 numbers to calculate the average.\")\n",
    "else:\n",
    "    numbers.sort()\n",
    "    numbers = numbers[1:-1]\n",
    "\n",
    "    average = sum(numbers) / len(numbers)\n",
    "\n",
    "    print(f\"The average of the numbers (excluding the smallest and largest) is: {average:.2f}\")\n"
   ]
  },
  {
   "cell_type": "code",
   "execution_count": 127,
   "id": "107d81d8-9c1c-4434-bced-5ef672ac0fb6",
   "metadata": {},
   "outputs": [],
   "source": [
    "#18. Develop a program that converts a given temperature from Celsius to Fahrenheit."
   ]
  },
  {
   "cell_type": "code",
   "execution_count": 145,
   "id": "61e0f5e1-9dba-4891-9a77-c1e3a972e420",
   "metadata": {},
   "outputs": [
    {
     "name": "stdin",
     "output_type": "stream",
     "text": [
      "Enter a list of numbers separated by spaces:  123 244 353\n"
     ]
    },
    {
     "name": "stdout",
     "output_type": "stream",
     "text": [
      "The average (excluding the smallest and largest) is: 244.00\n"
     ]
    }
   ],
   "source": [
    "input_numbers = input(\"Enter a list of numbers separated by spaces: \")\n",
    "\n",
    "number_strings = input_numbers.split()\n",
    "\n",
    "numbers = [float(num) for num in number_strings]\n",
    "\n",
    "if len(numbers) < 3:\n",
    "    print(\"Please enter at least 3 numbers to calculate the average.\")\n",
    "else:\n",
    "    numbers.remove(min(numbers))\n",
    "    numbers.remove(max(numbers))\n",
    "\n",
    "    average = sum(numbers) / len(numbers)\n",
    "\n",
    "    print(f\"The average (excluding the smallest and largest) is: {average:.2f}\")\n"
   ]
  },
  {
   "cell_type": "code",
   "execution_count": 128,
   "id": "e1932da3-0379-4d27-be75-aff0d74537f0",
   "metadata": {},
   "outputs": [],
   "source": [
    "#19. Create a program that simulates a basic calculator for addition, subtraction, multiplication, and division."
   ]
  },
  {
   "cell_type": "code",
   "execution_count": 147,
   "id": "c1262ed5-b46a-4eb9-a007-9d62b23b6909",
   "metadata": {},
   "outputs": [
    {
     "name": "stdout",
     "output_type": "stream",
     "text": [
      "\n",
      "Calculator Menu:\n",
      "1. Addition\n",
      "2. Subtraction\n",
      "3. Multiplication\n",
      "4. Division\n",
      "5. Quit\n"
     ]
    },
    {
     "name": "stdin",
     "output_type": "stream",
     "text": [
      "Enter your choice (1/2/3/4/5):  1\n",
      "Enter first number:  78.45\n",
      "Enter second number:  23.56\n"
     ]
    },
    {
     "name": "stdout",
     "output_type": "stream",
     "text": [
      "Result: 102.01\n",
      "\n",
      "Calculator Menu:\n",
      "1. Addition\n",
      "2. Subtraction\n",
      "3. Multiplication\n",
      "4. Division\n",
      "5. Quit\n"
     ]
    },
    {
     "name": "stdin",
     "output_type": "stream",
     "text": [
      "Enter your choice (1/2/3/4/5):  5\n"
     ]
    },
    {
     "name": "stdout",
     "output_type": "stream",
     "text": [
      "Thank you for using the calculator. Goodbye!\n"
     ]
    }
   ],
   "source": [
    "def add(x, y):\n",
    "    return x + y\n",
    "\n",
    "def subtract(x, y):\n",
    "    return x - y\n",
    "\n",
    "def multiply(x, y):\n",
    "    return x * y\n",
    "\n",
    "def divide(x, y):\n",
    "    if y == 0:\n",
    "        return \"Division by zero is not allowed.\"\n",
    "    return x / y\n",
    "\n",
    "while True:\n",
    "    print(\"\\nCalculator Menu:\")\n",
    "    print(\"1. Addition\")\n",
    "    print(\"2. Subtraction\")\n",
    "    print(\"3. Multiplication\")\n",
    "    print(\"4. Division\")\n",
    "    print(\"5. Quit\")\n",
    "\n",
    "    choice = input(\"Enter your choice (1/2/3/4/5): \")\n",
    "\n",
    "    if choice == '1':\n",
    "        num1 = float(input(\"Enter first number: \"))\n",
    "        num2 = float(input(\"Enter second number: \"))\n",
    "        result = add(num1, num2)\n",
    "        print(f\"Result: {result}\")\n",
    "    elif choice == '2':\n",
    "        num1 = float(input(\"Enter first number: \"))\n",
    "        num2 = float(input(\"Enter second number: \"))\n",
    "        result = subtract(num1, num2)\n",
    "        print(f\"Result: {result}\")\n",
    "    elif choice == '3':\n",
    "        num1 = float(input(\"Enter first number: \"))\n",
    "        num2 = float(input(\"Enter second number: \"))\n",
    "        result = multiply(num1, num2)\n",
    "        print(f\"Result: {result}\")\n",
    "    elif choice == '4':\n",
    "        num1 = float(input(\"Enter dividend: \"))\n",
    "        num2 = float(input(\"Enter divisor: \"))\n",
    "        result = divide(num1, num2)\n",
    "        print(f\"Result: {result}\")\n",
    "    elif choice == '5':\n",
    "        print(\"Thank you for using the calculator. Goodbye!\")\n",
    "        break\n",
    "    else:\n",
    "        print(\"Invalid choice. Please select a valid option (1/2/3/4/5).\")\n"
   ]
  },
  {
   "cell_type": "code",
   "execution_count": 129,
   "id": "ddfa80d3-de4e-4487-9558-0d0dca7a12ad",
   "metadata": {},
   "outputs": [],
   "source": [
    "#20. Write a program that determines the roots of a cubic equation using the Cardano formula."
   ]
  },
  {
   "cell_type": "code",
   "execution_count": 148,
   "id": "2e23b751-945b-4a0e-b756-ca8e14d434a3",
   "metadata": {},
   "outputs": [
    {
     "name": "stdin",
     "output_type": "stream",
     "text": [
      "Enter the coefficient of x^3:  7\n",
      "Enter the coefficient of x^2:  8\n",
      "Enter the coefficient of x:  8\n",
      "Enter the constant term:  0\n"
     ]
    },
    {
     "name": "stdout",
     "output_type": "stream",
     "text": [
      "Roots of the cubic equation:\n",
      "Root 1: 0.496747+0.286797j\n"
     ]
    }
   ],
   "source": [
    "import math\n",
    "\n",
    "def solve_cubic(a, b, c, d):\n",
    "    p = (3 * a * c - b ** 2) / (3 * a ** 2)\n",
    "    q = (2 * b ** 3 - 9 * a * b * c + 27 * a ** 2 * d) / (27 * a ** 3)\n",
    "    delta = q ** 2 / 4 + p ** 3 / 27\n",
    "\n",
    "    if delta > 0:\n",
    "        u = (-q / 2 + math.sqrt(delta)) ** (1 / 3)\n",
    "        v = (-q / 2 - math.sqrt(delta)) ** (1 / 3)\n",
    "        root1 = u + v - b / (3 * a)\n",
    "        return [root1]\n",
    "    elif delta == 0:\n",
    "        if q >= 0:\n",
    "            root1 = -(q / 2) ** (1 / 3) - b / (3 * a)\n",
    "            root2 = 2 * (q / 2) ** (1 / 3) - b / (3 * a)\n",
    "            return [root1, root2]\n",
    "        else:\n",
    "            root1 = 2 * (-q / 2) ** (1 / 3) - b / (3 * a)\n",
    "            root2 = -(q / 2) ** (1 / 3) - b / (3 * a)\n",
    "            return [root1, root2]\n",
    "    else:\n",
    "        rho = (-q / 2) ** (1 / 3)\n",
    "        theta = math.acos(math.sqrt(-27 * p ** 3) / (2 * q ** 1.5))\n",
    "        root1 = 2 * math.sqrt(-p / 3) * math.cos(theta / 3) - b / (3 * a)\n",
    "        root2 = 2 * math.sqrt(-p / 3) * math.cos((theta + 2 * math.pi) / 3) - b / (3 * a)\n",
    "        root3 = 2 * math.sqrt(-p / 3) * math.cos((theta + 4 * math.pi) / 3) - b / (3 * a)\n",
    "        return [root1, root2, root3]\n",
    "\n",
    "a = float(input(\"Enter the coefficient of x^3: \"))\n",
    "b = float(input(\"Enter the coefficient of x^2: \"))\n",
    "c = float(input(\"Enter the coefficient of x: \"))\n",
    "d = float(input(\"Enter the constant term: \"))\n",
    "\n",
    "roots = solve_cubic(a, b, c, d)\n",
    "\n",
    "print(\"Roots of the cubic equation:\")\n",
    "for i, root in enumerate(roots):\n",
    "    print(f\"Root {i + 1}: {root:.6f}\")\n"
   ]
  },
  {
   "cell_type": "code",
   "execution_count": null,
   "id": "4384fb29-2a20-49fa-b753-3fd2fd848d96",
   "metadata": {},
   "outputs": [],
   "source": []
  },
  {
   "cell_type": "markdown",
   "id": "7ac25873-e0f6-49e2-8c62-5dfd0c1d63bd",
   "metadata": {},
   "source": [
    "Advanced Level:"
   ]
  },
  {
   "cell_type": "code",
   "execution_count": 149,
   "id": "05d2be41-3214-46fd-bacd-7993ef9bf35e",
   "metadata": {},
   "outputs": [],
   "source": [
    "#21. Create a program that calculates the income tax based on the user's income and tax brackets."
   ]
  },
  {
   "cell_type": "code",
   "execution_count": 162,
   "id": "ea79d159-5e9a-4e17-946d-46fdf7301539",
   "metadata": {},
   "outputs": [
    {
     "name": "stdin",
     "output_type": "stream",
     "text": [
      "Enter your income:  60000\n"
     ]
    },
    {
     "name": "stdout",
     "output_type": "stream",
     "text": [
      "Your income tax is: RS12999.50\n"
     ]
    }
   ],
   "source": [
    "tax_brackets = [(0, 10000), (10001, 40000), (40001, 80000), (80001, float('inf'))]\n",
    "tax_rates = [0.1, 0.2, 0.3, 0.4]\n",
    "\n",
    "income = float(input(\"Enter your income: \"))\n",
    "\n",
    "total_tax = 0\n",
    "\n",
    "for i, (lower, upper) in enumerate(tax_brackets):\n",
    "    if income <= lower:\n",
    "        break\n",
    "    elif income <= upper:\n",
    "        total_tax += (income - lower) * tax_rates[i]\n",
    "        break\n",
    "    else:\n",
    "        total_tax += (upper - lower) * tax_rates[i]\n",
    "\n",
    "print(f\"Your income tax is: RS{total_tax:.2f}\")\n"
   ]
  },
  {
   "cell_type": "code",
   "execution_count": 150,
   "id": "ad0e122b-9817-467a-ba3c-1350b1e1a958",
   "metadata": {},
   "outputs": [],
   "source": [
    "#22. Write a program that simulates a rock-paper-scissors game against the computer."
   ]
  },
  {
   "cell_type": "code",
   "execution_count": 1,
   "id": "04a1cbd4-566c-443e-ae8d-158f472c308c",
   "metadata": {},
   "outputs": [
    {
     "name": "stdout",
     "output_type": "stream",
     "text": [
      "Choose one: rock, paper, or scissors\n"
     ]
    },
    {
     "name": "stdin",
     "output_type": "stream",
     "text": [
      " rock\n"
     ]
    },
    {
     "name": "stdout",
     "output_type": "stream",
     "text": [
      "You chose rock.\n",
      "The computer chose scissors.\n",
      "You win!\n"
     ]
    }
   ],
   "source": [
    "import random\n",
    "\n",
    "def get_user_choice():\n",
    "    print(\"Choose one: rock, paper, or scissors\")\n",
    "    user_choice = input().lower()\n",
    "    while user_choice not in [\"rock\", \"paper\", \"scissors\"]:\n",
    "        print(\"Invalid choice. Please choose rock, paper, or scissors.\")\n",
    "        user_choice = input().lower()\n",
    "    return user_choice\n",
    "\n",
    "def get_computer_choice():\n",
    "    choices = [\"rock\", \"paper\", \"scissors\"]\n",
    "    return random.choice(choices)\n",
    "\n",
    "def determine_winner(user_choice, computer_choice):\n",
    "    if user_choice == computer_choice:\n",
    "        return \"It's a tie!\"\n",
    "    elif (\n",
    "        (user_choice == \"rock\" and computer_choice == \"scissors\") or\n",
    "        (user_choice == \"paper\" and computer_choice == \"rock\") or\n",
    "        (user_choice == \"scissors\" and computer_choice == \"paper\")\n",
    "    ):\n",
    "        return \"You win!\"\n",
    "    else:\n",
    "        return \"Computer wins!\"\n",
    "\n",
    "def play_game():\n",
    "    user_choice = get_user_choice()\n",
    "    computer_choice = get_computer_choice()\n",
    "    print(f\"You chose {user_choice}.\")\n",
    "    print(f\"The computer chose {computer_choice}.\")\n",
    "    print(determine_winner(user_choice, computer_choice))\n",
    "\n",
    "play_game()\n"
   ]
  },
  {
   "cell_type": "code",
   "execution_count": 151,
   "id": "a0b7b16d-84e4-4b06-817b-af62c9d91de7",
   "metadata": {},
   "outputs": [],
   "source": [
    "#23. Develop a program that generates a random password based on user preferences (length, complexity)."
   ]
  },
  {
   "cell_type": "code",
   "execution_count": null,
   "id": "3c1262e1-5dca-4285-b68a-94727241ad62",
   "metadata": {},
   "outputs": [
    {
     "name": "stdout",
     "output_type": "stream",
     "text": [
      "Password Generator\n"
     ]
    },
    {
     "name": "stdin",
     "output_type": "stream",
     "text": [
      "Enter the desired length of the password:  897588457\n",
      "Include lowercase letters? (yes/no):  no\n",
      "Include uppercase letters? (yes/no):  no\n",
      "Include digits? (yes/no):  yes\n",
      "Include special characters? (yes/no):  no\n"
     ]
    }
   ],
   "source": [
    "import random\n",
    "import string\n",
    "\n",
    "def generate_password(length, use_lowercase, use_uppercase, use_digits, use_special_chars):\n",
    "    characters = \"\"\n",
    "    \n",
    "    if use_lowercase:\n",
    "        characters += string.ascii_lowercase\n",
    "    if use_uppercase:\n",
    "        characters += string.ascii_uppercase\n",
    "    if use_digits:\n",
    "        characters += string.digits\n",
    "    if use_special_chars:\n",
    "        characters += string.punctuation\n",
    "    \n",
    "    if not characters:\n",
    "        print(\"Please select at least one character type.\")\n",
    "        return\n",
    "    \n",
    "    password = ''.join(random.choice(characters) for _ in range(length))\n",
    "    return password\n",
    "\n",
    "def main():\n",
    "    print(\"Password Generator\")\n",
    "    length = int(input(\"Enter the desired length of the password: \"))\n",
    "    \n",
    "    use_lowercase = input(\"Include lowercase letters? (yes/no): \").lower() == \"yes\"\n",
    "    use_uppercase = input(\"Include uppercase letters? (yes/no): \").lower() == \"yes\"\n",
    "    use_digits = input(\"Include digits? (yes/no): \").lower() == \"yes\"\n",
    "    use_special_chars = input(\"Include special characters? (yes/no): \").lower() == \"yes\"\n",
    "    \n",
    "    password = generate_password(length, use_lowercase, use_uppercase, use_digits, use_special_chars)\n",
    "    \n",
    "    if password:\n",
    "        print(\"Generated Password:\", password)\n",
    "    else:\n",
    "        print(\"No character types selected. Password cannot be generated.\")\n",
    "\n",
    "if __name__ == \"__main__\":\n",
    "    main()\n"
   ]
  },
  {
   "cell_type": "code",
   "execution_count": 152,
   "id": "0afb6f9b-0493-4ade-89d3-2bf4f7a2eac8",
   "metadata": {},
   "outputs": [],
   "source": [
    "#24. Create a program that implements a simple text-based adventure game with branching scenarios."
   ]
  },
  {
   "cell_type": "code",
   "execution_count": 4,
   "id": "0945a481-bb8b-45f8-afce-606bb122b72c",
   "metadata": {},
   "outputs": [
    {
     "name": "stdout",
     "output_type": "stream",
     "text": [
      "Welcome to the Text Adventure Game!\n",
      "You find yourself in a dark forest.\n",
      "You can go left or right.\n"
     ]
    },
    {
     "name": "stdin",
     "output_type": "stream",
     "text": [
      "Do you want to go left or right? Type 'left' or 'right':  right\n"
     ]
    },
    {
     "name": "stdout",
     "output_type": "stream",
     "text": [
      "You chose to go right.\n",
      "You stumble upon a cave. Do you enter it or continue walking?\n"
     ]
    },
    {
     "name": "stdin",
     "output_type": "stream",
     "text": [
      "Type 'enter' or 'walk':  10\n"
     ]
    },
    {
     "name": "stdout",
     "output_type": "stream",
     "text": [
      "Invalid choice. Try again.\n",
      "You chose to go right.\n",
      "You stumble upon a cave. Do you enter it or continue walking?\n"
     ]
    },
    {
     "name": "stdin",
     "output_type": "stream",
     "text": [
      "Type 'enter' or 'walk':  \n"
     ]
    },
    {
     "name": "stdout",
     "output_type": "stream",
     "text": [
      "Invalid choice. Try again.\n",
      "You chose to go right.\n",
      "You stumble upon a cave. Do you enter it or continue walking?\n"
     ]
    },
    {
     "name": "stdin",
     "output_type": "stream",
     "text": [
      "Type 'enter' or 'walk':  walk\n"
     ]
    },
    {
     "name": "stdout",
     "output_type": "stream",
     "text": [
      "You continue walking and eventually find your way out of the forest.\n",
      "You have successfully escaped the forest. You win!\n"
     ]
    }
   ],
   "source": [
    "import time\n",
    "\n",
    "def intro():\n",
    "    print(\"Welcome to the Text Adventure Game!\")\n",
    "    time.sleep(1)\n",
    "    print(\"You find yourself in a dark forest.\")\n",
    "    time.sleep(1)\n",
    "    print(\"You can go left or right.\")\n",
    "    time.sleep(1)\n",
    "\n",
    "def left_path():\n",
    "    print(\"You chose to go left.\")\n",
    "    time.sleep(1)\n",
    "    print(\"You come across a river. Do you swim across or find a bridge?\")\n",
    "    choice = input(\"Type 'swim' or 'bridge': \").lower()\n",
    "    \n",
    "    if choice == \"swim\":\n",
    "        print(\"You swim across the river and reach the other side safely.\")\n",
    "        time.sleep(1)\n",
    "        print(\"You find a treasure chest. You win!\")\n",
    "    elif choice == \"bridge\":\n",
    "        print(\"You find a bridge and cross the river.\")\n",
    "        time.sleep(1)\n",
    "        print(\"You encounter a friendly group of forest creatures.\")\n",
    "        time.sleep(1)\n",
    "        print(\"They guide you out of the forest. You win!\")\n",
    "    else:\n",
    "        print(\"Invalid choice. Try again.\")\n",
    "        left_path()\n",
    "\n",
    "def right_path():\n",
    "    print(\"You chose to go right.\")\n",
    "    time.sleep(1)\n",
    "    print(\"You stumble upon a cave. Do you enter it or continue walking?\")\n",
    "    choice = input(\"Type 'enter' or 'walk': \").lower()\n",
    "    \n",
    "    if choice == \"enter\":\n",
    "        print(\"You enter the cave and find a sleeping dragon.\")\n",
    "        time.sleep(1)\n",
    "        print(\"The dragon wakes up and chases you away. You lose!\")\n",
    "    elif choice == \"walk\":\n",
    "        print(\"You continue walking and eventually find your way out of the forest.\")\n",
    "        time.sleep(1)\n",
    "        print(\"You have successfully escaped the forest. You win!\")\n",
    "    else:\n",
    "        print(\"Invalid choice. Try again.\")\n",
    "        right_path()\n",
    "\n",
    "def play_game():\n",
    "    intro()\n",
    "    choice = input(\"Do you want to go left or right? Type 'left' or 'right': \").lower()\n",
    "    \n",
    "    if choice == \"left\":\n",
    "        left_path()\n",
    "    elif choice == \"right\":\n",
    "        right_path()\n",
    "    else:\n",
    "        print(\"Invalid choice. Try again.\")\n",
    "        play_game()\n",
    "\n",
    "if __name__ == \"__main__\":\n",
    "    play_game()\n"
   ]
  },
  {
   "cell_type": "code",
   "execution_count": 153,
   "id": "1d1ddf03-8934-47bd-8eed-b70c02756801",
   "metadata": {},
   "outputs": [],
   "source": [
    "#25. Build a program that solves a linear equation for x, considering different cases."
   ]
  },
  {
   "cell_type": "code",
   "execution_count": 11,
   "id": "ed86140e-72b7-4f7a-b10e-8163e6402e72",
   "metadata": {},
   "outputs": [
    {
     "name": "stdout",
     "output_type": "stream",
     "text": [
      "Linear Equation Solver (ax + b = 0)\n"
     ]
    },
    {
     "name": "stdin",
     "output_type": "stream",
     "text": [
      "Enter the coefficient 'a':  2\n",
      "Enter the constant 'b':  2\n"
     ]
    },
    {
     "name": "stdout",
     "output_type": "stream",
     "text": [
      "\n",
      "Solution:\n",
      "The solution is x = -1.0\n"
     ]
    }
   ],
   "source": [
    "def solve_linear_equation(a, b):\n",
    "    if a == 0:\n",
    "        if b == 0:\n",
    "            return \"Infinite solutions (any x will work)\"\n",
    "        else:\n",
    "            return \"No solution (contradiction)\"\n",
    "    else:\n",
    "        x = -b / a\n",
    "        return f\"The solution is x = {x}\"\n",
    "\n",
    "def main():\n",
    "    print(\"Linear Equation Solver (ax + b = 0)\")\n",
    "    a = float(input(\"Enter the coefficient 'a': \"))\n",
    "    b = float(input(\"Enter the constant 'b': \"))\n",
    "    \n",
    "    solution = solve_linear_equation(a, b)\n",
    "    \n",
    "    print(\"\\nSolution:\")\n",
    "    print(solution)\n",
    "\n",
    "if __name__ == \"__main__\":\n",
    "    main()\n"
   ]
  },
  {
   "cell_type": "code",
   "execution_count": 154,
   "id": "6782fbe0-0cb7-4064-839b-932e752c3b5a",
   "metadata": {},
   "outputs": [],
   "source": [
    "#26. Write a program that simulates a basic quiz game with multiple-choice questions and scoring."
   ]
  },
  {
   "cell_type": "code",
   "execution_count": 2,
   "id": "535e60fe-29c5-449c-ab6b-a08aedf2120f",
   "metadata": {},
   "outputs": [
    {
     "name": "stdout",
     "output_type": "stream",
     "text": [
      "Welcome to the Quiz Game!\n",
      "What is the capital of France?\n",
      "1. London\n",
      "2. Berlin\n",
      "3. Paris\n",
      "4. Madrid\n"
     ]
    },
    {
     "name": "stdin",
     "output_type": "stream",
     "text": [
      "Enter the number of your answer:  Paris\n"
     ]
    },
    {
     "ename": "ValueError",
     "evalue": "invalid literal for int() with base 10: 'Paris'",
     "output_type": "error",
     "traceback": [
      "\u001b[0;31m---------------------------------------------------------------------------\u001b[0m",
      "\u001b[0;31mValueError\u001b[0m                                Traceback (most recent call last)",
      "Cell \u001b[0;32mIn[2], line 45\u001b[0m\n\u001b[1;32m     42\u001b[0m     quiz\u001b[38;5;241m.\u001b[39mrun()\n\u001b[1;32m     44\u001b[0m \u001b[38;5;28;01mif\u001b[39;00m \u001b[38;5;18m__name__\u001b[39m \u001b[38;5;241m==\u001b[39m \u001b[38;5;124m\"\u001b[39m\u001b[38;5;124m__main__\u001b[39m\u001b[38;5;124m\"\u001b[39m:\n\u001b[0;32m---> 45\u001b[0m     \u001b[43mmain\u001b[49m\u001b[43m(\u001b[49m\u001b[43m)\u001b[49m\n",
      "Cell \u001b[0;32mIn[2], line 42\u001b[0m, in \u001b[0;36mmain\u001b[0;34m()\u001b[0m\n\u001b[1;32m     35\u001b[0m questions \u001b[38;5;241m=\u001b[39m [\n\u001b[1;32m     36\u001b[0m     Question(\u001b[38;5;124m\"\u001b[39m\u001b[38;5;124mWhat is the capital of France?\u001b[39m\u001b[38;5;124m\"\u001b[39m, [\u001b[38;5;124m\"\u001b[39m\u001b[38;5;124mLondon\u001b[39m\u001b[38;5;124m\"\u001b[39m, \u001b[38;5;124m\"\u001b[39m\u001b[38;5;124mBerlin\u001b[39m\u001b[38;5;124m\"\u001b[39m, \u001b[38;5;124m\"\u001b[39m\u001b[38;5;124mParis\u001b[39m\u001b[38;5;124m\"\u001b[39m, \u001b[38;5;124m\"\u001b[39m\u001b[38;5;124mMadrid\u001b[39m\u001b[38;5;124m\"\u001b[39m], \u001b[38;5;241m2\u001b[39m),\n\u001b[1;32m     37\u001b[0m     Question(\u001b[38;5;124m\"\u001b[39m\u001b[38;5;124mWhich planet is known as the Red Planet?\u001b[39m\u001b[38;5;124m\"\u001b[39m, [\u001b[38;5;124m\"\u001b[39m\u001b[38;5;124mMars\u001b[39m\u001b[38;5;124m\"\u001b[39m, \u001b[38;5;124m\"\u001b[39m\u001b[38;5;124mVenus\u001b[39m\u001b[38;5;124m\"\u001b[39m, \u001b[38;5;124m\"\u001b[39m\u001b[38;5;124mEarth\u001b[39m\u001b[38;5;124m\"\u001b[39m, \u001b[38;5;124m\"\u001b[39m\u001b[38;5;124mJupiter\u001b[39m\u001b[38;5;124m\"\u001b[39m], \u001b[38;5;241m0\u001b[39m),\n\u001b[1;32m     38\u001b[0m     Question(\u001b[38;5;124m\"\u001b[39m\u001b[38;5;124mWhat is the largest mammal in the world?\u001b[39m\u001b[38;5;124m\"\u001b[39m, [\u001b[38;5;124m\"\u001b[39m\u001b[38;5;124mGiraffe\u001b[39m\u001b[38;5;124m\"\u001b[39m, \u001b[38;5;124m\"\u001b[39m\u001b[38;5;124mElephant\u001b[39m\u001b[38;5;124m\"\u001b[39m, \u001b[38;5;124m\"\u001b[39m\u001b[38;5;124mBlue Whale\u001b[39m\u001b[38;5;124m\"\u001b[39m, \u001b[38;5;124m\"\u001b[39m\u001b[38;5;124mHippopotamus\u001b[39m\u001b[38;5;124m\"\u001b[39m], \u001b[38;5;241m2\u001b[39m),\n\u001b[1;32m     39\u001b[0m ]\n\u001b[1;32m     41\u001b[0m quiz \u001b[38;5;241m=\u001b[39m Quiz(questions)\n\u001b[0;32m---> 42\u001b[0m \u001b[43mquiz\u001b[49m\u001b[38;5;241;43m.\u001b[39;49m\u001b[43mrun\u001b[49m\u001b[43m(\u001b[49m\u001b[43m)\u001b[49m\n",
      "Cell \u001b[0;32mIn[2], line 25\u001b[0m, in \u001b[0;36mQuiz.run\u001b[0;34m(self)\u001b[0m\n\u001b[1;32m     23\u001b[0m \u001b[38;5;28mprint\u001b[39m(\u001b[38;5;124m\"\u001b[39m\u001b[38;5;124mWelcome to the Quiz Game!\u001b[39m\u001b[38;5;124m\"\u001b[39m)\n\u001b[1;32m     24\u001b[0m \u001b[38;5;28;01mfor\u001b[39;00m question \u001b[38;5;129;01min\u001b[39;00m \u001b[38;5;28mself\u001b[39m\u001b[38;5;241m.\u001b[39mquestions:\n\u001b[0;32m---> 25\u001b[0m     user_answer \u001b[38;5;241m=\u001b[39m \u001b[38;5;28;43mself\u001b[39;49m\u001b[38;5;241;43m.\u001b[39;49m\u001b[43mdisplay_question\u001b[49m\u001b[43m(\u001b[49m\u001b[43mquestion\u001b[49m\u001b[43m)\u001b[49m\n\u001b[1;32m     26\u001b[0m     \u001b[38;5;28;01mif\u001b[39;00m question\u001b[38;5;241m.\u001b[39mis_correct(user_answer):\n\u001b[1;32m     27\u001b[0m         \u001b[38;5;28mprint\u001b[39m(\u001b[38;5;124m\"\u001b[39m\u001b[38;5;124mCorrect!\u001b[39m\u001b[38;5;130;01m\\n\u001b[39;00m\u001b[38;5;124m\"\u001b[39m)\n",
      "Cell \u001b[0;32mIn[2], line 19\u001b[0m, in \u001b[0;36mQuiz.display_question\u001b[0;34m(self, question)\u001b[0m\n\u001b[1;32m     17\u001b[0m \u001b[38;5;28;01mfor\u001b[39;00m i, choice \u001b[38;5;129;01min\u001b[39;00m \u001b[38;5;28menumerate\u001b[39m(question\u001b[38;5;241m.\u001b[39mchoices, start\u001b[38;5;241m=\u001b[39m\u001b[38;5;241m1\u001b[39m):\n\u001b[1;32m     18\u001b[0m     \u001b[38;5;28mprint\u001b[39m(\u001b[38;5;124mf\u001b[39m\u001b[38;5;124m\"\u001b[39m\u001b[38;5;132;01m{\u001b[39;00mi\u001b[38;5;132;01m}\u001b[39;00m\u001b[38;5;124m. \u001b[39m\u001b[38;5;132;01m{\u001b[39;00mchoice\u001b[38;5;132;01m}\u001b[39;00m\u001b[38;5;124m\"\u001b[39m)\n\u001b[0;32m---> 19\u001b[0m user_answer \u001b[38;5;241m=\u001b[39m \u001b[38;5;28;43mint\u001b[39;49m\u001b[43m(\u001b[49m\u001b[38;5;28;43minput\u001b[39;49m\u001b[43m(\u001b[49m\u001b[38;5;124;43m\"\u001b[39;49m\u001b[38;5;124;43mEnter the number of your answer: \u001b[39;49m\u001b[38;5;124;43m\"\u001b[39;49m\u001b[43m)\u001b[49m\u001b[43m)\u001b[49m\n\u001b[1;32m     20\u001b[0m \u001b[38;5;28;01mreturn\u001b[39;00m user_answer\n",
      "\u001b[0;31mValueError\u001b[0m: invalid literal for int() with base 10: 'Paris'"
     ]
    }
   ],
   "source": [
    "class Question:\n",
    "    def __init__(self, question_text, choices, correct_answer):\n",
    "        self.question_text = question_text\n",
    "        self.choices = choices\n",
    "        self.correct_answer = correct_answer\n",
    "\n",
    "    def is_correct(self, user_answer):\n",
    "        return user_answer == self.correct_answer\n",
    "\n",
    "class Quiz:\n",
    "    def __init__(self, questions):\n",
    "        self.questions = questions\n",
    "        self.score = 0\n",
    "\n",
    "    def display_question(self, question):\n",
    "        print(question.question_text)\n",
    "        for i, choice in enumerate(question.choices, start=1):\n",
    "            print(f\"{i}. {choice}\")\n",
    "        user_answer = int(input(\"Enter the number of your answer: \"))\n",
    "        return user_answer\n",
    "\n",
    "    def run(self):\n",
    "        print(\"Welcome to the Quiz Game!\")\n",
    "        for question in self.questions:\n",
    "            user_answer = self.display_question(question)\n",
    "            if question.is_correct(user_answer):\n",
    "                print(\"Correct!\\n\")\n",
    "                self.score += 1\n",
    "            else:\n",
    "                print(f\"Wrong! The correct answer is: {question.choices[question.correct_answer]}\\n\")\n",
    "        print(f\"Quiz completed! Your score is {self.score}/{len(self.questions)}.\")\n",
    "\n",
    "\n",
    "def main():\n",
    "    questions = [\n",
    "        Question(\"What is the capital of France?\", [\"London\", \"Berlin\", \"Paris\", \"Madrid\"], 2),\n",
    "        Question(\"Which planet is known as the Red Planet?\", [\"Mars\", \"Venus\", \"Earth\", \"Jupiter\"], 0),\n",
    "        Question(\"What is the largest mammal in the world?\", [\"Giraffe\", \"Elephant\", \"Blue Whale\", \"Hippopotamus\"], 2),\n",
    "    ]\n",
    "\n",
    "    quiz = Quiz(questions)\n",
    "    quiz.run()\n",
    "\n",
    "if __name__ == \"__main__\":\n",
    "    main()\n"
   ]
  },
  {
   "cell_type": "code",
   "execution_count": 155,
   "id": "8ce4faf9-e20d-4e00-a4ac-3326466449c4",
   "metadata": {},
   "outputs": [],
   "source": [
    "#27. Develop a program that determines whether a given year is a prime number or not."
   ]
  },
  {
   "cell_type": "code",
   "execution_count": 3,
   "id": "77d4e32f-65c5-405a-a4a5-567eb0a8e16a",
   "metadata": {},
   "outputs": [
    {
     "name": "stdout",
     "output_type": "stream",
     "text": [
      "Year Prime Checker\n"
     ]
    },
    {
     "name": "stdin",
     "output_type": "stream",
     "text": [
      "Enter a year:  2023\n"
     ]
    },
    {
     "name": "stdout",
     "output_type": "stream",
     "text": [
      "2023 is not a prime year.\n"
     ]
    }
   ],
   "source": [
    "def is_prime(year):\n",
    "    if year <= 1:\n",
    "        return False\n",
    "    if year == 2:\n",
    "        return True\n",
    "    if year % 2 == 0:\n",
    "        return False\n",
    "\n",
    "    for divisor in range(3, int(year**0.5) + 1, 2):\n",
    "        if year % divisor == 0:\n",
    "            return False\n",
    "\n",
    "    return True\n",
    "\n",
    "def main():\n",
    "    print(\"Year Prime Checker\")\n",
    "    year = int(input(\"Enter a year: \"))\n",
    "\n",
    "    if is_prime(year):\n",
    "        print(f\"{year} is a prime year.\")\n",
    "    else:\n",
    "        print(f\"{year} is not a prime year.\")\n",
    "\n",
    "if __name__ == \"__main__\":\n",
    "    main()\n"
   ]
  },
  {
   "cell_type": "code",
   "execution_count": 156,
   "id": "6ed4aeb9-6edd-48ed-bf74-b32edb0a9fb4",
   "metadata": {},
   "outputs": [],
   "source": [
    "#28. Create a program that sorts three numbers in ascending order using conditional statements."
   ]
  },
  {
   "cell_type": "code",
   "execution_count": 4,
   "id": "1d1f6439-3a10-4b57-954f-66af51bfcbfa",
   "metadata": {},
   "outputs": [
    {
     "name": "stdout",
     "output_type": "stream",
     "text": [
      "Number Sorter\n"
     ]
    },
    {
     "name": "stdin",
     "output_type": "stream",
     "text": [
      "Enter the first number:  2\n",
      "Enter the second number:  3\n",
      "Enter the third number:  4\n"
     ]
    },
    {
     "name": "stdout",
     "output_type": "stream",
     "text": [
      "The numbers in ascending order are: 2.0, 3.0, 4.0\n"
     ]
    }
   ],
   "source": [
    "def sort_numbers(a, b, c):\n",
    "    if a <= b <= c:\n",
    "        return a, b, c\n",
    "    elif a <= c <= b:\n",
    "        return a, c, b\n",
    "    elif b <= a <= c:\n",
    "        return b, a, c\n",
    "    elif b <= c <= a:\n",
    "        return b, c, a\n",
    "    elif c <= a <= b:\n",
    "        return c, a, b\n",
    "    else:\n",
    "        return c, b, a\n",
    "\n",
    "def main():\n",
    "    print(\"Number Sorter\")\n",
    "    a = float(input(\"Enter the first number: \"))\n",
    "    b = float(input(\"Enter the second number: \"))\n",
    "    c = float(input(\"Enter the third number: \"))\n",
    "    \n",
    "    sorted_a, sorted_b, sorted_c = sort_numbers(a, b, c)\n",
    "    \n",
    "    print(f\"The numbers in ascending order are: {sorted_a}, {sorted_b}, {sorted_c}\")\n",
    "\n",
    "if __name__ == \"__main__\":\n",
    "    main()\n"
   ]
  },
  {
   "cell_type": "code",
   "execution_count": 157,
   "id": "fe1d427b-6562-4815-bf1a-4b9b6feb4f0d",
   "metadata": {},
   "outputs": [],
   "source": [
    "#29. Build a program that determines the roots of a quartic equation using numerical methods."
   ]
  },
  {
   "cell_type": "code",
   "execution_count": null,
   "id": "8729b301-d060-4a5d-afec-ff26c2ad9e46",
   "metadata": {},
   "outputs": [
    {
     "name": "stdout",
     "output_type": "stream",
     "text": [
      "Quartic Equation Solver\n",
      "The quartic equation is of the form: ax^4 + bx^3 + cx^2 + dx + e = 0\n"
     ]
    },
    {
     "name": "stdin",
     "output_type": "stream",
     "text": [
      "Enter coefficient 'a':  1\n",
      "Enter coefficient 'b':  2\n",
      "Enter coefficient 'c':  3\n",
      "Enter coefficient 'd':  4\n",
      "Enter coefficient 'e':  5\n"
     ]
    },
    {
     "name": "stdout",
     "output_type": "stream",
     "text": [
      "\n",
      "Roots of the quartic equation:\n",
      "Root: -1.2878+0.8579j\n",
      "Root: -1.2878-0.8579j\n",
      "Root: 0.2878+1.4161j\n",
      "Root: 0.2878-1.4161j\n"
     ]
    }
   ],
   "source": [
    "import numpy as np\n",
    "\n",
    "def find_roots(coefficients):\n",
    "    # Find the roots of the quartic equation\n",
    "    roots = np.roots(coefficients)\n",
    "    return roots\n",
    "\n",
    "def main():\n",
    "    print(\"Quartic Equation Solver\")\n",
    "    print(\"The quartic equation is of the form: ax^4 + bx^3 + cx^2 + dx + e = 0\")\n",
    "    \n",
    "    # Input coefficients from the user\n",
    "    a = float(input(\"Enter coefficient 'a': \"))\n",
    "    b = float(input(\"Enter coefficient 'b': \"))\n",
    "    c = float(input(\"Enter coefficient 'c': \"))\n",
    "    d = float(input(\"Enter coefficient 'd': \"))\n",
    "    e = float(input(\"Enter coefficient 'e': \"))\n",
    "\n",
    "    coefficients = [a, b, c, d, e]\n",
    "\n",
    "    # Find the roots of the quartic equation\n",
    "    roots = find_roots(coefficients)\n",
    "\n",
    "    print(\"\\nRoots of the quartic equation:\")\n",
    "    for root in roots:\n",
    "        print(f\"Root: {root:.4f}\")\n",
    "\n",
    "if __name__ == \"__main__\":\n",
    "    main()\n"
   ]
  },
  {
   "cell_type": "code",
   "execution_count": 158,
   "id": "b7f52b0e-f634-43ca-a925-39e31114cac6",
   "metadata": {},
   "outputs": [],
   "source": [
    "#30. Write a program that calculates the BMI (Body Mass Index) and provides health recommendations based on the user's input."
   ]
  },
  {
   "cell_type": "code",
   "execution_count": 7,
   "id": "3092ea2f-c25b-4c6d-a334-3318b7fa3af3",
   "metadata": {},
   "outputs": [
    {
     "name": "stdin",
     "output_type": "stream",
     "text": [
      "Enter your weight in kilograms:  60\n",
      "Enter your height in meters:  5.6\n"
     ]
    },
    {
     "name": "stdout",
     "output_type": "stream",
     "text": [
      "Your BMI is: 1.91\n",
      "You are underweight. You should consider gaining some weight.\n"
     ]
    }
   ],
   "source": [
    "def calculate_bmi(weight, height):\n",
    "    return weight / (height ** 2)\n",
    "\n",
    "def health_recommendations(bmi):\n",
    "    if bmi < 18.5:\n",
    "        return \"You are underweight. You should consider gaining some weight.\"\n",
    "    elif 18.5 <= bmi < 24.9:\n",
    "        return \"Your BMI is within the healthy range. Keep up the good work!\"\n",
    "    elif 24.9 <= bmi < 29.9:\n",
    "        return \"You are overweight. It's recommended to lose some weight for better health.\"\n",
    "    else:\n",
    "        return \"You are obese. It's important to consult with a healthcare professional for guidance.\"\n",
    "\n",
    "weight_kg = float(input(\"Enter your weight in kilograms: \"))\n",
    "height_m = float(input(\"Enter your height in meters: \"))\n",
    "\n",
    "bmi = calculate_bmi(weight_kg, height_m)\n",
    "\n",
    "print(f\"Your BMI is: {bmi:.2f}\")\n",
    "recommendations = health_recommendations(bmi)\n",
    "print(recommendations)\n"
   ]
  },
  {
   "cell_type": "code",
   "execution_count": null,
   "id": "44be37db-c053-489e-91f2-6731f88a5261",
   "metadata": {},
   "outputs": [],
   "source": []
  },
  {
   "cell_type": "markdown",
   "id": "b420ad3c-a5f2-4ec8-a6c2-f087405e6d61",
   "metadata": {},
   "source": [
    "Challenge Level:"
   ]
  },
  {
   "cell_type": "code",
   "execution_count": 160,
   "id": "302d1711-bc2b-439c-a949-c4033df30570",
   "metadata": {},
   "outputs": [],
   "source": [
    "#31. Create a program that validates a password based on complexity rules (length, characters, etc.)."
   ]
  },
  {
   "cell_type": "code",
   "execution_count": 8,
   "id": "81d26362-ddc7-4acf-95c2-c05fd15ecdc1",
   "metadata": {},
   "outputs": [
    {
     "name": "stdin",
     "output_type": "stream",
     "text": [
      "Enter a password:  878657856\n"
     ]
    },
    {
     "name": "stdout",
     "output_type": "stream",
     "text": [
      "Password is invalid. Please follow the password complexity rules.\n"
     ]
    }
   ],
   "source": [
    "import re\n",
    "\n",
    "def is_valid_password(password):\n",
    "    if len(password) < 8:\n",
    "        return False\n",
    "\n",
    "    if not any(char.isupper() for char in password):\n",
    "        return False\n",
    "\n",
    "    if not any(char.islower() for char in password):\n",
    "        return False\n",
    "\n",
    "    if not any(char.isdigit() for char in password):\n",
    "        return False\n",
    "\n",
    "    if not re.search(r'[!@#$%^&*]', password):\n",
    "        return False\n",
    "\n",
    "    return True\n",
    "\n",
    "password = input(\"Enter a password: \")\n",
    "\n",
    "if is_valid_password(password):\n",
    "    print(\"Password is valid.\")\n",
    "else:\n",
    "    print(\"Password is invalid. Please follow the password complexity rules.\")\n"
   ]
  },
  {
   "cell_type": "code",
   "execution_count": 163,
   "id": "cb2dd243-11b2-41a7-be3c-220dfa312831",
   "metadata": {},
   "outputs": [],
   "source": [
    "#32. Develop a program that performs matrix addition and subtraction based on user input."
   ]
  },
  {
   "cell_type": "code",
   "execution_count": 5,
   "id": "75a28f67-2640-431d-beb3-6220bab9e2ca",
   "metadata": {},
   "outputs": [
    {
     "name": "stdout",
     "output_type": "stream",
     "text": [
      "Matrix Addition and Subtraction Program\n"
     ]
    },
    {
     "name": "stdin",
     "output_type": "stream",
     "text": [
      "Enter the number of rows for the matrices:  4\n",
      "Enter the number of columns for the matrices:  2\n"
     ]
    },
    {
     "name": "stdout",
     "output_type": "stream",
     "text": [
      "Enter the first matrix:\n",
      "Enter the elements of a 4x2 matrix:\n"
     ]
    },
    {
     "name": "stdin",
     "output_type": "stream",
     "text": [
      "Enter element at position (1, 1):  6\n",
      "Enter element at position (1, 2):  6\n",
      "Enter element at position (2, 1):  8\n",
      "Enter element at position (2, 2):  8\n",
      "Enter element at position (3, 1):  9\n",
      "Enter element at position (3, 2):  57\n",
      "Enter element at position (4, 1):  4\n",
      "Enter element at position (4, 2):  2\n"
     ]
    },
    {
     "name": "stdout",
     "output_type": "stream",
     "text": [
      "Enter the second matrix:\n",
      "Enter the elements of a 4x2 matrix:\n"
     ]
    },
    {
     "name": "stdin",
     "output_type": "stream",
     "text": [
      "Enter element at position (1, 1):  1\n",
      "Enter element at position (1, 2):  1\n",
      "Enter element at position (2, 1):  1\n",
      "Enter element at position (2, 2):  2\n",
      "Enter element at position (3, 1):  2\n",
      "Enter element at position (3, 2):  4\n",
      "Enter element at position (4, 1):  2\n",
      "Enter element at position (4, 2):  4\n"
     ]
    },
    {
     "name": "stdout",
     "output_type": "stream",
     "text": [
      "\n",
      "Matrix 1:\n",
      "[6.0, 6.0]\n",
      "[8.0, 8.0]\n",
      "[9.0, 57.0]\n",
      "[4.0, 2.0]\n",
      "\n",
      "Matrix 2:\n",
      "[1.0, 1.0]\n",
      "[1.0, 2.0]\n",
      "[2.0, 4.0]\n",
      "[2.0, 4.0]\n"
     ]
    },
    {
     "name": "stdin",
     "output_type": "stream",
     "text": [
      "Choose operation (addition/subtraction):  addition\n"
     ]
    },
    {
     "name": "stdout",
     "output_type": "stream",
     "text": [
      "\n",
      "Result of Addition:\n",
      "[7.0, 7.0]\n",
      "[9.0, 10.0]\n",
      "[11.0, 61.0]\n",
      "[6.0, 6.0]\n"
     ]
    }
   ],
   "source": [
    "def get_matrix(rows, cols):\n",
    "    matrix = []\n",
    "    print(f\"Enter the elements of a {rows}x{cols} matrix:\")\n",
    "    for i in range(rows):\n",
    "        row = []\n",
    "        for j in range(cols):\n",
    "            element = float(input(f\"Enter element at position ({i+1}, {j+1}): \"))\n",
    "            row.append(element)\n",
    "        matrix.append(row)\n",
    "    return matrix\n",
    "\n",
    "def add_matrices(matrix1, matrix2):\n",
    "    result = []\n",
    "    for i in range(len(matrix1)):\n",
    "        row = []\n",
    "        for j in range(len(matrix1[0])):\n",
    "            row.append(matrix1[i][j] + matrix2[i][j])\n",
    "        result.append(row)\n",
    "    return result\n",
    "\n",
    "def subtract_matrices(matrix1, matrix2):\n",
    "    result = []\n",
    "    for i in range(len(matrix1)):\n",
    "        row = []\n",
    "        for j in range(len(matrix1[0])):\n",
    "            row.append(matrix1[i][j] - matrix2[i][j])\n",
    "        result.append(row)\n",
    "    return result\n",
    "\n",
    "def display_matrix(matrix):\n",
    "    for row in matrix:\n",
    "        print(row)\n",
    "\n",
    "def main():\n",
    "    print(\"Matrix Addition and Subtraction Program\")\n",
    "    rows = int(input(\"Enter the number of rows for the matrices: \"))\n",
    "    cols = int(input(\"Enter the number of columns for the matrices: \"))\n",
    "\n",
    "    print(\"Enter the first matrix:\")\n",
    "    matrix1 = get_matrix(rows, cols)\n",
    "\n",
    "    print(\"Enter the second matrix:\")\n",
    "    matrix2 = get_matrix(rows, cols)\n",
    "\n",
    "    print(\"\\nMatrix 1:\")\n",
    "    display_matrix(matrix1)\n",
    "\n",
    "    print(\"\\nMatrix 2:\")\n",
    "    display_matrix(matrix2)\n",
    "\n",
    "    choice = input(\"Choose operation (addition/subtraction): \").lower()\n",
    "\n",
    "    if choice == \"addition\":\n",
    "        result = add_matrices(matrix1, matrix2)\n",
    "        print(\"\\nResult of Addition:\")\n",
    "        display_matrix(result)\n",
    "    elif choice == \"subtraction\":\n",
    "        result = subtract_matrices(matrix1, matrix2)\n",
    "        print(\"\\nResult of Subtraction:\")\n",
    "        display_matrix(result)\n",
    "    else:\n",
    "        print(\"Invalid choice. Please choose 'addition' or 'subtraction'.\")\n",
    "\n",
    "if __name__ == \"__main__\":\n",
    "    main()\n",
    "\n",
    "    "
   ]
  },
  {
   "cell_type": "code",
   "execution_count": 164,
   "id": "f335fec2-165b-45e3-9f9f-cc603c732200",
   "metadata": {},
   "outputs": [],
   "source": [
    "#33. Write a program that calculates the greatest common divisor (GCD) of two numbers using the Euclidean algorithm."
   ]
  },
  {
   "cell_type": "code",
   "execution_count": 7,
   "id": "2e1a7be3-3e0a-49a3-a0dd-9429183b3e1d",
   "metadata": {},
   "outputs": [
    {
     "name": "stdout",
     "output_type": "stream",
     "text": [
      "Greatest Common Divisor (GCD) Calculator\n"
     ]
    },
    {
     "name": "stdin",
     "output_type": "stream",
     "text": [
      "Enter the first number:  2\n",
      "Enter the second number:  4\n"
     ]
    },
    {
     "name": "stdout",
     "output_type": "stream",
     "text": [
      "The GCD of 2 and 4 is 2\n"
     ]
    }
   ],
   "source": [
    "def gcd_euclidean(a, b):\n",
    "    while b:\n",
    "        a, b = b, a % b\n",
    "    return a\n",
    "\n",
    "def main():\n",
    "    print(\"Greatest Common Divisor (GCD) Calculator\")\n",
    "    num1 = int(input(\"Enter the first number: \"))\n",
    "    num2 = int(input(\"Enter the second number: \"))\n",
    "    \n",
    "    gcd = gcd_euclidean(num1, num2)\n",
    "    \n",
    "    print(f\"The GCD of {num1} and {num2} is {gcd}\")\n",
    "\n",
    "if __name__ == \"__main__\":\n",
    "    main()\n"
   ]
  },
  {
   "cell_type": "code",
   "execution_count": 165,
   "id": "6949c0e4-3b5d-428c-b26f-31ace586c621",
   "metadata": {},
   "outputs": [],
   "source": [
    "#34. Build a program that performs matrix multiplication using nested loops and conditional statements."
   ]
  },
  {
   "cell_type": "code",
   "execution_count": null,
   "id": "bc3ab3fc-bfc0-4cb2-ade8-98f4096d052b",
   "metadata": {},
   "outputs": [
    {
     "name": "stdout",
     "output_type": "stream",
     "text": [
      "Matrix Multiplication Program\n"
     ]
    },
    {
     "name": "stdin",
     "output_type": "stream",
     "text": [
      "Enter the number of rows for the first matrix:  2\n",
      "Enter the number of columns for the first matrix:  5\n",
      "Enter the number of rows for the second matrix:  3\n",
      "Enter the number of columns for the second matrix:  3\n"
     ]
    },
    {
     "name": "stdout",
     "output_type": "stream",
     "text": [
      "Matrix multiplication is not possible. Number of columns in the first matrix must equal the number of rows in the second matrix.\n"
     ]
    }
   ],
   "source": [
    "def matrix_multiply(matrix1, matrix2):\n",
    "    if len(matrix1[0]) != len(matrix2):\n",
    "        return None  # Matrix multiplication not possible\n",
    "    \n",
    "    result = [[0 for _ in range(len(matrix2[0]))] for _ in range(len(matrix1))]\n",
    "    \n",
    "    for i in range(len(matrix1)):\n",
    "        for j in range(len(matrix2[0])):\n",
    "            for k in range(len(matrix2)):\n",
    "                result[i][j] += matrix1[i][k] * matrix2[k][j]\n",
    "    \n",
    "    return result\n",
    "\n",
    "def main():\n",
    "    print(\"Matrix Multiplication Program\")\n",
    "    rows1 = int(input(\"Enter the number of rows for the first matrix: \"))\n",
    "    cols1 = int(input(\"Enter the number of columns for the first matrix: \"))\n",
    "    rows2 = int(input(\"Enter the number of rows for the second matrix: \"))\n",
    "    cols2 = int(input(\"Enter the number of columns for the second matrix: \"))\n",
    "    \n",
    "    if cols1 != rows2:\n",
    "        print(\"Matrix multiplication is not possible. Number of columns in the first matrix must equal the number of rows in the second matrix.\")\n",
    "        return\n",
    "    \n",
    "    print(\"Enter the elements of the first matrix:\")\n",
    "    matrix1 = [[float(input(f\"Enter element at position ({i+1}, {j+1}): \")) for j in range(cols1)] for i in range(rows1)]\n",
    "    \n",
    "    print(\"Enter the elements of the second matrix:\")\n",
    "    matrix2 = [[float(input(f\"Enter element at position ({i+1}, {j+1}): \")) for j in range(cols2)] for i in range(rows2)]\n",
    "    \n",
    "    result = matrix_multiply(matrix1, matrix2)\n",
    "    \n",
    "    if result:\n",
    "        print(\"\\nResult of Matrix Multiplication:\")\n",
    "        for row in result:\n",
    "            print(row)\n",
    "    else:\n",
    "        print(\"Matrix multiplication is not possible with the provided matrices.\")\n",
    "\n",
    "if __name__ == \"__main__\":\n",
    "    main()\n"
   ]
  },
  {
   "cell_type": "code",
   "execution_count": 166,
   "id": "5ffada3c-0b25-4ee4-91c2-76a216df09a6",
   "metadata": {},
   "outputs": [],
   "source": [
    "#35. Create a program that simulates a basic text-based tic-tac-toe game against the computer."
   ]
  },
  {
   "cell_type": "code",
   "execution_count": null,
   "id": "d528b3fe-3a6b-471e-a821-3be32e59ddcf",
   "metadata": {},
   "outputs": [],
   "source": [
    "import random\n",
    "\n",
    "def print_board(board):\n",
    "    for row in board:\n",
    "        print(\" | \".join(row))\n",
    "        print(\"-\" * 9)\n",
    "\n",
    "def check_win(board, player):\n",
    "    for row in board:\n",
    "        if all(cell == player for cell in row):\n",
    "            return True\n",
    "\n",
    "    for col in range(3):\n",
    "        if all(board[row][col] == player for row in range(3)):\n",
    "            return True\n",
    "\n",
    "    if all(board[i][i] == player for i in range(3)) or all(board[i][2 - i] == player for i in range(3)):\n",
    "        return True\n",
    "\n",
    "    return False\n",
    "\n",
    "def is_full(board):\n",
    "    return all(cell != ' ' for row in board for cell in row)\n",
    "\n",
    "def player_move(board):\n",
    "    while True:\n",
    "        try:\n",
    "            row = int(input(\"Enter row (0, 1, or 2): \"))\n",
    "            col = int(input(\"Enter column (0, 1, or 2): \"))\n",
    "            if 0 <= row < 3 and 0 <= col < 3 and board[row][col] == ' ':\n",
    "                board[row][col] = 'X'\n",
    "                break\n",
    "            else:\n",
    "                print(\"Invalid move. Try again.\")\n",
    "        except ValueError:\n",
    "            print(\"Invalid input. Please enter a number.\")\n",
    "\n",
    "def computer_move(board):\n",
    "    while True:\n",
    "        row = random.randint(0, 2)\n",
    "        col = random.randint(0, 2)\n",
    "        if board[row][col] == ' ':\n",
    "            board[row][col] = 'O'\n",
    "            break\n",
    "\n",
    "def play_game():\n",
    "    print(\"Welcome to Tic-Tac-Toe against the computer!\")\n",
    "    board = [[' ' for _ in range(3)] for _ in range(3)]\n",
    "    print_board(board)\n",
    "\n",
    "    while True:\n",
    "        player_move(board)\n",
    "        print_board(board)\n",
    "\n",
    "        if check_win(board, 'X'):\n",
    "            print(\"Congratulations! You win!\")\n",
    "            break\n",
    "\n",
    "        if is_full(board):\n",
    "            print(\"It's a draw!\")\n",
    "            break\n",
    "\n",
    "        computer_move(board)\n",
    "        print(\"Computer's move:\")\n",
    "        print_board(board)\n",
    "\n",
    "        if check_win(board, 'O'):\n",
    "            print(\"Computer wins! Better luck next time.\")\n",
    "            break\n",
    "\n",
    "        if is_full(board):\n",
    "            print(\"It's a draw!\")\n",
    "            break\n",
    "\n",
    "if __name__ == \"__main__\":\n",
    "    play_game()\n"
   ]
  },
  {
   "cell_type": "code",
   "execution_count": 167,
   "id": "5f327ed5-9fc0-4f0c-a262-b2a8695b5882",
   "metadata": {},
   "outputs": [],
   "source": [
    "#36. Write a program that generates Fibonacci numbers up to a specified term using iterative methods."
   ]
  },
  {
   "cell_type": "code",
   "execution_count": null,
   "id": "30609758-9982-49eb-9d0d-96920ed56cab",
   "metadata": {},
   "outputs": [],
   "source": [
    "def generate_fibonacci(n):\n",
    "    fibonacci_sequence = [0, 1]\n",
    "    \n",
    "    if n <= 0:\n",
    "        return []\n",
    "    elif n == 1:\n",
    "        return [0]\n",
    "    elif n == 2:\n",
    "        return fibonacci_sequence\n",
    "    \n",
    "    while len(fibonacci_sequence) < n:\n",
    "        next_number = fibonacci_sequence[-1] + fibonacci_sequence[-2]\n",
    "        fibonacci_sequence.append(next_number)\n",
    "    \n",
    "    return fibonacci_sequence\n",
    "\n",
    "def main():\n",
    "    print(\"Fibonacci Number Generator\")\n",
    "    n = int(input(\"Enter the number of Fibonacci numbers to generate: \"))\n",
    "    \n",
    "    if n <= 0:\n",
    "        print(\"Invalid input. Please enter a positive integer.\")\n",
    "        return\n",
    "    \n",
    "    fibonacci_sequence = generate_fibonacci(n)\n",
    "    \n",
    "    print(\"\\nFibonacci Sequence:\")\n",
    "    print(fibonacci_sequence)\n",
    "\n",
    "if __name__ == \"__main__\":\n",
    "    main()\n"
   ]
  },
  {
   "cell_type": "code",
   "execution_count": 168,
   "id": "7af99477-7db6-422a-8868-61bace7f692d",
   "metadata": {},
   "outputs": [],
   "source": [
    "#37. Develop a program that calculates the nth term of the Fibonacci sequence using memoization."
   ]
  },
  {
   "cell_type": "code",
   "execution_count": null,
   "id": "bdcb6a98-eb4f-41ed-97d3-29ce8313e7fe",
   "metadata": {},
   "outputs": [],
   "source": [
    "def fibonacci_memo(n, memo={}):\n",
    "    if n in memo:\n",
    "        return memo[n]\n",
    "    if n <= 1:\n",
    "        return n\n",
    "    memo[n] = fibonacci_memo(n - 1, memo) + fibonacci_memo(n - 2, memo)\n",
    "    return memo[n]\n",
    "\n",
    "def main():\n",
    "    print(\"Fibonacci Number Calculator with Memoization\")\n",
    "    n = int(input(\"Enter the value of n to calculate the nth Fibonacci number: \"))\n",
    "    \n",
    "    if n < 0:\n",
    "        print(\"Invalid input. Please enter a non-negative integer.\")\n",
    "        return\n",
    "    \n",
    "    result = fibonacci_memo(n)\n",
    "    \n",
    "    print(f\"The {n}-th Fibonacci number is: {result}\")\n",
    "\n",
    "if __name__ == \"__main__\":\n",
    "    main()\n"
   ]
  },
  {
   "cell_type": "code",
   "execution_count": 169,
   "id": "b5db31f2-7cb5-4632-9e64-540c49f1f2b3",
   "metadata": {},
   "outputs": [],
   "source": [
    "#38. Create a program that generates a calendar for a given month and year using conditional statements."
   ]
  },
  {
   "cell_type": "code",
   "execution_count": 8,
   "id": "85a1c4ec-822f-4fca-b77f-adc10c5fb71a",
   "metadata": {},
   "outputs": [
    {
     "name": "stdout",
     "output_type": "stream",
     "text": [
      "Calendar Generator\n"
     ]
    },
    {
     "name": "stdin",
     "output_type": "stream",
     "text": [
      "Enter the year (e.g., 2023):  2024\n",
      "Enter the month (1-12):  7\n"
     ]
    },
    {
     "name": "stdout",
     "output_type": "stream",
     "text": [
      "\n",
      "Calendar:\n",
      "     July 2024\n",
      "Mo Tu We Th Fr Sa Su\n",
      " 1  2  3  4  5  6  7\n",
      " 8  9 10 11 12 13 14\n",
      "15 16 17 18 19 20 21\n",
      "22 23 24 25 26 27 28\n",
      "29 30 31\n",
      "\n"
     ]
    }
   ],
   "source": [
    "import calendar\n",
    "\n",
    "def generate_calendar(year, month):\n",
    "    cal = calendar.month(year, month)\n",
    "    return cal\n",
    "\n",
    "def main():\n",
    "    print(\"Calendar Generator\")\n",
    "    year = int(input(\"Enter the year (e.g., 2023): \"))\n",
    "    month = int(input(\"Enter the month (1-12): \"))\n",
    "    \n",
    "    if 1 <= month <= 12:\n",
    "        cal = generate_calendar(year, month)\n",
    "        print(\"\\nCalendar:\")\n",
    "        print(cal)\n",
    "    else:\n",
    "        print(\"Invalid month. Please enter a month between 1 and 12.\")\n",
    "\n",
    "if __name__ == \"__main__\":\n",
    "    main()\n"
   ]
  },
  {
   "cell_type": "code",
   "execution_count": 170,
   "id": "1954371c-100c-45a6-bdc7-45f66c12fe95",
   "metadata": {},
   "outputs": [],
   "source": [
    "#39. Build a program that simulates a basic text-based blackjack game against the computer."
   ]
  },
  {
   "cell_type": "code",
   "execution_count": 2,
   "id": "0281291d-295f-44da-a9b8-95e97cb50773",
   "metadata": {},
   "outputs": [
    {
     "name": "stdout",
     "output_type": "stream",
     "text": [
      "Welcome to Blackjack!\n",
      "\n",
      "Player's Hand: ['4Clubs', 'ADiamonds']\n",
      "Computer's Hand: ['3Hearts', 'X']\n"
     ]
    },
    {
     "name": "stdin",
     "output_type": "stream",
     "text": [
      "\n",
      "Do you want to 'hit' or 'stand'?  hit\n"
     ]
    },
    {
     "name": "stdout",
     "output_type": "stream",
     "text": [
      "Player's Hand: ['4Clubs', 'ADiamonds', 'JHearts']\n"
     ]
    },
    {
     "name": "stdin",
     "output_type": "stream",
     "text": [
      "\n",
      "Do you want to 'hit' or 'stand'?  4Clubs\n"
     ]
    },
    {
     "name": "stdout",
     "output_type": "stream",
     "text": [
      "Invalid input. Please enter 'hit' or 'stand'.\n"
     ]
    },
    {
     "name": "stdin",
     "output_type": "stream",
     "text": [
      "\n",
      "Do you want to 'hit' or 'stand'?  stand\n"
     ]
    },
    {
     "ename": "IndexError",
     "evalue": "list index out of range",
     "output_type": "error",
     "traceback": [
      "\u001b[0;31m---------------------------------------------------------------------------\u001b[0m",
      "\u001b[0;31mIndexError\u001b[0m                                Traceback (most recent call last)",
      "Cell \u001b[0;32mIn[2], line 57\u001b[0m\n\u001b[1;32m     54\u001b[0m         \u001b[38;5;28mprint\u001b[39m(\u001b[38;5;124m\"\u001b[39m\u001b[38;5;124mInvalid input. Please enter \u001b[39m\u001b[38;5;124m'\u001b[39m\u001b[38;5;124mhit\u001b[39m\u001b[38;5;124m'\u001b[39m\u001b[38;5;124m or \u001b[39m\u001b[38;5;124m'\u001b[39m\u001b[38;5;124mstand\u001b[39m\u001b[38;5;124m'\u001b[39m\u001b[38;5;124m.\u001b[39m\u001b[38;5;124m\"\u001b[39m)\n\u001b[1;32m     56\u001b[0m \u001b[38;5;28;01mwhile\u001b[39;00m calculate_hand_value(computer_hand) \u001b[38;5;241m<\u001b[39m \u001b[38;5;241m17\u001b[39m:\n\u001b[0;32m---> 57\u001b[0m     computer_hand\u001b[38;5;241m.\u001b[39mappend(\u001b[43mdeal_card\u001b[49m\u001b[43m(\u001b[49m\u001b[43mdeck\u001b[49m\u001b[43m)\u001b[49m)\n\u001b[1;32m     59\u001b[0m \u001b[38;5;28mprint\u001b[39m(\u001b[38;5;124m\"\u001b[39m\u001b[38;5;130;01m\\n\u001b[39;00m\u001b[38;5;124mPlayer\u001b[39m\u001b[38;5;124m'\u001b[39m\u001b[38;5;124ms Hand:\u001b[39m\u001b[38;5;124m\"\u001b[39m, player_hand)\n\u001b[1;32m     60\u001b[0m \u001b[38;5;28mprint\u001b[39m(\u001b[38;5;124m\"\u001b[39m\u001b[38;5;124mPlayer\u001b[39m\u001b[38;5;124m'\u001b[39m\u001b[38;5;124ms Hand Value:\u001b[39m\u001b[38;5;124m\"\u001b[39m, calculate_hand_value(player_hand))\n",
      "Cell \u001b[0;32mIn[2], line 23\u001b[0m, in \u001b[0;36mdeal_card\u001b[0;34m(deck)\u001b[0m\n\u001b[1;32m     22\u001b[0m \u001b[38;5;28;01mdef\u001b[39;00m \u001b[38;5;21mdeal_card\u001b[39m(deck):\n\u001b[0;32m---> 23\u001b[0m     card \u001b[38;5;241m=\u001b[39m \u001b[43mrandom\u001b[49m\u001b[38;5;241;43m.\u001b[39;49m\u001b[43mchoice\u001b[49m\u001b[43m(\u001b[49m\u001b[43mdeck\u001b[49m\u001b[43m)\u001b[49m\n\u001b[1;32m     24\u001b[0m     deck\u001b[38;5;241m.\u001b[39mremove(card)\n\u001b[1;32m     25\u001b[0m     \u001b[38;5;28;01mreturn\u001b[39;00m card\n",
      "File \u001b[0;32m/opt/conda/lib/python3.10/random.py:378\u001b[0m, in \u001b[0;36mRandom.choice\u001b[0;34m(self, seq)\u001b[0m\n\u001b[1;32m    376\u001b[0m \u001b[38;5;124;03m\"\"\"Choose a random element from a non-empty sequence.\"\"\"\u001b[39;00m\n\u001b[1;32m    377\u001b[0m \u001b[38;5;66;03m# raises IndexError if seq is empty\u001b[39;00m\n\u001b[0;32m--> 378\u001b[0m \u001b[38;5;28;01mreturn\u001b[39;00m \u001b[43mseq\u001b[49m\u001b[43m[\u001b[49m\u001b[38;5;28;43mself\u001b[39;49m\u001b[38;5;241;43m.\u001b[39;49m\u001b[43m_randbelow\u001b[49m\u001b[43m(\u001b[49m\u001b[38;5;28;43mlen\u001b[39;49m\u001b[43m(\u001b[49m\u001b[43mseq\u001b[49m\u001b[43m)\u001b[49m\u001b[43m)\u001b[49m\u001b[43m]\u001b[49m\n",
      "\u001b[0;31mIndexError\u001b[0m: list index out of range"
     ]
    }
   ],
   "source": [
    "import random\n",
    "\n",
    "def calculate_hand_value(hand):\n",
    "    value = 0\n",
    "    num_aces = 0\n",
    "\n",
    "    for card in hand:\n",
    "        if card in '23456789':\n",
    "            value += int(card)\n",
    "        elif card in 'TJQK':\n",
    "            value += 10\n",
    "        elif card == 'A':\n",
    "            value += 11\n",
    "            num_aces += 1\n",
    "\n",
    "    while num_aces > 0 and value > 21:\n",
    "        value -= 10\n",
    "        num_aces -= 1\n",
    "\n",
    "    return value\n",
    "\n",
    "def deal_card(deck):\n",
    "    card = random.choice(deck)\n",
    "    deck.remove(card)\n",
    "    return card\n",
    "\n",
    "suits = ['Hearts', 'Diamonds', 'Clubs', 'Spades']\n",
    "values = '23456789TJQKA'\n",
    "deck = [value + suit for suit in suits for value in values]\n",
    "\n",
    "player_hand = [deal_card(deck), deal_card(deck)]\n",
    "computer_hand = [deal_card(deck), deal_card(deck)]\n",
    "\n",
    "print(\"Welcome to Blackjack!\\n\")\n",
    "print(\"Player's Hand:\", player_hand)\n",
    "print(\"Computer's Hand:\", [computer_hand[0], 'X'])  \n",
    "\n",
    "while True:\n",
    "    player_value = calculate_hand_value(player_hand)\n",
    "    if player_value == 21:\n",
    "        print(\"Blackjack! Player wins!\")\n",
    "        break\n",
    "    elif player_value > 21:\n",
    "        print(\"Player busts! Computer wins.\")\n",
    "        break\n",
    "\n",
    "    action = input(\"\\nDo you want to 'hit' or 'stand'? \").strip().lower()\n",
    "    if action == 'hit':\n",
    "        player_hand.append(deal_card(deck))\n",
    "        print(\"Player's Hand:\", player_hand)\n",
    "    elif action == 'stand':\n",
    "        break\n",
    "    else:\n",
    "        print(\"Invalid input. Please enter 'hit' or 'stand'.\")\n",
    "\n",
    "while calculate_hand_value(computer_hand) < 17:\n",
    "    computer_hand.append(deal_card(deck))\n",
    "\n",
    "print(\"\\nPlayer's Hand:\", player_hand)\n",
    "print(\"Player's Hand Value:\", calculate_hand_value(player_hand))\n",
    "print(\"\\nComputer's Hand:\", computer_hand)\n",
    "print(\"Computer's Hand Value:\", calculate_hand_value(computer_hand))\n",
    "\n",
    "player_value = calculate_hand_value(player_hand)\n",
    "computer_value = calculate_hand_value(computer_hand)\n",
    "\n",
    "if player_value > 21:\n",
    "    print(\"Player busts! Computer wins.\")\n",
    "elif computer_value > 21:\n",
    "    print(\"Computer busts! Player wins.\")\n",
    "elif player_value > computer_value:\n",
    "    print(\"Player wins!\")\n",
    "elif player_value < computer_value:\n",
    "    print(\"Computer wins.\")\n",
    "else:\n",
    "    print(\"It's a tie!\")\n",
    "\n"
   ]
  },
  {
   "cell_type": "code",
   "execution_count": 171,
   "id": "4ea0e16e-7057-4217-b614-941b3ad9af65",
   "metadata": {},
   "outputs": [],
   "source": [
    "#40. Write a program that generates the prime factors of a given number using trial division."
   ]
  },
  {
   "cell_type": "code",
   "execution_count": 178,
   "id": "0b6f9216-e3e0-42f9-9c7d-b51554158511",
   "metadata": {},
   "outputs": [
    {
     "name": "stdin",
     "output_type": "stream",
     "text": [
      "Enter a number to find its prime factors:  9\n"
     ]
    },
    {
     "name": "stdout",
     "output_type": "stream",
     "text": [
      "The prime factors of 9 are: 3, 3\n"
     ]
    }
   ],
   "source": [
    "def prime_factors(n):\n",
    "    factors = []\n",
    "    divisor = 2  \n",
    "\n",
    "    while n > 1:\n",
    "        while n % divisor == 0:\n",
    "            factors.append(divisor)\n",
    "            n //= divisor\n",
    "        divisor += 1\n",
    "\n",
    "    return factors\n",
    "\n",
    "number = int(input(\"Enter a number to find its prime factors: \"))\n",
    "\n",
    "factors = prime_factors(number)\n",
    "\n",
    "if len(factors) == 0:\n",
    "    print(f\"{number} has no prime factors.\")\n",
    "else:\n",
    "    print(f\"The prime factors of {number} are: {', '.join(map(str, factors))}\")\n"
   ]
  }
 ],
 "metadata": {
  "kernelspec": {
   "display_name": "Python 3 (ipykernel)",
   "language": "python",
   "name": "python3"
  },
  "language_info": {
   "codemirror_mode": {
    "name": "ipython",
    "version": 3
   },
   "file_extension": ".py",
   "mimetype": "text/x-python",
   "name": "python",
   "nbconvert_exporter": "python",
   "pygments_lexer": "ipython3",
   "version": "3.10.8"
  }
 },
 "nbformat": 4,
 "nbformat_minor": 5
}
