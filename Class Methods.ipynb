{
 "cells": [
  {
   "cell_type": "code",
   "execution_count": 3,
   "id": "34af09ef-8dd7-4221-ad22-1e3781ec981e",
   "metadata": {},
   "outputs": [],
   "source": [
    "class pwskills :\n",
    "    \n",
    "    def __init__(self, name , email) :\n",
    "        \n",
    "        self.name = name\n",
    "        self.email = email\n",
    "        \n",
    "    def students_details(self):\n",
    "        print(self.name, self.email)"
   ]
  },
  {
   "cell_type": "code",
   "execution_count": 4,
   "id": "a9a24de0-6a1c-4f4b-a9b3-655c2171cb69",
   "metadata": {},
   "outputs": [],
   "source": [
    "pw = pwskills(\"Rizwan\" , \"rizwan@gmail.com\")"
   ]
  },
  {
   "cell_type": "code",
   "execution_count": 5,
   "id": "c27bec26-b435-4627-b8cb-eb4c5a75ce64",
   "metadata": {},
   "outputs": [
    {
     "data": {
      "text/plain": [
       "'Rizwan'"
      ]
     },
     "execution_count": 5,
     "metadata": {},
     "output_type": "execute_result"
    }
   ],
   "source": [
    "pw.name"
   ]
  },
  {
   "cell_type": "code",
   "execution_count": 6,
   "id": "641366d9-4250-4ad5-a27f-4dd2cb2ee17a",
   "metadata": {},
   "outputs": [
    {
     "data": {
      "text/plain": [
       "'rizwan@gmail.com'"
      ]
     },
     "execution_count": 6,
     "metadata": {},
     "output_type": "execute_result"
    }
   ],
   "source": [
    "pw.email"
   ]
  },
  {
   "cell_type": "code",
   "execution_count": 9,
   "id": "18716393-927d-4289-a5af-2e10c26c3072",
   "metadata": {},
   "outputs": [
    {
     "name": "stdout",
     "output_type": "stream",
     "text": [
      "Rizwan rizwan@gmail.com\n"
     ]
    }
   ],
   "source": [
    "pw.students_details()"
   ]
  },
  {
   "cell_type": "code",
   "execution_count": 10,
   "id": "b41bcc84-e49f-4933-bfc1-8c1b974188f9",
   "metadata": {},
   "outputs": [],
   "source": [
    "class pwskills1 :\n",
    "    \n",
    "    def __init__(self, name , email) :\n",
    "        \n",
    "        self.name = name\n",
    "        self.email = email\n",
    "    \n",
    "    @classmethod\n",
    "    def details(cls ,name, email):\n",
    "        return cls(name, email)\n",
    "        \n",
    "    def students_details(self):\n",
    "        print(self.name, self.email)"
   ]
  },
  {
   "cell_type": "code",
   "execution_count": 11,
   "id": "f05ec51a-9b3c-4a08-8353-08b95a7dd87d",
   "metadata": {},
   "outputs": [
    {
     "data": {
      "text/plain": [
       "<__main__.pwskills1 at 0x7f5dc07798d0>"
      ]
     },
     "execution_count": 11,
     "metadata": {},
     "output_type": "execute_result"
    }
   ],
   "source": [
    "pwskills1.details(\"rizwan\" , \"rizwan@gmail.com\")"
   ]
  },
  {
   "cell_type": "code",
   "execution_count": 12,
   "id": "94f17425-212e-42eb-a7ef-c2a19b0aa952",
   "metadata": {},
   "outputs": [],
   "source": [
    "pw1 = pwskills1.details(\"rizwan\" , \"rizwan@gmail.com\")"
   ]
  },
  {
   "cell_type": "code",
   "execution_count": 13,
   "id": "eba8c83b-34b0-4aa4-9c17-fb572d59b361",
   "metadata": {},
   "outputs": [
    {
     "data": {
      "text/plain": [
       "'rizwan'"
      ]
     },
     "execution_count": 13,
     "metadata": {},
     "output_type": "execute_result"
    }
   ],
   "source": [
    "pw1.name"
   ]
  },
  {
   "cell_type": "code",
   "execution_count": 14,
   "id": "09d8ff53-599e-4d4d-bcad-ef9587415002",
   "metadata": {},
   "outputs": [
    {
     "data": {
      "text/plain": [
       "'rizwan@gmail.com'"
      ]
     },
     "execution_count": 14,
     "metadata": {},
     "output_type": "execute_result"
    }
   ],
   "source": [
    "pw1.email"
   ]
  },
  {
   "cell_type": "code",
   "execution_count": 15,
   "id": "e1e451fd-a9e0-4f82-8299-b8eeddb6e830",
   "metadata": {},
   "outputs": [
    {
     "name": "stdout",
     "output_type": "stream",
     "text": [
      "rizwan rizwan@gmail.com\n"
     ]
    }
   ],
   "source": [
    "pw1.students_details()"
   ]
  },
  {
   "cell_type": "code",
   "execution_count": 17,
   "id": "b2399b93-1587-42d2-93fc-fe79ef71b7c2",
   "metadata": {},
   "outputs": [],
   "source": [
    "class pwskills2 :\n",
    "    \n",
    "    mobile_num = 7870914247\n",
    "    \n",
    "    def __init__(self, name , email) :\n",
    "        \n",
    "        self.name = name\n",
    "        self.email = email\n",
    "    \n",
    "    @classmethod\n",
    "    def details(cls ,name, email):\n",
    "        return cls(name, email)\n",
    "        \n",
    "    def students_details(self):\n",
    "        print(self.name, self.email)"
   ]
  },
  {
   "cell_type": "code",
   "execution_count": 18,
   "id": "2af06b4c-f78f-420e-a956-a0425003b64f",
   "metadata": {},
   "outputs": [
    {
     "data": {
      "text/plain": [
       "7870914247"
      ]
     },
     "execution_count": 18,
     "metadata": {},
     "output_type": "execute_result"
    }
   ],
   "source": [
    "pwskills2.mobile_num"
   ]
  },
  {
   "cell_type": "code",
   "execution_count": 44,
   "id": "6736e3dc-f842-4a91-94d8-a892109a6aec",
   "metadata": {},
   "outputs": [],
   "source": [
    "#how to change details from list"
   ]
  },
  {
   "cell_type": "code",
   "execution_count": 19,
   "id": "ea709feb-af5a-4c0d-810a-b9c1cba37b81",
   "metadata": {},
   "outputs": [],
   "source": [
    "class pwskills2 :\n",
    "    \n",
    "    mobile_num = 7870914247\n",
    "    \n",
    "    def __init__(self, name , email) :\n",
    "        \n",
    "        self.name = name\n",
    "        self.email = email\n",
    "        \n",
    "    \n",
    "    @classmethod\n",
    "    def change_number(cls, mobile) :\n",
    "        pwskills2.mobile_num = mobile\n",
    "    \n",
    "    \n",
    "    @classmethod\n",
    "    def details(cls ,name, email):\n",
    "        return cls(name, email)\n",
    "        \n",
    "    def students_details(self):\n",
    "        print(self.name, self.email)"
   ]
  },
  {
   "cell_type": "code",
   "execution_count": 20,
   "id": "2eea04a6-6ef5-4091-8fc0-f3b8d352343c",
   "metadata": {},
   "outputs": [
    {
     "data": {
      "text/plain": [
       "7870914247"
      ]
     },
     "execution_count": 20,
     "metadata": {},
     "output_type": "execute_result"
    }
   ],
   "source": [
    "pwskills2.mobile_num"
   ]
  },
  {
   "cell_type": "code",
   "execution_count": 21,
   "id": "d616955d-4e73-4def-aad7-547db5dcc246",
   "metadata": {},
   "outputs": [],
   "source": [
    "pwskills2.change_number(6345678698)"
   ]
  },
  {
   "cell_type": "code",
   "execution_count": 22,
   "id": "017f1a23-84d0-49c3-bd85-14139aa12bbd",
   "metadata": {},
   "outputs": [
    {
     "data": {
      "text/plain": [
       "6345678698"
      ]
     },
     "execution_count": 22,
     "metadata": {},
     "output_type": "execute_result"
    }
   ],
   "source": [
    "pwskills2.mobile_num"
   ]
  },
  {
   "cell_type": "code",
   "execution_count": 23,
   "id": "7216ac13-7ade-417f-86e7-f593aa3e8728",
   "metadata": {},
   "outputs": [],
   "source": [
    "class pwskills2 :\n",
    "    \n",
    "    mobile_num = 7870914247\n",
    "    \n",
    "    def __init__(self, name , email) :\n",
    "        \n",
    "        self.name = name\n",
    "        self.email = email\n",
    "        \n",
    "    \n",
    "    @classmethod\n",
    "    def change_number(cls, mobile) :\n",
    "        pwskills2.mobile_num = mobile\n",
    "    \n",
    "    \n",
    "    @classmethod\n",
    "    def details(cls ,name, email):\n",
    "        return cls(name, email)\n",
    "        \n",
    "    def students_details(self):\n",
    "        print(self.name, self.email, pwskills2.mobile_num)"
   ]
  },
  {
   "cell_type": "code",
   "execution_count": 24,
   "id": "b8c8c8e0-93fd-4077-bb34-b642f0b80268",
   "metadata": {},
   "outputs": [],
   "source": [
    "pw_obj = pwskills2('riz' , 'riz@gmail.com')"
   ]
  },
  {
   "cell_type": "code",
   "execution_count": 25,
   "id": "d8f78166-2fb7-40f5-b924-121775c07ed8",
   "metadata": {},
   "outputs": [
    {
     "name": "stdout",
     "output_type": "stream",
     "text": [
      "riz riz@gmail.com 7870914247\n"
     ]
    }
   ],
   "source": [
    "pw_obj.students_details()"
   ]
  },
  {
   "cell_type": "code",
   "execution_count": 26,
   "id": "264625eb-28f2-4a40-9294-22dcaf09aeb8",
   "metadata": {},
   "outputs": [],
   "source": [
    "pw = pwskills2.details('khan' , 'khan@gmail.com')"
   ]
  },
  {
   "cell_type": "code",
   "execution_count": 28,
   "id": "b15929e5-3f87-4674-85df-ec925a381088",
   "metadata": {},
   "outputs": [
    {
     "name": "stdout",
     "output_type": "stream",
     "text": [
      "khan khan@gmail.com 7870914247\n"
     ]
    }
   ],
   "source": [
    "pw.students_details()"
   ]
  },
  {
   "cell_type": "code",
   "execution_count": 45,
   "id": "52702f42-e30e-40ce-aae0-ba86a7459cde",
   "metadata": {},
   "outputs": [],
   "source": [
    "#how to add new function in list"
   ]
  },
  {
   "cell_type": "code",
   "execution_count": 29,
   "id": "88b1b325-0feb-459b-a56e-d394f50fadb9",
   "metadata": {},
   "outputs": [],
   "source": [
    "class pwskills3 :\n",
    "    \n",
    "    mobile_num = 7870914247\n",
    "    \n",
    "    def __init__(self, name , email) :\n",
    "        \n",
    "        self.name = name\n",
    "        self.email = email\n",
    "        \n",
    "    \n",
    "    @classmethod\n",
    "    def change_number(cls, mobile) :\n",
    "        pwskills2.mobile_num = mobile\n",
    "    \n",
    "    \n",
    "    @classmethod\n",
    "    def details(cls ,name, email):\n",
    "        return cls(name, email)\n",
    "        \n",
    "    def students_details(self):\n",
    "        print(self.name, self.email, pwskills2.mobile_num)"
   ]
  },
  {
   "cell_type": "code",
   "execution_count": 30,
   "id": "3e3e9909-0ee8-4782-848c-0723cbbda865",
   "metadata": {},
   "outputs": [],
   "source": [
    "def course_details(cls, course_name) :\n",
    "    print(\"course name is \", course_name)"
   ]
  },
  {
   "cell_type": "code",
   "execution_count": 31,
   "id": "e748fb47-a5c6-4d65-ae0f-0526ef5c6012",
   "metadata": {},
   "outputs": [],
   "source": [
    "pwskills3.course_details = classmethod(course_details)"
   ]
  },
  {
   "cell_type": "code",
   "execution_count": 32,
   "id": "b1385664-c5dd-4cb9-9af1-0dd942d315a5",
   "metadata": {},
   "outputs": [
    {
     "name": "stdout",
     "output_type": "stream",
     "text": [
      "course name is  data science masters\n"
     ]
    }
   ],
   "source": [
    "pwskills3.course_details('data science masters')"
   ]
  },
  {
   "cell_type": "code",
   "execution_count": 34,
   "id": "332fb736-43b0-497a-9c3b-5dcf4103cc34",
   "metadata": {},
   "outputs": [],
   "source": [
    "def mentor(clas, list_of_mentor) :\n",
    "    print(list_of_mentor)"
   ]
  },
  {
   "cell_type": "code",
   "execution_count": 35,
   "id": "4381a8bd-fa38-45dc-a92f-0aab07a6b5bf",
   "metadata": {},
   "outputs": [],
   "source": [
    "pwskills3.mentor = classmethod(mentor)"
   ]
  },
  {
   "cell_type": "code",
   "execution_count": 41,
   "id": "eb051242-32b5-442c-97ea-a52f869d85fc",
   "metadata": {},
   "outputs": [
    {
     "name": "stdout",
     "output_type": "stream",
     "text": [
      "['sudh', 'krish']\n"
     ]
    }
   ],
   "source": [
    "pwskills3.mentor(['sudh' , 'krish'])"
   ]
  },
  {
   "cell_type": "code",
   "execution_count": 47,
   "id": "305c3500-4227-4cd0-bea8-711f8a7d0398",
   "metadata": {},
   "outputs": [],
   "source": [
    "#how to delete function from list"
   ]
  },
  {
   "cell_type": "code",
   "execution_count": 48,
   "id": "5877d960-0a55-44de-8f1f-9ba78a25ae3b",
   "metadata": {},
   "outputs": [],
   "source": [
    "class pwskills4 :\n",
    "    \n",
    "    mobile_num = 7870914247\n",
    "    \n",
    "    def __init__(self, name , email) :\n",
    "        \n",
    "        self.name = name\n",
    "        self.email = email\n",
    "        \n",
    "    \n",
    "    @classmethod\n",
    "    def change_number(cls, mobile) :\n",
    "        pwskills2.mobile_num = mobile\n",
    "    \n",
    "    \n",
    "    @classmethod\n",
    "    def details(cls ,name, email):\n",
    "        return cls(name, email)\n",
    "        \n",
    "    def students_details(self):\n",
    "        print(self.name, self.email, pwskills2.mobile_num)"
   ]
  },
  {
   "cell_type": "code",
   "execution_count": 49,
   "id": "b1e949da-d4dd-47d9-8f27-0500f1db0aa7",
   "metadata": {},
   "outputs": [],
   "source": [
    "del pwskills4.change_number"
   ]
  },
  {
   "cell_type": "code",
   "execution_count": 50,
   "id": "91216e60-9415-4d91-b6d0-a18989991723",
   "metadata": {},
   "outputs": [
    {
     "ename": "NameError",
     "evalue": "name 'pwskill4' is not defined",
     "output_type": "error",
     "traceback": [
      "\u001b[0;31m---------------------------------------------------------------------------\u001b[0m",
      "\u001b[0;31mNameError\u001b[0m                                 Traceback (most recent call last)",
      "Cell \u001b[0;32mIn[50], line 1\u001b[0m\n\u001b[0;32m----> 1\u001b[0m \u001b[43mpwskill4\u001b[49m\u001b[38;5;241m.\u001b[39mchange_number(\u001b[38;5;241m12345677\u001b[39m)\n",
      "\u001b[0;31mNameError\u001b[0m: name 'pwskill4' is not defined"
     ]
    }
   ],
   "source": [
    "pwskill4.change_number(12345677)"
   ]
  },
  {
   "cell_type": "code",
   "execution_count": 51,
   "id": "5db53dae-8b31-4e88-92c6-e24cc1a50031",
   "metadata": {},
   "outputs": [],
   "source": [
    "#with del you can delete the function"
   ]
  },
  {
   "cell_type": "code",
   "execution_count": 57,
   "id": "4f980282-bc12-4bfb-9529-39978f56d13a",
   "metadata": {},
   "outputs": [],
   "source": [
    "delattr(pwskills4, 'details')"
   ]
  },
  {
   "cell_type": "code",
   "execution_count": 60,
   "id": "beb96e41-6013-446d-b39f-57ba57679336",
   "metadata": {},
   "outputs": [
    {
     "ename": "AttributeError",
     "evalue": "type object 'pwskills4' has no attribute 'details'",
     "output_type": "error",
     "traceback": [
      "\u001b[0;31m---------------------------------------------------------------------------\u001b[0m",
      "\u001b[0;31mAttributeError\u001b[0m                            Traceback (most recent call last)",
      "Cell \u001b[0;32mIn[60], line 1\u001b[0m\n\u001b[0;32m----> 1\u001b[0m \u001b[43mpwskills4\u001b[49m\u001b[38;5;241;43m.\u001b[39;49m\u001b[43mdetails\u001b[49m\n",
      "\u001b[0;31mAttributeError\u001b[0m: type object 'pwskills4' has no attribute 'details'"
     ]
    }
   ],
   "source": [
    "pwskills4.details"
   ]
  },
  {
   "cell_type": "code",
   "execution_count": 55,
   "id": "baad292a-c2f8-4d8f-ad33-adfe6863bf2b",
   "metadata": {},
   "outputs": [
    {
     "ename": "AttributeError",
     "evalue": "students_details",
     "output_type": "error",
     "traceback": [
      "\u001b[0;31m---------------------------------------------------------------------------\u001b[0m",
      "\u001b[0;31mAttributeError\u001b[0m                            Traceback (most recent call last)",
      "Cell \u001b[0;32mIn[59], line 1\u001b[0m\n\u001b[0;32m----> 1\u001b[0m \u001b[38;5;28;43mdelattr\u001b[39;49m\u001b[43m(\u001b[49m\u001b[43mpwskills4\u001b[49m\u001b[43m,\u001b[49m\u001b[43m \u001b[49m\u001b[38;5;124;43m'\u001b[39;49m\u001b[38;5;124;43mstudents_details\u001b[39;49m\u001b[38;5;124;43m'\u001b[39;49m\u001b[43m)\u001b[49m\n",
      "\u001b[0;31mAttributeError\u001b[0m: students_details"
     ]
    }
   ],
   "source": [
    "delattr(pwskills4, 'students_details')"
   ]
  },
  {
   "cell_type": "code",
   "execution_count": 56,
   "id": "a389a455-4fa0-4afe-9389-3d4c2b69e7c1",
   "metadata": {},
   "outputs": [
    {
     "ename": "AttributeError",
     "evalue": "type object 'pwskills4' has no attribute 'students_details'",
     "output_type": "error",
     "traceback": [
      "\u001b[0;31m---------------------------------------------------------------------------\u001b[0m",
      "\u001b[0;31mAttributeError\u001b[0m                            Traceback (most recent call last)",
      "Cell \u001b[0;32mIn[56], line 1\u001b[0m\n\u001b[0;32m----> 1\u001b[0m \u001b[43mpwskills4\u001b[49m\u001b[38;5;241;43m.\u001b[39;49m\u001b[43mstudents_details\u001b[49m()\n",
      "\u001b[0;31mAttributeError\u001b[0m: type object 'pwskills4' has no attribute 'students_details'"
     ]
    }
   ],
   "source": [
    "pwskills4.students_details()"
   ]
  },
  {
   "cell_type": "code",
   "execution_count": 61,
   "id": "6824558f-279d-4b4a-b6de-a2e835721509",
   "metadata": {},
   "outputs": [],
   "source": [
    "delattr(pwskills4 , 'mobile_num')"
   ]
  },
  {
   "cell_type": "code",
   "execution_count": 62,
   "id": "27ce88a8-58ed-4c31-9858-5aada2f6af11",
   "metadata": {},
   "outputs": [
    {
     "ename": "AttributeError",
     "evalue": "type object 'pwskills4' has no attribute 'mobile_num'",
     "output_type": "error",
     "traceback": [
      "\u001b[0;31m---------------------------------------------------------------------------\u001b[0m",
      "\u001b[0;31mAttributeError\u001b[0m                            Traceback (most recent call last)",
      "Cell \u001b[0;32mIn[62], line 1\u001b[0m\n\u001b[0;32m----> 1\u001b[0m \u001b[43mpwskills4\u001b[49m\u001b[38;5;241;43m.\u001b[39;49m\u001b[43mmobile_num\u001b[49m()\n",
      "\u001b[0;31mAttributeError\u001b[0m: type object 'pwskills4' has no attribute 'mobile_num'"
     ]
    }
   ],
   "source": [
    "pwskills4.mobile_num()"
   ]
  },
  {
   "cell_type": "code",
   "execution_count": 63,
   "id": "1e6b7e00-9828-4783-8adf-a353e5ff7222",
   "metadata": {},
   "outputs": [],
   "source": [
    "#with the help of delattr you can delete the function as well. you put function as str"
   ]
  }
 ],
 "metadata": {
  "kernelspec": {
   "display_name": "Python 3 (ipykernel)",
   "language": "python",
   "name": "python3"
  },
  "language_info": {
   "codemirror_mode": {
    "name": "ipython",
    "version": 3
   },
   "file_extension": ".py",
   "mimetype": "text/x-python",
   "name": "python",
   "nbconvert_exporter": "python",
   "pygments_lexer": "ipython3",
   "version": "3.10.8"
  }
 },
 "nbformat": 4,
 "nbformat_minor": 5
}
