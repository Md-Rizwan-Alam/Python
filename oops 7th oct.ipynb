{
 "cells": [
  {
   "cell_type": "code",
   "execution_count": 11,
   "id": "8b6a7b1a-3ff5-4b22-be3e-d3b2d7aa7e3a",
   "metadata": {},
   "outputs": [],
   "source": [
    "class a :\n",
    "    \n",
    "    def test(self):\n",
    "        print(\"this test method is a part of class a\")\n",
    "        \n",
    "    def test1(self):\n",
    "        print(\"this is test1 from class a \")"
   ]
  },
  {
   "cell_type": "code",
   "execution_count": 12,
   "id": "8e4d306f-fdb4-47a0-a93d-597f5b21d30b",
   "metadata": {},
   "outputs": [],
   "source": [
    "obj_a = a()"
   ]
  },
  {
   "cell_type": "code",
   "execution_count": 14,
   "id": "81ef5597-cf96-4ed9-a4f6-21e2e93aca70",
   "metadata": {},
   "outputs": [
    {
     "name": "stdout",
     "output_type": "stream",
     "text": [
      "this test method is a part of class a\n"
     ]
    }
   ],
   "source": [
    "obj_a.test()"
   ]
  },
  {
   "cell_type": "code",
   "execution_count": 31,
   "id": "11ee63d6-433d-48dc-ada0-5dd6771310ba",
   "metadata": {},
   "outputs": [],
   "source": [
    "class b(a) :\n",
    "    def test1b(self):\n",
    "        print(\"this is a part of class b \")"
   ]
  },
  {
   "cell_type": "code",
   "execution_count": 32,
   "id": "badaedfe-57d1-43c6-9193-e5afb0f31dbc",
   "metadata": {},
   "outputs": [],
   "source": [
    "obj_b = b()"
   ]
  },
  {
   "cell_type": "code",
   "execution_count": 33,
   "id": "3ce19f61-ba8e-4050-9d4d-614adfd964c5",
   "metadata": {},
   "outputs": [
    {
     "name": "stdout",
     "output_type": "stream",
     "text": [
      "this test method is a part of class a\n"
     ]
    }
   ],
   "source": [
    "obj_b.test()"
   ]
  },
  {
   "cell_type": "code",
   "execution_count": 34,
   "id": "5e473fae-e094-4407-99df-16a04ab4c80a",
   "metadata": {},
   "outputs": [
    {
     "name": "stdout",
     "output_type": "stream",
     "text": [
      "this is test1 from class a \n"
     ]
    }
   ],
   "source": [
    "obj_b.test1()"
   ]
  },
  {
   "cell_type": "code",
   "execution_count": 19,
   "id": "59361cd3-c0c4-4ddd-abac-cbe3275ade5f",
   "metadata": {},
   "outputs": [],
   "source": [
    "class lecture:\n",
    "    \n",
    "    def topic(self):\n",
    "        print(\"todays class we are discussing about inheritance condept in oops\")\n",
    "        \n",
    "    def timing(self):\n",
    "        print(\"timing for todays class is 9 AM IST\")\n",
    "        \n",
    "    def end_time(self):\n",
    "        print(\"today i will try to end class bit early\")"
   ]
  },
  {
   "cell_type": "code",
   "execution_count": 20,
   "id": "6e3dd2de-883e-4e9e-98a0-4a7089af1627",
   "metadata": {},
   "outputs": [],
   "source": [
    "class student(lecture):\n",
    "    \n",
    "    def student_details(self):\n",
    "        print(\"this class will give you a student details\")"
   ]
  },
  {
   "cell_type": "code",
   "execution_count": 21,
   "id": "c2ad2a89-0f29-4410-86c4-e33f47b4186d",
   "metadata": {},
   "outputs": [],
   "source": [
    "naval = student()"
   ]
  },
  {
   "cell_type": "code",
   "execution_count": 22,
   "id": "38c86e7f-5560-464a-b597-c88a74819f1a",
   "metadata": {},
   "outputs": [
    {
     "name": "stdout",
     "output_type": "stream",
     "text": [
      "todays class we are discussing about inheritance condept in oops\n"
     ]
    }
   ],
   "source": [
    "naval.topic()"
   ]
  },
  {
   "cell_type": "code",
   "execution_count": 23,
   "id": "02efc8a4-f995-4f85-87d2-620ccc0f61fa",
   "metadata": {},
   "outputs": [
    {
     "name": "stdout",
     "output_type": "stream",
     "text": [
      "timing for todays class is 9 AM IST\n"
     ]
    }
   ],
   "source": [
    "satish = student()\n",
    "satish.timing()"
   ]
  },
  {
   "cell_type": "code",
   "execution_count": 24,
   "id": "03932972-a58b-46e5-a3f8-ffc43c84ce53",
   "metadata": {},
   "outputs": [],
   "source": [
    "class teacher(student):\n",
    "    def details(self):\n",
    "        print(\"this will give you a details about teacher\")"
   ]
  },
  {
   "cell_type": "code",
   "execution_count": 25,
   "id": "fff36c1b-f1e9-467e-b29f-c304aa9feec9",
   "metadata": {},
   "outputs": [
    {
     "name": "stdout",
     "output_type": "stream",
     "text": [
      "timing for todays class is 9 AM IST\n"
     ]
    }
   ],
   "source": [
    "sudh = teacher()\n",
    "sudh.timing()"
   ]
  },
  {
   "cell_type": "code",
   "execution_count": 26,
   "id": "a5e8c94b-de62-4ef5-8eba-81259d83dd3d",
   "metadata": {},
   "outputs": [],
   "source": [
    "class lecture:\n",
    "    def topic(self):\n",
    "        print(\"todays class we are discussing about inheritance condept in oops\")\n",
    "        \n",
    "    def timing(self):\n",
    "        print(\"timing for todays class is 9 AM IST\")\n",
    "        \n",
    "    def end_time(self):\n",
    "        print(\"today i will try to end class bit early\")"
   ]
  },
  {
   "cell_type": "code",
   "execution_count": 27,
   "id": "2007141c-1b71-4cd4-9bed-a3cd8d851baa",
   "metadata": {},
   "outputs": [],
   "source": [
    "class student:\n",
    "    \n",
    "    def student_details(self):\n",
    "        print(\"this class will give you a student details\")\n",
    "        \n",
    "    def timing(self):\n",
    "        print(\"this is a timing fun from student class\")\n",
    "        "
   ]
  },
  {
   "cell_type": "code",
   "execution_count": 28,
   "id": "272860d3-1fac-475b-8c09-0490069224bc",
   "metadata": {},
   "outputs": [],
   "source": [
    "class teacher(lecture,student):\n",
    "    def details(self):\n",
    "        print(\"this will give you a details about teacher\")"
   ]
  },
  {
   "cell_type": "code",
   "execution_count": 29,
   "id": "f4a9ae16-f0e3-4a4a-a003-38773611cd2a",
   "metadata": {},
   "outputs": [],
   "source": [
    "krish = teacher()"
   ]
  },
  {
   "cell_type": "code",
   "execution_count": 30,
   "id": "6dc85f37-219e-4c72-927c-9aebb550fea9",
   "metadata": {},
   "outputs": [
    {
     "name": "stdout",
     "output_type": "stream",
     "text": [
      "timing for todays class is 9 AM IST\n"
     ]
    }
   ],
   "source": [
    "krish.timing()"
   ]
  },
  {
   "cell_type": "code",
   "execution_count": 37,
   "id": "8bcbac88-9172-4a31-a191-9c4b9a1c6eac",
   "metadata": {},
   "outputs": [
    {
     "name": "stdout",
     "output_type": "stream",
     "text": [
      "this class will give you a student details\n"
     ]
    }
   ],
   "source": [
    "krish.student_details()"
   ]
  },
  {
   "cell_type": "markdown",
   "id": "86b47d4f-860e-4702-83a0-0145887ab41a",
   "metadata": {},
   "source": [
    "Problem 1: Bank Account Create a class representing a bank account with attributes like account number, account holder name, and balance. Implement methods to deposit and withdraw money from the account.\n",
    "\n",
    "Problem 2: Employee Management Create a class representing an employee with attributes like employee ID, name, and salary. Implement methods to calculate the yearly bonus and display employee details.\n",
    "\n",
    "Problem 3: Vehicle Rental Create a class representing a vehicle rental system. Implement methods to rent a vehicle, return a vehicle, and display available vehicles.\n",
    "\n",
    "Problem 4: Library Catalog Create classes representing a library and a book. Implement methods to add books to the library, borrow books, and display available books.\n",
    "\n",
    "Problem 5: Product Inventory Create classes representing a product and an inventory system. Implement methods to add products to the inventory, update product quantity, and display available products.\n",
    "\n",
    "Problem 6: Shape Calculation Create a class representing a shape with attributes like length, width, and height. Implement methods to calculate the area and perimeter of the shape.\n",
    "\n",
    "Problem 7: Student Management Create a class representing a student with attributes like student ID, name, and grades. Implement methods to calculate the average grade and display student details.\n",
    "\n",
    "Problem 8: Email Management Create a class representing an email with attributes like sender, recipient, and subject. Implement methods to send an email and display email details.\n",
    "\n",
    "Problem 9: Social Media Profile Create a class representing a social media profile with attributes like username and posts. Implement methods to add posts, display posts, and search for posts by keyword.\n",
    "\n",
    "Problem 10: ToDo List Create a class representing a ToDo list with attributes like tasks and due dates. Implement methods to add tasks, mark tasks as completed, and display pending tasks."
   ]
  },
  {
   "cell_type": "markdown",
   "id": "4a02addc-981c-45ac-915b-aeb3657eeb28",
   "metadata": {},
   "source": [
    "Problem 1: Bank Account Create a class representing a bank account with attributes like account number, account holder name, and balance. Implement methods to deposit and withdraw money from the account."
   ]
  },
  {
   "cell_type": "code",
   "execution_count": 2,
   "id": "58b08cd5-17ee-4429-983b-6b43575873e8",
   "metadata": {},
   "outputs": [
    {
     "name": "stdout",
     "output_type": "stream",
     "text": [
      "Account Number: 1234567890, Account Holder: Rizwan, Balance: 1000.0\n",
      "Deposited 500. New balance: 1500.0\n",
      "Withdrew 200. New balance: 1300.0\n",
      "Account Number: 1234567890, Account Holder: Rizwan, Balance: 1300.0\n"
     ]
    }
   ],
   "source": [
    "class BankAccount:\n",
    "    def __init__(self, account_number, account_holder_name, balance=0.0):\n",
    "        self.account_number = account_number\n",
    "        self.account_holder_name = account_holder_name\n",
    "        self.balance = balance\n",
    "\n",
    "    def deposit(self, amount):\n",
    "        if amount > 0:\n",
    "            self.balance += amount\n",
    "            print(f\"Deposited {amount}. New balance: {self.balance}\")\n",
    "        else:\n",
    "            print(\"Invalid deposit amount. Amount must be greater than 0.\")\n",
    "\n",
    "    def withdraw(self, amount):\n",
    "        if 0 < amount <= self.balance:\n",
    "            self.balance -= amount\n",
    "            print(f\"Withdrew {amount}. New balance: {self.balance}\")\n",
    "        else:\n",
    "            print(\"Invalid withdrawal amount or insufficient balance.\")\n",
    "\n",
    "    def get_balance(self):\n",
    "        return self.balance\n",
    "\n",
    "    def __str__(self):\n",
    "        return f\"Account Number: {self.account_number}, Account Holder: {self.account_holder_name}, Balance: {self.balance}\"\n",
    "\n",
    "# Example usage:\n",
    "if __name__ == \"__main__\":\n",
    "    # Create a bank account\n",
    "    account = BankAccount(\"1234567890\", \"Rizwan\", 1000.0)\n",
    "\n",
    "    print(account)  # Display initial account information\n",
    "\n",
    "    account.deposit(500)  # Deposit 500\n",
    "    account.withdraw(200)  # Withdraw 200\n",
    "\n",
    "    print(account)  # Display updated account information\n"
   ]
  },
  {
   "cell_type": "code",
   "execution_count": null,
   "id": "1f6302d7-5e09-492a-b9e8-5069483919be",
   "metadata": {},
   "outputs": [],
   "source": []
  },
  {
   "cell_type": "markdown",
   "id": "7b613ec4-5986-4bc1-849d-f5a53d7017ba",
   "metadata": {},
   "source": [
    "Problem 2: Employee Management Create a class representing an employee with attributes like employee ID, name, and salary. Implement methods to calculate the yearly bonus and display employee details."
   ]
  },
  {
   "cell_type": "code",
   "execution_count": 8,
   "id": "3cdac812-7bcf-4d12-a177-17d1aa001e4b",
   "metadata": {},
   "outputs": [],
   "source": [
    "class Employee:\n",
    "    def __init__(self, employee_id, name, salary):\n",
    "        self.employee_id = employee_id\n",
    "        self.name = name\n",
    "        self.salary = salary\n",
    "\n",
    "    def calculate_yearly_bonus(self, bonus_percentage):\n",
    "        if 0 <= bonus_percentage <= 100:\n",
    "            bonus = (bonus_percentage / 100) * self.salary\n",
    "            return bonus\n",
    "        else:\n",
    "            return 0\n",
    "\n",
    "    def display_details(self):\n",
    "        print(f\"Employee ID: {self.employee_id}\")\n",
    "        print(f\"Name: {self.name}\")\n",
    "        print(f\"Salary: {self.salary:.2f}\")\n",
    "\n",
    "# Example usage:\n",
    "if __name__ == \"__main\":\n",
    "    # Create an employee\n",
    "    employee = Employee(\"E12345\", \"Rizwan\", 50000.0)\n",
    "\n",
    "    # Display employee details\n",
    "    employee.display_details()\n",
    "\n",
    "    # Calculate and display the yearly bonus (10% bonus in this case)\n",
    "    bonus_percentage = 10\n",
    "    bonus = employee.calculate_yearly_bonus(bonus_percentage)\n",
    "    print(f\"Yearly Bonus: {bonus:.2f}\")\n"
   ]
  },
  {
   "cell_type": "code",
   "execution_count": 10,
   "id": "3262af7c-77a8-45e1-a96a-8f9f3f844093",
   "metadata": {},
   "outputs": [
    {
     "name": "stdout",
     "output_type": "stream",
     "text": [
      "Employee ID: E12345\n",
      "Name: Rizwan\n",
      "Salary: 50000.00\n",
      "Yearly Bonus: 5000.00\n"
     ]
    }
   ],
   "source": [
    "# Create an Employee object\n",
    "employee = Employee(\"E12345\", \"Rizwan\", 50000.0)\n",
    "\n",
    "# Display employee details\n",
    "employee.display_details()\n",
    "\n",
    "# Calculate and display the yearly bonus (10% bonus in this case)\n",
    "bonus_percentage = 10\n",
    "bonus = employee.calculate_yearly_bonus(bonus_percentage)\n",
    "print(f\"Yearly Bonus: {bonus:.2f}\")\n"
   ]
  },
  {
   "cell_type": "code",
   "execution_count": null,
   "id": "95f0ccfc-eef4-4287-844d-46337abb3a56",
   "metadata": {},
   "outputs": [],
   "source": []
  },
  {
   "cell_type": "markdown",
   "id": "8ddaf7f8-2bcb-4656-9ecf-f99e0c1e777a",
   "metadata": {},
   "source": [
    "Problem 3: Vehicle Rental Create a class representing a vehicle rental system. Implement methods to rent a vehicle, return a vehicle, and display available vehicles."
   ]
  },
  {
   "cell_type": "code",
   "execution_count": 36,
   "id": "5a4322f8-e0da-412c-b0d6-8f13607cba43",
   "metadata": {},
   "outputs": [
    {
     "name": "stdout",
     "output_type": "stream",
     "text": [
      "Available Vehicles:\n",
      "ID: V001, Name: Car\n",
      "ID: V002, Name: Bike\n",
      "ID: V003, Name: Scooter\n",
      "John Doe has rented John Doe (ID: V001).\n",
      "Available Vehicles:\n",
      "ID: V002, Name: Bike\n",
      "ID: V003, Name: Scooter\n",
      "John Doe has returned John Doe (ID: V001).\n",
      "Available Vehicles:\n",
      "ID: V002, Name: Bike\n",
      "ID: V003, Name: Scooter\n",
      "ID: V001, Name: John Doe\n"
     ]
    }
   ],
   "source": [
    "class VehicleRentalSystem:\n",
    "    def __init__(self):\n",
    "        self.available_vehicles = {}\n",
    "        self.rented_vehicles = {}\n",
    "\n",
    "    def add_vehicle(self, vehicle_id, vehicle_name):\n",
    "        self.available_vehicles[vehicle_id] = vehicle_name\n",
    "\n",
    "    def rent_vehicle(self, vehicle_id, renter_name):\n",
    "        if vehicle_id in self.available_vehicles:\n",
    "            self.rented_vehicles[vehicle_id] = renter_name\n",
    "            del self.available_vehicles[vehicle_id]\n",
    "            print(f\"{renter_name} has rented {self.rented_vehicles[vehicle_id]} (ID: {vehicle_id}).\")\n",
    "        else:\n",
    "            print(f\"Vehicle with ID {vehicle_id} is not available for rent.\")\n",
    "\n",
    "    def return_vehicle(self, vehicle_id):\n",
    "        if vehicle_id in self.rented_vehicles:\n",
    "            renter_name = self.rented_vehicles[vehicle_id]\n",
    "            del self.rented_vehicles[vehicle_id]\n",
    "            self.available_vehicles[vehicle_id] = renter_name\n",
    "            print(f\"{renter_name} has returned {self.available_vehicles[vehicle_id]} (ID: {vehicle_id}).\")\n",
    "        else:\n",
    "            print(f\"Vehicle with ID {vehicle_id} was not rented or is not in the system.\")\n",
    "\n",
    "    def display_available_vehicles(self):\n",
    "        print(\"Available Vehicles:\")\n",
    "        for vehicle_id, vehicle_name in self.available_vehicles.items():\n",
    "            print(f\"ID: {vehicle_id}, Name: {vehicle_name}\")\n",
    "\n",
    "# Example usage:\n",
    "if __name__ == \"__main__\":\n",
    "    rental_system = VehicleRentalSystem()\n",
    "\n",
    "    # Add vehicles to the system\n",
    "    rental_system.add_vehicle(\"V001\", \"Car\")\n",
    "    rental_system.add_vehicle(\"V002\", \"Bike\")\n",
    "    rental_system.add_vehicle(\"V003\", \"Scooter\")\n",
    "\n",
    "    # Display available vehicles\n",
    "    rental_system.display_available_vehicles()\n",
    "\n",
    "    # Rent a vehicle\n",
    "    rental_system.rent_vehicle(\"V001\", \"John Doe\")\n",
    "\n",
    "    # Display available vehicles after renting\n",
    "    rental_system.display_available_vehicles()\n",
    "\n",
    "    # Return a vehicle\n",
    "    rental_system.return_vehicle(\"V001\")\n",
    "\n",
    "    # Display available vehicles after returning\n",
    "    rental_system.display_available_vehicles()\n"
   ]
  },
  {
   "cell_type": "code",
   "execution_count": null,
   "id": "e147a693-90db-45c5-86e5-603158077ba2",
   "metadata": {},
   "outputs": [],
   "source": []
  },
  {
   "cell_type": "markdown",
   "id": "1bd56f86-c2fa-4a56-958c-00839e44ccc6",
   "metadata": {},
   "source": [
    "Problem 4: Library Catalog Create classes representing a library and a book. Implement methods to add books to the library, borrow books, and display available books."
   ]
  },
  {
   "cell_type": "code",
   "execution_count": 37,
   "id": "ba1750fc-76dd-4ffe-839e-f217110bb278",
   "metadata": {},
   "outputs": [
    {
     "name": "stdout",
     "output_type": "stream",
     "text": [
      "Available Books:\n",
      "Book ID: B001, Title: The Great Gatsby, Author: F. Scott Fitzgerald, Status: Available\n",
      "Book ID: B002, Title: To Kill a Mockingbird, Author: Harper Lee, Status: Available\n",
      "Book ID: B003, Title: 1984, Author: George Orwell, Status: Available\n",
      "John Doe has borrowed 'The Great Gatsby' by F. Scott Fitzgerald.\n",
      "Available Books:\n",
      "Book ID: B002, Title: To Kill a Mockingbird, Author: Harper Lee, Status: Available\n",
      "Book ID: B003, Title: 1984, Author: George Orwell, Status: Available\n",
      "'The Great Gatsby' is already borrowed by someone else.\n",
      "Available Books:\n",
      "Book ID: B002, Title: To Kill a Mockingbird, Author: Harper Lee, Status: Available\n",
      "Book ID: B003, Title: 1984, Author: George Orwell, Status: Available\n"
     ]
    }
   ],
   "source": [
    "class Book:\n",
    "    def __init__(self, title, author):\n",
    "        self.title = title\n",
    "        self.author = author\n",
    "        self.available = True\n",
    "\n",
    "    def __str__(self):\n",
    "        availability = \"Available\" if self.available else \"Borrowed\"\n",
    "        return f\"Title: {self.title}, Author: {self.author}, Status: {availability}\"\n",
    "\n",
    "\n",
    "class Library:\n",
    "    def __init__(self):\n",
    "        self.books = {}\n",
    "\n",
    "    def add_book(self, book_id, title, author):\n",
    "        book = Book(title, author)\n",
    "        self.books[book_id] = book\n",
    "\n",
    "    def borrow_book(self, book_id, borrower_name):\n",
    "        if book_id in self.books:\n",
    "            book = self.books[book_id]\n",
    "            if book.available:\n",
    "                book.available = False\n",
    "                print(f\"{borrower_name} has borrowed '{book.title}' by {book.author}.\")\n",
    "            else:\n",
    "                print(f\"'{book.title}' is already borrowed by someone else.\")\n",
    "        else:\n",
    "            print(\"Book not found in the library catalog.\")\n",
    "\n",
    "    def display_available_books(self):\n",
    "        print(\"Available Books:\")\n",
    "        for book_id, book in self.books.items():\n",
    "            if book.available:\n",
    "                print(f\"Book ID: {book_id}, {book}\")\n",
    "\n",
    "# Example usage:\n",
    "if __name__ == \"__main__\":\n",
    "    library = Library()\n",
    "\n",
    "    # Add books to the library\n",
    "    library.add_book(\"B001\", \"The Great Gatsby\", \"F. Scott Fitzgerald\")\n",
    "    library.add_book(\"B002\", \"To Kill a Mockingbird\", \"Harper Lee\")\n",
    "    library.add_book(\"B003\", \"1984\", \"George Orwell\")\n",
    "\n",
    "    # Display available books\n",
    "    library.display_available_books()\n",
    "\n",
    "    # Borrow a book\n",
    "    library.borrow_book(\"B001\", \"John Doe\")\n",
    "\n",
    "    # Display available books after borrowing\n",
    "    library.display_available_books()\n",
    "\n",
    "    # Borrow a book that is already borrowed\n",
    "    library.borrow_book(\"B001\", \"Alice Smith\")\n",
    "\n",
    "    # Display available books after trying to borrow a borrowed book\n",
    "    library.display_available_books()\n"
   ]
  },
  {
   "cell_type": "code",
   "execution_count": null,
   "id": "5c65d3fe-1bb4-44a1-a896-45c56e62afd4",
   "metadata": {},
   "outputs": [],
   "source": []
  },
  {
   "cell_type": "markdown",
   "id": "5b0c1896-0819-44e1-bb4b-930a3846b182",
   "metadata": {},
   "source": [
    "Problem 5: Product Inventory Create classes representing a product and an inventory system. Implement methods to add products to the inventory, update product quantity, and display available products."
   ]
  },
  {
   "cell_type": "code",
   "execution_count": 38,
   "id": "2e0e70d6-4689-4b18-9f46-eccc2f469852",
   "metadata": {},
   "outputs": [
    {
     "name": "stdout",
     "output_type": "stream",
     "text": [
      "Available Products:\n",
      "Product ID: P001, Name: Laptop, Price: $1000.00, Quantity: 10\n",
      "Product ID: P002, Name: Smartphone, Price: $500.00, Quantity: 20\n",
      "Product ID: P003, Name: Tablet, Price: $300.00, Quantity: 15\n",
      "Updated quantity for 'Laptop' to 5.\n",
      "Available Products:\n",
      "Product ID: P001, Name: Laptop, Price: $1000.00, Quantity: 5\n",
      "Product ID: P002, Name: Smartphone, Price: $500.00, Quantity: 20\n",
      "Product ID: P003, Name: Tablet, Price: $300.00, Quantity: 15\n"
     ]
    }
   ],
   "source": [
    "class Product:\n",
    "    def __init__(self, product_id, name, price, quantity):\n",
    "        self.product_id = product_id\n",
    "        self.name = name\n",
    "        self.price = price\n",
    "        self.quantity = quantity\n",
    "\n",
    "    def __str__(self):\n",
    "        return f\"Product ID: {self.product_id}, Name: {self.name}, Price: ${self.price:.2f}, Quantity: {self.quantity}\"\n",
    "\n",
    "\n",
    "class InventorySystem:\n",
    "    def __init__(self):\n",
    "        self.products = {}\n",
    "\n",
    "    def add_product(self, product_id, name, price, quantity):\n",
    "        product = Product(product_id, name, price, quantity)\n",
    "        self.products[product_id] = product\n",
    "\n",
    "    def update_quantity(self, product_id, new_quantity):\n",
    "        if product_id in self.products:\n",
    "            product = self.products[product_id]\n",
    "            product.quantity = new_quantity\n",
    "            print(f\"Updated quantity for '{product.name}' to {new_quantity}.\")\n",
    "        else:\n",
    "            print(\"Product not found in the inventory.\")\n",
    "\n",
    "    def display_available_products(self):\n",
    "        print(\"Available Products:\")\n",
    "        for product_id, product in self.products.items():\n",
    "            print(product)\n",
    "\n",
    "# Example usage:\n",
    "if __name__ == \"__main__\":\n",
    "    inventory_system = InventorySystem()\n",
    "\n",
    "    # Add products to the inventory\n",
    "    inventory_system.add_product(\"P001\", \"Laptop\", 1000.0, 10)\n",
    "    inventory_system.add_product(\"P002\", \"Smartphone\", 500.0, 20)\n",
    "    inventory_system.add_product(\"P003\", \"Tablet\", 300.0, 15)\n",
    "\n",
    "    # Display available products\n",
    "    inventory_system.display_available_products()\n",
    "\n",
    "    # Update the quantity of a product\n",
    "    inventory_system.update_quantity(\"P001\", 5)\n",
    "\n",
    "    # Display available products after updating the quantity\n",
    "    inventory_system.display_available_products()\n"
   ]
  },
  {
   "cell_type": "code",
   "execution_count": null,
   "id": "cde37065-79a0-42ec-8f3d-f4f93f82a4eb",
   "metadata": {},
   "outputs": [],
   "source": []
  },
  {
   "cell_type": "markdown",
   "id": "fdea58e8-52e2-4474-acfa-efedd09ad60a",
   "metadata": {},
   "source": [
    "roblem 6: Shape Calculation Create a class representing a shape with attributes like length, width, and height. Implement methods to calculate the area and perimeter of the shape."
   ]
  },
  {
   "cell_type": "code",
   "execution_count": 39,
   "id": "7cb1863c-5b3f-44c1-ab4b-b611a69cc9ab",
   "metadata": {},
   "outputs": [
    {
     "name": "stdout",
     "output_type": "stream",
     "text": [
      "Rectangle - Area: 15, Perimeter: 16\n",
      "Cube - Surface Area: 96, Total Edge Length: 48\n"
     ]
    }
   ],
   "source": [
    "class Shape:\n",
    "    def __init__(self, length=0, width=0, height=0):\n",
    "        self.length = length\n",
    "        self.width = width\n",
    "        self.height = height\n",
    "\n",
    "    def calculate_area(self):\n",
    "        if self.height == 0:\n",
    "            # Assuming it's a 2D shape (rectangle or square)\n",
    "            return self.length * self.width\n",
    "        else:\n",
    "            # Assuming it's a 3D shape (cube or rectangular prism)\n",
    "            return 2 * (self.length * self.width + self.length * self.height + self.width * self.height)\n",
    "\n",
    "    def calculate_perimeter(self):\n",
    "        if self.height == 0:\n",
    "            # Assuming it's a 2D shape (rectangle or square)\n",
    "            return 2 * (self.length + self.width)\n",
    "        else:\n",
    "            # Assuming it's a 3D shape (cube or rectangular prism)\n",
    "            return 4 * (self.length + self.width + self.height)\n",
    "\n",
    "# Example usage:\n",
    "if __name__ == \"__main__\":\n",
    "    # Create a shape (2D - Rectangle)\n",
    "    rectangle = Shape(length=5, width=3)\n",
    "    area = rectangle.calculate_area()\n",
    "    perimeter = rectangle.calculate_perimeter()\n",
    "    print(f\"Rectangle - Area: {area}, Perimeter: {perimeter}\")\n",
    "\n",
    "    # Create a shape (3D - Cube)\n",
    "    cube = Shape(length=4, width=4, height=4)\n",
    "    area = cube.calculate_area()\n",
    "    perimeter = cube.calculate_perimeter()\n",
    "    print(f\"Cube - Surface Area: {area}, Total Edge Length: {perimeter}\")\n"
   ]
  },
  {
   "cell_type": "code",
   "execution_count": null,
   "id": "b3831f86-1d14-445e-9543-f5fc22a3f299",
   "metadata": {},
   "outputs": [],
   "source": []
  },
  {
   "cell_type": "markdown",
   "id": "c45f1ca3-bd51-4eaa-9264-fed9cfbeb375",
   "metadata": {},
   "source": [
    "Problem 7: Student Management Create a class representing a student with attributes like student ID, name, and grades. Implement methods to calculate the average grade and display student details.\n"
   ]
  },
  {
   "cell_type": "code",
   "execution_count": 40,
   "id": "531c73a8-9841-46a7-8958-52e9aa18b7d1",
   "metadata": {},
   "outputs": [
    {
     "name": "stdout",
     "output_type": "stream",
     "text": [
      "Student ID: S12345\n",
      "Name: John Doe\n",
      "Grades: 85, 92, 78\n",
      "Average Grade: 85.00\n"
     ]
    }
   ],
   "source": [
    "class Student:\n",
    "    def __init__(self, student_id, name):\n",
    "        self.student_id = student_id\n",
    "        self.name = name\n",
    "        self.grades = []\n",
    "\n",
    "    def add_grade(self, grade):\n",
    "        self.grades.append(grade)\n",
    "\n",
    "    def calculate_average_grade(self):\n",
    "        if not self.grades:\n",
    "            return 0.0  # Return 0 if no grades are available.\n",
    "        return sum(self.grades) / len(self.grades)\n",
    "\n",
    "    def display_details(self):\n",
    "        print(f\"Student ID: {self.student_id}\")\n",
    "        print(f\"Name: {self.name}\")\n",
    "        print(f\"Grades: {', '.join(map(str, self.grades))}\")\n",
    "        print(f\"Average Grade: {self.calculate_average_grade():.2f}\")\n",
    "\n",
    "# Example usage:\n",
    "if __name__ == \"__main__\":\n",
    "    # Create a student\n",
    "    student = Student(\"S12345\", \"John Doe\")\n",
    "\n",
    "    # Add grades\n",
    "    student.add_grade(85)\n",
    "    student.add_grade(92)\n",
    "    student.add_grade(78)\n",
    "\n",
    "    # Display student details and average grade\n",
    "    student.display_details()\n"
   ]
  },
  {
   "cell_type": "code",
   "execution_count": null,
   "id": "424c67a9-459d-4b80-b80c-8f0ea8c940f6",
   "metadata": {},
   "outputs": [],
   "source": []
  },
  {
   "cell_type": "markdown",
   "id": "85ffc29d-5317-48d4-89d3-50cf40051ca8",
   "metadata": {},
   "source": [
    "Problem 8: Email Management Create a class representing an email with attributes like sender, recipient, and subject. Implement methods to send an email and display email details."
   ]
  },
  {
   "cell_type": "code",
   "execution_count": 41,
   "id": "a8b3760f-99d8-4cd9-b42f-aae2187d8e8c",
   "metadata": {},
   "outputs": [
    {
     "name": "stdout",
     "output_type": "stream",
     "text": [
      "Email Details:\n",
      "Sender: sender@example.com\n",
      "Recipient: recipient@example.com\n",
      "Subject: Regarding the Project\n",
      "Message: Hi, here are the project details.\n",
      "Status: Draft\n",
      "Email Details:\n",
      "Sender: sender@example.com\n",
      "Recipient: recipient@example.com\n",
      "Subject: Regarding the Project\n",
      "Message: Hi, here are the project details.\n",
      "Status: Sent\n"
     ]
    }
   ],
   "source": [
    "class Email:\n",
    "    def __init__(self, sender, recipient, subject, message):\n",
    "        self.sender = sender\n",
    "        self.recipient = recipient\n",
    "        self.subject = subject\n",
    "        self.message = message\n",
    "        self.sent = False\n",
    "\n",
    "    def send_email(self):\n",
    "        # Simulate sending the email\n",
    "        # You can implement the actual email sending functionality here.\n",
    "        self.sent = True\n",
    "\n",
    "    def display_details(self):\n",
    "        print(\"Email Details:\")\n",
    "        print(f\"Sender: {self.sender}\")\n",
    "        print(f\"Recipient: {self.recipient}\")\n",
    "        print(f\"Subject: {self.subject}\")\n",
    "        print(f\"Message: {self.message}\")\n",
    "        if self.sent:\n",
    "            print(\"Status: Sent\")\n",
    "        else:\n",
    "            print(\"Status: Draft\")\n",
    "\n",
    "# Example usage:\n",
    "if __name__ == \"__main__\":\n",
    "    # Create an email\n",
    "    email = Email(\"sender@example.com\", \"recipient@example.com\", \"Regarding the Project\", \"Hi, here are the project details.\")\n",
    "\n",
    "    # Display email details\n",
    "    email.display_details()\n",
    "\n",
    "    # Send the email\n",
    "    email.send_email()\n",
    "\n",
    "    # Display email details after sending\n",
    "    email.display_details()\n"
   ]
  },
  {
   "cell_type": "code",
   "execution_count": null,
   "id": "83f59185-50a2-4df5-a5c9-2b57b91df1bd",
   "metadata": {},
   "outputs": [],
   "source": []
  },
  {
   "cell_type": "markdown",
   "id": "2d9d1e85-195e-4bd9-8d2d-a829691c46a2",
   "metadata": {},
   "source": [
    "Problem 9: Social Media Profile Create a class representing a social media profile with attributes like username and posts. Implement methods to add posts, display posts, and search for posts by keyword."
   ]
  },
  {
   "cell_type": "code",
   "execution_count": 42,
   "id": "fffa3d2f-b417-45ef-9e5a-8813dfe3cf60",
   "metadata": {},
   "outputs": [
    {
     "name": "stdout",
     "output_type": "stream",
     "text": [
      "user123's Posts:\n",
      "1. Enjoying a beautiful day at the park.\n",
      "2. Trying out a new recipe for dinner.\n",
      "3. Hiking in the mountains this weekend.\n",
      "No posts by user123 containing 'hiking' found.\n"
     ]
    }
   ],
   "source": [
    "class SocialMediaProfile:\n",
    "    def __init__(self, username):\n",
    "        self.username = username\n",
    "        self.posts = []\n",
    "\n",
    "    def add_post(self, content):\n",
    "        self.posts.append(content)\n",
    "\n",
    "    def display_posts(self):\n",
    "        if not self.posts:\n",
    "            print(f\"{self.username}'s profile has no posts yet.\")\n",
    "        else:\n",
    "            print(f\"{self.username}'s Posts:\")\n",
    "            for i, post in enumerate(self.posts, 1):\n",
    "                print(f\"{i}. {post}\")\n",
    "\n",
    "    def search_posts(self, keyword):\n",
    "        matching_posts = [post for post in self.posts if keyword in post]\n",
    "        if matching_posts:\n",
    "            print(f\"Posts by {self.username} containing '{keyword}':\")\n",
    "            for i, post in enumerate(matching_posts, 1):\n",
    "                print(f\"{i}. {post}\")\n",
    "        else:\n",
    "            print(f\"No posts by {self.username} containing '{keyword}' found.\")\n",
    "\n",
    "# Example usage:\n",
    "if __name__ == \"__main__\":\n",
    "    # Create a social media profile\n",
    "    profile = SocialMediaProfile(\"user123\")\n",
    "\n",
    "    # Add posts to the profile\n",
    "    profile.add_post(\"Enjoying a beautiful day at the park.\")\n",
    "    profile.add_post(\"Trying out a new recipe for dinner.\")\n",
    "    profile.add_post(\"Hiking in the mountains this weekend.\")\n",
    "\n",
    "    # Display posts on the profile\n",
    "    profile.display_posts()\n",
    "\n",
    "    # Search for posts with a keyword\n",
    "    keyword = \"hiking\"\n",
    "    profile.search_posts(keyword)\n"
   ]
  },
  {
   "cell_type": "code",
   "execution_count": null,
   "id": "db431557-3585-422f-8aae-05b1503238a0",
   "metadata": {},
   "outputs": [],
   "source": []
  },
  {
   "cell_type": "markdown",
   "id": "cc3f80ce-9bd1-495d-8792-e7137076dff2",
   "metadata": {},
   "source": [
    "Problem 10: ToDo List Create a class representing a ToDo list with attributes like tasks and due dates. Implement methods to add tasks, mark tasks as completed, and display pending tasks."
   ]
  },
  {
   "cell_type": "code",
   "execution_count": 43,
   "id": "8aec4ffe-7957-4b1f-9271-7c7b22171fb1",
   "metadata": {},
   "outputs": [
    {
     "name": "stdout",
     "output_type": "stream",
     "text": [
      "Pending Tasks:\n",
      "1. Task: Buy groceries (Due: 2023-10-25)\n",
      "2. Task: Finish the report (Due: 2023-10-28)\n",
      "3. Task: Call John (Due: 2023-10-26)\n",
      "Pending Tasks:\n",
      "1. Task: Finish the report (Due: 2023-10-28)\n",
      "2. Task: Call John (Due: 2023-10-26)\n"
     ]
    }
   ],
   "source": [
    "class ToDoList:\n",
    "    def __init__(self):\n",
    "        self.tasks = []\n",
    "\n",
    "    def add_task(self, task, due_date):\n",
    "        self.tasks.append({\"task\": task, \"due_date\": due_date, \"completed\": False})\n",
    "\n",
    "    def mark_task_completed(self, task_index):\n",
    "        if 0 <= task_index < len(self.tasks):\n",
    "            self.tasks[task_index][\"completed\"] = True\n",
    "        else:\n",
    "            print(\"Task index is out of range.\")\n",
    "\n",
    "    def display_pending_tasks(self):\n",
    "        pending_tasks = [task for task in self.tasks if not task[\"completed\"]]\n",
    "        if not pending_tasks:\n",
    "            print(\"No pending tasks.\")\n",
    "        else:\n",
    "            print(\"Pending Tasks:\")\n",
    "            for i, task in enumerate(pending_tasks, 1):\n",
    "                print(f\"{i}. Task: {task['task']} (Due: {task['due_date']})\")\n",
    "\n",
    "# Example usage:\n",
    "if __name__ == \"__main__\":\n",
    "    to_do_list = ToDoList()\n",
    "\n",
    "    # Add tasks to the list\n",
    "    to_do_list.add_task(\"Buy groceries\", \"2023-10-25\")\n",
    "    to_do_list.add_task(\"Finish the report\", \"2023-10-28\")\n",
    "    to_do_list.add_task(\"Call John\", \"2023-10-26\")\n",
    "\n",
    "    # Display pending tasks\n",
    "    to_do_list.display_pending_tasks()\n",
    "\n",
    "    # Mark a task as completed\n",
    "    to_do_list.mark_task_completed(0)\n",
    "\n",
    "    # Display pending tasks after marking one as completed\n",
    "    to_do_list.display_pending_tasks()\n"
   ]
  },
  {
   "cell_type": "code",
   "execution_count": null,
   "id": "b7c652ef-946a-4fc6-bfd7-b6be15eafd32",
   "metadata": {},
   "outputs": [],
   "source": []
  },
  {
   "cell_type": "code",
   "execution_count": null,
   "id": "9a45e47b-39bd-41b3-b362-812f37926873",
   "metadata": {},
   "outputs": [],
   "source": []
  }
 ],
 "metadata": {
  "kernelspec": {
   "display_name": "Python 3 (ipykernel)",
   "language": "python",
   "name": "python3"
  },
  "language_info": {
   "codemirror_mode": {
    "name": "ipython",
    "version": 3
   },
   "file_extension": ".py",
   "mimetype": "text/x-python",
   "name": "python",
   "nbconvert_exporter": "python",
   "pygments_lexer": "ipython3",
   "version": "3.10.8"
  }
 },
 "nbformat": 4,
 "nbformat_minor": 5
}
